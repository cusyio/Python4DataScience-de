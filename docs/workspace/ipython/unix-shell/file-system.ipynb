{
 "cells": [
  {
   "cell_type": "markdown",
   "id": "still-rehabilitation",
   "metadata": {},
   "source": [
    "# Navigieren durch Dateien und Verzeichnisse"
   ]
  },
  {
   "cell_type": "markdown",
   "id": "honey-proof",
   "metadata": {},
   "source": [
    "Zuerst wollen wir herausfinden, wo wir uns befinden, indem wir den Befehl `pwd` ausführen:"
   ]
  },
  {
   "cell_type": "code",
   "execution_count": 1,
   "id": "revolutionary-bulletin",
   "metadata": {},
   "outputs": [
    {
     "name": "stdout",
     "output_type": "stream",
     "text": [
      "/Users/veit/cusy/trn/jupyter-tutorial/docs/workspace/ipython/unix-shell\r\n"
     ]
    }
   ],
   "source": [
    "!pwd"
   ]
  },
  {
   "cell_type": "markdown",
   "id": "rotary-married",
   "metadata": {},
   "source": [
    "Hier ist die Antwort das iPython-Kapitel des Jupyter-Tutorials in meinem Home-Verzeichnis `/Users/veit`.\n",
    "\n",
    "Unter Windows sieht das Home-Verzeichnis aus wie `C:\\Documents and Settings\\veit` oder `C:\\Users\\veit` und unter Linux wie `/home/veit`.\n",
    "\n",
    "Um den Inhalt dieses Verzeichnisses zu sehen, können wir `ls` verwenden:"
   ]
  },
  {
   "cell_type": "markdown",
   "id": "cleared-china",
   "metadata": {},
   "source": [
    "To see the contents of our this directory, we can use `ls`:"
   ]
  },
  {
   "cell_type": "code",
   "execution_count": 2,
   "id": "perfect-courtesy",
   "metadata": {},
   "outputs": [
    {
     "name": "stdout",
     "output_type": "stream",
     "text": [
      "create-delete.ipynb   index.rst             shell-variables.ipynb\r\n",
      "file-system.ipynb     pipes-filters.ipynb\r\n",
      "grep-find.ipynb       regex.ipynb\r\n"
     ]
    }
   ],
   "source": [
    "!ls"
   ]
  },
  {
   "cell_type": "markdown",
   "id": "efficient-arkansas",
   "metadata": {},
   "source": [
    "* ein nachgestelltes `/` kennzeichnet ein Verzeichnis\n",
    "* `@` zeigt einen Link an\n",
    "* `*` steht für eine ausführbare Datei\n",
    "\n",
    "Abhängig von Euren Standardoptionen kann die Shell auch Farben verwenden, um anzuzeigen, ob ein Eintrag eine Datei oder ein Verzeichnis ist."
   ]
  },
  {
   "cell_type": "markdown",
   "id": "polish-thursday",
   "metadata": {},
   "source": [
    "## `ls`-Optionen und Argumente"
   ]
  },
  {
   "cell_type": "code",
   "execution_count": 3,
   "id": "major-spell",
   "metadata": {},
   "outputs": [
    {
     "name": "stdout",
     "output_type": "stream",
     "text": [
      "debugging.ipynb    extensions.rst     magics.ipynb       start.rst\r\n",
      "display.ipynb      importing.ipynb    \u001b[34mmypackage\u001b[m\u001b[m/         \u001b[34munix-shell\u001b[m\u001b[m/\r\n",
      "dvc.list           index.rst          shell.ipynb\r\n",
      "length.txt         sorted-length.txt\r\n"
     ]
    }
   ],
   "source": [
    "!ls -F ../"
   ]
  },
  {
   "cell_type": "markdown",
   "id": "numeric-arena",
   "metadata": {},
   "source": [
    "`ls` ist der Befehl, mit der Option `-F` und dem Argument `../`.\n",
    "\n",
    "* Optionen beginnen entweder mit einem einzelnen Bindestrich (`-`) oder zwei Bindestrichen (`--`) und ändern das Verhalten eines Befehls.\n",
    "* Argumente sagen dem Befehl, womit er operieren soll.\n",
    "* Optionen und Argumente werden manchmal auch als Parameter bezeichnet.\n",
    "* Jeder Teil wird durch Leerzeichen getrennt.\n",
    "* Auch die Großschreibung ist wichtig, z. B.\n",
    "  * `ls -s` zeigt neben den Namen auch die Größe der Dateien und Verzeichnisse an, während\n",
    "  * `ls -S` die Dateien und Verzeichnisse nach Größe sortiert."
   ]
  },
  {
   "cell_type": "code",
   "execution_count": 4,
   "id": "imperial-reflection",
   "metadata": {},
   "outputs": [
    {
     "name": "stdout",
     "output_type": "stream",
     "text": [
      "total 70384\r\n",
      "   24 create-delete.ipynb      16 pipes-filters.ipynb\r\n",
      "70288 file-system.ipynb         8 regex.ipynb\r\n",
      "   24 grep-find.ipynb          16 shell-variables.ipynb\r\n",
      "    8 index.rst\r\n"
     ]
    }
   ],
   "source": [
    "!ls -s"
   ]
  },
  {
   "cell_type": "code",
   "execution_count": 5,
   "id": "neutral-invite",
   "metadata": {},
   "outputs": [
    {
     "name": "stdout",
     "output_type": "stream",
     "text": [
      "file-system.ipynb     pipes-filters.ipynb   index.rst\r\n",
      "grep-find.ipynb       shell-variables.ipynb\r\n",
      "create-delete.ipynb   regex.ipynb\r\n"
     ]
    }
   ],
   "source": [
    "!ls -S"
   ]
  },
  {
   "cell_type": "markdown",
   "id": "cognitive-award",
   "metadata": {},
   "source": [
    "### Alle Optionen und Argumente anzeigen\n",
    "\n",
    "`ls` hat viele weitere Optionen, und mit `man` könnt Ihr Euch diese anzeigen lassen:"
   ]
  },
  {
   "cell_type": "code",
   "execution_count": 6,
   "id": "artificial-aspect",
   "metadata": {},
   "outputs": [
    {
     "name": "stdout",
     "output_type": "stream",
     "text": [
      "\r\n",
      "LS(1)                     BSD General Commands Manual                    LS(1)\r\n",
      "\r\n",
      "NAME\r\n",
      "     ls -- list directory contents\r\n",
      "\r\n",
      "SYNOPSIS\r\n",
      "     ls [-ABCFGHLOPRSTUW@abcdefghiklmnopqrstuwx1%] [file ...]\r\n",
      "\r\n",
      "DESCRIPTION\r\n",
      "     For each operand that names a file of a type other than directory, ls\r\n",
      "     displays its name as well as any requested, associated information.  For\r\n",
      "     each operand that names a file of type directory, ls displays the names\r\n",
      "     of files contained within that directory, as well as any requested, asso-\r\n",
      "     ciated information.\r\n",
      "\r\n",
      "     If no operands are given, the contents of the current directory are dis-\r\n",
      "     played.  If more than one operand is given, non-directory operands are\r\n",
      "     displayed first; directory and non-directory operands are sorted sepa-\r\n",
      "     rately and in lexicographical order.\r\n",
      "\r\n",
      "     The following options are available:\r\n",
      "\r\n",
      "     -@      Display extended attribute keys and sizes in long (-l) output.\r\n",
      "\r\n",
      "     -1      (The numeric digit ``one''.)  Force output to be one entry per\r\n",
      "             line.  This is the default when output is not to a terminal.\r\n",
      "\r\n",
      "     …\r\n",
      "BSD                              May 19, 2002                              BSD\r\n"
     ]
    }
   ],
   "source": [
    "!man ls"
   ]
  },
  {
   "cell_type": "markdown",
   "id": "manufactured-momentum",
   "metadata": {},
   "source": [
    "### Unzulässige Optionen\n",
    "\n",
    "Wenn Ihr versucht, eine Option zu verwenden, die nicht unterstützt wird, geben die Befehle normalerweise eine Fehlermeldung aus, z. B. für:"
   ]
  },
  {
   "cell_type": "code",
   "execution_count": 7,
   "id": "fuzzy-secondary",
   "metadata": {},
   "outputs": [
    {
     "name": "stdout",
     "output_type": "stream",
     "text": [
      "ls: illegal option -- z\r\n",
      "usage: ls [-@ABCFGHLOPRSTUWabcdefghiklmnopqrstuwx1%] [file ...]\r\n"
     ]
    }
   ],
   "source": [
    "!ls -z"
   ]
  },
  {
   "cell_type": "markdown",
   "id": "unavailable-giving",
   "metadata": {},
   "source": [
    "### Versteckte Dateien\n",
    "\n",
    "Mit der Option `-a` könn Ihr alle Dateien anzeigen:"
   ]
  },
  {
   "cell_type": "code",
   "execution_count": 8,
   "id": "intellectual-sense",
   "metadata": {},
   "outputs": [
    {
     "name": "stdout",
     "output_type": "stream",
     "text": [
      "\u001b[34m.\u001b[m\u001b[m                     file-system.ipynb     regex.ipynb\r\n",
      "\u001b[34m..\u001b[m\u001b[m                    grep-find.ipynb       shell-variables.ipynb\r\n",
      "\u001b[34m.ipynb_checkpoints\u001b[m\u001b[m    index.rst\r\n",
      "create-delete.ipynb   pipes-filters.ipynb\r\n"
     ]
    }
   ],
   "source": [
    "!ls -a"
   ]
  },
  {
   "cell_type": "markdown",
   "id": "cultural-ghana",
   "metadata": {},
   "source": [
    "Zusätzlich zu den versteckten Verzeichnissen `..` und `.` seht Ihr möglicherweise auch ein Verzeichnis namens `.ipynb_checkpoints`. Diese Datei enthält normalerweise Schnappschüsse der Jupyter-Notebooks."
   ]
  },
  {
   "cell_type": "markdown",
   "id": "latin-exclusive",
   "metadata": {},
   "source": [
    "## Verzeichnisbaum anzeigen"
   ]
  },
  {
   "cell_type": "code",
   "execution_count": 9,
   "id": "middle-stomach",
   "metadata": {},
   "outputs": [
    {
     "name": "stdout",
     "output_type": "stream",
     "text": [
      "\u001b[01;34m.\u001b[00m\r\n",
      "├── create-delete.ipynb\r\n",
      "├── file-system.ipynb\r\n",
      "├── grep-find.ipynb\r\n",
      "├── index.rst\r\n",
      "├── pipes-filters.ipynb\r\n",
      "├── regex.ipynb\r\n",
      "└── shell-variables.ipynb\r\n",
      "\r\n",
      "0 directories, 7 files\r\n"
     ]
    }
   ],
   "source": [
    "!tree"
   ]
  },
  {
   "cell_type": "markdown",
   "id": "divided-leone",
   "metadata": {},
   "source": [
    "## Verzeichnis wechseln\n",
    "\n",
    "Auf den ersten Blick mag für manche irritierend wirken, dass sie mit `!cd` nicht in ein anderes Verzeichnis wechseln können."
   ]
  },
  {
   "cell_type": "code",
   "execution_count": 10,
   "id": "moved-neutral",
   "metadata": {},
   "outputs": [
    {
     "name": "stdout",
     "output_type": "stream",
     "text": [
      "/Users/veit/cusy/trn/jupyter-tutorial/docs/workspace/ipython/unix-shell\r\n"
     ]
    }
   ],
   "source": [
    "!pwd"
   ]
  },
  {
   "cell_type": "code",
   "execution_count": 11,
   "id": "crude-toronto",
   "metadata": {},
   "outputs": [],
   "source": [
    "!cd .."
   ]
  },
  {
   "cell_type": "code",
   "execution_count": 12,
   "id": "detailed-canyon",
   "metadata": {},
   "outputs": [
    {
     "name": "stdout",
     "output_type": "stream",
     "text": [
      "/Users/veit/cusy/trn/jupyter-tutorial/docs/workspace/ipython/unix-shell\r\n"
     ]
    }
   ],
   "source": [
    "!pwd"
   ]
  },
  {
   "cell_type": "markdown",
   "id": "textile-eugene",
   "metadata": {},
   "source": [
    "Der Grund dafür ist, dass Jupyter eine temporäre Subshell verwendet. Wenn Sie dauerhaft in ein anderes Verzeichnis wechseln wollen, müsst Ihr den [magischen Befehl](../magics.ipynb) `%cd` verwenden."
   ]
  },
  {
   "cell_type": "code",
   "execution_count": 13,
   "id": "liable-afghanistan",
   "metadata": {},
   "outputs": [
    {
     "name": "stdout",
     "output_type": "stream",
     "text": [
      "/Users/veit/cusy/trn/jupyter-tutorial/docs/workspace/ipython\n"
     ]
    }
   ],
   "source": [
    "%cd .."
   ]
  },
  {
   "cell_type": "code",
   "execution_count": 14,
   "id": "written-camping",
   "metadata": {},
   "outputs": [
    {
     "name": "stdout",
     "output_type": "stream",
     "text": [
      "/Users/veit/cusy/trn/jupyter-tutorial/docs/workspace/ipython\r\n"
     ]
    }
   ],
   "source": [
    "!pwd"
   ]
  },
  {
   "cell_type": "markdown",
   "id": "divine-garbage",
   "metadata": {},
   "source": [
    "Mit der Funktion `%automagic` können diese auch ohne das vorangestellte `%`-Zeichen verwendet werden:"
   ]
  },
  {
   "cell_type": "code",
   "execution_count": 17,
   "id": "lonely-illness",
   "metadata": {},
   "outputs": [
    {
     "name": "stdout",
     "output_type": "stream",
     "text": [
      "\n",
      "Automagic is ON, % prefix IS NOT needed for line magics.\n"
     ]
    }
   ],
   "source": [
    "%automagic"
   ]
  },
  {
   "cell_type": "code",
   "execution_count": 18,
   "id": "mobile-cologne",
   "metadata": {},
   "outputs": [
    {
     "name": "stdout",
     "output_type": "stream",
     "text": [
      "/Users/veit/cusy/trn/jupyter-tutorial/docs/workspace\n"
     ]
    }
   ],
   "source": [
    "cd .."
   ]
  },
  {
   "cell_type": "markdown",
   "id": "enormous-music",
   "metadata": {},
   "source": [
    "### Absolute und relative Pfade"
   ]
  },
  {
   "cell_type": "code",
   "execution_count": 19,
   "id": "younger-pulse",
   "metadata": {},
   "outputs": [
    {
     "name": "stdout",
     "output_type": "stream",
     "text": [
      "/Users/veit/cusy/trn/jupyter-tutorial/docs/workspace\n"
     ]
    }
   ],
   "source": [
    "cd ."
   ]
  },
  {
   "cell_type": "code",
   "execution_count": 20,
   "id": "black-thursday",
   "metadata": {},
   "outputs": [
    {
     "name": "stdout",
     "output_type": "stream",
     "text": [
      "/Users/veit/cusy/trn/jupyter-tutorial\n"
     ]
    }
   ],
   "source": [
    "cd ../.."
   ]
  },
  {
   "cell_type": "code",
   "execution_count": 21,
   "id": "protective-plastic",
   "metadata": {},
   "outputs": [
    {
     "name": "stdout",
     "output_type": "stream",
     "text": [
      "/Users/veit/cusy/trn\n"
     ]
    }
   ],
   "source": [
    "cd .."
   ]
  },
  {
   "cell_type": "code",
   "execution_count": 22,
   "id": "expired-enough",
   "metadata": {},
   "outputs": [
    {
     "name": "stdout",
     "output_type": "stream",
     "text": [
      "/\n"
     ]
    }
   ],
   "source": [
    "cd /"
   ]
  },
  {
   "cell_type": "code",
   "execution_count": 23,
   "id": "tough-anchor",
   "metadata": {},
   "outputs": [
    {
     "name": "stdout",
     "output_type": "stream",
     "text": [
      "/Users/veit\n"
     ]
    }
   ],
   "source": [
    "cd"
   ]
  },
  {
   "cell_type": "code",
   "execution_count": 24,
   "id": "positive-orchestra",
   "metadata": {},
   "outputs": [
    {
     "name": "stdout",
     "output_type": "stream",
     "text": [
      "/Users/veit\n"
     ]
    }
   ],
   "source": [
    "cd ~"
   ]
  },
  {
   "cell_type": "code",
   "execution_count": 25,
   "id": "aggressive-hardware",
   "metadata": {},
   "outputs": [
    {
     "name": "stdout",
     "output_type": "stream",
     "text": [
      "/Users/veit\n"
     ]
    }
   ],
   "source": [
    "cd /Users/veit"
   ]
  }
 ],
 "metadata": {
  "kernelspec": {
   "display_name": "Python 3.7.4",
   "language": "python",
   "name": "python-373"
  },
  "language_info": {
   "codemirror_mode": {
    "name": "ipython",
    "version": 3
   },
   "file_extension": ".py",
   "mimetype": "text/x-python",
   "name": "python",
   "nbconvert_exporter": "python",
   "pygments_lexer": "ipython3",
   "version": "3.7.4"
  },
  "latex_envs": {
   "LaTeX_envs_menu_present": true,
   "autoclose": false,
   "autocomplete": true,
   "bibliofile": "biblio.bib",
   "cite_by": "apalike",
   "current_citInitial": 1,
   "eqLabelWithNumbers": true,
   "eqNumInitial": 1,
   "hotkeys": {
    "equation": "Ctrl-E",
    "itemize": "Ctrl-I"
   },
   "labels_anchors": false,
   "latex_user_defs": false,
   "report_style_numbering": false,
   "user_envs_cfg": false
  }
 },
 "nbformat": 4,
 "nbformat_minor": 5
}
