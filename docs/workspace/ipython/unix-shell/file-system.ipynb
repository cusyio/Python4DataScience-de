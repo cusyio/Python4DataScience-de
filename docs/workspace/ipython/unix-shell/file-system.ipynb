{
 "cells": [
  {
   "cell_type": "markdown",
   "id": "still-rehabilitation",
   "metadata": {},
   "source": [
    "# Navigieren durch Dateien und Verzeichnisse"
   ]
  },
  {
   "cell_type": "markdown",
   "id": "honey-proof",
   "metadata": {},
   "source": [
    "Zuerst wollen wir herausfinden, wo wir uns befinden, indem wir den Befehl `pwd` ausführen:"
   ]
  },
  {
   "cell_type": "code",
   "execution_count": 1,
   "id": "revolutionary-bulletin",
   "metadata": {},
   "outputs": [
    {
     "name": "stdout",
     "output_type": "stream",
     "text": [
      "/Users/veit/cusy/trn/Python4DataScience-de/docs/workspace/ipython/unix-shell\r\n"
     ]
    }
   ],
   "source": [
    "!pwd"
   ]
  },
  {
   "cell_type": "markdown",
   "id": "rotary-married",
   "metadata": {},
   "source": [
    "Hier ist die Antwort das iPython-Kapitel des Jupyter-Tutorials in meinem Home-Verzeichnis `/Users/veit`.\n",
    "\n",
    "Unter Windows sieht das Home-Verzeichnis aus wie `C:\\Documents and Settings\\veit` oder `C:\\Users\\veit` und unter Linux wie `/home/veit`.\n",
    "\n",
    "Um den Inhalt dieses Verzeichnisses zu sehen, können wir `ls` verwenden:"
   ]
  },
  {
   "cell_type": "markdown",
   "id": "cleared-china",
   "metadata": {},
   "source": [
    "To see the contents of our this directory, we can use `ls`:"
   ]
  },
  {
   "cell_type": "code",
   "execution_count": 2,
   "id": "perfect-courtesy",
   "metadata": {},
   "outputs": [
    {
     "name": "stdout",
     "output_type": "stream",
     "text": [
      "create-delete.ipynb   grep-find.ipynb       pipes-filters.ipynb\r\n",
      "file-system.ipynb     index.rst             shell-variables.ipynb\r\n"
     ]
    }
   ],
   "source": [
    "!ls"
   ]
  },
  {
   "cell_type": "markdown",
   "id": "efficient-arkansas",
   "metadata": {},
   "source": [
    "* ein nachgestelltes `/` kennzeichnet ein Verzeichnis\n",
    "* `@` zeigt einen Link an\n",
    "* `*` steht für eine ausführbare Datei\n",
    "\n",
    "Abhängig von euren Standardoptionen kann die Shell auch Farben verwenden, um anzuzeigen, ob ein Eintrag eine Datei oder ein Verzeichnis ist."
   ]
  },
  {
   "cell_type": "markdown",
   "id": "polish-thursday",
   "metadata": {},
   "source": [
    "## `ls`-Optionen und Argumente"
   ]
  },
  {
   "cell_type": "code",
   "execution_count": 3,
   "id": "major-spell",
   "metadata": {},
   "outputs": [
    {
     "name": "stdout",
     "output_type": "stream",
     "text": [
      "debugging.ipynb                  myscript.py\r\n",
      "display.ipynb                    shell.ipynb\r\n",
      "examples.ipynb                   start.rst\r\n",
      "extensions.rst                   \u001b[31mtab-completion-for-anything.png\u001b[m\u001b[m*\r\n",
      "importing.ipynb                  \u001b[31mtab-completion-for-modules.png\u001b[m\u001b[m*\r\n",
      "index.rst                        \u001b[31mtab-completion-for-objects.png\u001b[m\u001b[m*\r\n",
      "magics.ipynb                     \u001b[34munix-shell\u001b[m\u001b[m/\r\n",
      "\u001b[34mmypackage\u001b[m\u001b[m/\r\n"
     ]
    }
   ],
   "source": [
    "!ls -F ../"
   ]
  },
  {
   "cell_type": "markdown",
   "id": "numeric-arena",
   "metadata": {},
   "source": [
    "`ls` ist der Befehl, mit der Option `-F` und dem Argument `../`.\n",
    "\n",
    "* Optionen beginnen entweder mit einem einzelnen Bindestrich (`-`) oder zwei Bindestrichen (`--`) und ändern das Verhalten eines Befehls.\n",
    "* Argumente sagen dem Befehl, womit er operieren soll.\n",
    "* Optionen und Argumente werden manchmal auch als Parameter bezeichnet.\n",
    "* Jeder Teil wird durch Leerzeichen getrennt.\n",
    "* Auch die Großschreibung ist wichtig, z. B.\n",
    "  * `ls -s` zeigt neben den Namen auch die Größe der Dateien und Verzeichnisse an, während\n",
    "  * `ls -S` die Dateien und Verzeichnisse nach Größe sortiert."
   ]
  },
  {
   "cell_type": "code",
   "execution_count": 4,
   "id": "imperial-reflection",
   "metadata": {},
   "outputs": [
    {
     "name": "stdout",
     "output_type": "stream",
     "text": [
      "total 136\r\n",
      "24 create-delete.ipynb   40 grep-find.ipynb       16 pipes-filters.ipynb\r\n",
      "32 file-system.ipynb      8 index.rst             16 shell-variables.ipynb\r\n"
     ]
    }
   ],
   "source": [
    "!ls -s"
   ]
  },
  {
   "cell_type": "code",
   "execution_count": 5,
   "id": "neutral-invite",
   "metadata": {},
   "outputs": [
    {
     "name": "stdout",
     "output_type": "stream",
     "text": [
      "grep-find.ipynb       create-delete.ipynb   shell-variables.ipynb\r\n",
      "file-system.ipynb     pipes-filters.ipynb   index.rst\r\n"
     ]
    }
   ],
   "source": [
    "!ls -S"
   ]
  },
  {
   "cell_type": "markdown",
   "id": "cognitive-award",
   "metadata": {},
   "source": [
    "### Alle Optionen und Argumente anzeigen\n",
    "\n",
    "`ls` hat viele weitere Optionen, und mit `man` könnt ihr euch diese anzeigen lassen:"
   ]
  },
  {
   "cell_type": "code",
   "execution_count": 6,
   "id": "artificial-aspect",
   "metadata": {},
   "outputs": [
    {
     "name": "stdout",
     "output_type": "stream",
     "text": [
      "LS(1)                       General Commands Manual                      LS(1)\r\n",
      "\r\n",
      "N\bNA\bAM\bME\bE\r\n",
      "     l\bls\bs – list directory contents\r\n",
      "\r\n",
      "S\bSY\bYN\bNO\bOP\bPS\bSI\bIS\bS\r\n",
      "     l\bls\bs [-\b-@\b@A\bAB\bBC\bCF\bFG\bGH\bHI\bIL\bLO\bOP\bPR\bRS\bST\bTU\bUW\bWa\bab\bbc\bcd\bde\bef\bfg\bgh\bhi\bik\bkl\blm\bmn\bno\bop\bpq\bqr\brs\bst\btu\buv\bvw\bwx\bxy\by1\b1%\b%,\b,] [-\b--\b-c\bco\bol\blo\bor\br=_\bw_\bh_\be_\bn]\r\n",
      "        [-\b-D\bD _\bf_\bo_\br_\bm_\ba_\bt] [_\bf_\bi_\bl_\be _\b._\b._\b.]\r\n",
      "\r\n",
      "D\bDE\bES\bSC\bCR\bRI\bIP\bPT\bTI\bIO\bON\bN\r\n",
      "     For each operand that names a _\bf_\bi_\bl_\be of a type other than directory, l\bls\bs\r\n",
      "     displays its name as well as any requested, associated information.  For\r\n",
      "     each operand that names a _\bf_\bi_\bl_\be of type directory, l\bls\bs displays the names\r\n",
      "     of files contained within that directory, as well as any requested,\r\n",
      "     associated information.\r\n",
      "\r\n",
      "     If no operands are given, the contents of the current directory are\r\n",
      "     displayed.  If more than one operand is given, non-directory operands are\r\n",
      "     displayed first; directory and non-directory operands are sorted\r\n",
      "     separately and in lexicographical order.\r\n",
      "\r\n",
      "     The following options are available:\r\n",
      "\r\n",
      "     -\b-@\b@      Display extended attribute keys and sizes in long (-\b-l\bl) output.\r\n",
      "\r\n",
      "     -\b-A\bA      Include directory entries whose names begin with a dot (‘_\b.’)\r\n",
      "             except for _\b. and _\b._\b..  Automatically set for the super-user unless\r\n",
      "             -\b-I\bI is specified.\r\n",
      "\r\n",
      "     …\r\n",
      "\r\n",
      "macOS 13.4                      August 31, 2020                     macOS 13.4\r\n"
     ]
    }
   ],
   "source": [
    "!man ls"
   ]
  },
  {
   "cell_type": "markdown",
   "id": "manufactured-momentum",
   "metadata": {},
   "source": [
    "### Unzulässige Optionen\n",
    "\n",
    "Wenn ihr versucht, eine Option zu verwenden, die nicht unterstützt wird, geben die Befehle normalerweise eine Fehlermeldung aus, z. B. für:"
   ]
  },
  {
   "cell_type": "code",
   "execution_count": 7,
   "id": "fuzzy-secondary",
   "metadata": {},
   "outputs": [
    {
     "name": "stdout",
     "output_type": "stream",
     "text": [
      "ls: invalid option -- z\r\n",
      "usage: ls [-@ABCFGHILOPRSTUWabcdefghiklmnopqrstuvwxy1%,] [--color=when] [-D format] [file ...]\r\n"
     ]
    }
   ],
   "source": [
    "!ls -z"
   ]
  },
  {
   "cell_type": "markdown",
   "id": "unavailable-giving",
   "metadata": {},
   "source": [
    "### Versteckte Dateien\n",
    "\n",
    "Mit der Option `-a` könn ihr alle Dateien anzeigen:"
   ]
  },
  {
   "cell_type": "code",
   "execution_count": 8,
   "id": "intellectual-sense",
   "metadata": {},
   "outputs": [
    {
     "name": "stdout",
     "output_type": "stream",
     "text": [
      "\u001b[34m.\u001b[m\u001b[m                     create-delete.ipynb   index.rst\r\n",
      "\u001b[34m..\u001b[m\u001b[m                    file-system.ipynb     pipes-filters.ipynb\r\n",
      "\u001b[34m.ipynb_checkpoints\u001b[m\u001b[m    grep-find.ipynb       shell-variables.ipynb\r\n"
     ]
    }
   ],
   "source": [
    "!ls -a"
   ]
  },
  {
   "cell_type": "markdown",
   "id": "cultural-ghana",
   "metadata": {},
   "source": [
    "Zusätzlich zu den versteckten Verzeichnissen `..` und `.` seht ihr möglicherweise auch ein Verzeichnis namens `.ipynb_checkpoints`. Diese Datei enthält normalerweise Schnappschüsse der Jupyter-Notebooks."
   ]
  },
  {
   "cell_type": "markdown",
   "id": "latin-exclusive",
   "metadata": {},
   "source": [
    "## Verzeichnisbaum anzeigen"
   ]
  },
  {
   "cell_type": "code",
   "execution_count": 9,
   "id": "middle-stomach",
   "metadata": {},
   "outputs": [
    {
     "name": "stdout",
     "output_type": "stream",
     "text": [
      "\u001b[01;34m.\u001b[0m\r\n",
      "├── \u001b[00mcreate-delete.ipynb\u001b[0m\r\n",
      "├── \u001b[00mfile-system.ipynb\u001b[0m\r\n",
      "├── \u001b[00mgrep-find.ipynb\u001b[0m\r\n",
      "├── \u001b[00mindex.rst\u001b[0m\r\n",
      "├── \u001b[00mpipes-filters.ipynb\u001b[0m\r\n",
      "└── \u001b[00mshell-variables.ipynb\u001b[0m\r\n",
      "\r\n",
      "1 directory, 6 files\r\n"
     ]
    }
   ],
   "source": [
    "!tree"
   ]
  },
  {
   "cell_type": "markdown",
   "id": "divided-leone",
   "metadata": {},
   "source": [
    "## Verzeichnis wechseln\n",
    "\n",
    "Auf den ersten Blick mag für manche irritierend wirken, dass sie mit `!cd` nicht in ein anderes Verzeichnis wechseln können."
   ]
  },
  {
   "cell_type": "code",
   "execution_count": 10,
   "id": "moved-neutral",
   "metadata": {},
   "outputs": [
    {
     "name": "stdout",
     "output_type": "stream",
     "text": [
      "/Users/veit/cusy/trn/Python4DataScience-de/docs/workspace/ipython/unix-shell\r\n"
     ]
    }
   ],
   "source": [
    "!pwd"
   ]
  },
  {
   "cell_type": "code",
   "execution_count": 11,
   "id": "crude-toronto",
   "metadata": {},
   "outputs": [],
   "source": [
    "!cd .."
   ]
  },
  {
   "cell_type": "code",
   "execution_count": 12,
   "id": "detailed-canyon",
   "metadata": {},
   "outputs": [
    {
     "name": "stdout",
     "output_type": "stream",
     "text": [
      "/Users/veit/cusy/trn/Python4DataScience-de/docs/workspace/ipython/unix-shell\r\n"
     ]
    }
   ],
   "source": [
    "!pwd"
   ]
  },
  {
   "cell_type": "markdown",
   "id": "textile-eugene",
   "metadata": {},
   "source": [
    "Der Grund dafür ist, dass Jupyter eine temporäre Subshell verwendet. Wenn ihr dauerhaft in ein anderes Verzeichnis wechseln wollt, müsst ihr den [magischen Befehl](../magics.ipynb) `%cd` verwenden."
   ]
  },
  {
   "cell_type": "code",
   "execution_count": 13,
   "id": "liable-afghanistan",
   "metadata": {},
   "outputs": [
    {
     "name": "stdout",
     "output_type": "stream",
     "text": [
      "/Users/veit/cusy/trn/Python4DataScience-de/docs/workspace/ipython\n"
     ]
    }
   ],
   "source": [
    "%cd .."
   ]
  },
  {
   "cell_type": "code",
   "execution_count": 14,
   "id": "written-camping",
   "metadata": {},
   "outputs": [
    {
     "name": "stdout",
     "output_type": "stream",
     "text": [
      "/Users/veit/cusy/trn/Python4DataScience-de/docs/workspace/ipython\r\n"
     ]
    }
   ],
   "source": [
    "!pwd"
   ]
  },
  {
   "cell_type": "markdown",
   "id": "divine-garbage",
   "metadata": {},
   "source": [
    "Mit der Funktion `%automagic` können diese auch ohne das vorangestellte `%`-Zeichen verwendet werden:"
   ]
  },
  {
   "cell_type": "code",
   "execution_count": 16,
   "id": "lonely-illness",
   "metadata": {},
   "outputs": [
    {
     "name": "stdout",
     "output_type": "stream",
     "text": [
      "\n",
      "Automagic is ON, % prefix IS NOT needed for line magics.\n"
     ]
    }
   ],
   "source": [
    "%automagic"
   ]
  },
  {
   "cell_type": "code",
   "execution_count": 17,
   "id": "mobile-cologne",
   "metadata": {},
   "outputs": [
    {
     "name": "stdout",
     "output_type": "stream",
     "text": [
      "/Users/veit/cusy/trn/Python4DataScience-de/docs/workspace\n"
     ]
    }
   ],
   "source": [
    "cd .."
   ]
  },
  {
   "cell_type": "markdown",
   "id": "enormous-music",
   "metadata": {},
   "source": [
    "### Absolute und relative Pfade"
   ]
  },
  {
   "cell_type": "code",
   "execution_count": 18,
   "id": "younger-pulse",
   "metadata": {},
   "outputs": [
    {
     "name": "stdout",
     "output_type": "stream",
     "text": [
      "/Users/veit/cusy/trn/Python4DataScience-de/docs/workspace\n"
     ]
    }
   ],
   "source": [
    "cd ."
   ]
  },
  {
   "cell_type": "code",
   "execution_count": 19,
   "id": "black-thursday",
   "metadata": {},
   "outputs": [
    {
     "name": "stdout",
     "output_type": "stream",
     "text": [
      "/Users/veit/cusy/trn/Python4DataScience-de\n"
     ]
    }
   ],
   "source": [
    "cd ../.."
   ]
  },
  {
   "cell_type": "code",
   "execution_count": 20,
   "id": "protective-plastic",
   "metadata": {},
   "outputs": [
    {
     "name": "stdout",
     "output_type": "stream",
     "text": [
      "/Users/veit/cusy/trn\n"
     ]
    }
   ],
   "source": [
    "cd .."
   ]
  },
  {
   "cell_type": "code",
   "execution_count": 21,
   "id": "expired-enough",
   "metadata": {},
   "outputs": [
    {
     "name": "stdout",
     "output_type": "stream",
     "text": [
      "/\n"
     ]
    }
   ],
   "source": [
    "cd /"
   ]
  },
  {
   "cell_type": "code",
   "execution_count": 22,
   "id": "tough-anchor",
   "metadata": {},
   "outputs": [
    {
     "name": "stdout",
     "output_type": "stream",
     "text": [
      "/Users/veit\n"
     ]
    }
   ],
   "source": [
    "cd"
   ]
  },
  {
   "cell_type": "code",
   "execution_count": 23,
   "id": "positive-orchestra",
   "metadata": {},
   "outputs": [
    {
     "name": "stdout",
     "output_type": "stream",
     "text": [
      "/Users/veit\n"
     ]
    }
   ],
   "source": [
    "cd ~"
   ]
  },
  {
   "cell_type": "code",
   "execution_count": 24,
   "id": "aggressive-hardware",
   "metadata": {},
   "outputs": [
    {
     "name": "stdout",
     "output_type": "stream",
     "text": [
      "/Users/veit\n"
     ]
    }
   ],
   "source": [
    "cd /Users/veit"
   ]
  }
 ],
 "metadata": {
  "kernelspec": {
   "display_name": "Python 3.11 Kernel",
   "language": "python",
   "name": "python311"
  },
  "language_info": {
   "codemirror_mode": {
    "name": "ipython",
    "version": 3
   },
   "file_extension": ".py",
   "mimetype": "text/x-python",
   "name": "python",
   "nbconvert_exporter": "python",
   "pygments_lexer": "ipython3",
   "version": "3.11.4"
  },
  "latex_envs": {
   "LaTeX_envs_menu_present": true,
   "autoclose": false,
   "autocomplete": true,
   "bibliofile": "biblio.bib",
   "cite_by": "apalike",
   "current_citInitial": 1,
   "eqLabelWithNumbers": true,
   "eqNumInitial": 1,
   "hotkeys": {
    "equation": "Ctrl-E",
    "itemize": "Ctrl-I"
   },
   "labels_anchors": false,
   "latex_user_defs": false,
   "report_style_numbering": false,
   "user_envs_cfg": false
  },
  "widgets": {
   "application/vnd.jupyter.widget-state+json": {
    "state": {},
    "version_major": 2,
    "version_minor": 0
   }
  }
 },
 "nbformat": 4,
 "nbformat_minor": 5
}
