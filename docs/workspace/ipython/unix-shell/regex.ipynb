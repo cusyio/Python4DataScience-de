{
 "cells": [
  {
   "cell_type": "markdown",
   "id": "acoustic-return",
   "metadata": {},
   "source": [
    "# Reguläre Ausdrücke"
   ]
  },
  {
   "cell_type": "markdown",
   "id": "through-survivor",
   "metadata": {},
   "source": [
    "## Gängige Regex-Metacharaktere\n",
    "\n",
    "\n",
    "Eckige Klammern definieren eine Liste oder einen Bereich von zu suchenden Zeichen:\n",
    "\n",
    "* `[abc]` entspricht `a`, `b` oder `c`\n",
    "* `[a-z]` entspricht jedem Kleinbuchstaben\n",
    "* `[A-Za-z]` entspricht jedem Buchstaben\n",
    "* `[A-Za-z0-9]` entspricht einem beliebigen Buchstaben oder einer beliebigen Ziffer\n",
    "\n",
    "Nützliche Sonderzeichen:\n",
    "\n",
    "* `.` entspricht einem einzelnen Zeichen\n",
    "* `*` entspricht null oder mehr Mal dem vorhergehenden Element, z. B.  `colou*r` passt zu `color`, `colour`, `colouur`, etc.\n",
    "* `?` entspricht null oder einmal dem vorhergehenden Element.  `colou?r` passt zu `color` und `colour`\n",
    "* `+` entspricht ein- oder mehr Mal dem vorhergehenden Element, z.B. `.+ ` passt zu `. `, `.. `, `... ` etc.\n",
    "* `{N}` entspricht `N` Mal dem vorhergehenden Element\n",
    "* `{N,}` entspricht `N` oder mehr Mal dem vorhergehenden Element\n",
    "* `{N,M}` entspricht mindestens `N` mal dem vorhergehenden Element, times, aber nicht mehr als `M` mal\n",
    "* `\\` wird verwendet, um das folgende Zeichen zu escapen, wenn dieses Zeichen ein Sonderzeichen ist, z. B. um `.org` zu finden, müsst Ihr den regulären Ausdruck `\\.org` verwenden, da `.` das Sonderzeichen ist, das auf jedes Zeichen passt\n",
    "* `^` setzt die Position an den Anfang der Zeile\n",
    "* `$` setzt die Position an das Ende der Zeile\n",
    "* `|` bedeutet **oder**\n",
    "\n",
    "Und dann gibt es noch:\n",
    "\n",
    "* `\\d` passt zu jeder einzelnen Ziffer\n",
    "* `\\w` passt auf jeden Teil eines Wortzeichens und ist äquivalent zu `[A-Za-z0-9]`\n",
    "* `\\s` passt zu jedem Leerzeichen, Tabulator oder Zeilenumbruch\n",
    "* `\\b` passt zu einem Muster an einer Wortgrenze\n",
    "* `/i` macht einen Ausdruck unabhängig von Groß- und Kleinschreibung und ist äquivalent zu `[A-Za-z]`"
   ]
  },
  {
   "cell_type": "markdown",
   "id": "finnish-young",
   "metadata": {},
   "source": [
    "## Farbausgabe"
   ]
  },
  {
   "cell_type": "code",
   "execution_count": 1,
   "id": "qualified-remove",
   "metadata": {},
   "outputs": [],
   "source": [
    "!export GREP_OPTIONS=\"--color=always $GREP_OPTIONS\""
   ]
  },
  {
   "cell_type": "code",
   "execution_count": 2,
   "id": "formal-serum",
   "metadata": {},
   "outputs": [],
   "source": [
    "!export GREP_COLORS=\"ms=01;37:mc=01;37:sl=:cx=01;30:fn=35:ln=32:bn=32:se=36\""
   ]
  },
  {
   "cell_type": "markdown",
   "id": "daily-desert",
   "metadata": {},
   "source": [
    "> **Seht auch:**\n",
    "> \n",
    "> * [www.regular-expressions.info](https://www.regular-expressions.info/)\n",
    "> * [Python Regular Expression HOWTO](https://docs.python.org/3/howto/regex.html)\n",
    "> * [Python re](https://docs.python.org/3/library/re.html)"
   ]
  }
 ],
 "metadata": {
  "kernelspec": {
   "display_name": "Python 3.7.4",
   "language": "python",
   "name": "python-373"
  },
  "language_info": {
   "codemirror_mode": {
    "name": "ipython",
    "version": 3
   },
   "file_extension": ".py",
   "mimetype": "text/x-python",
   "name": "python",
   "nbconvert_exporter": "python",
   "pygments_lexer": "ipython3",
   "version": "3.7.4"
  },
  "latex_envs": {
   "LaTeX_envs_menu_present": true,
   "autoclose": false,
   "autocomplete": true,
   "bibliofile": "biblio.bib",
   "cite_by": "apalike",
   "current_citInitial": 1,
   "eqLabelWithNumbers": true,
   "eqNumInitial": 1,
   "hotkeys": {
    "equation": "Ctrl-E",
    "itemize": "Ctrl-I"
   },
   "labels_anchors": false,
   "latex_user_defs": false,
   "report_style_numbering": false,
   "user_envs_cfg": false
  }
 },
 "nbformat": 4,
 "nbformat_minor": 5
}
