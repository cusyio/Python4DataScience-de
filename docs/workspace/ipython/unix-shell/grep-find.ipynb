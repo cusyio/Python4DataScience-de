{
 "cells": [
  {
   "cell_type": "markdown",
   "id": "ignored-gateway",
   "metadata": {},
   "source": [
    "# Find"
   ]
  },
  {
   "cell_type": "markdown",
   "id": "national-serial",
   "metadata": {},
   "source": [
    "## `grep`\n",
    "\n",
    "`grep` findet Zeilen in Dateien, die einem [regulären Ausdruck](regex.ipynb) entsprechen. Im folgenden Beispiel wird nach der Zeichenkette `Python` gesucht:"
   ]
  },
  {
   "cell_type": "code",
   "execution_count": 1,
   "id": "natural-timeline",
   "metadata": {},
   "outputs": [
    {
     "name": "stdout",
     "output_type": "stream",
     "text": [
      "IPython\r\n",
      "`IPython <http://ipython.org/>`_, or *Interactive Python*, was initially an\r\n",
      "advanced Python interpreter that has now grown into an extensive project\r\n",
      "Today, IPython is not only an interactive interface to Python, but also offers a\r\n",
      "number of useful syntactic additions for the language. In addition, IPython is\r\n",
      "    * `Miki Tebeka - IPython: The Productivity Booster\r\n"
     ]
    }
   ],
   "source": [
    "!grep Python ../index.rst"
   ]
  },
  {
   "cell_type": "markdown",
   "id": "final-awareness",
   "metadata": {},
   "source": [
    "Die Option `-w` begrenzt die Treffer auf die Wortgrenzen, so dass `IPython` ignoriert wird:"
   ]
  },
  {
   "cell_type": "code",
   "execution_count": 2,
   "id": "interested-feeding",
   "metadata": {},
   "outputs": [
    {
     "name": "stdout",
     "output_type": "stream",
     "text": [
      "`IPython <http://ipython.org/>`_, or *Interactive Python*, was initially an\r\n",
      "advanced Python interpreter that has now grown into an extensive project\r\n",
      "Today, IPython is not only an interactive interface to Python, but also offers a\r\n"
     ]
    }
   ],
   "source": [
    "!grep  -w Python ../index.rst"
   ]
  },
  {
   "cell_type": "markdown",
   "id": "blank-flexibility",
   "metadata": {},
   "source": [
    "`-n` zeigt die Zeilennummern an, die übereinstimmen:"
   ]
  },
  {
   "cell_type": "code",
   "execution_count": 3,
   "id": "after-thesis",
   "metadata": {},
   "outputs": [
    {
     "name": "stdout",
     "output_type": "stream",
     "text": [
      "4:`IPython <http://ipython.org/>`_, or *Interactive Python*, was initially an\r\n",
      "5:advanced Python interpreter that has now grown into an extensive project\r\n",
      "7:Today, IPython is not only an interactive interface to Python, but also offers a\r\n"
     ]
    }
   ],
   "source": [
    "!grep  -n -w Python ../index.rst"
   ]
  },
  {
   "cell_type": "markdown",
   "id": "lightweight-velvet",
   "metadata": {},
   "source": [
    "`-v` invertiert unsere Suche"
   ]
  },
  {
   "cell_type": "code",
   "execution_count": 4,
   "id": "entitled-pulse",
   "metadata": {},
   "outputs": [
    {
     "name": "stdout",
     "output_type": "stream",
     "text": [
      "1:IPython\r\n",
      "2:=======\r\n",
      "3:\r\n",
      "4:`IPython <http://ipython.org/>`_, or *Interactive Python*, was initially an\r\n",
      "5:advanced Python interpreter that has now grown into an extensive project\r\n",
      "6:designed to provide tools for the entire life cycle of research computing.\r\n",
      "7:Today, IPython is not only an interactive interface to Python, but also offers a\r\n",
      "8:number of useful syntactic additions for the language. In addition, IPython is\r\n",
      "9:closely related to the `Jupyter project <https://jupyter.org/>`_.\r\n",
      "10:\r\n",
      "11:.. seealso::\r\n",
      "14:\r\n",
      "15:.. toctree::\r\n",
      "19:\r\n"
     ]
    }
   ],
   "source": [
    "!grep  -n -v \"^ \" ../index.rst"
   ]
  },
  {
   "cell_type": "markdown",
   "id": "minimal-museum",
   "metadata": {},
   "source": [
    "`grep` hat viele andere Optionen. Um herauszufinden, welche das sind, könnt ihr folgendes eingeben:"
   ]
  },
  {
   "cell_type": "code",
   "execution_count": 5,
   "id": "specialized-positive",
   "metadata": {},
   "outputs": [
    {
     "name": "stdout",
     "output_type": "stream",
     "text": [
      "usage: grep [-abcDEFGHhIiJLlmnOoqRSsUVvwxZ] [-A num] [-B num] [-C[num]]\r\n",
      "\t[-e pattern] [-f file] [--binary-files=value] [--color=when]\r\n",
      "\t[--context[=num]] [--directories=action] [--label] [--line-buffered]\r\n",
      "\t[--null] [pattern] [file ...]\r\n"
     ]
    }
   ],
   "source": [
    "!grep --help"
   ]
  },
  {
   "cell_type": "markdown",
   "id": "figured-indiana",
   "metadata": {},
   "source": [
    "Im folgenden Beispiel verwenden wir die Option `-E` und setzen das Muster in Anführungszeichen, damit die Shell nicht versucht, es zu interpretieren. `^` im Muster verankert die Übereinstimmung am Anfang der Zeile und `.` entspricht einem einzelnen Zeichen."
   ]
  },
  {
   "cell_type": "code",
   "execution_count": 6,
   "id": "continental-crown",
   "metadata": {},
   "outputs": [
    {
     "name": "stdout",
     "output_type": "stream",
     "text": [
      "1:IPython\r\n"
     ]
    }
   ],
   "source": [
    "!grep -n -E \"^.Python\" ../index.rst"
   ]
  },
  {
   "cell_type": "markdown",
   "id": "bacterial-expert",
   "metadata": {},
   "source": [
    "## `find`\n",
    "\n",
    "`find .` sucht in diesem Verzeichnis, wobei die Suche mit `-type d` auf Verzeichnisse beschränkt wird."
   ]
  },
  {
   "cell_type": "code",
   "execution_count": 7,
   "id": "adverse-peeing",
   "metadata": {},
   "outputs": [
    {
     "name": "stdout",
     "output_type": "stream",
     "text": [
      "..\r\n",
      "../mypackage\r\n",
      "../unix-shell\r\n",
      "../unix-shell/.ipynb_checkpoints\r\n",
      "../.ipynb_checkpoints\r\n"
     ]
    }
   ],
   "source": [
    "!find .. -type d"
   ]
  },
  {
   "cell_type": "markdown",
   "id": "caroline-audit",
   "metadata": {},
   "source": [
    "Mit `-type f` ist die Suche auf Dateien beschränkt."
   ]
  },
  {
   "cell_type": "code",
   "execution_count": 8,
   "id": "monetary-nirvana",
   "metadata": {},
   "outputs": [
    {
     "name": "stdout",
     "output_type": "stream",
     "text": [
      "./index.rst\r\n",
      "./regex.ipynb\r\n",
      "./create-delete.ipynb\r\n",
      "./file-system.ipynb\r\n",
      "./pipes-filters.ipynb\r\n",
      "./shell-variables.ipynb\r\n",
      "./.ipynb_checkpoints/grep-find-checkpoint.ipynb\r\n",
      "./.ipynb_checkpoints/file-system-checkpoint.ipynb\r\n",
      "./.ipynb_checkpoints/regex-checkpoint.ipynb\r\n",
      "./grep-find.ipynb\r\n"
     ]
    }
   ],
   "source": [
    "!find . -type f"
   ]
  },
  {
   "cell_type": "markdown",
   "id": "related-vegetation",
   "metadata": {},
   "source": [
    "Mit `-mtime` wird die Suche auf die letzten `X` Tage beschränkt, in unserem Beispiel auf den letzten Tag:"
   ]
  },
  {
   "cell_type": "code",
   "execution_count": 9,
   "id": "regulated-marsh",
   "metadata": {},
   "outputs": [
    {
     "name": "stdout",
     "output_type": "stream",
     "text": [
      ".\r\n",
      "./index.rst\r\n",
      "./regex.ipynb\r\n",
      "./create-delete.ipynb\r\n",
      "./file-system.ipynb\r\n",
      "./pipes-filters.ipynb\r\n",
      "./shell-variables.ipynb\r\n",
      "./.ipynb_checkpoints\r\n",
      "./.ipynb_checkpoints/grep-find-checkpoint.ipynb\r\n",
      "./.ipynb_checkpoints/file-system-checkpoint.ipynb\r\n",
      "./.ipynb_checkpoints/regex-checkpoint.ipynb\r\n",
      "./grep-find.ipynb\r\n"
     ]
    }
   ],
   "source": [
    "!find . -mtime -1"
   ]
  },
  {
   "cell_type": "markdown",
   "id": "specific-generic",
   "metadata": {},
   "source": [
    "Mit `-name` könnt ihr die Suche nach Dateinamen filtern."
   ]
  },
  {
   "cell_type": "code",
   "execution_count": 10,
   "id": "related-record",
   "metadata": {},
   "outputs": [
    {
     "name": "stdout",
     "output_type": "stream",
     "text": [
      "../index.rst\r\n",
      "../unix-shell/index.rst\r\n",
      "../extensions.rst\r\n",
      "../start.rst\r\n"
     ]
    }
   ],
   "source": [
    "!find .. -name \"*.rst\""
   ]
  },
  {
   "cell_type": "markdown",
   "id": "driven-reading",
   "metadata": {},
   "source": [
    "Jetzt zählen wir die Zeichen in den Dateien mit der Endung `.rst`:"
   ]
  },
  {
   "cell_type": "code",
   "execution_count": 11,
   "id": "powered-primary",
   "metadata": {},
   "outputs": [
    {
     "name": "stdout",
     "output_type": "stream",
     "text": [
      "     813 ../index.rst\r\n",
      "     216 ../unix-shell/index.rst\r\n",
      "    2096 ../extensions.rst\r\n",
      "    1138 ../start.rst\r\n",
      "    4263 total\r\n"
     ]
    }
   ],
   "source": [
    "!wc -c $(find .. -name \"*.rst\")"
   ]
  },
  {
   "cell_type": "markdown",
   "id": "stuffed-ethiopia",
   "metadata": {},
   "source": [
    "Es ist auch möglich, in diesen Dateien nach einem regulären Ausdruck zu suchen:"
   ]
  },
  {
   "cell_type": "code",
   "execution_count": 12,
   "id": "deadly-range",
   "metadata": {},
   "outputs": [
    {
     "name": "stdout",
     "output_type": "stream",
     "text": [
      "../index.rst:`IPython <http://ipython.org/>`_, or *Interactive Python*, was initially an\r\n"
     ]
    }
   ],
   "source": [
    "!grep \"ipython.org\" $(find .. -name \"*.rst\")"
   ]
  },
  {
   "cell_type": "markdown",
   "id": "ordinary-observation",
   "metadata": {},
   "source": [
    "Schließlich filtern wir alle Ergebnisse heraus, deren Pfad `ipynb_checkpoints` enthält:"
   ]
  },
  {
   "cell_type": "code",
   "execution_count": 13,
   "id": "advanced-forty",
   "metadata": {},
   "outputs": [
    {
     "name": "stdout",
     "output_type": "stream",
     "text": [
      "./regex.ipynb\r\n",
      "./create-delete.ipynb\r\n",
      "./file-system.ipynb\r\n",
      "./pipes-filters.ipynb\r\n",
      "./shell-variables.ipynb\r\n",
      "./grep-find.ipynb\r\n"
     ]
    }
   ],
   "source": [
    "!find . -name \"*.ipynb\" | grep -v ipynb_checkpoints"
   ]
  }
 ],
 "metadata": {
  "kernelspec": {
   "display_name": "Python 3.7.4",
   "language": "python",
   "name": "python-373"
  },
  "language_info": {
   "codemirror_mode": {
    "name": "ipython",
    "version": 3
   },
   "file_extension": ".py",
   "mimetype": "text/x-python",
   "name": "python",
   "nbconvert_exporter": "python",
   "pygments_lexer": "ipython3",
   "version": "3.7.4"
  },
  "latex_envs": {
   "LaTeX_envs_menu_present": true,
   "autoclose": false,
   "autocomplete": true,
   "bibliofile": "biblio.bib",
   "cite_by": "apalike",
   "current_citInitial": 1,
   "eqLabelWithNumbers": true,
   "eqNumInitial": 1,
   "hotkeys": {
    "equation": "Ctrl-E",
    "itemize": "Ctrl-I"
   },
   "labels_anchors": false,
   "latex_user_defs": false,
   "report_style_numbering": false,
   "user_envs_cfg": false
  }
 },
 "nbformat": 4,
 "nbformat_minor": 5
}
