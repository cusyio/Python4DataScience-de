{
 "cells": [
  {
   "cell_type": "markdown",
   "id": "c3371891",
   "metadata": {},
   "source": [
    "# Find"
   ]
  },
  {
   "cell_type": "markdown",
   "id": "c86197ea",
   "metadata": {},
   "source": [
    "## `grep`\n",
    "\n",
    "`grep` findet Zeilen in Dateien, die einem [regulären Ausdruck](https://python-basics-tutorial.readthedocs.io/de/latest/appendix/regex.html) entsprechen. Im folgenden Beispiel wird nach der Zeichenkette `Python` gesucht:"
   ]
  },
  {
   "cell_type": "code",
   "execution_count": 1,
   "id": "acdeb97b",
   "metadata": {},
   "outputs": [
    {
     "name": "stdout",
     "output_type": "stream",
     "text": [
      "IPython\r\n",
      "`IPython <https://ipython.org/>`_ oder *Interactive Python* war zunächst ein\r\n",
      "erweiterter Python-Interpreter, der nun zu einem umfangreichen Projekt geworden\r\n",
      "bereitstellen soll. So ist IPython heute nicht nur eine interaktive\r\n",
      "Schnittstelle zu Python, sondern bietet auch eine Reihe nützlicher syntaktischer\r\n",
      "Ergänzungen für die Sprache. Darüberhinaus ist IPython eng mit dem\r\n",
      "    * `Miki Tebeka - IPython: The Productivity Booster\r\n"
     ]
    }
   ],
   "source": [
    "!grep Python ../index.rst"
   ]
  },
  {
   "cell_type": "markdown",
   "id": "21f6002f",
   "metadata": {},
   "source": [
    "Die Option `-w` begrenzt die Treffer auf die Wortgrenzen, so dass `IPython` ignoriert wird:"
   ]
  },
  {
   "cell_type": "code",
   "execution_count": 2,
   "id": "1c528b24",
   "metadata": {},
   "outputs": [
    {
     "name": "stdout",
     "output_type": "stream",
     "text": [
      "`IPython <https://ipython.org/>`_ oder *Interactive Python* war zunächst ein\r\n",
      "erweiterter Python-Interpreter, der nun zu einem umfangreichen Projekt geworden\r\n",
      "Schnittstelle zu Python, sondern bietet auch eine Reihe nützlicher syntaktischer\r\n"
     ]
    }
   ],
   "source": [
    "!grep  -w Python ../index.rst"
   ]
  },
  {
   "cell_type": "markdown",
   "id": "c7e1c37c",
   "metadata": {},
   "source": [
    "`-n` zeigt die Zeilennummern an, die übereinstimmen:"
   ]
  },
  {
   "cell_type": "code",
   "execution_count": 3,
   "id": "10984ec4",
   "metadata": {},
   "outputs": [
    {
     "name": "stdout",
     "output_type": "stream",
     "text": [
      "4:`IPython <https://ipython.org/>`_ oder *Interactive Python* war zunächst ein\r\n",
      "5:erweiterter Python-Interpreter, der nun zu einem umfangreichen Projekt geworden\r\n",
      "8:Schnittstelle zu Python, sondern bietet auch eine Reihe nützlicher syntaktischer\r\n"
     ]
    }
   ],
   "source": [
    "!grep  -n -w Python ../index.rst"
   ]
  },
  {
   "cell_type": "markdown",
   "id": "b8b615de",
   "metadata": {},
   "source": [
    "`-v` invertiert unsere Suche"
   ]
  },
  {
   "cell_type": "code",
   "execution_count": 4,
   "id": "c4c51cf8",
   "metadata": {},
   "outputs": [
    {
     "name": "stdout",
     "output_type": "stream",
     "text": [
      "1:IPython\r\n",
      "2:=======\r\n",
      "3:\r\n",
      "4:`IPython <https://ipython.org/>`_ oder *Interactive Python* war zunächst ein\r\n",
      "5:erweiterter Python-Interpreter, der nun zu einem umfangreichen Projekt geworden\r\n",
      "6:ist, das Tools für den gesamten Lebenszyklus der Forschungsdatenverarbeitung\r\n",
      "7:bereitstellen soll. So ist IPython heute nicht nur eine interaktive\r\n",
      "8:Schnittstelle zu Python, sondern bietet auch eine Reihe nützlicher syntaktischer\r\n",
      "9:Ergänzungen für die Sprache. Darüberhinaus ist IPython eng mit dem\r\n",
      "10:`Jupyter-Projekt <https://jupyter.org/>`_ verbunden.\r\n",
      "11:\r\n",
      "12:.. seealso::\r\n",
      "15:\r\n",
      "16:.. toctree::\r\n",
      "20:\r\n"
     ]
    }
   ],
   "source": [
    "!grep  -n -v \"^ \" ../index.rst"
   ]
  },
  {
   "cell_type": "markdown",
   "id": "713beb5e",
   "metadata": {},
   "source": [
    "`grep` hat viele andere Optionen. Um herauszufinden, welche das sind, könnt ihr folgendes eingeben:"
   ]
  },
  {
   "cell_type": "code",
   "execution_count": 5,
   "id": "8e777162",
   "metadata": {},
   "outputs": [
    {
     "name": "stdout",
     "output_type": "stream",
     "text": [
      "Aufruf: grep [OPTION]… MUSTER [DATEI]…\r\n",
      "Nach MUSTER in jeder DATEI oder der Standardeingabe suchen.\r\n",
      "Beispiel: grep -i 'Hallo Welt' menu.h main.c\r\n",
      "MUSTER kann mehrere durch Zeilenumbruch getrennte Muster enthalten.\r\n",
      "\r\n",
      "Auswahl und Interpretation von Mustern:\r\n",
      "  -E, --extended-regexp     MUSTER sind erweiterte reguläre Ausdrücke\r\n",
      "  -F, --fixed-strings       MUSTER sind Zeichenketten\r\n",
      "  -G, --basic-regexp        MUSTER sind reguläre Standardausdrücke\r\n",
      "  -P, --perl-regexp         MUSTER sind reguläre Ausdrücke, wie Perl\r\n",
      "                            sie akzeptiert\r\n",
      "  -e, --regexp=MUSTER       MUSTER zur Treffersuche verwenden\r\n",
      "  -f, --file=DATEI          MUSTER aus DATEI lesen\r\n",
      "  -i, --ignore-case         Unterschied zwischen Groß- und Kleinschreibung\r\n",
      "                             ignorieren\r\n",
      "      --no-ignore-case      Festlegung zur Groß- oder Kleinschreibung\r\n",
      "                              nicht ignorieren\r\n",
      "  -w, --word-regexp         MUSTER passt nur auf ganze Wörter\r\n",
      "  -x, --line-regexp         MUSTER passt nur auf ganze Zeilen\r\n",
      "  -z, --null-data           Eine Zeile endet mit Nullbyte, nicht Newline\r\n",
      "\r\n",
      "Verschiedenes:\r\n",
      "  -s, --no-messages         Fehlermeldungen unterdrücken\r\n",
      "  -v, --invert-match        Nicht-passende Zeilen anzeigen\r\n",
      "  -V, --version             Versionsnummer ausgeben und beenden\r\n",
      "      --help                Diese Hilfe ausgeben und beenden\r\n",
      "\r\n",
      "Steuerung der Ausgabe:\r\n",
      "  -m, --max-count=ANZAHL    stoppt nach ANZAHL ausgewählter Zeilen\r\n",
      "  -b, --byte-offset         gibt mit den Zeilen auch den Abstand in Bytes an\r\n",
      "  -n, --line-number         gibt mit den Zeilen auch die Zeilennummer an\r\n",
      "      --line-buffered       leert den Puffer nach jeder Zeile\r\n",
      "  -H, --with-filename       gibt den Dateinamen für jede Übereinstimmung aus\r\n",
      "  -h, --no-filename         unterdrückt die Ausgabe des vorangehenden\r\n",
      "                             Dateinamens\r\n",
      "      --label=BEZEICHNUNG   verwendet BEZEICHNUNG als Präfix für Dateinamen\r\n",
      "                            der Standardeingabe\r\n",
      "  -o, --only-matching       zeigt nur den nicht-leeren Teil einer Zeile,\r\n",
      "                            der zu MUSTER passt\r\n",
      "  -q, --quiet, --silent     unterdrückt alle normalen Ausgaben\r\n",
      "      --binary-files=TYP    alle binären Dateien sind vom Typ TYP;\r\n",
      "                            TYP kann „binary“, „text“ oder „without-match“\r\n",
      "                             sein\r\n",
      "  -a, --text                gleichbedeutend mit --binary-files=text\r\n",
      "  -I                        gleichbedeutend mit --binary-files=without-match\r\n",
      "  -d, --directories=AKTION  beschreibt, wie Verzeichnisse zu behandeln sind;\r\n",
      "                              AKTION kann „read“, „recurse“ oder „skip“ sein\r\n",
      "  -D, --devices=AKTION      Behandlung von Geräten, FIFOs oder Sockets;\r\n",
      "                              AKTION kann „read“ oder „skip“ sein\r\n",
      "  -r, --recursive           wie --directories=recurse\r\n",
      "  -R, --dereference-recursive\r\n",
      "                            ebenso, folgt aber allen symbolischen Links\r\n",
      "      --include=DATEIMUSTER  durchsucht nur Dateien, die DATEIMUSTER\r\n",
      "                              entsprechen\r\n",
      "      --exclude=DATEIMUSTER  überspringt Dateien, die\r\n",
      "                              DATEIMUSTER entsprechen\r\n",
      "      --exclude-from=DATEI   überspringt Dateien, die einem Dateimuster\r\n",
      "                              in DATEI entsprechen.\r\n",
      "      --exclude-dir=MUSTER   überspringt Verzeichnisse, die MUSTER\r\n",
      "                              entsprechen\r\n",
      "  -L, --files-without-match  nur die Namen von Dateien ausgeben, die keinen\r\n",
      "                              passenden Inhalt haben\r\n",
      "  -l, --files-with-matches   nur die Namen von Dateien mit passendem Inhalt\r\n",
      "                              ausgeben\r\n",
      "  -c, --count                nur die Anzahl der passenden Zeilen pro DATEI\r\n",
      "                              ausgeben\r\n",
      "  -T, --initial-tab          Tabulatoren (wenn nötig) ausrichten\r\n",
      "  -Z, --null                 ein 0-Byte nach einem Dateinamen ausgeben\r\n",
      "\r\n",
      "Kontextsteuerung:\r\n",
      "  -B, --before-context=ANZAHL  ANZAHL Zeilen vorausgehenden Kontextes\r\n",
      "                                ausgeben\r\n",
      "  -A, --after-context=ANZAHL   ANZAHL Zeilen nachfolgenden Kontextes\r\n",
      "                                ausgeben\r\n",
      "  -C, --context=ANZAHL         ANZAHL Zeilen Kontext ausgeben\r\n",
      "  -ANZAHL                   Wie --context=ANZAHL\r\n",
      "      --color[=WANN], \r\n",
      "      --colour=[WANN]       Passende Textfragmente markieren\r\n",
      "                            WANN kann „always“, „never“ oder „auto“ sein\r\n",
      "  -U, --binary              CR-Zeichen am Zeilenende belassen\r\n",
      "                             (MSDOS/Windows)\r\n",
      "\r\n",
      "Wenn DATEI „-“ ist, wird die Standardeingabe gelesen. Ohne DATEI wird „.“\r\n",
      "gelesen, wenn -r auf der Befehlszeile angegeben wurde, ansonsten „-“.\r\n",
      "Wenn weniger als zwei DATEIen angegeben wurden, wird -h angenommen.\r\n",
      "Der Rückgabewert ist 0, wenn eine Zeile passte (oder eine Datei,\r\n",
      "falls -L angegeben wurde), ansonsten 1. Wenn ein Fehler auftrat\r\n",
      "und -q nicht angegeben wurde, ist der Rückgabewert 2.\r\n",
      "\r\n",
      "Melden Sie Übersetzungsfehler an <translation-team-de@lists.sourceforge.net>,\r\n",
      "Programmfehler dagegen (auf Englisch, mit LC_ALL=C) an bug-grep@gnu.org\r\n",
      "GNU grep Homepage: <http://www.gnu.org/software/grep/>\r\n",
      "Allgemeine Hilfe zur Benutzung von GNU-Software: <https://www.gnu.org/gethelp/>\r\n"
     ]
    }
   ],
   "source": [
    "!grep --help"
   ]
  },
  {
   "cell_type": "markdown",
   "id": "da80225f",
   "metadata": {},
   "source": [
    "Im folgenden Beispiel verwenden wir die Option `-E` und setzen das Muster in Anführungszeichen, damit die Shell nicht versucht, es zu interpretieren. `^` im Muster verankert die Übereinstimmung am Anfang der Zeile und `.` entspricht einem einzelnen Zeichen."
   ]
  },
  {
   "cell_type": "code",
   "execution_count": 6,
   "id": "5fdd8774",
   "metadata": {},
   "outputs": [
    {
     "name": "stdout",
     "output_type": "stream",
     "text": [
      "1:IPython\r\n"
     ]
    }
   ],
   "source": [
    "!grep -n -E \"^.Python\" ../index.rst"
   ]
  },
  {
   "cell_type": "markdown",
   "id": "e7725494",
   "metadata": {},
   "source": [
    "## `find`\n",
    "\n",
    "`find .` sucht in diesem Verzeichnis, wobei die Suche mit `-type d` auf Verzeichnisse beschränkt wird."
   ]
  },
  {
   "cell_type": "code",
   "execution_count": 7,
   "id": "fb397457",
   "metadata": {},
   "outputs": [
    {
     "name": "stdout",
     "output_type": "stream",
     "text": [
      "..\r\n",
      "../mypackage\r\n",
      "../.ipynb_checkpoints\r\n",
      "../unix-shell\r\n",
      "../unix-shell/.ipynb_checkpoints\r\n"
     ]
    }
   ],
   "source": [
    "!find .. -type d"
   ]
  },
  {
   "cell_type": "markdown",
   "id": "944f6319",
   "metadata": {},
   "source": [
    "Mit `-type f` ist die Suche auf Dateien beschränkt."
   ]
  },
  {
   "cell_type": "code",
   "execution_count": 8,
   "id": "2ee97ebc",
   "metadata": {},
   "outputs": [
    {
     "name": "stdout",
     "output_type": "stream",
     "text": [
      "./regex.ipynb\r\n",
      "./index.rst\r\n",
      "./create-delete.ipynb\r\n",
      "./file-system.ipynb\r\n",
      "./shell-variables.ipynb\r\n",
      "./grep-find.ipynb\r\n",
      "./pipes-filters.ipynb\r\n"
     ]
    }
   ],
   "source": [
    "!find . -type f"
   ]
  },
  {
   "cell_type": "markdown",
   "id": "cf775d3d",
   "metadata": {},
   "source": [
    "Mit `-mtime` wird die Suche auf die letzten `X` Tage beschränkt, in unserem Beispiel auf den letzten Tag:"
   ]
  },
  {
   "cell_type": "code",
   "execution_count": 9,
   "id": "cda7229f",
   "metadata": {},
   "outputs": [
    {
     "name": "stdout",
     "output_type": "stream",
     "text": [
      ".\r\n",
      "./regex.ipynb\r\n",
      "./.ipynb_checkpoints\r\n",
      "./.ipynb_checkpoints/regex-checkpoint.ipynb\r\n",
      "./grep-find.ipynb\r\n"
     ]
    }
   ],
   "source": [
    "!find . -mtime -1"
   ]
  },
  {
   "cell_type": "markdown",
   "id": "4f9a7815",
   "metadata": {},
   "source": [
    "Mit `-name` könnt ihr die Suche nach Dateinamen filtern."
   ]
  },
  {
   "cell_type": "code",
   "execution_count": 10,
   "id": "0b449f37",
   "metadata": {},
   "outputs": [
    {
     "name": "stdout",
     "output_type": "stream",
     "text": [
      "../index.rst\r\n",
      "../extensions.rst\r\n",
      "../unix-shell/index.rst\r\n",
      "../start.rst\r\n"
     ]
    }
   ],
   "source": [
    "!find .. -name \"*.rst\""
   ]
  },
  {
   "cell_type": "markdown",
   "id": "b3555078",
   "metadata": {},
   "source": [
    "Jetzt zählen wir die Zeichen in den Dateien mit der Endung `.rst`:"
   ]
  },
  {
   "cell_type": "code",
   "execution_count": 11,
   "id": "065f56a6",
   "metadata": {},
   "outputs": [
    {
     "name": "stdout",
     "output_type": "stream",
     "text": [
      " 891 ../index.rst\r\n",
      "2281 ../extensions.rst\r\n",
      " 457 ../unix-shell/index.rst\r\n",
      "1209 ../start.rst\r\n",
      "4838 insgesamt\r\n"
     ]
    }
   ],
   "source": [
    "!wc -c $(find .. -name \"*.rst\")"
   ]
  },
  {
   "cell_type": "markdown",
   "id": "4cae6911",
   "metadata": {},
   "source": [
    "Es ist auch möglich, in diesen Dateien nach einem regulären Ausdruck zu suchen:"
   ]
  },
  {
   "cell_type": "code",
   "execution_count": 12,
   "id": "34cb164e",
   "metadata": {},
   "outputs": [
    {
     "name": "stdout",
     "output_type": "stream",
     "text": [
      "../index.rst:`IPython <https://ipython.org/>`_ oder *Interactive Python* war zunächst ein\r\n"
     ]
    }
   ],
   "source": [
    "!grep \"ipython.org\" $(find .. -name \"*.rst\")"
   ]
  },
  {
   "cell_type": "markdown",
   "id": "8a465167",
   "metadata": {},
   "source": [
    "Schließlich filtern wir alle Ergebnisse heraus, deren Pfad `ipynb_checkpoints` enthält:"
   ]
  },
  {
   "cell_type": "code",
   "execution_count": 13,
   "id": "77a2ac54",
   "metadata": {},
   "outputs": [
    {
     "name": "stdout",
     "output_type": "stream",
     "text": [
      "./regex.ipynb\r\n",
      "./create-delete.ipynb\r\n",
      "./file-system.ipynb\r\n",
      "./shell-variables.ipynb\r\n",
      "./grep-find.ipynb\r\n",
      "./pipes-filters.ipynb\r\n"
     ]
    }
   ],
   "source": [
    "!find . -name \"*.ipynb\" | grep -v ipynb_checkpoints"
   ]
  }
 ],
 "metadata": {
  "kernelspec": {
   "display_name": "Python 3.8",
   "language": "python",
   "name": "python-38"
  },
  "language_info": {
   "codemirror_mode": {
    "name": "ipython",
    "version": 3
   },
   "file_extension": ".py",
   "mimetype": "text/x-python",
   "name": "python",
   "nbconvert_exporter": "python",
   "pygments_lexer": "ipython3",
   "version": "3.8.12"
  },
  "latex_envs": {
   "LaTeX_envs_menu_present": true,
   "autoclose": false,
   "autocomplete": true,
   "bibliofile": "biblio.bib",
   "cite_by": "apalike",
   "current_citInitial": 1,
   "eqLabelWithNumbers": true,
   "eqNumInitial": 1,
   "hotkeys": {
    "equation": "Ctrl-E",
    "itemize": "Ctrl-I"
   },
   "labels_anchors": false,
   "latex_user_defs": false,
   "report_style_numbering": false,
   "user_envs_cfg": false
  }
 },
 "nbformat": 4,
 "nbformat_minor": 5
}
