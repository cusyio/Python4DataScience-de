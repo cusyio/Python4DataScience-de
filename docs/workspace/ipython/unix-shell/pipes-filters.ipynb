{
 "cells": [
  {
   "cell_type": "markdown",
   "id": "coral-investigator",
   "metadata": {},
   "source": [
    "# Pipes und Filter"
   ]
  },
  {
   "cell_type": "markdown",
   "id": "median-castle",
   "metadata": {},
   "source": [
    "`ls` zeigt alle Dateien und Verzeichnisse an dieser Stelle an."
   ]
  },
  {
   "cell_type": "code",
   "execution_count": 1,
   "id": "original-stuart",
   "metadata": {},
   "outputs": [
    {
     "name": "stdout",
     "output_type": "stream",
     "text": [
      "create-delete.ipynb           grep-find.ipynb.license\n",
      "create-delete.ipynb.license   index.rst\n",
      "dvc.list                      pipes-filters.ipynb\n",
      "file-system.ipynb             pipes-filters.ipynb.license\n",
      "file-system.ipynb.license     shell-variables.ipynb\n",
      "grep-find.ipynb               shell-variables.ipynb.license\n"
     ]
    }
   ],
   "source": [
    "!ls"
   ]
  },
  {
   "cell_type": "markdown",
   "id": "nearby-complement",
   "metadata": {},
   "source": [
    "Mit `*.rst` schränken wir die Ergebnisse auf alle Dateien mit der Endung `.rst` ein:"
   ]
  },
  {
   "cell_type": "code",
   "execution_count": 2,
   "id": "analyzed-attraction",
   "metadata": {},
   "outputs": [
    {
     "name": "stdout",
     "output_type": "stream",
     "text": [
      "index.rst\n"
     ]
    }
   ],
   "source": [
    "!ls *.rst"
   ]
  },
  {
   "cell_type": "markdown",
   "id": "marked-palestine",
   "metadata": {},
   "source": [
    "Wir können auch die Anzahl der Zeilen, Wörter und Zeichen in diesen Dokumenten ausgeben:"
   ]
  },
  {
   "cell_type": "code",
   "execution_count": 3,
   "id": "dynamic-prescription",
   "metadata": {},
   "outputs": [
    {
     "name": "stdout",
     "output_type": "stream",
     "text": [
      "      21      52     531 index.rst\n"
     ]
    }
   ],
   "source": [
    "!wc *.rst"
   ]
  },
  {
   "cell_type": "markdown",
   "id": "adaptive-penetration",
   "metadata": {},
   "source": [
    "Nun schreiben wir die Anzahl der Zeichen in die Datei `length.txt` und geben den Text anschließend mit `cat` aus:"
   ]
  },
  {
   "cell_type": "code",
   "execution_count": 4,
   "id": "ordinary-sullivan",
   "metadata": {},
   "outputs": [],
   "source": [
    "!wc -m *.rst > length.txt"
   ]
  },
  {
   "cell_type": "code",
   "execution_count": 5,
   "id": "outstanding-desktop",
   "metadata": {},
   "outputs": [
    {
     "name": "stdout",
     "output_type": "stream",
     "text": [
      "     529 index.rst\n"
     ]
    }
   ],
   "source": [
    "!cat length.txt"
   ]
  },
  {
   "cell_type": "markdown",
   "id": "colonial-definition",
   "metadata": {},
   "source": [
    "Wir können die Dateien auch nach der Anzahl der Zeichen sortieren lassen:"
   ]
  },
  {
   "cell_type": "code",
   "execution_count": 6,
   "id": "middle-million",
   "metadata": {},
   "outputs": [
    {
     "name": "stdout",
     "output_type": "stream",
     "text": [
      "     529 index.rst\n"
     ]
    }
   ],
   "source": [
    "!sort -n length.txt"
   ]
  },
  {
   "cell_type": "code",
   "execution_count": 7,
   "id": "intensive-testament",
   "metadata": {},
   "outputs": [],
   "source": [
    "!sort -n length.txt > sorted-length.txt"
   ]
  },
  {
   "cell_type": "markdown",
   "id": "about-consensus",
   "metadata": {},
   "source": [
    "Wir können die vorhandene Datei auch überschreiben:"
   ]
  },
  {
   "cell_type": "code",
   "execution_count": 8,
   "id": "collectible-poison",
   "metadata": {},
   "outputs": [],
   "source": [
    "!sort -n length.txt > length.txt"
   ]
  },
  {
   "cell_type": "markdown",
   "id": "surrounded-tribune",
   "metadata": {},
   "source": [
    "Wenn wir nur die Gesamtzahl der Zeichen wissen wollen, also nur die letzte Zeile ausgeben wollen, können wir dies mit `tail` tun:"
   ]
  },
  {
   "cell_type": "code",
   "execution_count": 9,
   "id": "absolute-steel",
   "metadata": {},
   "outputs": [],
   "source": [
    "!tail -n 1 length.txt"
   ]
  },
  {
   "cell_type": "markdown",
   "id": "turkish-collect",
   "metadata": {},
   "source": [
    "Mit `>` wird eine Datei überschrieben, während `>>` zum Anhängen an eine Datei verwendet wird."
   ]
  },
  {
   "cell_type": "code",
   "execution_count": 10,
   "id": "perfect-identifier",
   "metadata": {},
   "outputs": [],
   "source": [
    "!echo Anzahl der Zeichen >> length.txt"
   ]
  },
  {
   "cell_type": "code",
   "execution_count": 11,
   "id": "waiting-tours",
   "metadata": {},
   "outputs": [
    {
     "name": "stdout",
     "output_type": "stream",
     "text": [
      "Anzahl der Zeichen\n"
     ]
    }
   ],
   "source": [
    "!cat length.txt"
   ]
  },
  {
   "cell_type": "markdown",
   "id": "enhanced-rates",
   "metadata": {},
   "source": [
    "### Pipe `|`\n",
    "\n",
    "Ihr könnt Befehle mit einer Pipe (`|`) verbinden. Im folgenden Einzeiler wollen wir die Anzahl der Zeichen für die kürzeste Datei anzeigen:"
   ]
  },
  {
   "cell_type": "code",
   "execution_count": 12,
   "id": "proprietary-center",
   "metadata": {},
   "outputs": [
    {
     "name": "stdout",
     "output_type": "stream",
     "text": [
      "      21 index.rst\n"
     ]
    }
   ],
   "source": [
    "!wc -l *.rst | sort -n | head"
   ]
  },
  {
   "cell_type": "markdown",
   "id": "handmade-leisure",
   "metadata": {},
   "source": [
    "Wenn wir uns die ersten Zeilen des Haupttextes (ohne die ersten drei Zeilen für den Titel) anzeigen lassen wollen:"
   ]
  },
  {
   "cell_type": "code",
   "execution_count": 13,
   "id": "willing-average",
   "metadata": {},
   "outputs": [
    {
     "name": "stdout",
     "output_type": "stream",
     "text": [
      "\n",
      "Unix-Shell\n"
     ]
    }
   ],
   "source": [
    "!cat index.rst | head -n 5 | tail -n 2"
   ]
  }
 ],
 "metadata": {
  "kernelspec": {
   "display_name": "Python 3.13 Kernel",
   "language": "python",
   "name": "python313"
  },
  "language_info": {
   "codemirror_mode": {
    "name": "ipython",
    "version": 3
   },
   "file_extension": ".py",
   "mimetype": "text/x-python",
   "name": "python",
   "nbconvert_exporter": "python",
   "pygments_lexer": "ipython3",
   "version": "3.13.0"
  },
  "latex_envs": {
   "LaTeX_envs_menu_present": true,
   "autoclose": false,
   "autocomplete": true,
   "bibliofile": "biblio.bib",
   "cite_by": "apalike",
   "current_citInitial": 1,
   "eqLabelWithNumbers": true,
   "eqNumInitial": 1,
   "hotkeys": {
    "equation": "Ctrl-E",
    "itemize": "Ctrl-I"
   },
   "labels_anchors": false,
   "latex_user_defs": false,
   "report_style_numbering": false,
   "user_envs_cfg": false
  },
  "widgets": {
   "application/vnd.jupyter.widget-state+json": {
    "state": {},
    "version_major": 2,
    "version_minor": 0
   }
  }
 },
 "nbformat": 4,
 "nbformat_minor": 5
}
