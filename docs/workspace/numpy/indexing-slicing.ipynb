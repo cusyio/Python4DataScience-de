{
 "cells": [
  {
   "cell_type": "markdown",
   "id": "e16c6f29",
   "metadata": {},
   "source": [
    "# Indizierung und Slicing\n",
    "\n",
    "Indizierung ist die Auswahl einer Teilmenge eurer Daten oder einzelner Elemente. In eindimensionalen Arrays ist das sehr einfach; verhalten sie sich doch ähnlich wie Python-Listen:"
   ]
  },
  {
   "cell_type": "code",
   "execution_count": 1,
   "id": "7eed4014",
   "metadata": {},
   "outputs": [],
   "source": [
    "import numpy as np"
   ]
  },
  {
   "cell_type": "code",
   "execution_count": 2,
   "id": "8d71c545",
   "metadata": {},
   "outputs": [
    {
     "data": {
      "text/plain": [
       "array([[ 2.1956244 ,  0.07904049, -0.39028049],\n",
       "       [-1.36176392,  0.30928847,  1.22121412],\n",
       "       [ 2.1040352 , -0.89619537, -1.6150892 ],\n",
       "       [-1.57525953,  0.44238823,  1.16625067],\n",
       "       [-1.89988514,  0.2955304 , -1.0594433 ],\n",
       "       [-0.30815392,  0.68284391, -0.87815642],\n",
       "       [ 0.5312894 ,  1.19752988, -0.36185569]])"
      ]
     },
     "execution_count": 2,
     "metadata": {},
     "output_type": "execute_result"
    }
   ],
   "source": [
    "data = np.random.randn(7, 3)\n",
    "data"
   ]
  },
  {
   "cell_type": "code",
   "execution_count": 3,
   "id": "4202c561",
   "metadata": {},
   "outputs": [
    {
     "data": {
      "text/plain": [
       "array([-1.89988514,  0.2955304 , -1.0594433 ])"
      ]
     },
     "execution_count": 3,
     "metadata": {},
     "output_type": "execute_result"
    }
   ],
   "source": [
    "data[4]"
   ]
  },
  {
   "cell_type": "code",
   "execution_count": 4,
   "id": "23ee62b6",
   "metadata": {},
   "outputs": [
    {
     "data": {
      "text/plain": [
       "array([[ 2.1040352 , -0.89619537, -1.6150892 ],\n",
       "       [-1.57525953,  0.44238823,  1.16625067]])"
      ]
     },
     "execution_count": 4,
     "metadata": {},
     "output_type": "execute_result"
    }
   ],
   "source": [
    "data[2:4]"
   ]
  },
  {
   "cell_type": "code",
   "execution_count": 5,
   "id": "11a26b4b",
   "metadata": {},
   "outputs": [],
   "source": [
    "data[2:4] = np.random.randn(2, 3)"
   ]
  },
  {
   "cell_type": "code",
   "execution_count": 6,
   "id": "78f018d3",
   "metadata": {},
   "outputs": [
    {
     "data": {
      "text/plain": [
       "array([[ 2.1956244 ,  0.07904049, -0.39028049],\n",
       "       [-1.36176392,  0.30928847,  1.22121412],\n",
       "       [ 0.1652644 ,  0.54898136,  0.32478573],\n",
       "       [-0.41375447, -1.04444056,  1.38521387],\n",
       "       [-1.89988514,  0.2955304 , -1.0594433 ],\n",
       "       [-0.30815392,  0.68284391, -0.87815642],\n",
       "       [ 0.5312894 ,  1.19752988, -0.36185569]])"
      ]
     },
     "execution_count": 6,
     "metadata": {},
     "output_type": "execute_result"
    }
   ],
   "source": [
    "data"
   ]
  },
  {
   "cell_type": "markdown",
   "id": "ab9427bb",
   "metadata": {},
   "source": [
    "<div class=\"alert alert-block alert-info\">\n",
    "\n",
    "**Bemerkung:**\n",
    "\n",
    "Array-Slices unterscheiden sich von Python-Listen dadurch, dass sie Sichten (_views_) auf das ursprüngliche Array sind. Das bedeutet, dass die Daten nicht kopiert werden und dass alle Änderungen an der View im Ausgangsarray wiedergegeben werden.\n",
    "\n",
    "Wenn ihr eine Kopie eines Teils eines `ndarray` erstellen wollt, könnt ihr das Array explizit kopieren – z.B. mit `data[2:5].copy()`.\n",
    "</div>"
   ]
  },
  {
   "cell_type": "markdown",
   "id": "8c1201a1",
   "metadata": {},
   "source": [
    "_Slicing_ in dieser Weise führt immer zu Array-Ansichten mit der gleichen Anzahl von Dimensionen. Wenn ihr jedoch ganzzahlige Indizes und Slices mischt, erhaltet ihr Slices mit niedrigeren Dimensionen. So können wir z.B. die zweite Zeile, aber nur die ersten beiden Spalten wie folgt auswählen:"
   ]
  },
  {
   "cell_type": "code",
   "execution_count": 7,
   "id": "fcef2893",
   "metadata": {},
   "outputs": [
    {
     "data": {
      "text/plain": [
       "array([-1.36176392,  0.30928847])"
      ]
     },
     "execution_count": 7,
     "metadata": {},
     "output_type": "execute_result"
    }
   ],
   "source": [
    "data[1, :2]"
   ]
  },
  {
   "cell_type": "markdown",
   "id": "07d3f5fd",
   "metadata": {},
   "source": [
    "Ein Doppelpunkt bedeutet, dass die gesamte Achse genommen wird, so dass ihr auch höherdimensionale Achsen auswählen könnt:"
   ]
  },
  {
   "cell_type": "code",
   "execution_count": 8,
   "id": "505acd40",
   "metadata": {},
   "outputs": [
    {
     "data": {
      "text/plain": [
       "array([[ 2.1956244 ],\n",
       "       [-1.36176392],\n",
       "       [ 0.1652644 ],\n",
       "       [-0.41375447],\n",
       "       [-1.89988514],\n",
       "       [-0.30815392],\n",
       "       [ 0.5312894 ]])"
      ]
     },
     "execution_count": 8,
     "metadata": {},
     "output_type": "execute_result"
    }
   ],
   "source": [
    "data[:, :1]"
   ]
  },
  {
   "cell_type": "markdown",
   "id": "6ecf4b02",
   "metadata": {},
   "source": [
    "## Boolesche Indizierung\n",
    "\n",
    "Betrachten wir ein Beispiel, bei dem wir einige Daten in einem Array und ein Array von Namen mit Duplikaten haben. Ich werde hier die Funktion `randn` in `numpy.random` verwenden, um einige zufällige normalverteilte Daten zu erzeugen:"
   ]
  },
  {
   "cell_type": "code",
   "execution_count": 9,
   "id": "f22c1d6e",
   "metadata": {},
   "outputs": [],
   "source": [
    "names = np.array(\n",
    "    [\n",
    "        \"Liam\",\n",
    "        \"Olivia\",\n",
    "        \"Noah\",\n",
    "        \"Liam\",\n",
    "        \"Noah\",\n",
    "        \"Olivia\",\n",
    "        \"Liam\",\n",
    "        \"Emma\",\n",
    "        \"Oliver\",\n",
    "        \"Ava\",\n",
    "    ]\n",
    ")\n",
    "data = np.random.randn(10, 4)"
   ]
  },
  {
   "cell_type": "code",
   "execution_count": 10,
   "id": "322b0502",
   "metadata": {},
   "outputs": [
    {
     "data": {
      "text/plain": [
       "array(['Liam', 'Olivia', 'Noah', 'Liam', 'Noah', 'Olivia', 'Liam', 'Emma',\n",
       "       'Oliver', 'Ava'], dtype='<U6')"
      ]
     },
     "execution_count": 10,
     "metadata": {},
     "output_type": "execute_result"
    }
   ],
   "source": [
    "names"
   ]
  },
  {
   "cell_type": "code",
   "execution_count": 11,
   "id": "e1ca2b9b",
   "metadata": {},
   "outputs": [
    {
     "data": {
      "text/plain": [
       "array([[-0.00776165, -1.08048505,  0.1900303 ,  0.69370517],\n",
       "       [-0.22249935, -0.25936143, -0.33935628,  1.64129467],\n",
       "       [ 1.0498543 , -0.90181643,  1.67652545, -0.54929353],\n",
       "       [-0.52565656, -1.57436048,  0.24708313,  0.10520877],\n",
       "       [ 1.38889829, -0.54366829, -0.28584755,  0.51052027],\n",
       "       [-2.05032111,  0.19454154, -1.24429664, -0.33307503],\n",
       "       [-1.01902092, -0.31151898, -0.28885744, -0.55453184],\n",
       "       [ 0.31087796,  0.51334958, -0.44746959, -0.82791428],\n",
       "       [-0.53312829, -0.65950692,  1.63656701, -0.02390662],\n",
       "       [-2.69913013, -1.20599278, -0.52252776, -0.41242866]])"
      ]
     },
     "execution_count": 11,
     "metadata": {},
     "output_type": "execute_result"
    }
   ],
   "source": [
    "data"
   ]
  },
  {
   "cell_type": "markdown",
   "id": "00f9db15",
   "metadata": {},
   "source": [
    "Angenommen, jeder Name entspricht einer Zeile im Datenarray und wir wollen alle Zeilen mit dem entsprechenden Namen _Liam_ auswählen. Wie arithmetische Operationen werden auch Vergleiche wie `==` mit Arrays vektorisiert. Der Vergleich von Namen mit der Zeichenkette `Liam` ergibt also ein boolesches Array:"
   ]
  },
  {
   "cell_type": "code",
   "execution_count": 12,
   "id": "469a5d26",
   "metadata": {},
   "outputs": [
    {
     "data": {
      "text/plain": [
       "array([ True, False, False,  True, False, False,  True, False, False,\n",
       "       False])"
      ]
     },
     "execution_count": 12,
     "metadata": {},
     "output_type": "execute_result"
    }
   ],
   "source": [
    "names == \"Liam\""
   ]
  },
  {
   "cell_type": "markdown",
   "id": "bcab016d",
   "metadata": {},
   "source": [
    "Dieses boolesche Array kann beim Indizieren des Arrays übergeben werden:"
   ]
  },
  {
   "cell_type": "code",
   "execution_count": 13,
   "id": "3637b5d4",
   "metadata": {},
   "outputs": [
    {
     "data": {
      "text/plain": [
       "array([[-0.00776165, -1.08048505,  0.1900303 ,  0.69370517],\n",
       "       [-0.52565656, -1.57436048,  0.24708313,  0.10520877],\n",
       "       [-1.01902092, -0.31151898, -0.28885744, -0.55453184]])"
      ]
     },
     "execution_count": 13,
     "metadata": {},
     "output_type": "execute_result"
    }
   ],
   "source": [
    "data[names == \"Liam\"]"
   ]
  },
  {
   "cell_type": "markdown",
   "id": "a7249e46",
   "metadata": {},
   "source": [
    "Dabei muss das boolesche Array die gleiche Länge haben wie die Arrayachse, die es indiziert."
   ]
  },
  {
   "cell_type": "markdown",
   "id": "e69904c7",
   "metadata": {},
   "source": [
    "<div class=\"alert alert-block alert-info\">\n",
    "\n",
    "**Bemerkung:**\n",
    "\n",
    "Die Auswahl von Daten aus einem Array durch boolesche Indizierung und die Zuweisung des Ergebnisses an eine neue Variable erzeugt immer eine Kopie der Daten, selbst wenn das zurückgegebene Array unverändert ist.\n",
    "</div>"
   ]
  },
  {
   "cell_type": "markdown",
   "id": "2cdde717",
   "metadata": {},
   "source": [
    "Im folgenden Beispiel wähle ich die Zeilen aus, in denen `Namen == \"Liam\"` ist und indiziere auch die Spalten:"
   ]
  },
  {
   "cell_type": "code",
   "execution_count": 14,
   "id": "6981b0ea",
   "metadata": {},
   "outputs": [
    {
     "data": {
      "text/plain": [
       "array([[ 0.1900303 ,  0.69370517],\n",
       "       [ 0.24708313,  0.10520877],\n",
       "       [-0.28885744, -0.55453184]])"
      ]
     },
     "execution_count": 14,
     "metadata": {},
     "output_type": "execute_result"
    }
   ],
   "source": [
    "data[names == \"Liam\", 2:]"
   ]
  },
  {
   "cell_type": "markdown",
   "id": "f12a10f0",
   "metadata": {},
   "source": [
    "Um alles außer _Liam_ auszuwählen, könnt ihr entweder `!=` verwenden oder die Bedingung mit `~` negieren:"
   ]
  },
  {
   "cell_type": "code",
   "execution_count": 15,
   "id": "6f23e3fb",
   "metadata": {},
   "outputs": [
    {
     "data": {
      "text/plain": [
       "array([False,  True,  True, False,  True,  True, False,  True,  True,\n",
       "        True])"
      ]
     },
     "execution_count": 15,
     "metadata": {},
     "output_type": "execute_result"
    }
   ],
   "source": [
    "names != \"Liam\""
   ]
  },
  {
   "cell_type": "code",
   "execution_count": 16,
   "id": "46e40ec4",
   "metadata": {},
   "outputs": [
    {
     "data": {
      "text/plain": [
       "array([[-0.22249935, -0.25936143, -0.33935628,  1.64129467],\n",
       "       [ 1.0498543 , -0.90181643,  1.67652545, -0.54929353],\n",
       "       [ 1.38889829, -0.54366829, -0.28584755,  0.51052027],\n",
       "       [-2.05032111,  0.19454154, -1.24429664, -0.33307503],\n",
       "       [ 0.31087796,  0.51334958, -0.44746959, -0.82791428],\n",
       "       [-0.53312829, -0.65950692,  1.63656701, -0.02390662],\n",
       "       [-2.69913013, -1.20599278, -0.52252776, -0.41242866]])"
      ]
     },
     "execution_count": 16,
     "metadata": {},
     "output_type": "execute_result"
    }
   ],
   "source": [
    "cond = names == \"Liam\"\n",
    "data[~cond]"
   ]
  },
  {
   "cell_type": "markdown",
   "id": "7ac9f026",
   "metadata": {},
   "source": [
    "Wenn ihr zwei der drei Namen auswählt, um mehrere boolesche Bedingungen zu kombinieren, könnt ihr die booleschen arithmetischen Operatoren `&` (und) und `|` (oder) verwenden.\n",
    "\n",
    "<div class=\"alert alert-block alert-warning\">\n",
    "\n",
    "**Warnung:**\n",
    "\n",
    "Die Python-Schlüsselwörter `and` und `or` funktionieren nicht mit booleschen Arrays.\n",
    "</div>"
   ]
  },
  {
   "cell_type": "code",
   "execution_count": 17,
   "id": "42cc2666",
   "metadata": {},
   "outputs": [],
   "source": [
    "mask = (names == \"Liam\") | (names == \"Olivia\")"
   ]
  },
  {
   "cell_type": "code",
   "execution_count": 18,
   "id": "bf18e5dc",
   "metadata": {},
   "outputs": [
    {
     "data": {
      "text/plain": [
       "array([ True,  True, False,  True, False,  True,  True, False, False,\n",
       "       False])"
      ]
     },
     "execution_count": 18,
     "metadata": {},
     "output_type": "execute_result"
    }
   ],
   "source": [
    "mask"
   ]
  },
  {
   "cell_type": "code",
   "execution_count": 19,
   "id": "21d90f8e",
   "metadata": {},
   "outputs": [
    {
     "data": {
      "text/plain": [
       "array([[-0.00776165, -1.08048505,  0.1900303 ,  0.69370517],\n",
       "       [-0.22249935, -0.25936143, -0.33935628,  1.64129467],\n",
       "       [-0.52565656, -1.57436048,  0.24708313,  0.10520877],\n",
       "       [-2.05032111,  0.19454154, -1.24429664, -0.33307503],\n",
       "       [-1.01902092, -0.31151898, -0.28885744, -0.55453184]])"
      ]
     },
     "execution_count": 19,
     "metadata": {},
     "output_type": "execute_result"
    }
   ],
   "source": [
    "data[mask]"
   ]
  },
  {
   "cell_type": "markdown",
   "id": "3b6dfc27",
   "metadata": {},
   "source": [
    "## Ganzzahlige Array-Indizierung\n",
    "\n",
    "Ganzzahlige Array-Indizierung ermöglicht die Auswahl beliebiger Elemente im Array auf der Grundlage eures N-dimensionalen Index. Jedes Integer-Array repräsentiert eine Anzahl von Indizes in dieser Dimension. \n",
    "\n",
    "<div class=\"alert alert-block alert-info\">\n",
    "\n",
    "**Siehe auch:**\n",
    "\n",
    "* [Integer array indexing](https://numpy.org/doc/stable/user/basics.indexing.html#integer-array-indexing)\n",
    "</div>"
   ]
  }
 ],
 "metadata": {
  "kernelspec": {
   "display_name": "Python 3.13 Kernel",
   "language": "python",
   "name": "python313"
  },
  "language_info": {
   "codemirror_mode": {
    "name": "ipython",
    "version": 3
   },
   "file_extension": ".py",
   "mimetype": "text/x-python",
   "name": "python",
   "nbconvert_exporter": "python",
   "pygments_lexer": "ipython3",
   "version": "3.13.0"
  },
  "widgets": {
   "application/vnd.jupyter.widget-state+json": {
    "state": {},
    "version_major": 2,
    "version_minor": 0
   }
  }
 },
 "nbformat": 4,
 "nbformat_minor": 5
}
