{
 "cells": [
  {
   "cell_type": "markdown",
   "id": "e16c6f29",
   "metadata": {},
   "source": [
    "# Indizierung und Slicing\n",
    "\n",
    "Indizierung ist die Auswahl einer Teilmenge eurer Daten oder einzelner Elemente. In eindimensionalen Arrays ist das sehr einfach; verhalten sie sich doch ähnlich wie Python-Listen:"
   ]
  },
  {
   "cell_type": "code",
   "execution_count": 13,
   "id": "ffa09b3b",
   "metadata": {},
   "outputs": [
    {
     "data": {
      "text/plain": [
       "array([ 0.14729111,  0.42939291, -0.11391696])"
      ]
     },
     "execution_count": 13,
     "metadata": {},
     "output_type": "execute_result"
    }
   ],
   "source": [
    "data[4]"
   ]
  },
  {
   "cell_type": "code",
   "execution_count": 14,
   "id": "e6bd6967",
   "metadata": {},
   "outputs": [
    {
     "data": {
      "text/plain": [
       "array([[-0.92009709, -0.74687102,  0.37547054],\n",
       "       [-1.16877884,  1.60876337, -1.61454378]])"
      ]
     },
     "execution_count": 14,
     "metadata": {},
     "output_type": "execute_result"
    }
   ],
   "source": [
    "data[2:4]"
   ]
  },
  {
   "cell_type": "code",
   "execution_count": 15,
   "id": "d3a6c0f2",
   "metadata": {},
   "outputs": [],
   "source": [
    "data[2:4] = np.random.randn(2, 3)"
   ]
  },
  {
   "cell_type": "code",
   "execution_count": 16,
   "id": "4cca3e4e",
   "metadata": {},
   "outputs": [
    {
     "data": {
      "text/plain": [
       "array([[ 0.33215025,  0.98214819,  0.14965021],\n",
       "       [-0.5039629 ,  0.79987856, -0.55183126],\n",
       "       [ 0.0113906 ,  0.20964025, -2.44207052],\n",
       "       [-1.41585291,  0.11444022, -2.37949255],\n",
       "       [ 0.14729111,  0.42939291, -0.11391696],\n",
       "       [-0.91596972, -0.69697584, -0.36380735],\n",
       "       [-0.34818024, -0.91036214, -0.47645596]])"
      ]
     },
     "execution_count": 16,
     "metadata": {},
     "output_type": "execute_result"
    }
   ],
   "source": [
    "data"
   ]
  },
  {
   "cell_type": "markdown",
   "id": "b58249dc",
   "metadata": {},
   "source": [
    "> **Bemerkung:**\n",
    "> \n",
    "> Array-Slices unterscheiden sich von Python-Listen dadurch, dass sie Sichten (_views_) auf das ursprüngliche Array sind. Das bedeutet, dass die Daten nicht kopiert werden und dass alle Änderungen an der View im Ausgangsarray wiedergegeben werden.\n",
    "> \n",
    "> Wenn ihr eine Kopie eines Teils eines `ndarray` erstellen wollt, könnt ihr das Array explizit kopieren – z.B. mit `data[2:5].copy()`."
   ]
  },
  {
   "cell_type": "markdown",
   "id": "448f001d",
   "metadata": {},
   "source": [
    "_Slicing_ in dieser Weise führt immer zu Array-Ansichten mit der gleichen Anzahl von Dimensionen. Wenn ihr jedoch ganzzahlige Indizes und Slices mischt, erhaltet ihr Slices mit niedrigeren Dimensionen. So können wir z.B. die zweite Zeile, aber nur die ersten beiden Spalten wie folgt auswählen:"
   ]
  },
  {
   "cell_type": "code",
   "execution_count": 17,
   "id": "48b1402d",
   "metadata": {},
   "outputs": [
    {
     "data": {
      "text/plain": [
       "array([-0.5039629 ,  0.79987856])"
      ]
     },
     "execution_count": 17,
     "metadata": {},
     "output_type": "execute_result"
    }
   ],
   "source": [
    "data[1, :2]"
   ]
  },
  {
   "cell_type": "markdown",
   "id": "4493dcda",
   "metadata": {},
   "source": [
    "Ein Doppelpunkt bedeutet, dass die gesamte Achse genommen wird, so dass ihr auch nur höherdimensionale Achsen schneiden könnt:"
   ]
  },
  {
   "cell_type": "code",
   "execution_count": 20,
   "id": "5f07c568",
   "metadata": {},
   "outputs": [
    {
     "data": {
      "text/plain": [
       "array([[ 0.33215025],\n",
       "       [-0.5039629 ],\n",
       "       [ 0.0113906 ],\n",
       "       [-1.41585291],\n",
       "       [ 0.14729111],\n",
       "       [-0.91596972],\n",
       "       [-0.34818024]])"
      ]
     },
     "execution_count": 20,
     "metadata": {},
     "output_type": "execute_result"
    }
   ],
   "source": [
    "data[:, :1]"
   ]
  }
 ],
 "metadata": {
  "kernelspec": {
   "display_name": "Python 3.8",
   "language": "python",
   "name": "python-38"
  },
  "language_info": {
   "codemirror_mode": {
    "name": "ipython",
    "version": 3
   },
   "file_extension": ".py",
   "mimetype": "text/x-python",
   "name": "python",
   "nbconvert_exporter": "python",
   "pygments_lexer": "ipython3",
   "version": "3.8.12"
  }
 },
 "nbformat": 4,
 "nbformat_minor": 5
}
