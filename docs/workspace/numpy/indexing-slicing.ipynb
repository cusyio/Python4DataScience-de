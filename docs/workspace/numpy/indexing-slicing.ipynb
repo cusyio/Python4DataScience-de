{
 "cells": [
  {
   "cell_type": "markdown",
   "id": "e16c6f29",
   "metadata": {},
   "source": [
    "# Indizierung und Slicing\n",
    "\n",
    "Indizierung ist die Auswahl einer Teilmenge eurer Daten oder einzelner Elemente. In eindimensionalen Arrays ist das sehr einfach; verhalten sie sich doch ähnlich wie Python-Listen:"
   ]
  },
  {
   "cell_type": "code",
   "execution_count": 1,
   "id": "7eed4014",
   "metadata": {},
   "outputs": [],
   "source": [
    "import numpy as np"
   ]
  },
  {
   "cell_type": "code",
   "execution_count": 2,
   "id": "8d71c545",
   "metadata": {},
   "outputs": [
    {
     "data": {
      "text/plain": [
       "array([[-1.10712504, -0.60473472,  0.71961573],\n",
       "       [ 0.66161012,  0.75139849,  0.19096721],\n",
       "       [ 0.37037092,  0.52287763, -0.12497468],\n",
       "       [-0.38862188,  0.96257794, -0.30217841],\n",
       "       [ 1.36113782,  0.59738272, -0.30496318],\n",
       "       [-0.11677632, -1.87508217, -0.29912067],\n",
       "       [ 0.73419997,  0.78876697,  2.24380827]])"
      ]
     },
     "execution_count": 2,
     "metadata": {},
     "output_type": "execute_result"
    }
   ],
   "source": [
    "data = np.random.randn(7, 3)\n",
    "data"
   ]
  },
  {
   "cell_type": "code",
   "execution_count": 3,
   "id": "4202c561",
   "metadata": {},
   "outputs": [
    {
     "data": {
      "text/plain": [
       "array([ 1.36113782,  0.59738272, -0.30496318])"
      ]
     },
     "execution_count": 3,
     "metadata": {},
     "output_type": "execute_result"
    }
   ],
   "source": [
    "data[4]"
   ]
  },
  {
   "cell_type": "code",
   "execution_count": 4,
   "id": "23ee62b6",
   "metadata": {},
   "outputs": [
    {
     "data": {
      "text/plain": [
       "array([[ 0.37037092,  0.52287763, -0.12497468],\n",
       "       [-0.38862188,  0.96257794, -0.30217841]])"
      ]
     },
     "execution_count": 4,
     "metadata": {},
     "output_type": "execute_result"
    }
   ],
   "source": [
    "data[2:4]"
   ]
  },
  {
   "cell_type": "code",
   "execution_count": 5,
   "id": "11a26b4b",
   "metadata": {},
   "outputs": [],
   "source": [
    "data[2:4] = np.random.randn(2, 3)"
   ]
  },
  {
   "cell_type": "code",
   "execution_count": 6,
   "id": "78f018d3",
   "metadata": {},
   "outputs": [
    {
     "data": {
      "text/plain": [
       "array([[-1.10712504, -0.60473472,  0.71961573],\n",
       "       [ 0.66161012,  0.75139849,  0.19096721],\n",
       "       [-0.76425117,  0.13522634,  0.3471234 ],\n",
       "       [-0.12183032, -0.91938001,  0.1812069 ],\n",
       "       [ 1.36113782,  0.59738272, -0.30496318],\n",
       "       [-0.11677632, -1.87508217, -0.29912067],\n",
       "       [ 0.73419997,  0.78876697,  2.24380827]])"
      ]
     },
     "execution_count": 6,
     "metadata": {},
     "output_type": "execute_result"
    }
   ],
   "source": [
    "data"
   ]
  },
  {
   "cell_type": "markdown",
   "id": "ab9427bb",
   "metadata": {},
   "source": [
    "<div class=\"alert alert-block alert-info\">\n",
    "\n",
    "**Bemerkung:**\n",
    "\n",
    "Array-Slices unterscheiden sich von Python-Listen dadurch, dass sie Sichten (_views_) auf das ursprüngliche Array sind. Das bedeutet, dass die Daten nicht kopiert werden und dass alle Änderungen an der View im Ausgangsarray wiedergegeben werden.\n",
    "\n",
    "Wenn ihr eine Kopie eines Teils eines `ndarray` erstellen wollt, könnt ihr das Array explizit kopieren – z.B. mit `data[2:5].copy()`.\n",
    "</div>"
   ]
  },
  {
   "cell_type": "markdown",
   "id": "8c1201a1",
   "metadata": {},
   "source": [
    "_Slicing_ in dieser Weise führt immer zu Array-Ansichten mit der gleichen Anzahl von Dimensionen. Wenn ihr jedoch ganzzahlige Indizes und Slices mischt, erhaltet ihr Slices mit niedrigeren Dimensionen. So können wir z.B. die zweite Zeile, aber nur die ersten beiden Spalten wie folgt auswählen:"
   ]
  },
  {
   "cell_type": "code",
   "execution_count": 7,
   "id": "fcef2893",
   "metadata": {},
   "outputs": [
    {
     "data": {
      "text/plain": [
       "array([0.66161012, 0.75139849])"
      ]
     },
     "execution_count": 7,
     "metadata": {},
     "output_type": "execute_result"
    }
   ],
   "source": [
    "data[1, :2]"
   ]
  },
  {
   "cell_type": "markdown",
   "id": "07d3f5fd",
   "metadata": {},
   "source": [
    "Ein Doppelpunkt bedeutet, dass die gesamte Achse genommen wird, so dass ihr auch höherdimensionale Achsen auswählen könnt:"
   ]
  },
  {
   "cell_type": "code",
   "execution_count": 8,
   "id": "505acd40",
   "metadata": {},
   "outputs": [
    {
     "data": {
      "text/plain": [
       "array([[-1.10712504],\n",
       "       [ 0.66161012],\n",
       "       [-0.76425117],\n",
       "       [-0.12183032],\n",
       "       [ 1.36113782],\n",
       "       [-0.11677632],\n",
       "       [ 0.73419997]])"
      ]
     },
     "execution_count": 8,
     "metadata": {},
     "output_type": "execute_result"
    }
   ],
   "source": [
    "data[:, :1]"
   ]
  },
  {
   "cell_type": "markdown",
   "id": "6ecf4b02",
   "metadata": {},
   "source": [
    "## Boolesche Indizierung\n",
    "\n",
    "Betrachten wir ein Beispiel, bei dem wir einige Daten in einem Array und ein Array von Namen mit Duplikaten haben. Ich werde hier die Funktion `randn` in `numpy.random` verwenden, um einige zufällige normalverteilte Daten zu erzeugen:"
   ]
  },
  {
   "cell_type": "code",
   "execution_count": 9,
   "id": "f22c1d6e",
   "metadata": {},
   "outputs": [],
   "source": [
    "names = np.array(['Liam', 'Olivia', 'Noah', 'Liam', 'Noah', 'Olivia', 'Liam', 'Emma', 'Oliver', 'Ava'])\n",
    "data = np.random.randn(10, 4)"
   ]
  },
  {
   "cell_type": "code",
   "execution_count": 10,
   "id": "322b0502",
   "metadata": {},
   "outputs": [
    {
     "data": {
      "text/plain": [
       "array(['Liam', 'Olivia', 'Noah', 'Liam', 'Noah', 'Olivia', 'Liam', 'Emma',\n",
       "       'Oliver', 'Ava'], dtype='<U6')"
      ]
     },
     "execution_count": 10,
     "metadata": {},
     "output_type": "execute_result"
    }
   ],
   "source": [
    "names"
   ]
  },
  {
   "cell_type": "code",
   "execution_count": 11,
   "id": "e1ca2b9b",
   "metadata": {},
   "outputs": [
    {
     "data": {
      "text/plain": [
       "array([[ 0.35867089,  1.54040782, -0.17802212,  0.96938897],\n",
       "       [-1.01908575,  0.54822696, -2.05919441, -0.2672928 ],\n",
       "       [-2.39936438,  0.47425433, -1.23474455,  0.23779314],\n",
       "       [ 0.15202324,  0.12542864,  0.65341945,  1.19879063],\n",
       "       [-0.40538607,  0.05871589, -0.21042647,  0.94201355],\n",
       "       [-2.8102482 , -1.64395184,  0.54223449,  1.71858231],\n",
       "       [ 0.28221344,  0.16457021,  0.73805459, -1.3346101 ],\n",
       "       [-0.33565533, -0.10226983,  1.8015877 , -0.62330811],\n",
       "       [-0.19469216,  0.73504504, -0.35507636, -0.74534923],\n",
       "       [-0.45535431, -1.66129057,  0.13310822,  0.32116625]])"
      ]
     },
     "execution_count": 11,
     "metadata": {},
     "output_type": "execute_result"
    }
   ],
   "source": [
    "data"
   ]
  },
  {
   "cell_type": "markdown",
   "id": "00f9db15",
   "metadata": {},
   "source": [
    "Angenommen, jeder Name entspricht einer Zeile im Datenarray und wir wollen alle Zeilen mit dem entsprechenden Namen _Liam_ auswählen. Wie arithmetische Operationen werden auch Vergleiche wie `==` mit Arrays vektorisiert. Der Vergleich von Namen mit der Zeichenkette `Liam` ergibt also ein boolesches Array:"
   ]
  },
  {
   "cell_type": "code",
   "execution_count": 12,
   "id": "469a5d26",
   "metadata": {},
   "outputs": [
    {
     "data": {
      "text/plain": [
       "array([ True, False, False,  True, False, False,  True, False, False,\n",
       "       False])"
      ]
     },
     "execution_count": 12,
     "metadata": {},
     "output_type": "execute_result"
    }
   ],
   "source": [
    "names == 'Liam'"
   ]
  },
  {
   "cell_type": "markdown",
   "id": "bcab016d",
   "metadata": {},
   "source": [
    "Dieses boolesche Array kann beim Indizieren des Arrays übergeben werden:"
   ]
  },
  {
   "cell_type": "code",
   "execution_count": 13,
   "id": "3637b5d4",
   "metadata": {},
   "outputs": [
    {
     "data": {
      "text/plain": [
       "array([[ 0.35867089,  1.54040782, -0.17802212,  0.96938897],\n",
       "       [ 0.15202324,  0.12542864,  0.65341945,  1.19879063],\n",
       "       [ 0.28221344,  0.16457021,  0.73805459, -1.3346101 ]])"
      ]
     },
     "execution_count": 13,
     "metadata": {},
     "output_type": "execute_result"
    }
   ],
   "source": [
    "data[names == 'Liam']"
   ]
  },
  {
   "cell_type": "markdown",
   "id": "a7249e46",
   "metadata": {},
   "source": [
    "Dabei muss das boolesche Array die gleiche Länge haben wie die Arrayachse, die es indiziert."
   ]
  },
  {
   "cell_type": "markdown",
   "id": "e69904c7",
   "metadata": {},
   "source": [
    "<div class=\"alert alert-block alert-info\">\n",
    "\n",
    "**Bemerkung:**\n",
    "\n",
    "Die Auswahl von Daten aus einem Array durch boolesche Indizierung und die Zuweisung des Ergebnisses an eine neue Variable erzeugt immer eine Kopie der Daten, selbst wenn das zurückgegebene Array unverändert ist.\n",
    "</div>"
   ]
  },
  {
   "cell_type": "markdown",
   "id": "2cdde717",
   "metadata": {},
   "source": [
    "Im folgenden Beispiel wähle ich die Zeilen aus, in denen `Namen == 'Liam'` ist und indiziere auch die Spalten:"
   ]
  },
  {
   "cell_type": "code",
   "execution_count": 14,
   "id": "6981b0ea",
   "metadata": {},
   "outputs": [
    {
     "data": {
      "text/plain": [
       "array([[-0.17802212,  0.96938897],\n",
       "       [ 0.65341945,  1.19879063],\n",
       "       [ 0.73805459, -1.3346101 ]])"
      ]
     },
     "execution_count": 14,
     "metadata": {},
     "output_type": "execute_result"
    }
   ],
   "source": [
    "data[names == 'Liam', 2:]"
   ]
  },
  {
   "cell_type": "markdown",
   "id": "f12a10f0",
   "metadata": {},
   "source": [
    "Um alles außer _Liam_ auszuwählen, könnt ihr entweder `!=` verwenden oder die Bedingung mit `~` negieren:"
   ]
  },
  {
   "cell_type": "code",
   "execution_count": 15,
   "id": "6f23e3fb",
   "metadata": {},
   "outputs": [
    {
     "data": {
      "text/plain": [
       "array([False,  True,  True, False,  True,  True, False,  True,  True,\n",
       "        True])"
      ]
     },
     "execution_count": 15,
     "metadata": {},
     "output_type": "execute_result"
    }
   ],
   "source": [
    "names != 'Liam'"
   ]
  },
  {
   "cell_type": "code",
   "execution_count": 16,
   "id": "46e40ec4",
   "metadata": {},
   "outputs": [
    {
     "data": {
      "text/plain": [
       "array([[-1.01908575,  0.54822696, -2.05919441, -0.2672928 ],\n",
       "       [-2.39936438,  0.47425433, -1.23474455,  0.23779314],\n",
       "       [-0.40538607,  0.05871589, -0.21042647,  0.94201355],\n",
       "       [-2.8102482 , -1.64395184,  0.54223449,  1.71858231],\n",
       "       [-0.33565533, -0.10226983,  1.8015877 , -0.62330811],\n",
       "       [-0.19469216,  0.73504504, -0.35507636, -0.74534923],\n",
       "       [-0.45535431, -1.66129057,  0.13310822,  0.32116625]])"
      ]
     },
     "execution_count": 16,
     "metadata": {},
     "output_type": "execute_result"
    }
   ],
   "source": [
    "cond = names == 'Liam'\n",
    "data[~cond]"
   ]
  },
  {
   "cell_type": "markdown",
   "id": "7ac9f026",
   "metadata": {},
   "source": [
    "Wenn ihr zwei der drei Namen auswählt, um mehrere boolesche Bedingungen zu kombinieren, könnt ihr die booleschen arithmetischen Operatoren `&` (und) und `|` (oder) verwenden.\n",
    "\n",
    "<div class=\"alert alert-block alert-warning\">\n",
    "\n",
    "**Warnung:**\n",
    "\n",
    "Die Python-Schlüsselwörter `and` und `or` funktionieren nicht mit booleschen Arrays.\n",
    "</div>"
   ]
  },
  {
   "cell_type": "code",
   "execution_count": 17,
   "id": "42cc2666",
   "metadata": {},
   "outputs": [],
   "source": [
    "mask = (names == 'Liam') | (names == 'Olivia')"
   ]
  },
  {
   "cell_type": "code",
   "execution_count": 18,
   "id": "bf18e5dc",
   "metadata": {},
   "outputs": [
    {
     "data": {
      "text/plain": [
       "array([ True,  True, False,  True, False,  True,  True, False, False,\n",
       "       False])"
      ]
     },
     "execution_count": 18,
     "metadata": {},
     "output_type": "execute_result"
    }
   ],
   "source": [
    "mask"
   ]
  },
  {
   "cell_type": "code",
   "execution_count": 19,
   "id": "21d90f8e",
   "metadata": {},
   "outputs": [
    {
     "data": {
      "text/plain": [
       "array([[ 0.35867089,  1.54040782, -0.17802212,  0.96938897],\n",
       "       [-1.01908575,  0.54822696, -2.05919441, -0.2672928 ],\n",
       "       [ 0.15202324,  0.12542864,  0.65341945,  1.19879063],\n",
       "       [-2.8102482 , -1.64395184,  0.54223449,  1.71858231],\n",
       "       [ 0.28221344,  0.16457021,  0.73805459, -1.3346101 ]])"
      ]
     },
     "execution_count": 19,
     "metadata": {},
     "output_type": "execute_result"
    }
   ],
   "source": [
    "data[mask]"
   ]
  },
  {
   "cell_type": "markdown",
   "id": "3b6dfc27",
   "metadata": {},
   "source": [
    "## Ganzzahlige Array-Indizierung\n",
    "\n",
    "Ganzzahlige Array-Indizierung ermöglicht die Auswahl beliebiger Elemente im Array auf der Grundlage eures N-dimensionalen Index. Jedes Integer-Array repräsentiert eine Anzahl von Indizes in dieser Dimension. \n",
    "\n",
    "<div class=\"alert alert-block alert-info\">\n",
    "\n",
    "**Siehe auch:**\n",
    "\n",
    "* [Integer array indexing](https://numpy.org/doc/stable/user/basics.indexing.html#integer-array-indexing)\n",
    "</div>"
   ]
  }
 ],
 "metadata": {
  "kernelspec": {
   "display_name": "Python 3.8",
   "language": "python",
   "name": "python-38"
  },
  "language_info": {
   "codemirror_mode": {
    "name": "ipython",
    "version": 3
   },
   "file_extension": ".py",
   "mimetype": "text/x-python",
   "name": "python",
   "nbconvert_exporter": "python",
   "pygments_lexer": "ipython3",
   "version": "3.8.12"
  }
 },
 "nbformat": 4,
 "nbformat_minor": 5
}
