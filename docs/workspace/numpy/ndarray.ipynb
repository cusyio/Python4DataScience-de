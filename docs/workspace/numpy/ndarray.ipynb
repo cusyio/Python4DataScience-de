{
 "cells": [
  {
   "cell_type": "markdown",
   "id": "2792d52f",
   "metadata": {},
   "source": [
    "# `ndarray` – ein N-dimensionales Array-Objekt\n",
    "\n",
    "`ndarray` erlaubt mathematische Operationen auf ganzen Datenblöcken und verwendet dabei eine ähnliche Syntax  wie bei ähnlichen Operationen zwischen [skalaren](https://de.wikipedia.org/wiki/Skalar_(Mathematik)) Elementen. In NumPy gibt viele verschiedene Typen zur Beschreibung von Skalaren, die größtenteils auf Typen aus der Sprache C basieren und denjenigen, die mit Python kompatibel sind.\n",
    "\n",
    "> **Siehe auch:**\n",
    "> \n",
    "> [Array Scalars](https://numpy.org/devdocs/reference/arrays.scalars.html)\n",
    "\n",
    "> **Bemerkung:**\n",
    "> \n",
    "> Wann immer in diesem Tutorial von _Array_, _NumPy-Array_ oder `ndarray` geredet wird, bezieht sich dies in den meisten Fällen auf das `ndarray`-Objekt."
   ]
  },
  {
   "cell_type": "code",
   "execution_count": 1,
   "id": "0ac7f289",
   "metadata": {},
   "outputs": [],
   "source": [
    "import numpy as np"
   ]
  },
  {
   "cell_type": "code",
   "execution_count": 2,
   "id": "c7f9f92e",
   "metadata": {},
   "outputs": [],
   "source": [
    "py_list = [2020, 2021, 20222]\n",
    "array_1d = np.array(py_list)"
   ]
  },
  {
   "cell_type": "code",
   "execution_count": 3,
   "id": "ee790252",
   "metadata": {},
   "outputs": [
    {
     "data": {
      "text/plain": [
       "array([ 2020,  2021, 20222])"
      ]
     },
     "execution_count": 3,
     "metadata": {},
     "output_type": "execute_result"
    }
   ],
   "source": [
    "array_1d"
   ]
  },
  {
   "cell_type": "markdown",
   "id": "5d4cb94f",
   "metadata": {},
   "source": [
    "Verschachtelte Sequenzen, wie eine Liste von Listen gleicher Länge, können in ein mehrdimensionales Array umgewandelt werden:"
   ]
  },
  {
   "cell_type": "code",
   "execution_count": 4,
   "id": "96d413e8",
   "metadata": {},
   "outputs": [],
   "source": [
    "list_of_lists = [[1, 2, 3, 4], [5, 6, 7, 8], [9, 10, 11, 12]]\n",
    "array_2d = np.array(list_of_lists)"
   ]
  },
  {
   "cell_type": "code",
   "execution_count": 5,
   "id": "2762ff48",
   "metadata": {},
   "outputs": [
    {
     "data": {
      "text/plain": [
       "array([[ 1,  2,  3,  4],\n",
       "       [ 5,  6,  7,  8],\n",
       "       [ 9, 10, 11, 12]])"
      ]
     },
     "execution_count": 5,
     "metadata": {},
     "output_type": "execute_result"
    }
   ],
   "source": [
    "array_2d"
   ]
  },
  {
   "cell_type": "markdown",
   "id": "e09b6362",
   "metadata": {},
   "source": [
    "Da `list_of_lists` eine Liste mit drei Listen war, hat das NumPy-Array `array_2d` zwei Dimensionen, deren Form aus den Daten abgeleitet wird. Mit den Attributen [ndim](https://numpy.org/devdocs/reference/generated/numpy.ndarray.ndim.html) und [shape](https://numpy.org/devdocs/reference/generated/numpy.ndarray.shape.html) können wir uns die Anzahl der Dimensionen und den Umriss von `array_2d` ausgeben lassen:"
   ]
  },
  {
   "cell_type": "code",
   "execution_count": 6,
   "id": "db6930bc",
   "metadata": {},
   "outputs": [
    {
     "data": {
      "text/plain": [
       "2"
      ]
     },
     "execution_count": 6,
     "metadata": {},
     "output_type": "execute_result"
    }
   ],
   "source": [
    "data.shape"
   ]
  },
  {
   "cell_type": "code",
   "execution_count": 7,
   "id": "a6fd1f1e",
   "metadata": {},
   "outputs": [
    {
     "data": {
      "text/plain": [
       "(3, 4)"
      ]
     },
     "execution_count": 7,
     "metadata": {},
     "output_type": "execute_result"
    }
   ],
   "source": [
    "array_2d.shape"
   ]
  },
  {
   "cell_type": "markdown",
   "id": "b74ad4c2",
   "metadata": {},
   "source": [
    "Um euch einen Eindruck von der Syntax zu vermitteln, erstelle ich zunächst ein Array aus Zufallszahlen mit fünf Spalten und sieben `Slices`  (engl.: Scheiben):"
   ]
  },
  {
   "cell_type": "code",
   "execution_count": 8,
   "id": "6b72ae81",
   "metadata": {},
   "outputs": [],
   "source": [
    "data = np.random.randn(7, 3)"
   ]
  },
  {
   "cell_type": "markdown",
   "id": "e298f51a",
   "metadata": {},
   "source": [
    "`ndarray` ist ein generischer mehrdimensionaler Container. Jedes Array hat eine Form, ein Tupel, das die Größe der einzelnen Dimensionen angibt. Mit `shape` kann ich mir die Anzahl der Zeilen und Spalten eines Arrays ausgeben lassen:"
   ]
  },
  {
   "cell_type": "markdown",
   "id": "aa99c021",
   "metadata": {},
   "source": [
    "Zusätzlich zu `np.array` gibt es eine Reihe weiterer Funktionen zur Erstellung neuer Arrays. [zeros](https://numpy.org/doc/stable/reference/generated/numpy.zeros.html) und [ones](https://numpy.org/doc/stable/reference/generated/numpy.ones.html) erzeugen beispielsweise Arrays aus Nullen bzw. Einsen mit einer bestimmten Länge oder Form. [empty](https://numpy.org/doc/stable/reference/generated/numpy.empty.html) erzeugt ein Array, ohne dessen Werte auf einen bestimmten Wert zu initialisieren. Um ein höherdimensionales Array mit diesen Methoden zu erstellen, übergeben Sie ein Tupel für die Form:"
   ]
  },
  {
   "cell_type": "code",
   "execution_count": 9,
   "id": "b0bd0d2a",
   "metadata": {},
   "outputs": [
    {
     "data": {
      "text/plain": [
       "array([0., 0., 0., 0.])"
      ]
     },
     "execution_count": 9,
     "metadata": {},
     "output_type": "execute_result"
    }
   ],
   "source": [
    "np.zeros(4)"
   ]
  },
  {
   "cell_type": "code",
   "execution_count": 10,
   "id": "d13f4d63",
   "metadata": {},
   "outputs": [
    {
     "data": {
      "text/plain": [
       "array([[1., 1., 1., 1.],\n",
       "       [1., 1., 1., 1.],\n",
       "       [1., 1., 1., 1.]])"
      ]
     },
     "execution_count": 10,
     "metadata": {},
     "output_type": "execute_result"
    }
   ],
   "source": [
    "np.ones((3,4))"
   ]
  },
  {
   "cell_type": "code",
   "execution_count": 11,
   "id": "cbe8ee39",
   "metadata": {},
   "outputs": [
    {
     "data": {
      "text/plain": [
       "array([[[1.02724706e-316, 0.00000000e+000, 6.90657088e-310,\n",
       "         6.90657147e-310],\n",
       "        [6.90657195e-310, 0.00000000e+000, 0.00000000e+000,\n",
       "         0.00000000e+000],\n",
       "        [0.00000000e+000, 0.00000000e+000, 0.00000000e+000,\n",
       "         0.00000000e+000]],\n",
       "\n",
       "       [[0.00000000e+000, 0.00000000e+000, 0.00000000e+000,\n",
       "         0.00000000e+000],\n",
       "        [0.00000000e+000, 0.00000000e+000, 0.00000000e+000,\n",
       "         0.00000000e+000],\n",
       "        [0.00000000e+000, 0.00000000e+000, 0.00000000e+000,\n",
       "         0.00000000e+000]]])"
      ]
     },
     "execution_count": 11,
     "metadata": {},
     "output_type": "execute_result"
    }
   ],
   "source": [
    "np.empty((2,3,4))"
   ]
  },
  {
   "cell_type": "markdown",
   "id": "bb3c639e",
   "metadata": {},
   "source": [
    "> **Bemerkung:**\n",
    "> \n",
    "> Ihr dürft nich sicher annehmen, dass die die Funktion `np.empty` ein Array mit lauter Nullen zurückgibt, da sie uninitialisierten Speicher zurückgibt und kann daher auch _garbage_-Werte enthalten kann."
   ]
  },
  {
   "cell_type": "markdown",
   "id": "b2dfa4ce",
   "metadata": {},
   "source": [
    "[arange](https://numpy.org/doc/stable/reference/generated/numpy.arange.html) ist eine array-bewertete Version der Built-in Python [range](https://docs.python.org/3/library/functions.html#func-range)-Funktion:"
   ]
  },
  {
   "cell_type": "code",
   "execution_count": 12,
   "id": "3aba2692",
   "metadata": {},
   "outputs": [
    {
     "data": {
      "text/plain": [
       "array([0, 1, 2, 3])"
      ]
     },
     "execution_count": 12,
     "metadata": {},
     "output_type": "execute_result"
    }
   ],
   "source": [
    "np.arange(4)"
   ]
  },
  {
   "cell_type": "markdown",
   "id": "a38ff6ae",
   "metadata": {},
   "source": [
    "Weitere NumPy-Standardfunktionen zur Erstellung von Arrays sind:\n",
    "\n",
    "Funktion | Beschreibung\n",
    ":------- | :-----------\n",
    "`array`  | konvertiert Eingabedaten (Liste, Tupel, Array oder andere Sequenztypen) in ein `ndarray`, indem entweder ein `dtype` abgeleitet oder explizit ein `dtype` angegeben wird; kopiert standardmäßig die Eingabedaten in das Array\n",
    "`asarray` | konvertiert die Eingabe in ein `ndarray`, kopiert aber nicht, wenn die Eingabe bereits ein `ndarray` ist\n",
    "`arange` | wie Python built-in `range`, gibt aber ein `ndarray` statt einer Liste zurück\n",
    "`ones`, `ones_like` | `ones` erzeugt ein Array mit 1en in der gegebenen Form und dem gegebenen `dtype`; `ones_like` nimmt ein anderes Array und erzeugt ein `ones`-Array in der gleichen Form und dem gleichen `dtype`\n",
    "`zeros`, `zeros_like` | wie `ones` und `ones_like`, erzeugt aber stattdessen Arrays mit 0en\n",
    "`empty`, `empty_like` | erzeugt neue Arrays durch Zuweisung neuen Speichers, füllt sie aber nicht mit Werten wie `ones` und `zeros`\n",
    "`full`, `full_like` | erzeugt ein Array der angegebenen `shape` und des angegebenen `dtype`, wobei alle Werte auf den angegebenen _Füllwert_ gesetzt werden;  `full_like` nimmt ein anderes Array und erzeugt ein gefülltes Array mit denselben `shape` und `dtype`\n",
    "`eye`, `identity` | erzeugt eine quadratische N × N-Identitätsmatrix (1en auf der Diagonale und 0en anderswo)"
   ]
  }
 ],
 "metadata": {
  "kernelspec": {
   "display_name": "Python 3.8",
   "language": "python",
   "name": "python-38"
  },
  "language_info": {
   "codemirror_mode": {
    "name": "ipython",
    "version": 3
   },
   "file_extension": ".py",
   "mimetype": "text/x-python",
   "name": "python",
   "nbconvert_exporter": "python",
   "pygments_lexer": "ipython3",
   "version": "3.8.12"
  }
 },
 "nbformat": 4,
 "nbformat_minor": 5
}
