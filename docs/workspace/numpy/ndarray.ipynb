{
 "cells": [
  {
   "cell_type": "markdown",
   "id": "2792d52f",
   "metadata": {},
   "source": [
    "# `ndarray` – ein N-dimensionales Array-Objekt\n",
    "\n",
    "`ndarray` erlaubt mathematische Operationen auf ganzen Datenblöcken und verwendet dabei eine ähnliche Syntax  wie bei ähnlichen Operationen zwischen [skalaren](https://de.wikipedia.org/wiki/Skalar_(Mathematik)) Elementen. Um euch einen Eindruck von der Syntax zu vermitteln, erstelle ich zunächst ein Array aus Zufallszahlen mit fünf Spalten und sieben `Slices`  (engl.: Scheiben):"
   ]
  },
  {
   "cell_type": "code",
   "execution_count": 5,
   "id": "6a6db035",
   "metadata": {},
   "outputs": [],
   "source": [
    "data = np.random.randn(7, 3)"
   ]
  },
  {
   "cell_type": "markdown",
   "id": "5d4cb94f",
   "metadata": {},
   "source": [
    "Mit `shape` kann ich mir anschließend anzeigen lassen, wieviele Zeilen und Spalten das Array hat:"
   ]
  },
  {
   "cell_type": "code",
   "execution_count": 6,
   "id": "db6930bc",
   "metadata": {},
   "outputs": [
    {
     "data": {
      "text/plain": [
       "(7, 3)"
      ]
     },
     "execution_count": 6,
     "metadata": {},
     "output_type": "execute_result"
    }
   ],
   "source": [
    "data.shape"
   ]
  },
  {
   "cell_type": "code",
   "execution_count": 7,
   "id": "8750e196",
   "metadata": {},
   "outputs": [
    {
     "data": {
      "text/plain": [
       "array([[ 0.33215025,  0.98214819,  0.14965021],\n",
       "       [-0.5039629 ,  0.79987856, -0.55183126],\n",
       "       [-0.92009709, -0.74687102,  0.37547054],\n",
       "       [-1.16877884,  1.60876337, -1.61454378],\n",
       "       [ 0.14729111,  0.42939291, -0.11391696],\n",
       "       [-0.91596972, -0.69697584, -0.36380735],\n",
       "       [-0.34818024, -0.91036214, -0.47645596]])"
      ]
     },
     "execution_count": 7,
     "metadata": {},
     "output_type": "execute_result"
    }
   ],
   "source": [
    "data"
   ]
  }
 ],
 "metadata": {
  "kernelspec": {
   "display_name": "Python 3.8",
   "language": "python",
   "name": "python-38"
  },
  "language_info": {
   "codemirror_mode": {
    "name": "ipython",
    "version": 3
   },
   "file_extension": ".py",
   "mimetype": "text/x-python",
   "name": "python",
   "nbconvert_exporter": "python",
   "pygments_lexer": "ipython3",
   "version": "3.8.12"
  }
 },
 "nbformat": 4,
 "nbformat_minor": 5
}
