{
 "cells": [
  {
   "cell_type": "markdown",
   "id": "28d71ca9",
   "metadata": {},
   "source": [
    "## `dtype`"
   ]
  },
  {
   "cell_type": "markdown",
   "id": "2c1dc791",
   "metadata": {},
   "source": [
    "Datentyp ermitteln mit `dtype`:"
   ]
  },
  {
   "cell_type": "code",
   "execution_count": 8,
   "id": "6b2b2120",
   "metadata": {},
   "outputs": [
    {
     "data": {
      "text/plain": [
       "dtype('float64')"
      ]
     },
     "execution_count": 8,
     "metadata": {},
     "output_type": "execute_result"
    }
   ],
   "source": [
    "dt = data.dtype\n",
    "dt"
   ]
  },
  {
   "cell_type": "markdown",
   "id": "e3db94d2",
   "metadata": {},
   "source": [
    "NumPy-Datentypen:"
   ]
  },
  {
   "cell_type": "markdown",
   "id": "10e9fbac",
   "metadata": {},
   "source": [
    "Typ               | Typ-Code      | Beschreibung\n",
    ":---------------- | :------------ | :-----------\n",
    "`int8`, `uint8`   | `i1`, `u1`    | Vorzeichenbehaftete und vorzeichenlose 8-Bit (1 Byte) Ganzzahltypen\n",
    "`int16`, `uint16` | `i2`, `u2`    | Vorzeichenbehaftete und vorzeichenlose 16-Bit (2 Byte) Ganzzahltypen\n",
    "`int32`, `uint32` | `i4`, `u4`    | Vorzeichenbehaftete und vorzeichenlose 32-Bit (4 Byte) Ganzzahltypen\n",
    "`int64`, `uint64` | `i8`, `u8`    | Vorzeichenbehaftete und vorzeichenlose 64-Bit (8 Byte) Ganzzahltypen\n",
    "`float16`         | `f2`          | Standard-Gleitkomma mit halber Genauigkeit\n",
    "`float32`         | `f4` oder `f` | Standard-Gleitkomma mit einfacher Genauigkeit; kompatibel mit C `float`\n",
    "`float64`         | `f8` oder `d` | Standard-Gleitkomma mit doppelter Genauigkeit; kompatibel mit C `double` und Python `float`-Objekt\n",
    "`complex64`, `complex128`, `complex256` | `c8`, `c16`, `c32` | Komplexe Zahlen, die durch zwei 32-, 64- bzw. 128-Gleitkommazahlen dargestellt werden\n",
    "`bool`            | `?`           | Boolescher Typ, der die Werte `True` und `False` speichert\n",
    "`object`          | `O`           | Python-Objekttyp; ein Wert kann ein beliebiges Python-Objekt sein\n",
    "`string_`         | `S`           | ASCII-Stringtyp mit fester Länge (1 Byte pro Zeichen); um z.B. einen Stringtyp mit der Länge 7 zu erstellen, verwendet `S7`; längere Eingaben werden ohne Warnung abgeschnitten \n",
    "`unicode_`        | `U`           | Unicode-Typ mit fester Länge wobei die Anzahl der Bytes plattformspezifisch ist; verwendet dieselbe Spezifikationssemantik wie `string_`, z.B. `U7`"
   ]
  },
  {
   "cell_type": "markdown",
   "id": "5f9ade8b",
   "metadata": {},
   "source": [
    "Anzahl der Elemente mit `itemsize` ermitteln:"
   ]
  },
  {
   "cell_type": "code",
   "execution_count": 9,
   "id": "f10f4595",
   "metadata": {},
   "outputs": [
    {
     "data": {
      "text/plain": [
       "8"
      ]
     },
     "execution_count": 9,
     "metadata": {},
     "output_type": "execute_result"
    }
   ],
   "source": [
    "dt.itemsize"
   ]
  },
  {
   "cell_type": "markdown",
   "id": "0abca49a",
   "metadata": {},
   "source": [
    "Name des Datentypes ermitteln:"
   ]
  },
  {
   "cell_type": "code",
   "execution_count": 10,
   "id": "7c4dd8aa",
   "metadata": {},
   "outputs": [
    {
     "data": {
      "text/plain": [
       "'float64'"
      ]
     },
     "execution_count": 10,
     "metadata": {},
     "output_type": "execute_result"
    }
   ],
   "source": [
    "dt.name"
   ]
  },
  {
   "cell_type": "markdown",
   "id": "c739fce8",
   "metadata": {},
   "source": [
    "Datentyp überprüfen:"
   ]
  },
  {
   "cell_type": "code",
   "execution_count": 11,
   "id": "23dafd4e",
   "metadata": {},
   "outputs": [
    {
     "data": {
      "text/plain": [
       "True"
      ]
     },
     "execution_count": 11,
     "metadata": {},
     "output_type": "execute_result"
    }
   ],
   "source": [
    "dt.type is np.float64"
   ]
  },
  {
   "cell_type": "markdown",
   "id": "13be7929",
   "metadata": {},
   "source": [
    "Datentyp ändern mit `astype`:"
   ]
  },
  {
   "cell_type": "code",
   "execution_count": 12,
   "id": "d2eff3e7",
   "metadata": {},
   "outputs": [
    {
     "data": {
      "text/plain": [
       "array([[ 0.33215025,  0.9821482 ,  0.14965022],\n",
       "       [-0.5039629 ,  0.79987854, -0.55183125],\n",
       "       [-0.9200971 , -0.746871  ,  0.37547055],\n",
       "       [-1.1687789 ,  1.6087633 , -1.6145438 ],\n",
       "       [ 0.14729111,  0.4293929 , -0.11391696],\n",
       "       [-0.9159697 , -0.6969758 , -0.36380735],\n",
       "       [-0.34818023, -0.9103621 , -0.47645596]], dtype=float32)"
      ]
     },
     "execution_count": 12,
     "metadata": {},
     "output_type": "execute_result"
    }
   ],
   "source": [
    "data_float32 = data.astype(np.float32)\n",
    "data_float32"
   ]
  }
 ],
 "metadata": {
  "kernelspec": {
   "display_name": "Python 3.8",
   "language": "python",
   "name": "python-38"
  },
  "language_info": {
   "codemirror_mode": {
    "name": "ipython",
    "version": 3
   },
   "file_extension": ".py",
   "mimetype": "text/x-python",
   "name": "python",
   "nbconvert_exporter": "python",
   "pygments_lexer": "ipython3",
   "version": "3.8.12"
  }
 },
 "nbformat": 4,
 "nbformat_minor": 5
}
