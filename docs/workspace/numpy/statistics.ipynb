{
 "cells": [
  {
   "cell_type": "markdown",
   "id": "c03a7d37",
   "metadata": {},
   "source": [
    "# Mathematische und statistische Methoden\n",
    "\n",
    "Eine Reihe von mathematischen Funktionen, die Statistiken über ein ganzes Array oder über die Daten entlang einer Achse berechnen, sind als Methoden der Array-Klasse zugänglich. So könnt ihr Aggregationen verwenden wie Summe, Mittelwert und Standardabweichung, indem ihr entweder die Array-Instanzmethode aufruft oder die NumPy-Funktion der obersten Ebene verwendet."
   ]
  },
  {
   "cell_type": "markdown",
   "id": "4013204e",
   "metadata": {},
   "source": [
    "Im folgenden generiere ich einige normalverteilte Zufallsdaten und berechne einige aggregierte Statistiken:"
   ]
  },
  {
   "cell_type": "code",
   "execution_count": 1,
   "id": "b413c7b0",
   "metadata": {},
   "outputs": [
    {
     "data": {
      "text/plain": [
       "array([[ 0.76703659, -0.83933196,  0.4645299 ],\n",
       "       [-1.78256805,  0.1250087 ,  1.34358408],\n",
       "       [-0.69649245,  0.38336052,  0.68022167],\n",
       "       [-0.14760562, -1.481958  , -0.4465985 ],\n",
       "       [ 0.26499335,  1.21256197,  0.5816795 ],\n",
       "       [-0.04407397,  0.87961945, -0.58604436],\n",
       "       [-1.15613167, -0.16129107,  0.53232522]])"
      ]
     },
     "execution_count": 1,
     "metadata": {},
     "output_type": "execute_result"
    }
   ],
   "source": [
    "import numpy as np\n",
    "\n",
    "\n",
    "data = np.random.randn(7, 3)\n",
    "\n",
    "data"
   ]
  },
  {
   "cell_type": "code",
   "execution_count": 2,
   "id": "456e9376",
   "metadata": {},
   "outputs": [
    {
     "data": {
      "text/plain": [
       "-0.00510355699323813"
      ]
     },
     "execution_count": 2,
     "metadata": {},
     "output_type": "execute_result"
    }
   ],
   "source": [
    "data.mean()"
   ]
  },
  {
   "cell_type": "code",
   "execution_count": 3,
   "id": "c8dc9d4e",
   "metadata": {},
   "outputs": [
    {
     "data": {
      "text/plain": [
       "-0.00510355699323813"
      ]
     },
     "execution_count": 3,
     "metadata": {},
     "output_type": "execute_result"
    }
   ],
   "source": [
    "np.mean(data)"
   ]
  },
  {
   "cell_type": "code",
   "execution_count": 4,
   "id": "5092c04d",
   "metadata": {},
   "outputs": [
    {
     "data": {
      "text/plain": [
       "-0.10717469685800074"
      ]
     },
     "execution_count": 4,
     "metadata": {},
     "output_type": "execute_result"
    }
   ],
   "source": [
    "data.sum()"
   ]
  },
  {
   "cell_type": "markdown",
   "id": "b67e9edd",
   "metadata": {},
   "source": [
    "Funktionen wie `mean` und `sum` benötigen ein optionales Achsenargument, das die Statistik über die angegebene Achse berechnet, was zu einem Array mit einer Dimension weniger führt:"
   ]
  },
  {
   "cell_type": "code",
   "execution_count": 5,
   "id": "d84656ba",
   "metadata": {},
   "outputs": [
    {
     "data": {
      "text/plain": [
       "array([-0.39926312,  0.0168528 ,  0.36709964])"
      ]
     },
     "execution_count": 5,
     "metadata": {},
     "output_type": "execute_result"
    }
   ],
   "source": [
    "data.mean(axis=0)"
   ]
  },
  {
   "cell_type": "code",
   "execution_count": 6,
   "id": "b7657887",
   "metadata": {},
   "outputs": [
    {
     "data": {
      "text/plain": [
       "array([-2.79484182,  0.11796961,  2.56969751])"
      ]
     },
     "execution_count": 6,
     "metadata": {},
     "output_type": "execute_result"
    }
   ],
   "source": [
    "data.sum(axis=0)"
   ]
  },
  {
   "cell_type": "markdown",
   "id": "ca7e65c0",
   "metadata": {},
   "source": [
    "Mit `data.mean(0)`, was dasselbe ist wie `data.mean(axis=0)`, wird der Mittelwert über die Zeilen berechnet, während `data.sum(0)` die Summe über die Zeilen berechnet."
   ]
  },
  {
   "cell_type": "markdown",
   "id": "84530009",
   "metadata": {},
   "source": [
    "Andere Methoden wie `cumsum` und `cumprod` aggregieren hingegen nicht, sondern erzeugen ein neues Array mit den Zwischenergebnissen.\n",
    "\n",
    "In mehrdimensionalen Arrays geben Akkumulationsfunktionen wie `cumsum` und `cumprodm` ein Array derselben Größe zurück, aber mit den entlang der angegebenen Achse berechneten Teilaggregaten:"
   ]
  },
  {
   "cell_type": "code",
   "execution_count": 7,
   "id": "d50cfc21",
   "metadata": {},
   "outputs": [
    {
     "data": {
      "text/plain": [
       "array([ 0.76703659, -0.07229536,  0.39223454, -1.3903335 , -1.2653248 ,\n",
       "        0.07825928, -0.61823317, -0.23487265,  0.44534901,  0.2977434 ,\n",
       "       -1.1842146 , -1.6308131 , -1.36581975, -0.15325778,  0.42842172,\n",
       "        0.38434775,  1.26396719,  0.67792283, -0.47820884, -0.63949992,\n",
       "       -0.1071747 ])"
      ]
     },
     "execution_count": 7,
     "metadata": {},
     "output_type": "execute_result"
    }
   ],
   "source": [
    "data.cumsum()"
   ]
  },
  {
   "cell_type": "code",
   "execution_count": 8,
   "id": "a6524b2b",
   "metadata": {},
   "outputs": [
    {
     "data": {
      "text/plain": [
       "array([ 7.67036595e-01, -6.43798325e-01, -2.99063574e-01,  5.33101170e-01,\n",
       "        6.66422856e-02,  8.95395139e-02, -6.23635955e-02, -2.39077405e-02,\n",
       "       -1.62625630e-02,  2.40044565e-03, -3.55735963e-03,  1.58871146e-03,\n",
       "        4.20997972e-04,  5.10486129e-04,  2.96939317e-04, -1.30872955e-05,\n",
       "       -1.15118396e-05,  6.74644874e-06, -7.79978307e-06,  1.25803538e-06,\n",
       "        6.69683962e-07])"
      ]
     },
     "execution_count": 8,
     "metadata": {},
     "output_type": "execute_result"
    }
   ],
   "source": [
    "data.cumprod()"
   ]
  },
  {
   "cell_type": "markdown",
   "id": "b73111f2",
   "metadata": {},
   "source": [
    "Grundlegende statistische Methoden für Arrays:\n",
    "\n",
    "Methode | Beschreibung\n",
    ":------ | :-----------\n",
    "`sum` | Summe aller Elemente im Array oder entlang einer Achse\n",
    "`mean` | Arithmetisches Mittel; bei Arrays mit der Länge Null wird`NaN` zurückgegeben \n",
    "`std`, `var` | Standardabweichung bzw. Varianz\n",
    "`min`, `max` | Minimum und Maximum\n",
    "`argmin`, `argmax` | Indizes der minimalen bzw. maximalen Elemente\n",
    "`cumsum` | Kumulative Summe der Elemente, beginnend mit `0`\n",
    "`cumprod` | Kumulatives Produkt der Elemente, beginnend mit `1`"
   ]
  }
 ],
 "metadata": {
  "kernelspec": {
   "display_name": "Python 3.11 Kernel",
   "language": "python",
   "name": "python311"
  },
  "language_info": {
   "codemirror_mode": {
    "name": "ipython",
    "version": 3
   },
   "file_extension": ".py",
   "mimetype": "text/x-python",
   "name": "python",
   "nbconvert_exporter": "python",
   "pygments_lexer": "ipython3",
   "version": "3.11.4"
  },
  "widgets": {
   "application/vnd.jupyter.widget-state+json": {
    "state": {},
    "version_major": 2,
    "version_minor": 0
   }
  }
 },
 "nbformat": 4,
 "nbformat_minor": 5
}
