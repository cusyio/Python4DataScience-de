{
 "cells": [
  {
   "cell_type": "markdown",
   "id": "c03a7d37",
   "metadata": {},
   "source": [
    "# Mathematische und statistische Methoden\n",
    "\n",
    "Eine Reihe von mathematischen Funktionen, die Statistiken über ein ganzes Array oder über die Daten entlang einer Achse berechnen, sind als Methoden der Array-Klasse zugänglich. So könnt ihr Aggregationen verwenden wie Summe, Mittelwert und Standardabweichung, indem ihr entweder die Array-Instanzmethode aufruft oder die NumPy-Funktion der obersten Ebene verwendet."
   ]
  },
  {
   "cell_type": "markdown",
   "id": "4013204e",
   "metadata": {},
   "source": [
    "Im folgenden generiere ich einige normalverteilte Zufallsdaten und berechne einige aggregierte Statistiken:"
   ]
  },
  {
   "cell_type": "code",
   "execution_count": 1,
   "id": "b413c7b0",
   "metadata": {},
   "outputs": [
    {
     "data": {
      "text/plain": [
       "array([[ 0.1636264 , -0.07479277, -0.20255074],\n",
       "       [-0.74231862,  1.09947779,  0.78135583],\n",
       "       [ 0.63855308,  0.32602387,  0.61464571],\n",
       "       [ 0.23415688, -0.91457139, -0.31875483],\n",
       "       [-0.02505313,  1.25184632,  1.4875972 ],\n",
       "       [-0.20283564,  3.13198588,  1.74734662],\n",
       "       [ 0.93549941, -1.0149449 , -0.44490236]])"
      ]
     },
     "execution_count": 1,
     "metadata": {},
     "output_type": "execute_result"
    }
   ],
   "source": [
    "import numpy as np\n",
    "\n",
    "data = np.random.randn(7, 3)\n",
    "\n",
    "data"
   ]
  },
  {
   "cell_type": "code",
   "execution_count": 2,
   "id": "456e9376",
   "metadata": {},
   "outputs": [
    {
     "data": {
      "text/plain": [
       "0.40339955359802476"
      ]
     },
     "execution_count": 2,
     "metadata": {},
     "output_type": "execute_result"
    }
   ],
   "source": [
    "data.mean()"
   ]
  },
  {
   "cell_type": "code",
   "execution_count": 3,
   "id": "c8dc9d4e",
   "metadata": {},
   "outputs": [
    {
     "data": {
      "text/plain": [
       "0.40339955359802476"
      ]
     },
     "execution_count": 3,
     "metadata": {},
     "output_type": "execute_result"
    }
   ],
   "source": [
    "np.mean(data)"
   ]
  },
  {
   "cell_type": "code",
   "execution_count": 4,
   "id": "5092c04d",
   "metadata": {},
   "outputs": [
    {
     "data": {
      "text/plain": [
       "8.47139062555852"
      ]
     },
     "execution_count": 4,
     "metadata": {},
     "output_type": "execute_result"
    }
   ],
   "source": [
    "data.sum()"
   ]
  },
  {
   "cell_type": "markdown",
   "id": "b67e9edd",
   "metadata": {},
   "source": [
    "Funktionen wie `mean` und `sum` benötigen ein optionales Achsenargument, das die Statistik über die angegebene Achse berechnet, was zu einem Array mit einer Dimension weniger führt:"
   ]
  },
  {
   "cell_type": "code",
   "execution_count": 5,
   "id": "d84656ba",
   "metadata": {},
   "outputs": [
    {
     "data": {
      "text/plain": [
       "array([0.14308977, 0.54357497, 0.52353392])"
      ]
     },
     "execution_count": 5,
     "metadata": {},
     "output_type": "execute_result"
    }
   ],
   "source": [
    "data.mean(axis=0)"
   ]
  },
  {
   "cell_type": "code",
   "execution_count": 6,
   "id": "b7657887",
   "metadata": {},
   "outputs": [
    {
     "data": {
      "text/plain": [
       "array([1.00162838, 3.8050248 , 3.66473745])"
      ]
     },
     "execution_count": 6,
     "metadata": {},
     "output_type": "execute_result"
    }
   ],
   "source": [
    "data.sum(axis=0)"
   ]
  },
  {
   "cell_type": "markdown",
   "id": "ca7e65c0",
   "metadata": {},
   "source": [
    "Mit `data.mean(0)`, was dasselbe ist wie `data.mean(axis=0)`, wird der Mittelwert über die Zeilen berechnet, während `data.sum(0)` die Summe über die Zeilen berechnet."
   ]
  },
  {
   "cell_type": "markdown",
   "id": "84530009",
   "metadata": {},
   "source": [
    "Andere Methoden wie `cumsum` und `cumprod` aggregieren hingegen nicht, sondern erzeugen ein neues Array mit den Zwischenergebnissen.\n",
    "\n",
    "In mehrdimensionalen Arrays geben Akkumulationsfunktionen wie `cumsum` und `cumprodm` ein Array derselben Größe zurück, aber mit den entlang der angegebenen Achse berechneten Teilaggregaten:"
   ]
  },
  {
   "cell_type": "code",
   "execution_count": 7,
   "id": "d50cfc21",
   "metadata": {},
   "outputs": [
    {
     "data": {
      "text/plain": [
       "array([ 0.1636264 ,  0.08883362, -0.11371711, -0.85603574,  0.24344206,\n",
       "        1.02479789,  1.66335097,  1.98937484,  2.60402055,  2.83817743,\n",
       "        1.92360604,  1.60485122,  1.57979809,  2.83164441,  4.31924161,\n",
       "        4.11640597,  7.24839184,  8.99573847,  9.93123788,  8.91629298,\n",
       "        8.47139063])"
      ]
     },
     "execution_count": 7,
     "metadata": {},
     "output_type": "execute_result"
    }
   ],
   "source": [
    "data.cumsum()"
   ]
  },
  {
   "cell_type": "code",
   "execution_count": 8,
   "id": "a6524b2b",
   "metadata": {},
   "outputs": [
    {
     "data": {
      "text/plain": [
       "array([ 1.63626397e-01, -1.22380721e-02,  2.47883053e-03, -1.84008206e-03,\n",
       "       -2.02312937e-03, -1.58078392e-03, -1.00941444e-03, -3.29093203e-04,\n",
       "       -2.02275727e-04, -4.73642533e-05,  4.33179909e-05, -1.38078186e-05,\n",
       "        3.45929093e-07,  4.33050061e-07,  6.44204058e-07, -1.30667543e-07,\n",
       "       -4.09248898e-07, -7.15099681e-07, -6.68975332e-07,  6.78973099e-07,\n",
       "       -3.02076731e-07])"
      ]
     },
     "execution_count": 8,
     "metadata": {},
     "output_type": "execute_result"
    }
   ],
   "source": [
    "data.cumprod()"
   ]
  },
  {
   "cell_type": "markdown",
   "id": "b73111f2",
   "metadata": {},
   "source": [
    "Grundlegende statistische Methoden für Arrays:\n",
    "\n",
    "Methode | Beschreibung\n",
    ":------ | :-----------\n",
    "`sum` | Summe aller Elemente im Array oder entlang einer Achse\n",
    "`mean` | Arithmetisches Mittel; bei Arrays mit der Länge Null wird`NaN` zurückgegeben \n",
    "`std`, `var` | Standardabweichung bzw. Varianz\n",
    "`min`, `max` | Minimum und Maximum\n",
    "`argmin`, `argmax` | Indizes der minimalen bzw. maximalen Elemente\n",
    "`cumsum` | Kumulative Summe der Elemente, beginnend mit `0`\n",
    "`cumprod` | Kumulatives Produkt der Elemente, beginnend mit `1`"
   ]
  }
 ],
 "metadata": {
  "kernelspec": {
   "display_name": "Python 3.8",
   "language": "python",
   "name": "python-38"
  },
  "language_info": {
   "codemirror_mode": {
    "name": "ipython",
    "version": 3
   },
   "file_extension": ".py",
   "mimetype": "text/x-python",
   "name": "python",
   "nbconvert_exporter": "python",
   "pygments_lexer": "ipython3",
   "version": "3.8.12"
  }
 },
 "nbformat": 4,
 "nbformat_minor": 5
}
