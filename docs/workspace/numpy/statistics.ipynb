{
 "cells": [
  {
   "cell_type": "markdown",
   "id": "c03a7d37",
   "metadata": {},
   "source": [
    "# Mathematische und statistische Methoden\n",
    "\n",
    "Eine Reihe von mathematischen Funktionen, die Statistiken über ein ganzes Array oder über die Daten entlang einer Achse berechnen, sind als Methoden der Array-Klasse zugänglich. So könnt ihr Aggregationen verwenden wie Summe, Mittelwert und Standardabweichung, indem ihr entweder die Array-Instanzmethode aufruft oder die NumPy-Funktion der obersten Ebene verwendet."
   ]
  },
  {
   "cell_type": "markdown",
   "id": "4013204e",
   "metadata": {},
   "source": [
    "Im folgenden generiere ich einige normalverteilte Zufallsdaten und berechne einige aggregierte Statistiken:"
   ]
  },
  {
   "cell_type": "code",
   "execution_count": 1,
   "id": "b413c7b0",
   "metadata": {},
   "outputs": [
    {
     "data": {
      "text/plain": [
       "array([[ 0.18843607,  0.88915798, -1.02312149],\n",
       "       [-0.54203693,  0.59941042, -0.53122088],\n",
       "       [ 0.06076139, -0.21311012, -0.88051756],\n",
       "       [ 0.24406085, -0.58979742,  0.94331326],\n",
       "       [-0.29601087,  1.77604065,  0.81100665],\n",
       "       [-1.09810936, -1.52484115,  0.35186377],\n",
       "       [-0.45311951, -0.95634787, -0.65011365]])"
      ]
     },
     "execution_count": 1,
     "metadata": {},
     "output_type": "execute_result"
    }
   ],
   "source": [
    "import numpy as np\n",
    "\n",
    "\n",
    "data = np.random.randn(7, 3)\n",
    "\n",
    "data"
   ]
  },
  {
   "cell_type": "code",
   "execution_count": 2,
   "id": "456e9376",
   "metadata": {},
   "outputs": [
    {
     "data": {
      "text/plain": [
       "np.float64(-0.13782360834805996)"
      ]
     },
     "execution_count": 2,
     "metadata": {},
     "output_type": "execute_result"
    }
   ],
   "source": [
    "data.mean()"
   ]
  },
  {
   "cell_type": "code",
   "execution_count": 3,
   "id": "c8dc9d4e",
   "metadata": {},
   "outputs": [
    {
     "data": {
      "text/plain": [
       "np.float64(-0.13782360834805996)"
      ]
     },
     "execution_count": 3,
     "metadata": {},
     "output_type": "execute_result"
    }
   ],
   "source": [
    "np.mean(data)"
   ]
  },
  {
   "cell_type": "code",
   "execution_count": 4,
   "id": "5092c04d",
   "metadata": {},
   "outputs": [
    {
     "data": {
      "text/plain": [
       "np.float64(-2.894295775309259)"
      ]
     },
     "execution_count": 4,
     "metadata": {},
     "output_type": "execute_result"
    }
   ],
   "source": [
    "data.sum()"
   ]
  },
  {
   "cell_type": "markdown",
   "id": "b67e9edd",
   "metadata": {},
   "source": [
    "Funktionen wie `mean` und `sum` benötigen ein optionales Achsenargument, das die Statistik über die angegebene Achse berechnet, was zu einem Array mit einer Dimension weniger führt:"
   ]
  },
  {
   "cell_type": "code",
   "execution_count": 5,
   "id": "d84656ba",
   "metadata": {},
   "outputs": [
    {
     "data": {
      "text/plain": [
       "array([-0.27085977, -0.00278393, -0.13982713])"
      ]
     },
     "execution_count": 5,
     "metadata": {},
     "output_type": "execute_result"
    }
   ],
   "source": [
    "data.mean(axis=0)"
   ]
  },
  {
   "cell_type": "code",
   "execution_count": 6,
   "id": "b7657887",
   "metadata": {},
   "outputs": [
    {
     "data": {
      "text/plain": [
       "array([-1.89601836, -0.0194875 , -0.97878991])"
      ]
     },
     "execution_count": 6,
     "metadata": {},
     "output_type": "execute_result"
    }
   ],
   "source": [
    "data.sum(axis=0)"
   ]
  },
  {
   "cell_type": "markdown",
   "id": "ca7e65c0",
   "metadata": {},
   "source": [
    "Mit `data.mean(0)`, was dasselbe ist wie `data.mean(axis=0)`, wird der Mittelwert über die Zeilen berechnet, während `data.sum(0)` die Summe über die Zeilen berechnet."
   ]
  },
  {
   "cell_type": "markdown",
   "id": "84530009",
   "metadata": {},
   "source": [
    "Andere Methoden wie `cumsum` und `cumprod` aggregieren hingegen nicht, sondern erzeugen ein neues Array mit den Zwischenergebnissen.\n",
    "\n",
    "In mehrdimensionalen Arrays geben Akkumulationsfunktionen wie `cumsum` und `cumprodm` ein Array derselben Größe zurück, aber mit den entlang der angegebenen Achse berechneten Teilaggregaten:"
   ]
  },
  {
   "cell_type": "code",
   "execution_count": 7,
   "id": "d50cfc21",
   "metadata": {},
   "outputs": [
    {
     "data": {
      "text/plain": [
       "array([ 0.18843607,  1.07759404,  0.05447255, -0.48756438,  0.11184604,\n",
       "       -0.41937485, -0.35861345, -0.57172357, -1.45224112, -1.20818027,\n",
       "       -1.79797769, -0.85466443, -1.1506753 ,  0.62536534,  1.436372  ,\n",
       "        0.33826264, -1.18657851, -0.83471474, -1.28783426, -2.24418212,\n",
       "       -2.89429578])"
      ]
     },
     "execution_count": 7,
     "metadata": {},
     "output_type": "execute_result"
    }
   ],
   "source": [
    "data.cumsum()"
   ]
  },
  {
   "cell_type": "code",
   "execution_count": 8,
   "id": "a6524b2b",
   "metadata": {},
   "outputs": [
    {
     "data": {
      "text/plain": [
       "array([ 1.88436066e-01,  1.67549431e-01, -1.71423423e-01,  9.29178263e-02,\n",
       "        5.56959130e-02, -2.95868322e-02, -1.79773715e-03,  3.83115971e-04,\n",
       "       -3.37340339e-04, -8.23315706e-05,  4.85589476e-05,  4.58062991e-05,\n",
       "       -1.35591625e-05, -2.40816237e-05, -1.95303569e-05,  2.14464678e-05,\n",
       "       -3.27024565e-05, -1.15068095e-05,  5.21395994e-06, -4.98635947e-06,\n",
       "        3.24170036e-06])"
      ]
     },
     "execution_count": 8,
     "metadata": {},
     "output_type": "execute_result"
    }
   ],
   "source": [
    "data.cumprod()"
   ]
  },
  {
   "cell_type": "markdown",
   "id": "b73111f2",
   "metadata": {},
   "source": [
    "Grundlegende statistische Methoden für Arrays:\n",
    "\n",
    "Methode | Beschreibung\n",
    ":------ | :-----------\n",
    "`sum` | Summe aller Elemente im Array oder entlang einer Achse\n",
    "`mean` | Arithmetisches Mittel; bei Arrays mit der Länge Null wird`NaN` zurückgegeben \n",
    "`std`, `var` | Standardabweichung bzw. Varianz\n",
    "`min`, `max` | Minimum und Maximum\n",
    "`argmin`, `argmax` | Indizes der minimalen bzw. maximalen Elemente\n",
    "`cumsum` | Kumulative Summe der Elemente, beginnend mit `0`\n",
    "`cumprod` | Kumulatives Produkt der Elemente, beginnend mit `1`"
   ]
  }
 ],
 "metadata": {
  "kernelspec": {
   "display_name": "Python 3.13 Kernel",
   "language": "python",
   "name": "python313"
  },
  "language_info": {
   "codemirror_mode": {
    "name": "ipython",
    "version": 3
   },
   "file_extension": ".py",
   "mimetype": "text/x-python",
   "name": "python",
   "nbconvert_exporter": "python",
   "pygments_lexer": "ipython3",
   "version": "3.13.0"
  },
  "widgets": {
   "application/vnd.jupyter.widget-state+json": {
    "state": {},
    "version_major": 2,
    "version_minor": 0
   }
  }
 },
 "nbformat": 4,
 "nbformat_minor": 5
}
