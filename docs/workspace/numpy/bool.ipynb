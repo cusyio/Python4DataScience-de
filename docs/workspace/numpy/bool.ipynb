{
 "cells": [
  {
   "cell_type": "markdown",
   "id": "4f955299",
   "metadata": {},
   "source": [
    "# Methoden für boolesche Arrays\n",
    "\n",
    "Boolesche Werte wurden in den vorangegangenen Methoden in 1 (`True`) und 0 (`False`) umgewandelt. Daher wird `sum` oft zum Zählen der `True`-Werte in einem booleschen Array verwendet:"
   ]
  },
  {
   "cell_type": "code",
   "execution_count": 1,
   "id": "69fd9f95",
   "metadata": {},
   "outputs": [],
   "source": [
    "import numpy as np"
   ]
  },
  {
   "cell_type": "code",
   "execution_count": 2,
   "id": "b8030f19",
   "metadata": {},
   "outputs": [],
   "source": [
    "data = np.random.randn(7, 3)"
   ]
  },
  {
   "cell_type": "markdown",
   "id": "35a96a47",
   "metadata": {},
   "source": [
    "Anzahl der positiven Werte:"
   ]
  },
  {
   "cell_type": "code",
   "execution_count": 3,
   "id": "28c9eba4",
   "metadata": {},
   "outputs": [
    {
     "data": {
      "text/plain": [
       "10"
      ]
     },
     "execution_count": 3,
     "metadata": {},
     "output_type": "execute_result"
    }
   ],
   "source": [
    "(data > 0).sum()"
   ]
  },
  {
   "cell_type": "markdown",
   "id": "8335f7e1",
   "metadata": {},
   "source": [
    "Anzahl der negativen Werte:"
   ]
  },
  {
   "cell_type": "code",
   "execution_count": 4,
   "id": "8fcc6bc8",
   "metadata": {},
   "outputs": [
    {
     "data": {
      "text/plain": [
       "11"
      ]
     },
     "execution_count": 4,
     "metadata": {},
     "output_type": "execute_result"
    }
   ],
   "source": [
    "(data < 0).sum()"
   ]
  },
  {
   "cell_type": "markdown",
   "id": "8bcc5984",
   "metadata": {},
   "source": [
    "Es gibt zwei zusätzliche Methoden, `any` und `all`, die besonders für boolesche Arrays nützlich sind:\n",
    "\n",
    "* `any` prüft, ob ein oder mehrere Werte in einem Array wahr sind\n",
    "* `all` prüft, ob jeder Wert wahr ist"
   ]
  },
  {
   "cell_type": "code",
   "execution_count": 5,
   "id": "99e05a71",
   "metadata": {},
   "outputs": [
    {
     "data": {
      "text/plain": [
       "array([[ True, False, False],\n",
       "       [False, False,  True],\n",
       "       [ True,  True, False],\n",
       "       [False,  True, False],\n",
       "       [ True, False, False],\n",
       "       [False, False, False],\n",
       "       [ True,  True,  True]])"
      ]
     },
     "execution_count": 5,
     "metadata": {},
     "output_type": "execute_result"
    }
   ],
   "source": [
    "data2 = np.random.randn(7, 3)\n",
    "\n",
    "bools = data > data2\n",
    "\n",
    "bools"
   ]
  },
  {
   "cell_type": "code",
   "execution_count": 6,
   "id": "22887677",
   "metadata": {},
   "outputs": [
    {
     "data": {
      "text/plain": [
       "True"
      ]
     },
     "execution_count": 6,
     "metadata": {},
     "output_type": "execute_result"
    }
   ],
   "source": [
    "bools.any()"
   ]
  },
  {
   "cell_type": "code",
   "execution_count": 7,
   "id": "bc1b7a96",
   "metadata": {},
   "outputs": [
    {
     "data": {
      "text/plain": [
       "False"
      ]
     },
     "execution_count": 7,
     "metadata": {},
     "output_type": "execute_result"
    }
   ],
   "source": [
    "bools.all()"
   ]
  }
 ],
 "metadata": {
  "kernelspec": {
   "display_name": "Python 3.8",
   "language": "python",
   "name": "python-38"
  },
  "language_info": {
   "codemirror_mode": {
    "name": "ipython",
    "version": 3
   },
   "file_extension": ".py",
   "mimetype": "text/x-python",
   "name": "python",
   "nbconvert_exporter": "python",
   "pygments_lexer": "ipython3",
   "version": "3.8.12"
  }
 },
 "nbformat": 4,
 "nbformat_minor": 5
}
