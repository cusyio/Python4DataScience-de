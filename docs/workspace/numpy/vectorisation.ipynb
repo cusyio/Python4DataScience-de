{
 "cells": [
  {
   "cell_type": "markdown",
   "id": "f020bc3e",
   "metadata": {},
   "source": [
    "# Array-orientierte Programmierung – Vektorisierung\n",
    "\n",
    "Die Verwendung von NumPy-Arrays ermöglicht euch, viele Arten von Datenverarbeitungsaufgaben als prägnante Array-Ausdrücke auszudrücken, die andernfalls das Schreiben von `for`-Schleifen erfordern würden. Diese Praxis, Schleifen durch Array-Ausdrücke zu ersetzen, wird auch _Vektorisierung_ genannt. Im Allgemeinen sind vektorisierte Array-Operationen deutlich schneller als ihre reinen Python-Entsprechungen."
   ]
  },
  {
   "cell_type": "markdown",
   "id": "6e51413d",
   "metadata": {},
   "source": [
    "Im folgenden Beispiel quadrieren wir alle Zahlen in einem Array:"
   ]
  },
  {
   "cell_type": "code",
   "execution_count": 1,
   "id": "7e7995c0",
   "metadata": {},
   "outputs": [
    {
     "data": {
      "text/plain": [
       "array([[ 0.44578509,  0.32402334,  0.37327559, -1.00438098],\n",
       "       [-0.30048222,  0.344657  , -0.3644585 ,  1.79701558],\n",
       "       [ 0.18113983,  0.67550929, -0.47352962, -0.52906828],\n",
       "       [-0.07285829,  1.03001736, -1.45738627, -0.55277441]])"
      ]
     },
     "execution_count": 1,
     "metadata": {},
     "output_type": "execute_result"
    }
   ],
   "source": [
    "import numpy as np\n",
    "\n",
    "data = np.random.randn(4, 4)\n",
    "data"
   ]
  },
  {
   "cell_type": "code",
   "execution_count": 2,
   "id": "ec4cef8e",
   "metadata": {},
   "outputs": [
    {
     "data": {
      "text/plain": [
       "array([[0.19872434, 0.10499112, 0.13933466, 1.00878115],\n",
       "       [0.09028956, 0.11878845, 0.13283   , 3.22926499],\n",
       "       [0.03281164, 0.4563128 , 0.2242303 , 0.27991324],\n",
       "       [0.00530833, 1.06093576, 2.12397473, 0.30555955]])"
      ]
     },
     "execution_count": 2,
     "metadata": {},
     "output_type": "execute_result"
    }
   ],
   "source": [
    "np.square(data)"
   ]
  }
 ],
 "metadata": {
  "kernelspec": {
   "display_name": "Python 3.8",
   "language": "python",
   "name": "python-38"
  },
  "language_info": {
   "codemirror_mode": {
    "name": "ipython",
    "version": 3
   },
   "file_extension": ".py",
   "mimetype": "text/x-python",
   "name": "python",
   "nbconvert_exporter": "python",
   "pygments_lexer": "ipython3",
   "version": "3.8.12"
  }
 },
 "nbformat": 4,
 "nbformat_minor": 5
}
