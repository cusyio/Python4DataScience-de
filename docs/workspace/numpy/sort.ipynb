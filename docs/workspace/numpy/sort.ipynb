{
 "cells": [
  {
   "cell_type": "markdown",
   "id": "6b60b290",
   "metadata": {},
   "source": [
    "# Sortieren\n",
    "\n",
    "Wie in Pythons `list` können NumPy-Arrays mit der Sortiermethode [numpy.sort](https://numpy.org/doc/stable/reference/generated/numpy.sort.html) in-place sortiert werden. Dabei könnt ihr jeden eindimensionalen Abschnitt von Werten in einem mehrdimensionalen Array an Ort und Stelle entlang einer Achse sortieren, indem ihr die Achsennummer zum Sortieren übergebt:"
   ]
  },
  {
   "cell_type": "code",
   "execution_count": 1,
   "id": "426015ee",
   "metadata": {},
   "outputs": [
    {
     "data": {
      "text/plain": [
       "array([[-0.56284094, -0.33779884,  0.01886388],\n",
       "       [-1.61021704,  0.52704153,  0.96303615],\n",
       "       [ 0.81173664, -4.40632737,  0.58281267],\n",
       "       [ 0.24646619,  0.73165879,  0.64359417],\n",
       "       [ 2.06398772, -0.74374727, -0.24729191],\n",
       "       [-0.19820382,  1.28179855, -0.47229339],\n",
       "       [-0.40045568,  0.55265251,  0.49467883]])"
      ]
     },
     "execution_count": 1,
     "metadata": {},
     "output_type": "execute_result"
    }
   ],
   "source": [
    "import numpy as np\n",
    "\n",
    "data = np.random.randn(7, 3)\n",
    "\n",
    "data"
   ]
  },
  {
   "cell_type": "code",
   "execution_count": 2,
   "id": "ce1954e2",
   "metadata": {},
   "outputs": [
    {
     "data": {
      "text/plain": [
       "array([[-1.61021704, -4.40632737, -0.47229339],\n",
       "       [-0.56284094, -0.74374727, -0.24729191],\n",
       "       [-0.40045568, -0.33779884,  0.01886388],\n",
       "       [-0.19820382,  0.52704153,  0.49467883],\n",
       "       [ 0.24646619,  0.55265251,  0.58281267],\n",
       "       [ 0.81173664,  0.73165879,  0.64359417],\n",
       "       [ 2.06398772,  1.28179855,  0.96303615]])"
      ]
     },
     "execution_count": 2,
     "metadata": {},
     "output_type": "execute_result"
    }
   ],
   "source": [
    "data.sort(0)\n",
    "\n",
    "data"
   ]
  },
  {
   "cell_type": "markdown",
   "id": "48e99a1e",
   "metadata": {},
   "source": [
    "`np.sort` gibt hingegen eine sortierte Kopie eines Arrays zurück, anstatt das Array an Ort und Stelle zu verändern:"
   ]
  },
  {
   "cell_type": "code",
   "execution_count": 6,
   "id": "aee5c3d1",
   "metadata": {},
   "outputs": [
    {
     "data": {
      "text/plain": [
       "array([[-4.40632737, -1.61021704, -0.47229339],\n",
       "       [-0.74374727, -0.56284094, -0.24729191],\n",
       "       [-0.40045568, -0.33779884,  0.01886388],\n",
       "       [-0.19820382,  0.49467883,  0.52704153],\n",
       "       [ 0.24646619,  0.55265251,  0.58281267],\n",
       "       [ 0.64359417,  0.73165879,  0.81173664],\n",
       "       [ 0.96303615,  1.28179855,  2.06398772]])"
      ]
     },
     "execution_count": 6,
     "metadata": {},
     "output_type": "execute_result"
    }
   ],
   "source": [
    "np.sort(data, axis=1)"
   ]
  }
 ],
 "metadata": {
  "kernelspec": {
   "display_name": "Python 3.8",
   "language": "python",
   "name": "python-38"
  },
  "language_info": {
   "codemirror_mode": {
    "name": "ipython",
    "version": 3
   },
   "file_extension": ".py",
   "mimetype": "text/x-python",
   "name": "python",
   "nbconvert_exporter": "python",
   "pygments_lexer": "ipython3",
   "version": "3.8.12"
  }
 },
 "nbformat": 4,
 "nbformat_minor": 5
}
