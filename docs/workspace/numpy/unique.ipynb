{
 "cells": [
  {
   "cell_type": "markdown",
   "id": "2bb8a171",
   "metadata": {},
   "source": [
    "# `unique` und andere Mengenlogik\n",
    "\n",
    "NumPy hat einige grundlegende Mengenoperationen für eindimensionale `ndarray`. Eine häufig verwendete ist [numpy.unique](https://numpy.org/doc/stable/reference/generated/numpy.unique.html), die die sortierten eindeutigen Werte in einem Array zurückgibt:"
   ]
  },
  {
   "cell_type": "code",
   "execution_count": 1,
   "id": "7cc7e817",
   "metadata": {},
   "outputs": [],
   "source": [
    "import numpy as np\n",
    "\n",
    "names = np.array(['Liam', 'Olivia', 'Noah', 'Liam', 'Noah', 'Olivia', 'Liam', 'Emma', 'Oliver', 'Ava'])"
   ]
  },
  {
   "cell_type": "code",
   "execution_count": 2,
   "id": "254fa327",
   "metadata": {},
   "outputs": [
    {
     "data": {
      "text/plain": [
       "array(['Ava', 'Emma', 'Liam', 'Noah', 'Oliver', 'Olivia'], dtype='<U6')"
      ]
     },
     "execution_count": 2,
     "metadata": {},
     "output_type": "execute_result"
    }
   ],
   "source": [
    "np.unique(names)"
   ]
  },
  {
   "cell_type": "markdown",
   "id": "cfa62a8b",
   "metadata": {},
   "source": [
    "Mit [numpy.in1d](html) lässt sich die Zugehörigkeit der Werte in einem eindimensionalen Array zu einem anderen Array überprüfen wobei ein boolesches Array zurückgegeben wird:"
   ]
  },
  {
   "cell_type": "code",
   "execution_count": 3,
   "id": "0453a0d0",
   "metadata": {},
   "outputs": [
    {
     "data": {
      "text/plain": [
       "array([False, False, False, False, False, False, False,  True, False,\n",
       "        True])"
      ]
     },
     "execution_count": 3,
     "metadata": {},
     "output_type": "execute_result"
    }
   ],
   "source": [
    "np.in1d(names, ['Emma', 'Ava', 'Charlotte'])"
   ]
  },
  {
   "cell_type": "markdown",
   "id": "f6a96506",
   "metadata": {},
   "source": [
    "Array-Mengenoperationen:\n",
    "    \n",
    "Methode | Beschreibung\n",
    ":------ | :-----------\n",
    "`unique(x)` | berechnet die sortierten, eindeutigen Elemente in `x`\n",
    "`intersect1d(x, y)` | berechnet die sortierten, gemeinsamen Elemente in `x` und `y`\n",
    "`union1d(x, y)` | berechnet die sortierte Vereinigung von Elementen\n",
    "`in1d(x, y)` | berechnet ein boolesches Array, das angibt, ob jedes Element von `x` in `y` enthalten ist\n",
    "`setdiff1d(x, y)` | setzt die Differenz der Elemente in `x`, die nicht in `y` enthalten sind\n",
    "`setxor1d(x, y)` | setzt symmetrische Differenzen; Elemente, die in einem der Arrays enthalten sind, aber nicht in beiden"
   ]
  }
 ],
 "metadata": {
  "kernelspec": {
   "display_name": "Python 3.8",
   "language": "python",
   "name": "python-38"
  },
  "language_info": {
   "codemirror_mode": {
    "name": "ipython",
    "version": 3
   },
   "file_extension": ".py",
   "mimetype": "text/x-python",
   "name": "python",
   "nbconvert_exporter": "python",
   "pygments_lexer": "ipython3",
   "version": "3.8.12"
  }
 },
 "nbformat": 4,
 "nbformat_minor": 5
}
