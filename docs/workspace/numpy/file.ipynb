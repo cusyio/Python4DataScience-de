{
 "cells": [
  {
   "cell_type": "markdown",
   "id": "ab82ed77",
   "metadata": {},
   "source": [
    "# Dateieingabe und -ausgabe mit Arrays\n",
    "\n",
    "NumPy ist in der Lage, Daten in einigen Text- oder Binärformaten auf der Festplatte zu speichern und von dort zu laden. In diesem Abschnitt gehe ich jedoch nur auf das NumPy-eigene Binärformat ein, da meist pandas oder andere Werkzeuge zum Laden von Text- oder Tabellendaten verwendet werden (siehe [Daten lesen, speichern und bereitstellen](../../data-processing/index.rst)).\n",
    "\n",
    "`np.save` und `np.load` sind die beiden wichtigsten Funktionen zum effizienten Speichern und Laden von Array-Daten auf der Festplatte. Arrays werden standardmäßig in einem unkomprimierten Rohbinärformat mit der Dateierweiterung `.npy` gespeichert:"
   ]
  },
  {
   "cell_type": "code",
   "execution_count": 1,
   "id": "87d74bba",
   "metadata": {},
   "outputs": [],
   "source": [
    "import numpy as np\n",
    "\n",
    "data = np.random.randn(7, 3)\n",
    "\n",
    "np.save('my_data', data)"
   ]
  },
  {
   "cell_type": "markdown",
   "id": "9ce05e9b",
   "metadata": {},
   "source": [
    "Wenn der Dateipfad nicht bereits auf `.npy` endet, wird die Erweiterung angehängt. Das Array auf der Festplatte kann dann mit `np.load` geladen werden:"
   ]
  },
  {
   "cell_type": "code",
   "execution_count": 2,
   "id": "d8e5a54f",
   "metadata": {},
   "outputs": [
    {
     "data": {
      "text/plain": [
       "array([[ 0.94742917, -1.61998927,  0.58811464],\n",
       "       [ 0.76779587, -1.30799936, -0.23834223],\n",
       "       [-2.13912266, -0.49191404, -0.49316354],\n",
       "       [-0.62636589, -1.2023549 ,  1.41655391],\n",
       "       [ 0.85182508,  0.09138964,  0.79240571],\n",
       "       [ 1.22517044,  0.9233269 ,  0.44967536],\n",
       "       [-0.68252408, -0.00765624,  0.10032318]])"
      ]
     },
     "execution_count": 2,
     "metadata": {},
     "output_type": "execute_result"
    }
   ],
   "source": [
    "np.load('my_data.npy')"
   ]
  },
  {
   "cell_type": "markdown",
   "id": "761e6276",
   "metadata": {},
   "source": [
    "Ihr könnt mehrere Arrays in einem unkomprimierten Archiv speichern indem ihr `np.savez` verwendet und die Arrays als Schlüsselwortargumente übergebt:"
   ]
  },
  {
   "cell_type": "code",
   "execution_count": 3,
   "id": "f5886d8c",
   "metadata": {},
   "outputs": [],
   "source": [
    "np.savez('data_archive.npz', a=data, b=np.square(data))"
   ]
  },
  {
   "cell_type": "code",
   "execution_count": 4,
   "id": "f1ff70cd",
   "metadata": {},
   "outputs": [
    {
     "data": {
      "text/plain": [
       "array([[8.97622033e-01, 2.62436524e+00, 3.45878832e-01],\n",
       "       [5.89510504e-01, 1.71086232e+00, 5.68070195e-02],\n",
       "       [4.57584576e+00, 2.41979423e-01, 2.43210281e-01],\n",
       "       [3.92334231e-01, 1.44565730e+00, 2.00662497e+00],\n",
       "       [7.25605970e-01, 8.35206615e-03, 6.27906803e-01],\n",
       "       [1.50104262e+00, 8.52532560e-01, 2.02207929e-01],\n",
       "       [4.65839120e-01, 5.86179351e-05, 1.00647409e-02]])"
      ]
     },
     "execution_count": 4,
     "metadata": {},
     "output_type": "execute_result"
    }
   ],
   "source": [
    "archive = np.load('data_archive.npz')\n",
    "\n",
    "archive['b']"
   ]
  }
 ],
 "metadata": {
  "kernelspec": {
   "display_name": "Python 3.8",
   "language": "python",
   "name": "python-38"
  },
  "language_info": {
   "codemirror_mode": {
    "name": "ipython",
    "version": 3
   },
   "file_extension": ".py",
   "mimetype": "text/x-python",
   "name": "python",
   "nbconvert_exporter": "python",
   "pygments_lexer": "ipython3",
   "version": "3.8.12"
  }
 },
 "nbformat": 4,
 "nbformat_minor": 5
}
