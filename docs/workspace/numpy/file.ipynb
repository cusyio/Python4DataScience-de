{
 "cells": [
  {
   "cell_type": "markdown",
   "id": "ab82ed77",
   "metadata": {},
   "source": [
    "# Dateieingabe und -ausgabe mit Arrays\n",
    "\n",
    "NumPy ist in der Lage, Daten in einigen Text- oder Binärformaten auf der Festplatte zu speichern und von dort zu laden. In diesem Abschnitt gehe ich jedoch nur auf das NumPy-eigene Binärformat ein, da meist pandas oder andere Werkzeuge zum Laden von Text- oder Tabellendaten verwendet werden (siehe [Daten lesen, speichern und bereitstellen](../../data-processing/index.rst)).\n",
    "\n",
    "`np.save` und `np.load` sind die beiden wichtigsten Funktionen zum effizienten Speichern und Laden von Array-Daten auf der Festplatte. Arrays werden standardmäßig in einem unkomprimierten Rohbinärformat mit der Dateierweiterung `.npy` gespeichert:"
   ]
  },
  {
   "cell_type": "code",
   "execution_count": 1,
   "id": "87d74bba",
   "metadata": {},
   "outputs": [],
   "source": [
    "import numpy as np\n",
    "\n",
    "\n",
    "data = np.random.randn(7, 3)\n",
    "\n",
    "np.save(\"my_data\", data)"
   ]
  },
  {
   "cell_type": "markdown",
   "id": "9ce05e9b",
   "metadata": {},
   "source": [
    "Wenn der Dateipfad nicht bereits auf `.npy` endet, wird die Erweiterung angehängt. Das Array auf der Festplatte kann dann mit `np.load` geladen werden:"
   ]
  },
  {
   "cell_type": "code",
   "execution_count": 2,
   "id": "d8e5a54f",
   "metadata": {},
   "outputs": [
    {
     "data": {
      "text/plain": [
       "array([[-1.84346172, -0.53302864,  1.37131024],\n",
       "       [ 0.23457529,  1.27414327,  1.77885434],\n",
       "       [ 0.52351246, -1.79912077, -0.55748198],\n",
       "       [ 0.24762959, -0.90100598,  0.18478303],\n",
       "       [-0.73525977, -1.63940599, -1.60407133],\n",
       "       [-0.62536449, -0.03524507, -0.82175049],\n",
       "       [-0.46539262, -0.26317502,  0.74846956]])"
      ]
     },
     "execution_count": 2,
     "metadata": {},
     "output_type": "execute_result"
    }
   ],
   "source": [
    "np.load(\"my_data.npy\")"
   ]
  },
  {
   "cell_type": "markdown",
   "id": "761e6276",
   "metadata": {},
   "source": [
    "Ihr könnt mehrere Arrays in einem unkomprimierten Archiv speichern indem ihr `np.savez` verwendet und die Arrays als Schlüsselwortargumente übergebt:"
   ]
  },
  {
   "cell_type": "code",
   "execution_count": 3,
   "id": "f5886d8c",
   "metadata": {},
   "outputs": [],
   "source": [
    "np.savez(\"data_archive.npz\", a=data, b=np.square(data))"
   ]
  },
  {
   "cell_type": "code",
   "execution_count": 4,
   "id": "f1ff70cd",
   "metadata": {},
   "outputs": [
    {
     "data": {
      "text/plain": [
       "array([[3.39835111e+00, 2.84119531e-01, 1.88049177e+00],\n",
       "       [5.50255688e-02, 1.62344108e+00, 3.16432278e+00],\n",
       "       [2.74065298e-01, 3.23683556e+00, 3.10786156e-01],\n",
       "       [6.13204151e-02, 8.11811769e-01, 3.41447698e-02],\n",
       "       [5.40606923e-01, 2.68765198e+00, 2.57304483e+00],\n",
       "       [3.91080744e-01, 1.24221481e-03, 6.75273860e-01],\n",
       "       [2.16590291e-01, 6.92610896e-02, 5.60206683e-01]])"
      ]
     },
     "execution_count": 4,
     "metadata": {},
     "output_type": "execute_result"
    }
   ],
   "source": [
    "archive = np.load(\"data_archive.npz\")\n",
    "\n",
    "archive[\"b\"]"
   ]
  }
 ],
 "metadata": {
  "kernelspec": {
   "display_name": "Python 3.11 Kernel",
   "language": "python",
   "name": "python311"
  },
  "language_info": {
   "codemirror_mode": {
    "name": "ipython",
    "version": 3
   },
   "file_extension": ".py",
   "mimetype": "text/x-python",
   "name": "python",
   "nbconvert_exporter": "python",
   "pygments_lexer": "ipython3",
   "version": "3.11.4"
  },
  "widgets": {
   "application/vnd.jupyter.widget-state+json": {
    "state": {},
    "version_major": 2,
    "version_minor": 0
   }
  }
 },
 "nbformat": 4,
 "nbformat_minor": 5
}
