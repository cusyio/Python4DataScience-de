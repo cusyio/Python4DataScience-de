{
 "cells": [
  {
   "cell_type": "markdown",
   "id": "ab82ed77",
   "metadata": {},
   "source": [
    "# Dateieingabe und -ausgabe mit Arrays\n",
    "\n",
    "NumPy ist in der Lage, Daten in einigen Text- oder Binärformaten auf der Festplatte zu speichern und von dort zu laden. In diesem Abschnitt gehe ich jedoch nur auf das NumPy-eigene Binärformat ein, da meist pandas oder andere Werkzeuge zum Laden von Text- oder Tabellendaten verwendet werden (siehe [Daten lesen, speichern und bereitstellen](../../data-processing/index.rst)).\n",
    "\n",
    "`np.save` und `np.load` sind die beiden wichtigsten Funktionen zum effizienten Speichern und Laden von Array-Daten auf der Festplatte. Arrays werden standardmäßig in einem unkomprimierten Rohbinärformat mit der Dateierweiterung `.npy` gespeichert:"
   ]
  },
  {
   "cell_type": "code",
   "execution_count": 1,
   "id": "87d74bba",
   "metadata": {},
   "outputs": [],
   "source": [
    "import numpy as np\n",
    "\n",
    "\n",
    "data = np.random.randn(7, 3)\n",
    "\n",
    "np.save(\"my_data\", data)"
   ]
  },
  {
   "cell_type": "markdown",
   "id": "9ce05e9b",
   "metadata": {},
   "source": [
    "Wenn der Dateipfad nicht bereits auf `.npy` endet, wird die Erweiterung angehängt. Das Array auf der Festplatte kann dann mit `np.load` geladen werden:"
   ]
  },
  {
   "cell_type": "code",
   "execution_count": 2,
   "id": "d8e5a54f",
   "metadata": {},
   "outputs": [
    {
     "data": {
      "text/plain": [
       "array([[-0.07914298, -1.07775794,  1.34250726],\n",
       "       [ 0.27807151,  0.07407572,  0.47487989],\n",
       "       [-0.33465757,  0.42858963, -0.39024943],\n",
       "       [ 0.21803192,  0.36384595,  0.44093406],\n",
       "       [ 0.97250621,  1.83059399, -0.61083086],\n",
       "       [-2.34561417, -1.09844897,  0.32205172],\n",
       "       [-1.66434797,  1.48229773, -0.07122811]])"
      ]
     },
     "execution_count": 2,
     "metadata": {},
     "output_type": "execute_result"
    }
   ],
   "source": [
    "np.load(\"my_data.npy\")"
   ]
  },
  {
   "cell_type": "markdown",
   "id": "761e6276",
   "metadata": {},
   "source": [
    "Ihr könnt mehrere Arrays in einem unkomprimierten Archiv speichern indem ihr `np.savez` verwendet und die Arrays als Schlüsselwortargumente übergebt:"
   ]
  },
  {
   "cell_type": "code",
   "execution_count": 3,
   "id": "f5886d8c",
   "metadata": {},
   "outputs": [],
   "source": [
    "np.savez(\"data_archive.npz\", a=data, b=np.square(data))"
   ]
  },
  {
   "cell_type": "code",
   "execution_count": 4,
   "id": "f1ff70cd",
   "metadata": {},
   "outputs": [
    {
     "data": {
      "text/plain": [
       "array([[6.26361077e-03, 1.16156219e+00, 1.80232574e+00],\n",
       "       [7.73237635e-02, 5.48721234e-03, 2.25510915e-01],\n",
       "       [1.11995691e-01, 1.83689071e-01, 1.52294615e-01],\n",
       "       [4.75379184e-02, 1.32383873e-01, 1.94422849e-01],\n",
       "       [9.45768329e-01, 3.35107437e+00, 3.73114342e-01],\n",
       "       [5.50190584e+00, 1.20659014e+00, 1.03717312e-01],\n",
       "       [2.77005416e+00, 2.19720657e+00, 5.07344362e-03]])"
      ]
     },
     "execution_count": 4,
     "metadata": {},
     "output_type": "execute_result"
    }
   ],
   "source": [
    "archive = np.load(\"data_archive.npz\")\n",
    "\n",
    "archive[\"b\"]"
   ]
  }
 ],
 "metadata": {
  "kernelspec": {
   "display_name": "Python 3.13 Kernel",
   "language": "python",
   "name": "python313"
  },
  "language_info": {
   "codemirror_mode": {
    "name": "ipython",
    "version": 3
   },
   "file_extension": ".py",
   "mimetype": "text/x-python",
   "name": "python",
   "nbconvert_exporter": "python",
   "pygments_lexer": "ipython3",
   "version": "3.13.0"
  },
  "widgets": {
   "application/vnd.jupyter.widget-state+json": {
    "state": {},
    "version_major": 2,
    "version_minor": 0
   }
  }
 },
 "nbformat": 4,
 "nbformat_minor": 5
}
