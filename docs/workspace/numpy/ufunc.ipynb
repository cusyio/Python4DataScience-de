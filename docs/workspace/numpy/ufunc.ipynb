{
 "cells": [
  {
   "cell_type": "markdown",
   "id": "fd4dff47",
   "metadata": {},
   "source": [
    "# Universelle Funktionen (`ufunc`)\n",
    "\n",
    "Eine universelle Funktion, oder `ufunc`, ist eine Funktion, die elementweise Operationen auf Daten in `ndarrays` durchführt. Man kann sie sich als schnelle vektorisierte Wrapper für einfache Funktionen vorstellen, die einen oder mehrere skalare Werte annehmen und ein oder mehrere skalare Ergebnisse erzeugen.\n",
    "\n",
    "Viele `ufuncs` sind einfache elementweise Transformationen, wie [sqrt](https://numpy.org/doc/stable/reference/generated/numpy.sqrt.html) oder [exp](https://numpy.org/doc/stable/reference/generated/numpy.exp.html):"
   ]
  },
  {
   "cell_type": "code",
   "execution_count": 1,
   "id": "f559f67e",
   "metadata": {},
   "outputs": [],
   "source": [
    "import numpy as np\n",
    "\n",
    "data = np.arange(10)"
   ]
  },
  {
   "cell_type": "code",
   "execution_count": 2,
   "id": "26e18ead",
   "metadata": {},
   "outputs": [
    {
     "data": {
      "text/plain": [
       "array([0, 1, 2, 3, 4, 5, 6, 7, 8, 9])"
      ]
     },
     "execution_count": 2,
     "metadata": {},
     "output_type": "execute_result"
    }
   ],
   "source": [
    "data"
   ]
  },
  {
   "cell_type": "code",
   "execution_count": 3,
   "id": "0a3b82aa",
   "metadata": {},
   "outputs": [
    {
     "data": {
      "text/plain": [
       "array([0.        , 1.        , 1.41421356, 1.73205081, 2.        ,\n",
       "       2.23606798, 2.44948974, 2.64575131, 2.82842712, 3.        ])"
      ]
     },
     "execution_count": 3,
     "metadata": {},
     "output_type": "execute_result"
    }
   ],
   "source": [
    "np.sqrt(data)"
   ]
  },
  {
   "cell_type": "code",
   "execution_count": 4,
   "id": "8da698e7",
   "metadata": {},
   "outputs": [
    {
     "data": {
      "text/plain": [
       "array([1.00000000e+00, 2.71828183e+00, 7.38905610e+00, 2.00855369e+01,\n",
       "       5.45981500e+01, 1.48413159e+02, 4.03428793e+02, 1.09663316e+03,\n",
       "       2.98095799e+03, 8.10308393e+03])"
      ]
     },
     "execution_count": 4,
     "metadata": {},
     "output_type": "execute_result"
    }
   ],
   "source": [
    "np.exp(data)"
   ]
  },
  {
   "cell_type": "markdown",
   "id": "1c16e2f2",
   "metadata": {},
   "source": [
    "Diese werden als einstellige ufuncs bezeichnet. Andere, wie [add](https://numpy.org/doc/stable/reference/generated/numpy.add.html) oder [maximum](https://numpy.org/doc/stable/reference/generated/numpy.maximum.html), nehmen zwei Arrays (also binäre ufuncs) und geben ein einziges Array als Ergebnis zurück:"
   ]
  },
  {
   "cell_type": "code",
   "execution_count": 5,
   "id": "ee94de95",
   "metadata": {},
   "outputs": [],
   "source": [
    "x = np.random.randn(8)"
   ]
  },
  {
   "cell_type": "code",
   "execution_count": 6,
   "id": "02371c77",
   "metadata": {},
   "outputs": [],
   "source": [
    "y = np.random.randn(8)"
   ]
  },
  {
   "cell_type": "code",
   "execution_count": 7,
   "id": "049727c7",
   "metadata": {},
   "outputs": [
    {
     "data": {
      "text/plain": [
       "array([ 0.27787269, -0.58356193, -0.10184236,  1.35055943, -1.57973878,\n",
       "        1.14278195, -1.08386512,  0.09227202])"
      ]
     },
     "execution_count": 7,
     "metadata": {},
     "output_type": "execute_result"
    }
   ],
   "source": [
    "x"
   ]
  },
  {
   "cell_type": "code",
   "execution_count": 8,
   "id": "590f83e7",
   "metadata": {},
   "outputs": [
    {
     "data": {
      "text/plain": [
       "array([ 0.32170798,  0.7041202 , -0.22124585, -0.01662225,  0.20266652,\n",
       "        0.53028692,  1.09999517, -0.47938682])"
      ]
     },
     "execution_count": 8,
     "metadata": {},
     "output_type": "execute_result"
    }
   ],
   "source": [
    "y"
   ]
  },
  {
   "cell_type": "code",
   "execution_count": 9,
   "id": "583063e6",
   "metadata": {},
   "outputs": [
    {
     "data": {
      "text/plain": [
       "array([ 0.32170798,  0.7041202 , -0.10184236,  1.35055943,  0.20266652,\n",
       "        1.14278195,  1.09999517,  0.09227202])"
      ]
     },
     "execution_count": 9,
     "metadata": {},
     "output_type": "execute_result"
    }
   ],
   "source": [
    "np.maximum(x, y)"
   ]
  },
  {
   "cell_type": "markdown",
   "id": "ce9fc716",
   "metadata": {},
   "source": [
    "Hier berechnete `numpy.maximum` das elementweise Maximum der Elemente in `x` und `y`."
   ]
  },
  {
   "cell_type": "markdown",
   "id": "901af41f",
   "metadata": {},
   "source": [
    "Manche `ufunc`, wie z.B. [modf](https://numpy.org/doc/stable/reference/generated/numpy.modf.html) , eine vektorisierte Version des eingebauten Python [divmod](https://docs.python.org/3/library/functions.html#divmod), geben mehrere Arrays zurückgeben: die Bruch- und Integralteile eines Gleitkomma-Arrays:"
   ]
  },
  {
   "cell_type": "code",
   "execution_count": 10,
   "id": "a4b665ed",
   "metadata": {},
   "outputs": [],
   "source": [
    "data = x * 5"
   ]
  },
  {
   "cell_type": "code",
   "execution_count": 11,
   "id": "34c8f475",
   "metadata": {},
   "outputs": [
    {
     "data": {
      "text/plain": [
       "array([ 1.38936344, -2.91780966, -0.50921179,  6.75279713, -7.89869391,\n",
       "        5.71390974, -5.4193256 ,  0.46136012])"
      ]
     },
     "execution_count": 11,
     "metadata": {},
     "output_type": "execute_result"
    }
   ],
   "source": [
    "data"
   ]
  },
  {
   "cell_type": "code",
   "execution_count": 12,
   "id": "1daabbb7",
   "metadata": {},
   "outputs": [],
   "source": [
    "remainder, whole_part = np.modf(x)"
   ]
  },
  {
   "cell_type": "code",
   "execution_count": 13,
   "id": "9d827342",
   "metadata": {},
   "outputs": [
    {
     "data": {
      "text/plain": [
       "array([ 0.27787269, -0.58356193, -0.10184236,  0.35055943, -0.57973878,\n",
       "        0.14278195, -0.08386512,  0.09227202])"
      ]
     },
     "execution_count": 13,
     "metadata": {},
     "output_type": "execute_result"
    }
   ],
   "source": [
    "remainder"
   ]
  },
  {
   "cell_type": "code",
   "execution_count": 14,
   "id": "9846dd84",
   "metadata": {},
   "outputs": [
    {
     "data": {
      "text/plain": [
       "array([ 0., -0., -0.,  1., -1.,  1., -1.,  0.])"
      ]
     },
     "execution_count": 14,
     "metadata": {},
     "output_type": "execute_result"
    }
   ],
   "source": [
    "whole_part"
   ]
  },
  {
   "cell_type": "markdown",
   "id": "2248cfbd",
   "metadata": {},
   "source": [
    "Ufuncs akzeptieren ein optionales `out`-Argument, das es euch erlaubt, eure Ergebnisse an ein bestehendes Array zu übertragen, anstatt ein neues zu erstellen:"
   ]
  },
  {
   "cell_type": "code",
   "execution_count": 15,
   "id": "28726c4d",
   "metadata": {},
   "outputs": [],
   "source": [
    "out = np.zeros_like(data)"
   ]
  },
  {
   "cell_type": "code",
   "execution_count": 16,
   "id": "a725be5a",
   "metadata": {},
   "outputs": [
    {
     "data": {
      "text/plain": [
       "array([ 2.38936344, -1.91780966,  0.49078821,  7.75279713, -6.89869391,\n",
       "        6.71390974, -4.4193256 ,  1.46136012])"
      ]
     },
     "execution_count": 16,
     "metadata": {},
     "output_type": "execute_result"
    }
   ],
   "source": [
    "np.add(data, 1)"
   ]
  },
  {
   "cell_type": "code",
   "execution_count": 17,
   "id": "1046df1e",
   "metadata": {},
   "outputs": [
    {
     "data": {
      "text/plain": [
       "array([ 2.38936344, -1.91780966,  0.49078821,  7.75279713, -6.89869391,\n",
       "        6.71390974, -4.4193256 ,  1.46136012])"
      ]
     },
     "execution_count": 17,
     "metadata": {},
     "output_type": "execute_result"
    }
   ],
   "source": [
    "np.add(data, 1, out=out)"
   ]
  },
  {
   "cell_type": "code",
   "execution_count": 18,
   "id": "9a00a932",
   "metadata": {},
   "outputs": [
    {
     "data": {
      "text/plain": [
       "array([ 2.38936344, -1.91780966,  0.49078821,  7.75279713, -6.89869391,\n",
       "        6.71390974, -4.4193256 ,  1.46136012])"
      ]
     },
     "execution_count": 18,
     "metadata": {},
     "output_type": "execute_result"
    }
   ],
   "source": [
    "out"
   ]
  },
  {
   "cell_type": "markdown",
   "id": "e6d35a55",
   "metadata": {},
   "source": [
    "Einige einstellige ufuncs:\n",
    "\n",
    "Funktion | Beschreibung\n",
    ":------- | :-----------\n",
    "`abs`, `fabs` | berechnet den absoluten Wert elementweise für Ganzzahl-, Gleitkomma- oder komplexe Werte\n",
    "`sqrt` | berechnet die Quadratwurzel aus jedem Element (entspricht `data ** 0,5`)\n",
    "`square` | berechnet das Quadrat eines jeden Elements (entspricht `data ** 2`)\n",
    "`exp` | berechnet den Exponenten e<sup>x</sup> eines jeden Elements\n",
    "`log`, `log10`, `log2`, `log1p` | Natürlicher Logarithmus (Basis e), log Basis 10, log Basis 2 bzw. log(1 + x)\n",
    "`sign` | berechnet das Vorzeichen jedes Elements: `1` (positiv), `0` (Null), oder `-1` (negativ)\n",
    "`ceil` | berechnet die Obergrenze jedes Elements (d.h. die kleinste ganze Zahl, die größer oder gleich dieser Zahl ist)\n",
    "`floor` | berechnet die Untergrenze jedes Elements (d.h. die größte ganze Zahl, die kleiner oder gleich jedem Element ist)\n",
    "`rint` | rundet Elemente auf die nächste Ganzzahl, wobei der `dtype` erhalten bleibt\n",
    "`modf` | gibt den gebrochenen und ganzzahligen Teile des Arrays als separate Arrays zurück\n",
    "`isnan` | gibt ein boolesches Array zurück, das angibt, ob jeder Wert `NaN` (Not a Number) ist\n",
    "`isfinite`, `isinf` | gibt ein boolesches Array zurück, das angibt, ob jedes Element endlich (non-`inf`, not-`NaN`) bzw. unendlich ist\n",
    "`cos`, `cosh`, `sin`, `sinh`, `tan`, `tanh` | reguläre und hyperbolische trigonometrische Funktionen\n",
    "`arccos`, `arccosh`, `arcsin`, `arcsinh`, `arctan`, `arctanh` | Inverse trigonometrische Funktionen\n",
    "`logical_not` | berechnet den Wahrheitswert von `not x` elementweise (entspricht `~data`)\n",
    "\n",
    "Einige binäre universelle Funktionen:\n",
    "\n",
    "Funktion | Beschreibung\n",
    ":------- | :-----------\n",
    "`add` | hinzufügen entsprechender Elemente in Arrays\n",
    "`subtract` | subtrahiert Elemente im zweiten Array vom ersten Array\n",
    "`multiply` | Array-Elemente multiplizieren\n",
    "`divide`, `floor_divide` | Dividieren oder Abschneiden des Rests\n",
    "`power` | erhöht Elemente im ersten Array auf die im zweiten Array angegebenen Potenzen\n",
    "`maximum`, `fmax` | elementweises Maximum; `fmax` ignoriert `NaN`\n",
    "`minimum`, `fmin` | elementweises Minimum; `fmin` ignoriert `NaN`\n",
    "`mod` | Elementweiser Modulus (Rest der Division)\n",
    "`copysign` | kopiert das Vorzeichen der Werte im zweiten Argument auf die Werte im ersten Argument\n",
    "`greater`, `greater_equal`, `less`, `less_equal`, `equal`, `not_equal` | Elementweise Vergleiche durchführen, die ein boolesches Array ergeben (entspricht den Infix-Operatoren `>`, `>=`, `<`, `<=`, `==`, `!=`)\n",
    "`logical_and` |berechnet den elementweisen Wahrheitswert der logischen Operation AND (`&`).\n",
    "`logical_or` | berechnet den elementweisen Wahrheitswert der logischen Operation OR (`|`).\n",
    "`logical_xor` | berechnet den elementweisen Wahrheitswert der logischen Operation XOR (`^`).\n",
    "\n",
    "<div class=\"alert alert-block alert-info\">\n",
    "\n",
    "**Hinweis:**\n",
    "\n",
    "Eine vollständige Übersicht über binäre universelle Funktionen findet ihr in [Universal functions (ufunc)](https://numpy.org/doc/stable/reference/ufuncs.html).\n",
    "</div>"
   ]
  }
 ],
 "metadata": {
  "kernelspec": {
   "display_name": "Python 3.8",
   "language": "python",
   "name": "python-38"
  },
  "language_info": {
   "codemirror_mode": {
    "name": "ipython",
    "version": 3
   },
   "file_extension": ".py",
   "mimetype": "text/x-python",
   "name": "python",
   "nbconvert_exporter": "python",
   "pygments_lexer": "ipython3",
   "version": "3.8.12"
  }
 },
 "nbformat": 4,
 "nbformat_minor": 5
}
