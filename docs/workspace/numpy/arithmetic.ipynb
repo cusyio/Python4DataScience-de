{
 "cells": [
  {
   "cell_type": "markdown",
   "id": "48faa768",
   "metadata": {},
   "source": [
    "# Arithmetik\n",
    "\n",
    "Arrays ermöglichen euch, Stapeloperationen auf Daten durchzuführen ohne `for`-Schleifen verwenden zu müssen. Dies wird bei NumPy *Vektorisierung* genannt. Bei allen arithmetischen Operationen zwischen Arrays gleicher Größe wird die Operation elementweise angewendet:"
   ]
  },
  {
   "cell_type": "code",
   "execution_count": 1,
   "id": "af888012",
   "metadata": {},
   "outputs": [
    {
     "data": {
      "text/plain": [
       "array([[-0.25138295,  0.16045746,  0.56375818],\n",
       "       [-0.07980581, -0.36607412,  0.02014757],\n",
       "       [ 1.13948699,  0.32675447, -2.06278216],\n",
       "       [-0.48238413,  0.80961326, -0.23112316],\n",
       "       [-0.34032078,  2.00867238,  0.76767972],\n",
       "       [-0.47347965, -1.47162835, -0.07265641],\n",
       "       [-1.23260431,  1.26428433, -0.44542326]])"
      ]
     },
     "execution_count": 1,
     "metadata": {},
     "output_type": "execute_result"
    }
   ],
   "source": [
    "import numpy as np\n",
    "\n",
    "\n",
    "data = np.random.randn(7, 3)\n",
    "data"
   ]
  },
  {
   "cell_type": "code",
   "execution_count": 2,
   "id": "a68ec8c7",
   "metadata": {},
   "outputs": [
    {
     "data": {
      "text/plain": [
       "array([[ -3.97799449,   6.23218153,   1.77381019],\n",
       "       [-12.53041607,  -2.73168722,  49.63377927],\n",
       "       [  0.87758791,   3.06040185,  -0.48478216],\n",
       "       [ -2.0730367 ,   1.23515763,  -4.32669752],\n",
       "       [ -2.9384042 ,   0.49784127,   1.30262657],\n",
       "       [ -2.1120232 ,  -0.67951939, -13.76341108],\n",
       "       [ -0.81129037,   0.79096132,  -2.24505565]])"
      ]
     },
     "execution_count": 2,
     "metadata": {},
     "output_type": "execute_result"
    }
   ],
   "source": [
    "1 / data"
   ]
  },
  {
   "cell_type": "code",
   "execution_count": 3,
   "id": "4f3ab385",
   "metadata": {},
   "outputs": [
    {
     "data": {
      "text/plain": [
       "array([[6.31933888e-02, 2.57465955e-02, 3.17823283e-01],\n",
       "       [6.36896725e-03, 1.34010263e-01, 4.05924543e-04],\n",
       "       [1.29843060e+00, 1.06768487e-01, 4.25507026e+00],\n",
       "       [2.32694446e-01, 6.55473632e-01, 5.34179146e-02],\n",
       "       [1.15818231e-01, 4.03476472e+00, 5.89332154e-01],\n",
       "       [2.24182975e-01, 2.16568999e+00, 5.27895351e-03],\n",
       "       [1.51931338e+00, 1.59841486e+00, 1.98401879e-01]])"
      ]
     },
     "execution_count": 3,
     "metadata": {},
     "output_type": "execute_result"
    }
   ],
   "source": [
    "data**2"
   ]
  },
  {
   "cell_type": "markdown",
   "id": "8e4492ab",
   "metadata": {},
   "source": [
    "Vergleich zweier Arrays:"
   ]
  },
  {
   "cell_type": "code",
   "execution_count": 4,
   "id": "5520fe3b",
   "metadata": {},
   "outputs": [
    {
     "data": {
      "text/plain": [
       "array([[ True,  True,  True],\n",
       "       [ True,  True,  True],\n",
       "       [ True,  True,  True],\n",
       "       [False,  True, False],\n",
       "       [ True,  True, False],\n",
       "       [ True, False,  True],\n",
       "       [False,  True, False]])"
      ]
     },
     "execution_count": 4,
     "metadata": {},
     "output_type": "execute_result"
    }
   ],
   "source": [
    "data2 = np.random.randn(7, 3)\n",
    "data > data2"
   ]
  }
 ],
 "metadata": {
  "kernelspec": {
   "display_name": "Python 3.13 Kernel",
   "language": "python",
   "name": "python313"
  },
  "language_info": {
   "codemirror_mode": {
    "name": "ipython",
    "version": 3
   },
   "file_extension": ".py",
   "mimetype": "text/x-python",
   "name": "python",
   "nbconvert_exporter": "python",
   "pygments_lexer": "ipython3",
   "version": "3.13.0"
  },
  "widgets": {
   "application/vnd.jupyter.widget-state+json": {
    "state": {},
    "version_major": 2,
    "version_minor": 0
   }
  }
 },
 "nbformat": 4,
 "nbformat_minor": 5
}
