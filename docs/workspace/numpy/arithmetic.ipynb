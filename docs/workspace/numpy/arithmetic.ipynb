{
 "cells": [
  {
   "cell_type": "markdown",
   "id": "48faa768",
   "metadata": {},
   "source": [
    "# Arithmetik\n",
    "\n",
    "Arrays ermöglichen euch, Stapeloperationen auf Daten durchzuführen ohne `for`-Schleifen verwenden zu müssen. Dies wird bei NumPy *Vektorisierung* genannt. Bei allen arithmetischen Operationen zwischen Arrays gleicher Größe wird die Operation elementweise angewendet:"
   ]
  },
  {
   "cell_type": "code",
   "execution_count": 1,
   "id": "af888012",
   "metadata": {},
   "outputs": [
    {
     "data": {
      "text/plain": [
       "array([[ 0.07282305, -0.5454217 ,  0.07199181],\n",
       "       [ 2.16112354,  0.30496674,  0.73963605],\n",
       "       [-1.61359344, -0.19812259, -0.76049151],\n",
       "       [-0.86957267, -0.5841333 , -0.15678665],\n",
       "       [-0.69817046,  1.86730036, -1.15614376],\n",
       "       [ 0.85112655, -0.61805251, -0.63671618],\n",
       "       [-1.78018583,  1.17915059, -0.6853148 ]])"
      ]
     },
     "execution_count": 1,
     "metadata": {},
     "output_type": "execute_result"
    }
   ],
   "source": [
    "import numpy as np\n",
    "\n",
    "\n",
    "data = np.random.randn(7, 3)\n",
    "data"
   ]
  },
  {
   "cell_type": "code",
   "execution_count": 2,
   "id": "a68ec8c7",
   "metadata": {},
   "outputs": [
    {
     "data": {
      "text/plain": [
       "array([[13.73191506, -1.83344373, 13.89046966],\n",
       "       [ 0.46272228,  3.27904615,  1.3520163 ],\n",
       "       [-0.61973479, -5.04737999, -1.31493907],\n",
       "       [-1.14999015, -1.71193802, -6.37809388],\n",
       "       [-1.43231497,  0.53553248, -0.86494434],\n",
       "       [ 1.17491341, -1.61798549, -1.57055848],\n",
       "       [-0.56173911,  0.8480681 , -1.45918342]])"
      ]
     },
     "execution_count": 2,
     "metadata": {},
     "output_type": "execute_result"
    }
   ],
   "source": [
    "1 / data"
   ]
  },
  {
   "cell_type": "code",
   "execution_count": 3,
   "id": "4f3ab385",
   "metadata": {},
   "outputs": [
    {
     "data": {
      "text/plain": [
       "array([[0.0053032 , 0.29748483, 0.00518282],\n",
       "       [4.67045494, 0.09300471, 0.54706149],\n",
       "       [2.6036838 , 0.03925256, 0.57834734],\n",
       "       [0.75615662, 0.34121171, 0.02458205],\n",
       "       [0.48744199, 3.48681063, 1.33666839],\n",
       "       [0.7244164 , 0.38198891, 0.4054075 ],\n",
       "       [3.16906158, 1.39039611, 0.46965638]])"
      ]
     },
     "execution_count": 3,
     "metadata": {},
     "output_type": "execute_result"
    }
   ],
   "source": [
    "data**2"
   ]
  },
  {
   "cell_type": "markdown",
   "id": "8e4492ab",
   "metadata": {},
   "source": [
    "Vergleich zweier Arrays:"
   ]
  },
  {
   "cell_type": "code",
   "execution_count": 4,
   "id": "5520fe3b",
   "metadata": {},
   "outputs": [
    {
     "data": {
      "text/plain": [
       "array([[ True,  True,  True],\n",
       "       [ True,  True,  True],\n",
       "       [False, False, False],\n",
       "       [False, False, False],\n",
       "       [False,  True, False],\n",
       "       [ True, False, False],\n",
       "       [False, False,  True]])"
      ]
     },
     "execution_count": 4,
     "metadata": {},
     "output_type": "execute_result"
    }
   ],
   "source": [
    "data2 = np.random.randn(7, 3)\n",
    "data > data2"
   ]
  }
 ],
 "metadata": {
  "kernelspec": {
   "display_name": "Python 3.11 Kernel",
   "language": "python",
   "name": "python311"
  },
  "language_info": {
   "codemirror_mode": {
    "name": "ipython",
    "version": 3
   },
   "file_extension": ".py",
   "mimetype": "text/x-python",
   "name": "python",
   "nbconvert_exporter": "python",
   "pygments_lexer": "ipython3",
   "version": "3.11.4"
  },
  "widgets": {
   "application/vnd.jupyter.widget-state+json": {
    "state": {},
    "version_major": 2,
    "version_minor": 0
   }
  }
 },
 "nbformat": 4,
 "nbformat_minor": 5
}
