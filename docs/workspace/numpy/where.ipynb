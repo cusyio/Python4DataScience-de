{
 "cells": [
  {
   "cell_type": "markdown",
   "id": "8722f7a6",
   "metadata": {},
   "source": [
    "# Bedingte Logik als Array-Operationen – `where`\n",
    "\n",
    "Die Funktion [numpy.where](https://numpy.org/doc/stable/reference/generated/numpy.where.html) ist eine vektorisierte Version von `if` und `else`."
   ]
  },
  {
   "cell_type": "markdown",
   "id": "bf1cdc04",
   "metadata": {},
   "source": [
    "Im folgenden Beispiel erzeugen wir zunächst ein boolesches Array und zwei Arrays mit Werten:"
   ]
  },
  {
   "cell_type": "code",
   "execution_count": 1,
   "id": "a2619151",
   "metadata": {},
   "outputs": [],
   "source": [
    "import numpy as np"
   ]
  },
  {
   "cell_type": "code",
   "execution_count": 2,
   "id": "d9aa7d1c",
   "metadata": {},
   "outputs": [],
   "source": [
    "cond = ([False,  True, False,  True, False, False, False])\n",
    "data1 = np.random.randn(1, 7)\n",
    "data2 = np.random.randn(1, 7)"
   ]
  },
  {
   "cell_type": "markdown",
   "id": "e6c52a1d",
   "metadata": {},
   "source": [
    "Nun wollen wir Nehmen wir die Werte aus `data1` übernehmen, wenn der entsprechende Wert in `cond` `True` ist und ansonsten den Wert aus `data2` übernommen wird. Mit Pythons `if`-`else` könnte das wie folgt aussehen:"
   ]
  },
  {
   "cell_type": "code",
   "execution_count": 3,
   "id": "3092a587",
   "metadata": {},
   "outputs": [
    {
     "data": {
      "text/plain": [
       "[array([-0.97770921,  0.18774118,  0.02492351, -1.71622535,  0.07635826,\n",
       "        -0.78475485,  1.35754775])]"
      ]
     },
     "execution_count": 3,
     "metadata": {},
     "output_type": "execute_result"
    }
   ],
   "source": [
    "result = [(x if c else y)\n",
    "          for x, y, c in zip(data1, data2, cond)]\n",
    "\n",
    "result"
   ]
  },
  {
   "cell_type": "markdown",
   "id": "b0bf7258",
   "metadata": {},
   "source": [
    "Dies hat jedoch die folgenden beiden Probleme:\n",
    "\n",
    "* bei großen Arrays wird die Funktion nicht sehr schnell sein\n",
    "* dies funktioniert nicht mit mehrdimensionalen Arrays"
   ]
  },
  {
   "cell_type": "markdown",
   "id": "f5e79bef",
   "metadata": {},
   "source": [
    "Mit `np.where` könnt ihr diese Probleme in einem einzigen Funktionsaufruf umgehen:"
   ]
  },
  {
   "cell_type": "code",
   "execution_count": 4,
   "id": "513e5616",
   "metadata": {},
   "outputs": [
    {
     "data": {
      "text/plain": [
       "array([[-0.97770921,  2.12735854,  0.02492351,  0.44203037,  0.07635826,\n",
       "        -0.78475485,  1.35754775]])"
      ]
     },
     "execution_count": 4,
     "metadata": {},
     "output_type": "execute_result"
    }
   ],
   "source": [
    "result = np.where(cond, data1, data2)\n",
    "\n",
    "result"
   ]
  },
  {
   "cell_type": "markdown",
   "id": "99602350",
   "metadata": {},
   "source": [
    "Das zweite und dritte Argument von `np.where` müssen keine Arrays sein; eines oder beide können auch Skalare sein. Eine typische Anwendung von `where` in der Datenanalyse besteht darin, ein neues Array von Werten auf der Grundlage eines anderen Arrays zu erzeugen. Angenommen, ihr habt eine Matrix mit zufällig generierten Daten und möchtet alle negativen Werte zu positiven Werten machen:"
   ]
  },
  {
   "cell_type": "code",
   "execution_count": 5,
   "id": "19d8b8b3",
   "metadata": {},
   "outputs": [
    {
     "data": {
      "text/plain": [
       "array([[ 0.49903363,  0.67358076,  0.12044423,  0.61645566],\n",
       "       [-0.06063701, -0.39860593, -0.06098876,  1.50512719],\n",
       "       [ 1.04223193, -0.0546117 ,  0.84049503,  0.36221393],\n",
       "       [-0.62065844,  0.80729481, -0.13285982,  0.79702012]])"
      ]
     },
     "execution_count": 5,
     "metadata": {},
     "output_type": "execute_result"
    }
   ],
   "source": [
    "data = np.random.randn(4, 4)\n",
    "\n",
    "data"
   ]
  },
  {
   "cell_type": "code",
   "execution_count": 6,
   "id": "dfe4cacc",
   "metadata": {},
   "outputs": [
    {
     "data": {
      "text/plain": [
       "array([[False, False, False, False],\n",
       "       [ True,  True,  True, False],\n",
       "       [False,  True, False, False],\n",
       "       [ True, False,  True, False]])"
      ]
     },
     "execution_count": 6,
     "metadata": {},
     "output_type": "execute_result"
    }
   ],
   "source": [
    "data < 0"
   ]
  },
  {
   "cell_type": "code",
   "execution_count": 7,
   "id": "3b6843fb",
   "metadata": {},
   "outputs": [
    {
     "data": {
      "text/plain": [
       "array([[0.49903363, 0.67358076, 0.12044423, 0.61645566],\n",
       "       [0.06063701, 0.39860593, 0.06098876, 1.50512719],\n",
       "       [1.04223193, 0.0546117 , 0.84049503, 0.36221393],\n",
       "       [0.62065844, 0.80729481, 0.13285982, 0.79702012]])"
      ]
     },
     "execution_count": 7,
     "metadata": {},
     "output_type": "execute_result"
    }
   ],
   "source": [
    "np.where(data < 0, data * -1, data)"
   ]
  }
 ],
 "metadata": {
  "kernelspec": {
   "display_name": "Python 3.8",
   "language": "python",
   "name": "python-38"
  },
  "language_info": {
   "codemirror_mode": {
    "name": "ipython",
    "version": 3
   },
   "file_extension": ".py",
   "mimetype": "text/x-python",
   "name": "python",
   "nbconvert_exporter": "python",
   "pygments_lexer": "ipython3",
   "version": "3.8.12"
  }
 },
 "nbformat": 4,
 "nbformat_minor": 5
}
