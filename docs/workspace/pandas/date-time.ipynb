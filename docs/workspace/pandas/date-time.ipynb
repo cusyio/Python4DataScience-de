{
 "cells": [
  {
   "cell_type": "markdown",
   "id": "3ab0e5f6",
   "metadata": {},
   "source": [
    "# Datum und Uhrzeit\n",
    "\n",
    "Mit pandas könnt ihr `Series` mit Datums- und Zeitinformationen erstellen. Im folgenden werden wir häufige Operationen mit Datumsdaten zeigen.\n",
    "\n",
    "<div class=\"alert alert-block alert-info\">\n",
    "\n",
    "**Hinweis:**\n",
    "\n",
    "pandas unterstützt Datumsangaben, die in [UTC](https://de.wikipedia.org/wiki/Koordinierte_Weltzeit)-Werten gespeichert sind und den Datentyp `datetime64[ns]` verwenden. Es werden auch lokale Zeiten aus einer einzigen Zeitzone unterstützt. Mehrere Zeitzonen werden durch ein [pandas.Timestamp](https://pandas.pydata.org/pandas-docs/stable/reference/api/pandas.Timestamp.html)-Objekt unterstützt. Wenn ihr mit Zeiten aus mehreren Zeitzonen hantieren müsst, würde ich die Daten vermutlich nach Zeitzonen aufteilen und für jede Zeitzone einen eigenen `DataFrame` oder eine eigene `Series` verwenden.\n",
    "</div>\n",
    "<div class=\"alert alert-block alert-info\">\n",
    "\n",
    "**Siehe auch:**\n",
    "\n",
    "* [Time series / date functionality](https://pandas.pydata.org/pandas-docs/stable/user_guide/timeseries.html)\n",
    "</div>"
   ]
  },
  {
   "cell_type": "markdown",
   "id": "5779baed",
   "metadata": {},
   "source": [
    "## Laden von UTC-Zeitdaten"
   ]
  },
  {
   "cell_type": "code",
   "execution_count": 1,
   "id": "f0e9c669",
   "metadata": {},
   "outputs": [
    {
     "data": {
      "text/plain": [
       "DatetimeIndex(['2022-03-27 00:00:00', '2022-03-27 01:00:00',\n",
       "               '2022-03-27 02:00:00', '2022-03-27 03:00:00',\n",
       "               '2022-03-27 04:00:00', '2022-03-27 05:00:00'],\n",
       "              dtype='datetime64[ns]', freq='H')"
      ]
     },
     "execution_count": 1,
     "metadata": {},
     "output_type": "execute_result"
    }
   ],
   "source": [
    "import pandas as pd\n",
    "\n",
    "dt = pd.date_range(\"2022-03-27\", periods=6, freq=\"H\")\n",
    "\n",
    "dt"
   ]
  },
  {
   "cell_type": "code",
   "execution_count": 2,
   "id": "6c2b24e3",
   "metadata": {},
   "outputs": [
    {
     "data": {
      "text/plain": [
       "DatetimeIndex(['2022-03-27 00:00:00+00:00', '2022-03-27 01:00:00+00:00',\n",
       "               '2022-03-27 02:00:00+00:00', '2022-03-27 03:00:00+00:00',\n",
       "               '2022-03-27 04:00:00+00:00', '2022-03-27 05:00:00+00:00'],\n",
       "              dtype='datetime64[ns, UTC]', freq='H')"
      ]
     },
     "execution_count": 2,
     "metadata": {},
     "output_type": "execute_result"
    }
   ],
   "source": [
    "utc = pd.to_datetime(dt, utc=True)\n",
    "\n",
    "utc"
   ]
  },
  {
   "cell_type": "markdown",
   "id": "9d6ca423",
   "metadata": {},
   "source": [
    "<div class=\"alert alert-block alert-info\">\n",
    "\n",
    "**Hinweis:**\n",
    "\n",
    "Der Typ des Ergebnisses `dtype='datetime64[ns, UTC]'` zeigt an, dass die Daten als UTC gespeichert sind.\n",
    "</div>"
   ]
  },
  {
   "cell_type": "markdown",
   "id": "237ebe23",
   "metadata": {},
   "source": [
    "Konvertieren wir diese Reihe in die Zeitzone Europe/Berlin:"
   ]
  },
  {
   "cell_type": "code",
   "execution_count": 3,
   "id": "6987cfdb",
   "metadata": {},
   "outputs": [
    {
     "data": {
      "text/plain": [
       "DatetimeIndex(['2022-03-27 01:00:00+01:00', '2022-03-27 03:00:00+02:00',\n",
       "               '2022-03-27 04:00:00+02:00', '2022-03-27 05:00:00+02:00',\n",
       "               '2022-03-27 06:00:00+02:00', '2022-03-27 07:00:00+02:00'],\n",
       "              dtype='datetime64[ns, Europe/Berlin]', freq='H')"
      ]
     },
     "execution_count": 3,
     "metadata": {},
     "output_type": "execute_result"
    }
   ],
   "source": [
    "utc.tz_convert('Europe/Berlin')"
   ]
  },
  {
   "cell_type": "markdown",
   "id": "8582dc06",
   "metadata": {},
   "source": [
    "## Umrechnung der Ortszeit in UTC"
   ]
  },
  {
   "cell_type": "code",
   "execution_count": 4,
   "id": "02158d3b",
   "metadata": {},
   "outputs": [
    {
     "data": {
      "text/plain": [
       "DatetimeIndex(['2022-03-27 00:00:00+00:00', '2022-03-27 01:00:00+00:00',\n",
       "               '2022-03-27 02:00:00+00:00', '2022-03-27 03:00:00+00:00',\n",
       "               '2022-03-27 04:00:00+00:00', '2022-03-27 05:00:00+00:00'],\n",
       "              dtype='datetime64[ns, UTC]', freq='H')"
      ]
     },
     "execution_count": 4,
     "metadata": {},
     "output_type": "execute_result"
    }
   ],
   "source": [
    "local = utc.tz_convert('Europe/Berlin')\n",
    "\n",
    "local.tz_convert('UTC')"
   ]
  },
  {
   "cell_type": "markdown",
   "id": "8e13459d",
   "metadata": {},
   "source": [
    "## Umrechnung in Unixzeit\n",
    "\n",
    "Wenn ihr eine `Series` mit UTC- oder Ortszeitinformationen habt, könnt ihr mit diesem Code die Sekunden nach der Unixzeit ermitteln:"
   ]
  },
  {
   "cell_type": "code",
   "execution_count": 5,
   "id": "3906bca6",
   "metadata": {},
   "outputs": [
    {
     "data": {
      "text/plain": [
       "array([1.6483392e+09, 1.6483428e+09, 1.6483464e+09, 1.6483500e+09,\n",
       "       1.6483536e+09, 1.6483572e+09])"
      ]
     },
     "execution_count": 5,
     "metadata": {},
     "output_type": "execute_result"
    }
   ],
   "source": [
    "uts = pd.to_datetime(dt).view(int) / 10**9\n",
    "\n",
    "uts"
   ]
  },
  {
   "cell_type": "markdown",
   "id": "284561d2",
   "metadata": {},
   "source": [
    "Um die Unixzeit in UTC zu laden, könnt ihr wie folgt vorgehen:"
   ]
  },
  {
   "cell_type": "code",
   "execution_count": 6,
   "id": "15dda2ea",
   "metadata": {},
   "outputs": [
    {
     "data": {
      "text/plain": [
       "DatetimeIndex(['2022-03-27 00:00:00+00:00', '2022-03-27 01:00:00+00:00',\n",
       "               '2022-03-27 02:00:00+00:00', '2022-03-27 03:00:00+00:00',\n",
       "               '2022-03-27 04:00:00+00:00', '2022-03-27 05:00:00+00:00'],\n",
       "              dtype='datetime64[ns, UTC]', freq=None)"
      ]
     },
     "execution_count": 6,
     "metadata": {},
     "output_type": "execute_result"
    }
   ],
   "source": [
    "(pd.to_datetime(uts, unit='s').tz_localize('UTC'))"
   ]
  },
  {
   "cell_type": "markdown",
   "id": "edb0b9c2",
   "metadata": {},
   "source": [
    "## Manipulation von Terminen"
   ]
  },
  {
   "cell_type": "markdown",
   "id": "0995b155",
   "metadata": {},
   "source": [
    "### Umwandeln in Strings"
   ]
  },
  {
   "cell_type": "markdown",
   "id": "6ed2ebdc",
   "metadata": {},
   "source": [
    "Mit [pandas.DatetimeIndex](https://pandas.pydata.org/pandas-docs/stable/reference/api/pandas.DatetimeIndex.html) habt ihr einige Möglichkeiten, Datum und Uhrzeit in Strings umzuwandeln, z.B. in den Namen des Wochentags:"
   ]
  },
  {
   "cell_type": "code",
   "execution_count": 7,
   "id": "e46bc643",
   "metadata": {},
   "outputs": [
    {
     "data": {
      "text/plain": [
       "Index(['Sonntag', 'Sonntag', 'Sonntag', 'Sonntag', 'Sonntag', 'Sonntag'], dtype='object')"
      ]
     },
     "execution_count": 7,
     "metadata": {},
     "output_type": "execute_result"
    }
   ],
   "source": [
    "local.day_name(locale='de_DE.UTF-8')"
   ]
  },
  {
   "cell_type": "markdown",
   "id": "39cdac2f",
   "metadata": {},
   "source": [
    "Welche `locale` bei euch zur Verfügung stehen, könnt ihr euch mit `locale -a` anzeigen lassen:"
   ]
  },
  {
   "cell_type": "code",
   "execution_count": 8,
   "id": "1b93f104",
   "metadata": {},
   "outputs": [
    {
     "name": "stdout",
     "output_type": "stream",
     "text": [
      "C\r\n",
      "C.UTF-8\r\n",
      "de_AT.utf8\r\n",
      "de_BE.utf8\r\n",
      "de_CH.utf8\r\n",
      "de_DE.utf8\r\n",
      "de_IT.utf8\r\n",
      "de_LI.utf8\r\n",
      "de_LU.utf8\r\n",
      "en_AG\r\n",
      "en_AG.utf8\r\n",
      "en_AU.utf8\r\n",
      "en_BW.utf8\r\n",
      "en_CA.utf8\r\n",
      "en_DK.utf8\r\n",
      "en_GB.utf8\r\n",
      "en_HK.utf8\r\n",
      "en_IE.utf8\r\n",
      "en_IL\r\n",
      "en_IL.utf8\r\n",
      "en_IN\r\n",
      "en_IN.utf8\r\n",
      "en_NG\r\n",
      "en_NG.utf8\r\n",
      "en_NZ.utf8\r\n",
      "en_PH.utf8\r\n",
      "en_SG.utf8\r\n",
      "en_US.utf8\r\n",
      "en_ZA.utf8\r\n",
      "en_ZM\r\n",
      "en_ZM.utf8\r\n",
      "en_ZW.utf8\r\n",
      "POSIX\r\n"
     ]
    }
   ],
   "source": [
    "!locale -a"
   ]
  },
  {
   "cell_type": "markdown",
   "id": "e897752e",
   "metadata": {},
   "source": [
    "Weitere Attribute von `DatetimeIndex`, mit denen sich Datum und Zeit in Strings umwandeln lassen, sind:\n",
    "\n",
    "Attribut | Beschreibung\n",
    ":------- | :-----------\n",
    "`year` | das Jahr der `datetime`\n",
    "`month` | der Monat als Januar `1` und Dezember `12`\n",
    "`day` | der Tag der `datetime`\n",
    "`hour` | die Stunden der `datetime`\n",
    "`minute` | die Minuten der `datetime`\n",
    "`second` | die Sekunden der `datetime`\n",
    "`microsecond` | die Mikrosekunden der `datetime`\n",
    "`nanosecond` | die Nanosekunden von  `datetime`\n",
    "`date` | gibt ein Numpy-Array von Python `datetime.date`-Objekten zurück\n",
    "`time` | gibt ein NumPy-Array von `datetime.time`-Objekten zurück\n",
    "`timetz` | liefert ein numpy-Array von `datetime.time`-Objekten mit Zeitzoneninformationen\n",
    "`dayofyear`, `day_of_year` | der ordinale Tag des Jahres\n",
    "`dayofweek` | der Tag der Woche mit Montag (`0`) und Sonntag (`6`)\n",
    "`day_of_week` | der Tag der Woche mit Montag (`0`) und Sonntag (`6`)\n",
    "`weekday` | der Tag der Woche mit Montag (`0`) und Sonntag (`6`)\n",
    "`quarter` | gibt das Jahresquartal zurück\n",
    "`tz` | gibt die Zeitzone zurück\n",
    "`freq` | gibt das Frequenzobjekt zurück, wenn es gesetzt ist, andernfalls `None`\n",
    "`freqstr` | gibt das Frequenz-Objekt als String zurück, wenn es gesetzt ist, andernfalls `None`\n",
    "`is_month_start` | zeigt an, ob das Datum der erste Tag des Monats ist\n",
    "`is_month_end` | zeigt an, ob das Datum der letzte Tag des Monats ist\n",
    "`is_quarter_start` | zeigt an, ob das Datum der erste Tag eines Quartals ist\n",
    "`is_quarter_end` | zeigt an, ob das Datum der letzte Tag eines Quartals ist\n",
    "`is_year_start` | zeigt an, ob das Datum der erste Tag eines Jahres ist\n",
    "`is_year_end` | zeigt an, ob das Datum der letzte Tag eines Jahres ist\n",
    "`is_leap_year` | Boolescher Indikator, ob das Datum in ein Schaltjahr fällt\n",
    "`inferred_freq` | versucht, eine Zeichenkette zurückzugeben, die eine durch `infer_freq` ermittelte Frequenz darstellt"
   ]
  },
  {
   "cell_type": "markdown",
   "id": "bcdb4333",
   "metadata": {},
   "source": [
    "Es gibt jedoch auch einige Methoden, mit denen ihr den `DatetimeIndex` in Stringsumwandeln könnt, z.B. `strftime`:"
   ]
  },
  {
   "cell_type": "code",
   "execution_count": 9,
   "id": "1ec8dd26",
   "metadata": {},
   "outputs": [
    {
     "data": {
      "text/plain": [
       "Index(['27.03.2022', '27.03.2022', '27.03.2022', '27.03.2022', '27.03.2022',\n",
       "       '27.03.2022'],\n",
       "      dtype='object')"
      ]
     },
     "execution_count": 9,
     "metadata": {},
     "output_type": "execute_result"
    }
   ],
   "source": [
    "local.strftime('%d.%m.%Y')"
   ]
  },
  {
   "cell_type": "markdown",
   "id": "5f95f9d8",
   "metadata": {},
   "source": [
    "<div class=\"alert alert-block alert-info\">\n",
    "\n",
    "**Hinweis:**\n",
    "\n",
    "In [strftime() and strptime() Format Codes](https://docs.python.org/3/library/datetime.html#strftime-and-strptime-format-codes) erhaltet ihr eine Übersicht über die verschiedenen Formattierungsmöglichkeiten von `strftime`.\n",
    "</div>\n",
    "\n",
    "Weitere Methoden sind:\n",
    "\n",
    "Methode | Beschreibung\n",
    ":------ | :-----------\n",
    "`normalize` | konvertiert Zeiten in Mitternacht\n",
    "`strftime` | konvertiert in Index unter Verwendung des angegebenen Datumsformats\n",
    "`snap` | rastet den Zeitstempel auf der nächsten auftretenden Frequenz ein\n",
    "`tz_convert` | konvertiert ein `tz`-fähiges Datetime-Array/Index von einer Zeitzone in eine andere\n",
    "`tz_localize` | Lokalisiert `tz`-naives Datetime Array/Index in `tz`-kompatibles Datetime Array/Index\n",
    "`round` | rundet die Daten zur nächsten angegebenen Frequenz\n",
    "`floor` | rundet die Daten ab auf die angegebene Frequenz\n",
    "`ceil` | rundet die Daten auf auf die angegebene Frequenz\n",
    "`to_period` | wandelt die Daten um in einen PeriodArray/Index bei einer bestimmten Frequenz\n",
    "`to_perioddelta` | Berechnet `TimedeltaArray` der Differenz zwischen den Indexwerten und dem in `PeriodArray` umgewandelten Index bei der angegebenen Frequenz\n",
    "`to_pydatetime` | gibt `Datetime` Array/Index als `ndarray`-Objekt von `datetime.datetime`-Objekten zurück\n",
    "`to_series` | erzeugt eine `Series` mit Index und Werten, die den Indexschlüsseln entsprechen; nützlich mit `map` für die Rückgabe eines Indexers\n",
    "`to_frame` | erzeugt einen `DataFrame` mit einer Spalte, die den Index enthält\n",
    "`month_name` | gibt die Monatsnamen des `DateTimeIndex` mit dem angegebenen `locale` zurück\n",
    "`day_name` | gibt die Tagesnamen des `DateTimeIndex` mit dem angegebenen `locale`  zurück\n",
    "`mean` | gibt den Mittelwert des Arrays zurück\n",
    "`std` | gibt die Standardabweichung der Stichprobe über die angeforderte Achse zurück"
   ]
  }
 ],
 "metadata": {
  "kernelspec": {
   "display_name": "Python 3.8",
   "language": "python",
   "name": "python-38"
  },
  "language_info": {
   "codemirror_mode": {
    "name": "ipython",
    "version": 3
   },
   "file_extension": ".py",
   "mimetype": "text/x-python",
   "name": "python",
   "nbconvert_exporter": "python",
   "pygments_lexer": "ipython3",
   "version": "3.8.12"
  }
 },
 "nbformat": 4,
 "nbformat_minor": 5
}
