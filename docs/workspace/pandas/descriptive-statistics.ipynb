{
 "cells": [
  {
   "cell_type": "markdown",
   "id": "9d69fa9a",
   "metadata": {},
   "source": [
    "# Deskriptive Statistik\n",
    "\n",
    "pandas-Objekte sind mit einer Reihe von gängigen mathematischen und statistischen Methoden ausgestattet. Die meisten von ihnen fallen in die Kategorie der Reduktionen oder zusammenfassenden Statistiken, Methoden, die einen einzelnen Wert (wie die Summe oder den Mittelwert) aus einer Serie oder einer Reihe von Werten aus den Zeilen oder Spalten eines DataFrame extrahieren. Im Vergleich zu ähnlichen Methoden, die sich bei NumPy-Arrays finden, behandeln sie auch fehlende Daten."
   ]
  },
  {
   "cell_type": "code",
   "execution_count": 1,
   "id": "0185567d",
   "metadata": {},
   "outputs": [
    {
     "data": {
      "text/html": [
       "<div>\n",
       "<style scoped>\n",
       "    .dataframe tbody tr th:only-of-type {\n",
       "        vertical-align: middle;\n",
       "    }\n",
       "\n",
       "    .dataframe tbody tr th {\n",
       "        vertical-align: top;\n",
       "    }\n",
       "\n",
       "    .dataframe thead th {\n",
       "        text-align: right;\n",
       "    }\n",
       "</style>\n",
       "<table border=\"1\" class=\"dataframe\">\n",
       "  <thead>\n",
       "    <tr style=\"text-align: right;\">\n",
       "      <th></th>\n",
       "      <th>0</th>\n",
       "      <th>1</th>\n",
       "      <th>2</th>\n",
       "    </tr>\n",
       "  </thead>\n",
       "  <tbody>\n",
       "    <tr>\n",
       "      <th>2022-02-03</th>\n",
       "      <td>-0.013938</td>\n",
       "      <td>-2.260412</td>\n",
       "      <td>2.315637</td>\n",
       "    </tr>\n",
       "    <tr>\n",
       "      <th>2022-02-04</th>\n",
       "      <td>-0.499093</td>\n",
       "      <td>1.407191</td>\n",
       "      <td>-0.361063</td>\n",
       "    </tr>\n",
       "    <tr>\n",
       "      <th>2022-02-05</th>\n",
       "      <td>-0.236897</td>\n",
       "      <td>-1.164700</td>\n",
       "      <td>0.785671</td>\n",
       "    </tr>\n",
       "    <tr>\n",
       "      <th>2022-02-06</th>\n",
       "      <td>-0.133355</td>\n",
       "      <td>-0.754735</td>\n",
       "      <td>-0.185206</td>\n",
       "    </tr>\n",
       "    <tr>\n",
       "      <th>2022-02-07</th>\n",
       "      <td>0.259555</td>\n",
       "      <td>-0.612450</td>\n",
       "      <td>0.133201</td>\n",
       "    </tr>\n",
       "    <tr>\n",
       "      <th>2022-02-08</th>\n",
       "      <td>-1.132296</td>\n",
       "      <td>0.513303</td>\n",
       "      <td>-1.023171</td>\n",
       "    </tr>\n",
       "    <tr>\n",
       "      <th>2022-02-09</th>\n",
       "      <td>NaN</td>\n",
       "      <td>NaN</td>\n",
       "      <td>NaN</td>\n",
       "    </tr>\n",
       "  </tbody>\n",
       "</table>\n",
       "</div>"
      ],
      "text/plain": [
       "                   0         1         2\n",
       "2022-02-03 -0.013938 -2.260412  2.315637\n",
       "2022-02-04 -0.499093  1.407191 -0.361063\n",
       "2022-02-05 -0.236897 -1.164700  0.785671\n",
       "2022-02-06 -0.133355 -0.754735 -0.185206\n",
       "2022-02-07  0.259555 -0.612450  0.133201\n",
       "2022-02-08 -1.132296  0.513303 -1.023171\n",
       "2022-02-09       NaN       NaN       NaN"
      ]
     },
     "execution_count": 1,
     "metadata": {},
     "output_type": "execute_result"
    }
   ],
   "source": [
    "import pandas as pd\n",
    "import numpy as np\n",
    "\n",
    "df = pd.DataFrame(np.random.randn(7, 3), index=pd.date_range(\"2022-02-02\", periods=7))\n",
    "new_index = pd.date_range(\"2022-02-03\", periods=7)\n",
    "df2 = df.reindex(new_index)\n",
    "\n",
    "df2"
   ]
  },
  {
   "cell_type": "markdown",
   "id": "e27b6767",
   "metadata": {},
   "source": [
    "Der Aufruf der `pandas.DataFrame.sum`-Methode gibt eine Serie zurück, die Spaltensummen enthält:"
   ]
  },
  {
   "cell_type": "code",
   "execution_count": 2,
   "id": "ca19a977",
   "metadata": {},
   "outputs": [
    {
     "data": {
      "text/plain": [
       "0   -1.756023\n",
       "1   -2.871803\n",
       "2    1.665069\n",
       "dtype: float64"
      ]
     },
     "execution_count": 2,
     "metadata": {},
     "output_type": "execute_result"
    }
   ],
   "source": [
    "df2.sum()"
   ]
  },
  {
   "cell_type": "markdown",
   "id": "61ac9a11",
   "metadata": {},
   "source": [
    "Die Übergabe von `axis='columns'` oder `axis=1` summiert stattdessen über die Spalten:"
   ]
  },
  {
   "cell_type": "code",
   "execution_count": 3,
   "id": "cf8d8827",
   "metadata": {},
   "outputs": [
    {
     "data": {
      "text/plain": [
       "2022-02-03    0.041287\n",
       "2022-02-04    0.547036\n",
       "2022-02-05   -0.615925\n",
       "2022-02-06   -1.073296\n",
       "2022-02-07   -0.219694\n",
       "2022-02-08   -1.642164\n",
       "2022-02-09    0.000000\n",
       "Freq: D, dtype: float64"
      ]
     },
     "execution_count": 3,
     "metadata": {},
     "output_type": "execute_result"
    }
   ],
   "source": [
    "df2.sum(axis='columns')"
   ]
  },
  {
   "cell_type": "markdown",
   "id": "67017fab",
   "metadata": {},
   "source": [
    "Wenn eine ganze Zeile oder Spalte alle NA-Werte enthält, ist die Summe `0`. Dies kann mit der Option `skipna` deaktiviert werden:"
   ]
  },
  {
   "cell_type": "code",
   "execution_count": 4,
   "id": "5c0ad7e7",
   "metadata": {},
   "outputs": [
    {
     "data": {
      "text/plain": [
       "2022-02-03    0.041287\n",
       "2022-02-04    0.547036\n",
       "2022-02-05   -0.615925\n",
       "2022-02-06   -1.073296\n",
       "2022-02-07   -0.219694\n",
       "2022-02-08   -1.642164\n",
       "2022-02-09         NaN\n",
       "Freq: D, dtype: float64"
      ]
     },
     "execution_count": 4,
     "metadata": {},
     "output_type": "execute_result"
    }
   ],
   "source": [
    "df2.sum(axis='columns', skipna=False)"
   ]
  },
  {
   "cell_type": "markdown",
   "id": "d2108f1b",
   "metadata": {},
   "source": [
    "Einige Aggregationen, wie z.B. `mean`, erfordern mindestens einen Nicht-`NaN`-Wert, um ein wertvolles Ergebnis zu erhalten:"
   ]
  },
  {
   "cell_type": "code",
   "execution_count": 5,
   "id": "4aa1b3a8",
   "metadata": {},
   "outputs": [
    {
     "data": {
      "text/plain": [
       "2022-02-03    0.013762\n",
       "2022-02-04    0.182345\n",
       "2022-02-05   -0.205308\n",
       "2022-02-06   -0.357765\n",
       "2022-02-07   -0.073231\n",
       "2022-02-08   -0.547388\n",
       "2022-02-09         NaN\n",
       "Freq: D, dtype: float64"
      ]
     },
     "execution_count": 5,
     "metadata": {},
     "output_type": "execute_result"
    }
   ],
   "source": [
    "df2.mean(axis='columns')"
   ]
  },
  {
   "cell_type": "markdown",
   "id": "b353433d",
   "metadata": {},
   "source": [
    "## Optionen für Reduktionsmethoden\n",
    "\n",
    "Methode | Beschreibung\n",
    ":------ | :-----------\n",
    "`axis` | die Achse der zu reduzierenden Werte: `0` für die Zeilen des DataFrame und `1` für die Spalten\n",
    "`skipna` | fehlende Werte ausschließen; standardmäßig `True`\n",
    "`level` | nach Ebene gruppiert reduzieren, wenn die Achse hierarchisch indiziert ist (MultiIndex)\n",
    "\n",
    "Einige Methoden, wie `idxmin` und `idxmax`, liefern indirekte Statistiken wie den Indexwert, bei dem der Mindest- oder Höchstwert erreicht wird:"
   ]
  },
  {
   "cell_type": "code",
   "execution_count": 6,
   "id": "892a0128",
   "metadata": {},
   "outputs": [
    {
     "data": {
      "text/plain": [
       "0   2022-02-07\n",
       "1   2022-02-04\n",
       "2   2022-02-03\n",
       "dtype: datetime64[ns]"
      ]
     },
     "execution_count": 6,
     "metadata": {},
     "output_type": "execute_result"
    }
   ],
   "source": [
    "df2.idxmax()"
   ]
  },
  {
   "cell_type": "markdown",
   "id": "55b12d7a",
   "metadata": {},
   "source": [
    "Andere Methoden sind Akkumulationen:"
   ]
  },
  {
   "cell_type": "code",
   "execution_count": 7,
   "id": "cff100f1",
   "metadata": {},
   "outputs": [
    {
     "data": {
      "text/html": [
       "<div>\n",
       "<style scoped>\n",
       "    .dataframe tbody tr th:only-of-type {\n",
       "        vertical-align: middle;\n",
       "    }\n",
       "\n",
       "    .dataframe tbody tr th {\n",
       "        vertical-align: top;\n",
       "    }\n",
       "\n",
       "    .dataframe thead th {\n",
       "        text-align: right;\n",
       "    }\n",
       "</style>\n",
       "<table border=\"1\" class=\"dataframe\">\n",
       "  <thead>\n",
       "    <tr style=\"text-align: right;\">\n",
       "      <th></th>\n",
       "      <th>0</th>\n",
       "      <th>1</th>\n",
       "      <th>2</th>\n",
       "    </tr>\n",
       "  </thead>\n",
       "  <tbody>\n",
       "    <tr>\n",
       "      <th>2022-02-03</th>\n",
       "      <td>-0.013938</td>\n",
       "      <td>-2.260412</td>\n",
       "      <td>2.315637</td>\n",
       "    </tr>\n",
       "    <tr>\n",
       "      <th>2022-02-04</th>\n",
       "      <td>-0.513030</td>\n",
       "      <td>-0.853220</td>\n",
       "      <td>1.954574</td>\n",
       "    </tr>\n",
       "    <tr>\n",
       "      <th>2022-02-05</th>\n",
       "      <td>-0.749927</td>\n",
       "      <td>-2.017920</td>\n",
       "      <td>2.740245</td>\n",
       "    </tr>\n",
       "    <tr>\n",
       "      <th>2022-02-06</th>\n",
       "      <td>-0.883282</td>\n",
       "      <td>-2.772656</td>\n",
       "      <td>2.555039</td>\n",
       "    </tr>\n",
       "    <tr>\n",
       "      <th>2022-02-07</th>\n",
       "      <td>-0.623727</td>\n",
       "      <td>-3.385106</td>\n",
       "      <td>2.688240</td>\n",
       "    </tr>\n",
       "    <tr>\n",
       "      <th>2022-02-08</th>\n",
       "      <td>-1.756023</td>\n",
       "      <td>-2.871803</td>\n",
       "      <td>1.665069</td>\n",
       "    </tr>\n",
       "    <tr>\n",
       "      <th>2022-02-09</th>\n",
       "      <td>NaN</td>\n",
       "      <td>NaN</td>\n",
       "      <td>NaN</td>\n",
       "    </tr>\n",
       "  </tbody>\n",
       "</table>\n",
       "</div>"
      ],
      "text/plain": [
       "                   0         1         2\n",
       "2022-02-03 -0.013938 -2.260412  2.315637\n",
       "2022-02-04 -0.513030 -0.853220  1.954574\n",
       "2022-02-05 -0.749927 -2.017920  2.740245\n",
       "2022-02-06 -0.883282 -2.772656  2.555039\n",
       "2022-02-07 -0.623727 -3.385106  2.688240\n",
       "2022-02-08 -1.756023 -2.871803  1.665069\n",
       "2022-02-09       NaN       NaN       NaN"
      ]
     },
     "execution_count": 7,
     "metadata": {},
     "output_type": "execute_result"
    }
   ],
   "source": [
    "df2.cumsum()"
   ]
  },
  {
   "cell_type": "markdown",
   "id": "46966327",
   "metadata": {},
   "source": [
    "Eine andere Art von Methoden sind weder Reduktionen noch Akkumulationen. `describe` ist ein solches Beispiel, das mehrere zusammenfassende Statistiken auf einen Schlag erstellt:"
   ]
  },
  {
   "cell_type": "code",
   "execution_count": 8,
   "id": "4768ffc2",
   "metadata": {},
   "outputs": [
    {
     "data": {
      "text/html": [
       "<div>\n",
       "<style scoped>\n",
       "    .dataframe tbody tr th:only-of-type {\n",
       "        vertical-align: middle;\n",
       "    }\n",
       "\n",
       "    .dataframe tbody tr th {\n",
       "        vertical-align: top;\n",
       "    }\n",
       "\n",
       "    .dataframe thead th {\n",
       "        text-align: right;\n",
       "    }\n",
       "</style>\n",
       "<table border=\"1\" class=\"dataframe\">\n",
       "  <thead>\n",
       "    <tr style=\"text-align: right;\">\n",
       "      <th></th>\n",
       "      <th>0</th>\n",
       "      <th>1</th>\n",
       "      <th>2</th>\n",
       "    </tr>\n",
       "  </thead>\n",
       "  <tbody>\n",
       "    <tr>\n",
       "      <th>count</th>\n",
       "      <td>6.000000</td>\n",
       "      <td>6.000000</td>\n",
       "      <td>6.000000</td>\n",
       "    </tr>\n",
       "    <tr>\n",
       "      <th>mean</th>\n",
       "      <td>-0.292671</td>\n",
       "      <td>-0.478634</td>\n",
       "      <td>0.277511</td>\n",
       "    </tr>\n",
       "    <tr>\n",
       "      <th>std</th>\n",
       "      <td>0.481398</td>\n",
       "      <td>1.286844</td>\n",
       "      <td>1.161608</td>\n",
       "    </tr>\n",
       "    <tr>\n",
       "      <th>min</th>\n",
       "      <td>-1.132296</td>\n",
       "      <td>-2.260412</td>\n",
       "      <td>-1.023171</td>\n",
       "    </tr>\n",
       "    <tr>\n",
       "      <th>25%</th>\n",
       "      <td>-0.433544</td>\n",
       "      <td>-1.062209</td>\n",
       "      <td>-0.317099</td>\n",
       "    </tr>\n",
       "    <tr>\n",
       "      <th>50%</th>\n",
       "      <td>-0.185126</td>\n",
       "      <td>-0.683593</td>\n",
       "      <td>-0.026003</td>\n",
       "    </tr>\n",
       "    <tr>\n",
       "      <th>75%</th>\n",
       "      <td>-0.043792</td>\n",
       "      <td>0.231865</td>\n",
       "      <td>0.622554</td>\n",
       "    </tr>\n",
       "    <tr>\n",
       "      <th>max</th>\n",
       "      <td>0.259555</td>\n",
       "      <td>1.407191</td>\n",
       "      <td>2.315637</td>\n",
       "    </tr>\n",
       "  </tbody>\n",
       "</table>\n",
       "</div>"
      ],
      "text/plain": [
       "              0         1         2\n",
       "count  6.000000  6.000000  6.000000\n",
       "mean  -0.292671 -0.478634  0.277511\n",
       "std    0.481398  1.286844  1.161608\n",
       "min   -1.132296 -2.260412 -1.023171\n",
       "25%   -0.433544 -1.062209 -0.317099\n",
       "50%   -0.185126 -0.683593 -0.026003\n",
       "75%   -0.043792  0.231865  0.622554\n",
       "max    0.259555  1.407191  2.315637"
      ]
     },
     "execution_count": 8,
     "metadata": {},
     "output_type": "execute_result"
    }
   ],
   "source": [
    "df2.describe()"
   ]
  },
  {
   "cell_type": "markdown",
   "id": "f041660e",
   "metadata": {},
   "source": [
    "Bei nicht-numerischen Daten erzeugt `describe` alternative zusammenfassende Statistiken:"
   ]
  },
  {
   "cell_type": "code",
   "execution_count": 9,
   "id": "6347c7dd",
   "metadata": {},
   "outputs": [
    {
     "data": {
      "text/html": [
       "<div>\n",
       "<style scoped>\n",
       "    .dataframe tbody tr th:only-of-type {\n",
       "        vertical-align: middle;\n",
       "    }\n",
       "\n",
       "    .dataframe tbody tr th {\n",
       "        vertical-align: top;\n",
       "    }\n",
       "\n",
       "    .dataframe thead th {\n",
       "        text-align: right;\n",
       "    }\n",
       "</style>\n",
       "<table border=\"1\" class=\"dataframe\">\n",
       "  <thead>\n",
       "    <tr style=\"text-align: right;\">\n",
       "      <th></th>\n",
       "      <th>Code</th>\n",
       "      <th>Octal</th>\n",
       "    </tr>\n",
       "  </thead>\n",
       "  <tbody>\n",
       "    <tr>\n",
       "      <th>count</th>\n",
       "      <td>6</td>\n",
       "      <td>6</td>\n",
       "    </tr>\n",
       "    <tr>\n",
       "      <th>unique</th>\n",
       "      <td>6</td>\n",
       "      <td>5</td>\n",
       "    </tr>\n",
       "    <tr>\n",
       "      <th>top</th>\n",
       "      <td>U+0000</td>\n",
       "      <td>004</td>\n",
       "    </tr>\n",
       "    <tr>\n",
       "      <th>freq</th>\n",
       "      <td>1</td>\n",
       "      <td>2</td>\n",
       "    </tr>\n",
       "  </tbody>\n",
       "</table>\n",
       "</div>"
      ],
      "text/plain": [
       "          Code Octal\n",
       "count        6     6\n",
       "unique       6     5\n",
       "top     U+0000   004\n",
       "freq         1     2"
      ]
     },
     "execution_count": 9,
     "metadata": {},
     "output_type": "execute_result"
    }
   ],
   "source": [
    "data = {'Code': ['U+0000', 'U+0001', 'U+0002', 'U+0003', 'U+0004', 'U+0005'],\n",
    "        'Octal': ['001', '002', '003', '004', '004', '005']}\n",
    "df3 = pd.DataFrame(data)\n",
    "\n",
    "df3.describe()"
   ]
  },
  {
   "cell_type": "markdown",
   "id": "26533260",
   "metadata": {},
   "source": [
    "Deskriptive und zusammenfassende Statistiken:\n",
    "\n",
    "Methode | Beschreibung\n",
    ":------ | :-----------\n",
    "`count` | Anzahl der Nicht-NA-Werte\n",
    "`describe` | Berechnung einer Reihe von zusammenfassenden Statistiken für Serien oder jede DataFrame-Spalte\n",
    "`min`, `max` | Berechnung der Mindest- und Höchstwerte\n",
    "`argmin`, `argmax` | Berechnung der Indexstellen (ganze Zahlen), an denen der Mindest- bzw. Höchstwert erreicht wurde\n",
    "`idxmin`, `idxmax` | Berechnung der Indexbeschriftungen, an denen der Mindest- bzw. Höchstwert erreicht wurde\n",
    "`quantile` | Berechnung des Stichprobenquantils im Bereich von 0 bis 1\n",
    "`sum` | Summe der Werte\n",
    "`mean` | Arithmetisches Mittel der Werte\n",
    "`median` | Arithmetischer Median (50%-Quantil) der Werte\n",
    "`mad` | Mittlere absolute Abweichung vom Mittelwert\n",
    "`prod` | Produkt aller Werte\n",
    "`var` | Stichprobenvarianz der Werte\n",
    "`std` | Stichprobenstandardabweichung der Werte\n",
    "`skew` | Stichprobenschiefe (drittes Moment) der Werte\n",
    "`kurt` | Stichprobenwölbung (viertes Moment) der Werte\n",
    "`cumsum` | Kumulierte Summe der Werte\n",
    "`cummin`, `cummax` | Kumuliertes Minimum bzw. Maximum der Werte\n",
    "`cumprod` | Kumuliertes Produkt der Werte\n",
    "`diff` | Berechnung der ersten arithmetischen Differenz (nützlich für Zeitreihen)\n",
    "`pct_change` | Berechnung der prozentualen Veränderungen"
   ]
  }
 ],
 "metadata": {
  "kernelspec": {
   "display_name": "Python 3.8",
   "language": "python",
   "name": "python-38"
  },
  "language_info": {
   "codemirror_mode": {
    "name": "ipython",
    "version": 3
   },
   "file_extension": ".py",
   "mimetype": "text/x-python",
   "name": "python",
   "nbconvert_exporter": "python",
   "pygments_lexer": "ipython3",
   "version": "3.8.12"
  }
 },
 "nbformat": 4,
 "nbformat_minor": 5
}
