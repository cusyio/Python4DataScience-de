{
 "cells": [
  {
   "cell_type": "markdown",
   "id": "5ce1e7df",
   "metadata": {},
   "source": [
    "# Manipulation von Zeichenketten\n",
    "\n",
    "pandas bietet die Möglichkeit, String- und reguläre Ausdrücke prägnant auf ganze Arrays von Daten anzuwenden."
   ]
  },
  {
   "cell_type": "markdown",
   "id": "3a3e87bd",
   "metadata": {},
   "source": [
    "## String-Objekt-Methoden\n",
    "\n",
    "In vielen String-Munging- und Skripting-Anwendungen sind die eingebauten String-Methoden ausreichend. Zum Beispiel kann eine durch Komma getrennte Zeichenkette mit [split](https://docs.python.org/3/library/stdtypes.html#str.split) in Teile zerlegt werden:"
   ]
  },
  {
   "cell_type": "code",
   "execution_count": 1,
   "id": "7d6bead0",
   "metadata": {},
   "outputs": [
    {
     "name": "stdout",
     "output_type": "stream",
     "text": [
      "['Jupyter tutorial', ' PyViz tutorial', ' Python basics', '\\nJupyter tutorial', ' Python basics']\n"
     ]
    }
   ],
   "source": [
    "str = \"\"\"Jupyter tutorial, PyViz tutorial, Python basics,\n",
    "Jupyter tutorial, Python basics\"\"\"\n",
    "\n",
    "chunks = str.split(',')\n",
    "\n",
    "print(chunks)"
   ]
  },
  {
   "cell_type": "markdown",
   "id": "572ac26f",
   "metadata": {},
   "source": [
    "`split` wird oft mit [str.strip](https://docs.python.org/3/library/stdtypes.html#str.strip) kombiniert, um Leerzeichen und Zeilenumbrüche zu entfernen:"
   ]
  },
  {
   "cell_type": "code",
   "execution_count": 2,
   "id": "1c04486d",
   "metadata": {},
   "outputs": [
    {
     "data": {
      "text/plain": [
       "['Jupyter tutorial',\n",
       " 'PyViz tutorial',\n",
       " 'Python basics',\n",
       " 'Jupyter tutorial',\n",
       " 'Python basics']"
      ]
     },
     "execution_count": 2,
     "metadata": {},
     "output_type": "execute_result"
    }
   ],
   "source": [
    "chunks = [x.strip() for x in str.split(',')]\n",
    "\n",
    "chunks"
   ]
  },
  {
   "cell_type": "markdown",
   "id": "8070b6b3",
   "metadata": {},
   "source": [
    "Eine schnelle Methode zur Übergabe einer Liste oder eines Tupels an eine Zeichenkette ist die [str.join](https://docs.python.org/3/library/stdtypes.html#str.join)-Methode:"
   ]
  },
  {
   "cell_type": "code",
   "execution_count": 3,
   "id": "ae8b281b",
   "metadata": {},
   "outputs": [
    {
     "data": {
      "text/plain": [
       "'Jupyter tutorial;PyViz tutorial;Python basics;Jupyter tutorial;Python basics'"
      ]
     },
     "execution_count": 3,
     "metadata": {},
     "output_type": "execute_result"
    }
   ],
   "source": [
    "';'.join(chunks)"
   ]
  },
  {
   "cell_type": "markdown",
   "id": "9dee3bea",
   "metadata": {},
   "source": [
    "Mit der Verwendung des Python-Schlüsselworts `in` kann einfach überprüft werden, ob eine bestimmte Zeichenkette vorhanden ist:"
   ]
  },
  {
   "cell_type": "code",
   "execution_count": 4,
   "id": "2cecc3e7",
   "metadata": {},
   "outputs": [
    {
     "data": {
      "text/plain": [
       "True"
      ]
     },
     "execution_count": 4,
     "metadata": {},
     "output_type": "execute_result"
    }
   ],
   "source": [
    "'Python basics' in chunks"
   ]
  },
  {
   "cell_type": "markdown",
   "id": "b241be49",
   "metadata": {},
   "source": [
    "Mit [str.count](https://docs.python.org/3/library/stdtypes.html#str.count) lässt sich die Anzahl der Zeichenketten ermitteln:"
   ]
  },
  {
   "cell_type": "code",
   "execution_count": 5,
   "id": "0703eea1",
   "metadata": {},
   "outputs": [
    {
     "data": {
      "text/plain": [
       "2"
      ]
     },
     "execution_count": 5,
     "metadata": {},
     "output_type": "execute_result"
    }
   ],
   "source": [
    "str.count('Python basics')"
   ]
  },
  {
   "cell_type": "markdown",
   "id": "53ae0031",
   "metadata": {},
   "source": [
    "Mit der [str.replace](https://docs.python.org/3/library/stdtypes.html#str.replace)-Methode lässt sich das Vorkommen eines Musters durch ein anderes ersetzen. Sie wird häufig auch zum Löschen von Mustern verwendet, indem eine leere Zeichenkette übergeben wird:"
   ]
  },
  {
   "cell_type": "code",
   "execution_count": 6,
   "id": "50b3ebb2",
   "metadata": {},
   "outputs": [
    {
     "data": {
      "text/plain": [
       "'Jupyter tutorial;PyViz tutorial;Python basics,\\nJupyter tutorial;Python basics'"
      ]
     },
     "execution_count": 6,
     "metadata": {},
     "output_type": "execute_result"
    }
   ],
   "source": [
    "str.replace(', ', ';')"
   ]
  },
  {
   "cell_type": "code",
   "execution_count": 7,
   "id": "97687319",
   "metadata": {},
   "outputs": [
    {
     "data": {
      "text/plain": [
       "'Jupyter tutorial, PyViz tutorial, Python basics,Jupyter tutorial, Python basics'"
      ]
     },
     "execution_count": 7,
     "metadata": {},
     "output_type": "execute_result"
    }
   ],
   "source": [
    "str.replace('\\n', '')"
   ]
  },
  {
   "cell_type": "markdown",
   "id": "13dce9c6",
   "metadata": {},
   "source": [
    "In Python eingebaute String-Methoden:\n",
    "\n",
    "Methode | Beschreibung\n",
    ":------ | :-----------\n",
    "`count` | gibt die Anzahl der sich nicht überschneidenden Vorkommen der Zeichenkette zurück.\n",
    "`endswith` | gibt `True` zurück, wenn die Zeichenkette mit dem Suffix endet\n",
    "`startswith` | gibt `True` zurück, wenn die Zeichenkette mit dem Präfix beginnt\n",
    "`join` | verwendet die Zeichenkette als Begrenzer für die Verkettung einer Folge anderer Zeichenketten\n",
    "`index` | gibt die Position des ersten Zeichens in der Zeichenkette zurück, wenn es in der Zeichenkette gefunden wurde; löst einen `ValueError` aus, wenn es nicht gefunden wurde\n",
    "`find` | gibt die Position des ersten Zeichens des ersten Vorkommens der Teilzeichenkette in der Zeichenkette zurück; wie `index`, gibt aber `-1` zurück, wenn nichts gefunden wurde\n",
    "`rfind` | Rückgabe der Position des ersten Zeichens des letzten Vorkommens der Teilzeichenkette in der Zeichenkette; gibt `-1` zurück, wenn nichts gefunden wurde\n",
    "`replace` | ersetzt Vorkommen einer Zeichenkette durch eine andere Zeichenkette\n",
    "`strip`, `rstrip`, `lstrip` | schneiden Leerzeichen ab, einschließlich Zeilenumbrüchen\n",
    "`split ` |zerlegt eine Zeichenkette in eine Liste von Teilzeichenketten unter Verwendung des übergebenen Trennzeichens\n",
    "`lower` | konvertiert alphabetische Zeichen in Kleinbuchstaben\n",
    "`upper` | konvertiert alphabetische Zeichen in Großbuchstaben\n",
    "`casefold` | konvertiert Zeichen in Kleinbuchstaben und konvertiert alle regionsspezifischen variablen Zeichenkombinationen in eine gemeinsame vergleichbare Form\n",
    "`ljust`, `rjust` | linksbündig bzw. rechtsbündig; füllt die gegenüberliegende Seite der Zeichenkette mit Leerzeichen (oder einem anderen Füllzeichen) auf, um eine Zeichenkette mit einer Mindestbreite zu erhalten"
   ]
  },
  {
   "cell_type": "markdown",
   "id": "85c97b1c",
   "metadata": {},
   "source": [
    "## Reguläre Ausdrücke\n",
    "\n",
    "Reguläre Ausdrücke, auch *regex* genannt, bieten eine flexible Möglichkeit, (oft komplexere) Zeichenkettenmuster im Text zu suchen oder abzugleichen. Das in Python eingebaute Modul [re](https://docs.python.org/3/library/re.html) ist für die Anwendung regulärer Ausdrücke auf Zeichenketten zuständig; ich werde hier einige Beispiele für seine Verwendung geben.\n",
    "\n",
    "Die Funktionen des `re`-Moduls lassen sich in drei Kategorien einteilen: Mustervergleich, Ersetzung und Aufteilung. Diese sind natürlich alle miteinander verwandt; ein Regex beschreibt ein Muster, das im Text gefunden werden soll und das dann für viele Zwecke verwendet werden kann. Betrachten wir ein einfaches Beispiel: Angenommen, wir wollen eine Zeichenkette mit einer variablen Anzahl von Leerzeichen (Tabulatoren, Leerzeichen und Zeilenumbrüche) aufteilen. Die Regex, die ein oder mehrere Leerzeichen beschreibt, lautet `\\s+`:"
   ]
  },
  {
   "cell_type": "code",
   "execution_count": 8,
   "id": "2f8f0a17",
   "metadata": {},
   "outputs": [
    {
     "data": {
      "text/plain": [
       "['Jupyter',\n",
       " 'tutorial,',\n",
       " 'PyViz',\n",
       " 'tutorial,',\n",
       " 'Python',\n",
       " 'basics,',\n",
       " 'Jupyter',\n",
       " 'tutorial,',\n",
       " 'Python',\n",
       " 'basics']"
      ]
     },
     "execution_count": 8,
     "metadata": {},
     "output_type": "execute_result"
    }
   ],
   "source": [
    "import re\n",
    "\n",
    "re.split('\\s+', str)"
   ]
  },
  {
   "cell_type": "markdown",
   "id": "3804eb1a",
   "metadata": {},
   "source": [
    "Wenn ihr `re.split('\\s+', str)` aufruft, wird der reguläre Ausdruck zunächst kompiliert und dann seine Split-Methode für den übergebenen Text aufgerufen. Ihr könnt den Regex selbst mit `re.compile` kompilieren und so ein wiederverwendbares Regex-Objekt bilden:"
   ]
  },
  {
   "cell_type": "code",
   "execution_count": 9,
   "id": "219ff1d5",
   "metadata": {},
   "outputs": [
    {
     "data": {
      "text/plain": [
       "['Jupyter',\n",
       " 'tutorial,',\n",
       " 'PyViz',\n",
       " 'tutorial,',\n",
       " 'Python',\n",
       " 'basics,',\n",
       " 'Jupyter',\n",
       " 'tutorial,',\n",
       " 'Python',\n",
       " 'basics']"
      ]
     },
     "execution_count": 9,
     "metadata": {},
     "output_type": "execute_result"
    }
   ],
   "source": [
    "regex = re.compile('\\s+')\n",
    "\n",
    "regex.split(str)"
   ]
  },
  {
   "cell_type": "markdown",
   "id": "07ec6876",
   "metadata": {},
   "source": [
    "Wenn ihr stattdessen eine Liste aller Muster erhalten möchtet, die der Regex entsprechen, könnt ihr die [re.findall](https://docs.python.org/3/library/re.html#re.findall)-Methode verwenden:"
   ]
  },
  {
   "cell_type": "code",
   "execution_count": 10,
   "id": "2442ef41",
   "metadata": {},
   "outputs": [
    {
     "data": {
      "text/plain": [
       "[' ', ' ', ' ', ' ', ' ', '\\n', ' ', ' ', ' ']"
      ]
     },
     "execution_count": 10,
     "metadata": {},
     "output_type": "execute_result"
    }
   ],
   "source": [
    "regex.findall(str)"
   ]
  },
  {
   "cell_type": "markdown",
   "id": "f828e08b",
   "metadata": {},
   "source": [
    "> **Hinweis:**\n",
    "> \n",
    "> Um unerwünschtes Escaping mit `\\` in einem regulären Ausdruck zu vermeiden, verwendet rohe String-Literale wie `r'C:\\PATH\\TO\\FILE'` anstelle des entsprechenden `'C:\\\\PATH\\\\TO\\\\FILE'`."
   ]
  },
  {
   "cell_type": "markdown",
   "id": "282f5cbd",
   "metadata": {},
   "source": [
    "Das Erstellen eines Regex-Objekts mit `re.compile` ist sehr empfehlenswert, wenn ihr beabsichtigt, denselben Ausdruck auf viele Zeichenketten anzuwenden; dies spart auch CPU-Zyklen.\n",
    "\n",
    "`match` und `search` sind eng mit `findall` verwandt. Während `findall` alle Übereinstimmungen in einer Zeichenkette zurückgibt, gibt `search` nur die erste Übereinstimmung und `match` nur Übereinstimmungen am Anfang der Zeichenkette zurück. Als weniger triviales Beispiel betrachten wir einen Textblock und einen regulären Ausdruck, der die meisten E-Mail-Adressen identifizieren kann:"
   ]
  },
  {
   "cell_type": "code",
   "execution_count": 11,
   "id": "48be289a",
   "metadata": {},
   "outputs": [],
   "source": [
    "addresses = \"\"\"Veit <veit@cusy.io>\n",
    "Veit Schiele <veit.schiele@cusy.io>\n",
    "cusy GmbH <info@cusy.io>\n",
    "\"\"\""
   ]
  },
  {
   "cell_type": "code",
   "execution_count": 12,
   "id": "361c739c",
   "metadata": {},
   "outputs": [],
   "source": [
    "pattern = r'[A-Z0-9._%+-]+@[A-Z0-9.-]+\\.[A-Z]{2,4}'\n",
    "regex = re.compile(pattern, flags=re.IGNORECASE)"
   ]
  },
  {
   "cell_type": "markdown",
   "id": "098ac5cf",
   "metadata": {},
   "source": [
    "`re.IGNORECASE` ignoriert die Groß- und Kleinschreibung im Regex."
   ]
  },
  {
   "cell_type": "markdown",
   "id": "43736a66",
   "metadata": {},
   "source": [
    "Die Verwendung von `findall` für den Text ergibt eine Liste der E-Mail-Adressen:"
   ]
  },
  {
   "cell_type": "code",
   "execution_count": 13,
   "id": "4749495d",
   "metadata": {},
   "outputs": [
    {
     "data": {
      "text/plain": [
       "['veit@cusy.io', 'veit.schiele@cusy.io', 'info@cusy.io']"
      ]
     },
     "execution_count": 13,
     "metadata": {},
     "output_type": "execute_result"
    }
   ],
   "source": [
    "regex.findall(addresses)"
   ]
  },
  {
   "cell_type": "markdown",
   "id": "29c6e366",
   "metadata": {},
   "source": [
    "`search` gibt ein spezielles `match`-Objekt für die erste E-Mail-Adresse im Text zurück. Für die vorangehende Regex kann das `match`-Objekt nur die Anfangs- und Endposition des Musters in der Zeichenfolge angeben:"
   ]
  },
  {
   "cell_type": "code",
   "execution_count": 14,
   "id": "2dd88d4b",
   "metadata": {},
   "outputs": [
    {
     "data": {
      "text/plain": [
       "<re.Match object; span=(6, 18), match='veit@cusy.io'>"
      ]
     },
     "execution_count": 14,
     "metadata": {},
     "output_type": "execute_result"
    }
   ],
   "source": [
    "first = regex.search(addresses)\n",
    "\n",
    "first"
   ]
  },
  {
   "cell_type": "code",
   "execution_count": 15,
   "id": "6efa45d7",
   "metadata": {},
   "outputs": [
    {
     "data": {
      "text/plain": [
       "'veit@cusy.io'"
      ]
     },
     "execution_count": 15,
     "metadata": {},
     "output_type": "execute_result"
    }
   ],
   "source": [
    "addresses[first.start():first.end()]"
   ]
  },
  {
   "cell_type": "markdown",
   "id": "1a86c553",
   "metadata": {},
   "source": [
    "`regex.match` gibt `None` zurück, da das Muster nur dann passt, wenn es am Anfang der Zeichenkette steht:"
   ]
  },
  {
   "cell_type": "code",
   "execution_count": 16,
   "id": "6aff8019",
   "metadata": {},
   "outputs": [
    {
     "name": "stdout",
     "output_type": "stream",
     "text": [
      "None\n"
     ]
    }
   ],
   "source": [
    "print(regex.match(addresses))"
   ]
  },
  {
   "cell_type": "markdown",
   "id": "84491c4e",
   "metadata": {},
   "source": [
    "Entsprechend gibt `sub` eine neue Zeichenkette zurück, in der alle Vorkommen des Musters durch die neue Zeichenkette ersetzt sind:"
   ]
  },
  {
   "cell_type": "code",
   "execution_count": 17,
   "id": "7e6ab5a6",
   "metadata": {},
   "outputs": [
    {
     "name": "stdout",
     "output_type": "stream",
     "text": [
      "Veit <…>\n",
      "Veit Schiele <…>\n",
      "cusy GmbH <…>\n",
      "\n"
     ]
    }
   ],
   "source": [
    "print(regex.sub('…', addresses))"
   ]
  },
  {
   "cell_type": "markdown",
   "id": "fec395bf",
   "metadata": {},
   "source": [
    "Angenommen, ihr möchtet E-Mail-Adressen finden und gleichzeitig jede Adresse in ihre drei Komponenten aufteilen: Personenname, Domänenname und Domänensuffix. Dazu setzt ihr Klammern um die zu segmentierenden Teile des Musters:"
   ]
  },
  {
   "cell_type": "code",
   "execution_count": 18,
   "id": "6346b791",
   "metadata": {},
   "outputs": [],
   "source": [
    "pattern = r'([A-Z0-9._%+-]+)@([A-Z0-9.-]+)\\.([A-Z]{2,4})'\n",
    "regex = re.compile(pattern, flags=re.IGNORECASE)"
   ]
  },
  {
   "cell_type": "code",
   "execution_count": 19,
   "id": "7ceb436e",
   "metadata": {},
   "outputs": [
    {
     "data": {
      "text/plain": [
       "('veit', 'cusy', 'io')"
      ]
     },
     "execution_count": 19,
     "metadata": {},
     "output_type": "execute_result"
    }
   ],
   "source": [
    "match = regex.match('veit@cusy.io')\n",
    "\n",
    "match.groups()"
   ]
  },
  {
   "cell_type": "markdown",
   "id": "dd1e202f",
   "metadata": {},
   "source": [
    "`findall` gibt eine Liste von Tupeln zurück, wenn das Muster Gruppen enthält:"
   ]
  },
  {
   "cell_type": "code",
   "execution_count": 20,
   "id": "507eaa29",
   "metadata": {},
   "outputs": [
    {
     "data": {
      "text/plain": [
       "[('veit', 'cusy', 'io'),\n",
       " ('veit.schiele', 'cusy', 'io'),\n",
       " ('info', 'cusy', 'io')]"
      ]
     },
     "execution_count": 20,
     "metadata": {},
     "output_type": "execute_result"
    }
   ],
   "source": [
    "regex.findall(addresses)"
   ]
  },
  {
   "cell_type": "markdown",
   "id": "51b37479",
   "metadata": {},
   "source": [
    "`sub` hat auch Zugang zu den Gruppen in jeder Übereinstimmung mit speziellen Symbolen. So steht `\\1` für die erste übereinstimmende Gruppe, `\\2` für die zweite und so weiter:"
   ]
  },
  {
   "cell_type": "code",
   "execution_count": 21,
   "id": "dbd0ee99",
   "metadata": {},
   "outputs": [
    {
     "name": "stdout",
     "output_type": "stream",
     "text": [
      "Veit <Username: veit, Domain: cusy, Suffix: io>\n",
      "Veit Schiele <Username: veit.schiele, Domain: cusy, Suffix: io>\n",
      "cusy GmbH <Username: info, Domain: cusy, Suffix: io>\n",
      "\n"
     ]
    }
   ],
   "source": [
    "print(regex.sub(r'Username: \\1, Domain: \\2, Suffix: \\3', addresses))"
   ]
  },
  {
   "cell_type": "markdown",
   "id": "07ef82a2",
   "metadata": {},
   "source": [
    "Die folgende Tabelle enthält einen kurzen Überblick über Methoden für reguläre Ausdrücke:\n",
    "\n",
    "Methode | Beschreibung\n",
    ":------ | :-----------\n",
    "`findall` | gibt alle sich nicht überschneidenden übereinstimmenden Muster in einer Zeichenkette als Liste zurück\n",
    "`finditer` | wie `findall`, gibt aber einen Iterator zurück\n",
    "`match` | entspricht dem Muster am Anfang der Zeichenkette und segmentiert optional die Musterkomponenten in Gruppen; wenn das Muster übereinstimmt, wird ein `match`-Objekt zurückgegeben, andernfalls keines\n",
    "`search` | durchsucht die Zeichenkette nach Übereinstimmungen mit dem Muster; gibt in diesem Fall ein `match`-Objekt zurück; im Gegensatz zu `match` kann die Übereinstimmung an einer beliebigen Stelle der Zeichenkette und nicht nur am Anfang stehen\n",
    "`split` | zerlegt die Zeichenkette bei jedem Auftreten des Musters in Teile\n",
    "`sub`, `subn` | ersetzt alle (`sub`) oder die ersten `n` Vorkommen (`subn`) des Musters in der Zeichenkette durch einen Ersetzungsausdruck; verwendet die Symbole `\\1`, `\\2`, …, um auf die Elemente der Übereinstimmungsgruppe in der Ersetzungszeichenkette zu verweisen"
   ]
  }
 ],
 "metadata": {
  "kernelspec": {
   "display_name": "Python 3.8",
   "language": "python",
   "name": "python-38"
  },
  "language_info": {
   "codemirror_mode": {
    "name": "ipython",
    "version": 3
   },
   "file_extension": ".py",
   "mimetype": "text/x-python",
   "name": "python",
   "nbconvert_exporter": "python",
   "pygments_lexer": "ipython3",
   "version": "3.8.12"
  }
 },
 "nbformat": 4,
 "nbformat_minor": 5
}
