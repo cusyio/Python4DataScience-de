{
 "cells": [
  {
   "cell_type": "markdown",
   "id": "5ce1e7df",
   "metadata": {},
   "source": [
    "# Manipulation von Zeichenketten\n",
    "\n",
    "pandas bietet die Möglichkeit, String- und reguläre Ausdrücke prägnant auf ganze Arrays von Daten anzuwenden."
   ]
  },
  {
   "cell_type": "markdown",
   "id": "3a3e87bd",
   "metadata": {},
   "source": [
    "## String-Objekt-Methoden\n",
    "\n",
    "In vielen String-Munging- und Skripting-Anwendungen sind die eingebauten String-Methoden ausreichend. Zum Beispiel kann eine durch Komma getrennte Zeichenkette mit [split](https://docs.python.org/3/library/stdtypes.html#str.split) in Teile zerlegt werden:"
   ]
  },
  {
   "cell_type": "code",
   "execution_count": 1,
   "id": "7d6bead0",
   "metadata": {},
   "outputs": [
    {
     "name": "stdout",
     "output_type": "stream",
     "text": [
      "['Jupyter tutorial', ' PyViz tutorial', ' Python basics', '\\nJupyter tutorial', ' Python basics']\n"
     ]
    }
   ],
   "source": [
    "books = \"\"\"Jupyter tutorial, PyViz tutorial, Python basics,\n",
    "Jupyter tutorial, Python basics\"\"\"\n",
    "\n",
    "chunks = books.split(',')\n",
    "\n",
    "print(chunks)"
   ]
  },
  {
   "cell_type": "markdown",
   "id": "572ac26f",
   "metadata": {},
   "source": [
    "`split` wird oft mit [str.strip](https://docs.python.org/3/library/stdtypes.html#str.strip) kombiniert, um Leerzeichen und Zeilenumbrüche zu entfernen:"
   ]
  },
  {
   "cell_type": "code",
   "execution_count": 2,
   "id": "1c04486d",
   "metadata": {},
   "outputs": [
    {
     "data": {
      "text/plain": [
       "['Jupyter tutorial',\n",
       " 'PyViz tutorial',\n",
       " 'Python basics',\n",
       " 'Jupyter tutorial',\n",
       " 'Python basics']"
      ]
     },
     "execution_count": 2,
     "metadata": {},
     "output_type": "execute_result"
    }
   ],
   "source": [
    "chunks = [x.strip() for x in books.split(',')]\n",
    "\n",
    "chunks"
   ]
  },
  {
   "cell_type": "markdown",
   "id": "8070b6b3",
   "metadata": {},
   "source": [
    "Eine schnelle Methode zur Übergabe einer Liste oder eines Tupels an eine Zeichenkette ist die [str.join](https://docs.python.org/3/library/stdtypes.html#str.join)-Methode:"
   ]
  },
  {
   "cell_type": "code",
   "execution_count": 3,
   "id": "ae8b281b",
   "metadata": {},
   "outputs": [
    {
     "data": {
      "text/plain": [
       "'Jupyter tutorial;PyViz tutorial;Python basics;Jupyter tutorial;Python basics'"
      ]
     },
     "execution_count": 3,
     "metadata": {},
     "output_type": "execute_result"
    }
   ],
   "source": [
    "';'.join(chunks)"
   ]
  },
  {
   "cell_type": "markdown",
   "id": "9dee3bea",
   "metadata": {},
   "source": [
    "Mit der Verwendung des Python-Schlüsselworts `in` kann einfach überprüft werden, ob eine bestimmte Zeichenkette vorhanden ist:"
   ]
  },
  {
   "cell_type": "code",
   "execution_count": 4,
   "id": "2cecc3e7",
   "metadata": {},
   "outputs": [
    {
     "data": {
      "text/plain": [
       "True"
      ]
     },
     "execution_count": 4,
     "metadata": {},
     "output_type": "execute_result"
    }
   ],
   "source": [
    "'Python basics' in chunks"
   ]
  },
  {
   "cell_type": "markdown",
   "id": "b241be49",
   "metadata": {},
   "source": [
    "Mit [str.count](https://docs.python.org/3/library/stdtypes.html#str.count) lässt sich die Anzahl der Zeichenketten ermitteln:"
   ]
  },
  {
   "cell_type": "code",
   "execution_count": 5,
   "id": "0703eea1",
   "metadata": {},
   "outputs": [
    {
     "data": {
      "text/plain": [
       "2"
      ]
     },
     "execution_count": 5,
     "metadata": {},
     "output_type": "execute_result"
    }
   ],
   "source": [
    "books.count('Python basics')"
   ]
  },
  {
   "cell_type": "markdown",
   "id": "53ae0031",
   "metadata": {},
   "source": [
    "Mit der [str.replace](https://docs.python.org/3/library/stdtypes.html#str.replace)-Methode lässt sich das Vorkommen eines Musters durch ein anderes ersetzen. Sie wird häufig auch zum Löschen von Mustern verwendet, indem eine leere Zeichenkette übergeben wird:"
   ]
  },
  {
   "cell_type": "code",
   "execution_count": 6,
   "id": "50b3ebb2",
   "metadata": {},
   "outputs": [
    {
     "data": {
      "text/plain": [
       "'Jupyter tutorial;PyViz tutorial;Python basics,\\nJupyter tutorial;Python basics'"
      ]
     },
     "execution_count": 6,
     "metadata": {},
     "output_type": "execute_result"
    }
   ],
   "source": [
    "books.replace(', ', ';')"
   ]
  },
  {
   "cell_type": "code",
   "execution_count": 7,
   "id": "97687319",
   "metadata": {},
   "outputs": [
    {
     "data": {
      "text/plain": [
       "'Jupyter tutorial, PyViz tutorial, Python basics,Jupyter tutorial, Python basics'"
      ]
     },
     "execution_count": 7,
     "metadata": {},
     "output_type": "execute_result"
    }
   ],
   "source": [
    "books.replace('\\n', '')"
   ]
  },
  {
   "cell_type": "markdown",
   "id": "13dce9c6",
   "metadata": {},
   "source": [
    "In Python eingebaute String-Methoden:\n",
    "\n",
    "Methode | Beschreibung\n",
    ":------ | :-----------\n",
    "`count` | gibt die Anzahl der sich nicht überschneidenden Vorkommen der Zeichenkette zurück.\n",
    "`endswith` | gibt `True` zurück, wenn die Zeichenkette mit dem Suffix endet\n",
    "`startswith` | gibt `True` zurück, wenn die Zeichenkette mit dem Präfix beginnt\n",
    "`join` | verwendet die Zeichenkette als Begrenzer für die Verkettung einer Folge anderer Zeichenketten\n",
    "`index` | gibt die Position des ersten Zeichens in der Zeichenkette zurück, wenn es in der Zeichenkette gefunden wurde; löst einen `ValueError` aus, wenn es nicht gefunden wurde\n",
    "`find` | gibt die Position des ersten Zeichens des ersten Vorkommens der Teilzeichenkette in der Zeichenkette zurück; wie `index`, gibt aber `-1` zurück, wenn nichts gefunden wurde\n",
    "`rfind` | Rückgabe der Position des ersten Zeichens des letzten Vorkommens der Teilzeichenkette in der Zeichenkette; gibt `-1` zurück, wenn nichts gefunden wurde\n",
    "`replace` | ersetzt Vorkommen einer Zeichenkette durch eine andere Zeichenkette\n",
    "`strip`, `rstrip`, `lstrip` | schneiden Leerzeichen ab, einschließlich Zeilenumbrüchen\n",
    "`split ` |zerlegt eine Zeichenkette in eine Liste von Teilzeichenketten unter Verwendung des übergebenen Trennzeichens\n",
    "`lower` | konvertiert alphabetische Zeichen in Kleinbuchstaben\n",
    "`upper` | konvertiert alphabetische Zeichen in Großbuchstaben\n",
    "`casefold` | konvertiert Zeichen in Kleinbuchstaben und konvertiert alle regionsspezifischen variablen Zeichenkombinationen in eine gemeinsame vergleichbare Form\n",
    "`ljust`, `rjust` | linksbündig bzw. rechtsbündig; füllt die gegenüberliegende Seite der Zeichenkette mit Leerzeichen (oder einem anderen Füllzeichen) auf, um eine Zeichenkette mit einer Mindestbreite zu erhalten"
   ]
  },
  {
   "cell_type": "markdown",
   "id": "bb39b9c5",
   "metadata": {},
   "source": [
    "## Reguläre Ausdrücke\n",
    "\n",
    "Reguläre Ausdrücke, auch *regex* genannt, bieten eine flexible Möglichkeit, (oft komplexere) Zeichenkettenmuster im Text zu suchen oder abzugleichen. Das in Python eingebaute Modul [re](https://docs.python.org/3/library/re.html) ist für die Anwendung regulärer Ausdrücke auf Zeichenketten zuständig. Die Funktionen des `re`-Moduls lassen sich in drei Kategorien einteilen: Mustervergleich, Ersetzung und Aufteilung. Diese sind natürlich alle miteinander verwandt; ein Regex beschreibt ein Muster, das im Text gefunden werden soll und das dann für viele Zwecke verwendet werden kann.\n",
    "\n",
    "> **Siehe auch:**\n",
    "> \n",
    "> * [Reguläre Ausdrücke](../ipython/unix-shell/regex.ipynb)\n",
    "\n",
    "Betrachten wir ein einfaches Beispiel: Angenommen, wir wollen eine kommaseparierte Zeichenkette aufteilen:"
   ]
  },
  {
   "cell_type": "code",
   "execution_count": 8,
   "id": "8dabf8fc",
   "metadata": {},
   "outputs": [
    {
     "data": {
      "text/plain": [
       "['Jupyter tutorial',\n",
       " ' PyViz tutorial',\n",
       " ' Python basics',\n",
       " '\\nJupyter tutorial',\n",
       " ' Python basics']"
      ]
     },
     "execution_count": 8,
     "metadata": {},
     "output_type": "execute_result"
    }
   ],
   "source": [
    "import re\n",
    "\n",
    "re.split(',', books)"
   ]
  },
  {
   "cell_type": "markdown",
   "id": "1b06e73f",
   "metadata": {},
   "source": [
    "Wenn ihr `re.split(',', books)` aufruft, wird der reguläre Ausdruck zunächst kompiliert und dann seine Split-Methode für den übergebenen Text aufgerufen. Ihr könnt den Regex selbst mit `re.compile` kompilieren und so ein wiederverwendbares Regex-Objekt bilden:"
   ]
  },
  {
   "cell_type": "code",
   "execution_count": 9,
   "id": "b48ffc9f",
   "metadata": {},
   "outputs": [
    {
     "data": {
      "text/plain": [
       "['Jupyter tutorial',\n",
       " ' PyViz tutorial',\n",
       " ' Python basics',\n",
       " '\\nJupyter tutorial',\n",
       " ' Python basics']"
      ]
     },
     "execution_count": 9,
     "metadata": {},
     "output_type": "execute_result"
    }
   ],
   "source": [
    "regex = re.compile(',')\n",
    "\n",
    "regex.split(books)"
   ]
  },
  {
   "cell_type": "markdown",
   "id": "07ec6876",
   "metadata": {},
   "source": [
    "Wenn ihr stattdessen eine Liste aller Muster erhalten möchtet, die der Regex entsprechen, könnt ihr die [re.findall](https://docs.python.org/3/library/re.html#re.findall)-Methode verwenden:"
   ]
  },
  {
   "cell_type": "code",
   "execution_count": 10,
   "id": "fdfd141a",
   "metadata": {},
   "outputs": [
    {
     "data": {
      "text/plain": [
       "[',', ',', ',', ',']"
      ]
     },
     "execution_count": 10,
     "metadata": {},
     "output_type": "execute_result"
    }
   ],
   "source": [
    "regex.findall(books)"
   ]
  },
  {
   "cell_type": "markdown",
   "id": "f828e08b",
   "metadata": {},
   "source": [
    "> **Hinweis:**\n",
    "> \n",
    "> Um unerwünschtes Escaping mit `\\` in einem regulären Ausdruck zu vermeiden, verwendet rohe String-Literale wie `r'C:\\PATH\\TO\\FILE'` anstelle des entsprechenden `'C:\\\\PATH\\\\TO\\\\FILE'`."
   ]
  },
  {
   "cell_type": "markdown",
   "id": "282f5cbd",
   "metadata": {},
   "source": [
    "Das Erstellen eines Regex-Objekts mit `re.compile` ist sehr empfehlenswert, wenn ihr beabsichtigt, denselben Ausdruck auf viele Zeichenketten anzuwenden; dies spart auch CPU-Zyklen.\n",
    "\n",
    "`match` und `search` sind eng mit `findall` verwandt. Während `findall` alle Übereinstimmungen in einer Zeichenkette zurückgibt, gibt `search` nur die erste Übereinstimmung und `match` nur Übereinstimmungen am Anfang der Zeichenkette zurück. Als weniger triviales Beispiel betrachten wir einen Textblock und einen regulären Ausdruck, der die meisten E-Mail-Adressen identifizieren kann:"
   ]
  },
  {
   "cell_type": "code",
   "execution_count": 11,
   "id": "48be289a",
   "metadata": {},
   "outputs": [],
   "source": [
    "addresses = \"\"\"Veit <veit@cusy.io>\n",
    "Veit Schiele <veit.schiele@cusy.io>\n",
    "cusy GmbH <info@cusy.io>\n",
    "\"\"\""
   ]
  },
  {
   "cell_type": "code",
   "execution_count": 12,
   "id": "361c739c",
   "metadata": {},
   "outputs": [],
   "source": [
    "pattern = r'[A-Z0-9._%+-]+@[A-Z0-9.-]+\\.[A-Z]{2,4}'\n",
    "regex = re.compile(pattern, flags=re.IGNORECASE)"
   ]
  },
  {
   "cell_type": "markdown",
   "id": "098ac5cf",
   "metadata": {},
   "source": [
    "`re.IGNORECASE` ignoriert die Groß- und Kleinschreibung im Regex."
   ]
  },
  {
   "cell_type": "markdown",
   "id": "43736a66",
   "metadata": {},
   "source": [
    "Die Verwendung von `findall` für den Text ergibt eine Liste der E-Mail-Adressen:"
   ]
  },
  {
   "cell_type": "code",
   "execution_count": 13,
   "id": "4749495d",
   "metadata": {},
   "outputs": [
    {
     "data": {
      "text/plain": [
       "['veit@cusy.io', 'veit.schiele@cusy.io', 'info@cusy.io']"
      ]
     },
     "execution_count": 13,
     "metadata": {},
     "output_type": "execute_result"
    }
   ],
   "source": [
    "regex.findall(addresses)"
   ]
  },
  {
   "cell_type": "markdown",
   "id": "29c6e366",
   "metadata": {},
   "source": [
    "`search` gibt ein spezielles `match`-Objekt für die erste E-Mail-Adresse im Text zurück. Für die vorangehende Regex kann das `match`-Objekt nur die Anfangs- und Endposition des Musters in der Zeichenfolge angeben:"
   ]
  },
  {
   "cell_type": "code",
   "execution_count": 14,
   "id": "2dd88d4b",
   "metadata": {},
   "outputs": [
    {
     "data": {
      "text/plain": [
       "<re.Match object; span=(6, 18), match='veit@cusy.io'>"
      ]
     },
     "execution_count": 14,
     "metadata": {},
     "output_type": "execute_result"
    }
   ],
   "source": [
    "first = regex.search(addresses)\n",
    "\n",
    "first"
   ]
  },
  {
   "cell_type": "code",
   "execution_count": 15,
   "id": "6efa45d7",
   "metadata": {},
   "outputs": [
    {
     "data": {
      "text/plain": [
       "'veit@cusy.io'"
      ]
     },
     "execution_count": 15,
     "metadata": {},
     "output_type": "execute_result"
    }
   ],
   "source": [
    "addresses[first.start():first.end()]"
   ]
  },
  {
   "cell_type": "markdown",
   "id": "1a86c553",
   "metadata": {},
   "source": [
    "`regex.match` gibt `None` zurück, da das Muster nur dann passt, wenn es am Anfang der Zeichenkette steht:"
   ]
  },
  {
   "cell_type": "code",
   "execution_count": 16,
   "id": "6aff8019",
   "metadata": {},
   "outputs": [
    {
     "name": "stdout",
     "output_type": "stream",
     "text": [
      "None\n"
     ]
    }
   ],
   "source": [
    "print(regex.match(addresses))"
   ]
  },
  {
   "cell_type": "markdown",
   "id": "84491c4e",
   "metadata": {},
   "source": [
    "Entsprechend gibt `sub` eine neue Zeichenkette zurück, in der alle Vorkommen des Musters durch die neue Zeichenkette ersetzt sind:"
   ]
  },
  {
   "cell_type": "code",
   "execution_count": 17,
   "id": "7e6ab5a6",
   "metadata": {},
   "outputs": [
    {
     "name": "stdout",
     "output_type": "stream",
     "text": [
      "Veit <…>\n",
      "Veit Schiele <…>\n",
      "cusy GmbH <…>\n",
      "\n"
     ]
    }
   ],
   "source": [
    "print(regex.sub('…', addresses))"
   ]
  },
  {
   "cell_type": "markdown",
   "id": "fec395bf",
   "metadata": {},
   "source": [
    "Angenommen, ihr möchtet E-Mail-Adressen finden und gleichzeitig jede Adresse in ihre drei Komponenten aufteilen: Personenname, Domänenname und Domänensuffix. Dazu setzt ihr Klammern um die zu segmentierenden Teile des Musters:"
   ]
  },
  {
   "cell_type": "code",
   "execution_count": 18,
   "id": "6346b791",
   "metadata": {},
   "outputs": [],
   "source": [
    "pattern = r'([A-Z0-9._%+-]+)@([A-Z0-9.-]+)\\.([A-Z]{2,4})'\n",
    "regex = re.compile(pattern, flags=re.IGNORECASE)"
   ]
  },
  {
   "cell_type": "code",
   "execution_count": 19,
   "id": "7ceb436e",
   "metadata": {},
   "outputs": [
    {
     "data": {
      "text/plain": [
       "('veit', 'cusy', 'io')"
      ]
     },
     "execution_count": 19,
     "metadata": {},
     "output_type": "execute_result"
    }
   ],
   "source": [
    "match = regex.match('veit@cusy.io')\n",
    "\n",
    "match.groups()"
   ]
  },
  {
   "cell_type": "markdown",
   "id": "dd1e202f",
   "metadata": {},
   "source": [
    "`findall` gibt eine Liste von Tupeln zurück, wenn das Muster Gruppen enthält:"
   ]
  },
  {
   "cell_type": "code",
   "execution_count": 20,
   "id": "507eaa29",
   "metadata": {},
   "outputs": [
    {
     "data": {
      "text/plain": [
       "[('veit', 'cusy', 'io'),\n",
       " ('veit.schiele', 'cusy', 'io'),\n",
       " ('info', 'cusy', 'io')]"
      ]
     },
     "execution_count": 20,
     "metadata": {},
     "output_type": "execute_result"
    }
   ],
   "source": [
    "regex.findall(addresses)"
   ]
  },
  {
   "cell_type": "markdown",
   "id": "51b37479",
   "metadata": {},
   "source": [
    "`sub` hat auch Zugang zu den Gruppen in jeder Übereinstimmung mit speziellen Symbolen. So steht `\\1` für die erste übereinstimmende Gruppe, `\\2` für die zweite und so weiter:"
   ]
  },
  {
   "cell_type": "code",
   "execution_count": 21,
   "id": "dbd0ee99",
   "metadata": {},
   "outputs": [
    {
     "name": "stdout",
     "output_type": "stream",
     "text": [
      "Veit <Username: veit, Domain: cusy, Suffix: io>\n",
      "Veit Schiele <Username: veit.schiele, Domain: cusy, Suffix: io>\n",
      "cusy GmbH <Username: info, Domain: cusy, Suffix: io>\n",
      "\n"
     ]
    }
   ],
   "source": [
    "print(regex.sub(r'Username: \\1, Domain: \\2, Suffix: \\3', addresses))"
   ]
  },
  {
   "cell_type": "markdown",
   "id": "07ef82a2",
   "metadata": {},
   "source": [
    "Die folgende Tabelle enthält einen kurzen Überblick über Methoden für reguläre Ausdrücke:\n",
    "\n",
    "Methode | Beschreibung\n",
    ":------ | :-----------\n",
    "`findall` | gibt alle sich nicht überschneidenden übereinstimmenden Muster in einer Zeichenkette als Liste zurück\n",
    "`finditer` | wie `findall`, gibt aber einen Iterator zurück\n",
    "`match` | entspricht dem Muster am Anfang der Zeichenkette und segmentiert optional die Musterkomponenten in Gruppen; wenn das Muster übereinstimmt, wird ein `match`-Objekt zurückgegeben, andernfalls keines\n",
    "`search` | durchsucht die Zeichenkette nach Übereinstimmungen mit dem Muster; gibt in diesem Fall ein `match`-Objekt zurück; im Gegensatz zu `match` kann die Übereinstimmung an einer beliebigen Stelle der Zeichenkette und nicht nur am Anfang stehen\n",
    "`split` | zerlegt die Zeichenkette bei jedem Auftreten des Musters in Teile\n",
    "`sub`, `subn` | ersetzt alle (`sub`) oder die ersten `n` Vorkommen (`subn`) des Musters in der Zeichenkette durch einen Ersetzungsausdruck; verwendet die Symbole `\\1`, `\\2`, …, um auf die Elemente der Übereinstimmungsgruppe in der Ersetzungszeichenkette zu verweisen"
   ]
  },
  {
   "cell_type": "markdown",
   "id": "96aee19e",
   "metadata": {},
   "source": [
    "## Vektorisierte String-Funktionen in pandas\n",
    "\n",
    "Das Aufräumen eines unübersichtlichen Datensatzes für die Analyse erfordert oft eine Menge an String-Manipulationen. Erschwerend kommt hinzu, dass eine Spalte, die Strings enthält, manchmal fehlende Daten enthält:"
   ]
  },
  {
   "cell_type": "code",
   "execution_count": 22,
   "id": "96e414d4",
   "metadata": {},
   "outputs": [
    {
     "data": {
      "text/plain": [
       "Veit                             NaN\n",
       "Veit Schiele    veit.schiele@cusy.io\n",
       "cusy GmbH               info@cusy.io\n",
       "dtype: object"
      ]
     },
     "execution_count": 22,
     "metadata": {},
     "output_type": "execute_result"
    }
   ],
   "source": [
    "import pandas as pd\n",
    "import numpy as np\n",
    "\n",
    "addresses = {'Veit': np.nan, 'Veit Schiele': 'veit.schiele@cusy.io',\n",
    "             'cusy GmbH': 'info@cusy.io'}\n",
    "addresses = pd.Series(addresses)\n",
    "\n",
    "addresses"
   ]
  },
  {
   "cell_type": "code",
   "execution_count": 23,
   "id": "8145c00e",
   "metadata": {},
   "outputs": [
    {
     "data": {
      "text/plain": [
       "Veit             True\n",
       "Veit Schiele    False\n",
       "cusy GmbH       False\n",
       "dtype: bool"
      ]
     },
     "execution_count": 23,
     "metadata": {},
     "output_type": "execute_result"
    }
   ],
   "source": [
    "addresses.isna()"
   ]
  },
  {
   "cell_type": "markdown",
   "id": "8eae55f6",
   "metadata": {},
   "source": [
    "Ihr könnt Methoden für Zeichenketten und reguläre Ausdrücke auf jeden Wert anwenden (durch Übergabe eines Lambdas oder einer anderen Funktion), indem ihr `data.map` verwendet, aber dies schlägt bei `NA`-Werten fehl. Um dies zu bewältigen, verfügt `Series` über array-orientierte Methoden für String-Operationen, die `NA`-Werte überspringen und weiterleiten. Auf diese wird über das `str`-Attribut von `Series` zugegriffen; zum Beispiel könnten wir mit `str.contains` prüfen, ob jede E-Mail-Adresse `veit` enthält:"
   ]
  },
  {
   "cell_type": "code",
   "execution_count": 24,
   "id": "755d7852",
   "metadata": {},
   "outputs": [
    {
     "data": {
      "text/plain": [
       "Veit              NaN\n",
       "Veit Schiele     True\n",
       "cusy GmbH       False\n",
       "dtype: object"
      ]
     },
     "execution_count": 24,
     "metadata": {},
     "output_type": "execute_result"
    }
   ],
   "source": [
    "addresses.str.contains('veit')"
   ]
  },
  {
   "cell_type": "markdown",
   "id": "9f2c8a6e",
   "metadata": {},
   "source": [
    "Reguläre Ausdrücke können ebenfalls verwendet werden, zusammen mit Optionen wie `IGNORECASE`:"
   ]
  },
  {
   "cell_type": "code",
   "execution_count": 25,
   "id": "13538428",
   "metadata": {},
   "outputs": [
    {
     "data": {
      "text/plain": [
       "Veit                                   NaN\n",
       "Veit Schiele    [(veit.schiele, cusy, io)]\n",
       "cusy GmbH               [(info, cusy, io)]\n",
       "dtype: object"
      ]
     },
     "execution_count": 25,
     "metadata": {},
     "output_type": "execute_result"
    }
   ],
   "source": [
    "pattern = r'([A-Z0-9._%+-]+)@([A-Z0-9.-]+)\\.([A-Z]{2,4})'\n",
    "\n",
    "addresses.str.findall(pattern, flags=re.IGNORECASE)"
   ]
  },
  {
   "cell_type": "markdown",
   "id": "e3331cd1",
   "metadata": {},
   "source": [
    "Es gibt mehrere Möglichkeiten, ein vektorisiertes Element abzurufen. Entweder verwendet ihr `str.get` oder den Index von `str`:"
   ]
  },
  {
   "cell_type": "code",
   "execution_count": 26,
   "id": "796c8df2",
   "metadata": {},
   "outputs": [
    {
     "data": {
      "text/plain": [
       "Veit                                 NaN\n",
       "Veit Schiele    (veit.schiele, cusy, io)\n",
       "cusy GmbH               (info, cusy, io)\n",
       "dtype: object"
      ]
     },
     "execution_count": 26,
     "metadata": {},
     "output_type": "execute_result"
    }
   ],
   "source": [
    "matches = addresses.str.findall(pattern, flags=re.IGNORECASE).str[0]\n",
    "\n",
    "matches"
   ]
  },
  {
   "cell_type": "code",
   "execution_count": 27,
   "id": "5dc7ca5a",
   "metadata": {},
   "outputs": [
    {
     "data": {
      "text/plain": [
       "Veit             NaN\n",
       "Veit Schiele    cusy\n",
       "cusy GmbH       cusy\n",
       "dtype: object"
      ]
     },
     "execution_count": 27,
     "metadata": {},
     "output_type": "execute_result"
    }
   ],
   "source": [
    "matches.str.get(1)"
   ]
  },
  {
   "cell_type": "markdown",
   "id": "14ea2de4",
   "metadata": {},
   "source": [
    "In ähnlicher Weise könnt ihr mit dieser Syntax auch Zeichenketten zerschneiden:"
   ]
  },
  {
   "cell_type": "code",
   "execution_count": 28,
   "id": "b5f44157",
   "metadata": {},
   "outputs": [
    {
     "data": {
      "text/plain": [
       "Veit              NaN\n",
       "Veit Schiele    veit.\n",
       "cusy GmbH       info@\n",
       "dtype: object"
      ]
     },
     "execution_count": 28,
     "metadata": {},
     "output_type": "execute_result"
    }
   ],
   "source": [
    "addresses.str[:5]"
   ]
  },
  {
   "cell_type": "markdown",
   "id": "cc9d6f18",
   "metadata": {},
   "source": [
    "Die [pandas.Series.str.extract](https://pandas.pydata.org/docs/reference/api/pandas.Series.str.extract.html)-Methode gibt die erfassten Gruppen eines regulären Ausdrucks als DataFrame zurück:"
   ]
  },
  {
   "cell_type": "code",
   "execution_count": 29,
   "id": "4460bdec",
   "metadata": {},
   "outputs": [
    {
     "data": {
      "text/html": [
       "<div>\n",
       "<style scoped>\n",
       "    .dataframe tbody tr th:only-of-type {\n",
       "        vertical-align: middle;\n",
       "    }\n",
       "\n",
       "    .dataframe tbody tr th {\n",
       "        vertical-align: top;\n",
       "    }\n",
       "\n",
       "    .dataframe thead th {\n",
       "        text-align: right;\n",
       "    }\n",
       "</style>\n",
       "<table border=\"1\" class=\"dataframe\">\n",
       "  <thead>\n",
       "    <tr style=\"text-align: right;\">\n",
       "      <th></th>\n",
       "      <th>0</th>\n",
       "      <th>1</th>\n",
       "      <th>2</th>\n",
       "    </tr>\n",
       "  </thead>\n",
       "  <tbody>\n",
       "    <tr>\n",
       "      <th>Veit</th>\n",
       "      <td>NaN</td>\n",
       "      <td>NaN</td>\n",
       "      <td>NaN</td>\n",
       "    </tr>\n",
       "    <tr>\n",
       "      <th>Veit Schiele</th>\n",
       "      <td>veit.schiele</td>\n",
       "      <td>cusy</td>\n",
       "      <td>io</td>\n",
       "    </tr>\n",
       "    <tr>\n",
       "      <th>cusy GmbH</th>\n",
       "      <td>info</td>\n",
       "      <td>cusy</td>\n",
       "      <td>io</td>\n",
       "    </tr>\n",
       "  </tbody>\n",
       "</table>\n",
       "</div>"
      ],
      "text/plain": [
       "                         0     1    2\n",
       "Veit                   NaN   NaN  NaN\n",
       "Veit Schiele  veit.schiele  cusy   io\n",
       "cusy GmbH             info  cusy   io"
      ]
     },
     "execution_count": 29,
     "metadata": {},
     "output_type": "execute_result"
    }
   ],
   "source": [
    "addresses.str.extract(pattern, flags=re.IGNORECASE)"
   ]
  },
  {
   "cell_type": "markdown",
   "id": "74061d8e",
   "metadata": {},
   "source": [
    "Weitere vektorisierten Pandas-String-Methoden:\n",
    "\n",
    "Methode | Beschreibung\n",
    ":------ | :-----------\n",
    "`cat` | verknüpft Zeichenketten elementweise mit optionalem Trennzeichen\n",
    "`contains` | gibt ein boolesches Array zurück, wenn jede Zeichenkette ein Muster/Regex enthält\n",
    "`count` | zählt Vorkommen des Musters\n",
    "`extract` | verwendet einen regulären Ausdruck mit Gruppen, um eine oder mehrere Zeichenketten aus einer Reihe von Zeichenketten zu extrahieren; das Ergebnis ist ein DataFrame mit einer Spalte pro Gruppe\n",
    "`endswith` | Äquivalent zu `x.endswith(pattern)` für jedes Element\n",
    "`startswith` | Äquivalent zu `x.startswith(pattern)` für jedes Element\n",
    "`findall` | berechnet Liste aller Vorkommen von Muster/Regex für jede Zeichenkette\n",
    "`get` | Index in jedem Element (`i`-tes Element abrufen)\n",
    "`isalnum` | Äquivalent zu eingebautem `str.alnum`\n",
    "`isalpha` | Entspricht dem eingebauten `str.isalpha`\n",
    "`isdecimal` | Äquivalent zu eingebautem `str.isdecimal`\n",
    "`isdigit` | Gleichwertig zu eingebautem `str.isdigit`\n",
    "`islower` | Gleichwertig zu eingebautem `str.islower`\n",
    "`isnumeric` | Gleichwertig zu eingebautem `str.isnumeric`\n",
    "`isupper` | Äquivalent zur eingebauten `str.isupper`\n",
    "`join` | verbindet Zeichenketten in jedem Element der Serie mit dem übergebenen Trennzeichen\n",
    "`len` | berechnet die Länge jeder Zeichenkette\n",
    "`lower`, `upper` | konvertiert Groß- und Kleinschreibung; entspricht `x.lower()` oder `x.upper()` für jedes Element\n",
    "`match` | verwendet `re.match` mit dem übergebenen regulären Ausdruck für jedes Element, wobei `True` oder `False` zurückgegeben wird, wenn es übereinstimmt.\n",
    "`extract` | erfasst Gruppenelemente (falls vorhanden) nach Index aus jeder Zeichenkette\n",
    "`pad` | fügt Leerzeichen auf der linken, rechten oder beiden Seiten von Zeichenketten ein\n",
    "`center` | Äquivalent zu `pad(side='both')`\n",
    "`repeat` | Doppelte Werte (z.B. `s.str.repeat(3)` entspricht `x * 3` für jede Zeichenkette)\n",
    "`replace` | ersetzt Muster/Regex durch eine andere Zeichenfolge\n",
    "`slice` | schneidet jede Zeichenkette in der Serie auf\n",
    "`split` | teilt Zeichenketten anhand von Begrenzungszeichen oder regulären Ausdrücken\n",
    "`strip` | schneidet Leerzeichen auf beiden Seiten ab, einschließlich Zeilenumbrüchen\n",
    "`rstrip` | schneidet Leerzeichen auf der rechten Seite ab\n",
    "`lstrip` | schneidet Leerzeichen auf der linken Seite ab"
   ]
  }
 ],
 "metadata": {
  "kernelspec": {
   "display_name": "Python 3.8",
   "language": "python",
   "name": "python-38"
  },
  "language_info": {
   "codemirror_mode": {
    "name": "ipython",
    "version": 3
   },
   "file_extension": ".py",
   "mimetype": "text/x-python",
   "name": "python",
   "nbconvert_exporter": "python",
   "pygments_lexer": "ipython3",
   "version": "3.8.12"
  }
 },
 "nbformat": 4,
 "nbformat_minor": 5
}
