{
 "cells": [
  {
   "cell_type": "markdown",
   "id": "5ce1e7df",
   "metadata": {},
   "source": [
    "# Manipulation von Zeichenketten\n",
    "\n",
    "pandas bietet die Möglichkeit, String- und reguläre Ausdrücke prägnant auf ganze Arrays von Daten anzuwenden."
   ]
  },
  {
   "cell_type": "markdown",
   "id": "3a3e87bd",
   "metadata": {},
   "source": [
    "## String-Objekt-Methoden\n",
    "\n",
    "In vielen String-Munging- und Skripting-Anwendungen sind die eingebauten String-Methoden ausreichend. Zum Beispiel kann eine durch Komma getrennte Zeichenkette mit [split](https://docs.python.org/3/library/stdtypes.html#str.split) in Teile zerlegt werden:"
   ]
  },
  {
   "cell_type": "code",
   "execution_count": 1,
   "id": "1d066faf",
   "metadata": {},
   "outputs": [
    {
     "name": "stdout",
     "output_type": "stream",
     "text": [
      "['\\n      Jupyter tutorial', ' PyViz tutorial', ' Python basics', '\\n      Jupyter tutorial', ' Python basics\\n      ']\n"
     ]
    }
   ],
   "source": [
    "str = \"\"\"\n",
    "      Jupyter tutorial, PyViz tutorial, Python basics,\n",
    "      Jupyter tutorial, Python basics\n",
    "      \"\"\"\n",
    "\n",
    "chunks = str.split(',')\n",
    "\n",
    "print(chunks)"
   ]
  },
  {
   "cell_type": "markdown",
   "id": "bee99e9b",
   "metadata": {},
   "source": [
    "`split` wird oft mit [str.strip](https://docs.python.org/3/library/stdtypes.html#str.strip) kombiniert, um Leerzeichen un Zeilenumbrüche zu entfernen:"
   ]
  },
  {
   "cell_type": "code",
   "execution_count": 2,
   "id": "1c04486d",
   "metadata": {},
   "outputs": [
    {
     "data": {
      "text/plain": [
       "['Jupyter tutorial',\n",
       " 'PyViz tutorial',\n",
       " 'Python basics',\n",
       " 'Jupyter tutorial',\n",
       " 'Python basics']"
      ]
     },
     "execution_count": 2,
     "metadata": {},
     "output_type": "execute_result"
    }
   ],
   "source": [
    "chunks = [x.strip() for x in str.split(',')]\n",
    "\n",
    "chunks"
   ]
  },
  {
   "cell_type": "markdown",
   "id": "8070b6b3",
   "metadata": {},
   "source": [
    "Eine schnelle Methode zur Übergabe einer Liste oder eines Tupels an eine Zeichenkette ist die [str.join](https://docs.python.org/3/library/stdtypes.html#str.join)-Methode:"
   ]
  },
  {
   "cell_type": "code",
   "execution_count": 3,
   "id": "ae8b281b",
   "metadata": {},
   "outputs": [
    {
     "data": {
      "text/plain": [
       "'Jupyter tutorial;PyViz tutorial;Python basics;Jupyter tutorial;Python basics'"
      ]
     },
     "execution_count": 3,
     "metadata": {},
     "output_type": "execute_result"
    }
   ],
   "source": [
    "';'.join(chunks)"
   ]
  },
  {
   "cell_type": "markdown",
   "id": "9dee3bea",
   "metadata": {},
   "source": [
    "Mit der Verwendung des Python-Schlüsselworts `in` kann einfach überprüft werden, ob eine bestimmte Zeichenkette vorhanden ist:"
   ]
  },
  {
   "cell_type": "code",
   "execution_count": 4,
   "id": "2cecc3e7",
   "metadata": {},
   "outputs": [
    {
     "data": {
      "text/plain": [
       "True"
      ]
     },
     "execution_count": 4,
     "metadata": {},
     "output_type": "execute_result"
    }
   ],
   "source": [
    "'Python basics' in chunks"
   ]
  },
  {
   "cell_type": "markdown",
   "id": "b241be49",
   "metadata": {},
   "source": [
    "Mit [str.count](https://docs.python.org/3/library/stdtypes.html#str.count) lässt sich die Anzahl der Zeichenketten ermitteln:"
   ]
  },
  {
   "cell_type": "code",
   "execution_count": 5,
   "id": "0703eea1",
   "metadata": {},
   "outputs": [
    {
     "data": {
      "text/plain": [
       "2"
      ]
     },
     "execution_count": 5,
     "metadata": {},
     "output_type": "execute_result"
    }
   ],
   "source": [
    "str.count('Python basics')"
   ]
  },
  {
   "cell_type": "markdown",
   "id": "53ae0031",
   "metadata": {},
   "source": [
    "Mit der [str.replace](https://docs.python.org/3/library/stdtypes.html#str.replace)-Methode lässt sich das Vorkommen eines Musters durch ein anderes ersetzen. Sie wird häufig auch zum Löschen von Mustern verwendet, indem eine leere Zeichenkette übergeben wird:"
   ]
  },
  {
   "cell_type": "code",
   "execution_count": 6,
   "id": "f91a9a91",
   "metadata": {},
   "outputs": [
    {
     "data": {
      "text/plain": [
       "'\\n      Jupyter tutorial;PyViz tutorial;Python basics,\\n      Jupyter tutorial;Python basics\\n      '"
      ]
     },
     "execution_count": 6,
     "metadata": {},
     "output_type": "execute_result"
    }
   ],
   "source": [
    "str.replace(', ', ';')"
   ]
  },
  {
   "cell_type": "code",
   "execution_count": 7,
   "id": "9ee74961",
   "metadata": {},
   "outputs": [
    {
     "data": {
      "text/plain": [
       "'      Jupyter tutorial, PyViz tutorial, Python basics,      Jupyter tutorial, Python basics      '"
      ]
     },
     "execution_count": 7,
     "metadata": {},
     "output_type": "execute_result"
    }
   ],
   "source": [
    "str.replace('\\n', '')"
   ]
  },
  {
   "cell_type": "code",
   "execution_count": 8,
   "id": "f71d8833",
   "metadata": {},
   "outputs": [
    {
     "name": "stdout",
     "output_type": "stream",
     "text": [
      "['\\n      Jupyter tutorial', ' PyViz tutorial', ' Python basics', '\\n      Jupyter tutorial', ' Python basics\\n      ']\n"
     ]
    }
   ],
   "source": [
    "import re\n",
    "\n",
    "chunks = re.split(',+', str)\n",
    "\n",
    "print(chunks)"
   ]
  },
  {
   "cell_type": "markdown",
   "id": "13dce9c6",
   "metadata": {},
   "source": [
    "In Python eingebaute String-Methoden:\n",
    "\n",
    "Methode | Beschreibung\n",
    ":------ | :-----------\n",
    "`count` | gibt die Anzahl der sich nicht überschneidenden Vorkommen der Zeichenkette zurück.\n",
    "`endswith` | gibt `True` zurück, wenn die Zeichenkette mit dem Suffix endet\n",
    "`startswith` | gibt `True` zurück, wenn die Zeichenkette mit dem Präfix beginnt\n",
    "`join` | verwendet die Zeichenkette als Begrenzer für die Verkettung einer Folge anderer Zeichenketten\n",
    "`index` | gibt die Position des ersten Zeichens in der Zeichenkette zurück, wenn es in der Zeichenkette gefunden wurde; löst einen `ValueError` aus, wenn es nicht gefunden wurde\n",
    "`find` | gibt die Position des ersten Zeichens des ersten Vorkommens der Teilzeichenkette in der Zeichenkette zurück; wie `index`, gibt aber `-1` zurück, wenn nichts gefunden wurde\n",
    "`rfind` | Rückgabe der Position des ersten Zeichens des letzten Vorkommens der Teilzeichenkette in der Zeichenkette; gibt `-1` zurück, wenn nichts gefunden wurde\n",
    "`replace` | ersetzt Vorkommen einer Zeichenkette durch eine andere Zeichenkette\n",
    "`strip`, `rstrip`, `lstrip` | schneiden Leerzeichen ab, einschließlich Zeilenumbrüchen\n",
    "`split ` |zerlegt eine Zeichenkette in eine Liste von Teilzeichenketten unter Verwendung des übergebenen Trennzeichens\n",
    "`lower` | konvertiert alphabetische Zeichen in Kleinbuchstaben\n",
    "`upper` | konvertiert alphabetische Zeichen in Großbuchstaben\n",
    "`casefold` | konvertiert Zeichen in Kleinbuchstaben und konvertiert alle regionsspezifischen variablen Zeichenkombinationen in eine gemeinsame vergleichbare Form\n",
    "`ljust`, `rjust` | linksbündig bzw. rechtsbündig; füllt die gegenüberliegende Seite der Zeichenkette mit Leerzeichen (oder einem anderen Füllzeichen) auf, um eine Zeichenkette mit einer Mindestbreite zu erhalten"
   ]
  }
 ],
 "metadata": {
  "kernelspec": {
   "display_name": "Python 3.8",
   "language": "python",
   "name": "python-38"
  },
  "language_info": {
   "codemirror_mode": {
    "name": "ipython",
    "version": 3
   },
   "file_extension": ".py",
   "mimetype": "text/x-python",
   "name": "python",
   "nbconvert_exporter": "python",
   "pygments_lexer": "ipython3",
   "version": "3.8.12"
  }
 },
 "nbformat": 4,
 "nbformat_minor": 5
}
