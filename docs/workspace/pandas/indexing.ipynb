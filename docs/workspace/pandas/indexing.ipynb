{
 "cells": [
  {
   "cell_type": "markdown",
   "id": "4f45ee46",
   "metadata": {},
   "source": [
    "# Indexierung\n",
    "\n",
    "## Index-Objekte\n",
    "\n",
    "Die Index-Objekte von pandas sind für die Achsenbeschriftungen und andere Metadaten, wie den Achsennamen, verantwortlich. Jedes Array oder jede andere Sequenz von Beschriftungen, die ihr bei der Konstruktion einer Serie oder eines DataFrame verwendet, wird intern in einen Index umgewandelt:"
   ]
  },
  {
   "cell_type": "code",
   "execution_count": 1,
   "id": "a3374ddd",
   "metadata": {},
   "outputs": [],
   "source": [
    "import pandas as pd\n",
    "\n",
    "obj = pd.Series(range(7), index=pd.date_range(\"2022-02-02\", periods=7))"
   ]
  },
  {
   "cell_type": "code",
   "execution_count": 2,
   "id": "a54917f8",
   "metadata": {},
   "outputs": [
    {
     "data": {
      "text/plain": [
       "DatetimeIndex(['2022-02-02', '2022-02-03', '2022-02-04', '2022-02-05',\n",
       "               '2022-02-06', '2022-02-07', '2022-02-08'],\n",
       "              dtype='datetime64[ns]', freq='D')"
      ]
     },
     "execution_count": 2,
     "metadata": {},
     "output_type": "execute_result"
    }
   ],
   "source": [
    "obj.index"
   ]
  },
  {
   "cell_type": "code",
   "execution_count": 3,
   "id": "5fe13067",
   "metadata": {},
   "outputs": [
    {
     "data": {
      "text/plain": [
       "DatetimeIndex(['2022-02-05', '2022-02-06', '2022-02-07', '2022-02-08'], dtype='datetime64[ns]', freq='D')"
      ]
     },
     "execution_count": 3,
     "metadata": {},
     "output_type": "execute_result"
    }
   ],
   "source": [
    "obj.index[3:]"
   ]
  },
  {
   "cell_type": "markdown",
   "id": "7fbcdc7b",
   "metadata": {},
   "source": [
    "Indexobjekte sind unveränderlich (*immutable*) und können daher nicht geändert werden:"
   ]
  },
  {
   "cell_type": "code",
   "execution_count": 4,
   "id": "ae0bbd30",
   "metadata": {},
   "outputs": [
    {
     "ename": "TypeError",
     "evalue": "Index does not support mutable operations",
     "output_type": "error",
     "traceback": [
      "\u001b[0;31m---------------------------------------------------------------------------\u001b[0m",
      "\u001b[0;31mTypeError\u001b[0m                                 Traceback (most recent call last)",
      "\u001b[0;32m/tmp/ipykernel_45872/1385405160.py\u001b[0m in \u001b[0;36m<module>\u001b[0;34m\u001b[0m\n\u001b[0;32m----> 1\u001b[0;31m \u001b[0mobj\u001b[0m\u001b[0;34m.\u001b[0m\u001b[0mindex\u001b[0m\u001b[0;34m[\u001b[0m\u001b[0;36m1\u001b[0m\u001b[0;34m]\u001b[0m \u001b[0;34m=\u001b[0m \u001b[0;34m'2022-02-03'\u001b[0m\u001b[0;34m\u001b[0m\u001b[0;34m\u001b[0m\u001b[0m\n\u001b[0m",
      "\u001b[0;32m~/spack/var/spack/environments/python-38/.spack-env/view/lib/python3.8/site-packages/pandas/core/indexes/base.py\u001b[0m in \u001b[0;36m__setitem__\u001b[0;34m(self, key, value)\u001b[0m\n\u001b[1;32m   4583\u001b[0m     \u001b[0;34m@\u001b[0m\u001b[0mfinal\u001b[0m\u001b[0;34m\u001b[0m\u001b[0;34m\u001b[0m\u001b[0m\n\u001b[1;32m   4584\u001b[0m     \u001b[0;32mdef\u001b[0m \u001b[0m__setitem__\u001b[0m\u001b[0;34m(\u001b[0m\u001b[0mself\u001b[0m\u001b[0;34m,\u001b[0m \u001b[0mkey\u001b[0m\u001b[0;34m,\u001b[0m \u001b[0mvalue\u001b[0m\u001b[0;34m)\u001b[0m\u001b[0;34m:\u001b[0m\u001b[0;34m\u001b[0m\u001b[0;34m\u001b[0m\u001b[0m\n\u001b[0;32m-> 4585\u001b[0;31m         \u001b[0;32mraise\u001b[0m \u001b[0mTypeError\u001b[0m\u001b[0;34m(\u001b[0m\u001b[0;34m\"Index does not support mutable operations\"\u001b[0m\u001b[0;34m)\u001b[0m\u001b[0;34m\u001b[0m\u001b[0;34m\u001b[0m\u001b[0m\n\u001b[0m\u001b[1;32m   4586\u001b[0m \u001b[0;34m\u001b[0m\u001b[0m\n\u001b[1;32m   4587\u001b[0m     \u001b[0;32mdef\u001b[0m \u001b[0m__getitem__\u001b[0m\u001b[0;34m(\u001b[0m\u001b[0mself\u001b[0m\u001b[0;34m,\u001b[0m \u001b[0mkey\u001b[0m\u001b[0;34m)\u001b[0m\u001b[0;34m:\u001b[0m\u001b[0;34m\u001b[0m\u001b[0;34m\u001b[0m\u001b[0m\n",
      "\u001b[0;31mTypeError\u001b[0m: Index does not support mutable operations"
     ]
    }
   ],
   "source": [
    "obj.index[1] = '2022-02-03'"
   ]
  },
  {
   "cell_type": "markdown",
   "id": "2f9014ac",
   "metadata": {},
   "source": [
    "Die Unveränderlichkeit macht die gemeinsame Nutzung von Indexobjekten in Datenstrukturen sicherer:"
   ]
  },
  {
   "cell_type": "code",
   "execution_count": 5,
   "id": "6cef3860",
   "metadata": {},
   "outputs": [
    {
     "data": {
      "text/plain": [
       "Int64Index([0, 1, 2], dtype='int64')"
      ]
     },
     "execution_count": 5,
     "metadata": {},
     "output_type": "execute_result"
    }
   ],
   "source": [
    "import numpy as np\n",
    "\n",
    "labels = pd.Index(np.arange(3))\n",
    "\n",
    "labels"
   ]
  },
  {
   "cell_type": "code",
   "execution_count": 6,
   "id": "110b67fa",
   "metadata": {},
   "outputs": [],
   "source": [
    "obj2 = pd.Series(np.random.randn(3),index=labels)"
   ]
  },
  {
   "cell_type": "code",
   "execution_count": 7,
   "id": "b1309463",
   "metadata": {},
   "outputs": [
    {
     "data": {
      "text/plain": [
       "0    0.010196\n",
       "1    0.118182\n",
       "2   -1.038737\n",
       "dtype: float64"
      ]
     },
     "execution_count": 7,
     "metadata": {},
     "output_type": "execute_result"
    }
   ],
   "source": [
    "obj2"
   ]
  },
  {
   "cell_type": "code",
   "execution_count": 8,
   "id": "308a0b67",
   "metadata": {},
   "outputs": [
    {
     "data": {
      "text/plain": [
       "True"
      ]
     },
     "execution_count": 8,
     "metadata": {},
     "output_type": "execute_result"
    }
   ],
   "source": [
    "obj2.index is labels"
   ]
  },
  {
   "cell_type": "markdown",
   "id": "0ab8314c",
   "metadata": {},
   "source": [
    "Um einem Array ähnlich zu sein verhält sich ein Index auch wie eine Menge mit fester Größe:"
   ]
  },
  {
   "cell_type": "code",
   "execution_count": 9,
   "id": "fb0f8703",
   "metadata": {},
   "outputs": [],
   "source": [
    "data1 = {'Code': ['U+0000', 'U+0001', 'U+0002', 'U+0003', 'U+0004', 'U+0005'],\n",
    "         'Decimal': [0, 1, 2, 3, 4, 5],\n",
    "         'Octal': ['001', '002', '003', '004', '004', '005']}\n",
    "df1 = pd.DataFrame(data1)"
   ]
  },
  {
   "cell_type": "code",
   "execution_count": 10,
   "id": "b46d97ff",
   "metadata": {},
   "outputs": [
    {
     "data": {
      "text/html": [
       "<div>\n",
       "<style scoped>\n",
       "    .dataframe tbody tr th:only-of-type {\n",
       "        vertical-align: middle;\n",
       "    }\n",
       "\n",
       "    .dataframe tbody tr th {\n",
       "        vertical-align: top;\n",
       "    }\n",
       "\n",
       "    .dataframe thead th {\n",
       "        text-align: right;\n",
       "    }\n",
       "</style>\n",
       "<table border=\"1\" class=\"dataframe\">\n",
       "  <thead>\n",
       "    <tr style=\"text-align: right;\">\n",
       "      <th></th>\n",
       "      <th>Code</th>\n",
       "      <th>Decimal</th>\n",
       "      <th>Octal</th>\n",
       "    </tr>\n",
       "  </thead>\n",
       "  <tbody>\n",
       "    <tr>\n",
       "      <th>0</th>\n",
       "      <td>U+0000</td>\n",
       "      <td>0</td>\n",
       "      <td>001</td>\n",
       "    </tr>\n",
       "    <tr>\n",
       "      <th>1</th>\n",
       "      <td>U+0001</td>\n",
       "      <td>1</td>\n",
       "      <td>002</td>\n",
       "    </tr>\n",
       "    <tr>\n",
       "      <th>2</th>\n",
       "      <td>U+0002</td>\n",
       "      <td>2</td>\n",
       "      <td>003</td>\n",
       "    </tr>\n",
       "    <tr>\n",
       "      <th>3</th>\n",
       "      <td>U+0003</td>\n",
       "      <td>3</td>\n",
       "      <td>004</td>\n",
       "    </tr>\n",
       "    <tr>\n",
       "      <th>4</th>\n",
       "      <td>U+0004</td>\n",
       "      <td>4</td>\n",
       "      <td>004</td>\n",
       "    </tr>\n",
       "    <tr>\n",
       "      <th>5</th>\n",
       "      <td>U+0005</td>\n",
       "      <td>5</td>\n",
       "      <td>005</td>\n",
       "    </tr>\n",
       "  </tbody>\n",
       "</table>\n",
       "</div>"
      ],
      "text/plain": [
       "     Code  Decimal Octal\n",
       "0  U+0000        0   001\n",
       "1  U+0001        1   002\n",
       "2  U+0002        2   003\n",
       "3  U+0003        3   004\n",
       "4  U+0004        4   004\n",
       "5  U+0005        5   005"
      ]
     },
     "execution_count": 10,
     "metadata": {},
     "output_type": "execute_result"
    }
   ],
   "source": [
    "df1"
   ]
  },
  {
   "cell_type": "code",
   "execution_count": 11,
   "id": "07c18f12",
   "metadata": {},
   "outputs": [
    {
     "data": {
      "text/plain": [
       "Index(['Code', 'Decimal', 'Octal'], dtype='object')"
      ]
     },
     "execution_count": 11,
     "metadata": {},
     "output_type": "execute_result"
    }
   ],
   "source": [
    "df1.columns"
   ]
  },
  {
   "cell_type": "code",
   "execution_count": 12,
   "id": "68ab356d",
   "metadata": {},
   "outputs": [
    {
     "data": {
      "text/plain": [
       "True"
      ]
     },
     "execution_count": 12,
     "metadata": {},
     "output_type": "execute_result"
    }
   ],
   "source": [
    "'Code' in df1.columns"
   ]
  },
  {
   "cell_type": "code",
   "execution_count": 13,
   "id": "01949699",
   "metadata": {},
   "outputs": [
    {
     "data": {
      "text/plain": [
       "False"
      ]
     },
     "execution_count": 13,
     "metadata": {},
     "output_type": "execute_result"
    }
   ],
   "source": [
    "'Key' in df1.columns"
   ]
  },
  {
   "cell_type": "markdown",
   "id": "f3111d2d",
   "metadata": {},
   "source": [
    "## Achsenindizes mit doppelten Labels\n",
    "\n",
    "Anders als Python-Sets kann ein Pandas-Index doppelte Label enthalten:"
   ]
  },
  {
   "cell_type": "code",
   "execution_count": 14,
   "id": "c5161132",
   "metadata": {
    "scrolled": true
   },
   "outputs": [
    {
     "data": {
      "text/html": [
       "<div>\n",
       "<style scoped>\n",
       "    .dataframe tbody tr th:only-of-type {\n",
       "        vertical-align: middle;\n",
       "    }\n",
       "\n",
       "    .dataframe tbody tr th {\n",
       "        vertical-align: top;\n",
       "    }\n",
       "\n",
       "    .dataframe thead th {\n",
       "        text-align: right;\n",
       "    }\n",
       "</style>\n",
       "<table border=\"1\" class=\"dataframe\">\n",
       "  <thead>\n",
       "    <tr style=\"text-align: right;\">\n",
       "      <th></th>\n",
       "      <th>Code</th>\n",
       "      <th>Decimal</th>\n",
       "      <th>Octal</th>\n",
       "    </tr>\n",
       "  </thead>\n",
       "  <tbody>\n",
       "    <tr>\n",
       "      <th>0</th>\n",
       "      <td>U+0000</td>\n",
       "      <td>0</td>\n",
       "      <td>001</td>\n",
       "    </tr>\n",
       "    <tr>\n",
       "      <th>1</th>\n",
       "      <td>U+0001</td>\n",
       "      <td>1</td>\n",
       "      <td>002</td>\n",
       "    </tr>\n",
       "    <tr>\n",
       "      <th>2</th>\n",
       "      <td>U+0002</td>\n",
       "      <td>2</td>\n",
       "      <td>003</td>\n",
       "    </tr>\n",
       "    <tr>\n",
       "      <th>3</th>\n",
       "      <td>U+0003</td>\n",
       "      <td>3</td>\n",
       "      <td>004</td>\n",
       "    </tr>\n",
       "    <tr>\n",
       "      <th>4</th>\n",
       "      <td>U+0004</td>\n",
       "      <td>4</td>\n",
       "      <td>004</td>\n",
       "    </tr>\n",
       "    <tr>\n",
       "      <th>5</th>\n",
       "      <td>U+0005</td>\n",
       "      <td>5</td>\n",
       "      <td>005</td>\n",
       "    </tr>\n",
       "    <tr>\n",
       "      <th>0</th>\n",
       "      <td>U+0006</td>\n",
       "      <td>6</td>\n",
       "      <td>006</td>\n",
       "    </tr>\n",
       "    <tr>\n",
       "      <th>1</th>\n",
       "      <td>U+0007</td>\n",
       "      <td>7</td>\n",
       "      <td>007</td>\n",
       "    </tr>\n",
       "  </tbody>\n",
       "</table>\n",
       "</div>"
      ],
      "text/plain": [
       "     Code  Decimal Octal\n",
       "0  U+0000        0   001\n",
       "1  U+0001        1   002\n",
       "2  U+0002        2   003\n",
       "3  U+0003        3   004\n",
       "4  U+0004        4   004\n",
       "5  U+0005        5   005\n",
       "0  U+0006        6   006\n",
       "1  U+0007        7   007"
      ]
     },
     "execution_count": 14,
     "metadata": {},
     "output_type": "execute_result"
    }
   ],
   "source": [
    "data2 = {'Code': ['U+0006', 'U+0007'],\n",
    "        'Decimal': [6, 7],\n",
    "        'Octal': ['006', '007']}\n",
    "df2 = pd.DataFrame(data2)\n",
    "df12 = df1.append(df2)\n",
    "\n",
    "df12"
   ]
  },
  {
   "cell_type": "markdown",
   "id": "0572d4f0",
   "metadata": {},
   "source": [
    "Bei Auswahlen mit doppelten Bezeichnungen werden alle Vorkommen der betreffenden Bezeichnung ausgewählt:"
   ]
  },
  {
   "cell_type": "code",
   "execution_count": 15,
   "id": "0573b5c3",
   "metadata": {},
   "outputs": [
    {
     "data": {
      "text/html": [
       "<div>\n",
       "<style scoped>\n",
       "    .dataframe tbody tr th:only-of-type {\n",
       "        vertical-align: middle;\n",
       "    }\n",
       "\n",
       "    .dataframe tbody tr th {\n",
       "        vertical-align: top;\n",
       "    }\n",
       "\n",
       "    .dataframe thead th {\n",
       "        text-align: right;\n",
       "    }\n",
       "</style>\n",
       "<table border=\"1\" class=\"dataframe\">\n",
       "  <thead>\n",
       "    <tr style=\"text-align: right;\">\n",
       "      <th></th>\n",
       "      <th>Code</th>\n",
       "      <th>Decimal</th>\n",
       "      <th>Octal</th>\n",
       "    </tr>\n",
       "  </thead>\n",
       "  <tbody>\n",
       "    <tr>\n",
       "      <th>1</th>\n",
       "      <td>U+0001</td>\n",
       "      <td>1</td>\n",
       "      <td>002</td>\n",
       "    </tr>\n",
       "    <tr>\n",
       "      <th>1</th>\n",
       "      <td>U+0007</td>\n",
       "      <td>7</td>\n",
       "      <td>007</td>\n",
       "    </tr>\n",
       "  </tbody>\n",
       "</table>\n",
       "</div>"
      ],
      "text/plain": [
       "     Code  Decimal Octal\n",
       "1  U+0001        1   002\n",
       "1  U+0007        7   007"
      ]
     },
     "execution_count": 15,
     "metadata": {},
     "output_type": "execute_result"
    }
   ],
   "source": [
    "df12.loc[1]"
   ]
  },
  {
   "cell_type": "code",
   "execution_count": 16,
   "id": "90cc9336",
   "metadata": {},
   "outputs": [
    {
     "data": {
      "text/plain": [
       "Code       U+0002\n",
       "Decimal         2\n",
       "Octal         003\n",
       "Name: 2, dtype: object"
      ]
     },
     "execution_count": 16,
     "metadata": {},
     "output_type": "execute_result"
    }
   ],
   "source": [
    "df12.loc[2]"
   ]
  },
  {
   "cell_type": "markdown",
   "id": "e9855e3d",
   "metadata": {},
   "source": [
    "Die Datenauswahl ist einer der Hauptpunkte, der sich bei Duplikaten anders verhält. Die Indizierung eines Labels mit mehreren Einträgen ergibt eine Serie, während einzelne Einträge einen Einzelwert ergeben. Dies kann euren Code komplizierter machen, da der Ausgabetyp der Indizierung je nachdem, ob ein Label wiederholt wird oder nicht, variieren kann. Zudem setzen viele Pandas-Funktionen, wie z.B. `reindex`, voraus, dass Label eindeutig sind. Anhand der Eigenschaft `is_unique` des Index könnt ihr feststellen, ob seine Label eindeutig sind oder nicht:"
   ]
  },
  {
   "cell_type": "code",
   "execution_count": 17,
   "id": "47062bf6",
   "metadata": {},
   "outputs": [
    {
     "data": {
      "text/plain": [
       "False"
      ]
     },
     "execution_count": 17,
     "metadata": {},
     "output_type": "execute_result"
    }
   ],
   "source": [
    "df12.index.is_unique"
   ]
  },
  {
   "cell_type": "markdown",
   "id": "f656d655",
   "metadata": {},
   "source": [
    "Um doppelte Label zu vermeiden, könnt ihr z.B. `ignore_index=True` verwenden:"
   ]
  },
  {
   "cell_type": "code",
   "execution_count": 18,
   "id": "c21ce0ee",
   "metadata": {},
   "outputs": [
    {
     "data": {
      "text/html": [
       "<div>\n",
       "<style scoped>\n",
       "    .dataframe tbody tr th:only-of-type {\n",
       "        vertical-align: middle;\n",
       "    }\n",
       "\n",
       "    .dataframe tbody tr th {\n",
       "        vertical-align: top;\n",
       "    }\n",
       "\n",
       "    .dataframe thead th {\n",
       "        text-align: right;\n",
       "    }\n",
       "</style>\n",
       "<table border=\"1\" class=\"dataframe\">\n",
       "  <thead>\n",
       "    <tr style=\"text-align: right;\">\n",
       "      <th></th>\n",
       "      <th>Code</th>\n",
       "      <th>Decimal</th>\n",
       "      <th>Octal</th>\n",
       "    </tr>\n",
       "  </thead>\n",
       "  <tbody>\n",
       "    <tr>\n",
       "      <th>0</th>\n",
       "      <td>U+0000</td>\n",
       "      <td>0</td>\n",
       "      <td>001</td>\n",
       "    </tr>\n",
       "    <tr>\n",
       "      <th>1</th>\n",
       "      <td>U+0001</td>\n",
       "      <td>1</td>\n",
       "      <td>002</td>\n",
       "    </tr>\n",
       "    <tr>\n",
       "      <th>2</th>\n",
       "      <td>U+0002</td>\n",
       "      <td>2</td>\n",
       "      <td>003</td>\n",
       "    </tr>\n",
       "    <tr>\n",
       "      <th>3</th>\n",
       "      <td>U+0003</td>\n",
       "      <td>3</td>\n",
       "      <td>004</td>\n",
       "    </tr>\n",
       "    <tr>\n",
       "      <th>4</th>\n",
       "      <td>U+0004</td>\n",
       "      <td>4</td>\n",
       "      <td>004</td>\n",
       "    </tr>\n",
       "    <tr>\n",
       "      <th>5</th>\n",
       "      <td>U+0005</td>\n",
       "      <td>5</td>\n",
       "      <td>005</td>\n",
       "    </tr>\n",
       "    <tr>\n",
       "      <th>6</th>\n",
       "      <td>U+0006</td>\n",
       "      <td>6</td>\n",
       "      <td>006</td>\n",
       "    </tr>\n",
       "    <tr>\n",
       "      <th>7</th>\n",
       "      <td>U+0007</td>\n",
       "      <td>7</td>\n",
       "      <td>007</td>\n",
       "    </tr>\n",
       "  </tbody>\n",
       "</table>\n",
       "</div>"
      ],
      "text/plain": [
       "     Code  Decimal Octal\n",
       "0  U+0000        0   001\n",
       "1  U+0001        1   002\n",
       "2  U+0002        2   003\n",
       "3  U+0003        3   004\n",
       "4  U+0004        4   004\n",
       "5  U+0005        5   005\n",
       "6  U+0006        6   006\n",
       "7  U+0007        7   007"
      ]
     },
     "execution_count": 18,
     "metadata": {},
     "output_type": "execute_result"
    }
   ],
   "source": [
    "df12 = df1.append(df2, ignore_index=True)\n",
    "\n",
    "df12"
   ]
  },
  {
   "cell_type": "markdown",
   "id": "e82888d3",
   "metadata": {},
   "source": [
    "## Einige Indexmethoden und -eigenschaften\n",
    "\n",
    "Jeder Index verfügt über eine Reihe von Methoden und Eigenschaften für die Mengenlogik, die andere allgemeine Fragen zu den darin enthaltenen Daten beantworten. Im folgenden einige nützliche Methoden und Eigenschaften:\n",
    "\n",
    "Methode | Beschreibung\n",
    ":------ | :-----------\n",
    "`append` | verkettet zusätzliche Indexobjekte, wodurch ein neuer Index entsteht\n",
    "`difference` | berechnet die Differenz zweier Mengen als Index\n",
    "`intersection` | berechnet die Schnittmenge\n",
    "`union` | berechnet die Vereinigungsmenge\n",
    "`isin` | berechnet ein boolesches Array, das angibt, ob jeder Wert in der übergebenen Sammlung enthalten ist\n",
    "`delete` | berechnet einen neuen Index, wobei das Element in Index `i` gelöscht wird\n",
    "`drop` | berechnet einen neuen Index durch Löschen der übergebenen Werte\n",
    "`insert` | berechnet neuen Index durch Einfügen des Elements in den Index `i`\n",
    "`is_monotonic` | gibt `True` zurück, wenn jedes Element größer oder gleich dem vorherigen Element ist\n",
    "`is_unique` | gibt `True` zurück, wenn der Index keine doppelten Werte enthält.\n",
    "`unique` | berechnet das Array der eindeutigen Werte im Index"
   ]
  },
  {
   "cell_type": "markdown",
   "id": "ae0c0c0e",
   "metadata": {},
   "source": [
    "## Neuindizierung mit `reindex`"
   ]
  },
  {
   "cell_type": "markdown",
   "id": "04891784",
   "metadata": {},
   "source": [
    "Eine wichtige Methode für Pandas-Objekte ist die Neuindizierung, d.h. die Erstellung eines neuen Objekts mit neu angeordneten Werten, die mit dem neuen Index übereinstimmen. Betrachtet z.B.:"
   ]
  },
  {
   "cell_type": "code",
   "execution_count": 19,
   "id": "d763a1c4",
   "metadata": {},
   "outputs": [],
   "source": [
    "obj = pd.Series(range(7), index=pd.date_range(\"2022-02-02\", periods=7))"
   ]
  },
  {
   "cell_type": "code",
   "execution_count": 20,
   "id": "f83fe377",
   "metadata": {},
   "outputs": [
    {
     "data": {
      "text/plain": [
       "2022-02-02    0\n",
       "2022-02-03    1\n",
       "2022-02-04    2\n",
       "2022-02-05    3\n",
       "2022-02-06    4\n",
       "2022-02-07    5\n",
       "2022-02-08    6\n",
       "Freq: D, dtype: int64"
      ]
     },
     "execution_count": 20,
     "metadata": {},
     "output_type": "execute_result"
    }
   ],
   "source": [
    "obj"
   ]
  },
  {
   "cell_type": "code",
   "execution_count": 21,
   "id": "90cb85f1",
   "metadata": {},
   "outputs": [],
   "source": [
    "new_index = pd.date_range(\"2022-02-03\", periods=7)"
   ]
  },
  {
   "cell_type": "code",
   "execution_count": 22,
   "id": "d6120e4e",
   "metadata": {},
   "outputs": [
    {
     "data": {
      "text/plain": [
       "2022-02-03    1.0\n",
       "2022-02-04    2.0\n",
       "2022-02-05    3.0\n",
       "2022-02-06    4.0\n",
       "2022-02-07    5.0\n",
       "2022-02-08    6.0\n",
       "2022-02-09    NaN\n",
       "Freq: D, dtype: float64"
      ]
     },
     "execution_count": 22,
     "metadata": {},
     "output_type": "execute_result"
    }
   ],
   "source": [
    "obj.reindex(new_index)"
   ]
  },
  {
   "cell_type": "markdown",
   "id": "d9c427cc",
   "metadata": {},
   "source": [
    "`reindex` erstellt einen neuen Index und indiziert den DataFrame neu. Standardmäßig werden Werte im neuen Index, für die es keine entsprechenden Datensätze im DataFrame gibt, zu `NaN`."
   ]
  },
  {
   "cell_type": "markdown",
   "id": "6c0c4fe6",
   "metadata": {},
   "source": [
    "Bei geordneten Daten wie Zeitreihen kann es wünschenswert sein, bei der Neuindizierung Werte zu interpolieren oder zu füllen. Die Option `method` ermöglicht dies mit einer Methode wie `ffill`, die die Werte vorwärts füllt:"
   ]
  },
  {
   "cell_type": "code",
   "execution_count": 23,
   "id": "d82b8a98",
   "metadata": {},
   "outputs": [
    {
     "data": {
      "text/plain": [
       "2022-02-03    1\n",
       "2022-02-04    2\n",
       "2022-02-05    3\n",
       "2022-02-06    4\n",
       "2022-02-07    5\n",
       "2022-02-08    6\n",
       "2022-02-09    6\n",
       "Freq: D, dtype: int64"
      ]
     },
     "execution_count": 23,
     "metadata": {},
     "output_type": "execute_result"
    }
   ],
   "source": [
    "obj.reindex(new_index, method='ffill')"
   ]
  },
  {
   "cell_type": "markdown",
   "id": "fed00121",
   "metadata": {},
   "source": [
    "Bei einem DataFrame kann `reindex` entweder den (Zeilen-)Index, die Spalten oder beides ändern. Wenn nur eine Sequenz übergeben wird, werden die Zeilen im Ergebnis neu indiziert:"
   ]
  },
  {
   "cell_type": "code",
   "execution_count": 24,
   "id": "f22f43de",
   "metadata": {},
   "outputs": [
    {
     "data": {
      "text/html": [
       "<div>\n",
       "<style scoped>\n",
       "    .dataframe tbody tr th:only-of-type {\n",
       "        vertical-align: middle;\n",
       "    }\n",
       "\n",
       "    .dataframe tbody tr th {\n",
       "        vertical-align: top;\n",
       "    }\n",
       "\n",
       "    .dataframe thead th {\n",
       "        text-align: right;\n",
       "    }\n",
       "</style>\n",
       "<table border=\"1\" class=\"dataframe\">\n",
       "  <thead>\n",
       "    <tr style=\"text-align: right;\">\n",
       "      <th></th>\n",
       "      <th>Code</th>\n",
       "      <th>Decimal</th>\n",
       "      <th>Octal</th>\n",
       "    </tr>\n",
       "  </thead>\n",
       "  <tbody>\n",
       "    <tr>\n",
       "      <th>0</th>\n",
       "      <td>U+0000</td>\n",
       "      <td>0.0</td>\n",
       "      <td>001</td>\n",
       "    </tr>\n",
       "    <tr>\n",
       "      <th>1</th>\n",
       "      <td>U+0001</td>\n",
       "      <td>1.0</td>\n",
       "      <td>002</td>\n",
       "    </tr>\n",
       "    <tr>\n",
       "      <th>2</th>\n",
       "      <td>U+0002</td>\n",
       "      <td>2.0</td>\n",
       "      <td>003</td>\n",
       "    </tr>\n",
       "    <tr>\n",
       "      <th>3</th>\n",
       "      <td>U+0003</td>\n",
       "      <td>3.0</td>\n",
       "      <td>004</td>\n",
       "    </tr>\n",
       "    <tr>\n",
       "      <th>4</th>\n",
       "      <td>U+0004</td>\n",
       "      <td>4.0</td>\n",
       "      <td>004</td>\n",
       "    </tr>\n",
       "    <tr>\n",
       "      <th>5</th>\n",
       "      <td>U+0005</td>\n",
       "      <td>5.0</td>\n",
       "      <td>005</td>\n",
       "    </tr>\n",
       "    <tr>\n",
       "      <th>6</th>\n",
       "      <td>NaN</td>\n",
       "      <td>NaN</td>\n",
       "      <td>NaN</td>\n",
       "    </tr>\n",
       "  </tbody>\n",
       "</table>\n",
       "</div>"
      ],
      "text/plain": [
       "     Code  Decimal Octal\n",
       "0  U+0000      0.0   001\n",
       "1  U+0001      1.0   002\n",
       "2  U+0002      2.0   003\n",
       "3  U+0003      3.0   004\n",
       "4  U+0004      4.0   004\n",
       "5  U+0005      5.0   005\n",
       "6     NaN      NaN   NaN"
      ]
     },
     "execution_count": 24,
     "metadata": {},
     "output_type": "execute_result"
    }
   ],
   "source": [
    "df1.reindex(range(7))"
   ]
  },
  {
   "cell_type": "markdown",
   "id": "65df301d",
   "metadata": {},
   "source": [
    "Die Spalten können mit dem Schlüsselwort `columns` neu indiziert werden:"
   ]
  },
  {
   "cell_type": "code",
   "execution_count": 25,
   "id": "d068e4fa",
   "metadata": {},
   "outputs": [
    {
     "data": {
      "text/html": [
       "<div>\n",
       "<style scoped>\n",
       "    .dataframe tbody tr th:only-of-type {\n",
       "        vertical-align: middle;\n",
       "    }\n",
       "\n",
       "    .dataframe tbody tr th {\n",
       "        vertical-align: top;\n",
       "    }\n",
       "\n",
       "    .dataframe thead th {\n",
       "        text-align: right;\n",
       "    }\n",
       "</style>\n",
       "<table border=\"1\" class=\"dataframe\">\n",
       "  <thead>\n",
       "    <tr style=\"text-align: right;\">\n",
       "      <th></th>\n",
       "      <th>Octal</th>\n",
       "      <th>Code</th>\n",
       "      <th>Description</th>\n",
       "    </tr>\n",
       "  </thead>\n",
       "  <tbody>\n",
       "    <tr>\n",
       "      <th>0</th>\n",
       "      <td>001</td>\n",
       "      <td>U+0000</td>\n",
       "      <td>NaN</td>\n",
       "    </tr>\n",
       "    <tr>\n",
       "      <th>1</th>\n",
       "      <td>002</td>\n",
       "      <td>U+0001</td>\n",
       "      <td>NaN</td>\n",
       "    </tr>\n",
       "    <tr>\n",
       "      <th>2</th>\n",
       "      <td>003</td>\n",
       "      <td>U+0002</td>\n",
       "      <td>NaN</td>\n",
       "    </tr>\n",
       "    <tr>\n",
       "      <th>3</th>\n",
       "      <td>004</td>\n",
       "      <td>U+0003</td>\n",
       "      <td>NaN</td>\n",
       "    </tr>\n",
       "    <tr>\n",
       "      <th>4</th>\n",
       "      <td>004</td>\n",
       "      <td>U+0004</td>\n",
       "      <td>NaN</td>\n",
       "    </tr>\n",
       "    <tr>\n",
       "      <th>5</th>\n",
       "      <td>005</td>\n",
       "      <td>U+0005</td>\n",
       "      <td>NaN</td>\n",
       "    </tr>\n",
       "  </tbody>\n",
       "</table>\n",
       "</div>"
      ],
      "text/plain": [
       "  Octal    Code  Description\n",
       "0   001  U+0000          NaN\n",
       "1   002  U+0001          NaN\n",
       "2   003  U+0002          NaN\n",
       "3   004  U+0003          NaN\n",
       "4   004  U+0004          NaN\n",
       "5   005  U+0005          NaN"
      ]
     },
     "execution_count": 25,
     "metadata": {},
     "output_type": "execute_result"
    }
   ],
   "source": [
    "encoding = ['Octal', 'Code', 'Description']\n",
    "\n",
    "df1.reindex(columns=encoding)"
   ]
  },
  {
   "cell_type": "markdown",
   "id": "170ad52f",
   "metadata": {},
   "source": [
    "### Argumente der Funktion `reindex`\n",
    "\n",
    "Argument | Beschreibung\n",
    ":------- | :-----------\n",
    "`labels` | Neue Sequenz, die als Index verwendet werden soll. Kann eine Index-Instanz oder eine andere sequenzähnliche Python-Datenstruktur sein. Ein Index wird genau so verwendet, wie er ist, ohne dass er kopiert wird.\n",
    "`axis` | Die neu zu indizierende Achse, entweder `index` (Zeilen) oder `columns` (Spalten). Die Vorgabe ist `index`. Ihr könnt alternativ `reindex(index=new_labels)` oder `reindex(columns=new_labels)` verwenden.\n",
    "`method` | Interpolationsmethode; `ffill` füllt vorwärts, während `bfill` rückwärts füllt.\n",
    "`fill_value` | Ersatzwert, der zu verwenden ist, wenn fehlende Daten durch Neuindizierung eingefügt werden. Verwendet `fill_value='missing'` (das Standardverhalten), wenn die fehlenden Bezeichnungen im Ergebnis Nullwerte haben sollen.\n",
    "`limit` |  Beim Vorwärts- oder Rückwärtsfüllen die maximale Anzahl der zu füllenden Elemente.\n",
    "`tolerance` | Beim Vorwärts- oder Rückwärtsauffüllen die maximale Größe der Lücke, die bei ungenauen Übereinstimmungen gefüllt werden soll.\n",
    "`level` |  Einfachen Index auf Ebene von `MultiIndex` abgleichen; andernfalls Teilmenge auswählen.\n",
    "`copy` | Wenn `True`, werden die zugrunde liegenden Daten immer kopiert, auch wenn der neue Index dem alten Index entspricht; wenn `False`, werden die Daten nicht kopiert, wenn die Indizes gleichwertig sind."
   ]
  },
  {
   "cell_type": "markdown",
   "id": "139a7059",
   "metadata": {},
   "source": [
    "## Achsenindizes umbenennen\n",
    "\n",
    "Die Achsenbeschriftungen können durch eine Funktion oder ein Mapping umgewandelt werden, um neue, anders beschriftete Objekte zu erzeugen. Ihr könnt auch die Achsen an Ort und Stelle ändern, ohne eine neue Datenstruktur zu erstellen. Hier ist ein einfaches Beispiel:"
   ]
  },
  {
   "cell_type": "code",
   "execution_count": 26,
   "id": "092b02a2",
   "metadata": {},
   "outputs": [
    {
     "data": {
      "text/html": [
       "<div>\n",
       "<style scoped>\n",
       "    .dataframe tbody tr th:only-of-type {\n",
       "        vertical-align: middle;\n",
       "    }\n",
       "\n",
       "    .dataframe tbody tr th {\n",
       "        vertical-align: top;\n",
       "    }\n",
       "\n",
       "    .dataframe thead th {\n",
       "        text-align: right;\n",
       "    }\n",
       "</style>\n",
       "<table border=\"1\" class=\"dataframe\">\n",
       "  <thead>\n",
       "    <tr style=\"text-align: right;\">\n",
       "      <th></th>\n",
       "      <th>1</th>\n",
       "      <th>2</th>\n",
       "      <th>3</th>\n",
       "      <th>4</th>\n",
       "    </tr>\n",
       "  </thead>\n",
       "  <tbody>\n",
       "    <tr>\n",
       "      <th>Deutsch</th>\n",
       "      <td>0</td>\n",
       "      <td>1</td>\n",
       "      <td>2</td>\n",
       "      <td>3</td>\n",
       "    </tr>\n",
       "    <tr>\n",
       "      <th>English</th>\n",
       "      <td>4</td>\n",
       "      <td>5</td>\n",
       "      <td>6</td>\n",
       "      <td>7</td>\n",
       "    </tr>\n",
       "    <tr>\n",
       "      <th>Français</th>\n",
       "      <td>8</td>\n",
       "      <td>9</td>\n",
       "      <td>10</td>\n",
       "      <td>11</td>\n",
       "    </tr>\n",
       "  </tbody>\n",
       "</table>\n",
       "</div>"
      ],
      "text/plain": [
       "          1  2   3   4\n",
       "Deutsch   0  1   2   3\n",
       "English   4  5   6   7\n",
       "Français  8  9  10  11"
      ]
     },
     "execution_count": 26,
     "metadata": {},
     "output_type": "execute_result"
    }
   ],
   "source": [
    "df3 = pd.DataFrame(np.arange(12).reshape((3, 4)),\n",
    "                   index=['Deutsch', 'English', 'Français'],\n",
    "                   columns=[1,2,3,4])\n",
    "\n",
    "df3"
   ]
  },
  {
   "cell_type": "markdown",
   "id": "4fab6848",
   "metadata": {},
   "source": [
    "### Achsenindizes umbenennen mit `map`"
   ]
  },
  {
   "cell_type": "markdown",
   "id": "0a56efe9",
   "metadata": {},
   "source": [
    "Wie `Series` haben auch die Achsenindizes eine `map`-Methode:"
   ]
  },
  {
   "cell_type": "code",
   "execution_count": 27,
   "id": "6ef89aa6",
   "metadata": {},
   "outputs": [
    {
     "data": {
      "text/plain": [
       "Index(['DE', 'EN', 'FR'], dtype='object')"
      ]
     },
     "execution_count": 27,
     "metadata": {},
     "output_type": "execute_result"
    }
   ],
   "source": [
    "transform = lambda x: x[:2].upper()\n",
    "\n",
    "df3.index.map(transform)"
   ]
  },
  {
   "cell_type": "markdown",
   "id": "4ea516cd",
   "metadata": {},
   "source": [
    "Ihr könnt den Index zuweisen und den DataFrame an Ort und Stelle ändern:"
   ]
  },
  {
   "cell_type": "code",
   "execution_count": 28,
   "id": "88cb7f8f",
   "metadata": {},
   "outputs": [
    {
     "data": {
      "text/html": [
       "<div>\n",
       "<style scoped>\n",
       "    .dataframe tbody tr th:only-of-type {\n",
       "        vertical-align: middle;\n",
       "    }\n",
       "\n",
       "    .dataframe tbody tr th {\n",
       "        vertical-align: top;\n",
       "    }\n",
       "\n",
       "    .dataframe thead th {\n",
       "        text-align: right;\n",
       "    }\n",
       "</style>\n",
       "<table border=\"1\" class=\"dataframe\">\n",
       "  <thead>\n",
       "    <tr style=\"text-align: right;\">\n",
       "      <th></th>\n",
       "      <th>1</th>\n",
       "      <th>2</th>\n",
       "      <th>3</th>\n",
       "      <th>4</th>\n",
       "    </tr>\n",
       "  </thead>\n",
       "  <tbody>\n",
       "    <tr>\n",
       "      <th>DE</th>\n",
       "      <td>0</td>\n",
       "      <td>1</td>\n",
       "      <td>2</td>\n",
       "      <td>3</td>\n",
       "    </tr>\n",
       "    <tr>\n",
       "      <th>EN</th>\n",
       "      <td>4</td>\n",
       "      <td>5</td>\n",
       "      <td>6</td>\n",
       "      <td>7</td>\n",
       "    </tr>\n",
       "    <tr>\n",
       "      <th>FR</th>\n",
       "      <td>8</td>\n",
       "      <td>9</td>\n",
       "      <td>10</td>\n",
       "      <td>11</td>\n",
       "    </tr>\n",
       "  </tbody>\n",
       "</table>\n",
       "</div>"
      ],
      "text/plain": [
       "    1  2   3   4\n",
       "DE  0  1   2   3\n",
       "EN  4  5   6   7\n",
       "FR  8  9  10  11"
      ]
     },
     "execution_count": 28,
     "metadata": {},
     "output_type": "execute_result"
    }
   ],
   "source": [
    "df3.index = df3.index.map(transform)\n",
    "\n",
    "df3"
   ]
  },
  {
   "cell_type": "markdown",
   "id": "01537fef",
   "metadata": {},
   "source": [
    "### Achsenindizes umbenennen mit `rename`"
   ]
  },
  {
   "cell_type": "markdown",
   "id": "52ff53e8",
   "metadata": {},
   "source": [
    "Wenn ihr eine umgewandelte Version eures Datensatzes erstellen möchtet ohne das Original zu verändern, könnt ihr `rename` verwenden:"
   ]
  },
  {
   "cell_type": "code",
   "execution_count": 29,
   "id": "b287a340",
   "metadata": {},
   "outputs": [
    {
     "data": {
      "text/html": [
       "<div>\n",
       "<style scoped>\n",
       "    .dataframe tbody tr th:only-of-type {\n",
       "        vertical-align: middle;\n",
       "    }\n",
       "\n",
       "    .dataframe tbody tr th {\n",
       "        vertical-align: top;\n",
       "    }\n",
       "\n",
       "    .dataframe thead th {\n",
       "        text-align: right;\n",
       "    }\n",
       "</style>\n",
       "<table border=\"1\" class=\"dataframe\">\n",
       "  <thead>\n",
       "    <tr style=\"text-align: right;\">\n",
       "      <th></th>\n",
       "      <th>1</th>\n",
       "      <th>2</th>\n",
       "      <th>3</th>\n",
       "      <th>4</th>\n",
       "    </tr>\n",
       "  </thead>\n",
       "  <tbody>\n",
       "    <tr>\n",
       "      <th>de</th>\n",
       "      <td>0</td>\n",
       "      <td>1</td>\n",
       "      <td>2</td>\n",
       "      <td>3</td>\n",
       "    </tr>\n",
       "    <tr>\n",
       "      <th>en</th>\n",
       "      <td>4</td>\n",
       "      <td>5</td>\n",
       "      <td>6</td>\n",
       "      <td>7</td>\n",
       "    </tr>\n",
       "    <tr>\n",
       "      <th>fr</th>\n",
       "      <td>8</td>\n",
       "      <td>9</td>\n",
       "      <td>10</td>\n",
       "      <td>11</td>\n",
       "    </tr>\n",
       "  </tbody>\n",
       "</table>\n",
       "</div>"
      ],
      "text/plain": [
       "    1  2   3   4\n",
       "de  0  1   2   3\n",
       "en  4  5   6   7\n",
       "fr  8  9  10  11"
      ]
     },
     "execution_count": 29,
     "metadata": {},
     "output_type": "execute_result"
    }
   ],
   "source": [
    "df3.rename(index=str.lower)"
   ]
  },
  {
   "cell_type": "markdown",
   "id": "2d859fbb",
   "metadata": {},
   "source": [
    "Insbesondere kann `rename` in Verbindung mit einem `dict`-ähnlichen Objekt verwendet werden, das neue Werte für eine Teilmenge der Achsenbeschriftungen liefert:"
   ]
  },
  {
   "cell_type": "code",
   "execution_count": 30,
   "id": "ef608ee0",
   "metadata": {},
   "outputs": [
    {
     "data": {
      "text/html": [
       "<div>\n",
       "<style scoped>\n",
       "    .dataframe tbody tr th:only-of-type {\n",
       "        vertical-align: middle;\n",
       "    }\n",
       "\n",
       "    .dataframe tbody tr th {\n",
       "        vertical-align: top;\n",
       "    }\n",
       "\n",
       "    .dataframe thead th {\n",
       "        text-align: right;\n",
       "    }\n",
       "</style>\n",
       "<table border=\"1\" class=\"dataframe\">\n",
       "  <thead>\n",
       "    <tr style=\"text-align: right;\">\n",
       "      <th></th>\n",
       "      <th>0</th>\n",
       "      <th>1</th>\n",
       "      <th>2</th>\n",
       "      <th>3</th>\n",
       "    </tr>\n",
       "  </thead>\n",
       "  <tbody>\n",
       "    <tr>\n",
       "      <th>BE</th>\n",
       "      <td>0</td>\n",
       "      <td>1</td>\n",
       "      <td>2</td>\n",
       "      <td>3</td>\n",
       "    </tr>\n",
       "    <tr>\n",
       "      <th>DE</th>\n",
       "      <td>4</td>\n",
       "      <td>5</td>\n",
       "      <td>6</td>\n",
       "      <td>7</td>\n",
       "    </tr>\n",
       "    <tr>\n",
       "      <th>EN</th>\n",
       "      <td>8</td>\n",
       "      <td>9</td>\n",
       "      <td>10</td>\n",
       "      <td>11</td>\n",
       "    </tr>\n",
       "  </tbody>\n",
       "</table>\n",
       "</div>"
      ],
      "text/plain": [
       "    0  1   2   3\n",
       "BE  0  1   2   3\n",
       "DE  4  5   6   7\n",
       "EN  8  9  10  11"
      ]
     },
     "execution_count": 30,
     "metadata": {},
     "output_type": "execute_result"
    }
   ],
   "source": [
    "df3.rename(index={'DE': 'BE', 'EN': 'DE', 'FR': 'EN'},\n",
    "           columns={1: 0, 2: 1, 3: 2,  4: 3})"
   ]
  },
  {
   "cell_type": "markdown",
   "id": "359c3066",
   "metadata": {},
   "source": [
    "`rename` erspart euch das manuelle Kopieren des DataFrame und die Zuweisung seiner Index- und Spaltenattribute. Wenn ihr einen Datensatz an Ort und Stelle ändern möchtet, übergebt zusätzlich noch `inplace=True`:"
   ]
  },
  {
   "cell_type": "code",
   "execution_count": 31,
   "id": "d7558a91",
   "metadata": {},
   "outputs": [
    {
     "data": {
      "text/html": [
       "<div>\n",
       "<style scoped>\n",
       "    .dataframe tbody tr th:only-of-type {\n",
       "        vertical-align: middle;\n",
       "    }\n",
       "\n",
       "    .dataframe tbody tr th {\n",
       "        vertical-align: top;\n",
       "    }\n",
       "\n",
       "    .dataframe thead th {\n",
       "        text-align: right;\n",
       "    }\n",
       "</style>\n",
       "<table border=\"1\" class=\"dataframe\">\n",
       "  <thead>\n",
       "    <tr style=\"text-align: right;\">\n",
       "      <th></th>\n",
       "      <th>0</th>\n",
       "      <th>1</th>\n",
       "      <th>2</th>\n",
       "      <th>3</th>\n",
       "    </tr>\n",
       "  </thead>\n",
       "  <tbody>\n",
       "    <tr>\n",
       "      <th>BE</th>\n",
       "      <td>0</td>\n",
       "      <td>1</td>\n",
       "      <td>2</td>\n",
       "      <td>3</td>\n",
       "    </tr>\n",
       "    <tr>\n",
       "      <th>DE</th>\n",
       "      <td>4</td>\n",
       "      <td>5</td>\n",
       "      <td>6</td>\n",
       "      <td>7</td>\n",
       "    </tr>\n",
       "    <tr>\n",
       "      <th>EN</th>\n",
       "      <td>8</td>\n",
       "      <td>9</td>\n",
       "      <td>10</td>\n",
       "      <td>11</td>\n",
       "    </tr>\n",
       "  </tbody>\n",
       "</table>\n",
       "</div>"
      ],
      "text/plain": [
       "    0  1   2   3\n",
       "BE  0  1   2   3\n",
       "DE  4  5   6   7\n",
       "EN  8  9  10  11"
      ]
     },
     "execution_count": 31,
     "metadata": {},
     "output_type": "execute_result"
    }
   ],
   "source": [
    "df3.rename(index={'DE': 'BE', 'EN': 'DE', 'FR': 'EN'},\n",
    "           columns={1: 0, 2: 1, 3: 2,  4: 3},\n",
    "           inplace=True)\n",
    "\n",
    "df3"
   ]
  },
  {
   "cell_type": "markdown",
   "id": "32e3c948",
   "metadata": {},
   "source": [
    "## Hierarchische Indizierung\n",
    "\n",
    "Die hierarchische Indizierung ist eine wichtige Funktion von pandas, die euch ermöglicht, mehrere Indexebenen auf einer Achse zu haben. Dies bietet euch die Möglichkeit, mit höherdimensionalen Daten in einer niedrigdimensionalen Form zu arbeiten.\n",
    "\n",
    "Beginnen wir mit einem einfachen Beispiel: Erstellen wir eine Reihe Liste von Listen als Index:"
   ]
  },
  {
   "cell_type": "code",
   "execution_count": 32,
   "id": "b1eee2b0",
   "metadata": {},
   "outputs": [
    {
     "data": {
      "text/plain": [
       "Jupyter Tutorial  de    83080\n",
       "                  en    20336\n",
       "PyViz Tutorial    de    11376\n",
       "Python Basics     de     1228\n",
       "                  en      468\n",
       "dtype: int64"
      ]
     },
     "execution_count": 32,
     "metadata": {},
     "output_type": "execute_result"
    }
   ],
   "source": [
    "hits = pd.Series([83080,20336,11376,1228,468],\n",
    "                 index=[['Jupyter Tutorial',\n",
    "                         'Jupyter Tutorial',\n",
    "                         'PyViz Tutorial',\n",
    "                         'Python Basics',\n",
    "                         'Python Basics'],\n",
    "                        ['de', 'en', 'de', 'de', 'en']])\n",
    "\n",
    "hits"
   ]
  },
  {
   "cell_type": "markdown",
   "id": "3f6fb556",
   "metadata": {},
   "source": [
    "Was ihr seht, ist eine graphische Ansicht einer Serie mit einem [pandas.MultiIndex](https://pandas.pydata.org/docs/reference/api/pandas.MultiIndex.html). Die „Lücken“ in der Indexanzeige bedeuten, dass die Beschriftung darüber verwendet werden soll."
   ]
  },
  {
   "cell_type": "code",
   "execution_count": 33,
   "id": "34a5a9f7",
   "metadata": {},
   "outputs": [
    {
     "data": {
      "text/plain": [
       "MultiIndex([('Jupyter Tutorial', 'de'),\n",
       "            ('Jupyter Tutorial', 'en'),\n",
       "            (  'PyViz Tutorial', 'de'),\n",
       "            (   'Python Basics', 'de'),\n",
       "            (   'Python Basics', 'en')],\n",
       "           )"
      ]
     },
     "execution_count": 33,
     "metadata": {},
     "output_type": "execute_result"
    }
   ],
   "source": [
    "hits.index"
   ]
  },
  {
   "cell_type": "markdown",
   "id": "b6f9ae53",
   "metadata": {},
   "source": [
    "Bei einem hierarchisch indizierten Objekt ist eine so genannte partielle Indizierung möglich, mit der ihr Teilmengen der Daten gezielt auswählen könnt:"
   ]
  },
  {
   "cell_type": "code",
   "execution_count": 34,
   "id": "5788c155",
   "metadata": {},
   "outputs": [
    {
     "data": {
      "text/plain": [
       "de    83080\n",
       "en    20336\n",
       "dtype: int64"
      ]
     },
     "execution_count": 34,
     "metadata": {},
     "output_type": "execute_result"
    }
   ],
   "source": [
    "hits['Jupyter Tutorial']"
   ]
  },
  {
   "cell_type": "code",
   "execution_count": 35,
   "id": "bf8a333a",
   "metadata": {},
   "outputs": [
    {
     "data": {
      "text/plain": [
       "Jupyter Tutorial  de    83080\n",
       "                  en    20336\n",
       "PyViz Tutorial    de    11376\n",
       "Python Basics     de     1228\n",
       "                  en      468\n",
       "dtype: int64"
      ]
     },
     "execution_count": 35,
     "metadata": {},
     "output_type": "execute_result"
    }
   ],
   "source": [
    "hits['Jupyter Tutorial':'Python Basics']"
   ]
  },
  {
   "cell_type": "code",
   "execution_count": 36,
   "id": "58d8fe60",
   "metadata": {},
   "outputs": [
    {
     "data": {
      "text/plain": [
       "Jupyter Tutorial  de    83080\n",
       "                  en    20336\n",
       "Python Basics     de     1228\n",
       "                  en      468\n",
       "dtype: int64"
      ]
     },
     "execution_count": 36,
     "metadata": {},
     "output_type": "execute_result"
    }
   ],
   "source": [
    "hits.loc[['Jupyter Tutorial', 'Python Basics']]"
   ]
  },
  {
   "cell_type": "markdown",
   "id": "3b0bef0a",
   "metadata": {},
   "source": [
    "Die Auswahl ist sogar von einer „inneren“ Ebene aus möglich. Im folgenden wähle ich alle Werte mit dem Wert `1` aus der zweiten Indexebene aus:"
   ]
  },
  {
   "cell_type": "code",
   "execution_count": 37,
   "id": "5622605c",
   "metadata": {},
   "outputs": [
    {
     "data": {
      "text/plain": [
       "Jupyter Tutorial    83080\n",
       "PyViz Tutorial      11376\n",
       "Python Basics        1228\n",
       "dtype: int64"
      ]
     },
     "execution_count": 37,
     "metadata": {},
     "output_type": "execute_result"
    }
   ],
   "source": [
    "hits.loc[:, 'de']"
   ]
  },
  {
   "cell_type": "markdown",
   "id": "3c4e3648",
   "metadata": {},
   "source": [
    "### `stack` und `unstack`"
   ]
  },
  {
   "cell_type": "markdown",
   "id": "e39fed36",
   "metadata": {},
   "source": [
    "Die hierarchische Indizierung spielt eine wichtige Rolle bei der Umformung von Daten und gruppenbasierten Operationen wie der Bildung einer [Pivot-Tabelle](https://de.wikipedia.org/wiki/Pivot-Tabelle). Zum Beispiel könnt ihr diese Daten mit der [pandas.Series.unstack](https://pandas.pydata.org/pandas-docs/stable/reference/api/pandas.Series.unstack.html)-Methode in einen DataFrame umordnen:"
   ]
  },
  {
   "cell_type": "code",
   "execution_count": 38,
   "id": "3e313590",
   "metadata": {},
   "outputs": [
    {
     "data": {
      "text/html": [
       "<div>\n",
       "<style scoped>\n",
       "    .dataframe tbody tr th:only-of-type {\n",
       "        vertical-align: middle;\n",
       "    }\n",
       "\n",
       "    .dataframe tbody tr th {\n",
       "        vertical-align: top;\n",
       "    }\n",
       "\n",
       "    .dataframe thead th {\n",
       "        text-align: right;\n",
       "    }\n",
       "</style>\n",
       "<table border=\"1\" class=\"dataframe\">\n",
       "  <thead>\n",
       "    <tr style=\"text-align: right;\">\n",
       "      <th></th>\n",
       "      <th>de</th>\n",
       "      <th>en</th>\n",
       "    </tr>\n",
       "  </thead>\n",
       "  <tbody>\n",
       "    <tr>\n",
       "      <th>Jupyter Tutorial</th>\n",
       "      <td>83080.0</td>\n",
       "      <td>20336.0</td>\n",
       "    </tr>\n",
       "    <tr>\n",
       "      <th>PyViz Tutorial</th>\n",
       "      <td>11376.0</td>\n",
       "      <td>NaN</td>\n",
       "    </tr>\n",
       "    <tr>\n",
       "      <th>Python Basics</th>\n",
       "      <td>1228.0</td>\n",
       "      <td>468.0</td>\n",
       "    </tr>\n",
       "  </tbody>\n",
       "</table>\n",
       "</div>"
      ],
      "text/plain": [
       "                       de       en\n",
       "Jupyter Tutorial  83080.0  20336.0\n",
       "PyViz Tutorial    11376.0      NaN\n",
       "Python Basics      1228.0    468.0"
      ]
     },
     "execution_count": 38,
     "metadata": {},
     "output_type": "execute_result"
    }
   ],
   "source": [
    "hits.unstack()"
   ]
  },
  {
   "cell_type": "markdown",
   "id": "a6f861ad",
   "metadata": {},
   "source": [
    "Die umgekehrte Operation von unstack ist [stack](https://pandas.pydata.org/pandas-docs/stable/reference/api/pandas.DataFrame.stack.html):"
   ]
  },
  {
   "cell_type": "code",
   "execution_count": 39,
   "id": "970b544e",
   "metadata": {},
   "outputs": [
    {
     "data": {
      "text/plain": [
       "Jupyter Tutorial  de    83080.0\n",
       "                  en    20336.0\n",
       "PyViz Tutorial    de    11376.0\n",
       "Python Basics     de     1228.0\n",
       "                  en      468.0\n",
       "dtype: float64"
      ]
     },
     "execution_count": 39,
     "metadata": {},
     "output_type": "execute_result"
    }
   ],
   "source": [
    "hits.unstack().stack()"
   ]
  },
  {
   "cell_type": "markdown",
   "id": "d05625c8",
   "metadata": {},
   "source": [
    "Bei einem DataFrame kann jede Achse einen hierarchischen Index haben:"
   ]
  },
  {
   "cell_type": "code",
   "execution_count": 40,
   "id": "2fdc9bf4",
   "metadata": {},
   "outputs": [
    {
     "data": {
      "text/html": [
       "<div>\n",
       "<style scoped>\n",
       "    .dataframe tbody tr th:only-of-type {\n",
       "        vertical-align: middle;\n",
       "    }\n",
       "\n",
       "    .dataframe tbody tr th {\n",
       "        vertical-align: top;\n",
       "    }\n",
       "\n",
       "    .dataframe thead tr th {\n",
       "        text-align: left;\n",
       "    }\n",
       "</style>\n",
       "<table border=\"1\" class=\"dataframe\">\n",
       "  <thead>\n",
       "    <tr>\n",
       "      <th></th>\n",
       "      <th></th>\n",
       "      <th colspan=\"2\" halign=\"left\">12/2021</th>\n",
       "      <th colspan=\"2\" halign=\"left\">01/2022</th>\n",
       "      <th colspan=\"2\" halign=\"left\">02/2022</th>\n",
       "    </tr>\n",
       "    <tr>\n",
       "      <th></th>\n",
       "      <th></th>\n",
       "      <th>latest</th>\n",
       "      <th>stable</th>\n",
       "      <th>latest</th>\n",
       "      <th>stable</th>\n",
       "      <th>latest</th>\n",
       "      <th>stable</th>\n",
       "    </tr>\n",
       "  </thead>\n",
       "  <tbody>\n",
       "    <tr>\n",
       "      <th rowspan=\"2\" valign=\"top\">Jupyter Tutorial</th>\n",
       "      <th>de</th>\n",
       "      <td>19651</td>\n",
       "      <td>0</td>\n",
       "      <td>30134</td>\n",
       "      <td>0</td>\n",
       "      <td>33295</td>\n",
       "      <td>0</td>\n",
       "    </tr>\n",
       "    <tr>\n",
       "      <th>en</th>\n",
       "      <td>4722</td>\n",
       "      <td>1825</td>\n",
       "      <td>3497</td>\n",
       "      <td>2576</td>\n",
       "      <td>4009</td>\n",
       "      <td>3707</td>\n",
       "    </tr>\n",
       "    <tr>\n",
       "      <th>PyViz Tutorial</th>\n",
       "      <th>de</th>\n",
       "      <td>2573</td>\n",
       "      <td>0</td>\n",
       "      <td>4873</td>\n",
       "      <td>0</td>\n",
       "      <td>3930</td>\n",
       "      <td>0</td>\n",
       "    </tr>\n",
       "    <tr>\n",
       "      <th rowspan=\"2\" valign=\"top\">Python Basics</th>\n",
       "      <th>de</th>\n",
       "      <td>525</td>\n",
       "      <td>0</td>\n",
       "      <td>427</td>\n",
       "      <td>0</td>\n",
       "      <td>276</td>\n",
       "      <td>0</td>\n",
       "    </tr>\n",
       "    <tr>\n",
       "      <th>en</th>\n",
       "      <td>157</td>\n",
       "      <td>0</td>\n",
       "      <td>85</td>\n",
       "      <td>0</td>\n",
       "      <td>226</td>\n",
       "      <td>0</td>\n",
       "    </tr>\n",
       "  </tbody>\n",
       "</table>\n",
       "</div>"
      ],
      "text/plain": [
       "                    12/2021        01/2022        02/2022       \n",
       "                     latest stable  latest stable  latest stable\n",
       "Jupyter Tutorial de   19651      0   30134      0   33295      0\n",
       "                 en    4722   1825    3497   2576    4009   3707\n",
       "PyViz Tutorial   de    2573      0    4873      0    3930      0\n",
       "Python Basics    de     525      0     427      0     276      0\n",
       "                 en     157      0      85      0     226      0"
      ]
     },
     "execution_count": 40,
     "metadata": {},
     "output_type": "execute_result"
    }
   ],
   "source": [
    "version_hits = [[19651,0,30134,0,33295,0],\n",
    "                [4722,1825,3497,2576,4009,3707],\n",
    "                [2573,0,4873,0,3930,0],\n",
    "                [525,0,427,0,276,0],\n",
    "                [157,0,85,0,226,0]]\n",
    "\n",
    "df = pd.DataFrame(version_hits,\n",
    "                  index=[['Jupyter Tutorial',\n",
    "                          'Jupyter Tutorial',\n",
    "                          'PyViz Tutorial',\n",
    "                          'Python Basics',\n",
    "                          'Python Basics'],\n",
    "                         ['de', 'en', 'de', 'de', 'en']],\n",
    "                  columns=[['12/2021', '12/2021',\n",
    "                            '01/2022', '01/2022', \n",
    "                            '02/2022', '02/2022'],\n",
    "                           ['latest', 'stable',\n",
    "                            'latest', 'stable',\n",
    "                            'latest', 'stable']])\n",
    "\n",
    "df"
   ]
  },
  {
   "cell_type": "markdown",
   "id": "789990de",
   "metadata": {},
   "source": [
    "Die Hierarchieebenen können Namen haben (als Zeichenketten oder beliebige Python-Objekte). Wenn dies der Fall ist, werden diese in der Konsolenausgabe angezeigt:"
   ]
  },
  {
   "cell_type": "code",
   "execution_count": 41,
   "id": "b34321ee",
   "metadata": {},
   "outputs": [
    {
     "data": {
      "text/html": [
       "<div>\n",
       "<style scoped>\n",
       "    .dataframe tbody tr th:only-of-type {\n",
       "        vertical-align: middle;\n",
       "    }\n",
       "\n",
       "    .dataframe tbody tr th {\n",
       "        vertical-align: top;\n",
       "    }\n",
       "\n",
       "    .dataframe thead tr th {\n",
       "        text-align: left;\n",
       "    }\n",
       "\n",
       "    .dataframe thead tr:last-of-type th {\n",
       "        text-align: right;\n",
       "    }\n",
       "</style>\n",
       "<table border=\"1\" class=\"dataframe\">\n",
       "  <thead>\n",
       "    <tr>\n",
       "      <th></th>\n",
       "      <th>Month</th>\n",
       "      <th colspan=\"2\" halign=\"left\">12/2021</th>\n",
       "      <th colspan=\"2\" halign=\"left\">01/2022</th>\n",
       "      <th colspan=\"2\" halign=\"left\">02/2022</th>\n",
       "    </tr>\n",
       "    <tr>\n",
       "      <th></th>\n",
       "      <th>Version</th>\n",
       "      <th>latest</th>\n",
       "      <th>stable</th>\n",
       "      <th>latest</th>\n",
       "      <th>stable</th>\n",
       "      <th>latest</th>\n",
       "      <th>stable</th>\n",
       "    </tr>\n",
       "    <tr>\n",
       "      <th>Title</th>\n",
       "      <th>Language</th>\n",
       "      <th></th>\n",
       "      <th></th>\n",
       "      <th></th>\n",
       "      <th></th>\n",
       "      <th></th>\n",
       "      <th></th>\n",
       "    </tr>\n",
       "  </thead>\n",
       "  <tbody>\n",
       "    <tr>\n",
       "      <th rowspan=\"2\" valign=\"top\">Jupyter Tutorial</th>\n",
       "      <th>de</th>\n",
       "      <td>19651</td>\n",
       "      <td>0</td>\n",
       "      <td>30134</td>\n",
       "      <td>0</td>\n",
       "      <td>33295</td>\n",
       "      <td>0</td>\n",
       "    </tr>\n",
       "    <tr>\n",
       "      <th>en</th>\n",
       "      <td>4722</td>\n",
       "      <td>1825</td>\n",
       "      <td>3497</td>\n",
       "      <td>2576</td>\n",
       "      <td>4009</td>\n",
       "      <td>3707</td>\n",
       "    </tr>\n",
       "    <tr>\n",
       "      <th>PyViz Tutorial</th>\n",
       "      <th>de</th>\n",
       "      <td>2573</td>\n",
       "      <td>0</td>\n",
       "      <td>4873</td>\n",
       "      <td>0</td>\n",
       "      <td>3930</td>\n",
       "      <td>0</td>\n",
       "    </tr>\n",
       "    <tr>\n",
       "      <th rowspan=\"2\" valign=\"top\">Python Basics</th>\n",
       "      <th>de</th>\n",
       "      <td>525</td>\n",
       "      <td>0</td>\n",
       "      <td>427</td>\n",
       "      <td>0</td>\n",
       "      <td>276</td>\n",
       "      <td>0</td>\n",
       "    </tr>\n",
       "    <tr>\n",
       "      <th>en</th>\n",
       "      <td>157</td>\n",
       "      <td>0</td>\n",
       "      <td>85</td>\n",
       "      <td>0</td>\n",
       "      <td>226</td>\n",
       "      <td>0</td>\n",
       "    </tr>\n",
       "  </tbody>\n",
       "</table>\n",
       "</div>"
      ],
      "text/plain": [
       "Month                     12/2021        01/2022        02/2022       \n",
       "Version                    latest stable  latest stable  latest stable\n",
       "Title            Language                                             \n",
       "Jupyter Tutorial de         19651      0   30134      0   33295      0\n",
       "                 en          4722   1825    3497   2576    4009   3707\n",
       "PyViz Tutorial   de          2573      0    4873      0    3930      0\n",
       "Python Basics    de           525      0     427      0     276      0\n",
       "                 en           157      0      85      0     226      0"
      ]
     },
     "execution_count": 41,
     "metadata": {},
     "output_type": "execute_result"
    }
   ],
   "source": [
    "df.index.names = ['Title', 'Language']\n",
    "df.columns.names = ['Month', 'Version']\n",
    "\n",
    "df"
   ]
  },
  {
   "cell_type": "markdown",
   "id": "c2226f83",
   "metadata": {},
   "source": [
    "<div class=\"alert alert-block alert-warning\">\n",
    "\n",
    "**Warnung:**\n",
    "\n",
    "Achtet darauf, dass die Indexnamen `Month` und `Version` nicht Teil der Zeilenbezeichnungen (der `df.index`-Werte) sind.\n",
    "</div>"
   ]
  },
  {
   "cell_type": "markdown",
   "id": "0ce285b0",
   "metadata": {},
   "source": [
    "Mit der Teilspaltenindizierung könnt ihr auf ähnliche Weise Spaltengruppen auswählen:"
   ]
  },
  {
   "cell_type": "code",
   "execution_count": 42,
   "id": "0658dd48",
   "metadata": {},
   "outputs": [
    {
     "data": {
      "text/html": [
       "<div>\n",
       "<style scoped>\n",
       "    .dataframe tbody tr th:only-of-type {\n",
       "        vertical-align: middle;\n",
       "    }\n",
       "\n",
       "    .dataframe tbody tr th {\n",
       "        vertical-align: top;\n",
       "    }\n",
       "\n",
       "    .dataframe thead th {\n",
       "        text-align: right;\n",
       "    }\n",
       "</style>\n",
       "<table border=\"1\" class=\"dataframe\">\n",
       "  <thead>\n",
       "    <tr style=\"text-align: right;\">\n",
       "      <th></th>\n",
       "      <th>Version</th>\n",
       "      <th>latest</th>\n",
       "      <th>stable</th>\n",
       "    </tr>\n",
       "    <tr>\n",
       "      <th>Title</th>\n",
       "      <th>Language</th>\n",
       "      <th></th>\n",
       "      <th></th>\n",
       "    </tr>\n",
       "  </thead>\n",
       "  <tbody>\n",
       "    <tr>\n",
       "      <th rowspan=\"2\" valign=\"top\">Jupyter Tutorial</th>\n",
       "      <th>de</th>\n",
       "      <td>19651</td>\n",
       "      <td>0</td>\n",
       "    </tr>\n",
       "    <tr>\n",
       "      <th>en</th>\n",
       "      <td>4722</td>\n",
       "      <td>1825</td>\n",
       "    </tr>\n",
       "    <tr>\n",
       "      <th>PyViz Tutorial</th>\n",
       "      <th>de</th>\n",
       "      <td>2573</td>\n",
       "      <td>0</td>\n",
       "    </tr>\n",
       "    <tr>\n",
       "      <th rowspan=\"2\" valign=\"top\">Python Basics</th>\n",
       "      <th>de</th>\n",
       "      <td>525</td>\n",
       "      <td>0</td>\n",
       "    </tr>\n",
       "    <tr>\n",
       "      <th>en</th>\n",
       "      <td>157</td>\n",
       "      <td>0</td>\n",
       "    </tr>\n",
       "  </tbody>\n",
       "</table>\n",
       "</div>"
      ],
      "text/plain": [
       "Version                    latest  stable\n",
       "Title            Language                \n",
       "Jupyter Tutorial de         19651       0\n",
       "                 en          4722    1825\n",
       "PyViz Tutorial   de          2573       0\n",
       "Python Basics    de           525       0\n",
       "                 en           157       0"
      ]
     },
     "execution_count": 42,
     "metadata": {},
     "output_type": "execute_result"
    }
   ],
   "source": [
    "df['12/2021']"
   ]
  },
  {
   "cell_type": "markdown",
   "id": "c0bb185b",
   "metadata": {},
   "source": [
    "Mit [pandas.MultiIndex.from_arrays](https://pandas.pydata.org/docs/reference/api/pandas.MultiIndex.from_arrays.html) kann selbst ein `MultiIndex` erstellt und dann wiederverwendet werden; die Spalten im vorangehenden DataFrame mit Ebenennamen könnten so erstellt werden:"
   ]
  },
  {
   "cell_type": "code",
   "execution_count": 43,
   "id": "ecb6bb81",
   "metadata": {},
   "outputs": [
    {
     "data": {
      "text/plain": [
       "MultiIndex([('Jupyter Tutorial', 'de'),\n",
       "            ('Jupyter Tutorial', 'en'),\n",
       "            (  'PyViz Tutorial', 'de'),\n",
       "            (   'Python Basics', 'de'),\n",
       "            (   'Python Basics', 'en')],\n",
       "           names=['Title', 'Language'])"
      ]
     },
     "execution_count": 43,
     "metadata": {},
     "output_type": "execute_result"
    }
   ],
   "source": [
    "pd.MultiIndex.from_arrays([['Jupyter Tutorial',\n",
    "                            'Jupyter Tutorial',\n",
    "                            'PyViz Tutorial',\n",
    "                            'Python Basics',\n",
    "                            'Python Basics'],\n",
    "                           ['de', 'en', 'de', 'de', 'en']],\n",
    "                          names=['Title', 'Language'])"
   ]
  },
  {
   "cell_type": "markdown",
   "id": "206164b3",
   "metadata": {},
   "source": [
    "### Umordnen und Sortieren von Ebenen\n",
    "\n",
    "Es kann vorkommen, dass ihr die Reihenfolge der Ebenen auf einer Achse neu anordnen oder die Daten nach den Werten in einer bestimmten Ebene sortieren wollt. Die Funktion [pandas.DataFrame.swaplevel](https://pandas.pydata.org/docs/reference/api/pandas.DataFrame.swaplevel.html) nimmt zwei Ebenennummern oder -namen entgegen und gibt ein neues Objekt zurück, in dem die Ebenen vertauscht sind (die Daten bleiben jedoch unverändert):"
   ]
  },
  {
   "cell_type": "code",
   "execution_count": 44,
   "id": "788f7279",
   "metadata": {},
   "outputs": [
    {
     "data": {
      "text/html": [
       "<div>\n",
       "<style scoped>\n",
       "    .dataframe tbody tr th:only-of-type {\n",
       "        vertical-align: middle;\n",
       "    }\n",
       "\n",
       "    .dataframe tbody tr th {\n",
       "        vertical-align: top;\n",
       "    }\n",
       "\n",
       "    .dataframe thead tr th {\n",
       "        text-align: left;\n",
       "    }\n",
       "\n",
       "    .dataframe thead tr:last-of-type th {\n",
       "        text-align: right;\n",
       "    }\n",
       "</style>\n",
       "<table border=\"1\" class=\"dataframe\">\n",
       "  <thead>\n",
       "    <tr>\n",
       "      <th></th>\n",
       "      <th>Month</th>\n",
       "      <th colspan=\"2\" halign=\"left\">12/2021</th>\n",
       "      <th colspan=\"2\" halign=\"left\">01/2022</th>\n",
       "      <th colspan=\"2\" halign=\"left\">02/2022</th>\n",
       "    </tr>\n",
       "    <tr>\n",
       "      <th></th>\n",
       "      <th>Version</th>\n",
       "      <th>latest</th>\n",
       "      <th>stable</th>\n",
       "      <th>latest</th>\n",
       "      <th>stable</th>\n",
       "      <th>latest</th>\n",
       "      <th>stable</th>\n",
       "    </tr>\n",
       "    <tr>\n",
       "      <th>Language</th>\n",
       "      <th>Title</th>\n",
       "      <th></th>\n",
       "      <th></th>\n",
       "      <th></th>\n",
       "      <th></th>\n",
       "      <th></th>\n",
       "      <th></th>\n",
       "    </tr>\n",
       "  </thead>\n",
       "  <tbody>\n",
       "    <tr>\n",
       "      <th>de</th>\n",
       "      <th>Jupyter Tutorial</th>\n",
       "      <td>19651</td>\n",
       "      <td>0</td>\n",
       "      <td>30134</td>\n",
       "      <td>0</td>\n",
       "      <td>33295</td>\n",
       "      <td>0</td>\n",
       "    </tr>\n",
       "    <tr>\n",
       "      <th>en</th>\n",
       "      <th>Jupyter Tutorial</th>\n",
       "      <td>4722</td>\n",
       "      <td>1825</td>\n",
       "      <td>3497</td>\n",
       "      <td>2576</td>\n",
       "      <td>4009</td>\n",
       "      <td>3707</td>\n",
       "    </tr>\n",
       "    <tr>\n",
       "      <th rowspan=\"2\" valign=\"top\">de</th>\n",
       "      <th>PyViz Tutorial</th>\n",
       "      <td>2573</td>\n",
       "      <td>0</td>\n",
       "      <td>4873</td>\n",
       "      <td>0</td>\n",
       "      <td>3930</td>\n",
       "      <td>0</td>\n",
       "    </tr>\n",
       "    <tr>\n",
       "      <th>Python Basics</th>\n",
       "      <td>525</td>\n",
       "      <td>0</td>\n",
       "      <td>427</td>\n",
       "      <td>0</td>\n",
       "      <td>276</td>\n",
       "      <td>0</td>\n",
       "    </tr>\n",
       "    <tr>\n",
       "      <th>en</th>\n",
       "      <th>Python Basics</th>\n",
       "      <td>157</td>\n",
       "      <td>0</td>\n",
       "      <td>85</td>\n",
       "      <td>0</td>\n",
       "      <td>226</td>\n",
       "      <td>0</td>\n",
       "    </tr>\n",
       "  </tbody>\n",
       "</table>\n",
       "</div>"
      ],
      "text/plain": [
       "Month                     12/2021        01/2022        02/2022       \n",
       "Version                    latest stable  latest stable  latest stable\n",
       "Language Title                                                        \n",
       "de       Jupyter Tutorial   19651      0   30134      0   33295      0\n",
       "en       Jupyter Tutorial    4722   1825    3497   2576    4009   3707\n",
       "de       PyViz Tutorial      2573      0    4873      0    3930      0\n",
       "         Python Basics        525      0     427      0     276      0\n",
       "en       Python Basics        157      0      85      0     226      0"
      ]
     },
     "execution_count": 44,
     "metadata": {},
     "output_type": "execute_result"
    }
   ],
   "source": [
    "df.swaplevel('Language', 'Title')"
   ]
  },
  {
   "cell_type": "markdown",
   "id": "10929420",
   "metadata": {},
   "source": [
    "[pandas.DataFrame.sort_index](https://pandas.pydata.org/docs/reference/api/pandas.DataFrame.sort_index.html) hingegen sortiert die Daten nur nach den Werten in einer einzigen Ebene. Beim Vertauschen von Ebenen ist es nicht unüblich, auch `sort_index` zu verwenden, damit das Ergebnis lexikografisch nach der angegebenen Ebene sortiert wird:"
   ]
  },
  {
   "cell_type": "code",
   "execution_count": 45,
   "id": "f9d97545",
   "metadata": {},
   "outputs": [
    {
     "data": {
      "text/html": [
       "<div>\n",
       "<style scoped>\n",
       "    .dataframe tbody tr th:only-of-type {\n",
       "        vertical-align: middle;\n",
       "    }\n",
       "\n",
       "    .dataframe tbody tr th {\n",
       "        vertical-align: top;\n",
       "    }\n",
       "\n",
       "    .dataframe thead tr th {\n",
       "        text-align: left;\n",
       "    }\n",
       "\n",
       "    .dataframe thead tr:last-of-type th {\n",
       "        text-align: right;\n",
       "    }\n",
       "</style>\n",
       "<table border=\"1\" class=\"dataframe\">\n",
       "  <thead>\n",
       "    <tr>\n",
       "      <th></th>\n",
       "      <th>Month</th>\n",
       "      <th colspan=\"2\" halign=\"left\">12/2021</th>\n",
       "      <th colspan=\"2\" halign=\"left\">01/2022</th>\n",
       "      <th colspan=\"2\" halign=\"left\">02/2022</th>\n",
       "    </tr>\n",
       "    <tr>\n",
       "      <th></th>\n",
       "      <th>Version</th>\n",
       "      <th>latest</th>\n",
       "      <th>stable</th>\n",
       "      <th>latest</th>\n",
       "      <th>stable</th>\n",
       "      <th>latest</th>\n",
       "      <th>stable</th>\n",
       "    </tr>\n",
       "    <tr>\n",
       "      <th>Title</th>\n",
       "      <th>Language</th>\n",
       "      <th></th>\n",
       "      <th></th>\n",
       "      <th></th>\n",
       "      <th></th>\n",
       "      <th></th>\n",
       "      <th></th>\n",
       "    </tr>\n",
       "  </thead>\n",
       "  <tbody>\n",
       "    <tr>\n",
       "      <th rowspan=\"2\" valign=\"top\">Jupyter Tutorial</th>\n",
       "      <th>de</th>\n",
       "      <td>19651</td>\n",
       "      <td>0</td>\n",
       "      <td>30134</td>\n",
       "      <td>0</td>\n",
       "      <td>33295</td>\n",
       "      <td>0</td>\n",
       "    </tr>\n",
       "    <tr>\n",
       "      <th>en</th>\n",
       "      <td>4722</td>\n",
       "      <td>1825</td>\n",
       "      <td>3497</td>\n",
       "      <td>2576</td>\n",
       "      <td>4009</td>\n",
       "      <td>3707</td>\n",
       "    </tr>\n",
       "    <tr>\n",
       "      <th>PyViz Tutorial</th>\n",
       "      <th>de</th>\n",
       "      <td>2573</td>\n",
       "      <td>0</td>\n",
       "      <td>4873</td>\n",
       "      <td>0</td>\n",
       "      <td>3930</td>\n",
       "      <td>0</td>\n",
       "    </tr>\n",
       "    <tr>\n",
       "      <th rowspan=\"2\" valign=\"top\">Python Basics</th>\n",
       "      <th>de</th>\n",
       "      <td>525</td>\n",
       "      <td>0</td>\n",
       "      <td>427</td>\n",
       "      <td>0</td>\n",
       "      <td>276</td>\n",
       "      <td>0</td>\n",
       "    </tr>\n",
       "    <tr>\n",
       "      <th>en</th>\n",
       "      <td>157</td>\n",
       "      <td>0</td>\n",
       "      <td>85</td>\n",
       "      <td>0</td>\n",
       "      <td>226</td>\n",
       "      <td>0</td>\n",
       "    </tr>\n",
       "  </tbody>\n",
       "</table>\n",
       "</div>"
      ],
      "text/plain": [
       "Month                     12/2021        01/2022        02/2022       \n",
       "Version                    latest stable  latest stable  latest stable\n",
       "Title            Language                                             \n",
       "Jupyter Tutorial de         19651      0   30134      0   33295      0\n",
       "                 en          4722   1825    3497   2576    4009   3707\n",
       "PyViz Tutorial   de          2573      0    4873      0    3930      0\n",
       "Python Basics    de           525      0     427      0     276      0\n",
       "                 en           157      0      85      0     226      0"
      ]
     },
     "execution_count": 45,
     "metadata": {},
     "output_type": "execute_result"
    }
   ],
   "source": [
    "df.sort_index(level=0)"
   ]
  },
  {
   "cell_type": "code",
   "execution_count": 46,
   "id": "0fdb62c5",
   "metadata": {},
   "outputs": [
    {
     "data": {
      "text/html": [
       "<div>\n",
       "<style scoped>\n",
       "    .dataframe tbody tr th:only-of-type {\n",
       "        vertical-align: middle;\n",
       "    }\n",
       "\n",
       "    .dataframe tbody tr th {\n",
       "        vertical-align: top;\n",
       "    }\n",
       "\n",
       "    .dataframe thead tr th {\n",
       "        text-align: left;\n",
       "    }\n",
       "\n",
       "    .dataframe thead tr:last-of-type th {\n",
       "        text-align: right;\n",
       "    }\n",
       "</style>\n",
       "<table border=\"1\" class=\"dataframe\">\n",
       "  <thead>\n",
       "    <tr>\n",
       "      <th></th>\n",
       "      <th>Month</th>\n",
       "      <th colspan=\"2\" halign=\"left\">12/2021</th>\n",
       "      <th colspan=\"2\" halign=\"left\">01/2022</th>\n",
       "      <th colspan=\"2\" halign=\"left\">02/2022</th>\n",
       "    </tr>\n",
       "    <tr>\n",
       "      <th></th>\n",
       "      <th>Version</th>\n",
       "      <th>latest</th>\n",
       "      <th>stable</th>\n",
       "      <th>latest</th>\n",
       "      <th>stable</th>\n",
       "      <th>latest</th>\n",
       "      <th>stable</th>\n",
       "    </tr>\n",
       "    <tr>\n",
       "      <th>Language</th>\n",
       "      <th>Title</th>\n",
       "      <th></th>\n",
       "      <th></th>\n",
       "      <th></th>\n",
       "      <th></th>\n",
       "      <th></th>\n",
       "      <th></th>\n",
       "    </tr>\n",
       "  </thead>\n",
       "  <tbody>\n",
       "    <tr>\n",
       "      <th rowspan=\"3\" valign=\"top\">de</th>\n",
       "      <th>Jupyter Tutorial</th>\n",
       "      <td>19651</td>\n",
       "      <td>0</td>\n",
       "      <td>30134</td>\n",
       "      <td>0</td>\n",
       "      <td>33295</td>\n",
       "      <td>0</td>\n",
       "    </tr>\n",
       "    <tr>\n",
       "      <th>PyViz Tutorial</th>\n",
       "      <td>2573</td>\n",
       "      <td>0</td>\n",
       "      <td>4873</td>\n",
       "      <td>0</td>\n",
       "      <td>3930</td>\n",
       "      <td>0</td>\n",
       "    </tr>\n",
       "    <tr>\n",
       "      <th>Python Basics</th>\n",
       "      <td>525</td>\n",
       "      <td>0</td>\n",
       "      <td>427</td>\n",
       "      <td>0</td>\n",
       "      <td>276</td>\n",
       "      <td>0</td>\n",
       "    </tr>\n",
       "    <tr>\n",
       "      <th rowspan=\"2\" valign=\"top\">en</th>\n",
       "      <th>Jupyter Tutorial</th>\n",
       "      <td>4722</td>\n",
       "      <td>1825</td>\n",
       "      <td>3497</td>\n",
       "      <td>2576</td>\n",
       "      <td>4009</td>\n",
       "      <td>3707</td>\n",
       "    </tr>\n",
       "    <tr>\n",
       "      <th>Python Basics</th>\n",
       "      <td>157</td>\n",
       "      <td>0</td>\n",
       "      <td>85</td>\n",
       "      <td>0</td>\n",
       "      <td>226</td>\n",
       "      <td>0</td>\n",
       "    </tr>\n",
       "  </tbody>\n",
       "</table>\n",
       "</div>"
      ],
      "text/plain": [
       "Month                     12/2021        01/2022        02/2022       \n",
       "Version                    latest stable  latest stable  latest stable\n",
       "Language Title                                                        \n",
       "de       Jupyter Tutorial   19651      0   30134      0   33295      0\n",
       "         PyViz Tutorial      2573      0    4873      0    3930      0\n",
       "         Python Basics        525      0     427      0     276      0\n",
       "en       Jupyter Tutorial    4722   1825    3497   2576    4009   3707\n",
       "         Python Basics        157      0      85      0     226      0"
      ]
     },
     "execution_count": 46,
     "metadata": {},
     "output_type": "execute_result"
    }
   ],
   "source": [
    "df.swaplevel(0, 1).sort_index(level=0)"
   ]
  },
  {
   "cell_type": "markdown",
   "id": "95a5f2dc",
   "metadata": {},
   "source": [
    "<div class=\"alert alert-block alert-info\">\n",
    "\n",
    "**Hinweis:**\n",
    "\n",
    "Die Leistung der Datenauswahl ist bei hierarchisch indizierten Objekten wesentlich besser, wenn der Index lexikografisch sortiert ist, beginnend mit der äußersten Ebene, d.h. dem Ergebnis des Aufrufs von `sort_index(level=0)` oder `sort_index()`.\n",
    "</div>"
   ]
  },
  {
   "cell_type": "markdown",
   "id": "4833f262",
   "metadata": {},
   "source": [
    "### Zusammenfassende Statistiken nach Ebene\n",
    "\n",
    "Viele deskriptive und zusammenfassende Statistiken für `DataFrame` und `Series` verfügen über eine Ebenenoption, mit der die Ebene angeben können, nach der ihr auf einer bestimmten Achse aggregieren könnt. Betrachtet den obigen `DataFrame`; wir können entweder die Zeilen oder die Spalten nach der Ebene aggregieren wie folgt:"
   ]
  },
  {
   "cell_type": "code",
   "execution_count": 47,
   "id": "f216b1df",
   "metadata": {},
   "outputs": [
    {
     "data": {
      "text/html": [
       "<div>\n",
       "<style scoped>\n",
       "    .dataframe tbody tr th:only-of-type {\n",
       "        vertical-align: middle;\n",
       "    }\n",
       "\n",
       "    .dataframe tbody tr th {\n",
       "        vertical-align: top;\n",
       "    }\n",
       "\n",
       "    .dataframe thead tr th {\n",
       "        text-align: left;\n",
       "    }\n",
       "\n",
       "    .dataframe thead tr:last-of-type th {\n",
       "        text-align: right;\n",
       "    }\n",
       "</style>\n",
       "<table border=\"1\" class=\"dataframe\">\n",
       "  <thead>\n",
       "    <tr>\n",
       "      <th>Month</th>\n",
       "      <th colspan=\"2\" halign=\"left\">12/2021</th>\n",
       "      <th colspan=\"2\" halign=\"left\">01/2022</th>\n",
       "      <th colspan=\"2\" halign=\"left\">02/2022</th>\n",
       "    </tr>\n",
       "    <tr>\n",
       "      <th>Version</th>\n",
       "      <th>latest</th>\n",
       "      <th>stable</th>\n",
       "      <th>latest</th>\n",
       "      <th>stable</th>\n",
       "      <th>latest</th>\n",
       "      <th>stable</th>\n",
       "    </tr>\n",
       "    <tr>\n",
       "      <th>Language</th>\n",
       "      <th></th>\n",
       "      <th></th>\n",
       "      <th></th>\n",
       "      <th></th>\n",
       "      <th></th>\n",
       "      <th></th>\n",
       "    </tr>\n",
       "  </thead>\n",
       "  <tbody>\n",
       "    <tr>\n",
       "      <th>de</th>\n",
       "      <td>22749</td>\n",
       "      <td>0</td>\n",
       "      <td>35434</td>\n",
       "      <td>0</td>\n",
       "      <td>37501</td>\n",
       "      <td>0</td>\n",
       "    </tr>\n",
       "    <tr>\n",
       "      <th>en</th>\n",
       "      <td>4879</td>\n",
       "      <td>1825</td>\n",
       "      <td>3582</td>\n",
       "      <td>2576</td>\n",
       "      <td>4235</td>\n",
       "      <td>3707</td>\n",
       "    </tr>\n",
       "  </tbody>\n",
       "</table>\n",
       "</div>"
      ],
      "text/plain": [
       "Month    12/2021        01/2022        02/2022       \n",
       "Version   latest stable  latest stable  latest stable\n",
       "Language                                             \n",
       "de         22749      0   35434      0   37501      0\n",
       "en          4879   1825    3582   2576    4235   3707"
      ]
     },
     "execution_count": 47,
     "metadata": {},
     "output_type": "execute_result"
    }
   ],
   "source": [
    "df.groupby(level='Language').sum()"
   ]
  },
  {
   "cell_type": "code",
   "execution_count": 48,
   "id": "9092d684",
   "metadata": {},
   "outputs": [
    {
     "data": {
      "text/html": [
       "<div>\n",
       "<style scoped>\n",
       "    .dataframe tbody tr th:only-of-type {\n",
       "        vertical-align: middle;\n",
       "    }\n",
       "\n",
       "    .dataframe tbody tr th {\n",
       "        vertical-align: top;\n",
       "    }\n",
       "\n",
       "    .dataframe thead th {\n",
       "        text-align: right;\n",
       "    }\n",
       "</style>\n",
       "<table border=\"1\" class=\"dataframe\">\n",
       "  <thead>\n",
       "    <tr style=\"text-align: right;\">\n",
       "      <th></th>\n",
       "      <th>Month</th>\n",
       "      <th>01/2022</th>\n",
       "      <th>02/2022</th>\n",
       "      <th>12/2021</th>\n",
       "    </tr>\n",
       "    <tr>\n",
       "      <th>Title</th>\n",
       "      <th>Language</th>\n",
       "      <th></th>\n",
       "      <th></th>\n",
       "      <th></th>\n",
       "    </tr>\n",
       "  </thead>\n",
       "  <tbody>\n",
       "    <tr>\n",
       "      <th rowspan=\"2\" valign=\"top\">Jupyter Tutorial</th>\n",
       "      <th>de</th>\n",
       "      <td>30134</td>\n",
       "      <td>33295</td>\n",
       "      <td>19651</td>\n",
       "    </tr>\n",
       "    <tr>\n",
       "      <th>en</th>\n",
       "      <td>6073</td>\n",
       "      <td>7716</td>\n",
       "      <td>6547</td>\n",
       "    </tr>\n",
       "    <tr>\n",
       "      <th>PyViz Tutorial</th>\n",
       "      <th>de</th>\n",
       "      <td>4873</td>\n",
       "      <td>3930</td>\n",
       "      <td>2573</td>\n",
       "    </tr>\n",
       "    <tr>\n",
       "      <th rowspan=\"2\" valign=\"top\">Python Basics</th>\n",
       "      <th>de</th>\n",
       "      <td>427</td>\n",
       "      <td>276</td>\n",
       "      <td>525</td>\n",
       "    </tr>\n",
       "    <tr>\n",
       "      <th>en</th>\n",
       "      <td>85</td>\n",
       "      <td>226</td>\n",
       "      <td>157</td>\n",
       "    </tr>\n",
       "  </tbody>\n",
       "</table>\n",
       "</div>"
      ],
      "text/plain": [
       "Month                      01/2022  02/2022  12/2021\n",
       "Title            Language                           \n",
       "Jupyter Tutorial de          30134    33295    19651\n",
       "                 en           6073     7716     6547\n",
       "PyViz Tutorial   de           4873     3930     2573\n",
       "Python Basics    de            427      276      525\n",
       "                 en             85      226      157"
      ]
     },
     "execution_count": 48,
     "metadata": {},
     "output_type": "execute_result"
    }
   ],
   "source": [
    "df.groupby(level='Month', axis=1).sum()"
   ]
  },
  {
   "cell_type": "markdown",
   "id": "03ba57fe",
   "metadata": {},
   "source": [
    "Intern wird dazu die [pandas.DataFrame.groupby](https://pandas.pydata.org/docs/reference/api/pandas.DataFrame.groupby.html)-Maschinerie von Pandas verwendet, die in [Gruppenoperationen](group-operations.ipynb) näher erläutert wird."
   ]
  },
  {
   "cell_type": "markdown",
   "id": "0a1ce4bc",
   "metadata": {},
   "source": [
    "### Indizierung mit den Spalten eines DataFrame\n",
    "\n",
    "Es ist nicht ungewöhnlich, eine oder mehrere Spalten eines DataFrame als Zeilenindex zu verwenden; alternativ könnt ihr den Zeilenindex auch in die Spalten des DataFrame verschieben. Hier ist ein Beispiel-DataFrame:"
   ]
  },
  {
   "cell_type": "code",
   "execution_count": 49,
   "id": "e0cb19e1",
   "metadata": {},
   "outputs": [
    {
     "data": {
      "text/html": [
       "<div>\n",
       "<style scoped>\n",
       "    .dataframe tbody tr th:only-of-type {\n",
       "        vertical-align: middle;\n",
       "    }\n",
       "\n",
       "    .dataframe tbody tr th {\n",
       "        vertical-align: top;\n",
       "    }\n",
       "\n",
       "    .dataframe thead th {\n",
       "        text-align: right;\n",
       "    }\n",
       "</style>\n",
       "<table border=\"1\" class=\"dataframe\">\n",
       "  <thead>\n",
       "    <tr style=\"text-align: right;\">\n",
       "      <th></th>\n",
       "      <th>0</th>\n",
       "      <th>1</th>\n",
       "      <th>2</th>\n",
       "      <th>3</th>\n",
       "      <th>4</th>\n",
       "      <th>5</th>\n",
       "      <th>6</th>\n",
       "      <th>7</th>\n",
       "    </tr>\n",
       "  </thead>\n",
       "  <tbody>\n",
       "    <tr>\n",
       "      <th>0</th>\n",
       "      <td>Jupyter Tutorial</td>\n",
       "      <td>de</td>\n",
       "      <td>19651</td>\n",
       "      <td>0</td>\n",
       "      <td>30134</td>\n",
       "      <td>0</td>\n",
       "      <td>33295</td>\n",
       "      <td>0</td>\n",
       "    </tr>\n",
       "    <tr>\n",
       "      <th>1</th>\n",
       "      <td>Jupyter Tutorial</td>\n",
       "      <td>en</td>\n",
       "      <td>4722</td>\n",
       "      <td>1825</td>\n",
       "      <td>3497</td>\n",
       "      <td>2576</td>\n",
       "      <td>4009</td>\n",
       "      <td>3707</td>\n",
       "    </tr>\n",
       "    <tr>\n",
       "      <th>2</th>\n",
       "      <td>PyViz Tutorial</td>\n",
       "      <td>de</td>\n",
       "      <td>2573</td>\n",
       "      <td>0</td>\n",
       "      <td>4873</td>\n",
       "      <td>0</td>\n",
       "      <td>3930</td>\n",
       "      <td>0</td>\n",
       "    </tr>\n",
       "    <tr>\n",
       "      <th>3</th>\n",
       "      <td>Python Basics</td>\n",
       "      <td>de</td>\n",
       "      <td>525</td>\n",
       "      <td>0</td>\n",
       "      <td>427</td>\n",
       "      <td>0</td>\n",
       "      <td>276</td>\n",
       "      <td>0</td>\n",
       "    </tr>\n",
       "    <tr>\n",
       "      <th>4</th>\n",
       "      <td>Python Basics</td>\n",
       "      <td>en</td>\n",
       "      <td>157</td>\n",
       "      <td>0</td>\n",
       "      <td>85</td>\n",
       "      <td>0</td>\n",
       "      <td>226</td>\n",
       "      <td>0</td>\n",
       "    </tr>\n",
       "  </tbody>\n",
       "</table>\n",
       "</div>"
      ],
      "text/plain": [
       "                  0   1      2     3      4     5      6     7\n",
       "0  Jupyter Tutorial  de  19651     0  30134     0  33295     0\n",
       "1  Jupyter Tutorial  en   4722  1825   3497  2576   4009  3707\n",
       "2    PyViz Tutorial  de   2573     0   4873     0   3930     0\n",
       "3     Python Basics  de    525     0    427     0    276     0\n",
       "4     Python Basics  en    157     0     85     0    226     0"
      ]
     },
     "execution_count": 49,
     "metadata": {},
     "output_type": "execute_result"
    }
   ],
   "source": [
    "data = [['Jupyter Tutorial', 'de', 19651,0,30134,0,33295,0],\n",
    "        ['Jupyter Tutorial', 'en', 4722,1825,3497,2576,4009,3707],\n",
    "        ['PyViz Tutorial', 'de', 2573,0,4873,0,3930,0],\n",
    "        ['Python Basics', 'de', 525,0,427,0,276,0],\n",
    "        ['Python Basics', 'en', 157,0,85,0,226,0]]\n",
    "    \n",
    "df = pd.DataFrame(data)\n",
    "\n",
    "df"
   ]
  },
  {
   "cell_type": "markdown",
   "id": "dec963df",
   "metadata": {},
   "source": [
    "Die Funktion [pandas.DataFrame.set_index](https://pandas.pydata.org/docs/reference/api/pandas.DataFrame.set_index.html) erstellt einen neuen DataFrame, der eine oder mehrere seiner Spalten als Index verwendet:"
   ]
  },
  {
   "cell_type": "code",
   "execution_count": 50,
   "id": "c59c4f39",
   "metadata": {},
   "outputs": [
    {
     "data": {
      "text/html": [
       "<div>\n",
       "<style scoped>\n",
       "    .dataframe tbody tr th:only-of-type {\n",
       "        vertical-align: middle;\n",
       "    }\n",
       "\n",
       "    .dataframe tbody tr th {\n",
       "        vertical-align: top;\n",
       "    }\n",
       "\n",
       "    .dataframe thead th {\n",
       "        text-align: right;\n",
       "    }\n",
       "</style>\n",
       "<table border=\"1\" class=\"dataframe\">\n",
       "  <thead>\n",
       "    <tr style=\"text-align: right;\">\n",
       "      <th></th>\n",
       "      <th></th>\n",
       "      <th>2</th>\n",
       "      <th>3</th>\n",
       "      <th>4</th>\n",
       "      <th>5</th>\n",
       "      <th>6</th>\n",
       "      <th>7</th>\n",
       "    </tr>\n",
       "    <tr>\n",
       "      <th>0</th>\n",
       "      <th>1</th>\n",
       "      <th></th>\n",
       "      <th></th>\n",
       "      <th></th>\n",
       "      <th></th>\n",
       "      <th></th>\n",
       "      <th></th>\n",
       "    </tr>\n",
       "  </thead>\n",
       "  <tbody>\n",
       "    <tr>\n",
       "      <th rowspan=\"2\" valign=\"top\">Jupyter Tutorial</th>\n",
       "      <th>de</th>\n",
       "      <td>19651</td>\n",
       "      <td>0</td>\n",
       "      <td>30134</td>\n",
       "      <td>0</td>\n",
       "      <td>33295</td>\n",
       "      <td>0</td>\n",
       "    </tr>\n",
       "    <tr>\n",
       "      <th>en</th>\n",
       "      <td>4722</td>\n",
       "      <td>1825</td>\n",
       "      <td>3497</td>\n",
       "      <td>2576</td>\n",
       "      <td>4009</td>\n",
       "      <td>3707</td>\n",
       "    </tr>\n",
       "    <tr>\n",
       "      <th>PyViz Tutorial</th>\n",
       "      <th>de</th>\n",
       "      <td>2573</td>\n",
       "      <td>0</td>\n",
       "      <td>4873</td>\n",
       "      <td>0</td>\n",
       "      <td>3930</td>\n",
       "      <td>0</td>\n",
       "    </tr>\n",
       "    <tr>\n",
       "      <th rowspan=\"2\" valign=\"top\">Python Basics</th>\n",
       "      <th>de</th>\n",
       "      <td>525</td>\n",
       "      <td>0</td>\n",
       "      <td>427</td>\n",
       "      <td>0</td>\n",
       "      <td>276</td>\n",
       "      <td>0</td>\n",
       "    </tr>\n",
       "    <tr>\n",
       "      <th>en</th>\n",
       "      <td>157</td>\n",
       "      <td>0</td>\n",
       "      <td>85</td>\n",
       "      <td>0</td>\n",
       "      <td>226</td>\n",
       "      <td>0</td>\n",
       "    </tr>\n",
       "  </tbody>\n",
       "</table>\n",
       "</div>"
      ],
      "text/plain": [
       "                         2     3      4     5      6     7\n",
       "0                1                                        \n",
       "Jupyter Tutorial de  19651     0  30134     0  33295     0\n",
       "                 en   4722  1825   3497  2576   4009  3707\n",
       "PyViz Tutorial   de   2573     0   4873     0   3930     0\n",
       "Python Basics    de    525     0    427     0    276     0\n",
       "                 en    157     0     85     0    226     0"
      ]
     },
     "execution_count": 50,
     "metadata": {},
     "output_type": "execute_result"
    }
   ],
   "source": [
    "df2 = df.set_index([0,1])\n",
    "\n",
    "df2"
   ]
  },
  {
   "cell_type": "markdown",
   "id": "5a441aa3",
   "metadata": {},
   "source": [
    "Standardmäßig werden die Spalten aus dem DataFrame entfernt, Ihr könnt sie aber auch drin lassen, indem ihr `drop=False` an `set_index` übergebt:"
   ]
  },
  {
   "cell_type": "code",
   "execution_count": 51,
   "id": "065b58b1",
   "metadata": {},
   "outputs": [
    {
     "data": {
      "text/html": [
       "<div>\n",
       "<style scoped>\n",
       "    .dataframe tbody tr th:only-of-type {\n",
       "        vertical-align: middle;\n",
       "    }\n",
       "\n",
       "    .dataframe tbody tr th {\n",
       "        vertical-align: top;\n",
       "    }\n",
       "\n",
       "    .dataframe thead th {\n",
       "        text-align: right;\n",
       "    }\n",
       "</style>\n",
       "<table border=\"1\" class=\"dataframe\">\n",
       "  <thead>\n",
       "    <tr style=\"text-align: right;\">\n",
       "      <th></th>\n",
       "      <th></th>\n",
       "      <th>0</th>\n",
       "      <th>1</th>\n",
       "      <th>2</th>\n",
       "      <th>3</th>\n",
       "      <th>4</th>\n",
       "      <th>5</th>\n",
       "      <th>6</th>\n",
       "      <th>7</th>\n",
       "    </tr>\n",
       "    <tr>\n",
       "      <th>0</th>\n",
       "      <th>1</th>\n",
       "      <th></th>\n",
       "      <th></th>\n",
       "      <th></th>\n",
       "      <th></th>\n",
       "      <th></th>\n",
       "      <th></th>\n",
       "      <th></th>\n",
       "      <th></th>\n",
       "    </tr>\n",
       "  </thead>\n",
       "  <tbody>\n",
       "    <tr>\n",
       "      <th rowspan=\"2\" valign=\"top\">Jupyter Tutorial</th>\n",
       "      <th>de</th>\n",
       "      <td>Jupyter Tutorial</td>\n",
       "      <td>de</td>\n",
       "      <td>19651</td>\n",
       "      <td>0</td>\n",
       "      <td>30134</td>\n",
       "      <td>0</td>\n",
       "      <td>33295</td>\n",
       "      <td>0</td>\n",
       "    </tr>\n",
       "    <tr>\n",
       "      <th>en</th>\n",
       "      <td>Jupyter Tutorial</td>\n",
       "      <td>en</td>\n",
       "      <td>4722</td>\n",
       "      <td>1825</td>\n",
       "      <td>3497</td>\n",
       "      <td>2576</td>\n",
       "      <td>4009</td>\n",
       "      <td>3707</td>\n",
       "    </tr>\n",
       "    <tr>\n",
       "      <th>PyViz Tutorial</th>\n",
       "      <th>de</th>\n",
       "      <td>PyViz Tutorial</td>\n",
       "      <td>de</td>\n",
       "      <td>2573</td>\n",
       "      <td>0</td>\n",
       "      <td>4873</td>\n",
       "      <td>0</td>\n",
       "      <td>3930</td>\n",
       "      <td>0</td>\n",
       "    </tr>\n",
       "    <tr>\n",
       "      <th rowspan=\"2\" valign=\"top\">Python Basics</th>\n",
       "      <th>de</th>\n",
       "      <td>Python Basics</td>\n",
       "      <td>de</td>\n",
       "      <td>525</td>\n",
       "      <td>0</td>\n",
       "      <td>427</td>\n",
       "      <td>0</td>\n",
       "      <td>276</td>\n",
       "      <td>0</td>\n",
       "    </tr>\n",
       "    <tr>\n",
       "      <th>en</th>\n",
       "      <td>Python Basics</td>\n",
       "      <td>en</td>\n",
       "      <td>157</td>\n",
       "      <td>0</td>\n",
       "      <td>85</td>\n",
       "      <td>0</td>\n",
       "      <td>226</td>\n",
       "      <td>0</td>\n",
       "    </tr>\n",
       "  </tbody>\n",
       "</table>\n",
       "</div>"
      ],
      "text/plain": [
       "                                    0   1      2     3      4     5      6  \\\n",
       "0                1                                                           \n",
       "Jupyter Tutorial de  Jupyter Tutorial  de  19651     0  30134     0  33295   \n",
       "                 en  Jupyter Tutorial  en   4722  1825   3497  2576   4009   \n",
       "PyViz Tutorial   de    PyViz Tutorial  de   2573     0   4873     0   3930   \n",
       "Python Basics    de     Python Basics  de    525     0    427     0    276   \n",
       "                 en     Python Basics  en    157     0     85     0    226   \n",
       "\n",
       "                        7  \n",
       "0                1         \n",
       "Jupyter Tutorial de     0  \n",
       "                 en  3707  \n",
       "PyViz Tutorial   de     0  \n",
       "Python Basics    de     0  \n",
       "                 en     0  "
      ]
     },
     "execution_count": 51,
     "metadata": {},
     "output_type": "execute_result"
    }
   ],
   "source": [
    "df.set_index([0,1], drop=False)"
   ]
  },
  {
   "cell_type": "markdown",
   "id": "40abeb1e",
   "metadata": {},
   "source": [
    "[pandas.DataFrame.reset_index](https://pandas.pydata.org/docs/reference/api/pandas.DataFrame.reset_index.html) hingegen bewirkt das Gegenteil von `set_index`; die hierarchischen Indexebenen werden in die Spalten verschoben:"
   ]
  },
  {
   "cell_type": "code",
   "execution_count": 52,
   "id": "80c65fce",
   "metadata": {},
   "outputs": [
    {
     "data": {
      "text/html": [
       "<div>\n",
       "<style scoped>\n",
       "    .dataframe tbody tr th:only-of-type {\n",
       "        vertical-align: middle;\n",
       "    }\n",
       "\n",
       "    .dataframe tbody tr th {\n",
       "        vertical-align: top;\n",
       "    }\n",
       "\n",
       "    .dataframe thead th {\n",
       "        text-align: right;\n",
       "    }\n",
       "</style>\n",
       "<table border=\"1\" class=\"dataframe\">\n",
       "  <thead>\n",
       "    <tr style=\"text-align: right;\">\n",
       "      <th></th>\n",
       "      <th>0</th>\n",
       "      <th>1</th>\n",
       "      <th>2</th>\n",
       "      <th>3</th>\n",
       "      <th>4</th>\n",
       "      <th>5</th>\n",
       "      <th>6</th>\n",
       "      <th>7</th>\n",
       "    </tr>\n",
       "  </thead>\n",
       "  <tbody>\n",
       "    <tr>\n",
       "      <th>0</th>\n",
       "      <td>Jupyter Tutorial</td>\n",
       "      <td>de</td>\n",
       "      <td>19651</td>\n",
       "      <td>0</td>\n",
       "      <td>30134</td>\n",
       "      <td>0</td>\n",
       "      <td>33295</td>\n",
       "      <td>0</td>\n",
       "    </tr>\n",
       "    <tr>\n",
       "      <th>1</th>\n",
       "      <td>Jupyter Tutorial</td>\n",
       "      <td>en</td>\n",
       "      <td>4722</td>\n",
       "      <td>1825</td>\n",
       "      <td>3497</td>\n",
       "      <td>2576</td>\n",
       "      <td>4009</td>\n",
       "      <td>3707</td>\n",
       "    </tr>\n",
       "    <tr>\n",
       "      <th>2</th>\n",
       "      <td>PyViz Tutorial</td>\n",
       "      <td>de</td>\n",
       "      <td>2573</td>\n",
       "      <td>0</td>\n",
       "      <td>4873</td>\n",
       "      <td>0</td>\n",
       "      <td>3930</td>\n",
       "      <td>0</td>\n",
       "    </tr>\n",
       "    <tr>\n",
       "      <th>3</th>\n",
       "      <td>Python Basics</td>\n",
       "      <td>de</td>\n",
       "      <td>525</td>\n",
       "      <td>0</td>\n",
       "      <td>427</td>\n",
       "      <td>0</td>\n",
       "      <td>276</td>\n",
       "      <td>0</td>\n",
       "    </tr>\n",
       "    <tr>\n",
       "      <th>4</th>\n",
       "      <td>Python Basics</td>\n",
       "      <td>en</td>\n",
       "      <td>157</td>\n",
       "      <td>0</td>\n",
       "      <td>85</td>\n",
       "      <td>0</td>\n",
       "      <td>226</td>\n",
       "      <td>0</td>\n",
       "    </tr>\n",
       "  </tbody>\n",
       "</table>\n",
       "</div>"
      ],
      "text/plain": [
       "                  0   1      2     3      4     5      6     7\n",
       "0  Jupyter Tutorial  de  19651     0  30134     0  33295     0\n",
       "1  Jupyter Tutorial  en   4722  1825   3497  2576   4009  3707\n",
       "2    PyViz Tutorial  de   2573     0   4873     0   3930     0\n",
       "3     Python Basics  de    525     0    427     0    276     0\n",
       "4     Python Basics  en    157     0     85     0    226     0"
      ]
     },
     "execution_count": 52,
     "metadata": {},
     "output_type": "execute_result"
    }
   ],
   "source": [
    "df2.reset_index()"
   ]
  }
 ],
 "metadata": {
  "kernelspec": {
   "display_name": "Python 3.8",
   "language": "python",
   "name": "python-38"
  },
  "language_info": {
   "codemirror_mode": {
    "name": "ipython",
    "version": 3
   },
   "file_extension": ".py",
   "mimetype": "text/x-python",
   "name": "python",
   "nbconvert_exporter": "python",
   "pygments_lexer": "ipython3",
   "version": "3.8.12"
  }
 },
 "nbformat": 4,
 "nbformat_minor": 5
}
