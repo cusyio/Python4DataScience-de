{
 "cells": [
  {
   "cell_type": "markdown",
   "id": "4f45ee46",
   "metadata": {},
   "source": [
    "# Indexierung\n",
    "\n",
    "## Index-Objekte\n",
    "\n",
    "Die Index-Objekte von pandas sind für die Achsenbeschriftungen und andere Metadaten, wie den Achsennamen, verantwortlich. Jedes Array oder jede andere Sequenz von Beschriftungen, die ihr bei der Konstruktion einer Serie oder eines DataFrame verwendet, wird intern in einen Index umgewandelt:"
   ]
  },
  {
   "cell_type": "code",
   "execution_count": null,
   "id": "80986615",
   "metadata": {},
   "outputs": [],
   "source": [
    "import pandas as pd\n",
    "\n",
    "obj = pd.Series(range(7), index=pd.date_range(\"2022-02-02\", periods=7))"
   ]
  },
  {
   "cell_type": "code",
   "execution_count": null,
   "id": "9db5e88b",
   "metadata": {},
   "outputs": [],
   "source": [
    "obj.index"
   ]
  },
  {
   "cell_type": "code",
   "execution_count": null,
   "id": "f9bad58e",
   "metadata": {},
   "outputs": [],
   "source": [
    "obj.index[3:]"
   ]
  },
  {
   "cell_type": "markdown",
   "id": "7fbcdc7b",
   "metadata": {},
   "source": [
    "Indexobjekte sind unveränderlich (*immutable*) und können daher nicht geändert werden:"
   ]
  },
  {
   "cell_type": "code",
   "execution_count": null,
   "id": "8a66239e",
   "metadata": {},
   "outputs": [],
   "source": [
    "obj.index[1] = '2022-02-03'"
   ]
  },
  {
   "cell_type": "markdown",
   "id": "2f9014ac",
   "metadata": {},
   "source": [
    "Die Unveränderlichkeit macht die gemeinsame Nutzung von Indexobjekten in Datenstrukturen sicherer:"
   ]
  },
  {
   "cell_type": "code",
   "execution_count": null,
   "id": "596f7ab5",
   "metadata": {},
   "outputs": [],
   "source": [
    "import numpy as np\n",
    "\n",
    "labels = pd.Index(np.arange(3))\n",
    "\n",
    "labels"
   ]
  },
  {
   "cell_type": "code",
   "execution_count": null,
   "id": "4ff777aa",
   "metadata": {},
   "outputs": [],
   "source": [
    "obj2 = pd.Series(np.random.randn(3),index=labels)"
   ]
  },
  {
   "cell_type": "code",
   "execution_count": null,
   "id": "47d1a115",
   "metadata": {},
   "outputs": [],
   "source": [
    "obj2"
   ]
  },
  {
   "cell_type": "code",
   "execution_count": null,
   "id": "8f505533",
   "metadata": {},
   "outputs": [],
   "source": [
    "obj2.index is labels"
   ]
  },
  {
   "cell_type": "markdown",
   "id": "0ab8314c",
   "metadata": {},
   "source": [
    "Um einem Array ähnlich zu sein verhält sich ein Index auch wie eine Menge mit fester Größe:"
   ]
  },
  {
   "cell_type": "code",
   "execution_count": null,
   "id": "c76f6a7e",
   "metadata": {},
   "outputs": [],
   "source": [
    "data1 = {'Code': ['U+0000', 'U+0001', 'U+0002', 'U+0003', 'U+0004', 'U+0005'],\n",
    "         'Decimal': [0, 1, 2, 3, 4, 5],\n",
    "         'Octal': ['001', '002', '003', '004', '004', '005']}\n",
    "df1 = pd.DataFrame(data1)"
   ]
  },
  {
   "cell_type": "code",
   "execution_count": null,
   "id": "636912ea",
   "metadata": {},
   "outputs": [],
   "source": [
    "df1"
   ]
  },
  {
   "cell_type": "code",
   "execution_count": null,
   "id": "cd06caa2",
   "metadata": {},
   "outputs": [],
   "source": [
    "df1.columns"
   ]
  },
  {
   "cell_type": "code",
   "execution_count": null,
   "id": "91145cc6",
   "metadata": {},
   "outputs": [],
   "source": [
    "'Code' in df1.columns"
   ]
  },
  {
   "cell_type": "code",
   "execution_count": null,
   "id": "f7aab503",
   "metadata": {},
   "outputs": [],
   "source": [
    "'Key' in df1.columns"
   ]
  },
  {
   "cell_type": "markdown",
   "id": "f3111d2d",
   "metadata": {},
   "source": [
    "## Achsenindizes mit doppelten Labels\n",
    "\n",
    "Anders als Python-Sets kann ein Pandas-Index doppelte Label enthalten:"
   ]
  },
  {
   "cell_type": "code",
   "execution_count": null,
   "id": "28fc14ef",
   "metadata": {},
   "outputs": [],
   "source": [
    "data2 = {'Code': ['U+0006', 'U+0007'],\n",
    "        'Decimal': [6, 7],\n",
    "        'Octal': ['006', '007']}\n",
    "df2 = pd.DataFrame(data2)\n",
    "df12 = df1.append(df2)\n",
    "\n",
    "df12"
   ]
  },
  {
   "cell_type": "markdown",
   "id": "36a5bfa8",
   "metadata": {},
   "source": [
    "Bei der [Auswahl](select-filter.ipynb) von doppelten Bezeichnungen werden alle Vorkommen der betreffenden Bezeichnung ausgewählt:"
   ]
  },
  {
   "cell_type": "code",
   "execution_count": null,
   "id": "497d90d5",
   "metadata": {},
   "outputs": [],
   "source": [
    "df12.loc[1]"
   ]
  },
  {
   "cell_type": "code",
   "execution_count": null,
   "id": "e7eada23",
   "metadata": {},
   "outputs": [],
   "source": [
    "df12.loc[2]"
   ]
  },
  {
   "cell_type": "markdown",
   "id": "e9855e3d",
   "metadata": {},
   "source": [
    "Die Datenauswahl ist einer der Hauptpunkte, der sich bei Duplikaten anders verhält. Die Indizierung eines Labels mit mehreren Einträgen ergibt eine Serie, während einzelne Einträge einen Einzelwert ergeben. Dies kann euren Code komplizierter machen, da der Ausgabetyp der Indizierung je nachdem, ob ein Label wiederholt wird oder nicht, variieren kann. Zudem setzen viele Pandas-Funktionen, wie z.B. `reindex`, voraus, dass Label eindeutig sind. Anhand der Eigenschaft `is_unique` des Index könnt ihr feststellen, ob seine Label eindeutig sind oder nicht:"
   ]
  },
  {
   "cell_type": "code",
   "execution_count": null,
   "id": "b33c0d82",
   "metadata": {},
   "outputs": [],
   "source": [
    "df12.index.is_unique"
   ]
  },
  {
   "cell_type": "markdown",
   "id": "f656d655",
   "metadata": {},
   "source": [
    "Um doppelte Label zu vermeiden, könnt ihr z.B. `ignore_index=True` verwenden:"
   ]
  },
  {
   "cell_type": "code",
   "execution_count": null,
   "id": "9a4ac575",
   "metadata": {},
   "outputs": [],
   "source": [
    "df12 = df1.append(df2, ignore_index=True)\n",
    "\n",
    "df12"
   ]
  },
  {
   "cell_type": "markdown",
   "id": "e82888d3",
   "metadata": {},
   "source": [
    "## Einige Indexmethoden und -eigenschaften\n",
    "\n",
    "Jeder Index verfügt über eine Reihe von Methoden und Eigenschaften für die Mengenlogik, die andere allgemeine Fragen zu den darin enthaltenen Daten beantworten. Im folgenden einige nützliche Methoden und Eigenschaften:\n",
    "\n",
    "Methode | Beschreibung\n",
    ":------ | :-----------\n",
    "`append` | verkettet zusätzliche Indexobjekte, wodurch ein neuer Index entsteht\n",
    "`difference` | berechnet die Differenz zweier Mengen als Index\n",
    "`intersection` | berechnet die Schnittmenge\n",
    "`union` | berechnet die Vereinigungsmenge\n",
    "`isin` | berechnet ein boolesches Array, das angibt, ob jeder Wert in der übergebenen Sammlung enthalten ist\n",
    "`delete` | berechnet einen neuen Index, wobei das Element in Index `i` gelöscht wird\n",
    "`drop` | berechnet einen neuen Index durch Löschen der übergebenen Werte\n",
    "`insert` | berechnet neuen Index durch Einfügen des Elements in den Index `i`\n",
    "`is_monotonic` | gibt `True` zurück, wenn jedes Element größer oder gleich dem vorherigen Element ist\n",
    "`is_unique` | gibt `True` zurück, wenn der Index keine doppelten Werte enthält.\n",
    "`unique` | berechnet das Array der eindeutigen Werte im Index"
   ]
  },
  {
   "cell_type": "markdown",
   "id": "ae0c0c0e",
   "metadata": {},
   "source": [
    "## Neuindizierung mit `reindex`"
   ]
  },
  {
   "cell_type": "markdown",
   "id": "04891784",
   "metadata": {},
   "source": [
    "Eine wichtige Methode für Pandas-Objekte ist die Neuindizierung, d.h. die Erstellung eines neuen Objekts mit neu angeordneten Werten, die mit dem neuen Index übereinstimmen. Betrachtet z.B.:"
   ]
  },
  {
   "cell_type": "code",
   "execution_count": null,
   "id": "ef1faf91",
   "metadata": {},
   "outputs": [],
   "source": [
    "obj = pd.Series(range(7), index=pd.date_range(\"2022-02-02\", periods=7))"
   ]
  },
  {
   "cell_type": "code",
   "execution_count": null,
   "id": "56b038ba",
   "metadata": {},
   "outputs": [],
   "source": [
    "obj"
   ]
  },
  {
   "cell_type": "code",
   "execution_count": null,
   "id": "dbf8881e",
   "metadata": {},
   "outputs": [],
   "source": [
    "new_index = pd.date_range(\"2022-02-03\", periods=7)"
   ]
  },
  {
   "cell_type": "code",
   "execution_count": 22,
   "id": "d6120e4e",
   "metadata": {},
   "outputs": [
    {
     "data": {
      "text/plain": [
       "2022-02-03    1.0\n",
       "2022-02-04    2.0\n",
       "2022-02-05    3.0\n",
       "2022-02-06    4.0\n",
       "2022-02-07    5.0\n",
       "2022-02-08    6.0\n",
       "2022-02-09    NaN\n",
       "Freq: D, dtype: float64"
      ]
     },
     "execution_count": 22,
     "metadata": {},
     "output_type": "execute_result"
    }
   ],
   "source": [
    "obj.reindex(new_index)"
   ]
  },
  {
   "cell_type": "markdown",
   "id": "d9c427cc",
   "metadata": {},
   "source": [
    "`reindex` erstellt einen neuen Index und indiziert den DataFrame neu. Standardmäßig werden Werte im neuen Index, für die es keine entsprechenden Datensätze im DataFrame gibt, zu `NaN`."
   ]
  },
  {
   "cell_type": "markdown",
   "id": "6c0c4fe6",
   "metadata": {},
   "source": [
    "Bei geordneten Daten wie Zeitreihen kann es wünschenswert sein, bei der Neuindizierung Werte zu interpolieren oder zu füllen. Die Option `method` ermöglicht dies mit einer Methode wie `ffill`, die die Werte vorwärts füllt:"
   ]
  },
  {
   "cell_type": "code",
   "execution_count": null,
   "id": "96b166fb",
   "metadata": {},
   "outputs": [],
   "source": [
    "obj.reindex(new_index, method='ffill')"
   ]
  },
  {
   "cell_type": "markdown",
   "id": "fed00121",
   "metadata": {},
   "source": [
    "Bei einem DataFrame kann `reindex` entweder den (Zeilen-)Index, die Spalten oder beides ändern. Wenn nur eine Sequenz übergeben wird, werden die Zeilen im Ergebnis neu indiziert:"
   ]
  },
  {
   "cell_type": "code",
   "execution_count": null,
   "id": "5fd7d2ec",
   "metadata": {},
   "outputs": [],
   "source": [
    "df1.reindex(range(7))"
   ]
  },
  {
   "cell_type": "markdown",
   "id": "65df301d",
   "metadata": {},
   "source": [
    "Die Spalten können mit dem Schlüsselwort `columns` neu indiziert werden:"
   ]
  },
  {
   "cell_type": "code",
   "execution_count": null,
   "id": "1e559ecc",
   "metadata": {},
   "outputs": [],
   "source": [
    "encoding = ['Octal', 'Code', 'Description']\n",
    "\n",
    "df1.reindex(columns=encoding)"
   ]
  },
  {
   "cell_type": "markdown",
   "id": "170ad52f",
   "metadata": {},
   "source": [
    "### Argumente der Funktion `reindex`\n",
    "\n",
    "Argument | Beschreibung\n",
    ":------- | :-----------\n",
    "`labels` | Neue Sequenz, die als Index verwendet werden soll. Kann eine Index-Instanz oder eine andere sequenzähnliche Python-Datenstruktur sein. Ein Index wird genau so verwendet, wie er ist, ohne dass er kopiert wird.\n",
    "`axis` | Die neu zu indizierende Achse, entweder `index` (Zeilen) oder `columns` (Spalten). Die Vorgabe ist `index`. Ihr könnt alternativ `reindex(index=new_labels)` oder `reindex(columns=new_labels)` verwenden.\n",
    "`method` | Interpolationsmethode; `ffill` füllt vorwärts, während `bfill` rückwärts füllt.\n",
    "`fill_value` | Ersatzwert, der zu verwenden ist, wenn fehlende Daten durch Neuindizierung eingefügt werden. Verwendet `fill_value='missing'` (das Standardverhalten), wenn die fehlenden Bezeichnungen im Ergebnis Nullwerte haben sollen.\n",
    "`limit` |  Beim Vorwärts- oder Rückwärtsfüllen die maximale Anzahl der zu füllenden Elemente.\n",
    "`tolerance` | Beim Vorwärts- oder Rückwärtsauffüllen die maximale Größe der Lücke, die bei ungenauen Übereinstimmungen gefüllt werden soll.\n",
    "`level` |  Einfachen Index auf Ebene von `MultiIndex` abgleichen; andernfalls Teilmenge auswählen.\n",
    "`copy` | Wenn `True`, werden die zugrunde liegenden Daten immer kopiert, auch wenn der neue Index dem alten Index entspricht; wenn `False`, werden die Daten nicht kopiert, wenn die Indizes gleichwertig sind."
   ]
  },
  {
   "cell_type": "markdown",
   "id": "139a7059",
   "metadata": {},
   "source": [
    "## Achsenindizes umbenennen\n",
    "\n",
    "Die Achsenbeschriftungen können durch eine Funktion oder ein Mapping umgewandelt werden, um neue, anders beschriftete Objekte zu erzeugen. Ihr könnt auch die Achsen an Ort und Stelle ändern, ohne eine neue Datenstruktur zu erstellen. Hier ist ein einfaches Beispiel:"
   ]
  },
  {
   "cell_type": "code",
   "execution_count": null,
   "id": "b2e5045d",
   "metadata": {},
   "outputs": [],
   "source": [
    "df3 = pd.DataFrame(np.arange(12).reshape((3, 4)),\n",
    "                   index=['Deutsch', 'English', 'Français'],\n",
    "                   columns=[1,2,3,4])\n",
    "\n",
    "df3"
   ]
  },
  {
   "cell_type": "markdown",
   "id": "4fab6848",
   "metadata": {},
   "source": [
    "### Achsenindizes umbenennen mit `map`"
   ]
  },
  {
   "cell_type": "markdown",
   "id": "0a56efe9",
   "metadata": {},
   "source": [
    "Wie `Series` haben auch die Achsenindizes eine `map`-Methode:"
   ]
  },
  {
   "cell_type": "code",
   "execution_count": null,
   "id": "ad4caaf7",
   "metadata": {},
   "outputs": [],
   "source": [
    "transform = lambda x: x[:2].upper()\n",
    "\n",
    "df3.index.map(transform)"
   ]
  },
  {
   "cell_type": "markdown",
   "id": "4ea516cd",
   "metadata": {},
   "source": [
    "Ihr könnt den Index zuweisen und den DataFrame an Ort und Stelle ändern:"
   ]
  },
  {
   "cell_type": "code",
   "execution_count": null,
   "id": "7cd48cf7",
   "metadata": {},
   "outputs": [],
   "source": [
    "df3.index = df3.index.map(transform)\n",
    "\n",
    "df3"
   ]
  },
  {
   "cell_type": "markdown",
   "id": "01537fef",
   "metadata": {},
   "source": [
    "### Achsenindizes umbenennen mit `rename`"
   ]
  },
  {
   "cell_type": "markdown",
   "id": "52ff53e8",
   "metadata": {},
   "source": [
    "Wenn ihr eine umgewandelte Version eures Datensatzes erstellen möchtet ohne das Original zu verändern, könnt ihr `rename` verwenden:"
   ]
  },
  {
   "cell_type": "code",
   "execution_count": null,
   "id": "8c6ae5c0",
   "metadata": {},
   "outputs": [],
   "source": [
    "df3.rename(index=str.lower)"
   ]
  },
  {
   "cell_type": "markdown",
   "id": "2d859fbb",
   "metadata": {},
   "source": [
    "Insbesondere kann `rename` in Verbindung mit einem `dict`-ähnlichen Objekt verwendet werden, das neue Werte für eine Teilmenge der Achsenbeschriftungen liefert:"
   ]
  },
  {
   "cell_type": "code",
   "execution_count": null,
   "id": "084be166",
   "metadata": {},
   "outputs": [],
   "source": [
    "df3.rename(index={'DE': 'BE', 'EN': 'DE', 'FR': 'EN'},\n",
    "           columns={1: 0, 2: 1, 3: 2,  4: 3})"
   ]
  },
  {
   "cell_type": "markdown",
   "id": "359c3066",
   "metadata": {},
   "source": [
    "`rename` erspart euch das manuelle Kopieren des DataFrame und die Zuweisung seiner Index- und Spaltenattribute. Wenn ihr einen Datensatz an Ort und Stelle ändern möchtet, übergebt zusätzlich noch `inplace=True`:"
   ]
  },
  {
   "cell_type": "code",
   "execution_count": null,
   "id": "cb73bfb1",
   "metadata": {},
   "outputs": [],
   "source": [
    "df3.rename(index={'DE': 'BE', 'EN': 'DE', 'FR': 'EN'},\n",
    "           columns={1: 0, 2: 1, 3: 2,  4: 3},\n",
    "           inplace=True)\n",
    "\n",
    "df3"
   ]
  },
  {
   "cell_type": "markdown",
   "id": "32e3c948",
   "metadata": {},
   "source": [
    "## Hierarchische Indizierung\n",
    "\n",
    "Die hierarchische Indizierung ist eine wichtige Funktion von pandas, die euch ermöglicht, mehrere Indexebenen auf einer Achse zu haben. Dies bietet euch die Möglichkeit, mit höherdimensionalen Daten in einer niedrigdimensionalen Form zu arbeiten.\n",
    "\n",
    "Beginnen wir mit einem einfachen Beispiel: Erstellen wir eine Reihe Liste von Listen als Index:"
   ]
  },
  {
   "cell_type": "code",
   "execution_count": null,
   "id": "1a03410c",
   "metadata": {},
   "outputs": [],
   "source": [
    "hits = pd.Series([83080,20336,11376,1228,468],\n",
    "                 index=[['Jupyter Tutorial',\n",
    "                         'Jupyter Tutorial',\n",
    "                         'PyViz Tutorial',\n",
    "                         'Python Basics',\n",
    "                         'Python Basics'],\n",
    "                        ['de', 'en', 'de', 'de', 'en']])\n",
    "\n",
    "hits"
   ]
  },
  {
   "cell_type": "markdown",
   "id": "3f6fb556",
   "metadata": {},
   "source": [
    "Was ihr seht, ist eine graphische Ansicht einer Serie mit einem [pandas.MultiIndex](https://pandas.pydata.org/docs/reference/api/pandas.MultiIndex.html). Die „Lücken“ in der Indexanzeige bedeuten, dass die Beschriftung darüber verwendet werden soll."
   ]
  },
  {
   "cell_type": "code",
   "execution_count": null,
   "id": "6c6822fc",
   "metadata": {},
   "outputs": [],
   "source": [
    "hits.index"
   ]
  },
  {
   "cell_type": "markdown",
   "id": "b6f9ae53",
   "metadata": {},
   "source": [
    "Bei einem hierarchisch indizierten Objekt ist eine so genannte partielle Indizierung möglich, mit der ihr Teilmengen der Daten gezielt auswählen könnt:"
   ]
  },
  {
   "cell_type": "code",
   "execution_count": null,
   "id": "f59f6b7e",
   "metadata": {},
   "outputs": [],
   "source": [
    "hits['Jupyter Tutorial']"
   ]
  },
  {
   "cell_type": "code",
   "execution_count": null,
   "id": "660f6282",
   "metadata": {},
   "outputs": [],
   "source": [
    "hits['Jupyter Tutorial':'Python Basics']"
   ]
  },
  {
   "cell_type": "code",
   "execution_count": null,
   "id": "46530491",
   "metadata": {},
   "outputs": [],
   "source": [
    "hits.loc[['Jupyter Tutorial', 'Python Basics']]"
   ]
  },
  {
   "cell_type": "markdown",
   "id": "3b0bef0a",
   "metadata": {},
   "source": [
    "Die Auswahl ist sogar von einer „inneren“ Ebene aus möglich. Im folgenden wähle ich alle Werte mit dem Wert `1` aus der zweiten Indexebene aus:"
   ]
  },
  {
   "cell_type": "code",
   "execution_count": null,
   "id": "bd3e7a10",
   "metadata": {},
   "outputs": [],
   "source": [
    "hits.loc[:, 'de']"
   ]
  },
  {
   "cell_type": "markdown",
   "id": "7170a2b8",
   "metadata": {},
   "source": [
    "Bei einem DataFrame kann jede Achse einen hierarchischen Index haben:"
   ]
  },
  {
   "cell_type": "code",
   "execution_count": null,
   "id": "28af987e",
   "metadata": {},
   "outputs": [],
   "source": [
    "version_hits = [[19651,0,30134,0,33295,0],\n",
    "                [4722,1825,3497,2576,4009,3707],\n",
    "                [2573,0,4873,0,3930,0],\n",
    "                [525,0,427,0,276,0],\n",
    "                [157,0,85,0,226,0]]\n",
    "\n",
    "df = pd.DataFrame(version_hits,\n",
    "                  index=[['Jupyter Tutorial',\n",
    "                          'Jupyter Tutorial',\n",
    "                          'PyViz Tutorial',\n",
    "                          'Python Basics',\n",
    "                          'Python Basics'],\n",
    "                         ['de', 'en', 'de', 'de', 'en']],\n",
    "                  columns=[['12/2021', '12/2021',\n",
    "                            '01/2022', '01/2022', \n",
    "                            '02/2022', '02/2022'],\n",
    "                           ['latest', 'stable',\n",
    "                            'latest', 'stable',\n",
    "                            'latest', 'stable']])\n",
    "\n",
    "df"
   ]
  },
  {
   "cell_type": "markdown",
   "id": "699b27a8",
   "metadata": {},
   "source": [
    "Die Hierarchieebenen können Namen haben (als Zeichenketten oder beliebige Python-Objekte). Wenn dies der Fall ist, werden diese in der Konsolenausgabe angezeigt:"
   ]
  },
  {
   "cell_type": "code",
   "execution_count": null,
   "id": "e7fd650d",
   "metadata": {},
   "outputs": [],
   "source": [
    "df.index.names = ['Title', 'Language']\n",
    "df.columns.names = ['Month', 'Version']\n",
    "\n",
    "df"
   ]
  },
  {
   "cell_type": "markdown",
   "id": "7de31d9b",
   "metadata": {},
   "source": [
    "<div class=\"alert alert-block alert-warning\">\n",
    "\n",
    "**Warnung:**\n",
    "\n",
    "Achtet darauf, dass die Indexnamen `Month` und `Version` nicht Teil der Zeilenbezeichnungen (der `df.index`-Werte) sind.\n",
    "</div>"
   ]
  },
  {
   "cell_type": "markdown",
   "id": "954d25b6",
   "metadata": {},
   "source": [
    "Mit [pandas.MultiIndex.from_arrays](https://pandas.pydata.org/docs/reference/api/pandas.MultiIndex.from_arrays.html) kann selbst ein `MultiIndex` erstellt und dann wiederverwendet werden; die Spalten im vorangehenden DataFrame mit Ebenennamen könnten so erstellt werden:"
   ]
  },
  {
   "cell_type": "code",
   "execution_count": null,
   "id": "f0880625",
   "metadata": {},
   "outputs": [],
   "source": [
    "pd.MultiIndex.from_arrays([['Jupyter Tutorial',\n",
    "                            'Jupyter Tutorial',\n",
    "                            'PyViz Tutorial',\n",
    "                            'Python Basics',\n",
    "                            'Python Basics'],\n",
    "                           ['de', 'en', 'de', 'de', 'en']],\n",
    "                          names=['Title', 'Language'])"
   ]
  },
  {
   "cell_type": "markdown",
   "id": "e39fed36",
   "metadata": {},
   "source": [
    "Mit der Teilspaltenindizierung könnt ihr auf ähnliche Weise Spaltengruppen auswählen:"
   ]
  },
  {
   "cell_type": "code",
   "execution_count": null,
   "id": "d10d4f42",
   "metadata": {},
   "outputs": [],
   "source": [
    "df.loc['Jupyter Tutorial']"
   ]
  },
  {
   "cell_type": "code",
   "execution_count": null,
   "id": "712c6d1d",
   "metadata": {},
   "outputs": [],
   "source": [
    "df.loc['PyViz Tutorial':'Python Basics']"
   ]
  },
  {
   "cell_type": "markdown",
   "id": "a6f861ad",
   "metadata": {},
   "source": [
    "`loc` mit Liste von Tupeln:"
   ]
  },
  {
   "cell_type": "code",
   "execution_count": null,
   "id": "479cbbde",
   "metadata": {},
   "outputs": [],
   "source": [
    "df.loc[[('Jupyter Tutorial', 'de'), ('PyViz Tutorial', 'de')]]"
   ]
  },
  {
   "cell_type": "markdown",
   "id": "d05625c8",
   "metadata": {},
   "source": [
    "`loc` mit Liste des zweiten Spaltenindex:"
   ]
  },
  {
   "cell_type": "code",
   "execution_count": null,
   "id": "a14718e6",
   "metadata": {},
   "outputs": [],
   "source": [
    "df.loc[:, ['de'], :]"
   ]
  },
  {
   "cell_type": "markdown",
   "id": "789990de",
   "metadata": {},
   "source": [
    "Verwenden von `slice`:"
   ]
  },
  {
   "cell_type": "code",
   "execution_count": null,
   "id": "fd6a9a4a",
   "metadata": {},
   "outputs": [],
   "source": [
    "df.loc[slice('Jupyter Tutorial'), :]"
   ]
  },
  {
   "cell_type": "code",
   "execution_count": null,
   "id": "4a33a558",
   "metadata": {},
   "outputs": [],
   "source": [
    "df.loc[slice('Jupyter Tutorial', 'PyViz Tutorial'), :]"
   ]
  },
  {
   "cell_type": "code",
   "execution_count": null,
   "id": "b1b22f34",
   "metadata": {},
   "outputs": [],
   "source": [
    "df.loc[slice('Jupyter Tutorial', 'PyViz Tutorial'), '12/2021']"
   ]
  },
  {
   "cell_type": "markdown",
   "id": "8af7f0ef",
   "metadata": {},
   "source": [
    "Verwenden von `slice`, und Listen:"
   ]
  },
  {
   "cell_type": "code",
   "execution_count": null,
   "id": "d597ec7d",
   "metadata": {},
   "outputs": [],
   "source": [
    "df.loc[slice('Jupyter Tutorial', 'PyViz Tutorial'), ['de'], :]"
   ]
  },
  {
   "cell_type": "markdown",
   "id": "ccf2f979",
   "metadata": {},
   "source": [
    "## Ansicht vs. Kopie\n",
    "\n",
    "In Pandas hängt es von der Struktur und den Datentypen des ursprünglichen DataFrame ab, ob ihr einen View erhaltet oder nicht – und ob Änderungen, die an einem View vorgenommen werden, in den ursprünglichen DataFrame zurück übertragen werden."
   ]
  },
  {
   "cell_type": "markdown",
   "id": "c2226f83",
   "metadata": {},
   "source": [
    "<div class=\\\"alert alert-block alert-info\\\">\n",
    "    \n",
    "**Siehe auch:**\n",
    "\n",
    "* [Returning a view versus a copy](https://pandas.pydata.org/pandas-docs/stable/user_guide/indexing.html#returning-a-view-versus-a-copy)\n",
    "* [Views and Copies in pandas](https://www.practicaldatascience.org/html/views_and_copies_in_pandas.html)\n",
    "\n",
    "</div>"
   ]
  },
  {
   "cell_type": "markdown",
   "id": "0ce285b0",
   "metadata": {},
   "source": [
    "### `stack` und `unstack`"
   ]
  },
  {
   "cell_type": "markdown",
   "id": "fa5bc992",
   "metadata": {},
   "source": [
    "Die hierarchische Indizierung spielt eine wichtige Rolle bei der Umformung von Daten und gruppenbasierten Operationen wie der Bildung einer [Pivot-Tabelle](https://de.wikipedia.org/wiki/Pivot-Tabelle). Zum Beispiel könnt ihr diese Daten mit der [pandas.Series.unstack](https://pandas.pydata.org/pandas-docs/stable/reference/api/pandas.Series.unstack.html)-Methode in einen DataFrame umordnen:"
   ]
  },
  {
   "cell_type": "code",
   "execution_count": null,
   "id": "40ddf650",
   "metadata": {},
   "outputs": [],
   "source": [
    "hits.unstack()"
   ]
  },
  {
   "cell_type": "markdown",
   "id": "c0bb185b",
   "metadata": {},
   "source": [
    "Die umgekehrte Operation von unstack ist [stack](https://pandas.pydata.org/pandas-docs/stable/reference/api/pandas.DataFrame.stack.html):"
   ]
  },
  {
   "cell_type": "code",
   "execution_count": null,
   "id": "f80fc1cb",
   "metadata": {},
   "outputs": [],
   "source": [
    "hits.unstack().stack()"
   ]
  },
  {
   "cell_type": "markdown",
   "id": "206164b3",
   "metadata": {},
   "source": [
    "### Umordnen und Sortieren von Ebenen\n",
    "\n",
    "Es kann vorkommen, dass ihr die Reihenfolge der Ebenen auf einer Achse neu anordnen oder die Daten nach den Werten in einer bestimmten Ebene sortieren wollt. Die Funktion [pandas.DataFrame.swaplevel](https://pandas.pydata.org/docs/reference/api/pandas.DataFrame.swaplevel.html) nimmt zwei Ebenennummern oder -namen entgegen und gibt ein neues Objekt zurück, in dem die Ebenen vertauscht sind (die Daten bleiben jedoch unverändert):"
   ]
  },
  {
   "cell_type": "code",
   "execution_count": null,
   "id": "2eff5ed8",
   "metadata": {},
   "outputs": [],
   "source": [
    "df.swaplevel('Language', 'Title')"
   ]
  },
  {
   "cell_type": "markdown",
   "id": "10929420",
   "metadata": {},
   "source": [
    "[pandas.DataFrame.sort_index](https://pandas.pydata.org/docs/reference/api/pandas.DataFrame.sort_index.html) hingegen sortiert die Daten nur nach den Werten in einer einzigen Ebene. Beim Vertauschen von Ebenen ist es nicht unüblich, auch `sort_index` zu verwenden, damit das Ergebnis lexikografisch nach der angegebenen Ebene sortiert wird:"
   ]
  },
  {
   "cell_type": "code",
   "execution_count": null,
   "id": "e2113e00",
   "metadata": {},
   "outputs": [],
   "source": [
    "df.sort_index(level=0)"
   ]
  },
  {
   "cell_type": "code",
   "execution_count": null,
   "id": "c4c32ef2",
   "metadata": {},
   "outputs": [],
   "source": [
    "df.swaplevel(0, 1).sort_index(level=0)"
   ]
  },
  {
   "cell_type": "markdown",
   "id": "95a5f2dc",
   "metadata": {},
   "source": [
    "<div class=\"alert alert-block alert-info\">\n",
    "\n",
    "**Hinweis:**\n",
    "\n",
    "Die Leistung der Datenauswahl ist bei hierarchisch indizierten Objekten wesentlich besser, wenn der Index lexikografisch sortiert ist, beginnend mit der äußersten Ebene, d.h. dem Ergebnis des Aufrufs von `sort_index(level=0)` oder `sort_index()`.\n",
    "</div>"
   ]
  },
  {
   "cell_type": "markdown",
   "id": "4833f262",
   "metadata": {},
   "source": [
    "### Zusammenfassende Statistiken nach Ebene\n",
    "\n",
    "Viele deskriptive und zusammenfassende Statistiken für `DataFrame` und `Series` verfügen über eine Ebenenoption, mit der die Ebene angeben können, nach der ihr auf einer bestimmten Achse aggregieren könnt. Betrachtet den obigen `DataFrame`; wir können entweder die Zeilen oder die Spalten nach der Ebene aggregieren wie folgt:"
   ]
  },
  {
   "cell_type": "code",
   "execution_count": null,
   "id": "b56a8cb8",
   "metadata": {},
   "outputs": [],
   "source": [
    "df.groupby(level='Language').sum()"
   ]
  },
  {
   "cell_type": "code",
   "execution_count": null,
   "id": "891da22d",
   "metadata": {},
   "outputs": [],
   "source": [
    "df.groupby(level='Month', axis=1).sum()"
   ]
  },
  {
   "cell_type": "markdown",
   "id": "03ba57fe",
   "metadata": {},
   "source": [
    "Intern wird dazu die [pandas.DataFrame.groupby](https://pandas.pydata.org/docs/reference/api/pandas.DataFrame.groupby.html)-Maschinerie von Pandas verwendet, die in [Gruppenoperationen](group-operations.ipynb) näher erläutert wird."
   ]
  },
  {
   "cell_type": "markdown",
   "id": "0a1ce4bc",
   "metadata": {},
   "source": [
    "### Indizierung mit den Spalten eines DataFrame\n",
    "\n",
    "Es ist nicht ungewöhnlich, eine oder mehrere Spalten eines DataFrame als Zeilenindex zu verwenden; alternativ könnt ihr den Zeilenindex auch in die Spalten des DataFrame verschieben. Hier ist ein Beispiel-DataFrame:"
   ]
  },
  {
   "cell_type": "code",
   "execution_count": null,
   "id": "29ce64be",
   "metadata": {},
   "outputs": [],
   "source": [
    "data = [['Jupyter Tutorial', 'de', 19651,0,30134,0,33295,0],\n",
    "        ['Jupyter Tutorial', 'en', 4722,1825,3497,2576,4009,3707],\n",
    "        ['PyViz Tutorial', 'de', 2573,0,4873,0,3930,0],\n",
    "        ['Python Basics', 'de', 525,0,427,0,276,0],\n",
    "        ['Python Basics', 'en', 157,0,85,0,226,0]]\n",
    "    \n",
    "df = pd.DataFrame(data)\n",
    "\n",
    "df"
   ]
  },
  {
   "cell_type": "markdown",
   "id": "dec963df",
   "metadata": {},
   "source": [
    "Die Funktion [pandas.DataFrame.set_index](https://pandas.pydata.org/docs/reference/api/pandas.DataFrame.set_index.html) erstellt einen neuen DataFrame, der eine oder mehrere seiner Spalten als Index verwendet:"
   ]
  },
  {
   "cell_type": "code",
   "execution_count": null,
   "id": "3ce346c5",
   "metadata": {},
   "outputs": [],
   "source": [
    "df2 = df.set_index([0,1])\n",
    "\n",
    "df2"
   ]
  },
  {
   "cell_type": "markdown",
   "id": "5a441aa3",
   "metadata": {},
   "source": [
    "Standardmäßig werden die Spalten aus dem DataFrame entfernt, Ihr könnt sie aber auch drin lassen, indem ihr `drop=False` an `set_index` übergebt:"
   ]
  },
  {
   "cell_type": "code",
   "execution_count": null,
   "id": "34d5c0a5",
   "metadata": {},
   "outputs": [],
   "source": [
    "df.set_index([0,1], drop=False)"
   ]
  },
  {
   "cell_type": "markdown",
   "id": "40abeb1e",
   "metadata": {},
   "source": [
    "[pandas.DataFrame.reset_index](https://pandas.pydata.org/docs/reference/api/pandas.DataFrame.reset_index.html) hingegen bewirkt das Gegenteil von `set_index`; die hierarchischen Indexebenen werden in die Spalten verschoben:"
   ]
  },
  {
   "cell_type": "code",
   "execution_count": null,
   "id": "9eed3e06",
   "metadata": {},
   "outputs": [],
   "source": [
    "df2.reset_index()"
   ]
  }
 ],
 "metadata": {
  "kernelspec": {
   "display_name": "Python 3.8",
   "language": "python",
   "name": "python-38"
  },
  "language_info": {
   "codemirror_mode": {
    "name": "ipython",
    "version": 3
   },
   "file_extension": ".py",
   "mimetype": "text/x-python",
   "name": "python",
   "nbconvert_exporter": "python",
   "pygments_lexer": "ipython3",
   "version": "3.8.12"
  }
 },
 "nbformat": 4,
 "nbformat_minor": 5
}
