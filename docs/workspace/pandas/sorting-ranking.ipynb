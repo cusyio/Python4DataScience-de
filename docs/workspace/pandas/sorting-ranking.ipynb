{
 "cells": [
  {
   "cell_type": "markdown",
   "id": "3f90ea29",
   "metadata": {},
   "source": [
    "# Sortieren und Ranking\n",
    "\n",
    "Das Sortieren eines Datensatzes nach einem Kriterium ist eine weitere wichtige eingebaute Funktion. Um lexikografisch nach Zeilen- oder Spaltenindex zu sortieren, verwendet die Methoden [pandas.Series.sort_index](https://pandas.pydata.org/docs/reference/api/pandas.Series.sort_index.html) oder [pandas.DataFrame.sort_index](https://pandas.pydata.org/docs/reference/api/pandas.DataFrame.sort_index.html), die ein neues, sortiertes Objekt zurückgibt. Mit `ascending=False` wird die Sortierreihenfolge umgekehrt:"
   ]
  },
  {
   "cell_type": "code",
   "execution_count": 1,
   "id": "494c8d07",
   "metadata": {},
   "outputs": [
    {
     "data": {
      "text/plain": [
       "6    0.681477\n",
       "5    0.259093\n",
       "4   -0.877553\n",
       "3    0.539592\n",
       "2    1.246258\n",
       "1   -0.586841\n",
       "0    0.392347\n",
       "dtype: float64"
      ]
     },
     "execution_count": 1,
     "metadata": {},
     "output_type": "execute_result"
    }
   ],
   "source": [
    "import numpy as np\n",
    "import pandas as pd\n",
    "\n",
    "\n",
    "s = pd.Series(np.random.randn(7))\n",
    "\n",
    "s.sort_index(ascending=False)"
   ]
  },
  {
   "cell_type": "markdown",
   "id": "cc386834",
   "metadata": {},
   "source": [
    "Um eine Serie nach ihren Werten zu sortieren, könnt ihr die `sort_values`-Methode verwenden:"
   ]
  },
  {
   "cell_type": "code",
   "execution_count": 2,
   "id": "fadf1cd3",
   "metadata": {},
   "outputs": [
    {
     "data": {
      "text/plain": [
       "4   -0.877553\n",
       "1   -0.586841\n",
       "5    0.259093\n",
       "0    0.392347\n",
       "3    0.539592\n",
       "6    0.681477\n",
       "2    1.246258\n",
       "dtype: float64"
      ]
     },
     "execution_count": 2,
     "metadata": {},
     "output_type": "execute_result"
    }
   ],
   "source": [
    "s.sort_values()"
   ]
  },
  {
   "cell_type": "markdown",
   "id": "70aa0dfe",
   "metadata": {},
   "source": [
    "Alle fehlenden Werte werden standardmäßig an das Ende der Reihe sortiert:"
   ]
  },
  {
   "cell_type": "code",
   "execution_count": 3,
   "id": "ac6aac28",
   "metadata": {},
   "outputs": [
    {
     "data": {
      "text/plain": [
       "0    0.179928\n",
       "3    0.565061\n",
       "2    0.954890\n",
       "6    1.017703\n",
       "4    3.932341\n",
       "1         NaN\n",
       "5         NaN\n",
       "dtype: float64"
      ]
     },
     "execution_count": 3,
     "metadata": {},
     "output_type": "execute_result"
    }
   ],
   "source": [
    "s = pd.Series(np.random.randn(7))\n",
    "s[s < 0] = np.nan\n",
    "\n",
    "s.sort_values()"
   ]
  },
  {
   "cell_type": "markdown",
   "id": "375693b4",
   "metadata": {},
   "source": [
    "Mit einem DataFrame können ihr auf beiden Achsen nach Index sortieren:"
   ]
  },
  {
   "cell_type": "code",
   "execution_count": 4,
   "id": "7c8c1daf",
   "metadata": {},
   "outputs": [
    {
     "data": {
      "text/html": [
       "<div>\n",
       "<style scoped>\n",
       "    .dataframe tbody tr th:only-of-type {\n",
       "        vertical-align: middle;\n",
       "    }\n",
       "\n",
       "    .dataframe tbody tr th {\n",
       "        vertical-align: top;\n",
       "    }\n",
       "\n",
       "    .dataframe thead th {\n",
       "        text-align: right;\n",
       "    }\n",
       "</style>\n",
       "<table border=\"1\" class=\"dataframe\">\n",
       "  <thead>\n",
       "    <tr style=\"text-align: right;\">\n",
       "      <th></th>\n",
       "      <th>0</th>\n",
       "      <th>1</th>\n",
       "      <th>2</th>\n",
       "    </tr>\n",
       "  </thead>\n",
       "  <tbody>\n",
       "    <tr>\n",
       "      <th>0</th>\n",
       "      <td>0.580062</td>\n",
       "      <td>-1.583831</td>\n",
       "      <td>-0.484063</td>\n",
       "    </tr>\n",
       "    <tr>\n",
       "      <th>1</th>\n",
       "      <td>0.413304</td>\n",
       "      <td>-1.005881</td>\n",
       "      <td>-0.580430</td>\n",
       "    </tr>\n",
       "    <tr>\n",
       "      <th>2</th>\n",
       "      <td>0.166762</td>\n",
       "      <td>-0.635044</td>\n",
       "      <td>-0.407102</td>\n",
       "    </tr>\n",
       "    <tr>\n",
       "      <th>3</th>\n",
       "      <td>0.206200</td>\n",
       "      <td>0.615862</td>\n",
       "      <td>-1.561290</td>\n",
       "    </tr>\n",
       "    <tr>\n",
       "      <th>4</th>\n",
       "      <td>0.863733</td>\n",
       "      <td>1.282648</td>\n",
       "      <td>0.087279</td>\n",
       "    </tr>\n",
       "    <tr>\n",
       "      <th>5</th>\n",
       "      <td>0.261991</td>\n",
       "      <td>-0.544270</td>\n",
       "      <td>-0.396647</td>\n",
       "    </tr>\n",
       "    <tr>\n",
       "      <th>6</th>\n",
       "      <td>1.194072</td>\n",
       "      <td>-0.703340</td>\n",
       "      <td>-1.313653</td>\n",
       "    </tr>\n",
       "  </tbody>\n",
       "</table>\n",
       "</div>"
      ],
      "text/plain": [
       "          0         1         2\n",
       "0  0.580062 -1.583831 -0.484063\n",
       "1  0.413304 -1.005881 -0.580430\n",
       "2  0.166762 -0.635044 -0.407102\n",
       "3  0.206200  0.615862 -1.561290\n",
       "4  0.863733  1.282648  0.087279\n",
       "5  0.261991 -0.544270 -0.396647\n",
       "6  1.194072 -0.703340 -1.313653"
      ]
     },
     "execution_count": 4,
     "metadata": {},
     "output_type": "execute_result"
    }
   ],
   "source": [
    "df = pd.DataFrame(np.random.randn(7, 3))\n",
    "\n",
    "df"
   ]
  },
  {
   "cell_type": "code",
   "execution_count": 5,
   "id": "b6ce411c",
   "metadata": {},
   "outputs": [
    {
     "data": {
      "text/html": [
       "<div>\n",
       "<style scoped>\n",
       "    .dataframe tbody tr th:only-of-type {\n",
       "        vertical-align: middle;\n",
       "    }\n",
       "\n",
       "    .dataframe tbody tr th {\n",
       "        vertical-align: top;\n",
       "    }\n",
       "\n",
       "    .dataframe thead th {\n",
       "        text-align: right;\n",
       "    }\n",
       "</style>\n",
       "<table border=\"1\" class=\"dataframe\">\n",
       "  <thead>\n",
       "    <tr style=\"text-align: right;\">\n",
       "      <th></th>\n",
       "      <th>0</th>\n",
       "      <th>1</th>\n",
       "      <th>2</th>\n",
       "    </tr>\n",
       "  </thead>\n",
       "  <tbody>\n",
       "    <tr>\n",
       "      <th>6</th>\n",
       "      <td>1.194072</td>\n",
       "      <td>-0.703340</td>\n",
       "      <td>-1.313653</td>\n",
       "    </tr>\n",
       "    <tr>\n",
       "      <th>5</th>\n",
       "      <td>0.261991</td>\n",
       "      <td>-0.544270</td>\n",
       "      <td>-0.396647</td>\n",
       "    </tr>\n",
       "    <tr>\n",
       "      <th>4</th>\n",
       "      <td>0.863733</td>\n",
       "      <td>1.282648</td>\n",
       "      <td>0.087279</td>\n",
       "    </tr>\n",
       "    <tr>\n",
       "      <th>3</th>\n",
       "      <td>0.206200</td>\n",
       "      <td>0.615862</td>\n",
       "      <td>-1.561290</td>\n",
       "    </tr>\n",
       "    <tr>\n",
       "      <th>2</th>\n",
       "      <td>0.166762</td>\n",
       "      <td>-0.635044</td>\n",
       "      <td>-0.407102</td>\n",
       "    </tr>\n",
       "    <tr>\n",
       "      <th>1</th>\n",
       "      <td>0.413304</td>\n",
       "      <td>-1.005881</td>\n",
       "      <td>-0.580430</td>\n",
       "    </tr>\n",
       "    <tr>\n",
       "      <th>0</th>\n",
       "      <td>0.580062</td>\n",
       "      <td>-1.583831</td>\n",
       "      <td>-0.484063</td>\n",
       "    </tr>\n",
       "  </tbody>\n",
       "</table>\n",
       "</div>"
      ],
      "text/plain": [
       "          0         1         2\n",
       "6  1.194072 -0.703340 -1.313653\n",
       "5  0.261991 -0.544270 -0.396647\n",
       "4  0.863733  1.282648  0.087279\n",
       "3  0.206200  0.615862 -1.561290\n",
       "2  0.166762 -0.635044 -0.407102\n",
       "1  0.413304 -1.005881 -0.580430\n",
       "0  0.580062 -1.583831 -0.484063"
      ]
     },
     "execution_count": 5,
     "metadata": {},
     "output_type": "execute_result"
    }
   ],
   "source": [
    "df.sort_index(ascending=False)"
   ]
  },
  {
   "cell_type": "code",
   "execution_count": 6,
   "id": "972152ec",
   "metadata": {},
   "outputs": [
    {
     "data": {
      "text/html": [
       "<div>\n",
       "<style scoped>\n",
       "    .dataframe tbody tr th:only-of-type {\n",
       "        vertical-align: middle;\n",
       "    }\n",
       "\n",
       "    .dataframe tbody tr th {\n",
       "        vertical-align: top;\n",
       "    }\n",
       "\n",
       "    .dataframe thead th {\n",
       "        text-align: right;\n",
       "    }\n",
       "</style>\n",
       "<table border=\"1\" class=\"dataframe\">\n",
       "  <thead>\n",
       "    <tr style=\"text-align: right;\">\n",
       "      <th></th>\n",
       "      <th>2</th>\n",
       "      <th>1</th>\n",
       "      <th>0</th>\n",
       "    </tr>\n",
       "  </thead>\n",
       "  <tbody>\n",
       "    <tr>\n",
       "      <th>0</th>\n",
       "      <td>-0.484063</td>\n",
       "      <td>-1.583831</td>\n",
       "      <td>0.580062</td>\n",
       "    </tr>\n",
       "    <tr>\n",
       "      <th>1</th>\n",
       "      <td>-0.580430</td>\n",
       "      <td>-1.005881</td>\n",
       "      <td>0.413304</td>\n",
       "    </tr>\n",
       "    <tr>\n",
       "      <th>2</th>\n",
       "      <td>-0.407102</td>\n",
       "      <td>-0.635044</td>\n",
       "      <td>0.166762</td>\n",
       "    </tr>\n",
       "    <tr>\n",
       "      <th>3</th>\n",
       "      <td>-1.561290</td>\n",
       "      <td>0.615862</td>\n",
       "      <td>0.206200</td>\n",
       "    </tr>\n",
       "    <tr>\n",
       "      <th>4</th>\n",
       "      <td>0.087279</td>\n",
       "      <td>1.282648</td>\n",
       "      <td>0.863733</td>\n",
       "    </tr>\n",
       "    <tr>\n",
       "      <th>5</th>\n",
       "      <td>-0.396647</td>\n",
       "      <td>-0.544270</td>\n",
       "      <td>0.261991</td>\n",
       "    </tr>\n",
       "    <tr>\n",
       "      <th>6</th>\n",
       "      <td>-1.313653</td>\n",
       "      <td>-0.703340</td>\n",
       "      <td>1.194072</td>\n",
       "    </tr>\n",
       "  </tbody>\n",
       "</table>\n",
       "</div>"
      ],
      "text/plain": [
       "          2         1         0\n",
       "0 -0.484063 -1.583831  0.580062\n",
       "1 -0.580430 -1.005881  0.413304\n",
       "2 -0.407102 -0.635044  0.166762\n",
       "3 -1.561290  0.615862  0.206200\n",
       "4  0.087279  1.282648  0.863733\n",
       "5 -0.396647 -0.544270  0.261991\n",
       "6 -1.313653 -0.703340  1.194072"
      ]
     },
     "execution_count": 6,
     "metadata": {},
     "output_type": "execute_result"
    }
   ],
   "source": [
    "df.sort_index(axis=1, ascending=False)"
   ]
  },
  {
   "cell_type": "markdown",
   "id": "64442bea",
   "metadata": {},
   "source": [
    "Beim Sortieren eines DataFrame könnt ihr die Daten in einer oder mehreren Spalten als Sortierschlüssel verwenden. Dazu übergebt ihr eine oder mehrere Spaltennamen an die Option `by` von `sort_values`:"
   ]
  },
  {
   "cell_type": "code",
   "execution_count": 7,
   "id": "a31b3904",
   "metadata": {},
   "outputs": [
    {
     "data": {
      "text/html": [
       "<div>\n",
       "<style scoped>\n",
       "    .dataframe tbody tr th:only-of-type {\n",
       "        vertical-align: middle;\n",
       "    }\n",
       "\n",
       "    .dataframe tbody tr th {\n",
       "        vertical-align: top;\n",
       "    }\n",
       "\n",
       "    .dataframe thead th {\n",
       "        text-align: right;\n",
       "    }\n",
       "</style>\n",
       "<table border=\"1\" class=\"dataframe\">\n",
       "  <thead>\n",
       "    <tr style=\"text-align: right;\">\n",
       "      <th></th>\n",
       "      <th>0</th>\n",
       "      <th>1</th>\n",
       "      <th>2</th>\n",
       "    </tr>\n",
       "  </thead>\n",
       "  <tbody>\n",
       "    <tr>\n",
       "      <th>3</th>\n",
       "      <td>0.206200</td>\n",
       "      <td>0.615862</td>\n",
       "      <td>-1.561290</td>\n",
       "    </tr>\n",
       "    <tr>\n",
       "      <th>6</th>\n",
       "      <td>1.194072</td>\n",
       "      <td>-0.703340</td>\n",
       "      <td>-1.313653</td>\n",
       "    </tr>\n",
       "    <tr>\n",
       "      <th>1</th>\n",
       "      <td>0.413304</td>\n",
       "      <td>-1.005881</td>\n",
       "      <td>-0.580430</td>\n",
       "    </tr>\n",
       "    <tr>\n",
       "      <th>0</th>\n",
       "      <td>0.580062</td>\n",
       "      <td>-1.583831</td>\n",
       "      <td>-0.484063</td>\n",
       "    </tr>\n",
       "    <tr>\n",
       "      <th>2</th>\n",
       "      <td>0.166762</td>\n",
       "      <td>-0.635044</td>\n",
       "      <td>-0.407102</td>\n",
       "    </tr>\n",
       "    <tr>\n",
       "      <th>5</th>\n",
       "      <td>0.261991</td>\n",
       "      <td>-0.544270</td>\n",
       "      <td>-0.396647</td>\n",
       "    </tr>\n",
       "    <tr>\n",
       "      <th>4</th>\n",
       "      <td>0.863733</td>\n",
       "      <td>1.282648</td>\n",
       "      <td>0.087279</td>\n",
       "    </tr>\n",
       "  </tbody>\n",
       "</table>\n",
       "</div>"
      ],
      "text/plain": [
       "          0         1         2\n",
       "3  0.206200  0.615862 -1.561290\n",
       "6  1.194072 -0.703340 -1.313653\n",
       "1  0.413304 -1.005881 -0.580430\n",
       "0  0.580062 -1.583831 -0.484063\n",
       "2  0.166762 -0.635044 -0.407102\n",
       "5  0.261991 -0.544270 -0.396647\n",
       "4  0.863733  1.282648  0.087279"
      ]
     },
     "execution_count": 7,
     "metadata": {},
     "output_type": "execute_result"
    }
   ],
   "source": [
    "df.sort_values(by=2)"
   ]
  },
  {
   "cell_type": "markdown",
   "id": "853e1380",
   "metadata": {},
   "source": [
    "Um nach mehreren Spalten zu sortieren, könnt ihr eine Liste von Namen übergeben."
   ]
  },
  {
   "cell_type": "markdown",
   "id": "b7c41a18",
   "metadata": {},
   "source": [
    "Ranking weist Ränge von eins bis zur Anzahl der gültigen Datenpunkte in einem Array zu:"
   ]
  },
  {
   "cell_type": "code",
   "execution_count": 8,
   "id": "cfd396dd",
   "metadata": {},
   "outputs": [
    {
     "data": {
      "text/html": [
       "<div>\n",
       "<style scoped>\n",
       "    .dataframe tbody tr th:only-of-type {\n",
       "        vertical-align: middle;\n",
       "    }\n",
       "\n",
       "    .dataframe tbody tr th {\n",
       "        vertical-align: top;\n",
       "    }\n",
       "\n",
       "    .dataframe thead th {\n",
       "        text-align: right;\n",
       "    }\n",
       "</style>\n",
       "<table border=\"1\" class=\"dataframe\">\n",
       "  <thead>\n",
       "    <tr style=\"text-align: right;\">\n",
       "      <th></th>\n",
       "      <th>0</th>\n",
       "      <th>1</th>\n",
       "      <th>2</th>\n",
       "    </tr>\n",
       "  </thead>\n",
       "  <tbody>\n",
       "    <tr>\n",
       "      <th>0</th>\n",
       "      <td>5.0</td>\n",
       "      <td>1.0</td>\n",
       "      <td>4.0</td>\n",
       "    </tr>\n",
       "    <tr>\n",
       "      <th>1</th>\n",
       "      <td>4.0</td>\n",
       "      <td>2.0</td>\n",
       "      <td>3.0</td>\n",
       "    </tr>\n",
       "    <tr>\n",
       "      <th>2</th>\n",
       "      <td>1.0</td>\n",
       "      <td>4.0</td>\n",
       "      <td>5.0</td>\n",
       "    </tr>\n",
       "    <tr>\n",
       "      <th>3</th>\n",
       "      <td>2.0</td>\n",
       "      <td>6.0</td>\n",
       "      <td>1.0</td>\n",
       "    </tr>\n",
       "    <tr>\n",
       "      <th>4</th>\n",
       "      <td>6.0</td>\n",
       "      <td>7.0</td>\n",
       "      <td>7.0</td>\n",
       "    </tr>\n",
       "    <tr>\n",
       "      <th>5</th>\n",
       "      <td>3.0</td>\n",
       "      <td>5.0</td>\n",
       "      <td>6.0</td>\n",
       "    </tr>\n",
       "    <tr>\n",
       "      <th>6</th>\n",
       "      <td>7.0</td>\n",
       "      <td>3.0</td>\n",
       "      <td>2.0</td>\n",
       "    </tr>\n",
       "  </tbody>\n",
       "</table>\n",
       "</div>"
      ],
      "text/plain": [
       "     0    1    2\n",
       "0  5.0  1.0  4.0\n",
       "1  4.0  2.0  3.0\n",
       "2  1.0  4.0  5.0\n",
       "3  2.0  6.0  1.0\n",
       "4  6.0  7.0  7.0\n",
       "5  3.0  5.0  6.0\n",
       "6  7.0  3.0  2.0"
      ]
     },
     "execution_count": 8,
     "metadata": {},
     "output_type": "execute_result"
    }
   ],
   "source": [
    "df.rank()"
   ]
  },
  {
   "cell_type": "markdown",
   "id": "6fe180d8",
   "metadata": {},
   "source": [
    "Wenn beim Ranking Gleichstände auftauchen, weist `rank` jeder Gruppe den mittleren Rang zu."
   ]
  },
  {
   "cell_type": "code",
   "execution_count": 9,
   "id": "0cec47c0",
   "metadata": {},
   "outputs": [
    {
     "data": {
      "text/html": [
       "<div>\n",
       "<style scoped>\n",
       "    .dataframe tbody tr th:only-of-type {\n",
       "        vertical-align: middle;\n",
       "    }\n",
       "\n",
       "    .dataframe tbody tr th {\n",
       "        vertical-align: top;\n",
       "    }\n",
       "\n",
       "    .dataframe thead th {\n",
       "        text-align: right;\n",
       "    }\n",
       "</style>\n",
       "<table border=\"1\" class=\"dataframe\">\n",
       "  <thead>\n",
       "    <tr style=\"text-align: right;\">\n",
       "      <th></th>\n",
       "      <th>0</th>\n",
       "      <th>1</th>\n",
       "      <th>2</th>\n",
       "    </tr>\n",
       "  </thead>\n",
       "  <tbody>\n",
       "    <tr>\n",
       "      <th>0</th>\n",
       "      <td>5.0</td>\n",
       "      <td>1.0</td>\n",
       "      <td>4.0</td>\n",
       "    </tr>\n",
       "    <tr>\n",
       "      <th>1</th>\n",
       "      <td>4.0</td>\n",
       "      <td>2.0</td>\n",
       "      <td>3.0</td>\n",
       "    </tr>\n",
       "    <tr>\n",
       "      <th>2</th>\n",
       "      <td>1.0</td>\n",
       "      <td>4.0</td>\n",
       "      <td>5.0</td>\n",
       "    </tr>\n",
       "    <tr>\n",
       "      <th>3</th>\n",
       "      <td>2.0</td>\n",
       "      <td>6.0</td>\n",
       "      <td>1.0</td>\n",
       "    </tr>\n",
       "    <tr>\n",
       "      <th>4</th>\n",
       "      <td>6.0</td>\n",
       "      <td>7.0</td>\n",
       "      <td>7.0</td>\n",
       "    </tr>\n",
       "    <tr>\n",
       "      <th>5</th>\n",
       "      <td>3.0</td>\n",
       "      <td>5.0</td>\n",
       "      <td>6.0</td>\n",
       "    </tr>\n",
       "    <tr>\n",
       "      <th>6</th>\n",
       "      <td>7.0</td>\n",
       "      <td>3.0</td>\n",
       "      <td>2.0</td>\n",
       "    </tr>\n",
       "  </tbody>\n",
       "</table>\n",
       "</div>"
      ],
      "text/plain": [
       "     0    1    2\n",
       "0  5.0  1.0  4.0\n",
       "1  4.0  2.0  3.0\n",
       "2  1.0  4.0  5.0\n",
       "3  2.0  6.0  1.0\n",
       "4  6.0  7.0  7.0\n",
       "5  3.0  5.0  6.0\n",
       "6  7.0  3.0  2.0"
      ]
     },
     "execution_count": 9,
     "metadata": {},
     "output_type": "execute_result"
    }
   ],
   "source": [
    "df.rank(method=\"max\")"
   ]
  },
  {
   "cell_type": "markdown",
   "id": "63fd4e17",
   "metadata": {},
   "source": [
    "## Weitere Verfahren mit `rank`\n",
    "\n",
    "Methode | Beschreibung\n",
    ":------ | :-----------\n",
    "`average` | Standard: jedem Eintrag in der gleichen Gruppe den durchschnittlichen Rang zuweisen\n",
    "`min` | verwendet den minimalen Rang für die gesamte Gruppe\n",
    "`max` | verwendet den maximalen Rang für die gesamte Gruppe\n",
    "`first` | weist die Ränge in der Reihenfolge zu, in der die Werte in den Daten erscheinen\n",
    "`dense` | wie `method='min'`, aber die Ränge erhöhen sich zwischen den Gruppen immer um 1 und nicht nach der Anzahl der gleichen Elemente in einer Gruppe"
   ]
  }
 ],
 "metadata": {
  "kernelspec": {
   "display_name": "Python 3.11 Kernel",
   "language": "python",
   "name": "python311"
  },
  "language_info": {
   "codemirror_mode": {
    "name": "ipython",
    "version": 3
   },
   "file_extension": ".py",
   "mimetype": "text/x-python",
   "name": "python",
   "nbconvert_exporter": "python",
   "pygments_lexer": "ipython3",
   "version": "3.11.4"
  },
  "widgets": {
   "application/vnd.jupyter.widget-state+json": {
    "state": {},
    "version_major": 2,
    "version_minor": 0
   }
  }
 },
 "nbformat": 4,
 "nbformat_minor": 5
}
