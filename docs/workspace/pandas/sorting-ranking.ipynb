{
 "cells": [
  {
   "cell_type": "markdown",
   "id": "3f90ea29",
   "metadata": {},
   "source": [
    "# Sortieren und Ranking\n",
    "\n",
    "Das Sortieren eines Datensatzes nach einem Kriterium ist eine weitere wichtige eingebaute Funktion. Um lexikografisch nach Zeilen- oder Spaltenindex zu sortieren, verwendet die Methoden [pandas.Series.sort_index](https://pandas.pydata.org/docs/reference/api/pandas.Series.sort_index.html) oder [pandas.DataFrame.sort_index](https://pandas.pydata.org/docs/reference/api/pandas.DataFrame.sort_index.html), die ein neues, sortiertes Objekt zurückgibt. Mit `ascending=False` wird die Sortierreihenfolge umgekehrt:"
   ]
  },
  {
   "cell_type": "code",
   "execution_count": 1,
   "id": "494c8d07",
   "metadata": {},
   "outputs": [
    {
     "data": {
      "text/plain": [
       "6   -0.812727\n",
       "5   -0.176446\n",
       "4   -0.945075\n",
       "3   -0.042649\n",
       "2   -1.534402\n",
       "1    0.458117\n",
       "0    2.507295\n",
       "dtype: float64"
      ]
     },
     "execution_count": 1,
     "metadata": {},
     "output_type": "execute_result"
    }
   ],
   "source": [
    "import numpy as np\n",
    "import pandas as pd\n",
    "\n",
    "\n",
    "s = pd.Series(np.random.randn(7))\n",
    "\n",
    "s.sort_index(ascending=False)"
   ]
  },
  {
   "cell_type": "markdown",
   "id": "cc386834",
   "metadata": {},
   "source": [
    "Um eine Serie nach ihren Werten zu sortieren, könnt ihr die `sort_values`-Methode verwenden:"
   ]
  },
  {
   "cell_type": "code",
   "execution_count": 2,
   "id": "fadf1cd3",
   "metadata": {},
   "outputs": [
    {
     "data": {
      "text/plain": [
       "2   -1.534402\n",
       "4   -0.945075\n",
       "6   -0.812727\n",
       "5   -0.176446\n",
       "3   -0.042649\n",
       "1    0.458117\n",
       "0    2.507295\n",
       "dtype: float64"
      ]
     },
     "execution_count": 2,
     "metadata": {},
     "output_type": "execute_result"
    }
   ],
   "source": [
    "s.sort_values()"
   ]
  },
  {
   "cell_type": "markdown",
   "id": "70aa0dfe",
   "metadata": {},
   "source": [
    "Alle fehlenden Werte werden standardmäßig an das Ende der Reihe sortiert:"
   ]
  },
  {
   "cell_type": "code",
   "execution_count": 3,
   "id": "ac6aac28",
   "metadata": {},
   "outputs": [
    {
     "data": {
      "text/plain": [
       "5    0.543597\n",
       "2    0.568217\n",
       "0    0.646056\n",
       "1    0.972950\n",
       "6    1.170667\n",
       "3    1.503745\n",
       "4         NaN\n",
       "dtype: float64"
      ]
     },
     "execution_count": 3,
     "metadata": {},
     "output_type": "execute_result"
    }
   ],
   "source": [
    "s = pd.Series(np.random.randn(7))\n",
    "s[s < 0] = np.nan\n",
    "\n",
    "s.sort_values()"
   ]
  },
  {
   "cell_type": "markdown",
   "id": "375693b4",
   "metadata": {},
   "source": [
    "Mit einem DataFrame können ihr auf beiden Achsen nach Index sortieren:"
   ]
  },
  {
   "cell_type": "code",
   "execution_count": 4,
   "id": "7c8c1daf",
   "metadata": {},
   "outputs": [
    {
     "data": {
      "text/html": [
       "<div>\n",
       "<style scoped>\n",
       "    .dataframe tbody tr th:only-of-type {\n",
       "        vertical-align: middle;\n",
       "    }\n",
       "\n",
       "    .dataframe tbody tr th {\n",
       "        vertical-align: top;\n",
       "    }\n",
       "\n",
       "    .dataframe thead th {\n",
       "        text-align: right;\n",
       "    }\n",
       "</style>\n",
       "<table border=\"1\" class=\"dataframe\">\n",
       "  <thead>\n",
       "    <tr style=\"text-align: right;\">\n",
       "      <th></th>\n",
       "      <th>0</th>\n",
       "      <th>1</th>\n",
       "      <th>2</th>\n",
       "    </tr>\n",
       "  </thead>\n",
       "  <tbody>\n",
       "    <tr>\n",
       "      <th>0</th>\n",
       "      <td>2.059276</td>\n",
       "      <td>-0.015250</td>\n",
       "      <td>0.954257</td>\n",
       "    </tr>\n",
       "    <tr>\n",
       "      <th>1</th>\n",
       "      <td>1.118414</td>\n",
       "      <td>1.454937</td>\n",
       "      <td>0.018611</td>\n",
       "    </tr>\n",
       "    <tr>\n",
       "      <th>2</th>\n",
       "      <td>0.582700</td>\n",
       "      <td>-1.397815</td>\n",
       "      <td>0.814612</td>\n",
       "    </tr>\n",
       "    <tr>\n",
       "      <th>3</th>\n",
       "      <td>-0.253990</td>\n",
       "      <td>0.974213</td>\n",
       "      <td>0.288499</td>\n",
       "    </tr>\n",
       "    <tr>\n",
       "      <th>4</th>\n",
       "      <td>-0.229618</td>\n",
       "      <td>-0.157874</td>\n",
       "      <td>0.413474</td>\n",
       "    </tr>\n",
       "    <tr>\n",
       "      <th>5</th>\n",
       "      <td>-1.205758</td>\n",
       "      <td>0.042670</td>\n",
       "      <td>-0.857743</td>\n",
       "    </tr>\n",
       "    <tr>\n",
       "      <th>6</th>\n",
       "      <td>-0.392417</td>\n",
       "      <td>0.416205</td>\n",
       "      <td>0.618373</td>\n",
       "    </tr>\n",
       "  </tbody>\n",
       "</table>\n",
       "</div>"
      ],
      "text/plain": [
       "          0         1         2\n",
       "0  2.059276 -0.015250  0.954257\n",
       "1  1.118414  1.454937  0.018611\n",
       "2  0.582700 -1.397815  0.814612\n",
       "3 -0.253990  0.974213  0.288499\n",
       "4 -0.229618 -0.157874  0.413474\n",
       "5 -1.205758  0.042670 -0.857743\n",
       "6 -0.392417  0.416205  0.618373"
      ]
     },
     "execution_count": 4,
     "metadata": {},
     "output_type": "execute_result"
    }
   ],
   "source": [
    "df = pd.DataFrame(np.random.randn(7, 3))\n",
    "\n",
    "df"
   ]
  },
  {
   "cell_type": "code",
   "execution_count": 5,
   "id": "b6ce411c",
   "metadata": {},
   "outputs": [
    {
     "data": {
      "text/html": [
       "<div>\n",
       "<style scoped>\n",
       "    .dataframe tbody tr th:only-of-type {\n",
       "        vertical-align: middle;\n",
       "    }\n",
       "\n",
       "    .dataframe tbody tr th {\n",
       "        vertical-align: top;\n",
       "    }\n",
       "\n",
       "    .dataframe thead th {\n",
       "        text-align: right;\n",
       "    }\n",
       "</style>\n",
       "<table border=\"1\" class=\"dataframe\">\n",
       "  <thead>\n",
       "    <tr style=\"text-align: right;\">\n",
       "      <th></th>\n",
       "      <th>0</th>\n",
       "      <th>1</th>\n",
       "      <th>2</th>\n",
       "    </tr>\n",
       "  </thead>\n",
       "  <tbody>\n",
       "    <tr>\n",
       "      <th>6</th>\n",
       "      <td>-0.392417</td>\n",
       "      <td>0.416205</td>\n",
       "      <td>0.618373</td>\n",
       "    </tr>\n",
       "    <tr>\n",
       "      <th>5</th>\n",
       "      <td>-1.205758</td>\n",
       "      <td>0.042670</td>\n",
       "      <td>-0.857743</td>\n",
       "    </tr>\n",
       "    <tr>\n",
       "      <th>4</th>\n",
       "      <td>-0.229618</td>\n",
       "      <td>-0.157874</td>\n",
       "      <td>0.413474</td>\n",
       "    </tr>\n",
       "    <tr>\n",
       "      <th>3</th>\n",
       "      <td>-0.253990</td>\n",
       "      <td>0.974213</td>\n",
       "      <td>0.288499</td>\n",
       "    </tr>\n",
       "    <tr>\n",
       "      <th>2</th>\n",
       "      <td>0.582700</td>\n",
       "      <td>-1.397815</td>\n",
       "      <td>0.814612</td>\n",
       "    </tr>\n",
       "    <tr>\n",
       "      <th>1</th>\n",
       "      <td>1.118414</td>\n",
       "      <td>1.454937</td>\n",
       "      <td>0.018611</td>\n",
       "    </tr>\n",
       "    <tr>\n",
       "      <th>0</th>\n",
       "      <td>2.059276</td>\n",
       "      <td>-0.015250</td>\n",
       "      <td>0.954257</td>\n",
       "    </tr>\n",
       "  </tbody>\n",
       "</table>\n",
       "</div>"
      ],
      "text/plain": [
       "          0         1         2\n",
       "6 -0.392417  0.416205  0.618373\n",
       "5 -1.205758  0.042670 -0.857743\n",
       "4 -0.229618 -0.157874  0.413474\n",
       "3 -0.253990  0.974213  0.288499\n",
       "2  0.582700 -1.397815  0.814612\n",
       "1  1.118414  1.454937  0.018611\n",
       "0  2.059276 -0.015250  0.954257"
      ]
     },
     "execution_count": 5,
     "metadata": {},
     "output_type": "execute_result"
    }
   ],
   "source": [
    "df.sort_index(ascending=False)"
   ]
  },
  {
   "cell_type": "code",
   "execution_count": 6,
   "id": "972152ec",
   "metadata": {},
   "outputs": [
    {
     "data": {
      "text/html": [
       "<div>\n",
       "<style scoped>\n",
       "    .dataframe tbody tr th:only-of-type {\n",
       "        vertical-align: middle;\n",
       "    }\n",
       "\n",
       "    .dataframe tbody tr th {\n",
       "        vertical-align: top;\n",
       "    }\n",
       "\n",
       "    .dataframe thead th {\n",
       "        text-align: right;\n",
       "    }\n",
       "</style>\n",
       "<table border=\"1\" class=\"dataframe\">\n",
       "  <thead>\n",
       "    <tr style=\"text-align: right;\">\n",
       "      <th></th>\n",
       "      <th>2</th>\n",
       "      <th>1</th>\n",
       "      <th>0</th>\n",
       "    </tr>\n",
       "  </thead>\n",
       "  <tbody>\n",
       "    <tr>\n",
       "      <th>0</th>\n",
       "      <td>0.954257</td>\n",
       "      <td>-0.015250</td>\n",
       "      <td>2.059276</td>\n",
       "    </tr>\n",
       "    <tr>\n",
       "      <th>1</th>\n",
       "      <td>0.018611</td>\n",
       "      <td>1.454937</td>\n",
       "      <td>1.118414</td>\n",
       "    </tr>\n",
       "    <tr>\n",
       "      <th>2</th>\n",
       "      <td>0.814612</td>\n",
       "      <td>-1.397815</td>\n",
       "      <td>0.582700</td>\n",
       "    </tr>\n",
       "    <tr>\n",
       "      <th>3</th>\n",
       "      <td>0.288499</td>\n",
       "      <td>0.974213</td>\n",
       "      <td>-0.253990</td>\n",
       "    </tr>\n",
       "    <tr>\n",
       "      <th>4</th>\n",
       "      <td>0.413474</td>\n",
       "      <td>-0.157874</td>\n",
       "      <td>-0.229618</td>\n",
       "    </tr>\n",
       "    <tr>\n",
       "      <th>5</th>\n",
       "      <td>-0.857743</td>\n",
       "      <td>0.042670</td>\n",
       "      <td>-1.205758</td>\n",
       "    </tr>\n",
       "    <tr>\n",
       "      <th>6</th>\n",
       "      <td>0.618373</td>\n",
       "      <td>0.416205</td>\n",
       "      <td>-0.392417</td>\n",
       "    </tr>\n",
       "  </tbody>\n",
       "</table>\n",
       "</div>"
      ],
      "text/plain": [
       "          2         1         0\n",
       "0  0.954257 -0.015250  2.059276\n",
       "1  0.018611  1.454937  1.118414\n",
       "2  0.814612 -1.397815  0.582700\n",
       "3  0.288499  0.974213 -0.253990\n",
       "4  0.413474 -0.157874 -0.229618\n",
       "5 -0.857743  0.042670 -1.205758\n",
       "6  0.618373  0.416205 -0.392417"
      ]
     },
     "execution_count": 6,
     "metadata": {},
     "output_type": "execute_result"
    }
   ],
   "source": [
    "df.sort_index(axis=1, ascending=False)"
   ]
  },
  {
   "cell_type": "markdown",
   "id": "64442bea",
   "metadata": {},
   "source": [
    "Beim Sortieren eines DataFrame könnt ihr die Daten in einer oder mehreren Spalten als Sortierschlüssel verwenden. Dazu übergebt ihr eine oder mehrere Spaltennamen an die Option `by` von `sort_values`:"
   ]
  },
  {
   "cell_type": "code",
   "execution_count": 7,
   "id": "a31b3904",
   "metadata": {},
   "outputs": [
    {
     "data": {
      "text/html": [
       "<div>\n",
       "<style scoped>\n",
       "    .dataframe tbody tr th:only-of-type {\n",
       "        vertical-align: middle;\n",
       "    }\n",
       "\n",
       "    .dataframe tbody tr th {\n",
       "        vertical-align: top;\n",
       "    }\n",
       "\n",
       "    .dataframe thead th {\n",
       "        text-align: right;\n",
       "    }\n",
       "</style>\n",
       "<table border=\"1\" class=\"dataframe\">\n",
       "  <thead>\n",
       "    <tr style=\"text-align: right;\">\n",
       "      <th></th>\n",
       "      <th>0</th>\n",
       "      <th>1</th>\n",
       "      <th>2</th>\n",
       "    </tr>\n",
       "  </thead>\n",
       "  <tbody>\n",
       "    <tr>\n",
       "      <th>5</th>\n",
       "      <td>-1.205758</td>\n",
       "      <td>0.042670</td>\n",
       "      <td>-0.857743</td>\n",
       "    </tr>\n",
       "    <tr>\n",
       "      <th>1</th>\n",
       "      <td>1.118414</td>\n",
       "      <td>1.454937</td>\n",
       "      <td>0.018611</td>\n",
       "    </tr>\n",
       "    <tr>\n",
       "      <th>3</th>\n",
       "      <td>-0.253990</td>\n",
       "      <td>0.974213</td>\n",
       "      <td>0.288499</td>\n",
       "    </tr>\n",
       "    <tr>\n",
       "      <th>4</th>\n",
       "      <td>-0.229618</td>\n",
       "      <td>-0.157874</td>\n",
       "      <td>0.413474</td>\n",
       "    </tr>\n",
       "    <tr>\n",
       "      <th>6</th>\n",
       "      <td>-0.392417</td>\n",
       "      <td>0.416205</td>\n",
       "      <td>0.618373</td>\n",
       "    </tr>\n",
       "    <tr>\n",
       "      <th>2</th>\n",
       "      <td>0.582700</td>\n",
       "      <td>-1.397815</td>\n",
       "      <td>0.814612</td>\n",
       "    </tr>\n",
       "    <tr>\n",
       "      <th>0</th>\n",
       "      <td>2.059276</td>\n",
       "      <td>-0.015250</td>\n",
       "      <td>0.954257</td>\n",
       "    </tr>\n",
       "  </tbody>\n",
       "</table>\n",
       "</div>"
      ],
      "text/plain": [
       "          0         1         2\n",
       "5 -1.205758  0.042670 -0.857743\n",
       "1  1.118414  1.454937  0.018611\n",
       "3 -0.253990  0.974213  0.288499\n",
       "4 -0.229618 -0.157874  0.413474\n",
       "6 -0.392417  0.416205  0.618373\n",
       "2  0.582700 -1.397815  0.814612\n",
       "0  2.059276 -0.015250  0.954257"
      ]
     },
     "execution_count": 7,
     "metadata": {},
     "output_type": "execute_result"
    }
   ],
   "source": [
    "df.sort_values(by=2)"
   ]
  },
  {
   "cell_type": "markdown",
   "id": "853e1380",
   "metadata": {},
   "source": [
    "Um nach mehreren Spalten zu sortieren, könnt ihr eine Liste von Namen übergeben."
   ]
  },
  {
   "cell_type": "markdown",
   "id": "b7c41a18",
   "metadata": {},
   "source": [
    "Ranking weist Ränge von eins bis zur Anzahl der gültigen Datenpunkte in einem Array zu:"
   ]
  },
  {
   "cell_type": "code",
   "execution_count": 8,
   "id": "cfd396dd",
   "metadata": {},
   "outputs": [
    {
     "data": {
      "text/html": [
       "<div>\n",
       "<style scoped>\n",
       "    .dataframe tbody tr th:only-of-type {\n",
       "        vertical-align: middle;\n",
       "    }\n",
       "\n",
       "    .dataframe tbody tr th {\n",
       "        vertical-align: top;\n",
       "    }\n",
       "\n",
       "    .dataframe thead th {\n",
       "        text-align: right;\n",
       "    }\n",
       "</style>\n",
       "<table border=\"1\" class=\"dataframe\">\n",
       "  <thead>\n",
       "    <tr style=\"text-align: right;\">\n",
       "      <th></th>\n",
       "      <th>0</th>\n",
       "      <th>1</th>\n",
       "      <th>2</th>\n",
       "    </tr>\n",
       "  </thead>\n",
       "  <tbody>\n",
       "    <tr>\n",
       "      <th>0</th>\n",
       "      <td>7.0</td>\n",
       "      <td>3.0</td>\n",
       "      <td>7.0</td>\n",
       "    </tr>\n",
       "    <tr>\n",
       "      <th>1</th>\n",
       "      <td>6.0</td>\n",
       "      <td>7.0</td>\n",
       "      <td>2.0</td>\n",
       "    </tr>\n",
       "    <tr>\n",
       "      <th>2</th>\n",
       "      <td>5.0</td>\n",
       "      <td>1.0</td>\n",
       "      <td>6.0</td>\n",
       "    </tr>\n",
       "    <tr>\n",
       "      <th>3</th>\n",
       "      <td>3.0</td>\n",
       "      <td>6.0</td>\n",
       "      <td>3.0</td>\n",
       "    </tr>\n",
       "    <tr>\n",
       "      <th>4</th>\n",
       "      <td>4.0</td>\n",
       "      <td>2.0</td>\n",
       "      <td>4.0</td>\n",
       "    </tr>\n",
       "    <tr>\n",
       "      <th>5</th>\n",
       "      <td>1.0</td>\n",
       "      <td>4.0</td>\n",
       "      <td>1.0</td>\n",
       "    </tr>\n",
       "    <tr>\n",
       "      <th>6</th>\n",
       "      <td>2.0</td>\n",
       "      <td>5.0</td>\n",
       "      <td>5.0</td>\n",
       "    </tr>\n",
       "  </tbody>\n",
       "</table>\n",
       "</div>"
      ],
      "text/plain": [
       "     0    1    2\n",
       "0  7.0  3.0  7.0\n",
       "1  6.0  7.0  2.0\n",
       "2  5.0  1.0  6.0\n",
       "3  3.0  6.0  3.0\n",
       "4  4.0  2.0  4.0\n",
       "5  1.0  4.0  1.0\n",
       "6  2.0  5.0  5.0"
      ]
     },
     "execution_count": 8,
     "metadata": {},
     "output_type": "execute_result"
    }
   ],
   "source": [
    "df.rank()"
   ]
  },
  {
   "cell_type": "markdown",
   "id": "6fe180d8",
   "metadata": {},
   "source": [
    "Wenn beim Ranking Gleichstände auftauchen, weist `rank` jeder Gruppe den mittleren Rang zu."
   ]
  },
  {
   "cell_type": "code",
   "execution_count": 9,
   "id": "0cec47c0",
   "metadata": {},
   "outputs": [
    {
     "data": {
      "text/html": [
       "<div>\n",
       "<style scoped>\n",
       "    .dataframe tbody tr th:only-of-type {\n",
       "        vertical-align: middle;\n",
       "    }\n",
       "\n",
       "    .dataframe tbody tr th {\n",
       "        vertical-align: top;\n",
       "    }\n",
       "\n",
       "    .dataframe thead th {\n",
       "        text-align: right;\n",
       "    }\n",
       "</style>\n",
       "<table border=\"1\" class=\"dataframe\">\n",
       "  <thead>\n",
       "    <tr style=\"text-align: right;\">\n",
       "      <th></th>\n",
       "      <th>0</th>\n",
       "      <th>1</th>\n",
       "      <th>2</th>\n",
       "    </tr>\n",
       "  </thead>\n",
       "  <tbody>\n",
       "    <tr>\n",
       "      <th>0</th>\n",
       "      <td>7.0</td>\n",
       "      <td>3.0</td>\n",
       "      <td>7.0</td>\n",
       "    </tr>\n",
       "    <tr>\n",
       "      <th>1</th>\n",
       "      <td>6.0</td>\n",
       "      <td>7.0</td>\n",
       "      <td>2.0</td>\n",
       "    </tr>\n",
       "    <tr>\n",
       "      <th>2</th>\n",
       "      <td>5.0</td>\n",
       "      <td>1.0</td>\n",
       "      <td>6.0</td>\n",
       "    </tr>\n",
       "    <tr>\n",
       "      <th>3</th>\n",
       "      <td>3.0</td>\n",
       "      <td>6.0</td>\n",
       "      <td>3.0</td>\n",
       "    </tr>\n",
       "    <tr>\n",
       "      <th>4</th>\n",
       "      <td>4.0</td>\n",
       "      <td>2.0</td>\n",
       "      <td>4.0</td>\n",
       "    </tr>\n",
       "    <tr>\n",
       "      <th>5</th>\n",
       "      <td>1.0</td>\n",
       "      <td>4.0</td>\n",
       "      <td>1.0</td>\n",
       "    </tr>\n",
       "    <tr>\n",
       "      <th>6</th>\n",
       "      <td>2.0</td>\n",
       "      <td>5.0</td>\n",
       "      <td>5.0</td>\n",
       "    </tr>\n",
       "  </tbody>\n",
       "</table>\n",
       "</div>"
      ],
      "text/plain": [
       "     0    1    2\n",
       "0  7.0  3.0  7.0\n",
       "1  6.0  7.0  2.0\n",
       "2  5.0  1.0  6.0\n",
       "3  3.0  6.0  3.0\n",
       "4  4.0  2.0  4.0\n",
       "5  1.0  4.0  1.0\n",
       "6  2.0  5.0  5.0"
      ]
     },
     "execution_count": 9,
     "metadata": {},
     "output_type": "execute_result"
    }
   ],
   "source": [
    "df.rank(method=\"max\")"
   ]
  },
  {
   "cell_type": "markdown",
   "id": "63fd4e17",
   "metadata": {},
   "source": [
    "## Weitere Verfahren mit `rank`\n",
    "\n",
    "Methode | Beschreibung\n",
    ":------ | :-----------\n",
    "`average` | Standard: jedem Eintrag in der gleichen Gruppe den durchschnittlichen Rang zuweisen\n",
    "`min` | verwendet den minimalen Rang für die gesamte Gruppe\n",
    "`max` | verwendet den maximalen Rang für die gesamte Gruppe\n",
    "`first` | weist die Ränge in der Reihenfolge zu, in der die Werte in den Daten erscheinen\n",
    "`dense` | wie `method='min'`, aber die Ränge erhöhen sich zwischen den Gruppen immer um 1 und nicht nach der Anzahl der gleichen Elemente in einer Gruppe"
   ]
  }
 ],
 "metadata": {
  "kernelspec": {
   "display_name": "Python 3.13 Kernel",
   "language": "python",
   "name": "python313"
  },
  "language_info": {
   "codemirror_mode": {
    "name": "ipython",
    "version": 3
   },
   "file_extension": ".py",
   "mimetype": "text/x-python",
   "name": "python",
   "nbconvert_exporter": "python",
   "pygments_lexer": "ipython3",
   "version": "3.13.0"
  },
  "widgets": {
   "application/vnd.jupyter.widget-state+json": {
    "state": {},
    "version_major": 2,
    "version_minor": 0
   }
  }
 },
 "nbformat": 4,
 "nbformat_minor": 5
}
