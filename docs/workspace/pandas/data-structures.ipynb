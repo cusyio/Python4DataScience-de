{
 "cells": [
  {
   "cell_type": "markdown",
   "id": "1ff47048",
   "metadata": {},
   "source": [
    "# Einführung in die Datenstrukturen von pandas\n",
    "\n",
    "Um mit pandas zu beginnen, solltet ihr euch zunächst mit den beiden wichtigsten Datenstrukturen vertraut machen: [Series](#Series) und [DataFrame](#DataFrame)."
   ]
  },
  {
   "cell_type": "markdown",
   "id": "e52d751a",
   "metadata": {},
   "source": [
    "## Series\n",
    "\n",
    "Eine Serie ist ein eindimensionales Array-ähnliches Objekt, das eine Folge von Werten (von ähnlichen Typen wie die NumPy-Typen) und ein zugehöriges Array von Datenbeschriftungen, genannt Index, enthält. Die einfachste Serie wird nur aus einem Array von Daten gebildet:"
   ]
  },
  {
   "cell_type": "code",
   "execution_count": 1,
   "id": "e5bc5485",
   "metadata": {},
   "outputs": [],
   "source": [
    "import numpy as np\n",
    "import pandas as pd"
   ]
  },
  {
   "cell_type": "code",
   "execution_count": 2,
   "id": "77e45cdb",
   "metadata": {},
   "outputs": [
    {
     "data": {
      "text/plain": [
       "0   -0.268942\n",
       "1   -0.976455\n",
       "2   -0.348490\n",
       "3    1.529497\n",
       "4   -2.292933\n",
       "5   -2.202590\n",
       "6    0.320450\n",
       "dtype: float64"
      ]
     },
     "execution_count": 2,
     "metadata": {},
     "output_type": "execute_result"
    }
   ],
   "source": [
    "s = pd.Series(np.random.randn(7))\n",
    "s"
   ]
  },
  {
   "cell_type": "markdown",
   "id": "460f76c9",
   "metadata": {},
   "source": [
    "Die Zeichenkettendarstellung einer interaktiv angezeigten Reihe zeigt den Index auf der linken Seite und die Werte auf der rechten Seite. Da wir keinen Index für die Daten angegeben haben, wird ein Standardindex erstellt, der aus den ganzen Zahlen `0` bis `N - 1` besteht (wobei `N` die Anzahl (_Length_) der Daten ist). Ihr könnt die Array-Darstellung und das Index-Objekt der Reihe über ihre [pandas.Series.array](https://pandas.pydata.org/docs/reference/api/pandas.Series.array.html)- bzw. [pandas.Series.index](https://pandas.pydata.org/docs/reference/api/pandas.Series.index.html)-Attribute erhalten:"
   ]
  },
  {
   "cell_type": "code",
   "execution_count": 3,
   "id": "30c35ed7",
   "metadata": {},
   "outputs": [
    {
     "data": {
      "text/plain": [
       "<PandasArray>\n",
       "[ -0.2689415055498734,  -0.9764553398568306, -0.34848960718971217,\n",
       "   1.5294968755680594,  -2.2929333103937553,  -2.2025895219269453,\n",
       "  0.32044990653516614]\n",
       "Length: 7, dtype: float64"
      ]
     },
     "execution_count": 3,
     "metadata": {},
     "output_type": "execute_result"
    }
   ],
   "source": [
    "s.array"
   ]
  },
  {
   "cell_type": "code",
   "execution_count": 4,
   "id": "cae6b47e",
   "metadata": {},
   "outputs": [
    {
     "data": {
      "text/plain": [
       "RangeIndex(start=0, stop=7, step=1)"
      ]
     },
     "execution_count": 4,
     "metadata": {},
     "output_type": "execute_result"
    }
   ],
   "source": [
    "s.index"
   ]
  },
  {
   "cell_type": "markdown",
   "id": "2324b5e8",
   "metadata": {},
   "source": [
    "Oft werdet ihr einen Index erstellen wollen, der jeden Datenpunkt mit einer Bezeichnung kennzeichnet:"
   ]
  },
  {
   "cell_type": "code",
   "execution_count": 5,
   "id": "ba26e3b1",
   "metadata": {},
   "outputs": [],
   "source": [
    "idx = pd.date_range(\"2022-02-02\", periods=7, freq=\"H\")\n",
    "\n",
    "s2 = pd.Series(np.random.randn(7), index=idx)"
   ]
  },
  {
   "cell_type": "code",
   "execution_count": 6,
   "id": "04384466",
   "metadata": {},
   "outputs": [
    {
     "data": {
      "text/plain": [
       "2022-02-02 00:00:00   -0.276610\n",
       "2022-02-02 01:00:00   -0.232310\n",
       "2022-02-02 02:00:00    0.280808\n",
       "2022-02-02 03:00:00    0.988572\n",
       "2022-02-02 04:00:00   -1.359819\n",
       "2022-02-02 05:00:00   -0.029214\n",
       "2022-02-02 06:00:00   -1.264333\n",
       "Freq: H, dtype: float64"
      ]
     },
     "execution_count": 6,
     "metadata": {},
     "output_type": "execute_result"
    }
   ],
   "source": [
    "s2"
   ]
  },
  {
   "cell_type": "markdown",
   "id": "bc59d9cc",
   "metadata": {},
   "source": [
    "> **Siehe auch:**\n",
    "> \n",
    "> [Time series / date functionality](https://pandas.pydata.org/pandas-docs/stable/user_guide/timeseries.html)"
   ]
  },
  {
   "cell_type": "markdown",
   "id": "0e912cc3",
   "metadata": {},
   "source": [
    "Im Vergleich zu NumPy-Arrays könnt ihr die Beschriftungen im Index verwenden, wenn ihr einzelne Werte oder eine Gruppe von Werten auswählen wollt:"
   ]
  },
  {
   "cell_type": "code",
   "execution_count": 7,
   "id": "f6c0a734",
   "metadata": {},
   "outputs": [
    {
     "data": {
      "text/plain": [
       "-0.27661034566794956"
      ]
     },
     "execution_count": 7,
     "metadata": {},
     "output_type": "execute_result"
    }
   ],
   "source": [
    "s2['2022-02-02 00:00:00']"
   ]
  },
  {
   "cell_type": "code",
   "execution_count": 8,
   "id": "17f28068",
   "metadata": {},
   "outputs": [
    {
     "data": {
      "text/plain": [
       "2022-02-02 00:00:00   -0.276610\n",
       "2022-02-02 01:00:00   -0.232310\n",
       "2022-02-02 02:00:00    0.280808\n",
       "dtype: float64"
      ]
     },
     "execution_count": 8,
     "metadata": {},
     "output_type": "execute_result"
    }
   ],
   "source": [
    "s2[['2022-02-02 00:00:00', '2022-02-02 01:00:00', '2022-02-02 02:00:00']]"
   ]
  },
  {
   "cell_type": "markdown",
   "id": "bfb063af",
   "metadata": {},
   "source": [
    "Hier wird `['2022-02-02 00:00:00', '2022-02-02 01:00:00', '2022-02-02 02:00:00']` als eine Liste von Indizes interpretiert, auch wenn sie Strings anstelle von ganzen Zahlen enthält."
   ]
  },
  {
   "cell_type": "markdown",
   "id": "4b9f12af",
   "metadata": {},
   "source": [
    "Bei der Verwendung von NumPy-Funktionen oder NumPy-ähnlichen Operationen, wie z. B. dem Filtern mit einem booleschen Array, der skalaren Multiplikation oder der Anwendung mathematischer Funktionen, bleibt die Verknüpfung zwischen Index und Wert erhalten:"
   ]
  },
  {
   "cell_type": "code",
   "execution_count": 9,
   "id": "fc46a1ba",
   "metadata": {},
   "outputs": [
    {
     "data": {
      "text/plain": [
       "2022-02-02 02:00:00    0.280808\n",
       "2022-02-02 03:00:00    0.988572\n",
       "Freq: H, dtype: float64"
      ]
     },
     "execution_count": 9,
     "metadata": {},
     "output_type": "execute_result"
    }
   ],
   "source": [
    "s2[s2 > 0]"
   ]
  },
  {
   "cell_type": "code",
   "execution_count": 10,
   "id": "c9f173df",
   "metadata": {},
   "outputs": [
    {
     "data": {
      "text/plain": [
       "2022-02-02 00:00:00    0.076513\n",
       "2022-02-02 01:00:00    0.053968\n",
       "2022-02-02 02:00:00    0.078853\n",
       "2022-02-02 03:00:00    0.977274\n",
       "2022-02-02 04:00:00    1.849107\n",
       "2022-02-02 05:00:00    0.000853\n",
       "2022-02-02 06:00:00    1.598538\n",
       "Freq: H, dtype: float64"
      ]
     },
     "execution_count": 10,
     "metadata": {},
     "output_type": "execute_result"
    }
   ],
   "source": [
    "s2 ** 2"
   ]
  },
  {
   "cell_type": "code",
   "execution_count": 11,
   "id": "b48ab59c",
   "metadata": {},
   "outputs": [
    {
     "data": {
      "text/plain": [
       "2022-02-02 00:00:00    0.758350\n",
       "2022-02-02 01:00:00    0.792700\n",
       "2022-02-02 02:00:00    1.324199\n",
       "2022-02-02 03:00:00    2.687393\n",
       "2022-02-02 04:00:00    0.256707\n",
       "2022-02-02 05:00:00    0.971209\n",
       "2022-02-02 06:00:00    0.282428\n",
       "Freq: H, dtype: float64"
      ]
     },
     "execution_count": 11,
     "metadata": {},
     "output_type": "execute_result"
    }
   ],
   "source": [
    "import numpy as np\n",
    "\n",
    "np.exp(s2)"
   ]
  },
  {
   "cell_type": "markdown",
   "id": "e7fa2495",
   "metadata": {},
   "source": [
    "Ihr könnt euch eine Serie auch als ein _ordered dict_ mit fester Länge vorstellen, da sie eine Zuordnung von Indexwerten zu Datenwerten darstellt. Sie kann in vielen Kontexten verwendet werden, in denen man ein _dict_ verwenden könnte:"
   ]
  },
  {
   "cell_type": "code",
   "execution_count": 12,
   "id": "d54d47c7",
   "metadata": {},
   "outputs": [
    {
     "data": {
      "text/plain": [
       "True"
      ]
     },
     "execution_count": 12,
     "metadata": {},
     "output_type": "execute_result"
    }
   ],
   "source": [
    "'2022-02-02 01:00:00' in s2"
   ]
  },
  {
   "cell_type": "code",
   "execution_count": 13,
   "id": "83990fb1",
   "metadata": {},
   "outputs": [
    {
     "data": {
      "text/plain": [
       "False"
      ]
     },
     "execution_count": 13,
     "metadata": {},
     "output_type": "execute_result"
    }
   ],
   "source": [
    "'2022-02-02 07:00:00' in s2"
   ]
  },
  {
   "cell_type": "markdown",
   "id": "e7889686",
   "metadata": {},
   "source": [
    "Wenn ihr Daten in einem Python `dict` habt, könnt ihr daraus eine Serie erstellen, indem ihr das `dict` übergebt:"
   ]
  },
  {
   "cell_type": "code",
   "execution_count": 14,
   "id": "308cf6b6",
   "metadata": {},
   "outputs": [
    {
     "data": {
      "text/plain": [
       "2022-02-02 07:00:00   -2.123230\n",
       "2022-02-02 08:00:00    1.306582\n",
       "2022-02-02 09:00:00    0.610376\n",
       "dtype: float64"
      ]
     },
     "execution_count": 14,
     "metadata": {},
     "output_type": "execute_result"
    }
   ],
   "source": [
    "sdata = {\n",
    "    '2022-02-02 07:00:00': -2.123230,\n",
    "    '2022-02-02 08:00:00':  1.306582,\n",
    "    '2022-02-02 09:00:00':  0.610376\n",
    "}\n",
    "\n",
    "s3 = pd.Series(sdata)\n",
    "\n",
    "s3"
   ]
  },
  {
   "cell_type": "markdown",
   "id": "708e577e",
   "metadata": {},
   "source": [
    "Wenn ihr nur ein `dict` übergebt, berücksichtigt der Index in der resultierenden Serie die Reihenfolge der Schlüssel gemäß der Schlüsselmethode des Diktats, die von der Einfügereihenfolge der Schlüssel abhängt. Ihr könnt dies außer Kraft setzen, indem ihr einen Index mit den Diktatschlüsseln in der Reihenfolge übergebt, in der sie in der resultierenden Reihe erscheinen sollen:"
   ]
  },
  {
   "cell_type": "code",
   "execution_count": 15,
   "id": "1cd98b73",
   "metadata": {},
   "outputs": [
    {
     "data": {
      "text/plain": [
       "2022-02-02 00:00:00   -0.276610\n",
       "2022-02-02 01:00:00   -0.232310\n",
       "2022-02-02 02:00:00    0.280808\n",
       "2022-02-02 03:00:00    0.988572\n",
       "2022-02-02 04:00:00   -1.359819\n",
       "2022-02-02 05:00:00   -0.029214\n",
       "2022-02-02 06:00:00   -1.264333\n",
       "2022-02-02 07:00:00         NaN\n",
       "Freq: H, dtype: float64"
      ]
     },
     "execution_count": 15,
     "metadata": {},
     "output_type": "execute_result"
    }
   ],
   "source": [
    "idx = pd.date_range(\"2022-02-02\", periods=8, freq=\"H\")\n",
    "\n",
    "s3 = pd.Series(s2, index=idx)\n",
    "\n",
    "s3"
   ]
  },
  {
   "cell_type": "markdown",
   "id": "c0a4473a",
   "metadata": {},
   "source": [
    "Hier wurden sieben in `s2` gefundene Werte an die entsprechenden Stellen gesetzt, aber da kein Wert für `2022-02-02 07:00:00` gefunden wurde, erscheint er als `NaN` (_not a number_), was in pandas als Markierung für fehlende oder NA-Werte gilt."
   ]
  },
  {
   "cell_type": "markdown",
   "id": "970e2a76",
   "metadata": {},
   "source": [
    "`NA` und `null` werde ich synonym verwenden, um auf fehlende Daten hinzuweisen. Die Funktionen `isna` und `notna` in pandas sollten verwendet werden, um fehlende Daten zu erkennen:"
   ]
  },
  {
   "cell_type": "code",
   "execution_count": 16,
   "id": "978147d2",
   "metadata": {},
   "outputs": [
    {
     "data": {
      "text/plain": [
       "2022-02-02 00:00:00    False\n",
       "2022-02-02 01:00:00    False\n",
       "2022-02-02 02:00:00    False\n",
       "2022-02-02 03:00:00    False\n",
       "2022-02-02 04:00:00    False\n",
       "2022-02-02 05:00:00    False\n",
       "2022-02-02 06:00:00    False\n",
       "2022-02-02 07:00:00     True\n",
       "Freq: H, dtype: bool"
      ]
     },
     "execution_count": 16,
     "metadata": {},
     "output_type": "execute_result"
    }
   ],
   "source": [
    "pd.isna(s3)"
   ]
  },
  {
   "cell_type": "code",
   "execution_count": 17,
   "id": "b99a477d",
   "metadata": {},
   "outputs": [
    {
     "data": {
      "text/plain": [
       "2022-02-02 00:00:00     True\n",
       "2022-02-02 01:00:00     True\n",
       "2022-02-02 02:00:00     True\n",
       "2022-02-02 03:00:00     True\n",
       "2022-02-02 04:00:00     True\n",
       "2022-02-02 05:00:00     True\n",
       "2022-02-02 06:00:00     True\n",
       "2022-02-02 07:00:00    False\n",
       "Freq: H, dtype: bool"
      ]
     },
     "execution_count": 17,
     "metadata": {},
     "output_type": "execute_result"
    }
   ],
   "source": [
    "pd.notna(s3)"
   ]
  },
  {
   "cell_type": "markdown",
   "id": "9f2de43e",
   "metadata": {},
   "source": [
    "Series hat auch diese als Instanzmethoden:"
   ]
  },
  {
   "cell_type": "code",
   "execution_count": 18,
   "id": "63d438bf",
   "metadata": {},
   "outputs": [
    {
     "data": {
      "text/plain": [
       "2022-02-02 00:00:00    False\n",
       "2022-02-02 01:00:00    False\n",
       "2022-02-02 02:00:00    False\n",
       "2022-02-02 03:00:00    False\n",
       "2022-02-02 04:00:00    False\n",
       "2022-02-02 05:00:00    False\n",
       "2022-02-02 06:00:00    False\n",
       "2022-02-02 07:00:00     True\n",
       "Freq: H, dtype: bool"
      ]
     },
     "execution_count": 18,
     "metadata": {},
     "output_type": "execute_result"
    }
   ],
   "source": [
    "s3.isna()"
   ]
  },
  {
   "cell_type": "markdown",
   "id": "44431dd4",
   "metadata": {},
   "source": [
    "Der Umgang mit fehlenden Daten wird im Abschnitt [Verwalten fehlender Daten mit pandas](clean-prep/nulls.ipynb) ausführlicher behandelt."
   ]
  },
  {
   "cell_type": "markdown",
   "id": "f573b828",
   "metadata": {},
   "source": [
    "Eine für viele Anwendungen nützliche Funktion von Series ist die automatische Ausrichtung nach Indexbezeichnungen bei arithmetischen Operationen:"
   ]
  },
  {
   "cell_type": "code",
   "execution_count": 19,
   "id": "6d3b2f9c",
   "metadata": {},
   "outputs": [
    {
     "data": {
      "text/plain": [
       "2022-02-02 00:00:00   -0.276610\n",
       "2022-02-02 01:00:00   -0.232310\n",
       "2022-02-02 02:00:00    0.280808\n",
       "2022-02-02 03:00:00    0.988572\n",
       "2022-02-02 04:00:00   -1.359819\n",
       "2022-02-02 05:00:00   -0.029214\n",
       "2022-02-02 06:00:00   -1.264333\n",
       "Freq: H, dtype: float64"
      ]
     },
     "execution_count": 19,
     "metadata": {},
     "output_type": "execute_result"
    }
   ],
   "source": [
    "s2"
   ]
  },
  {
   "cell_type": "code",
   "execution_count": 20,
   "id": "d6824679",
   "metadata": {},
   "outputs": [
    {
     "data": {
      "text/plain": [
       "2022-02-02 00:00:00   -0.276610\n",
       "2022-02-02 01:00:00   -0.232310\n",
       "2022-02-02 02:00:00    0.280808\n",
       "2022-02-02 03:00:00    0.988572\n",
       "2022-02-02 04:00:00   -1.359819\n",
       "2022-02-02 05:00:00   -0.029214\n",
       "2022-02-02 06:00:00   -1.264333\n",
       "2022-02-02 07:00:00         NaN\n",
       "Freq: H, dtype: float64"
      ]
     },
     "execution_count": 20,
     "metadata": {},
     "output_type": "execute_result"
    }
   ],
   "source": [
    "s3"
   ]
  },
  {
   "cell_type": "code",
   "execution_count": 21,
   "id": "62172491",
   "metadata": {},
   "outputs": [
    {
     "data": {
      "text/plain": [
       "2022-02-02 00:00:00   -0.553221\n",
       "2022-02-02 01:00:00   -0.464620\n",
       "2022-02-02 02:00:00    0.561616\n",
       "2022-02-02 03:00:00    1.977143\n",
       "2022-02-02 04:00:00   -2.719637\n",
       "2022-02-02 05:00:00   -0.058428\n",
       "2022-02-02 06:00:00   -2.528666\n",
       "2022-02-02 07:00:00         NaN\n",
       "Freq: H, dtype: float64"
      ]
     },
     "execution_count": 21,
     "metadata": {},
     "output_type": "execute_result"
    }
   ],
   "source": [
    "s2 + s3"
   ]
  },
  {
   "cell_type": "markdown",
   "id": "37f92fed",
   "metadata": {},
   "source": [
    "Wenn ihr Erfahrung mit relationalen Datenbanken habt, ähnelt dies einem _Join_-Vorgang."
   ]
  },
  {
   "cell_type": "markdown",
   "id": "dcd51076",
   "metadata": {},
   "source": [
    "Sowohl das Series-Objekt selbst als auch sein Index haben ein `name`-Attribut, das sich in andere Bereiche der pandas-Funktionalität integrieren lässt:"
   ]
  },
  {
   "cell_type": "code",
   "execution_count": 22,
   "id": "9c11d311",
   "metadata": {},
   "outputs": [
    {
     "data": {
      "text/plain": [
       "datetime\n",
       "2022-02-02 00:00:00   -0.276610\n",
       "2022-02-02 01:00:00   -0.232310\n",
       "2022-02-02 02:00:00    0.280808\n",
       "2022-02-02 03:00:00    0.988572\n",
       "2022-02-02 04:00:00   -1.359819\n",
       "2022-02-02 05:00:00   -0.029214\n",
       "2022-02-02 06:00:00   -1.264333\n",
       "2022-02-02 07:00:00         NaN\n",
       "Freq: H, Name: floats, dtype: float64"
      ]
     },
     "execution_count": 22,
     "metadata": {},
     "output_type": "execute_result"
    }
   ],
   "source": [
    "s3.name = 'floats'\n",
    "s3.index.name = 'datetime'\n",
    "s3"
   ]
  }
 ],
 "metadata": {
  "kernelspec": {
   "display_name": "Python 3.8",
   "language": "python",
   "name": "python-38"
  },
  "language_info": {
   "codemirror_mode": {
    "name": "ipython",
    "version": 3
   },
   "file_extension": ".py",
   "mimetype": "text/x-python",
   "name": "python",
   "nbconvert_exporter": "python",
   "pygments_lexer": "ipython3",
   "version": "3.8.12"
  }
 },
 "nbformat": 4,
 "nbformat_minor": 5
}
