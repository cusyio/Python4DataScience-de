{
 "cells": [
  {
   "cell_type": "markdown",
   "id": "51643c6c",
   "metadata": {},
   "source": [
    "# Einführung in die Datenstrukturen von pandas\n",
    "\n",
    "Um mit pandas zu beginnen, solltet ihr euch zunächst mit den beiden wichtigsten Datenstrukturen vertraut machen: [Series](#Series) und [DataFrame](#DataFrame)."
   ]
  },
  {
   "cell_type": "markdown",
   "id": "99d55c75",
   "metadata": {},
   "source": [
    "## Series\n",
    "\n",
    "Eine Serie ist ein eindimensionales Array-ähnliches Objekt, das eine Folge von Werten (von ähnlichen Typen wie die NumPy-Typen) und ein zugehöriges Array von Datenbeschriftungen, genannt Index, enthält. Die einfachste Serie wird nur aus einem Array von Daten gebildet:"
   ]
  },
  {
   "cell_type": "code",
   "execution_count": 1,
   "id": "d80595ad",
   "metadata": {},
   "outputs": [],
   "source": [
    "import numpy as np\n",
    "import pandas as pd"
   ]
  },
  {
   "cell_type": "code",
   "execution_count": 2,
   "id": "31f1212a",
   "metadata": {},
   "outputs": [
    {
     "data": {
      "text/plain": [
       "0   -1.661743\n",
       "1    0.408717\n",
       "2    1.126711\n",
       "3   -0.106557\n",
       "4   -0.428430\n",
       "5   -0.677597\n",
       "6    1.511421\n",
       "dtype: float64"
      ]
     },
     "execution_count": 2,
     "metadata": {},
     "output_type": "execute_result"
    }
   ],
   "source": [
    "s = pd.Series(np.random.randn(7))\n",
    "s"
   ]
  },
  {
   "cell_type": "markdown",
   "id": "f4cb5e44",
   "metadata": {},
   "source": [
    "Die Zeichenkettendarstellung einer interaktiv angezeigten Reihe zeigt den Index auf der linken Seite und die Werte auf der rechten Seite. Da wir keinen Index für die Daten angegeben haben, wird ein Standardindex erstellt, der aus den ganzen Zahlen `0` bis `N - 1` besteht (wobei `N` die Anzahl (_Length_) der Daten ist). Ihr könnt die Array-Darstellung und das Index-Objekt der Reihe über ihre [pandas.Series.array](https://pandas.pydata.org/docs/reference/api/pandas.Series.array.html)- bzw. [pandas.Series.index](https://pandas.pydata.org/docs/reference/api/pandas.Series.index.html)-Attribute erhalten:"
   ]
  },
  {
   "cell_type": "code",
   "execution_count": 3,
   "id": "28efc38c",
   "metadata": {},
   "outputs": [
    {
     "data": {
      "text/plain": [
       "<PandasArray>\n",
       "[ -1.6617425959400232,  0.40871700540494743,   1.1267112029398951,\n",
       " -0.10655686319722943,  -0.4284301358463365,  -0.6775966546149228,\n",
       "    1.511421387928377]\n",
       "Length: 7, dtype: float64"
      ]
     },
     "execution_count": 3,
     "metadata": {},
     "output_type": "execute_result"
    }
   ],
   "source": [
    "s.array"
   ]
  },
  {
   "cell_type": "code",
   "execution_count": 4,
   "id": "e98dfd7d",
   "metadata": {},
   "outputs": [
    {
     "data": {
      "text/plain": [
       "RangeIndex(start=0, stop=7, step=1)"
      ]
     },
     "execution_count": 4,
     "metadata": {},
     "output_type": "execute_result"
    }
   ],
   "source": [
    "s.index"
   ]
  },
  {
   "cell_type": "markdown",
   "id": "1da5d2ba",
   "metadata": {},
   "source": [
    "Oft werdet ihr einen Index erstellen wollen, der jeden Datenpunkt mit einer Bezeichnung kennzeichnet:"
   ]
  },
  {
   "cell_type": "code",
   "execution_count": 5,
   "id": "6778269f",
   "metadata": {},
   "outputs": [],
   "source": [
    "idx = pd.date_range(\"2022-02-02\", periods=7, freq=\"H\")\n",
    "\n",
    "s2 = pd.Series(np.random.randn(7), index=idx)"
   ]
  },
  {
   "cell_type": "code",
   "execution_count": 6,
   "id": "125f3bc7",
   "metadata": {},
   "outputs": [
    {
     "data": {
      "text/plain": [
       "2022-02-02 00:00:00   -0.180519\n",
       "2022-02-02 01:00:00    2.113742\n",
       "2022-02-02 02:00:00    0.011491\n",
       "2022-02-02 03:00:00   -0.868093\n",
       "2022-02-02 04:00:00    0.085760\n",
       "2022-02-02 05:00:00    0.381963\n",
       "2022-02-02 06:00:00   -0.745915\n",
       "Freq: H, dtype: float64"
      ]
     },
     "execution_count": 6,
     "metadata": {},
     "output_type": "execute_result"
    }
   ],
   "source": [
    "s2"
   ]
  },
  {
   "cell_type": "markdown",
   "id": "f0b876d2",
   "metadata": {},
   "source": [
    "> **Siehe auch:**\n",
    "> \n",
    "> [Time series / date functionality](https://pandas.pydata.org/pandas-docs/stable/user_guide/timeseries.html)"
   ]
  },
  {
   "cell_type": "markdown",
   "id": "5c0799de",
   "metadata": {},
   "source": [
    "Im Vergleich zu NumPy-Arrays könnt ihr die Beschriftungen im Index verwenden, wenn ihr einzelne Werte oder eine Gruppe von Werten auswählen wollt:"
   ]
  },
  {
   "cell_type": "code",
   "execution_count": 7,
   "id": "229347d7",
   "metadata": {},
   "outputs": [
    {
     "data": {
      "text/plain": [
       "-0.18051872776243905"
      ]
     },
     "execution_count": 7,
     "metadata": {},
     "output_type": "execute_result"
    }
   ],
   "source": [
    "s2['2022-02-02 00:00:00']"
   ]
  },
  {
   "cell_type": "code",
   "execution_count": 8,
   "id": "2f272fbd",
   "metadata": {},
   "outputs": [
    {
     "data": {
      "text/plain": [
       "2022-02-02 00:00:00   -0.180519\n",
       "2022-02-02 01:00:00    2.113742\n",
       "2022-02-02 02:00:00    0.011491\n",
       "dtype: float64"
      ]
     },
     "execution_count": 8,
     "metadata": {},
     "output_type": "execute_result"
    }
   ],
   "source": [
    "s2[['2022-02-02 00:00:00', '2022-02-02 01:00:00', '2022-02-02 02:00:00']]"
   ]
  },
  {
   "cell_type": "markdown",
   "id": "8928366e",
   "metadata": {},
   "source": [
    "Hier wird `['2022-02-02 00:00:00', '2022-02-02 01:00:00', '2022-02-02 02:00:00']` als eine Liste von Indizes interpretiert, auch wenn sie Strings anstelle von ganzen Zahlen enthält."
   ]
  },
  {
   "cell_type": "markdown",
   "id": "362d86be",
   "metadata": {},
   "source": [
    "Bei der Verwendung von NumPy-Funktionen oder NumPy-ähnlichen Operationen, wie z. B. dem Filtern mit einem booleschen Array, der skalaren Multiplikation oder der Anwendung mathematischer Funktionen, bleibt die Verknüpfung zwischen Index und Wert erhalten:"
   ]
  },
  {
   "cell_type": "code",
   "execution_count": 9,
   "id": "8b846d1b",
   "metadata": {},
   "outputs": [
    {
     "data": {
      "text/plain": [
       "2022-02-02 01:00:00    2.113742\n",
       "2022-02-02 02:00:00    0.011491\n",
       "2022-02-02 04:00:00    0.085760\n",
       "2022-02-02 05:00:00    0.381963\n",
       "dtype: float64"
      ]
     },
     "execution_count": 9,
     "metadata": {},
     "output_type": "execute_result"
    }
   ],
   "source": [
    "s2[s2 > 0]"
   ]
  },
  {
   "cell_type": "code",
   "execution_count": 10,
   "id": "5c1ba80e",
   "metadata": {},
   "outputs": [
    {
     "data": {
      "text/plain": [
       "2022-02-02 00:00:00    0.032587\n",
       "2022-02-02 01:00:00    4.467904\n",
       "2022-02-02 02:00:00    0.000132\n",
       "2022-02-02 03:00:00    0.753586\n",
       "2022-02-02 04:00:00    0.007355\n",
       "2022-02-02 05:00:00    0.145896\n",
       "2022-02-02 06:00:00    0.556389\n",
       "Freq: H, dtype: float64"
      ]
     },
     "execution_count": 10,
     "metadata": {},
     "output_type": "execute_result"
    }
   ],
   "source": [
    "s2 ** 2"
   ]
  },
  {
   "cell_type": "code",
   "execution_count": 11,
   "id": "2bd11d0e",
   "metadata": {},
   "outputs": [
    {
     "data": {
      "text/plain": [
       "2022-02-02 00:00:00    0.834837\n",
       "2022-02-02 01:00:00    8.279163\n",
       "2022-02-02 02:00:00    1.011557\n",
       "2022-02-02 03:00:00    0.419751\n",
       "2022-02-02 04:00:00    1.089544\n",
       "2022-02-02 05:00:00    1.465159\n",
       "2022-02-02 06:00:00    0.474300\n",
       "Freq: H, dtype: float64"
      ]
     },
     "execution_count": 11,
     "metadata": {},
     "output_type": "execute_result"
    }
   ],
   "source": [
    "import numpy as np\n",
    "\n",
    "np.exp(s2)"
   ]
  },
  {
   "cell_type": "markdown",
   "id": "79e779b5",
   "metadata": {},
   "source": [
    "Ihr könnt euch eine Serie auch als ein _ordered dict_ mit fester Länge vorstellen, da sie eine Zuordnung von Indexwerten zu Datenwerten darstellt. Sie kann in vielen Kontexten verwendet werden, in denen man ein _dict_ verwenden könnte:"
   ]
  },
  {
   "cell_type": "code",
   "execution_count": 12,
   "id": "4b4ce5a1",
   "metadata": {},
   "outputs": [
    {
     "data": {
      "text/plain": [
       "True"
      ]
     },
     "execution_count": 12,
     "metadata": {},
     "output_type": "execute_result"
    }
   ],
   "source": [
    "'2022-02-02 01:00:00' in s2"
   ]
  },
  {
   "cell_type": "code",
   "execution_count": 13,
   "id": "8f12b7dd",
   "metadata": {},
   "outputs": [
    {
     "data": {
      "text/plain": [
       "False"
      ]
     },
     "execution_count": 13,
     "metadata": {},
     "output_type": "execute_result"
    }
   ],
   "source": [
    "'2022-02-02 07:00:00' in s2"
   ]
  },
  {
   "cell_type": "markdown",
   "id": "2895ea17",
   "metadata": {},
   "source": [
    "Wenn ihr Daten in einem Python `dict` habt, könnt ihr daraus eine Serie erstellen, indem ihr das `dict` übergebt:"
   ]
  },
  {
   "cell_type": "code",
   "execution_count": 14,
   "id": "32b8bf11",
   "metadata": {},
   "outputs": [
    {
     "data": {
      "text/plain": [
       "2022-02-02 07:00:00   -2.123230\n",
       "2022-02-02 08:00:00    1.306582\n",
       "2022-02-02 09:00:00    0.610376\n",
       "dtype: float64"
      ]
     },
     "execution_count": 14,
     "metadata": {},
     "output_type": "execute_result"
    }
   ],
   "source": [
    "sdata = {\n",
    "    '2022-02-02 07:00:00': -2.123230,\n",
    "    '2022-02-02 08:00:00':  1.306582,\n",
    "    '2022-02-02 09:00:00':  0.610376\n",
    "}\n",
    "\n",
    "s3 = pd.Series(sdata)\n",
    "\n",
    "s3"
   ]
  },
  {
   "cell_type": "markdown",
   "id": "93daaf38",
   "metadata": {},
   "source": [
    "Wenn ihr nur ein `dict` übergebt, berücksichtigt der Index in der resultierenden Serie die Reihenfolge der Schlüssel gemäß der Schlüsselmethode des Diktats, die von der Einfügereihenfolge der Schlüssel abhängt. Ihr könnt dies außer Kraft setzen, indem ihr einen Index mit den Diktatschlüsseln in der Reihenfolge übergebt, in der sie in der resultierenden Reihe erscheinen sollen:"
   ]
  },
  {
   "cell_type": "code",
   "execution_count": 15,
   "id": "baebbb80",
   "metadata": {},
   "outputs": [
    {
     "data": {
      "text/plain": [
       "2022-02-02 00:00:00   -0.180519\n",
       "2022-02-02 01:00:00    2.113742\n",
       "2022-02-02 02:00:00    0.011491\n",
       "2022-02-02 03:00:00   -0.868093\n",
       "2022-02-02 04:00:00    0.085760\n",
       "2022-02-02 05:00:00    0.381963\n",
       "2022-02-02 06:00:00   -0.745915\n",
       "2022-02-02 07:00:00         NaN\n",
       "Freq: H, dtype: float64"
      ]
     },
     "execution_count": 15,
     "metadata": {},
     "output_type": "execute_result"
    }
   ],
   "source": [
    "idx = pd.date_range(\"2022-02-02\", periods=8, freq=\"H\")\n",
    "\n",
    "s3 = pd.Series(s2, index=idx)\n",
    "\n",
    "s3"
   ]
  },
  {
   "cell_type": "markdown",
   "id": "ee392ce7",
   "metadata": {},
   "source": [
    "Hier wurden sieben in `s2` gefundene Werte an die entsprechenden Stellen gesetzt, aber da kein Wert für `2022-02-02 07:00:00` gefunden wurde, erscheint er als `NaN` (_not a number_), was in pandas als Markierung für fehlende oder NA-Werte gilt."
   ]
  },
  {
   "cell_type": "markdown",
   "id": "05a0a78f",
   "metadata": {},
   "source": [
    "`NA` und `null` werde ich synonym verwenden, um auf fehlende Daten hinzuweisen. Die Funktionen `isna` und `notna` in pandas sollten verwendet werden, um fehlende Daten zu erkennen:"
   ]
  },
  {
   "cell_type": "code",
   "execution_count": 16,
   "id": "89883b6e",
   "metadata": {},
   "outputs": [
    {
     "data": {
      "text/plain": [
       "2022-02-02 00:00:00    False\n",
       "2022-02-02 01:00:00    False\n",
       "2022-02-02 02:00:00    False\n",
       "2022-02-02 03:00:00    False\n",
       "2022-02-02 04:00:00    False\n",
       "2022-02-02 05:00:00    False\n",
       "2022-02-02 06:00:00    False\n",
       "2022-02-02 07:00:00     True\n",
       "Freq: H, dtype: bool"
      ]
     },
     "execution_count": 16,
     "metadata": {},
     "output_type": "execute_result"
    }
   ],
   "source": [
    "pd.isna(s3)"
   ]
  },
  {
   "cell_type": "code",
   "execution_count": 17,
   "id": "799fa3ec",
   "metadata": {},
   "outputs": [
    {
     "data": {
      "text/plain": [
       "2022-02-02 00:00:00     True\n",
       "2022-02-02 01:00:00     True\n",
       "2022-02-02 02:00:00     True\n",
       "2022-02-02 03:00:00     True\n",
       "2022-02-02 04:00:00     True\n",
       "2022-02-02 05:00:00     True\n",
       "2022-02-02 06:00:00     True\n",
       "2022-02-02 07:00:00    False\n",
       "Freq: H, dtype: bool"
      ]
     },
     "execution_count": 17,
     "metadata": {},
     "output_type": "execute_result"
    }
   ],
   "source": [
    "pd.notna(s3)"
   ]
  },
  {
   "cell_type": "markdown",
   "id": "a879c973",
   "metadata": {},
   "source": [
    "Series hat auch diese als Instanzmethoden:"
   ]
  },
  {
   "cell_type": "code",
   "execution_count": 18,
   "id": "5050d92b",
   "metadata": {},
   "outputs": [
    {
     "data": {
      "text/plain": [
       "2022-02-02 00:00:00    False\n",
       "2022-02-02 01:00:00    False\n",
       "2022-02-02 02:00:00    False\n",
       "2022-02-02 03:00:00    False\n",
       "2022-02-02 04:00:00    False\n",
       "2022-02-02 05:00:00    False\n",
       "2022-02-02 06:00:00    False\n",
       "2022-02-02 07:00:00     True\n",
       "Freq: H, dtype: bool"
      ]
     },
     "execution_count": 18,
     "metadata": {},
     "output_type": "execute_result"
    }
   ],
   "source": [
    "s3.isna()"
   ]
  },
  {
   "cell_type": "markdown",
   "id": "f31d2bf2",
   "metadata": {},
   "source": [
    "Der Umgang mit fehlenden Daten wird im Abschnitt [Verwalten fehlender Daten mit pandas](clean-prep/nulls.ipynb) ausführlicher behandelt."
   ]
  },
  {
   "cell_type": "markdown",
   "id": "c16a7d6c",
   "metadata": {},
   "source": [
    "Eine für viele Anwendungen nützliche Funktion von Series ist die automatische Ausrichtung nach Indexbezeichnungen bei arithmetischen Operationen:"
   ]
  },
  {
   "cell_type": "code",
   "execution_count": 19,
   "id": "8da648bb",
   "metadata": {},
   "outputs": [
    {
     "data": {
      "text/plain": [
       "2022-02-02 00:00:00   -0.180519\n",
       "2022-02-02 01:00:00    2.113742\n",
       "2022-02-02 02:00:00    0.011491\n",
       "2022-02-02 03:00:00   -0.868093\n",
       "2022-02-02 04:00:00    0.085760\n",
       "2022-02-02 05:00:00    0.381963\n",
       "2022-02-02 06:00:00   -0.745915\n",
       "Freq: H, dtype: float64"
      ]
     },
     "execution_count": 19,
     "metadata": {},
     "output_type": "execute_result"
    }
   ],
   "source": [
    "s2"
   ]
  },
  {
   "cell_type": "code",
   "execution_count": 20,
   "id": "f871951b",
   "metadata": {},
   "outputs": [
    {
     "data": {
      "text/plain": [
       "2022-02-02 00:00:00   -0.180519\n",
       "2022-02-02 01:00:00    2.113742\n",
       "2022-02-02 02:00:00    0.011491\n",
       "2022-02-02 03:00:00   -0.868093\n",
       "2022-02-02 04:00:00    0.085760\n",
       "2022-02-02 05:00:00    0.381963\n",
       "2022-02-02 06:00:00   -0.745915\n",
       "2022-02-02 07:00:00         NaN\n",
       "Freq: H, dtype: float64"
      ]
     },
     "execution_count": 20,
     "metadata": {},
     "output_type": "execute_result"
    }
   ],
   "source": [
    "s3"
   ]
  },
  {
   "cell_type": "code",
   "execution_count": 21,
   "id": "8b7d7230",
   "metadata": {},
   "outputs": [
    {
     "data": {
      "text/plain": [
       "2022-02-02 00:00:00   -0.361037\n",
       "2022-02-02 01:00:00    4.227484\n",
       "2022-02-02 02:00:00    0.022982\n",
       "2022-02-02 03:00:00   -1.736187\n",
       "2022-02-02 04:00:00    0.171519\n",
       "2022-02-02 05:00:00    0.763927\n",
       "2022-02-02 06:00:00   -1.491829\n",
       "2022-02-02 07:00:00         NaN\n",
       "Freq: H, dtype: float64"
      ]
     },
     "execution_count": 21,
     "metadata": {},
     "output_type": "execute_result"
    }
   ],
   "source": [
    "s2 + s3"
   ]
  },
  {
   "cell_type": "markdown",
   "id": "159c693a",
   "metadata": {},
   "source": [
    "Wenn ihr Erfahrung mit relationalen Datenbanken habt, ähnelt dies einem _Join_-Vorgang."
   ]
  },
  {
   "cell_type": "markdown",
   "id": "aa27f8dc",
   "metadata": {},
   "source": [
    "Sowohl das Series-Objekt selbst als auch sein Index haben ein `name`-Attribut, das sich in andere Bereiche der pandas-Funktionalität integrieren lässt:"
   ]
  },
  {
   "cell_type": "code",
   "execution_count": 22,
   "id": "54c37e86",
   "metadata": {},
   "outputs": [
    {
     "data": {
      "text/plain": [
       "datetime\n",
       "2022-02-02 00:00:00   -0.180519\n",
       "2022-02-02 01:00:00    2.113742\n",
       "2022-02-02 02:00:00    0.011491\n",
       "2022-02-02 03:00:00   -0.868093\n",
       "2022-02-02 04:00:00    0.085760\n",
       "2022-02-02 05:00:00    0.381963\n",
       "2022-02-02 06:00:00   -0.745915\n",
       "2022-02-02 07:00:00         NaN\n",
       "Freq: H, Name: floats, dtype: float64"
      ]
     },
     "execution_count": 22,
     "metadata": {},
     "output_type": "execute_result"
    }
   ],
   "source": [
    "s3.name = 'floats'\n",
    "s3.index.name = 'datetime'\n",
    "\n",
    "s3"
   ]
  },
  {
   "cell_type": "markdown",
   "id": "6a4e7b07",
   "metadata": {},
   "source": [
    "## DataFrame\n",
    "\n",
    "Ein DataFrame stellt eine rechteckige Datentabelle dar und enthält eine geordnete, benannte Sammlung von Spalten, von denen jede einen anderen Werttyp haben kann. Der DataFrame hat sowohl einen Zeilen- als auch einen Spaltenindex.\n",
    "\n",
    "> **Bemerkung:**\n",
    "> \n",
    "> Ein DataFrame ist zwar zweidimensional, ihr könnt ihn aber auch verwenden, um mit [join](https://pandas.pydata.org/docs/reference/api/pandas.DataFrame.join.html), [combine](https://pandas.pydata.org/docs/reference/api/pandas.DataFrame.combine.html) und [Reshaping](https://pandas.pydata.org/pandas-docs/stable/user_guide/reshaping.html) höherdimensionale Daten in einem Tabellenformat mit hierarchischer Indizierung darzustellen."
   ]
  },
  {
   "cell_type": "code",
   "execution_count": 23,
   "id": "be6c30fa",
   "metadata": {},
   "outputs": [
    {
     "data": {
      "text/html": [
       "<div>\n",
       "<style scoped>\n",
       "    .dataframe tbody tr th:only-of-type {\n",
       "        vertical-align: middle;\n",
       "    }\n",
       "\n",
       "    .dataframe tbody tr th {\n",
       "        vertical-align: top;\n",
       "    }\n",
       "\n",
       "    .dataframe thead th {\n",
       "        text-align: right;\n",
       "    }\n",
       "</style>\n",
       "<table border=\"1\" class=\"dataframe\">\n",
       "  <thead>\n",
       "    <tr style=\"text-align: right;\">\n",
       "      <th></th>\n",
       "      <th>Code</th>\n",
       "      <th>Decimal</th>\n",
       "      <th>Octal</th>\n",
       "      <th>Key</th>\n",
       "    </tr>\n",
       "  </thead>\n",
       "  <tbody>\n",
       "    <tr>\n",
       "      <th>0</th>\n",
       "      <td>U+0000</td>\n",
       "      <td>0</td>\n",
       "      <td>001</td>\n",
       "      <td>NUL</td>\n",
       "    </tr>\n",
       "    <tr>\n",
       "      <th>1</th>\n",
       "      <td>U+0001</td>\n",
       "      <td>1</td>\n",
       "      <td>002</td>\n",
       "      <td>Ctrl-A</td>\n",
       "    </tr>\n",
       "    <tr>\n",
       "      <th>2</th>\n",
       "      <td>U+0002</td>\n",
       "      <td>2</td>\n",
       "      <td>003</td>\n",
       "      <td>Ctrl-B</td>\n",
       "    </tr>\n",
       "    <tr>\n",
       "      <th>3</th>\n",
       "      <td>U+0003</td>\n",
       "      <td>3</td>\n",
       "      <td>004</td>\n",
       "      <td>Ctrl-C</td>\n",
       "    </tr>\n",
       "    <tr>\n",
       "      <th>4</th>\n",
       "      <td>U+0004</td>\n",
       "      <td>4</td>\n",
       "      <td>004</td>\n",
       "      <td>Ctrl-D</td>\n",
       "    </tr>\n",
       "    <tr>\n",
       "      <th>5</th>\n",
       "      <td>U+0005</td>\n",
       "      <td>5</td>\n",
       "      <td>005</td>\n",
       "      <td>Ctrl-E</td>\n",
       "    </tr>\n",
       "  </tbody>\n",
       "</table>\n",
       "</div>"
      ],
      "text/plain": [
       "     Code  Decimal Octal     Key\n",
       "0  U+0000        0   001     NUL\n",
       "1  U+0001        1   002  Ctrl-A\n",
       "2  U+0002        2   003  Ctrl-B\n",
       "3  U+0003        3   004  Ctrl-C\n",
       "4  U+0004        4   004  Ctrl-D\n",
       "5  U+0005        5   005  Ctrl-E"
      ]
     },
     "execution_count": 23,
     "metadata": {},
     "output_type": "execute_result"
    }
   ],
   "source": [
    "data = {'Code': ['U+0000', 'U+0001', 'U+0002', 'U+0003', 'U+0004', 'U+0005'],\n",
    "        'Decimal': [0, 1, 2, 3, 4, 5],\n",
    "        'Octal': ['001', '002', '003', '004', '004', '005'],\n",
    "        'Key': ['NUL', 'Ctrl-A', 'Ctrl-B', 'Ctrl-C', 'Ctrl-D', 'Ctrl-E']}\n",
    "\n",
    "df = pd.DataFrame(data)\n",
    "\n",
    "df"
   ]
  },
  {
   "cell_type": "markdown",
   "id": "a24a7086",
   "metadata": {},
   "source": [
    "Bei großen DataFrames wählt die `head`-Methode nur die ersten fünf Zeilen aus:"
   ]
  },
  {
   "cell_type": "code",
   "execution_count": 24,
   "id": "3a45ddab",
   "metadata": {},
   "outputs": [
    {
     "data": {
      "text/html": [
       "<div>\n",
       "<style scoped>\n",
       "    .dataframe tbody tr th:only-of-type {\n",
       "        vertical-align: middle;\n",
       "    }\n",
       "\n",
       "    .dataframe tbody tr th {\n",
       "        vertical-align: top;\n",
       "    }\n",
       "\n",
       "    .dataframe thead th {\n",
       "        text-align: right;\n",
       "    }\n",
       "</style>\n",
       "<table border=\"1\" class=\"dataframe\">\n",
       "  <thead>\n",
       "    <tr style=\"text-align: right;\">\n",
       "      <th></th>\n",
       "      <th>Code</th>\n",
       "      <th>Decimal</th>\n",
       "      <th>Octal</th>\n",
       "      <th>Key</th>\n",
       "    </tr>\n",
       "  </thead>\n",
       "  <tbody>\n",
       "    <tr>\n",
       "      <th>0</th>\n",
       "      <td>U+0000</td>\n",
       "      <td>0</td>\n",
       "      <td>001</td>\n",
       "      <td>NUL</td>\n",
       "    </tr>\n",
       "    <tr>\n",
       "      <th>1</th>\n",
       "      <td>U+0001</td>\n",
       "      <td>1</td>\n",
       "      <td>002</td>\n",
       "      <td>Ctrl-A</td>\n",
       "    </tr>\n",
       "    <tr>\n",
       "      <th>2</th>\n",
       "      <td>U+0002</td>\n",
       "      <td>2</td>\n",
       "      <td>003</td>\n",
       "      <td>Ctrl-B</td>\n",
       "    </tr>\n",
       "    <tr>\n",
       "      <th>3</th>\n",
       "      <td>U+0003</td>\n",
       "      <td>3</td>\n",
       "      <td>004</td>\n",
       "      <td>Ctrl-C</td>\n",
       "    </tr>\n",
       "    <tr>\n",
       "      <th>4</th>\n",
       "      <td>U+0004</td>\n",
       "      <td>4</td>\n",
       "      <td>004</td>\n",
       "      <td>Ctrl-D</td>\n",
       "    </tr>\n",
       "  </tbody>\n",
       "</table>\n",
       "</div>"
      ],
      "text/plain": [
       "     Code  Decimal Octal     Key\n",
       "0  U+0000        0   001     NUL\n",
       "1  U+0001        1   002  Ctrl-A\n",
       "2  U+0002        2   003  Ctrl-B\n",
       "3  U+0003        3   004  Ctrl-C\n",
       "4  U+0004        4   004  Ctrl-D"
      ]
     },
     "execution_count": 24,
     "metadata": {},
     "output_type": "execute_result"
    }
   ],
   "source": [
    "df.head()"
   ]
  },
  {
   "cell_type": "markdown",
   "id": "b6ece52e",
   "metadata": {},
   "source": [
    "Ihr könnt auch die Reihenfolge der Spalten angeben:"
   ]
  },
  {
   "cell_type": "code",
   "execution_count": 25,
   "id": "e7cbe894",
   "metadata": {},
   "outputs": [
    {
     "data": {
      "text/html": [
       "<div>\n",
       "<style scoped>\n",
       "    .dataframe tbody tr th:only-of-type {\n",
       "        vertical-align: middle;\n",
       "    }\n",
       "\n",
       "    .dataframe tbody tr th {\n",
       "        vertical-align: top;\n",
       "    }\n",
       "\n",
       "    .dataframe thead th {\n",
       "        text-align: right;\n",
       "    }\n",
       "</style>\n",
       "<table border=\"1\" class=\"dataframe\">\n",
       "  <thead>\n",
       "    <tr style=\"text-align: right;\">\n",
       "      <th></th>\n",
       "      <th>Code</th>\n",
       "      <th>Key</th>\n",
       "    </tr>\n",
       "  </thead>\n",
       "  <tbody>\n",
       "    <tr>\n",
       "      <th>0</th>\n",
       "      <td>U+0000</td>\n",
       "      <td>NUL</td>\n",
       "    </tr>\n",
       "    <tr>\n",
       "      <th>1</th>\n",
       "      <td>U+0001</td>\n",
       "      <td>Ctrl-A</td>\n",
       "    </tr>\n",
       "    <tr>\n",
       "      <th>2</th>\n",
       "      <td>U+0002</td>\n",
       "      <td>Ctrl-B</td>\n",
       "    </tr>\n",
       "    <tr>\n",
       "      <th>3</th>\n",
       "      <td>U+0003</td>\n",
       "      <td>Ctrl-C</td>\n",
       "    </tr>\n",
       "    <tr>\n",
       "      <th>4</th>\n",
       "      <td>U+0004</td>\n",
       "      <td>Ctrl-D</td>\n",
       "    </tr>\n",
       "    <tr>\n",
       "      <th>5</th>\n",
       "      <td>U+0005</td>\n",
       "      <td>Ctrl-E</td>\n",
       "    </tr>\n",
       "  </tbody>\n",
       "</table>\n",
       "</div>"
      ],
      "text/plain": [
       "     Code     Key\n",
       "0  U+0000     NUL\n",
       "1  U+0001  Ctrl-A\n",
       "2  U+0002  Ctrl-B\n",
       "3  U+0003  Ctrl-C\n",
       "4  U+0004  Ctrl-D\n",
       "5  U+0005  Ctrl-E"
      ]
     },
     "execution_count": 25,
     "metadata": {},
     "output_type": "execute_result"
    }
   ],
   "source": [
    "pd.DataFrame(data, columns=['Code', 'Key'])"
   ]
  },
  {
   "cell_type": "markdown",
   "id": "9b0a9c27",
   "metadata": {},
   "source": [
    "Wenn ihr eine Spalte übergeben wollt, die nicht im `dict` enthalten ist, wird sie mit fehlenden Werten im Ergebnis erscheinen:"
   ]
  },
  {
   "cell_type": "code",
   "execution_count": 26,
   "id": "c176f2fd",
   "metadata": {},
   "outputs": [
    {
     "data": {
      "text/html": [
       "<div>\n",
       "<style scoped>\n",
       "    .dataframe tbody tr th:only-of-type {\n",
       "        vertical-align: middle;\n",
       "    }\n",
       "\n",
       "    .dataframe tbody tr th {\n",
       "        vertical-align: top;\n",
       "    }\n",
       "\n",
       "    .dataframe thead th {\n",
       "        text-align: right;\n",
       "    }\n",
       "</style>\n",
       "<table border=\"1\" class=\"dataframe\">\n",
       "  <thead>\n",
       "    <tr style=\"text-align: right;\">\n",
       "      <th></th>\n",
       "      <th>Code</th>\n",
       "      <th>Decimal</th>\n",
       "      <th>Octal</th>\n",
       "      <th>Description</th>\n",
       "      <th>Key</th>\n",
       "    </tr>\n",
       "  </thead>\n",
       "  <tbody>\n",
       "    <tr>\n",
       "      <th>0</th>\n",
       "      <td>U+0000</td>\n",
       "      <td>0</td>\n",
       "      <td>001</td>\n",
       "      <td>NaN</td>\n",
       "      <td>NUL</td>\n",
       "    </tr>\n",
       "    <tr>\n",
       "      <th>1</th>\n",
       "      <td>U+0001</td>\n",
       "      <td>1</td>\n",
       "      <td>002</td>\n",
       "      <td>NaN</td>\n",
       "      <td>Ctrl-A</td>\n",
       "    </tr>\n",
       "    <tr>\n",
       "      <th>2</th>\n",
       "      <td>U+0002</td>\n",
       "      <td>2</td>\n",
       "      <td>003</td>\n",
       "      <td>NaN</td>\n",
       "      <td>Ctrl-B</td>\n",
       "    </tr>\n",
       "    <tr>\n",
       "      <th>3</th>\n",
       "      <td>U+0003</td>\n",
       "      <td>3</td>\n",
       "      <td>004</td>\n",
       "      <td>NaN</td>\n",
       "      <td>Ctrl-C</td>\n",
       "    </tr>\n",
       "    <tr>\n",
       "      <th>4</th>\n",
       "      <td>U+0004</td>\n",
       "      <td>4</td>\n",
       "      <td>004</td>\n",
       "      <td>NaN</td>\n",
       "      <td>Ctrl-D</td>\n",
       "    </tr>\n",
       "    <tr>\n",
       "      <th>5</th>\n",
       "      <td>U+0005</td>\n",
       "      <td>5</td>\n",
       "      <td>005</td>\n",
       "      <td>NaN</td>\n",
       "      <td>Ctrl-E</td>\n",
       "    </tr>\n",
       "  </tbody>\n",
       "</table>\n",
       "</div>"
      ],
      "text/plain": [
       "     Code  Decimal Octal Description     Key\n",
       "0  U+0000        0   001         NaN     NUL\n",
       "1  U+0001        1   002         NaN  Ctrl-A\n",
       "2  U+0002        2   003         NaN  Ctrl-B\n",
       "3  U+0003        3   004         NaN  Ctrl-C\n",
       "4  U+0004        4   004         NaN  Ctrl-D\n",
       "5  U+0005        5   005         NaN  Ctrl-E"
      ]
     },
     "execution_count": 26,
     "metadata": {},
     "output_type": "execute_result"
    }
   ],
   "source": [
    "df2 = pd.DataFrame(data, columns=['Code', 'Decimal', 'Octal', 'Description', 'Key'])\n",
    "\n",
    "df2"
   ]
  },
  {
   "cell_type": "markdown",
   "id": "24d48b1c",
   "metadata": {},
   "source": [
    "Ihr könnt eine Spalte in einem DataFrame mit einer`dict`-ähnlichen Notation abrufen:"
   ]
  },
  {
   "cell_type": "code",
   "execution_count": 27,
   "id": "635c67ee",
   "metadata": {},
   "outputs": [
    {
     "data": {
      "text/plain": [
       "0    U+0000\n",
       "1    U+0001\n",
       "2    U+0002\n",
       "3    U+0003\n",
       "4    U+0004\n",
       "5    U+0005\n",
       "Name: Code, dtype: object"
      ]
     },
     "execution_count": 27,
     "metadata": {},
     "output_type": "execute_result"
    }
   ],
   "source": [
    "df['Code']"
   ]
  },
  {
   "cell_type": "markdown",
   "id": "f76e6661",
   "metadata": {},
   "source": [
    "So könnt ihr auch eine Spalte zum Index machen:"
   ]
  },
  {
   "cell_type": "code",
   "execution_count": 28,
   "id": "2b62be95",
   "metadata": {
    "scrolled": true
   },
   "outputs": [
    {
     "data": {
      "text/html": [
       "<div>\n",
       "<style scoped>\n",
       "    .dataframe tbody tr th:only-of-type {\n",
       "        vertical-align: middle;\n",
       "    }\n",
       "\n",
       "    .dataframe tbody tr th {\n",
       "        vertical-align: top;\n",
       "    }\n",
       "\n",
       "    .dataframe thead th {\n",
       "        text-align: right;\n",
       "    }\n",
       "</style>\n",
       "<table border=\"1\" class=\"dataframe\">\n",
       "  <thead>\n",
       "    <tr style=\"text-align: right;\">\n",
       "      <th></th>\n",
       "      <th>Decimal</th>\n",
       "      <th>Octal</th>\n",
       "      <th>Description</th>\n",
       "      <th>Key</th>\n",
       "    </tr>\n",
       "    <tr>\n",
       "      <th>Code</th>\n",
       "      <th></th>\n",
       "      <th></th>\n",
       "      <th></th>\n",
       "      <th></th>\n",
       "    </tr>\n",
       "  </thead>\n",
       "  <tbody>\n",
       "    <tr>\n",
       "      <th>U+0000</th>\n",
       "      <td>0</td>\n",
       "      <td>001</td>\n",
       "      <td>NaN</td>\n",
       "      <td>NUL</td>\n",
       "    </tr>\n",
       "    <tr>\n",
       "      <th>U+0001</th>\n",
       "      <td>1</td>\n",
       "      <td>002</td>\n",
       "      <td>NaN</td>\n",
       "      <td>Ctrl-A</td>\n",
       "    </tr>\n",
       "    <tr>\n",
       "      <th>U+0002</th>\n",
       "      <td>2</td>\n",
       "      <td>003</td>\n",
       "      <td>NaN</td>\n",
       "      <td>Ctrl-B</td>\n",
       "    </tr>\n",
       "    <tr>\n",
       "      <th>U+0003</th>\n",
       "      <td>3</td>\n",
       "      <td>004</td>\n",
       "      <td>NaN</td>\n",
       "      <td>Ctrl-C</td>\n",
       "    </tr>\n",
       "    <tr>\n",
       "      <th>U+0004</th>\n",
       "      <td>4</td>\n",
       "      <td>004</td>\n",
       "      <td>NaN</td>\n",
       "      <td>Ctrl-D</td>\n",
       "    </tr>\n",
       "    <tr>\n",
       "      <th>U+0005</th>\n",
       "      <td>5</td>\n",
       "      <td>005</td>\n",
       "      <td>NaN</td>\n",
       "      <td>Ctrl-E</td>\n",
       "    </tr>\n",
       "  </tbody>\n",
       "</table>\n",
       "</div>"
      ],
      "text/plain": [
       "        Decimal Octal Description     Key\n",
       "Code                                     \n",
       "U+0000        0   001         NaN     NUL\n",
       "U+0001        1   002         NaN  Ctrl-A\n",
       "U+0002        2   003         NaN  Ctrl-B\n",
       "U+0003        3   004         NaN  Ctrl-C\n",
       "U+0004        4   004         NaN  Ctrl-D\n",
       "U+0005        5   005         NaN  Ctrl-E"
      ]
     },
     "execution_count": 28,
     "metadata": {},
     "output_type": "execute_result"
    }
   ],
   "source": [
    "df2 = pd.DataFrame(data,\n",
    "                   columns=['Decimal', 'Octal', 'Description', 'Key'],\n",
    "                   index=df['Code'])\n",
    "\n",
    "df2"
   ]
  },
  {
   "cell_type": "markdown",
   "id": "986bd030",
   "metadata": {},
   "source": [
    "Zeilen können nach Position oder Name mit dem [pandas.DataFrame.loc](https://pandas.pydata.org/docs/reference/api/pandas.DataFrame.loc.html)-Attribut abgerufen werden:"
   ]
  },
  {
   "cell_type": "code",
   "execution_count": 29,
   "id": "ea9cb083",
   "metadata": {},
   "outputs": [
    {
     "data": {
      "text/plain": [
       "Decimal             1\n",
       "Octal             002\n",
       "Description       NaN\n",
       "Key            Ctrl-A\n",
       "Name: U+0001, dtype: object"
      ]
     },
     "execution_count": 29,
     "metadata": {},
     "output_type": "execute_result"
    }
   ],
   "source": [
    "df2.loc['U+0001']"
   ]
  },
  {
   "cell_type": "markdown",
   "id": "109a5d78",
   "metadata": {},
   "source": [
    "Spaltenwerte können durch Zuweisung geändert werden. Zum Beispiel könnte der leeren Spalte _Description_ ein Einzelwert oder ein Array von Werten zugewiesen werden:"
   ]
  },
  {
   "cell_type": "code",
   "execution_count": 30,
   "id": "5d67ab90",
   "metadata": {},
   "outputs": [
    {
     "data": {
      "text/html": [
       "<div>\n",
       "<style scoped>\n",
       "    .dataframe tbody tr th:only-of-type {\n",
       "        vertical-align: middle;\n",
       "    }\n",
       "\n",
       "    .dataframe tbody tr th {\n",
       "        vertical-align: top;\n",
       "    }\n",
       "\n",
       "    .dataframe thead th {\n",
       "        text-align: right;\n",
       "    }\n",
       "</style>\n",
       "<table border=\"1\" class=\"dataframe\">\n",
       "  <thead>\n",
       "    <tr style=\"text-align: right;\">\n",
       "      <th></th>\n",
       "      <th>Decimal</th>\n",
       "      <th>Octal</th>\n",
       "      <th>Description</th>\n",
       "      <th>Key</th>\n",
       "    </tr>\n",
       "    <tr>\n",
       "      <th>Code</th>\n",
       "      <th></th>\n",
       "      <th></th>\n",
       "      <th></th>\n",
       "      <th></th>\n",
       "    </tr>\n",
       "  </thead>\n",
       "  <tbody>\n",
       "    <tr>\n",
       "      <th>U+0000</th>\n",
       "      <td>0</td>\n",
       "      <td>001</td>\n",
       "      <td>Null character</td>\n",
       "      <td>NUL</td>\n",
       "    </tr>\n",
       "    <tr>\n",
       "      <th>U+0001</th>\n",
       "      <td>1</td>\n",
       "      <td>002</td>\n",
       "      <td>Start of Heading</td>\n",
       "      <td>Ctrl-A</td>\n",
       "    </tr>\n",
       "    <tr>\n",
       "      <th>U+0002</th>\n",
       "      <td>2</td>\n",
       "      <td>003</td>\n",
       "      <td>Start of Text</td>\n",
       "      <td>Ctrl-B</td>\n",
       "    </tr>\n",
       "    <tr>\n",
       "      <th>U+0003</th>\n",
       "      <td>3</td>\n",
       "      <td>004</td>\n",
       "      <td>End-of-text character</td>\n",
       "      <td>Ctrl-C</td>\n",
       "    </tr>\n",
       "    <tr>\n",
       "      <th>U+0004</th>\n",
       "      <td>4</td>\n",
       "      <td>004</td>\n",
       "      <td>End-of-transmission character</td>\n",
       "      <td>Ctrl-D</td>\n",
       "    </tr>\n",
       "    <tr>\n",
       "      <th>U+0005</th>\n",
       "      <td>5</td>\n",
       "      <td>005</td>\n",
       "      <td>Enquiry character</td>\n",
       "      <td>Ctrl-E</td>\n",
       "    </tr>\n",
       "  </tbody>\n",
       "</table>\n",
       "</div>"
      ],
      "text/plain": [
       "        Decimal Octal                    Description     Key\n",
       "Code                                                        \n",
       "U+0000        0   001                 Null character     NUL\n",
       "U+0001        1   002               Start of Heading  Ctrl-A\n",
       "U+0002        2   003                  Start of Text  Ctrl-B\n",
       "U+0003        3   004          End-of-text character  Ctrl-C\n",
       "U+0004        4   004  End-of-transmission character  Ctrl-D\n",
       "U+0005        5   005              Enquiry character  Ctrl-E"
      ]
     },
     "execution_count": 30,
     "metadata": {},
     "output_type": "execute_result"
    }
   ],
   "source": [
    "df2['Description'] = [\n",
    "    'Null character',\n",
    "    'Start of Heading',\n",
    "    'Start of Text',\n",
    "    'End-of-text character',\n",
    "    'End-of-transmission character',\n",
    "    'Enquiry character'\n",
    "    ]\n",
    "\n",
    "df2"
   ]
  },
  {
   "cell_type": "markdown",
   "id": "a845b9bd",
   "metadata": {},
   "source": [
    "Das Zuweisen einer nicht existierenden Spalte erzeugt eine neue Spalte."
   ]
  },
  {
   "cell_type": "markdown",
   "id": "6657e3e0",
   "metadata": {},
   "source": [
    "Mit [pandas.DataFrame.drop](https://pandas.pydata.org/docs/reference/api/pandas.DataFrame.drop.html) können Spalten  entfernt und mit `pandas.DataFrame.columns` angezeigt werden:"
   ]
  },
  {
   "cell_type": "code",
   "execution_count": 31,
   "id": "cfede4bd",
   "metadata": {},
   "outputs": [
    {
     "data": {
      "text/plain": [
       "Index(['Description', 'Key'], dtype='object')"
      ]
     },
     "execution_count": 31,
     "metadata": {},
     "output_type": "execute_result"
    }
   ],
   "source": [
    "df3 = df2.drop(columns=['Decimal', 'Octal'])\n",
    "\n",
    "df3.columns"
   ]
  },
  {
   "cell_type": "markdown",
   "id": "7c168b93",
   "metadata": {},
   "source": [
    "Eine weitere gängige Form von Daten sind verschachtelte Dict von Dicts:"
   ]
  },
  {
   "cell_type": "code",
   "execution_count": 32,
   "id": "335b4d82",
   "metadata": {},
   "outputs": [
    {
     "data": {
      "text/html": [
       "<div>\n",
       "<style scoped>\n",
       "    .dataframe tbody tr th:only-of-type {\n",
       "        vertical-align: middle;\n",
       "    }\n",
       "\n",
       "    .dataframe tbody tr th {\n",
       "        vertical-align: top;\n",
       "    }\n",
       "\n",
       "    .dataframe thead th {\n",
       "        text-align: right;\n",
       "    }\n",
       "</style>\n",
       "<table border=\"1\" class=\"dataframe\">\n",
       "  <thead>\n",
       "    <tr style=\"text-align: right;\">\n",
       "      <th></th>\n",
       "      <th>U+0006</th>\n",
       "      <th>U+0007</th>\n",
       "    </tr>\n",
       "  </thead>\n",
       "  <tbody>\n",
       "    <tr>\n",
       "      <th>Decimal</th>\n",
       "      <td>6</td>\n",
       "      <td>7</td>\n",
       "    </tr>\n",
       "    <tr>\n",
       "      <th>Octal</th>\n",
       "      <td>006</td>\n",
       "      <td>007</td>\n",
       "    </tr>\n",
       "    <tr>\n",
       "      <th>Description</th>\n",
       "      <td>Acknowledge character</td>\n",
       "      <td>Bell character</td>\n",
       "    </tr>\n",
       "    <tr>\n",
       "      <th>Key</th>\n",
       "      <td>Ctrl-F</td>\n",
       "      <td>Ctrl-G3</td>\n",
       "    </tr>\n",
       "  </tbody>\n",
       "</table>\n",
       "</div>"
      ],
      "text/plain": [
       "                            U+0006          U+0007\n",
       "Decimal                          6               7\n",
       "Octal                          006             007\n",
       "Description  Acknowledge character  Bell character\n",
       "Key                         Ctrl-F         Ctrl-G3"
      ]
     },
     "execution_count": 32,
     "metadata": {},
     "output_type": "execute_result"
    }
   ],
   "source": [
    "u = {\n",
    "    'U+0006': {'Decimal': '6', 'Octal': '006', 'Description': 'Acknowledge character', 'Key': 'Ctrl-F'},\n",
    "    'U+0007': {'Decimal': '7', 'Octal': '007', 'Description': 'Bell character', 'Key': 'Ctrl-G3'},\n",
    "    }\n",
    "\n",
    "df4 = pd.DataFrame(u)\n",
    "\n",
    "df4"
   ]
  },
  {
   "cell_type": "markdown",
   "id": "0ecde16e",
   "metadata": {},
   "source": [
    "Ihr könnt den DataFrame transponieren, d.h. die Zeilen und Spalten vertauschen, mit einer ähnlichen Syntax wie bei einem NumPy-Array:"
   ]
  },
  {
   "cell_type": "code",
   "execution_count": 33,
   "id": "65b999b8",
   "metadata": {},
   "outputs": [
    {
     "data": {
      "text/html": [
       "<div>\n",
       "<style scoped>\n",
       "    .dataframe tbody tr th:only-of-type {\n",
       "        vertical-align: middle;\n",
       "    }\n",
       "\n",
       "    .dataframe tbody tr th {\n",
       "        vertical-align: top;\n",
       "    }\n",
       "\n",
       "    .dataframe thead th {\n",
       "        text-align: right;\n",
       "    }\n",
       "</style>\n",
       "<table border=\"1\" class=\"dataframe\">\n",
       "  <thead>\n",
       "    <tr style=\"text-align: right;\">\n",
       "      <th></th>\n",
       "      <th>Decimal</th>\n",
       "      <th>Octal</th>\n",
       "      <th>Description</th>\n",
       "      <th>Key</th>\n",
       "    </tr>\n",
       "  </thead>\n",
       "  <tbody>\n",
       "    <tr>\n",
       "      <th>U+0006</th>\n",
       "      <td>6</td>\n",
       "      <td>006</td>\n",
       "      <td>Acknowledge character</td>\n",
       "      <td>Ctrl-F</td>\n",
       "    </tr>\n",
       "    <tr>\n",
       "      <th>U+0007</th>\n",
       "      <td>7</td>\n",
       "      <td>007</td>\n",
       "      <td>Bell character</td>\n",
       "      <td>Ctrl-G3</td>\n",
       "    </tr>\n",
       "  </tbody>\n",
       "</table>\n",
       "</div>"
      ],
      "text/plain": [
       "       Decimal Octal            Description      Key\n",
       "U+0006       6   006  Acknowledge character   Ctrl-F\n",
       "U+0007       7   007         Bell character  Ctrl-G3"
      ]
     },
     "execution_count": 33,
     "metadata": {},
     "output_type": "execute_result"
    }
   ],
   "source": [
    "df4.T"
   ]
  },
  {
   "cell_type": "markdown",
   "id": "fb2e9085",
   "metadata": {},
   "source": [
    "> **Warnung:**\n",
    "> \n",
    "> Beachtet, dass beim Transponieren die Datentypen der Spalten verworfen werden, wenn die Spalten nicht alle denselben Datentyp haben, so dass beim Transponieren und anschließenden Zurücktransponieren die vorherigen Typinformationen verloren gehen können. Die Spalten werden in diesem Fall zu Arrays aus reinen Python-Objekten."
   ]
  },
  {
   "cell_type": "markdown",
   "id": "b066682e",
   "metadata": {},
   "source": [
    "Die Schlüssel in den inneren Dicts werden kombiniert, um den Index im Ergebnis zu bilden. Dies ist nicht der Fall, wenn ein expliziter Index angegeben wird:"
   ]
  },
  {
   "cell_type": "code",
   "execution_count": 34,
   "id": "16152115",
   "metadata": {},
   "outputs": [
    {
     "data": {
      "text/html": [
       "<div>\n",
       "<style scoped>\n",
       "    .dataframe tbody tr th:only-of-type {\n",
       "        vertical-align: middle;\n",
       "    }\n",
       "\n",
       "    .dataframe tbody tr th {\n",
       "        vertical-align: top;\n",
       "    }\n",
       "\n",
       "    .dataframe thead th {\n",
       "        text-align: right;\n",
       "    }\n",
       "</style>\n",
       "<table border=\"1\" class=\"dataframe\">\n",
       "  <thead>\n",
       "    <tr style=\"text-align: right;\">\n",
       "      <th></th>\n",
       "      <th>U+0006</th>\n",
       "      <th>U+0007</th>\n",
       "    </tr>\n",
       "  </thead>\n",
       "  <tbody>\n",
       "    <tr>\n",
       "      <th>Decimal</th>\n",
       "      <td>6</td>\n",
       "      <td>7</td>\n",
       "    </tr>\n",
       "    <tr>\n",
       "      <th>Octal</th>\n",
       "      <td>006</td>\n",
       "      <td>007</td>\n",
       "    </tr>\n",
       "    <tr>\n",
       "      <th>Key</th>\n",
       "      <td>Ctrl-F</td>\n",
       "      <td>Ctrl-G3</td>\n",
       "    </tr>\n",
       "  </tbody>\n",
       "</table>\n",
       "</div>"
      ],
      "text/plain": [
       "         U+0006   U+0007\n",
       "Decimal       6        7\n",
       "Octal       006      007\n",
       "Key      Ctrl-F  Ctrl-G3"
      ]
     },
     "execution_count": 34,
     "metadata": {},
     "output_type": "execute_result"
    }
   ],
   "source": [
    "df5 = pd.DataFrame(u, index=['Decimal', 'Octal', 'Key'])\n",
    "df5"
   ]
  },
  {
   "cell_type": "markdown",
   "id": "693d84a7",
   "metadata": {},
   "source": [
    "Dicts von Series werden in ähnlicher Weise behandelt:"
   ]
  },
  {
   "cell_type": "code",
   "execution_count": 35,
   "id": "1435e5fe",
   "metadata": {},
   "outputs": [
    {
     "data": {
      "text/html": [
       "<div>\n",
       "<style scoped>\n",
       "    .dataframe tbody tr th:only-of-type {\n",
       "        vertical-align: middle;\n",
       "    }\n",
       "\n",
       "    .dataframe tbody tr th {\n",
       "        vertical-align: top;\n",
       "    }\n",
       "\n",
       "    .dataframe thead th {\n",
       "        text-align: right;\n",
       "    }\n",
       "</style>\n",
       "<table border=\"1\" class=\"dataframe\">\n",
       "  <thead>\n",
       "    <tr style=\"text-align: right;\">\n",
       "      <th></th>\n",
       "      <th>U+0006</th>\n",
       "      <th>U+0007</th>\n",
       "    </tr>\n",
       "  </thead>\n",
       "  <tbody>\n",
       "    <tr>\n",
       "      <th>Decimal</th>\n",
       "      <td>6</td>\n",
       "      <td>7</td>\n",
       "    </tr>\n",
       "    <tr>\n",
       "      <th>Octal</th>\n",
       "      <td>006</td>\n",
       "      <td>007</td>\n",
       "    </tr>\n",
       "    <tr>\n",
       "      <th>Description</th>\n",
       "      <td>Acknowledge character</td>\n",
       "      <td>Bell character</td>\n",
       "    </tr>\n",
       "  </tbody>\n",
       "</table>\n",
       "</div>"
      ],
      "text/plain": [
       "                            U+0006          U+0007\n",
       "Decimal                          6               7\n",
       "Octal                          006             007\n",
       "Description  Acknowledge character  Bell character"
      ]
     },
     "execution_count": 35,
     "metadata": {},
     "output_type": "execute_result"
    }
   ],
   "source": [
    "u2 = {\n",
    "    'U+0006': df4['U+0006'][:-1],\n",
    "    'U+0007': df4['U+0007'][:-1]\n",
    "    }\n",
    "\n",
    "pd.DataFrame(u2)"
   ]
  }
 ],
 "metadata": {
  "kernelspec": {
   "display_name": "Python 3.8",
   "language": "python",
   "name": "python-38"
  },
  "language_info": {
   "codemirror_mode": {
    "name": "ipython",
    "version": 3
   },
   "file_extension": ".py",
   "mimetype": "text/x-python",
   "name": "python",
   "nbconvert_exporter": "python",
   "pygments_lexer": "ipython3",
   "version": "3.8.12"
  }
 },
 "nbformat": 4,
 "nbformat_minor": 5
}
