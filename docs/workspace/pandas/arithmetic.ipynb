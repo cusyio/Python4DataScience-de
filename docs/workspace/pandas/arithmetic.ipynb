{
 "cells": [
  {
   "cell_type": "markdown",
   "id": "4231b346",
   "metadata": {},
   "source": [
    "# Arithmetik\n",
    "\n",
    "Eine wichtige Funktion von pandas ist das arithmetische Verhalten bei Objekten mit unterschiedlichen Indizes. Wenn beim Addieren von Objekten die Indexpaare nicht gleich sind, wird der entsprechende Index im Ergebnis die Vereinigung der Indexpaare sein. Für Benutzer mit Datenbankerfahrung ist dies vergleichbar mit einem automatischen [OUTER JOIN](https://de.wikipedia.org/wiki/Join_(SQL)#%C3%84u%C3%9Ferer_Verbund_(OUTER_JOIN)) auf den Indexbezeichnungen. Schauen wir uns ein Beispiel an:"
   ]
  },
  {
   "cell_type": "code",
   "execution_count": 1,
   "id": "5b29913f",
   "metadata": {},
   "outputs": [],
   "source": [
    "import numpy as np\n",
    "import pandas as pd\n",
    "\n",
    "s1 = pd.Series(np.random.randn(5))\n",
    "s2 = pd.Series(np.random.randn(7))"
   ]
  },
  {
   "cell_type": "markdown",
   "id": "35204d7d",
   "metadata": {},
   "source": [
    "Addiert man diese Werte, erhält man:"
   ]
  },
  {
   "cell_type": "code",
   "execution_count": 2,
   "id": "3313da09",
   "metadata": {},
   "outputs": [
    {
     "data": {
      "text/plain": [
       "0   -0.117652\n",
       "1    1.843403\n",
       "2   -1.554283\n",
       "3   -0.052506\n",
       "4   -0.248629\n",
       "5         NaN\n",
       "6         NaN\n",
       "dtype: float64"
      ]
     },
     "execution_count": 2,
     "metadata": {},
     "output_type": "execute_result"
    }
   ],
   "source": [
    "s1 + s2"
   ]
  },
  {
   "cell_type": "markdown",
   "id": "658fc144",
   "metadata": {},
   "source": [
    "Der interne Datenabgleich führt zu fehlenden Werten an den Stellen der Labels, die sich nicht überschneiden. Fehlende Werte werden dann bei weiteren arithmetischen Berechnungen weitergegeben."
   ]
  },
  {
   "cell_type": "markdown",
   "id": "9a8a4ca0",
   "metadata": {},
   "source": [
    "Bei DataFrames wird die Ausrichtung sowohl für die Zeilen als auch für die Spalten durchgeführt:"
   ]
  },
  {
   "cell_type": "code",
   "execution_count": 3,
   "id": "02308a89",
   "metadata": {},
   "outputs": [],
   "source": [
    "df1 = pd.DataFrame(np.random.randn(5,3))\n",
    "df2 = pd.DataFrame(np.random.randn(7,2))"
   ]
  },
  {
   "cell_type": "markdown",
   "id": "5b6810dd",
   "metadata": {},
   "source": [
    "Wenn die beiden DataFrames addiert werden, ergibt sich ein DataFrame, dessen Index und Spalten die Vereinigungen derjenigen in jedem der obigen DataFrames sind:"
   ]
  },
  {
   "cell_type": "code",
   "execution_count": 4,
   "id": "dd2da918",
   "metadata": {},
   "outputs": [
    {
     "data": {
      "text/html": [
       "<div>\n",
       "<style scoped>\n",
       "    .dataframe tbody tr th:only-of-type {\n",
       "        vertical-align: middle;\n",
       "    }\n",
       "\n",
       "    .dataframe tbody tr th {\n",
       "        vertical-align: top;\n",
       "    }\n",
       "\n",
       "    .dataframe thead th {\n",
       "        text-align: right;\n",
       "    }\n",
       "</style>\n",
       "<table border=\"1\" class=\"dataframe\">\n",
       "  <thead>\n",
       "    <tr style=\"text-align: right;\">\n",
       "      <th></th>\n",
       "      <th>0</th>\n",
       "      <th>1</th>\n",
       "      <th>2</th>\n",
       "    </tr>\n",
       "  </thead>\n",
       "  <tbody>\n",
       "    <tr>\n",
       "      <th>0</th>\n",
       "      <td>-1.617414</td>\n",
       "      <td>1.480734</td>\n",
       "      <td>NaN</td>\n",
       "    </tr>\n",
       "    <tr>\n",
       "      <th>1</th>\n",
       "      <td>1.060217</td>\n",
       "      <td>2.245327</td>\n",
       "      <td>NaN</td>\n",
       "    </tr>\n",
       "    <tr>\n",
       "      <th>2</th>\n",
       "      <td>0.604860</td>\n",
       "      <td>-1.533916</td>\n",
       "      <td>NaN</td>\n",
       "    </tr>\n",
       "    <tr>\n",
       "      <th>3</th>\n",
       "      <td>-0.487990</td>\n",
       "      <td>-1.244289</td>\n",
       "      <td>NaN</td>\n",
       "    </tr>\n",
       "    <tr>\n",
       "      <th>4</th>\n",
       "      <td>-2.641149</td>\n",
       "      <td>-1.044312</td>\n",
       "      <td>NaN</td>\n",
       "    </tr>\n",
       "    <tr>\n",
       "      <th>5</th>\n",
       "      <td>NaN</td>\n",
       "      <td>NaN</td>\n",
       "      <td>NaN</td>\n",
       "    </tr>\n",
       "    <tr>\n",
       "      <th>6</th>\n",
       "      <td>NaN</td>\n",
       "      <td>NaN</td>\n",
       "      <td>NaN</td>\n",
       "    </tr>\n",
       "  </tbody>\n",
       "</table>\n",
       "</div>"
      ],
      "text/plain": [
       "          0         1   2\n",
       "0 -1.617414  1.480734 NaN\n",
       "1  1.060217  2.245327 NaN\n",
       "2  0.604860 -1.533916 NaN\n",
       "3 -0.487990 -1.244289 NaN\n",
       "4 -2.641149 -1.044312 NaN\n",
       "5       NaN       NaN NaN\n",
       "6       NaN       NaN NaN"
      ]
     },
     "execution_count": 4,
     "metadata": {},
     "output_type": "execute_result"
    }
   ],
   "source": [
    "df1 + df2"
   ]
  },
  {
   "cell_type": "markdown",
   "id": "635e754e",
   "metadata": {},
   "source": [
    "Da die Spalte 2 nicht in beiden DataFrame-Objekten vorkommen, erscheinen sie im Ergebnis als fehlend. Das Gleiche gilt für die Zeilen, deren Bezeichnungen nicht in beiden Objekten vorkommen."
   ]
  },
  {
   "cell_type": "markdown",
   "id": "4a99f089",
   "metadata": {},
   "source": [
    "## Arithmetische Methoden mit Füllwerten\n",
    "\n",
    "Bei arithmetischen Operationen zwischen unterschiedlich indizierten Objekten kann es sinnvoll sein, einen speziellen Wert (z. B. `0`) zu verwenden, wenn eine Achsenbeschriftung in einem Objekt gefunden wird, im anderen aber nicht.  Mit der `add`-Methode kann das Argument `fill_value` übergeben werden:"
   ]
  },
  {
   "cell_type": "code",
   "execution_count": 5,
   "id": "b587fa86",
   "metadata": {},
   "outputs": [
    {
     "data": {
      "text/html": [
       "<div>\n",
       "<style scoped>\n",
       "    .dataframe tbody tr th:only-of-type {\n",
       "        vertical-align: middle;\n",
       "    }\n",
       "\n",
       "    .dataframe tbody tr th {\n",
       "        vertical-align: top;\n",
       "    }\n",
       "\n",
       "    .dataframe thead th {\n",
       "        text-align: right;\n",
       "    }\n",
       "</style>\n",
       "<table border=\"1\" class=\"dataframe\">\n",
       "  <thead>\n",
       "    <tr style=\"text-align: right;\">\n",
       "      <th></th>\n",
       "      <th>0</th>\n",
       "      <th>1</th>\n",
       "      <th>2</th>\n",
       "    </tr>\n",
       "  </thead>\n",
       "  <tbody>\n",
       "    <tr>\n",
       "      <th>0</th>\n",
       "      <td>-1.617414</td>\n",
       "      <td>1.480734</td>\n",
       "      <td>-0.344406</td>\n",
       "    </tr>\n",
       "    <tr>\n",
       "      <th>1</th>\n",
       "      <td>1.060217</td>\n",
       "      <td>2.245327</td>\n",
       "      <td>-0.487406</td>\n",
       "    </tr>\n",
       "    <tr>\n",
       "      <th>2</th>\n",
       "      <td>0.604860</td>\n",
       "      <td>-1.533916</td>\n",
       "      <td>-0.624491</td>\n",
       "    </tr>\n",
       "    <tr>\n",
       "      <th>3</th>\n",
       "      <td>-0.487990</td>\n",
       "      <td>-1.244289</td>\n",
       "      <td>-1.204230</td>\n",
       "    </tr>\n",
       "    <tr>\n",
       "      <th>4</th>\n",
       "      <td>-2.641149</td>\n",
       "      <td>-1.044312</td>\n",
       "      <td>0.997933</td>\n",
       "    </tr>\n",
       "    <tr>\n",
       "      <th>5</th>\n",
       "      <td>-0.656236</td>\n",
       "      <td>-1.913285</td>\n",
       "      <td>NaN</td>\n",
       "    </tr>\n",
       "    <tr>\n",
       "      <th>6</th>\n",
       "      <td>1.864685</td>\n",
       "      <td>1.405582</td>\n",
       "      <td>NaN</td>\n",
       "    </tr>\n",
       "  </tbody>\n",
       "</table>\n",
       "</div>"
      ],
      "text/plain": [
       "          0         1         2\n",
       "0 -1.617414  1.480734 -0.344406\n",
       "1  1.060217  2.245327 -0.487406\n",
       "2  0.604860 -1.533916 -0.624491\n",
       "3 -0.487990 -1.244289 -1.204230\n",
       "4 -2.641149 -1.044312  0.997933\n",
       "5 -0.656236 -1.913285       NaN\n",
       "6  1.864685  1.405582       NaN"
      ]
     },
     "execution_count": 5,
     "metadata": {},
     "output_type": "execute_result"
    }
   ],
   "source": [
    "df12 = df1.add(df2, fill_value=0)\n",
    "\n",
    "df12"
   ]
  },
  {
   "cell_type": "markdown",
   "id": "3184db4a",
   "metadata": {},
   "source": [
    "Im folgenden Beispiel setzen wir die beiden verbleibenden NaN-Werte auf `0`:"
   ]
  },
  {
   "cell_type": "code",
   "execution_count": 6,
   "id": "a91d7a81",
   "metadata": {},
   "outputs": [],
   "source": [
    "df12.iloc[[5,6], [2]] = 0"
   ]
  },
  {
   "cell_type": "code",
   "execution_count": 7,
   "id": "0467d4bc",
   "metadata": {},
   "outputs": [
    {
     "data": {
      "text/html": [
       "<div>\n",
       "<style scoped>\n",
       "    .dataframe tbody tr th:only-of-type {\n",
       "        vertical-align: middle;\n",
       "    }\n",
       "\n",
       "    .dataframe tbody tr th {\n",
       "        vertical-align: top;\n",
       "    }\n",
       "\n",
       "    .dataframe thead th {\n",
       "        text-align: right;\n",
       "    }\n",
       "</style>\n",
       "<table border=\"1\" class=\"dataframe\">\n",
       "  <thead>\n",
       "    <tr style=\"text-align: right;\">\n",
       "      <th></th>\n",
       "      <th>0</th>\n",
       "      <th>1</th>\n",
       "      <th>2</th>\n",
       "    </tr>\n",
       "  </thead>\n",
       "  <tbody>\n",
       "    <tr>\n",
       "      <th>0</th>\n",
       "      <td>-1.617414</td>\n",
       "      <td>1.480734</td>\n",
       "      <td>-0.344406</td>\n",
       "    </tr>\n",
       "    <tr>\n",
       "      <th>1</th>\n",
       "      <td>1.060217</td>\n",
       "      <td>2.245327</td>\n",
       "      <td>-0.487406</td>\n",
       "    </tr>\n",
       "    <tr>\n",
       "      <th>2</th>\n",
       "      <td>0.604860</td>\n",
       "      <td>-1.533916</td>\n",
       "      <td>-0.624491</td>\n",
       "    </tr>\n",
       "    <tr>\n",
       "      <th>3</th>\n",
       "      <td>-0.487990</td>\n",
       "      <td>-1.244289</td>\n",
       "      <td>-1.204230</td>\n",
       "    </tr>\n",
       "    <tr>\n",
       "      <th>4</th>\n",
       "      <td>-2.641149</td>\n",
       "      <td>-1.044312</td>\n",
       "      <td>0.997933</td>\n",
       "    </tr>\n",
       "    <tr>\n",
       "      <th>5</th>\n",
       "      <td>-0.656236</td>\n",
       "      <td>-1.913285</td>\n",
       "      <td>0.000000</td>\n",
       "    </tr>\n",
       "    <tr>\n",
       "      <th>6</th>\n",
       "      <td>1.864685</td>\n",
       "      <td>1.405582</td>\n",
       "      <td>0.000000</td>\n",
       "    </tr>\n",
       "  </tbody>\n",
       "</table>\n",
       "</div>"
      ],
      "text/plain": [
       "          0         1         2\n",
       "0 -1.617414  1.480734 -0.344406\n",
       "1  1.060217  2.245327 -0.487406\n",
       "2  0.604860 -1.533916 -0.624491\n",
       "3 -0.487990 -1.244289 -1.204230\n",
       "4 -2.641149 -1.044312  0.997933\n",
       "5 -0.656236 -1.913285  0.000000\n",
       "6  1.864685  1.405582  0.000000"
      ]
     },
     "execution_count": 7,
     "metadata": {},
     "output_type": "execute_result"
    }
   ],
   "source": [
    "df12"
   ]
  },
  {
   "cell_type": "markdown",
   "id": "75266ce2",
   "metadata": {},
   "source": [
    "## Arithmetische Methoden\n",
    "\n",
    "Methode | Beschreibung\n",
    ":------ | :-----------\n",
    "`add`, `radd` | Methoden für Addition (`+`)\n",
    "`sub`, `rsub` | Methoden für die Subtraktion (`-`)\n",
    "`div`, `rdiv` | Methoden für die Division (`/`)\n",
    "`floordiv`, `rfloordiv` | Methoden für die Abrundungsfunktion (engl.: floor divison) (`//`)\n",
    "`mul`, `rmul` | Methoden für die Multiplikation (`*`)\n",
    "`pow`, `rpow` | Methoden zur Potenzierung (`**`)\n",
    "\n",
    "`r` (engl.: _reverse_) kehrt die Methode um."
   ]
  },
  {
   "cell_type": "markdown",
   "id": "72c03854",
   "metadata": {},
   "source": [
    "## Operationen zwischen DataFrame und Series\n",
    "\n",
    "Wie bei NumPy-Arrays verschiedener Dimensionen ist auch die Arithmetik zwischen DataFrame und Series definiert."
   ]
  },
  {
   "cell_type": "code",
   "execution_count": 8,
   "id": "8d7b47b5",
   "metadata": {},
   "outputs": [
    {
     "data": {
      "text/html": [
       "<div>\n",
       "<style scoped>\n",
       "    .dataframe tbody tr th:only-of-type {\n",
       "        vertical-align: middle;\n",
       "    }\n",
       "\n",
       "    .dataframe tbody tr th {\n",
       "        vertical-align: top;\n",
       "    }\n",
       "\n",
       "    .dataframe thead th {\n",
       "        text-align: right;\n",
       "    }\n",
       "</style>\n",
       "<table border=\"1\" class=\"dataframe\">\n",
       "  <thead>\n",
       "    <tr style=\"text-align: right;\">\n",
       "      <th></th>\n",
       "      <th>0</th>\n",
       "      <th>1</th>\n",
       "      <th>2</th>\n",
       "      <th>3</th>\n",
       "      <th>4</th>\n",
       "    </tr>\n",
       "  </thead>\n",
       "  <tbody>\n",
       "    <tr>\n",
       "      <th>0</th>\n",
       "      <td>-3.413133</td>\n",
       "      <td>2.531767</td>\n",
       "      <td>-0.858270</td>\n",
       "      <td>NaN</td>\n",
       "      <td>NaN</td>\n",
       "    </tr>\n",
       "    <tr>\n",
       "      <th>1</th>\n",
       "      <td>-0.735503</td>\n",
       "      <td>3.296360</td>\n",
       "      <td>-1.001270</td>\n",
       "      <td>NaN</td>\n",
       "      <td>NaN</td>\n",
       "    </tr>\n",
       "    <tr>\n",
       "      <th>2</th>\n",
       "      <td>-1.190859</td>\n",
       "      <td>-0.482883</td>\n",
       "      <td>-1.138355</td>\n",
       "      <td>NaN</td>\n",
       "      <td>NaN</td>\n",
       "    </tr>\n",
       "    <tr>\n",
       "      <th>3</th>\n",
       "      <td>-2.283709</td>\n",
       "      <td>-0.193256</td>\n",
       "      <td>-1.718093</td>\n",
       "      <td>NaN</td>\n",
       "      <td>NaN</td>\n",
       "    </tr>\n",
       "    <tr>\n",
       "      <th>4</th>\n",
       "      <td>-4.436868</td>\n",
       "      <td>0.006721</td>\n",
       "      <td>0.484069</td>\n",
       "      <td>NaN</td>\n",
       "      <td>NaN</td>\n",
       "    </tr>\n",
       "    <tr>\n",
       "      <th>5</th>\n",
       "      <td>-2.451955</td>\n",
       "      <td>-0.862252</td>\n",
       "      <td>-0.513864</td>\n",
       "      <td>NaN</td>\n",
       "      <td>NaN</td>\n",
       "    </tr>\n",
       "    <tr>\n",
       "      <th>6</th>\n",
       "      <td>0.068966</td>\n",
       "      <td>2.456614</td>\n",
       "      <td>-0.513864</td>\n",
       "      <td>NaN</td>\n",
       "      <td>NaN</td>\n",
       "    </tr>\n",
       "  </tbody>\n",
       "</table>\n",
       "</div>"
      ],
      "text/plain": [
       "          0         1         2   3   4\n",
       "0 -3.413133  2.531767 -0.858270 NaN NaN\n",
       "1 -0.735503  3.296360 -1.001270 NaN NaN\n",
       "2 -1.190859 -0.482883 -1.138355 NaN NaN\n",
       "3 -2.283709 -0.193256 -1.718093 NaN NaN\n",
       "4 -4.436868  0.006721  0.484069 NaN NaN\n",
       "5 -2.451955 -0.862252 -0.513864 NaN NaN\n",
       "6  0.068966  2.456614 -0.513864 NaN NaN"
      ]
     },
     "execution_count": 8,
     "metadata": {},
     "output_type": "execute_result"
    }
   ],
   "source": [
    "s1 + df12"
   ]
  },
  {
   "cell_type": "markdown",
   "id": "3048aa55",
   "metadata": {},
   "source": [
    "Wenn wir `s1` mit `df12` addieren, wird die Additon für jede Zeile einmal durchgeführt. Dies wird als _Broadcasting_ bezeichnet. Standardmäßig entspricht die Arithmetik zwischen DataFrame und Serie dem Index der Serie in den Spalten des DataFrame, wobei die Zeilen nach unten übertragen werden."
   ]
  },
  {
   "cell_type": "markdown",
   "id": "3d69cc0e",
   "metadata": {},
   "source": [
    "Wenn ein Indexwert weder in den Spalten des DataFrame noch im Index der Serie gefunden wird, werden die Objekte neu indiziert, um die Vereinigung zu bilden:"
   ]
  },
  {
   "cell_type": "markdown",
   "id": "c252358c",
   "metadata": {},
   "source": [
    "Wenn ihr stattdessen die Spalten übertragen und die Zeilen abgleichen wollt, müsst ihr eine der arithmetischen Methoden verwenden, z.B.:"
   ]
  },
  {
   "cell_type": "code",
   "execution_count": 9,
   "id": "b5499888",
   "metadata": {},
   "outputs": [
    {
     "data": {
      "text/html": [
       "<div>\n",
       "<style scoped>\n",
       "    .dataframe tbody tr th:only-of-type {\n",
       "        vertical-align: middle;\n",
       "    }\n",
       "\n",
       "    .dataframe tbody tr th {\n",
       "        vertical-align: top;\n",
       "    }\n",
       "\n",
       "    .dataframe thead th {\n",
       "        text-align: right;\n",
       "    }\n",
       "</style>\n",
       "<table border=\"1\" class=\"dataframe\">\n",
       "  <thead>\n",
       "    <tr style=\"text-align: right;\">\n",
       "      <th></th>\n",
       "      <th>0</th>\n",
       "      <th>1</th>\n",
       "      <th>2</th>\n",
       "    </tr>\n",
       "  </thead>\n",
       "  <tbody>\n",
       "    <tr>\n",
       "      <th>0</th>\n",
       "      <td>0.060653</td>\n",
       "      <td>3.158801</td>\n",
       "      <td>1.333661</td>\n",
       "    </tr>\n",
       "    <tr>\n",
       "      <th>1</th>\n",
       "      <td>1.852586</td>\n",
       "      <td>3.037697</td>\n",
       "      <td>0.304963</td>\n",
       "    </tr>\n",
       "    <tr>\n",
       "      <th>2</th>\n",
       "      <td>-0.435558</td>\n",
       "      <td>-2.574335</td>\n",
       "      <td>-1.664910</td>\n",
       "    </tr>\n",
       "    <tr>\n",
       "      <th>3</th>\n",
       "      <td>0.723141</td>\n",
       "      <td>-0.033158</td>\n",
       "      <td>0.006902</td>\n",
       "    </tr>\n",
       "    <tr>\n",
       "      <th>4</th>\n",
       "      <td>-2.536814</td>\n",
       "      <td>-0.939976</td>\n",
       "      <td>1.102269</td>\n",
       "    </tr>\n",
       "    <tr>\n",
       "      <th>5</th>\n",
       "      <td>-1.370872</td>\n",
       "      <td>-2.627920</td>\n",
       "      <td>-0.714636</td>\n",
       "    </tr>\n",
       "    <tr>\n",
       "      <th>6</th>\n",
       "      <td>0.512718</td>\n",
       "      <td>0.053615</td>\n",
       "      <td>-1.351967</td>\n",
       "    </tr>\n",
       "  </tbody>\n",
       "</table>\n",
       "</div>"
      ],
      "text/plain": [
       "          0         1         2\n",
       "0  0.060653  3.158801  1.333661\n",
       "1  1.852586  3.037697  0.304963\n",
       "2 -0.435558 -2.574335 -1.664910\n",
       "3  0.723141 -0.033158  0.006902\n",
       "4 -2.536814 -0.939976  1.102269\n",
       "5 -1.370872 -2.627920 -0.714636\n",
       "6  0.512718  0.053615 -1.351967"
      ]
     },
     "execution_count": 9,
     "metadata": {},
     "output_type": "execute_result"
    }
   ],
   "source": [
    "df12.add(s2, axis='index')"
   ]
  },
  {
   "cell_type": "markdown",
   "id": "f4dabeca",
   "metadata": {},
   "source": [
    "Die Achsennummer, die ihr übergebt, ist die Achse, auf die abgeglichen werden soll. In diesem Fall soll der Zeilenindex des DataFrame (`axis='index'` oder `axis=0`) abgeglichen und übertragen werden."
   ]
  },
  {
   "cell_type": "markdown",
   "id": "f04a8ce0",
   "metadata": {},
   "source": [
    "## Funktionsanwendung und Mapping\n",
    "\n",
    "`numpy.ufunc` (elementweise Array-Methoden) funktionieren auch mit Pandas-Objekten:"
   ]
  },
  {
   "cell_type": "code",
   "execution_count": 10,
   "id": "6703726d",
   "metadata": {},
   "outputs": [
    {
     "data": {
      "text/html": [
       "<div>\n",
       "<style scoped>\n",
       "    .dataframe tbody tr th:only-of-type {\n",
       "        vertical-align: middle;\n",
       "    }\n",
       "\n",
       "    .dataframe tbody tr th {\n",
       "        vertical-align: top;\n",
       "    }\n",
       "\n",
       "    .dataframe thead th {\n",
       "        text-align: right;\n",
       "    }\n",
       "</style>\n",
       "<table border=\"1\" class=\"dataframe\">\n",
       "  <thead>\n",
       "    <tr style=\"text-align: right;\">\n",
       "      <th></th>\n",
       "      <th>0</th>\n",
       "      <th>1</th>\n",
       "      <th>2</th>\n",
       "    </tr>\n",
       "  </thead>\n",
       "  <tbody>\n",
       "    <tr>\n",
       "      <th>0</th>\n",
       "      <td>1.617414</td>\n",
       "      <td>1.480734</td>\n",
       "      <td>0.344406</td>\n",
       "    </tr>\n",
       "    <tr>\n",
       "      <th>1</th>\n",
       "      <td>1.060217</td>\n",
       "      <td>2.245327</td>\n",
       "      <td>0.487406</td>\n",
       "    </tr>\n",
       "    <tr>\n",
       "      <th>2</th>\n",
       "      <td>0.604860</td>\n",
       "      <td>1.533916</td>\n",
       "      <td>0.624491</td>\n",
       "    </tr>\n",
       "    <tr>\n",
       "      <th>3</th>\n",
       "      <td>0.487990</td>\n",
       "      <td>1.244289</td>\n",
       "      <td>1.204230</td>\n",
       "    </tr>\n",
       "    <tr>\n",
       "      <th>4</th>\n",
       "      <td>2.641149</td>\n",
       "      <td>1.044312</td>\n",
       "      <td>0.997933</td>\n",
       "    </tr>\n",
       "    <tr>\n",
       "      <th>5</th>\n",
       "      <td>0.656236</td>\n",
       "      <td>1.913285</td>\n",
       "      <td>0.000000</td>\n",
       "    </tr>\n",
       "    <tr>\n",
       "      <th>6</th>\n",
       "      <td>1.864685</td>\n",
       "      <td>1.405582</td>\n",
       "      <td>0.000000</td>\n",
       "    </tr>\n",
       "  </tbody>\n",
       "</table>\n",
       "</div>"
      ],
      "text/plain": [
       "          0         1         2\n",
       "0  1.617414  1.480734  0.344406\n",
       "1  1.060217  2.245327  0.487406\n",
       "2  0.604860  1.533916  0.624491\n",
       "3  0.487990  1.244289  1.204230\n",
       "4  2.641149  1.044312  0.997933\n",
       "5  0.656236  1.913285  0.000000\n",
       "6  1.864685  1.405582  0.000000"
      ]
     },
     "execution_count": 10,
     "metadata": {},
     "output_type": "execute_result"
    }
   ],
   "source": [
    "np.abs(df12)"
   ]
  },
  {
   "cell_type": "markdown",
   "id": "e6cb5cbe",
   "metadata": {},
   "source": [
    "Eine weitere häufige Operation ist die Anwendung einer Funktion auf eindimensionale Arrays auf jede Spalte oder Zeile. Die [pandas.DataFrame.apply](https://pandas.pydata.org/docs/reference/api/pandas.DataFrame.apply.html)-Methode tut genau dies:"
   ]
  },
  {
   "cell_type": "code",
   "execution_count": 11,
   "id": "fba73255",
   "metadata": {},
   "outputs": [
    {
     "data": {
      "text/html": [
       "<div>\n",
       "<style scoped>\n",
       "    .dataframe tbody tr th:only-of-type {\n",
       "        vertical-align: middle;\n",
       "    }\n",
       "\n",
       "    .dataframe tbody tr th {\n",
       "        vertical-align: top;\n",
       "    }\n",
       "\n",
       "    .dataframe thead th {\n",
       "        text-align: right;\n",
       "    }\n",
       "</style>\n",
       "<table border=\"1\" class=\"dataframe\">\n",
       "  <thead>\n",
       "    <tr style=\"text-align: right;\">\n",
       "      <th></th>\n",
       "      <th>0</th>\n",
       "      <th>1</th>\n",
       "      <th>2</th>\n",
       "    </tr>\n",
       "  </thead>\n",
       "  <tbody>\n",
       "    <tr>\n",
       "      <th>0</th>\n",
       "      <td>-1.617414</td>\n",
       "      <td>1.480734</td>\n",
       "      <td>-0.344406</td>\n",
       "    </tr>\n",
       "    <tr>\n",
       "      <th>1</th>\n",
       "      <td>1.060217</td>\n",
       "      <td>2.245327</td>\n",
       "      <td>-0.487406</td>\n",
       "    </tr>\n",
       "    <tr>\n",
       "      <th>2</th>\n",
       "      <td>0.604860</td>\n",
       "      <td>-1.533916</td>\n",
       "      <td>-0.624491</td>\n",
       "    </tr>\n",
       "    <tr>\n",
       "      <th>3</th>\n",
       "      <td>-0.487990</td>\n",
       "      <td>-1.244289</td>\n",
       "      <td>-1.204230</td>\n",
       "    </tr>\n",
       "    <tr>\n",
       "      <th>4</th>\n",
       "      <td>-2.641149</td>\n",
       "      <td>-1.044312</td>\n",
       "      <td>0.997933</td>\n",
       "    </tr>\n",
       "    <tr>\n",
       "      <th>5</th>\n",
       "      <td>-0.656236</td>\n",
       "      <td>-1.913285</td>\n",
       "      <td>0.000000</td>\n",
       "    </tr>\n",
       "    <tr>\n",
       "      <th>6</th>\n",
       "      <td>1.864685</td>\n",
       "      <td>1.405582</td>\n",
       "      <td>0.000000</td>\n",
       "    </tr>\n",
       "  </tbody>\n",
       "</table>\n",
       "</div>"
      ],
      "text/plain": [
       "          0         1         2\n",
       "0 -1.617414  1.480734 -0.344406\n",
       "1  1.060217  2.245327 -0.487406\n",
       "2  0.604860 -1.533916 -0.624491\n",
       "3 -0.487990 -1.244289 -1.204230\n",
       "4 -2.641149 -1.044312  0.997933\n",
       "5 -0.656236 -1.913285  0.000000\n",
       "6  1.864685  1.405582  0.000000"
      ]
     },
     "execution_count": 11,
     "metadata": {},
     "output_type": "execute_result"
    }
   ],
   "source": [
    "df12"
   ]
  },
  {
   "cell_type": "code",
   "execution_count": 12,
   "id": "2cc1c450",
   "metadata": {},
   "outputs": [
    {
     "data": {
      "text/plain": [
       "0    4.505834\n",
       "1    4.158612\n",
       "2    2.202163\n",
       "dtype: float64"
      ]
     },
     "execution_count": 12,
     "metadata": {},
     "output_type": "execute_result"
    }
   ],
   "source": [
    "f = lambda x: x.max() - x.min()\n",
    "\n",
    "df12.apply(f)"
   ]
  },
  {
   "cell_type": "markdown",
   "id": "5c730fc0",
   "metadata": {},
   "source": [
    "Hier wird die Funktion `f`, die die Differenz zwischen dem Maximum und dem Minimum einer Reihe berechnet, einmal für jede Spalte des Rahmens aufgerufen. Das Ergebnis ist eine Reihe mit den Spalten des Rahmens als Index."
   ]
  },
  {
   "cell_type": "markdown",
   "id": "cd3d8cef",
   "metadata": {},
   "source": [
    "Wenn ihr `axis='columns'` an `apply` übergebt, wird die Funktion stattdessen einmal pro Zeile aufgerufen:"
   ]
  },
  {
   "cell_type": "code",
   "execution_count": 13,
   "id": "ffd1ea41",
   "metadata": {},
   "outputs": [
    {
     "data": {
      "text/plain": [
       "0    3.098148\n",
       "1    2.732734\n",
       "2    2.138776\n",
       "3    0.756299\n",
       "4    3.639082\n",
       "5    1.913285\n",
       "6    1.864685\n",
       "dtype: float64"
      ]
     },
     "execution_count": 13,
     "metadata": {},
     "output_type": "execute_result"
    }
   ],
   "source": [
    "df12.apply(f, axis='columns')"
   ]
  },
  {
   "cell_type": "markdown",
   "id": "1dfebb36",
   "metadata": {},
   "source": [
    "Viele der gebräuchlichsten Array-Statistiken (wie `sum` und `mean`) sind DataFrame-Methoden, so dass die Verwendung von `apply` nicht notwendig ist."
   ]
  },
  {
   "cell_type": "markdown",
   "id": "429fb65c",
   "metadata": {},
   "source": [
    "Die an apply übergebene Funktion muss keinen Einzelwert zurückgeben; sie kann auch eine Reihe mit mehreren Werten zurückgeben:"
   ]
  },
  {
   "cell_type": "code",
   "execution_count": 14,
   "id": "758ab932",
   "metadata": {},
   "outputs": [
    {
     "data": {
      "text/html": [
       "<div>\n",
       "<style scoped>\n",
       "    .dataframe tbody tr th:only-of-type {\n",
       "        vertical-align: middle;\n",
       "    }\n",
       "\n",
       "    .dataframe tbody tr th {\n",
       "        vertical-align: top;\n",
       "    }\n",
       "\n",
       "    .dataframe thead th {\n",
       "        text-align: right;\n",
       "    }\n",
       "</style>\n",
       "<table border=\"1\" class=\"dataframe\">\n",
       "  <thead>\n",
       "    <tr style=\"text-align: right;\">\n",
       "      <th></th>\n",
       "      <th>0</th>\n",
       "      <th>1</th>\n",
       "      <th>2</th>\n",
       "    </tr>\n",
       "  </thead>\n",
       "  <tbody>\n",
       "    <tr>\n",
       "      <th>min</th>\n",
       "      <td>-2.641149</td>\n",
       "      <td>-1.913285</td>\n",
       "      <td>-1.204230</td>\n",
       "    </tr>\n",
       "    <tr>\n",
       "      <th>max</th>\n",
       "      <td>1.864685</td>\n",
       "      <td>2.245327</td>\n",
       "      <td>0.997933</td>\n",
       "    </tr>\n",
       "  </tbody>\n",
       "</table>\n",
       "</div>"
      ],
      "text/plain": [
       "            0         1         2\n",
       "min -2.641149 -1.913285 -1.204230\n",
       "max  1.864685  2.245327  0.997933"
      ]
     },
     "execution_count": 14,
     "metadata": {},
     "output_type": "execute_result"
    }
   ],
   "source": [
    "def f(x):\n",
    "    return pd.Series([x.min(), x.max()], index=['min', 'max'])\n",
    "\n",
    "df12.apply(f)"
   ]
  },
  {
   "cell_type": "markdown",
   "id": "5b6f33bc",
   "metadata": {},
   "source": [
    "Es können auch elementweise Python-Funktionen verwendet werden. Angenommen, ihr möchtet aus jedem Fließkommawert in `df12` eine formatierte Zeichenkette berechnen. Dies könnt ihr mit [pandas.DataFrame.applymap](https://pandas.pydata.org/docs/reference/api/pandas.DataFrame.applymap.html) erreichen:"
   ]
  },
  {
   "cell_type": "code",
   "execution_count": 15,
   "id": "ba3f9ec6",
   "metadata": {},
   "outputs": [
    {
     "data": {
      "text/html": [
       "<div>\n",
       "<style scoped>\n",
       "    .dataframe tbody tr th:only-of-type {\n",
       "        vertical-align: middle;\n",
       "    }\n",
       "\n",
       "    .dataframe tbody tr th {\n",
       "        vertical-align: top;\n",
       "    }\n",
       "\n",
       "    .dataframe thead th {\n",
       "        text-align: right;\n",
       "    }\n",
       "</style>\n",
       "<table border=\"1\" class=\"dataframe\">\n",
       "  <thead>\n",
       "    <tr style=\"text-align: right;\">\n",
       "      <th></th>\n",
       "      <th>0</th>\n",
       "      <th>1</th>\n",
       "      <th>2</th>\n",
       "    </tr>\n",
       "  </thead>\n",
       "  <tbody>\n",
       "    <tr>\n",
       "      <th>0</th>\n",
       "      <td>-1.62</td>\n",
       "      <td>1.48</td>\n",
       "      <td>-0.34</td>\n",
       "    </tr>\n",
       "    <tr>\n",
       "      <th>1</th>\n",
       "      <td>1.06</td>\n",
       "      <td>2.25</td>\n",
       "      <td>-0.49</td>\n",
       "    </tr>\n",
       "    <tr>\n",
       "      <th>2</th>\n",
       "      <td>0.60</td>\n",
       "      <td>-1.53</td>\n",
       "      <td>-0.62</td>\n",
       "    </tr>\n",
       "    <tr>\n",
       "      <th>3</th>\n",
       "      <td>-0.49</td>\n",
       "      <td>-1.24</td>\n",
       "      <td>-1.20</td>\n",
       "    </tr>\n",
       "    <tr>\n",
       "      <th>4</th>\n",
       "      <td>-2.64</td>\n",
       "      <td>-1.04</td>\n",
       "      <td>1.00</td>\n",
       "    </tr>\n",
       "    <tr>\n",
       "      <th>5</th>\n",
       "      <td>-0.66</td>\n",
       "      <td>-1.91</td>\n",
       "      <td>0.00</td>\n",
       "    </tr>\n",
       "    <tr>\n",
       "      <th>6</th>\n",
       "      <td>1.86</td>\n",
       "      <td>1.41</td>\n",
       "      <td>0.00</td>\n",
       "    </tr>\n",
       "  </tbody>\n",
       "</table>\n",
       "</div>"
      ],
      "text/plain": [
       "       0      1      2\n",
       "0  -1.62   1.48  -0.34\n",
       "1   1.06   2.25  -0.49\n",
       "2   0.60  -1.53  -0.62\n",
       "3  -0.49  -1.24  -1.20\n",
       "4  -2.64  -1.04   1.00\n",
       "5  -0.66  -1.91   0.00\n",
       "6   1.86   1.41   0.00"
      ]
     },
     "execution_count": 15,
     "metadata": {},
     "output_type": "execute_result"
    }
   ],
   "source": [
    "f = lambda x: '%.2f' % x\n",
    "\n",
    "df12.applymap(f)"
   ]
  },
  {
   "cell_type": "markdown",
   "id": "cda74d52",
   "metadata": {},
   "source": [
    "Der Grund für den Namen `applymap` ist, dass Series über eine `map`-Methode zur Anwendung einer elementweisen Funktion verfügt:"
   ]
  },
  {
   "cell_type": "code",
   "execution_count": 16,
   "id": "0b9f6691",
   "metadata": {},
   "outputs": [
    {
     "data": {
      "text/plain": [
       "0    -0.34\n",
       "1    -0.49\n",
       "2    -0.62\n",
       "3    -1.20\n",
       "4     1.00\n",
       "5     0.00\n",
       "6     0.00\n",
       "Name: 2, dtype: object"
      ]
     },
     "execution_count": 16,
     "metadata": {},
     "output_type": "execute_result"
    }
   ],
   "source": [
    "df12[2].map(f)"
   ]
  }
 ],
 "metadata": {
  "kernelspec": {
   "display_name": "Python 3.8",
   "language": "python",
   "name": "python-38"
  },
  "language_info": {
   "codemirror_mode": {
    "name": "ipython",
    "version": 3
   },
   "file_extension": ".py",
   "mimetype": "text/x-python",
   "name": "python",
   "nbconvert_exporter": "python",
   "pygments_lexer": "ipython3",
   "version": "3.8.12"
  }
 },
 "nbformat": 4,
 "nbformat_minor": 5
}
