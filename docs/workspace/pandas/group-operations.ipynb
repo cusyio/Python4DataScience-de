{
 "cells": [
  {
   "cell_type": "markdown",
   "id": "a91ee14b",
   "metadata": {},
   "source": [
    "# Gruppenoperationen\n",
    "\n",
    "Mit `groupby` ist ein Prozess gemeint, der einen oder mehrere der folgenden Schritte umfasst:\n",
    "\n",
    "* **Split** teilt die Daten in Gruppen nach bestimmten Kriterien auf\n",
    "* **Apply** wendet eine Funktion unabhängig auf jede Gruppe an\n",
    "* **Combine** kombiniert die Ergebnisse in einer Datenstruktur\n",
    "\n",
    "In der ersten Phase des Prozesses werden die in einem pandas-Objekt enthaltenen Daten, sei es eine Series, ein DataFrame oder etwas anderes, in Gruppen aufgeteilt, die auf einem oder mehreren Schlüsseln basieren. Die Aufteilung wird auf einer bestimmten Achse eines Objekts durchgeführt. Ein DataFrame kann zum Beispiel nach seinen Zeilen (`axis=0`) oder seinen Spalten (`axis=1`) gruppiert werden. Danach wird auf jede Gruppe eine Funktion angewendet, die einen neuen Wert erzeugt. Schließlich werden die Ergebnisse all dieser Funktionsanwendungen in einem Ergebnisobjekt kombiniert. Die Form des Ergebnisobjekts hängt normalerweise davon ab, was mit den Daten gemacht wird.\n",
    "\n",
    "Jeder Gruppierungsschlüssel kann viele Formen annehmen, und die Schlüssel müssen nicht alle vom gleichen Typ sein:\n",
    "* Eine Liste oder ein Array von Werten, die die gleiche Länge wie die zu gruppierende Achse haben\n",
    "* Ein Wert, der einen Spaltennamen in einem DataFrame angibt\n",
    "* Ein Dict oder eine Series, die eine Entsprechung zwischen den Werten auf der Achse, die gruppiert wird, und den Gruppennamen darstellt\n",
    "* Eine Funktion, die auf dem Achsenindex oder den einzelnen Beschriftungen im Index aufgerufen wird\n",
    "\n",
    "> **Hinweis:**\n",
    "> \n",
    "> Die drei letztgenannten Methoden sind Abkürzungen, um ein Array von Werten zu erzeugen, die für die Aufteilung des Objekts verwendet werden.\n",
    "\n",
    "Macht euch keine Sorgen, wenn dies alles abstrakt erscheint. Im Laufe dieses Kapitels werde ich viele Beispiele für all diese Methoden geben. Für den Anfang hier ein kleiner Tabellendatensatz als DataFrame:"
   ]
  },
  {
   "cell_type": "code",
   "execution_count": 1,
   "id": "1dcd1089",
   "metadata": {},
   "outputs": [
    {
     "data": {
      "text/html": [
       "<div>\n",
       "<style scoped>\n",
       "    .dataframe tbody tr th:only-of-type {\n",
       "        vertical-align: middle;\n",
       "    }\n",
       "\n",
       "    .dataframe tbody tr th {\n",
       "        vertical-align: top;\n",
       "    }\n",
       "\n",
       "    .dataframe thead th {\n",
       "        text-align: right;\n",
       "    }\n",
       "</style>\n",
       "<table border=\"1\" class=\"dataframe\">\n",
       "  <thead>\n",
       "    <tr style=\"text-align: right;\">\n",
       "      <th></th>\n",
       "      <th>Title</th>\n",
       "      <th>Language</th>\n",
       "      <th>12/2021</th>\n",
       "      <th>01/2022</th>\n",
       "      <th>02/2022</th>\n",
       "    </tr>\n",
       "  </thead>\n",
       "  <tbody>\n",
       "    <tr>\n",
       "      <th>0</th>\n",
       "      <td>Jupyter Tutorial</td>\n",
       "      <td>de</td>\n",
       "      <td>19651.0</td>\n",
       "      <td>30134.0</td>\n",
       "      <td>33295.0</td>\n",
       "    </tr>\n",
       "    <tr>\n",
       "      <th>1</th>\n",
       "      <td>Jupyter Tutorial</td>\n",
       "      <td>en</td>\n",
       "      <td>4722.0</td>\n",
       "      <td>3497.0</td>\n",
       "      <td>4009.0</td>\n",
       "    </tr>\n",
       "    <tr>\n",
       "      <th>2</th>\n",
       "      <td>PyViz Tutorial</td>\n",
       "      <td>de</td>\n",
       "      <td>2573.0</td>\n",
       "      <td>4873.0</td>\n",
       "      <td>3930.0</td>\n",
       "    </tr>\n",
       "    <tr>\n",
       "      <th>3</th>\n",
       "      <td>None</td>\n",
       "      <td>None</td>\n",
       "      <td>NaN</td>\n",
       "      <td>NaN</td>\n",
       "      <td>NaN</td>\n",
       "    </tr>\n",
       "    <tr>\n",
       "      <th>4</th>\n",
       "      <td>Python Basics</td>\n",
       "      <td>de</td>\n",
       "      <td>525.0</td>\n",
       "      <td>427.0</td>\n",
       "      <td>276.0</td>\n",
       "    </tr>\n",
       "    <tr>\n",
       "      <th>5</th>\n",
       "      <td>Python Basics</td>\n",
       "      <td>en</td>\n",
       "      <td>157.0</td>\n",
       "      <td>85.0</td>\n",
       "      <td>226.0</td>\n",
       "    </tr>\n",
       "  </tbody>\n",
       "</table>\n",
       "</div>"
      ],
      "text/plain": [
       "              Title Language  12/2021  01/2022  02/2022\n",
       "0  Jupyter Tutorial       de  19651.0  30134.0  33295.0\n",
       "1  Jupyter Tutorial       en   4722.0   3497.0   4009.0\n",
       "2    PyViz Tutorial       de   2573.0   4873.0   3930.0\n",
       "3              None     None      NaN      NaN      NaN\n",
       "4     Python Basics       de    525.0    427.0    276.0\n",
       "5     Python Basics       en    157.0     85.0    226.0"
      ]
     },
     "execution_count": 1,
     "metadata": {},
     "output_type": "execute_result"
    }
   ],
   "source": [
    "import pandas as pd\n",
    "\n",
    "df = pd.DataFrame({'Title' : ['Jupyter Tutorial',\n",
    "                              'Jupyter Tutorial',\n",
    "                              'PyViz Tutorial',\n",
    "                              None,\n",
    "                              'Python Basics',\n",
    "                              'Python Basics'],\n",
    "                   'Language' : ['de', 'en', 'de',  None, 'de', 'en'],\n",
    "                   '12/2021' : [19651,4722,2573,None,525,157],\n",
    "                   '01/2022' : [30134,3497,4873,None,427,85],\n",
    "                   '02/2022' : [33295,4009,3930,None,276,226]})\n",
    "\n",
    "df"
   ]
  },
  {
   "cell_type": "markdown",
   "id": "0190d888",
   "metadata": {},
   "source": [
    "Angenommen, ihr möchtet den Summe der Spalte `02/2022` anhand der Beschriftungen von `Title` berechnen. Es gibt mehrere Möglichkeiten, dies zu tun. Eine davon ist der Zugriff auf `02/2022` und der Aufruf von `groupby` mit der Spalte (einer Series) in `Title`:"
   ]
  },
  {
   "cell_type": "code",
   "execution_count": 2,
   "id": "79599df5",
   "metadata": {},
   "outputs": [
    {
     "data": {
      "text/plain": [
       "<pandas.core.groupby.generic.SeriesGroupBy object at 0x7f846012d070>"
      ]
     },
     "execution_count": 2,
     "metadata": {},
     "output_type": "execute_result"
    }
   ],
   "source": [
    "grouped = df['02/2022'].groupby(df['Title'])\n",
    "\n",
    "grouped"
   ]
  },
  {
   "cell_type": "markdown",
   "id": "09c87c04",
   "metadata": {},
   "source": [
    "Diese `grouped`-Variable ist nun ein spezielles `SeriesGroupBy`-Objekt. Es hat noch nichts berechnet, außer einigen Zwischendaten über den Gruppenschlüssel `df['Title']`. Die Idee ist, dass dieses Objekt über alle Informationen verfügt, die benötigt werden, um eine Operation auf jede der Gruppen anzuwenden. Zur Berechnung der Gruppenmittelwerte können wir beispielsweise die Methode `sum` des `GroupBy`-Objekts aufrufen:"
   ]
  },
  {
   "cell_type": "code",
   "execution_count": 3,
   "id": "ff87a157",
   "metadata": {},
   "outputs": [
    {
     "data": {
      "text/plain": [
       "Title\n",
       "Jupyter Tutorial    37304.0\n",
       "PyViz Tutorial       3930.0\n",
       "Python Basics         502.0\n",
       "Name: 02/2022, dtype: float64"
      ]
     },
     "execution_count": 3,
     "metadata": {},
     "output_type": "execute_result"
    }
   ],
   "source": [
    "grouped.sum()"
   ]
  },
  {
   "cell_type": "markdown",
   "id": "f014accf",
   "metadata": {},
   "source": [
    "Später werde ich mehr darüber erklären, was passiert, wenn ihr `.sum()` aufruft. Wichtig ist hier, dass die Daten (eine Reihe) durch Aufteilung der Daten auf den Gruppenschlüssel aggregiert wurden, wodurch eine neue Reihe entsteht, die nun durch die eindeutigen Werte in der Spalte `Title` indiziert ist. Der resultierende Index ist `Title`, weil `groupby(df['Title']` dies tat."
   ]
  },
  {
   "cell_type": "markdown",
   "id": "4847f905",
   "metadata": {},
   "source": [
    "Hätten wir stattdessen mehrere Arrays als Liste übergeben, würden wir etwas anderes erhalten:"
   ]
  },
  {
   "cell_type": "code",
   "execution_count": 4,
   "id": "45af704d",
   "metadata": {},
   "outputs": [
    {
     "data": {
      "text/plain": [
       "Language  Title           \n",
       "de        Jupyter Tutorial    19651.0\n",
       "          PyViz Tutorial       2573.0\n",
       "          Python Basics         525.0\n",
       "en        Jupyter Tutorial     4722.0\n",
       "          Python Basics         157.0\n",
       "Name: 12/2021, dtype: float64"
      ]
     },
     "execution_count": 4,
     "metadata": {},
     "output_type": "execute_result"
    }
   ],
   "source": [
    "sums = df['12/2021'].groupby([df['Language'], df['Title']]).sum()\n",
    "\n",
    "sums"
   ]
  },
  {
   "cell_type": "markdown",
   "id": "715d2c79",
   "metadata": {},
   "source": [
    "Hier haben wir die Daten anhand von zwei Schlüsseln gruppiert, und die resultierende Reihe hat nun einen hierarchischen Index, der aus den beobachteten eindeutigen Schlüsselpaaren besteht:"
   ]
  },
  {
   "cell_type": "code",
   "execution_count": 5,
   "id": "1694d6f4",
   "metadata": {},
   "outputs": [
    {
     "data": {
      "text/html": [
       "<div>\n",
       "<style scoped>\n",
       "    .dataframe tbody tr th:only-of-type {\n",
       "        vertical-align: middle;\n",
       "    }\n",
       "\n",
       "    .dataframe tbody tr th {\n",
       "        vertical-align: top;\n",
       "    }\n",
       "\n",
       "    .dataframe thead th {\n",
       "        text-align: right;\n",
       "    }\n",
       "</style>\n",
       "<table border=\"1\" class=\"dataframe\">\n",
       "  <thead>\n",
       "    <tr style=\"text-align: right;\">\n",
       "      <th>Title</th>\n",
       "      <th>Jupyter Tutorial</th>\n",
       "      <th>PyViz Tutorial</th>\n",
       "      <th>Python Basics</th>\n",
       "    </tr>\n",
       "    <tr>\n",
       "      <th>Language</th>\n",
       "      <th></th>\n",
       "      <th></th>\n",
       "      <th></th>\n",
       "    </tr>\n",
       "  </thead>\n",
       "  <tbody>\n",
       "    <tr>\n",
       "      <th>de</th>\n",
       "      <td>19651.0</td>\n",
       "      <td>2573.0</td>\n",
       "      <td>525.0</td>\n",
       "    </tr>\n",
       "    <tr>\n",
       "      <th>en</th>\n",
       "      <td>4722.0</td>\n",
       "      <td>NaN</td>\n",
       "      <td>157.0</td>\n",
       "    </tr>\n",
       "  </tbody>\n",
       "</table>\n",
       "</div>"
      ],
      "text/plain": [
       "Title     Jupyter Tutorial  PyViz Tutorial  Python Basics\n",
       "Language                                                 \n",
       "de                 19651.0          2573.0          525.0\n",
       "en                  4722.0             NaN          157.0"
      ]
     },
     "execution_count": 5,
     "metadata": {},
     "output_type": "execute_result"
    }
   ],
   "source": [
    "sums.unstack()"
   ]
  },
  {
   "cell_type": "markdown",
   "id": "e820bcae",
   "metadata": {},
   "source": [
    "Häufig befinden sich die Gruppierungsinformationen in demselben DataFrame wie die Daten, die ihr bearbeiten möchtet. In diesem Fall könnt ihr Spaltennamen (egal ob es sich um Zeichenketten, Zahlen oder andere Python-Objekte handelt) als Gruppenschlüssel übergeben:"
   ]
  },
  {
   "cell_type": "code",
   "execution_count": 6,
   "id": "72401f82",
   "metadata": {},
   "outputs": [
    {
     "data": {
      "text/html": [
       "<div>\n",
       "<style scoped>\n",
       "    .dataframe tbody tr th:only-of-type {\n",
       "        vertical-align: middle;\n",
       "    }\n",
       "\n",
       "    .dataframe tbody tr th {\n",
       "        vertical-align: top;\n",
       "    }\n",
       "\n",
       "    .dataframe thead th {\n",
       "        text-align: right;\n",
       "    }\n",
       "</style>\n",
       "<table border=\"1\" class=\"dataframe\">\n",
       "  <thead>\n",
       "    <tr style=\"text-align: right;\">\n",
       "      <th></th>\n",
       "      <th>12/2021</th>\n",
       "      <th>01/2022</th>\n",
       "      <th>02/2022</th>\n",
       "    </tr>\n",
       "    <tr>\n",
       "      <th>Title</th>\n",
       "      <th></th>\n",
       "      <th></th>\n",
       "      <th></th>\n",
       "    </tr>\n",
       "  </thead>\n",
       "  <tbody>\n",
       "    <tr>\n",
       "      <th>Jupyter Tutorial</th>\n",
       "      <td>24373.0</td>\n",
       "      <td>33631.0</td>\n",
       "      <td>37304.0</td>\n",
       "    </tr>\n",
       "    <tr>\n",
       "      <th>PyViz Tutorial</th>\n",
       "      <td>2573.0</td>\n",
       "      <td>4873.0</td>\n",
       "      <td>3930.0</td>\n",
       "    </tr>\n",
       "    <tr>\n",
       "      <th>Python Basics</th>\n",
       "      <td>682.0</td>\n",
       "      <td>512.0</td>\n",
       "      <td>502.0</td>\n",
       "    </tr>\n",
       "  </tbody>\n",
       "</table>\n",
       "</div>"
      ],
      "text/plain": [
       "                  12/2021  01/2022  02/2022\n",
       "Title                                      \n",
       "Jupyter Tutorial  24373.0  33631.0  37304.0\n",
       "PyViz Tutorial     2573.0   4873.0   3930.0\n",
       "Python Basics       682.0    512.0    502.0"
      ]
     },
     "execution_count": 6,
     "metadata": {},
     "output_type": "execute_result"
    }
   ],
   "source": [
    "df.groupby('Title').sum()"
   ]
  },
  {
   "cell_type": "markdown",
   "id": "19330ce9",
   "metadata": {},
   "source": [
    "Hierbei fällt auf, dass das Ergebnis keine Spalte `Language` enthält. Da es sich bei `df['Language']` nicht um numerische Daten handelt, stört sie im Tabellenlayout und wird daher automatisch aus dem Ergebnis ausgeschlossen. Standardmäßig werden alle numerischen Spalten aggregiert."
   ]
  },
  {
   "cell_type": "code",
   "execution_count": 7,
   "id": "f4080702",
   "metadata": {},
   "outputs": [
    {
     "data": {
      "text/html": [
       "<div>\n",
       "<style scoped>\n",
       "    .dataframe tbody tr th:only-of-type {\n",
       "        vertical-align: middle;\n",
       "    }\n",
       "\n",
       "    .dataframe tbody tr th {\n",
       "        vertical-align: top;\n",
       "    }\n",
       "\n",
       "    .dataframe thead th {\n",
       "        text-align: right;\n",
       "    }\n",
       "</style>\n",
       "<table border=\"1\" class=\"dataframe\">\n",
       "  <thead>\n",
       "    <tr style=\"text-align: right;\">\n",
       "      <th></th>\n",
       "      <th></th>\n",
       "      <th>12/2021</th>\n",
       "      <th>01/2022</th>\n",
       "      <th>02/2022</th>\n",
       "    </tr>\n",
       "    <tr>\n",
       "      <th>Title</th>\n",
       "      <th>Language</th>\n",
       "      <th></th>\n",
       "      <th></th>\n",
       "      <th></th>\n",
       "    </tr>\n",
       "  </thead>\n",
       "  <tbody>\n",
       "    <tr>\n",
       "      <th rowspan=\"2\" valign=\"top\">Jupyter Tutorial</th>\n",
       "      <th>de</th>\n",
       "      <td>19651.0</td>\n",
       "      <td>30134.0</td>\n",
       "      <td>33295.0</td>\n",
       "    </tr>\n",
       "    <tr>\n",
       "      <th>en</th>\n",
       "      <td>4722.0</td>\n",
       "      <td>3497.0</td>\n",
       "      <td>4009.0</td>\n",
       "    </tr>\n",
       "    <tr>\n",
       "      <th>PyViz Tutorial</th>\n",
       "      <th>de</th>\n",
       "      <td>2573.0</td>\n",
       "      <td>4873.0</td>\n",
       "      <td>3930.0</td>\n",
       "    </tr>\n",
       "    <tr>\n",
       "      <th rowspan=\"2\" valign=\"top\">Python Basics</th>\n",
       "      <th>de</th>\n",
       "      <td>525.0</td>\n",
       "      <td>427.0</td>\n",
       "      <td>276.0</td>\n",
       "    </tr>\n",
       "    <tr>\n",
       "      <th>en</th>\n",
       "      <td>157.0</td>\n",
       "      <td>85.0</td>\n",
       "      <td>226.0</td>\n",
       "    </tr>\n",
       "  </tbody>\n",
       "</table>\n",
       "</div>"
      ],
      "text/plain": [
       "                           12/2021  01/2022  02/2022\n",
       "Title            Language                           \n",
       "Jupyter Tutorial de        19651.0  30134.0  33295.0\n",
       "                 en         4722.0   3497.0   4009.0\n",
       "PyViz Tutorial   de         2573.0   4873.0   3930.0\n",
       "Python Basics    de          525.0    427.0    276.0\n",
       "                 en          157.0     85.0    226.0"
      ]
     },
     "execution_count": 7,
     "metadata": {},
     "output_type": "execute_result"
    }
   ],
   "source": [
    "df.groupby(['Title','Language']).sum()"
   ]
  },
  {
   "cell_type": "markdown",
   "id": "8f91b99a",
   "metadata": {},
   "source": [
    "Unabhängig vom Ziel der Verwendung von `groupby` ist eine allgemein nützliche `groupby`-Methode `size`, die eine Serie mit den Gruppengrößen zurückgibt:"
   ]
  },
  {
   "cell_type": "code",
   "execution_count": 8,
   "id": "55b2561d",
   "metadata": {},
   "outputs": [
    {
     "data": {
      "text/plain": [
       "Language\n",
       "de    3\n",
       "en    2\n",
       "dtype: int64"
      ]
     },
     "execution_count": 8,
     "metadata": {},
     "output_type": "execute_result"
    }
   ],
   "source": [
    "df.groupby(['Language']).size()"
   ]
  },
  {
   "cell_type": "markdown",
   "id": "b50456cb",
   "metadata": {},
   "source": [
    "> **Hinweis:**\n",
    "> \n",
    "> Alle fehlenden Werte in einem Gruppenschlüssel werden standardmäßig aus dem Ergebnis ausgeschlossen. Dieses Verhalten kann deaktiviert werden, indem `dropna=False` an `groupby` übergeben wird:"
   ]
  },
  {
   "cell_type": "code",
   "execution_count": 9,
   "id": "3924645f",
   "metadata": {},
   "outputs": [
    {
     "data": {
      "text/plain": [
       "Language\n",
       "de     3\n",
       "en     2\n",
       "NaN    1\n",
       "dtype: int64"
      ]
     },
     "execution_count": 9,
     "metadata": {},
     "output_type": "execute_result"
    }
   ],
   "source": [
    "df.groupby('Language', dropna=False).size()"
   ]
  },
  {
   "cell_type": "code",
   "execution_count": 10,
   "id": "8b8d4b08",
   "metadata": {},
   "outputs": [
    {
     "data": {
      "text/plain": [
       "Title             Language\n",
       "Jupyter Tutorial  de          1\n",
       "                  en          1\n",
       "PyViz Tutorial    de          1\n",
       "Python Basics     de          1\n",
       "                  en          1\n",
       "NaN               NaN         1\n",
       "dtype: int64"
      ]
     },
     "execution_count": 10,
     "metadata": {},
     "output_type": "execute_result"
    }
   ],
   "source": [
    "df.groupby(['Title', 'Language'], dropna=False).size()"
   ]
  }
 ],
 "metadata": {
  "kernelspec": {
   "display_name": "Python 3.8",
   "language": "python",
   "name": "python-38"
  },
  "language_info": {
   "codemirror_mode": {
    "name": "ipython",
    "version": 3
   },
   "file_extension": ".py",
   "mimetype": "text/x-python",
   "name": "python",
   "nbconvert_exporter": "python",
   "pygments_lexer": "ipython3",
   "version": "3.8.12"
  }
 },
 "nbformat": 4,
 "nbformat_minor": 5
}
