{
 "cells": [
  {
   "cell_type": "markdown",
   "id": "b95ac834",
   "metadata": {},
   "source": [
    "# Daten auswählen und filtern\n",
    "\n",
    "Die Indizierung von Serien `(obj[...])` funktioniert analog zur Indizierung von NumPy-Arrays, außer dass ihr Indexwerte der Serie statt nur Ganzzahlen verwenden könnt. Hier sind einige Beispiele dafür:"
   ]
  },
  {
   "cell_type": "code",
   "execution_count": 1,
   "id": "3482a24f",
   "metadata": {},
   "outputs": [],
   "source": [
    "import numpy as np\n",
    "import pandas as pd"
   ]
  },
  {
   "cell_type": "code",
   "execution_count": 2,
   "id": "f4edf9bc",
   "metadata": {},
   "outputs": [],
   "source": [
    "idx = pd.date_range(\"2022-02-02\", periods=7)\n",
    "s = pd.Series(np.random.randn(7), index=idx)"
   ]
  },
  {
   "cell_type": "code",
   "execution_count": 3,
   "id": "237188da",
   "metadata": {},
   "outputs": [
    {
     "data": {
      "text/plain": [
       "2022-02-02    0.647976\n",
       "2022-02-03   -0.456759\n",
       "2022-02-04    1.645400\n",
       "2022-02-05   -0.327128\n",
       "2022-02-06    0.289596\n",
       "2022-02-07   -0.443900\n",
       "2022-02-08    0.688924\n",
       "Freq: D, dtype: float64"
      ]
     },
     "execution_count": 3,
     "metadata": {},
     "output_type": "execute_result"
    }
   ],
   "source": [
    "s"
   ]
  },
  {
   "cell_type": "code",
   "execution_count": 4,
   "id": "1b12fbaa",
   "metadata": {},
   "outputs": [
    {
     "data": {
      "text/plain": [
       "-0.456758843961271"
      ]
     },
     "execution_count": 4,
     "metadata": {},
     "output_type": "execute_result"
    }
   ],
   "source": [
    "s[\"2022-02-03\"]"
   ]
  },
  {
   "cell_type": "code",
   "execution_count": 5,
   "id": "7da4fd93",
   "metadata": {},
   "outputs": [
    {
     "data": {
      "text/plain": [
       "-0.456758843961271"
      ]
     },
     "execution_count": 5,
     "metadata": {},
     "output_type": "execute_result"
    }
   ],
   "source": [
    "s[1]"
   ]
  },
  {
   "cell_type": "code",
   "execution_count": 6,
   "id": "9531e948",
   "metadata": {},
   "outputs": [
    {
     "data": {
      "text/plain": [
       "2022-02-04    1.645400\n",
       "2022-02-05   -0.327128\n",
       "Freq: D, dtype: float64"
      ]
     },
     "execution_count": 6,
     "metadata": {},
     "output_type": "execute_result"
    }
   ],
   "source": [
    " s[2:4]"
   ]
  },
  {
   "cell_type": "code",
   "execution_count": 7,
   "id": "c3b587c0",
   "metadata": {},
   "outputs": [
    {
     "data": {
      "text/plain": [
       "2022-02-04    1.645400\n",
       "2022-02-03   -0.456759\n",
       "2022-02-02    0.647976\n",
       "dtype: float64"
      ]
     },
     "execution_count": 7,
     "metadata": {},
     "output_type": "execute_result"
    }
   ],
   "source": [
    "s[[\"2022-02-04\", \"2022-02-03\", \"2022-02-02\"]]"
   ]
  },
  {
   "cell_type": "code",
   "execution_count": 8,
   "id": "31df8ae7",
   "metadata": {},
   "outputs": [
    {
     "data": {
      "text/plain": [
       "2022-02-03   -0.456759\n",
       "2022-02-05   -0.327128\n",
       "Freq: 2D, dtype: float64"
      ]
     },
     "execution_count": 8,
     "metadata": {},
     "output_type": "execute_result"
    }
   ],
   "source": [
    "s[[1, 3]]"
   ]
  },
  {
   "cell_type": "code",
   "execution_count": 9,
   "id": "1811aa41",
   "metadata": {},
   "outputs": [
    {
     "data": {
      "text/plain": [
       "2022-02-02    0.647976\n",
       "2022-02-04    1.645400\n",
       "2022-02-06    0.289596\n",
       "2022-02-08    0.688924\n",
       "dtype: float64"
      ]
     },
     "execution_count": 9,
     "metadata": {},
     "output_type": "execute_result"
    }
   ],
   "source": [
    "s[s > 0]"
   ]
  },
  {
   "cell_type": "markdown",
   "id": "82b5ebef",
   "metadata": {},
   "source": [
    "Zwar könnt ihr auf diese Weise Daten nach Label auswählen, doch die bevorzugte Methode zur Auswahl von Indexwerten ist der `loc`-Operator:"
   ]
  },
  {
   "cell_type": "code",
   "execution_count": 10,
   "id": "0e11f024",
   "metadata": {},
   "outputs": [
    {
     "data": {
      "text/plain": [
       "2022-02-04    1.645400\n",
       "2022-02-03   -0.456759\n",
       "2022-02-02    0.647976\n",
       "dtype: float64"
      ]
     },
     "execution_count": 10,
     "metadata": {},
     "output_type": "execute_result"
    }
   ],
   "source": [
    "s.loc[[\"2022-02-04\", \"2022-02-03\", \"2022-02-02\"]]"
   ]
  },
  {
   "cell_type": "markdown",
   "id": "7b3b6f16",
   "metadata": {},
   "source": [
    "Der Grund für die Bevorzugung von `loc` liegt in der unterschiedlichen Behandlung von Ganzzahlen bei der Indexierung mit `[]`. Bei der regulären `[]`-basierten Indizierung werden Ganzzahlen als Label behandelt, wenn der Index Ganzzahlen enthält, so dass das Verhalten je nach Datentyp des Index unterschiedlich ist. In unserem Beispiel wird der Ausdruck `s.loc[[3, 2, 1]]` fehlschlagen, da der Index keine ganzen Zahlen enthält:"
   ]
  },
  {
   "cell_type": "code",
   "execution_count": 11,
   "id": "c7279faf",
   "metadata": {},
   "outputs": [
    {
     "ename": "KeyError",
     "evalue": "\"None of [Index([3, 2, 1], dtype='int64')] are in the [index]\"",
     "output_type": "error",
     "traceback": [
      "\u001b[0;31m---------------------------------------------------------------------------\u001b[0m",
      "\u001b[0;31mKeyError\u001b[0m                                  Traceback (most recent call last)",
      "Cell \u001b[0;32mIn[11], line 1\u001b[0m\n\u001b[0;32m----> 1\u001b[0m \u001b[43ms\u001b[49m\u001b[38;5;241;43m.\u001b[39;49m\u001b[43mloc\u001b[49m\u001b[43m[\u001b[49m\u001b[43m[\u001b[49m\u001b[38;5;241;43m3\u001b[39;49m\u001b[43m,\u001b[49m\u001b[43m \u001b[49m\u001b[38;5;241;43m2\u001b[39;49m\u001b[43m,\u001b[49m\u001b[43m \u001b[49m\u001b[38;5;241;43m1\u001b[39;49m\u001b[43m]\u001b[49m\u001b[43m]\u001b[49m\n",
      "File \u001b[0;32m~/.local/share/virtualenvs/python-311-6zxVKbDJ/lib/python3.11/site-packages/pandas/core/indexing.py:1103\u001b[0m, in \u001b[0;36m_LocationIndexer.__getitem__\u001b[0;34m(self, key)\u001b[0m\n\u001b[1;32m   1100\u001b[0m axis \u001b[38;5;241m=\u001b[39m \u001b[38;5;28mself\u001b[39m\u001b[38;5;241m.\u001b[39maxis \u001b[38;5;129;01mor\u001b[39;00m \u001b[38;5;241m0\u001b[39m\n\u001b[1;32m   1102\u001b[0m maybe_callable \u001b[38;5;241m=\u001b[39m com\u001b[38;5;241m.\u001b[39mapply_if_callable(key, \u001b[38;5;28mself\u001b[39m\u001b[38;5;241m.\u001b[39mobj)\n\u001b[0;32m-> 1103\u001b[0m \u001b[38;5;28;01mreturn\u001b[39;00m \u001b[38;5;28;43mself\u001b[39;49m\u001b[38;5;241;43m.\u001b[39;49m\u001b[43m_getitem_axis\u001b[49m\u001b[43m(\u001b[49m\u001b[43mmaybe_callable\u001b[49m\u001b[43m,\u001b[49m\u001b[43m \u001b[49m\u001b[43maxis\u001b[49m\u001b[38;5;241;43m=\u001b[39;49m\u001b[43maxis\u001b[49m\u001b[43m)\u001b[49m\n",
      "File \u001b[0;32m~/.local/share/virtualenvs/python-311-6zxVKbDJ/lib/python3.11/site-packages/pandas/core/indexing.py:1332\u001b[0m, in \u001b[0;36m_LocIndexer._getitem_axis\u001b[0;34m(self, key, axis)\u001b[0m\n\u001b[1;32m   1329\u001b[0m     \u001b[38;5;28;01mif\u001b[39;00m \u001b[38;5;28mhasattr\u001b[39m(key, \u001b[38;5;124m\"\u001b[39m\u001b[38;5;124mndim\u001b[39m\u001b[38;5;124m\"\u001b[39m) \u001b[38;5;129;01mand\u001b[39;00m key\u001b[38;5;241m.\u001b[39mndim \u001b[38;5;241m>\u001b[39m \u001b[38;5;241m1\u001b[39m:\n\u001b[1;32m   1330\u001b[0m         \u001b[38;5;28;01mraise\u001b[39;00m \u001b[38;5;167;01mValueError\u001b[39;00m(\u001b[38;5;124m\"\u001b[39m\u001b[38;5;124mCannot index with multidimensional key\u001b[39m\u001b[38;5;124m\"\u001b[39m)\n\u001b[0;32m-> 1332\u001b[0m     \u001b[38;5;28;01mreturn\u001b[39;00m \u001b[38;5;28;43mself\u001b[39;49m\u001b[38;5;241;43m.\u001b[39;49m\u001b[43m_getitem_iterable\u001b[49m\u001b[43m(\u001b[49m\u001b[43mkey\u001b[49m\u001b[43m,\u001b[49m\u001b[43m \u001b[49m\u001b[43maxis\u001b[49m\u001b[38;5;241;43m=\u001b[39;49m\u001b[43maxis\u001b[49m\u001b[43m)\u001b[49m\n\u001b[1;32m   1334\u001b[0m \u001b[38;5;66;03m# nested tuple slicing\u001b[39;00m\n\u001b[1;32m   1335\u001b[0m \u001b[38;5;28;01mif\u001b[39;00m is_nested_tuple(key, labels):\n",
      "File \u001b[0;32m~/.local/share/virtualenvs/python-311-6zxVKbDJ/lib/python3.11/site-packages/pandas/core/indexing.py:1272\u001b[0m, in \u001b[0;36m_LocIndexer._getitem_iterable\u001b[0;34m(self, key, axis)\u001b[0m\n\u001b[1;32m   1269\u001b[0m \u001b[38;5;28mself\u001b[39m\u001b[38;5;241m.\u001b[39m_validate_key(key, axis)\n\u001b[1;32m   1271\u001b[0m \u001b[38;5;66;03m# A collection of keys\u001b[39;00m\n\u001b[0;32m-> 1272\u001b[0m keyarr, indexer \u001b[38;5;241m=\u001b[39m \u001b[38;5;28;43mself\u001b[39;49m\u001b[38;5;241;43m.\u001b[39;49m\u001b[43m_get_listlike_indexer\u001b[49m\u001b[43m(\u001b[49m\u001b[43mkey\u001b[49m\u001b[43m,\u001b[49m\u001b[43m \u001b[49m\u001b[43maxis\u001b[49m\u001b[43m)\u001b[49m\n\u001b[1;32m   1273\u001b[0m \u001b[38;5;28;01mreturn\u001b[39;00m \u001b[38;5;28mself\u001b[39m\u001b[38;5;241m.\u001b[39mobj\u001b[38;5;241m.\u001b[39m_reindex_with_indexers(\n\u001b[1;32m   1274\u001b[0m     {axis: [keyarr, indexer]}, copy\u001b[38;5;241m=\u001b[39m\u001b[38;5;28;01mTrue\u001b[39;00m, allow_dups\u001b[38;5;241m=\u001b[39m\u001b[38;5;28;01mTrue\u001b[39;00m\n\u001b[1;32m   1275\u001b[0m )\n",
      "File \u001b[0;32m~/.local/share/virtualenvs/python-311-6zxVKbDJ/lib/python3.11/site-packages/pandas/core/indexing.py:1462\u001b[0m, in \u001b[0;36m_LocIndexer._get_listlike_indexer\u001b[0;34m(self, key, axis)\u001b[0m\n\u001b[1;32m   1459\u001b[0m ax \u001b[38;5;241m=\u001b[39m \u001b[38;5;28mself\u001b[39m\u001b[38;5;241m.\u001b[39mobj\u001b[38;5;241m.\u001b[39m_get_axis(axis)\n\u001b[1;32m   1460\u001b[0m axis_name \u001b[38;5;241m=\u001b[39m \u001b[38;5;28mself\u001b[39m\u001b[38;5;241m.\u001b[39mobj\u001b[38;5;241m.\u001b[39m_get_axis_name(axis)\n\u001b[0;32m-> 1462\u001b[0m keyarr, indexer \u001b[38;5;241m=\u001b[39m \u001b[43max\u001b[49m\u001b[38;5;241;43m.\u001b[39;49m\u001b[43m_get_indexer_strict\u001b[49m\u001b[43m(\u001b[49m\u001b[43mkey\u001b[49m\u001b[43m,\u001b[49m\u001b[43m \u001b[49m\u001b[43maxis_name\u001b[49m\u001b[43m)\u001b[49m\n\u001b[1;32m   1464\u001b[0m \u001b[38;5;28;01mreturn\u001b[39;00m keyarr, indexer\n",
      "File \u001b[0;32m~/.local/share/virtualenvs/python-311-6zxVKbDJ/lib/python3.11/site-packages/pandas/core/indexes/base.py:5877\u001b[0m, in \u001b[0;36mIndex._get_indexer_strict\u001b[0;34m(self, key, axis_name)\u001b[0m\n\u001b[1;32m   5874\u001b[0m \u001b[38;5;28;01melse\u001b[39;00m:\n\u001b[1;32m   5875\u001b[0m     keyarr, indexer, new_indexer \u001b[38;5;241m=\u001b[39m \u001b[38;5;28mself\u001b[39m\u001b[38;5;241m.\u001b[39m_reindex_non_unique(keyarr)\n\u001b[0;32m-> 5877\u001b[0m \u001b[38;5;28;43mself\u001b[39;49m\u001b[38;5;241;43m.\u001b[39;49m\u001b[43m_raise_if_missing\u001b[49m\u001b[43m(\u001b[49m\u001b[43mkeyarr\u001b[49m\u001b[43m,\u001b[49m\u001b[43m \u001b[49m\u001b[43mindexer\u001b[49m\u001b[43m,\u001b[49m\u001b[43m \u001b[49m\u001b[43maxis_name\u001b[49m\u001b[43m)\u001b[49m\n\u001b[1;32m   5879\u001b[0m keyarr \u001b[38;5;241m=\u001b[39m \u001b[38;5;28mself\u001b[39m\u001b[38;5;241m.\u001b[39mtake(indexer)\n\u001b[1;32m   5880\u001b[0m \u001b[38;5;28;01mif\u001b[39;00m \u001b[38;5;28misinstance\u001b[39m(key, Index):\n\u001b[1;32m   5881\u001b[0m     \u001b[38;5;66;03m# GH 42790 - Preserve name from an Index\u001b[39;00m\n",
      "File \u001b[0;32m~/.local/share/virtualenvs/python-311-6zxVKbDJ/lib/python3.11/site-packages/pandas/core/indexes/base.py:5938\u001b[0m, in \u001b[0;36mIndex._raise_if_missing\u001b[0;34m(self, key, indexer, axis_name)\u001b[0m\n\u001b[1;32m   5936\u001b[0m     \u001b[38;5;28;01mif\u001b[39;00m use_interval_msg:\n\u001b[1;32m   5937\u001b[0m         key \u001b[38;5;241m=\u001b[39m \u001b[38;5;28mlist\u001b[39m(key)\n\u001b[0;32m-> 5938\u001b[0m     \u001b[38;5;28;01mraise\u001b[39;00m \u001b[38;5;167;01mKeyError\u001b[39;00m(\u001b[38;5;124mf\u001b[39m\u001b[38;5;124m\"\u001b[39m\u001b[38;5;124mNone of [\u001b[39m\u001b[38;5;132;01m{\u001b[39;00mkey\u001b[38;5;132;01m}\u001b[39;00m\u001b[38;5;124m] are in the [\u001b[39m\u001b[38;5;132;01m{\u001b[39;00maxis_name\u001b[38;5;132;01m}\u001b[39;00m\u001b[38;5;124m]\u001b[39m\u001b[38;5;124m\"\u001b[39m)\n\u001b[1;32m   5940\u001b[0m not_found \u001b[38;5;241m=\u001b[39m \u001b[38;5;28mlist\u001b[39m(ensure_index(key)[missing_mask\u001b[38;5;241m.\u001b[39mnonzero()[\u001b[38;5;241m0\u001b[39m]]\u001b[38;5;241m.\u001b[39munique())\n\u001b[1;32m   5941\u001b[0m \u001b[38;5;28;01mraise\u001b[39;00m \u001b[38;5;167;01mKeyError\u001b[39;00m(\u001b[38;5;124mf\u001b[39m\u001b[38;5;124m\"\u001b[39m\u001b[38;5;132;01m{\u001b[39;00mnot_found\u001b[38;5;132;01m}\u001b[39;00m\u001b[38;5;124m not in index\u001b[39m\u001b[38;5;124m\"\u001b[39m)\n",
      "\u001b[0;31mKeyError\u001b[0m: \"None of [Index([3, 2, 1], dtype='int64')] are in the [index]\""
     ]
    }
   ],
   "source": [
    "s.loc[[3, 2, 1]]"
   ]
  },
  {
   "cell_type": "markdown",
   "id": "ca01bbcf",
   "metadata": {},
   "source": [
    "Während der `loc`-Operator ausschließlich Label indiziert, indiziert der `iloc`-Operator ausschließlich mit ganzen Zahlen:"
   ]
  },
  {
   "cell_type": "code",
   "execution_count": 12,
   "id": "37e0ba74",
   "metadata": {},
   "outputs": [
    {
     "data": {
      "text/plain": [
       "2022-02-05   -0.327128\n",
       "2022-02-04    1.645400\n",
       "2022-02-03   -0.456759\n",
       "Freq: -1D, dtype: float64"
      ]
     },
     "execution_count": 12,
     "metadata": {},
     "output_type": "execute_result"
    }
   ],
   "source": [
    "s.iloc[[3, 2, 1]]"
   ]
  },
  {
   "cell_type": "markdown",
   "id": "e5dbc895",
   "metadata": {},
   "source": [
    "Ihr könnt auch mit Labels slicen, aber das funktioniert anders als das normale Python-Slicing, da der Endpunkt inklusive ist:"
   ]
  },
  {
   "cell_type": "code",
   "execution_count": 13,
   "id": "2121259e",
   "metadata": {},
   "outputs": [
    {
     "data": {
      "text/plain": [
       "2022-02-03   -0.456759\n",
       "2022-02-04    1.645400\n",
       "Freq: D, dtype: float64"
      ]
     },
     "execution_count": 13,
     "metadata": {},
     "output_type": "execute_result"
    }
   ],
   "source": [
    "s.loc[\"2022-02-03\":\"2022-02-04\"]"
   ]
  },
  {
   "cell_type": "markdown",
   "id": "3ebe649f",
   "metadata": {},
   "source": [
    "Durch die Einstellung mit diesen Methoden wird der entsprechende Abschnitt der Reihe geändert:"
   ]
  },
  {
   "cell_type": "code",
   "execution_count": 14,
   "id": "4af5a091",
   "metadata": {},
   "outputs": [
    {
     "data": {
      "text/plain": [
       "2022-02-02    0.647976\n",
       "2022-02-03    0.000000\n",
       "2022-02-04    0.000000\n",
       "2022-02-05   -0.327128\n",
       "2022-02-06    0.289596\n",
       "2022-02-07   -0.443900\n",
       "2022-02-08    0.688924\n",
       "Freq: D, dtype: float64"
      ]
     },
     "execution_count": 14,
     "metadata": {},
     "output_type": "execute_result"
    }
   ],
   "source": [
    "s.loc[\"2022-02-03\":\"2022-02-04\"] = 0\n",
    "\n",
    "s"
   ]
  },
  {
   "cell_type": "markdown",
   "id": "2cdf7f54",
   "metadata": {},
   "source": [
    "Die Indizierung in einem DataFrame dient dazu, eine oder mehrere Spalten entweder mit einem einzelnen Wert oder einer Folge abzurufen:"
   ]
  },
  {
   "cell_type": "code",
   "execution_count": 15,
   "id": "d2ac569b",
   "metadata": {},
   "outputs": [
    {
     "data": {
      "text/html": [
       "<div>\n",
       "<style scoped>\n",
       "    .dataframe tbody tr th:only-of-type {\n",
       "        vertical-align: middle;\n",
       "    }\n",
       "\n",
       "    .dataframe tbody tr th {\n",
       "        vertical-align: top;\n",
       "    }\n",
       "\n",
       "    .dataframe thead th {\n",
       "        text-align: right;\n",
       "    }\n",
       "</style>\n",
       "<table border=\"1\" class=\"dataframe\">\n",
       "  <thead>\n",
       "    <tr style=\"text-align: right;\">\n",
       "      <th></th>\n",
       "      <th>Decimal</th>\n",
       "      <th>Octal</th>\n",
       "      <th>Key</th>\n",
       "    </tr>\n",
       "    <tr>\n",
       "      <th>Code</th>\n",
       "      <th></th>\n",
       "      <th></th>\n",
       "      <th></th>\n",
       "    </tr>\n",
       "  </thead>\n",
       "  <tbody>\n",
       "    <tr>\n",
       "      <th>U+0000</th>\n",
       "      <td>0</td>\n",
       "      <td>001</td>\n",
       "      <td>NUL</td>\n",
       "    </tr>\n",
       "    <tr>\n",
       "      <th>U+0001</th>\n",
       "      <td>1</td>\n",
       "      <td>002</td>\n",
       "      <td>Ctrl-A</td>\n",
       "    </tr>\n",
       "    <tr>\n",
       "      <th>U+0002</th>\n",
       "      <td>2</td>\n",
       "      <td>003</td>\n",
       "      <td>Ctrl-B</td>\n",
       "    </tr>\n",
       "    <tr>\n",
       "      <th>U+0003</th>\n",
       "      <td>3</td>\n",
       "      <td>004</td>\n",
       "      <td>Ctrl-C</td>\n",
       "    </tr>\n",
       "    <tr>\n",
       "      <th>U+0004</th>\n",
       "      <td>4</td>\n",
       "      <td>004</td>\n",
       "      <td>Ctrl-D</td>\n",
       "    </tr>\n",
       "    <tr>\n",
       "      <th>U+0005</th>\n",
       "      <td>5</td>\n",
       "      <td>005</td>\n",
       "      <td>Ctrl-E</td>\n",
       "    </tr>\n",
       "  </tbody>\n",
       "</table>\n",
       "</div>"
      ],
      "text/plain": [
       "        Decimal Octal     Key\n",
       "Code                         \n",
       "U+0000        0   001     NUL\n",
       "U+0001        1   002  Ctrl-A\n",
       "U+0002        2   003  Ctrl-B\n",
       "U+0003        3   004  Ctrl-C\n",
       "U+0004        4   004  Ctrl-D\n",
       "U+0005        5   005  Ctrl-E"
      ]
     },
     "execution_count": 15,
     "metadata": {},
     "output_type": "execute_result"
    }
   ],
   "source": [
    "data = {\n",
    "    \"Code\": [\"U+0000\", \"U+0001\", \"U+0002\", \"U+0003\", \"U+0004\", \"U+0005\"],\n",
    "    \"Decimal\": [0, 1, 2, 3, 4, 5],\n",
    "    \"Octal\": [\"001\", \"002\", \"003\", \"004\", \"004\", \"005\"],\n",
    "    \"Key\": [\"NUL\", \"Ctrl-A\", \"Ctrl-B\", \"Ctrl-C\", \"Ctrl-D\", \"Ctrl-E\"],\n",
    "}\n",
    "\n",
    "df = pd.DataFrame(data)\n",
    "df = pd.DataFrame(data, columns=[\"Decimal\", \"Octal\", \"Key\"], index=df[\"Code\"])\n",
    "\n",
    "df"
   ]
  },
  {
   "cell_type": "code",
   "execution_count": 16,
   "id": "81c7bce1",
   "metadata": {},
   "outputs": [
    {
     "data": {
      "text/plain": [
       "Code\n",
       "U+0000       NUL\n",
       "U+0001    Ctrl-A\n",
       "U+0002    Ctrl-B\n",
       "U+0003    Ctrl-C\n",
       "U+0004    Ctrl-D\n",
       "U+0005    Ctrl-E\n",
       "Name: Key, dtype: object"
      ]
     },
     "execution_count": 16,
     "metadata": {},
     "output_type": "execute_result"
    }
   ],
   "source": [
    "df[\"Key\"]"
   ]
  },
  {
   "cell_type": "code",
   "execution_count": 17,
   "id": "923b8440",
   "metadata": {},
   "outputs": [
    {
     "data": {
      "text/html": [
       "<div>\n",
       "<style scoped>\n",
       "    .dataframe tbody tr th:only-of-type {\n",
       "        vertical-align: middle;\n",
       "    }\n",
       "\n",
       "    .dataframe tbody tr th {\n",
       "        vertical-align: top;\n",
       "    }\n",
       "\n",
       "    .dataframe thead th {\n",
       "        text-align: right;\n",
       "    }\n",
       "</style>\n",
       "<table border=\"1\" class=\"dataframe\">\n",
       "  <thead>\n",
       "    <tr style=\"text-align: right;\">\n",
       "      <th></th>\n",
       "      <th>Decimal</th>\n",
       "      <th>Key</th>\n",
       "    </tr>\n",
       "    <tr>\n",
       "      <th>Code</th>\n",
       "      <th></th>\n",
       "      <th></th>\n",
       "    </tr>\n",
       "  </thead>\n",
       "  <tbody>\n",
       "    <tr>\n",
       "      <th>U+0000</th>\n",
       "      <td>0</td>\n",
       "      <td>NUL</td>\n",
       "    </tr>\n",
       "    <tr>\n",
       "      <th>U+0001</th>\n",
       "      <td>1</td>\n",
       "      <td>Ctrl-A</td>\n",
       "    </tr>\n",
       "    <tr>\n",
       "      <th>U+0002</th>\n",
       "      <td>2</td>\n",
       "      <td>Ctrl-B</td>\n",
       "    </tr>\n",
       "    <tr>\n",
       "      <th>U+0003</th>\n",
       "      <td>3</td>\n",
       "      <td>Ctrl-C</td>\n",
       "    </tr>\n",
       "    <tr>\n",
       "      <th>U+0004</th>\n",
       "      <td>4</td>\n",
       "      <td>Ctrl-D</td>\n",
       "    </tr>\n",
       "    <tr>\n",
       "      <th>U+0005</th>\n",
       "      <td>5</td>\n",
       "      <td>Ctrl-E</td>\n",
       "    </tr>\n",
       "  </tbody>\n",
       "</table>\n",
       "</div>"
      ],
      "text/plain": [
       "        Decimal     Key\n",
       "Code                   \n",
       "U+0000        0     NUL\n",
       "U+0001        1  Ctrl-A\n",
       "U+0002        2  Ctrl-B\n",
       "U+0003        3  Ctrl-C\n",
       "U+0004        4  Ctrl-D\n",
       "U+0005        5  Ctrl-E"
      ]
     },
     "execution_count": 17,
     "metadata": {},
     "output_type": "execute_result"
    }
   ],
   "source": [
    "df[[\"Decimal\", \"Key\"]]"
   ]
  },
  {
   "cell_type": "code",
   "execution_count": 18,
   "id": "72f5a3d0",
   "metadata": {},
   "outputs": [
    {
     "data": {
      "text/html": [
       "<div>\n",
       "<style scoped>\n",
       "    .dataframe tbody tr th:only-of-type {\n",
       "        vertical-align: middle;\n",
       "    }\n",
       "\n",
       "    .dataframe tbody tr th {\n",
       "        vertical-align: top;\n",
       "    }\n",
       "\n",
       "    .dataframe thead th {\n",
       "        text-align: right;\n",
       "    }\n",
       "</style>\n",
       "<table border=\"1\" class=\"dataframe\">\n",
       "  <thead>\n",
       "    <tr style=\"text-align: right;\">\n",
       "      <th></th>\n",
       "      <th>Decimal</th>\n",
       "      <th>Octal</th>\n",
       "      <th>Key</th>\n",
       "    </tr>\n",
       "    <tr>\n",
       "      <th>Code</th>\n",
       "      <th></th>\n",
       "      <th></th>\n",
       "      <th></th>\n",
       "    </tr>\n",
       "  </thead>\n",
       "  <tbody>\n",
       "    <tr>\n",
       "      <th>U+0000</th>\n",
       "      <td>0</td>\n",
       "      <td>001</td>\n",
       "      <td>NUL</td>\n",
       "    </tr>\n",
       "    <tr>\n",
       "      <th>U+0001</th>\n",
       "      <td>1</td>\n",
       "      <td>002</td>\n",
       "      <td>Ctrl-A</td>\n",
       "    </tr>\n",
       "  </tbody>\n",
       "</table>\n",
       "</div>"
      ],
      "text/plain": [
       "        Decimal Octal     Key\n",
       "Code                         \n",
       "U+0000        0   001     NUL\n",
       "U+0001        1   002  Ctrl-A"
      ]
     },
     "execution_count": 18,
     "metadata": {},
     "output_type": "execute_result"
    }
   ],
   "source": [
    "df[:2]"
   ]
  },
  {
   "cell_type": "code",
   "execution_count": 19,
   "id": "5dea2582",
   "metadata": {},
   "outputs": [
    {
     "data": {
      "text/html": [
       "<div>\n",
       "<style scoped>\n",
       "    .dataframe tbody tr th:only-of-type {\n",
       "        vertical-align: middle;\n",
       "    }\n",
       "\n",
       "    .dataframe tbody tr th {\n",
       "        vertical-align: top;\n",
       "    }\n",
       "\n",
       "    .dataframe thead th {\n",
       "        text-align: right;\n",
       "    }\n",
       "</style>\n",
       "<table border=\"1\" class=\"dataframe\">\n",
       "  <thead>\n",
       "    <tr style=\"text-align: right;\">\n",
       "      <th></th>\n",
       "      <th>Decimal</th>\n",
       "      <th>Octal</th>\n",
       "      <th>Key</th>\n",
       "    </tr>\n",
       "    <tr>\n",
       "      <th>Code</th>\n",
       "      <th></th>\n",
       "      <th></th>\n",
       "      <th></th>\n",
       "    </tr>\n",
       "  </thead>\n",
       "  <tbody>\n",
       "    <tr>\n",
       "      <th>U+0003</th>\n",
       "      <td>3</td>\n",
       "      <td>004</td>\n",
       "      <td>Ctrl-C</td>\n",
       "    </tr>\n",
       "    <tr>\n",
       "      <th>U+0004</th>\n",
       "      <td>4</td>\n",
       "      <td>004</td>\n",
       "      <td>Ctrl-D</td>\n",
       "    </tr>\n",
       "    <tr>\n",
       "      <th>U+0005</th>\n",
       "      <td>5</td>\n",
       "      <td>005</td>\n",
       "      <td>Ctrl-E</td>\n",
       "    </tr>\n",
       "  </tbody>\n",
       "</table>\n",
       "</div>"
      ],
      "text/plain": [
       "        Decimal Octal     Key\n",
       "Code                         \n",
       "U+0003        3   004  Ctrl-C\n",
       "U+0004        4   004  Ctrl-D\n",
       "U+0005        5   005  Ctrl-E"
      ]
     },
     "execution_count": 19,
     "metadata": {},
     "output_type": "execute_result"
    }
   ],
   "source": [
    "df[df[\"Decimal\"] > 2]"
   ]
  },
  {
   "cell_type": "markdown",
   "id": "b90336c6",
   "metadata": {},
   "source": [
    "Die Zeilenauswahlsyntax `df[:2]` wird aus Gründen der Bequemlichkeit bereitgestellt. Durch die Übergabe eines einzelnen Elements oder einer Liste an den `[]`-Operator werden Spalten ausgewählt."
   ]
  },
  {
   "cell_type": "markdown",
   "id": "95042d47",
   "metadata": {},
   "source": [
    "Ein weiterer Anwendungsfall ist die Indizierung mit einem booleschen DataFrame, der beispielsweise durch einen Skalarvergleich erzeugt wird:"
   ]
  },
  {
   "cell_type": "code",
   "execution_count": 20,
   "id": "edda0660",
   "metadata": {},
   "outputs": [
    {
     "data": {
      "text/plain": [
       "Code\n",
       "U+0000    False\n",
       "U+0001    False\n",
       "U+0002    False\n",
       "U+0003     True\n",
       "U+0004     True\n",
       "U+0005     True\n",
       "Name: Decimal, dtype: bool"
      ]
     },
     "execution_count": 20,
     "metadata": {},
     "output_type": "execute_result"
    }
   ],
   "source": [
    "df[\"Decimal\"] > 2"
   ]
  },
  {
   "cell_type": "code",
   "execution_count": 21,
   "id": "3067a33a",
   "metadata": {},
   "outputs": [
    {
     "data": {
      "text/html": [
       "<div>\n",
       "<style scoped>\n",
       "    .dataframe tbody tr th:only-of-type {\n",
       "        vertical-align: middle;\n",
       "    }\n",
       "\n",
       "    .dataframe tbody tr th {\n",
       "        vertical-align: top;\n",
       "    }\n",
       "\n",
       "    .dataframe thead th {\n",
       "        text-align: right;\n",
       "    }\n",
       "</style>\n",
       "<table border=\"1\" class=\"dataframe\">\n",
       "  <thead>\n",
       "    <tr style=\"text-align: right;\">\n",
       "      <th></th>\n",
       "      <th>Decimal</th>\n",
       "      <th>Octal</th>\n",
       "      <th>Key</th>\n",
       "    </tr>\n",
       "    <tr>\n",
       "      <th>Code</th>\n",
       "      <th></th>\n",
       "      <th></th>\n",
       "      <th></th>\n",
       "    </tr>\n",
       "  </thead>\n",
       "  <tbody>\n",
       "    <tr>\n",
       "      <th>U+0000</th>\n",
       "      <td>0</td>\n",
       "      <td>001</td>\n",
       "      <td>NUL</td>\n",
       "    </tr>\n",
       "    <tr>\n",
       "      <th>U+0001</th>\n",
       "      <td>1</td>\n",
       "      <td>002</td>\n",
       "      <td>Ctrl-A</td>\n",
       "    </tr>\n",
       "    <tr>\n",
       "      <th>U+0002</th>\n",
       "      <td>2</td>\n",
       "      <td>003</td>\n",
       "      <td>Ctrl-B</td>\n",
       "    </tr>\n",
       "    <tr>\n",
       "      <th>U+0003</th>\n",
       "      <td>NA</td>\n",
       "      <td>NA</td>\n",
       "      <td>NA</td>\n",
       "    </tr>\n",
       "    <tr>\n",
       "      <th>U+0004</th>\n",
       "      <td>NA</td>\n",
       "      <td>NA</td>\n",
       "      <td>NA</td>\n",
       "    </tr>\n",
       "    <tr>\n",
       "      <th>U+0005</th>\n",
       "      <td>NA</td>\n",
       "      <td>NA</td>\n",
       "      <td>NA</td>\n",
       "    </tr>\n",
       "  </tbody>\n",
       "</table>\n",
       "</div>"
      ],
      "text/plain": [
       "       Decimal Octal     Key\n",
       "Code                        \n",
       "U+0000       0   001     NUL\n",
       "U+0001       1   002  Ctrl-A\n",
       "U+0002       2   003  Ctrl-B\n",
       "U+0003      NA    NA      NA\n",
       "U+0004      NA    NA      NA\n",
       "U+0005      NA    NA      NA"
      ]
     },
     "execution_count": 21,
     "metadata": {},
     "output_type": "execute_result"
    }
   ],
   "source": [
    "df[df[\"Decimal\"] > 2] = \"NA\"\n",
    "\n",
    "df"
   ]
  },
  {
   "cell_type": "markdown",
   "id": "0edb24c2",
   "metadata": {},
   "source": [
    "Wie Series verfügt auch DataFrame über spezielle Operatoren `loc` und `iloc` für label-basierte bzw. ganzzahlige Indizierung. Da DataFrame zweidimensional ist, könnt ihr eine Teilmenge der Zeilen und Spalten mit NumPy-ähnlicher Notation auswählen, indem ihr entweder Achsenbeschriftungen (`loc`) oder Ganzzahlen (`iloc`) verwendet."
   ]
  },
  {
   "cell_type": "code",
   "execution_count": 22,
   "id": "c8eb86f9",
   "metadata": {},
   "outputs": [
    {
     "data": {
      "text/plain": [
       "Decimal         2\n",
       "Key        Ctrl-B\n",
       "Name: U+0002, dtype: object"
      ]
     },
     "execution_count": 22,
     "metadata": {},
     "output_type": "execute_result"
    }
   ],
   "source": [
    "df.loc[\"U+0002\", [\"Decimal\", \"Key\"]]"
   ]
  },
  {
   "cell_type": "code",
   "execution_count": 23,
   "id": "cc257cbc",
   "metadata": {},
   "outputs": [
    {
     "data": {
      "text/html": [
       "<div>\n",
       "<style scoped>\n",
       "    .dataframe tbody tr th:only-of-type {\n",
       "        vertical-align: middle;\n",
       "    }\n",
       "\n",
       "    .dataframe tbody tr th {\n",
       "        vertical-align: top;\n",
       "    }\n",
       "\n",
       "    .dataframe thead th {\n",
       "        text-align: right;\n",
       "    }\n",
       "</style>\n",
       "<table border=\"1\" class=\"dataframe\">\n",
       "  <thead>\n",
       "    <tr style=\"text-align: right;\">\n",
       "      <th></th>\n",
       "      <th>Octal</th>\n",
       "      <th>Key</th>\n",
       "    </tr>\n",
       "    <tr>\n",
       "      <th>Code</th>\n",
       "      <th></th>\n",
       "      <th></th>\n",
       "    </tr>\n",
       "  </thead>\n",
       "  <tbody>\n",
       "    <tr>\n",
       "      <th>U+0002</th>\n",
       "      <td>003</td>\n",
       "      <td>Ctrl-B</td>\n",
       "    </tr>\n",
       "  </tbody>\n",
       "</table>\n",
       "</div>"
      ],
      "text/plain": [
       "       Octal     Key\n",
       "Code                \n",
       "U+0002   003  Ctrl-B"
      ]
     },
     "execution_count": 23,
     "metadata": {},
     "output_type": "execute_result"
    }
   ],
   "source": [
    "df.iloc[[2], [1, 2]]"
   ]
  },
  {
   "cell_type": "code",
   "execution_count": 24,
   "id": "04868a17",
   "metadata": {},
   "outputs": [
    {
     "data": {
      "text/html": [
       "<div>\n",
       "<style scoped>\n",
       "    .dataframe tbody tr th:only-of-type {\n",
       "        vertical-align: middle;\n",
       "    }\n",
       "\n",
       "    .dataframe tbody tr th {\n",
       "        vertical-align: top;\n",
       "    }\n",
       "\n",
       "    .dataframe thead th {\n",
       "        text-align: right;\n",
       "    }\n",
       "</style>\n",
       "<table border=\"1\" class=\"dataframe\">\n",
       "  <thead>\n",
       "    <tr style=\"text-align: right;\">\n",
       "      <th></th>\n",
       "      <th>Octal</th>\n",
       "      <th>Key</th>\n",
       "    </tr>\n",
       "    <tr>\n",
       "      <th>Code</th>\n",
       "      <th></th>\n",
       "      <th></th>\n",
       "    </tr>\n",
       "  </thead>\n",
       "  <tbody>\n",
       "    <tr>\n",
       "      <th>U+0000</th>\n",
       "      <td>001</td>\n",
       "      <td>NUL</td>\n",
       "    </tr>\n",
       "    <tr>\n",
       "      <th>U+0001</th>\n",
       "      <td>002</td>\n",
       "      <td>Ctrl-A</td>\n",
       "    </tr>\n",
       "  </tbody>\n",
       "</table>\n",
       "</div>"
      ],
      "text/plain": [
       "       Octal     Key\n",
       "Code                \n",
       "U+0000   001     NUL\n",
       "U+0001   002  Ctrl-A"
      ]
     },
     "execution_count": 24,
     "metadata": {},
     "output_type": "execute_result"
    }
   ],
   "source": [
    "df.iloc[[0, 1], [1, 2]]"
   ]
  },
  {
   "cell_type": "markdown",
   "id": "06be621a",
   "metadata": {},
   "source": [
    "Beide Indizierungsfunktionen arbeiten mit Slices zusätzlich zu einzelnen Label oder Listen von Label:"
   ]
  },
  {
   "cell_type": "code",
   "execution_count": 25,
   "id": "abb034d7",
   "metadata": {},
   "outputs": [
    {
     "data": {
      "text/plain": [
       "Code\n",
       "U+0000       NUL\n",
       "U+0001    Ctrl-A\n",
       "U+0002    Ctrl-B\n",
       "U+0003        NA\n",
       "Name: Key, dtype: object"
      ]
     },
     "execution_count": 25,
     "metadata": {},
     "output_type": "execute_result"
    }
   ],
   "source": [
    "df.loc[:\"U+0003\", \"Key\"]"
   ]
  },
  {
   "cell_type": "code",
   "execution_count": 26,
   "id": "46ae3947",
   "metadata": {},
   "outputs": [
    {
     "data": {
      "text/html": [
       "<div>\n",
       "<style scoped>\n",
       "    .dataframe tbody tr th:only-of-type {\n",
       "        vertical-align: middle;\n",
       "    }\n",
       "\n",
       "    .dataframe tbody tr th {\n",
       "        vertical-align: top;\n",
       "    }\n",
       "\n",
       "    .dataframe thead th {\n",
       "        text-align: right;\n",
       "    }\n",
       "</style>\n",
       "<table border=\"1\" class=\"dataframe\">\n",
       "  <thead>\n",
       "    <tr style=\"text-align: right;\">\n",
       "      <th></th>\n",
       "      <th>Decimal</th>\n",
       "      <th>Octal</th>\n",
       "      <th>Key</th>\n",
       "    </tr>\n",
       "    <tr>\n",
       "      <th>Code</th>\n",
       "      <th></th>\n",
       "      <th></th>\n",
       "      <th></th>\n",
       "    </tr>\n",
       "  </thead>\n",
       "  <tbody>\n",
       "    <tr>\n",
       "      <th>U+0000</th>\n",
       "      <td>0</td>\n",
       "      <td>001</td>\n",
       "      <td>NUL</td>\n",
       "    </tr>\n",
       "    <tr>\n",
       "      <th>U+0001</th>\n",
       "      <td>1</td>\n",
       "      <td>002</td>\n",
       "      <td>Ctrl-A</td>\n",
       "    </tr>\n",
       "    <tr>\n",
       "      <th>U+0002</th>\n",
       "      <td>2</td>\n",
       "      <td>003</td>\n",
       "      <td>Ctrl-B</td>\n",
       "    </tr>\n",
       "  </tbody>\n",
       "</table>\n",
       "</div>"
      ],
      "text/plain": [
       "       Decimal Octal     Key\n",
       "Code                        \n",
       "U+0000       0   001     NUL\n",
       "U+0001       1   002  Ctrl-A\n",
       "U+0002       2   003  Ctrl-B"
      ]
     },
     "execution_count": 26,
     "metadata": {},
     "output_type": "execute_result"
    }
   ],
   "source": [
    "df.iloc[:3, :3]"
   ]
  },
  {
   "cell_type": "markdown",
   "id": "48efc21c",
   "metadata": {},
   "source": [
    "Es gibt also viele Möglichkeiten, die in einem pandas-Objekt enthaltenen Daten auszuwählen und neu anzuordnen. Im folgenden stelle ich für DataFrames eine kurze Zusammenfassung der meisten dieser Möglichkeiten zusammen:\n",
    "\n",
    "Typ | Hinweis\n",
    ":-- | :------\n",
    "`df[LABEL]` | wählt eine einzelne Spalte oder eine Folge von Spalten aus dem DataFrame aus\n",
    "`df.loc[LABEL]` | wählt eine einzelne Zeile oder eine Teilmenge von Zeilen aus dem DataFrame nach Label aus\n",
    "`df.loc[:, LABEL]` | wählt eine einzelne Spalte oder eine Teilmenge von Spalten nach dem Label aus\n",
    "`df.loc[LABEL1, LABEL2]` | wählt sowohl Zeilen als auch Spalten nach dem Label aus\n",
    "`df.iloc[INTEGER]` | wählt eine einzelne Zeile oder eine Teilmenge von Zeilen aus dem DataFrame anhand der Ganzzahlposition aus\n",
    "`df.iloc[INTEGER1, INTEGER2]` | Wählt eine einzelne Spalte oder eine Teilmenge von Spalten anhand einer ganzzahligen Position aus\n",
    "`df.at[LABEL1, LABEL2]` | wählt einen Einzelwert nach Zeilen- und Spaltenbezeichnung aus\n",
    "`df.iat[INTEGER1, INTEGER2]` | wählt einen Einzelwert nach Zeilen- und Spaltenposition (Ganzzahlen) aus\n",
    "`reindex` NEW_INDEX | wählt Zeilen oder Spalten nach Labels aus\n",
    "`get_value, set_value` | veraltet seit Version 0.21.0: Verwendet stattdessen `.at[]` oder `.iat[]`."
   ]
  }
 ],
 "metadata": {
  "kernelspec": {
   "display_name": "Python 3.11 Kernel",
   "language": "python",
   "name": "python311"
  },
  "language_info": {
   "codemirror_mode": {
    "name": "ipython",
    "version": 3
   },
   "file_extension": ".py",
   "mimetype": "text/x-python",
   "name": "python",
   "nbconvert_exporter": "python",
   "pygments_lexer": "ipython3",
   "version": "3.11.4"
  },
  "widgets": {
   "application/vnd.jupyter.widget-state+json": {
    "state": {},
    "version_major": 2,
    "version_minor": 0
   }
  }
 },
 "nbformat": 4,
 "nbformat_minor": 5
}
