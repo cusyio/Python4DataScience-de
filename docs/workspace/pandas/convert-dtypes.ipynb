{
 "cells": [
  {
   "cell_type": "markdown",
   "id": "3714bcce",
   "metadata": {},
   "source": [
    "# `dtype` konvertieren\n",
    "\n",
    "Manchmal passen die pandas-Datentypen nicht wirklich gut. Dies kann z.B. auf Serialisierungsformate zurückzuführen sein, die keine Typinformationen enthalten. Manchmal solltet ihr jedoch den Typ auch ändern, um eine bessere Performance zu erzielen – entweder  mehr Manipulationsmöglichkeiten oder weniger Speicherbedarf. In den folgenden Beispielen werden wir verschiedene Konvertierungen einer `Series` vornehmen:"
   ]
  },
  {
   "cell_type": "code",
   "execution_count": 1,
   "id": "e6bc0dcc",
   "metadata": {},
   "outputs": [],
   "source": [
    "import pandas as pd\n",
    "import numpy as np"
   ]
  },
  {
   "cell_type": "code",
   "execution_count": 2,
   "id": "ebae66af",
   "metadata": {},
   "outputs": [],
   "source": [
    "s = pd.Series(np.random.randn(7))"
   ]
  },
  {
   "cell_type": "code",
   "execution_count": 3,
   "id": "93f01178",
   "metadata": {
    "scrolled": true
   },
   "outputs": [
    {
     "data": {
      "text/plain": [
       "0    1.825581\n",
       "1   -0.159163\n",
       "2   -0.134431\n",
       "3   -2.062616\n",
       "4   -0.272327\n",
       "5   -0.620893\n",
       "6    1.227431\n",
       "dtype: float64"
      ]
     },
     "execution_count": 3,
     "metadata": {},
     "output_type": "execute_result"
    }
   ],
   "source": [
    "s"
   ]
  },
  {
   "cell_type": "markdown",
   "id": "1f0016ea",
   "metadata": {},
   "source": [
    "## Automatische Konvertierung\n",
    "\n",
    "[pandas.Series.convert_dtypes](https://pandas.pydata.org/docs/reference/api/pandas.Series.convert_dtypes.html) versucht, eine `Series` in einen Typ zu konvertieren, der `NA` unterstützt. Im Fall unserer `Series` wird der Typ von `float64` in `Float64` geändert:"
   ]
  },
  {
   "cell_type": "code",
   "execution_count": 4,
   "id": "70b57e04",
   "metadata": {},
   "outputs": [
    {
     "data": {
      "text/plain": [
       "0    1.825581\n",
       "1   -0.159163\n",
       "2   -0.134431\n",
       "3   -2.062616\n",
       "4   -0.272327\n",
       "5   -0.620893\n",
       "6    1.227431\n",
       "dtype: Float64"
      ]
     },
     "execution_count": 4,
     "metadata": {},
     "output_type": "execute_result"
    }
   ],
   "source": [
    "s.convert_dtypes()"
   ]
  },
  {
   "cell_type": "markdown",
   "id": "b9463886",
   "metadata": {},
   "source": [
    "Bedauerlicherweise habe ich jedoch mit `convert_dtypes` kaum Kontrolle darüber, in welchen Datentyp konvertiert wird. Daher bevorzuge ich [pandas.Series.astype](https://pandas.pydata.org/docs/reference/api/pandas.Series.astype.html):"
   ]
  },
  {
   "cell_type": "code",
   "execution_count": 5,
   "id": "87b1c7e4",
   "metadata": {},
   "outputs": [
    {
     "data": {
      "text/plain": [
       "0    1.825581\n",
       "1   -0.159163\n",
       "2   -0.134431\n",
       "3   -2.062616\n",
       "4   -0.272327\n",
       "5   -0.620893\n",
       "6    1.227431\n",
       "dtype: Float32"
      ]
     },
     "execution_count": 5,
     "metadata": {},
     "output_type": "execute_result"
    }
   ],
   "source": [
    "s.astype('Float32')"
   ]
  },
  {
   "cell_type": "markdown",
   "id": "7a6a49d9",
   "metadata": {},
   "source": [
    "Die Verwendung des richtigen Typs kann Speicherplatz einsparen. Üblich ist ein 8 Byte breiter Datentyp, also `int64` oder `float64`. Wenn ihr einen schmaleren Typ verwenden könnt, reduziert dies den Speicherverbrauch deutlich, sodass ihr mehr Daten verarbeiten könnt. Ihr könnt NumPy verwenden, um die Grenzen von Integer- und Float-Typen zu überprüfen:"
   ]
  },
  {
   "cell_type": "code",
   "execution_count": 6,
   "id": "e1ab9aea",
   "metadata": {},
   "outputs": [
    {
     "data": {
      "text/plain": [
       "iinfo(min=-9223372036854775808, max=9223372036854775807, dtype=int64)"
      ]
     },
     "execution_count": 6,
     "metadata": {},
     "output_type": "execute_result"
    }
   ],
   "source": [
    "np.iinfo('int64')"
   ]
  },
  {
   "cell_type": "code",
   "execution_count": 7,
   "id": "c2134c5a",
   "metadata": {},
   "outputs": [
    {
     "data": {
      "text/plain": [
       "finfo(resolution=1e-06, min=-3.4028235e+38, max=3.4028235e+38, dtype=float32)"
      ]
     },
     "execution_count": 7,
     "metadata": {},
     "output_type": "execute_result"
    }
   ],
   "source": [
    "np.finfo('float32')"
   ]
  },
  {
   "cell_type": "code",
   "execution_count": 8,
   "id": "80abda31",
   "metadata": {},
   "outputs": [
    {
     "data": {
      "text/plain": [
       "finfo(resolution=1e-15, min=-1.7976931348623157e+308, max=1.7976931348623157e+308, dtype=float64)"
      ]
     },
     "execution_count": 8,
     "metadata": {},
     "output_type": "execute_result"
    }
   ],
   "source": [
    "np.finfo('float64')"
   ]
  },
  {
   "cell_type": "markdown",
   "id": "31113679",
   "metadata": {},
   "source": [
    "## Speicherverbrauch\n",
    "\n",
    "Um den Speicherverbrauch der `Series` zu berechnen, könnt ihr [pandas.Series.nbytes](https://pandas.pydata.org/docs/reference/api/pandas.Series.nbytes.html) verwenden um den Speicher, der von den Daten verwendet wird, zu ermitteln. [pandas.Series.memory_usage](https://pandas.pydata.org/docs/reference/api/pandas.Series.memory_usage.html) erfasst darüberhinaus auch den Indexspeicher und den Datentyp. Mit `deep=True` lässt sich auch der Speicherverbrauch auf Systemebene ermitteln."
   ]
  },
  {
   "cell_type": "code",
   "execution_count": 9,
   "id": "1f433772",
   "metadata": {},
   "outputs": [
    {
     "data": {
      "text/plain": [
       "56"
      ]
     },
     "execution_count": 9,
     "metadata": {},
     "output_type": "execute_result"
    }
   ],
   "source": [
    "s.nbytes"
   ]
  },
  {
   "cell_type": "code",
   "execution_count": 10,
   "id": "e32acea2",
   "metadata": {},
   "outputs": [
    {
     "data": {
      "text/plain": [
       "35"
      ]
     },
     "execution_count": 10,
     "metadata": {},
     "output_type": "execute_result"
    }
   ],
   "source": [
    "s.astype('Float32').nbytes"
   ]
  },
  {
   "cell_type": "code",
   "execution_count": 11,
   "id": "794f2ddc",
   "metadata": {},
   "outputs": [
    {
     "data": {
      "text/plain": [
       "184"
      ]
     },
     "execution_count": 11,
     "metadata": {},
     "output_type": "execute_result"
    }
   ],
   "source": [
    "s.memory_usage()"
   ]
  },
  {
   "cell_type": "code",
   "execution_count": 12,
   "id": "febe7656",
   "metadata": {},
   "outputs": [
    {
     "data": {
      "text/plain": [
       "163"
      ]
     },
     "execution_count": 12,
     "metadata": {},
     "output_type": "execute_result"
    }
   ],
   "source": [
    "s.astype('Float32').memory_usage()"
   ]
  },
  {
   "cell_type": "code",
   "execution_count": 13,
   "id": "55459cf6",
   "metadata": {},
   "outputs": [
    {
     "data": {
      "text/plain": [
       "184"
      ]
     },
     "execution_count": 13,
     "metadata": {},
     "output_type": "execute_result"
    }
   ],
   "source": [
    "s.memory_usage(deep=True)"
   ]
  },
  {
   "cell_type": "markdown",
   "id": "1c34f8a2",
   "metadata": {},
   "source": [
    "## String- und Kategorietypen\n",
    "\n",
    "Die Methode [pandas.Series.astype](https://pandas.pydata.org/docs/reference/api/pandas.Series.astype.html) kann auch numerische Reihen in Zeichenketten umwandeln, wenn ihr `str` übergebt. Beachtet den `dtype` im folgenden Beispiel:"
   ]
  },
  {
   "cell_type": "code",
   "execution_count": 14,
   "id": "c771b5ca",
   "metadata": {},
   "outputs": [
    {
     "data": {
      "text/plain": [
       "0       1.825581032428478\n",
       "1    -0.15916250984561559\n",
       "2    -0.13443077673570425\n",
       "3      -2.062615930501106\n",
       "4     -0.2723265429005588\n",
       "5     -0.6208930961339176\n",
       "6      1.2274312024234426\n",
       "dtype: object"
      ]
     },
     "execution_count": 14,
     "metadata": {},
     "output_type": "execute_result"
    }
   ],
   "source": [
    "s.astype(str)"
   ]
  },
  {
   "cell_type": "code",
   "execution_count": 15,
   "id": "01724d65",
   "metadata": {},
   "outputs": [
    {
     "data": {
      "text/plain": [
       "184"
      ]
     },
     "execution_count": 15,
     "metadata": {},
     "output_type": "execute_result"
    }
   ],
   "source": [
    "s.astype(str).memory_usage()"
   ]
  },
  {
   "cell_type": "code",
   "execution_count": 16,
   "id": "47e7f593",
   "metadata": {},
   "outputs": [
    {
     "data": {
      "text/plain": [
       "658"
      ]
     },
     "execution_count": 16,
     "metadata": {},
     "output_type": "execute_result"
    }
   ],
   "source": [
    "s.astype(str).memory_usage(deep=True)"
   ]
  },
  {
   "cell_type": "markdown",
   "id": "8ca82137",
   "metadata": {},
   "source": [
    "Zur Konvertierung in einen kategorialen Typ könnt ihr `'category'` als Typ übergeben:"
   ]
  },
  {
   "cell_type": "code",
   "execution_count": 17,
   "id": "19ce6064",
   "metadata": {},
   "outputs": [
    {
     "data": {
      "text/plain": [
       "0       1.825581032428478\n",
       "1    -0.15916250984561559\n",
       "2    -0.13443077673570425\n",
       "3      -2.062615930501106\n",
       "4     -0.2723265429005588\n",
       "5     -0.6208930961339176\n",
       "6      1.2274312024234426\n",
       "dtype: category\n",
       "Categories (7, object): ['-0.13443077673570425', '-0.15916250984561559', '-0.2723265429005588', '-0.6208930961339176', '-2.062615930501106', '1.2274312024234426', '1.825581032428478']"
      ]
     },
     "execution_count": 17,
     "metadata": {},
     "output_type": "execute_result"
    }
   ],
   "source": [
    "s.astype(str).astype('category')"
   ]
  },
  {
   "cell_type": "markdown",
   "id": "3ffcc4fe",
   "metadata": {},
   "source": [
    "Eine kategoriale `Series` ist nützlich für String-Daten und kann zu großen Speichereinsparungen führen. Das liegt daran, dass pandas bei der Konvertierung in kategoriale Daten nicht länger Python-Strings für jeden Wert verwendet, sondern sich wiederholende Werte nicht dupliziert werden. Ihr habt immer noch alle Funktionen des `str`-Attributs, aber ihr spart viel Speicherplatz wenn ihr viele doppelte Werte habt und steigert die Leistung, da ihr nicht so viele String-Operationen durchführen müsst."
   ]
  },
  {
   "cell_type": "code",
   "execution_count": 18,
   "id": "df605fdc",
   "metadata": {},
   "outputs": [
    {
     "data": {
      "text/plain": [
       "491"
      ]
     },
     "execution_count": 18,
     "metadata": {},
     "output_type": "execute_result"
    }
   ],
   "source": [
    "s.astype('category').memory_usage(deep=True)"
   ]
  },
  {
   "cell_type": "markdown",
   "id": "211777e8",
   "metadata": {},
   "source": [
    "## Geordnete Kategorien\n",
    "\n",
    "Um geordnete Kategorien zu erstellen, müsst ihr einen eigenen [pandas.CategoricalDtype](https://pandas.pydata.org/docs/reference/api/pandas.CategoricalDtype.html) definieren:"
   ]
  },
  {
   "cell_type": "code",
   "execution_count": 19,
   "id": "bcdbd52d",
   "metadata": {},
   "outputs": [
    {
     "name": "stderr",
     "output_type": "stream",
     "text": [
      "/srv/jupyter/spack/var/spack/environments/python-38/.spack-env/view/lib/python3.8/site-packages/pandas/io/formats/format.py:1429: FutureWarning: Index.ravel returning ndarray is deprecated; in a future version this will return a view on self.\n",
      "  for val, m in zip(values.ravel(), mask.ravel())\n"
     ]
    },
    {
     "data": {
      "text/plain": [
       "0    1.825581\n",
       "1   -0.159163\n",
       "2   -0.134431\n",
       "3   -2.062616\n",
       "4   -0.272327\n",
       "5   -0.620893\n",
       "6    1.227431\n",
       "dtype: category\n",
       "Categories (7, float64): [-2.062616 < -0.620893 < -0.272327 < -0.159163 < -0.134431 < 1.227431 < 1.825581]"
      ]
     },
     "execution_count": 19,
     "metadata": {},
     "output_type": "execute_result"
    }
   ],
   "source": [
    "from pandas.api.types import CategoricalDtype\n",
    "\n",
    "sorted = pd.Series(sorted(set(s)))\n",
    "cat_dtype = CategoricalDtype(\n",
    "    categories=sorted, ordered=True)\n",
    "\n",
    "s.astype(cat_dtype)"
   ]
  },
  {
   "cell_type": "code",
   "execution_count": 20,
   "id": "2894c502",
   "metadata": {},
   "outputs": [
    {
     "data": {
      "text/plain": [
       "491"
      ]
     },
     "execution_count": 20,
     "metadata": {},
     "output_type": "execute_result"
    }
   ],
   "source": [
    "s.astype(cat_dtype).memory_usage(deep=True)"
   ]
  },
  {
   "cell_type": "markdown",
   "id": "8ad2da49",
   "metadata": {},
   "source": [
    "In der folgenden Tabelle sind die Typen aufgeführt, die ihr an `astype` übergeben könnt.\n",
    "\n",
    "Datentyp | Beschreibung\n",
    ":------- | :-----------\n",
    "`str`, `'str'` | in Python-String konvertieren\n",
    "`'string'` | in Pandas-String konvertieren mit `pandas.NA`\n",
    "`int`, `'int'`, `'int64'` | in NumPy `int64` konvertieren\n",
    "`'int32'`, `'uint32'` | in NumPy `int32` konvertieren\n",
    "`'Int64'` | in pandas `Int64` konvertieren mit `pandas.NA`\n",
    "`float`, `'float'`, `'float64'` | in Floats konvertieren\n",
    "`'category'` | in `CategoricalDtype` konvertieren mit `pandas.NA`"
   ]
  },
  {
   "cell_type": "markdown",
   "id": "32e02ba5",
   "metadata": {},
   "source": [
    "## Umwandlung in andere Datentypen\n",
    "\n",
    "Die Methode [pandas.Series.to_numpy](https://pandas.pydata.org/docs/reference/api/pandas.Series.to_numpy.html) oder die Eigenschaft [pandas.Series.values](https://pandas.pydata.org/docs/reference/api/pandas.Series.values.html) liefert uns ein NumPy-Array mit Werten, und [pandas.Series.to_list](https://pandas.pydata.org/docs/reference/api/pandas.Series.to_list.html) gibt eine Python-Liste mit Werten zurück. Warum solltet ihr das wollen? pandas-Objekte sind meist viel benutzerfreundlicher und der Code lässt sich leichter lesen. Zudem werden Python-Listen sehr viel langsamer verarbeitet werden können. Mit [pandas.Series.to_frame](https://pandas.pydata.org/docs/reference/api/pandas.Series.to_frame.html) könnt ihr ggf. einen DataFrame mit einer einzigen Spalte erzeugen:"
   ]
  },
  {
   "cell_type": "code",
   "execution_count": 21,
   "id": "081a32ba",
   "metadata": {},
   "outputs": [
    {
     "data": {
      "text/html": [
       "<div>\n",
       "<style scoped>\n",
       "    .dataframe tbody tr th:only-of-type {\n",
       "        vertical-align: middle;\n",
       "    }\n",
       "\n",
       "    .dataframe tbody tr th {\n",
       "        vertical-align: top;\n",
       "    }\n",
       "\n",
       "    .dataframe thead th {\n",
       "        text-align: right;\n",
       "    }\n",
       "</style>\n",
       "<table border=\"1\" class=\"dataframe\">\n",
       "  <thead>\n",
       "    <tr style=\"text-align: right;\">\n",
       "      <th></th>\n",
       "      <th>0</th>\n",
       "    </tr>\n",
       "  </thead>\n",
       "  <tbody>\n",
       "    <tr>\n",
       "      <th>0</th>\n",
       "      <td>1.825581</td>\n",
       "    </tr>\n",
       "    <tr>\n",
       "      <th>1</th>\n",
       "      <td>-0.159163</td>\n",
       "    </tr>\n",
       "    <tr>\n",
       "      <th>2</th>\n",
       "      <td>-0.134431</td>\n",
       "    </tr>\n",
       "    <tr>\n",
       "      <th>3</th>\n",
       "      <td>-2.062616</td>\n",
       "    </tr>\n",
       "    <tr>\n",
       "      <th>4</th>\n",
       "      <td>-0.272327</td>\n",
       "    </tr>\n",
       "    <tr>\n",
       "      <th>5</th>\n",
       "      <td>-0.620893</td>\n",
       "    </tr>\n",
       "    <tr>\n",
       "      <th>6</th>\n",
       "      <td>1.227431</td>\n",
       "    </tr>\n",
       "  </tbody>\n",
       "</table>\n",
       "</div>"
      ],
      "text/plain": [
       "          0\n",
       "0  1.825581\n",
       "1 -0.159163\n",
       "2 -0.134431\n",
       "3 -2.062616\n",
       "4 -0.272327\n",
       "5 -0.620893\n",
       "6  1.227431"
      ]
     },
     "execution_count": 21,
     "metadata": {},
     "output_type": "execute_result"
    }
   ],
   "source": [
    "s.to_frame()"
   ]
  },
  {
   "cell_type": "markdown",
   "id": "7aa64c3a",
   "metadata": {},
   "source": [
    "Auch die Funktion [pandas.to_datetime](https://pandas.pydata.org/docs/reference/api/pandas.to_datetime.html) kann hilfreich sein um in pandas um Werte in Datum und Uhrzeit zu konvertieren."
   ]
  }
 ],
 "metadata": {
  "kernelspec": {
   "display_name": "Python 3.8",
   "language": "python",
   "name": "python-38"
  },
  "language_info": {
   "codemirror_mode": {
    "name": "ipython",
    "version": 3
   },
   "file_extension": ".py",
   "mimetype": "text/x-python",
   "name": "python",
   "nbconvert_exporter": "python",
   "pygments_lexer": "ipython3",
   "version": "3.8.12"
  }
 },
 "nbformat": 4,
 "nbformat_minor": 5
}
