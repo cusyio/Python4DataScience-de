{
 "cells": [
  {
   "cell_type": "markdown",
   "metadata": {},
   "source": [
    "# Daten deduplizieren"
   ]
  },
  {
   "cell_type": "markdown",
   "metadata": {},
   "source": [
    "## 1. Beispieldaten laden"
   ]
  },
  {
   "cell_type": "code",
   "execution_count": 1,
   "metadata": {},
   "outputs": [],
   "source": [
    "import pandas as pd"
   ]
  },
  {
   "cell_type": "code",
   "execution_count": 2,
   "metadata": {},
   "outputs": [],
   "source": [
    "customers = pd.read_csv('https://raw.githubusercontent.com/kjam/data-cleaning-101/master/data/customer_data_duped.csv', \n",
    "                        encoding='utf-8')"
   ]
  },
  {
   "cell_type": "markdown",
   "metadata": {},
   "source": [
    "## 2. Deduplizieren mit pandas"
   ]
  },
  {
   "cell_type": "markdown",
   "metadata": {},
   "source": [
    "### 2.1 Überblick"
   ]
  },
  {
   "cell_type": "code",
   "execution_count": 3,
   "metadata": {},
   "outputs": [
    {
     "data": {
      "text/html": [
       "<div>\n",
       "<style scoped>\n",
       "    .dataframe tbody tr th:only-of-type {\n",
       "        vertical-align: middle;\n",
       "    }\n",
       "\n",
       "    .dataframe tbody tr th {\n",
       "        vertical-align: top;\n",
       "    }\n",
       "\n",
       "    .dataframe thead th {\n",
       "        text-align: right;\n",
       "    }\n",
       "</style>\n",
       "<table border=\"1\" class=\"dataframe\">\n",
       "  <thead>\n",
       "    <tr style=\"text-align: right;\">\n",
       "      <th></th>\n",
       "      <th>name</th>\n",
       "      <th>job</th>\n",
       "      <th>company</th>\n",
       "      <th>street_address</th>\n",
       "      <th>city</th>\n",
       "      <th>state</th>\n",
       "      <th>email</th>\n",
       "      <th>user_name</th>\n",
       "    </tr>\n",
       "  </thead>\n",
       "  <tbody>\n",
       "    <tr>\n",
       "      <th>0</th>\n",
       "      <td>Patricia Schaefer</td>\n",
       "      <td>Programmer, systems</td>\n",
       "      <td>Estrada-Best</td>\n",
       "      <td>398 Paul Drive</td>\n",
       "      <td>Christianview</td>\n",
       "      <td>Delaware</td>\n",
       "      <td>lambdavid@gmail.com</td>\n",
       "      <td>ndavidson</td>\n",
       "    </tr>\n",
       "    <tr>\n",
       "      <th>1</th>\n",
       "      <td>Olivie Dubois</td>\n",
       "      <td>Ingénieur recherche et développement en agroal...</td>\n",
       "      <td>Moreno</td>\n",
       "      <td>rue Lucas Benard</td>\n",
       "      <td>Saint Anastasie-les-Bains</td>\n",
       "      <td>AR</td>\n",
       "      <td>berthelotjacqueline@mahe.fr</td>\n",
       "      <td>manonallain</td>\n",
       "    </tr>\n",
       "    <tr>\n",
       "      <th>2</th>\n",
       "      <td>Mary Davies-Kirk</td>\n",
       "      <td>Public affairs consultant</td>\n",
       "      <td>Baker Ltd</td>\n",
       "      <td>Flat 3\\nPugh mews</td>\n",
       "      <td>Stanleyfurt</td>\n",
       "      <td>ZA</td>\n",
       "      <td>middletonconor@hotmail.com</td>\n",
       "      <td>colemanmichael</td>\n",
       "    </tr>\n",
       "    <tr>\n",
       "      <th>3</th>\n",
       "      <td>Miroslawa Eckbauer</td>\n",
       "      <td>Dispensing optician</td>\n",
       "      <td>Ladeck GmbH</td>\n",
       "      <td>Mijo-Lübs-Straße 12</td>\n",
       "      <td>Neubrandenburg</td>\n",
       "      <td>Berlin</td>\n",
       "      <td>sophia01@yahoo.de</td>\n",
       "      <td>romanjunitz</td>\n",
       "    </tr>\n",
       "    <tr>\n",
       "      <th>4</th>\n",
       "      <td>Richard Bauer</td>\n",
       "      <td>Accountant, chartered certified</td>\n",
       "      <td>Hoffman-Rocha</td>\n",
       "      <td>6541 Rodriguez Wall</td>\n",
       "      <td>Carlosmouth</td>\n",
       "      <td>Texas</td>\n",
       "      <td>tross@jensen-ware.org</td>\n",
       "      <td>adam78</td>\n",
       "    </tr>\n",
       "    <tr>\n",
       "      <th>...</th>\n",
       "      <td>...</td>\n",
       "      <td>...</td>\n",
       "      <td>...</td>\n",
       "      <td>...</td>\n",
       "      <td>...</td>\n",
       "      <td>...</td>\n",
       "      <td>...</td>\n",
       "      <td>...</td>\n",
       "    </tr>\n",
       "    <tr>\n",
       "      <th>2075</th>\n",
       "      <td>Maurice Stey</td>\n",
       "      <td>Systems developer</td>\n",
       "      <td>Linke Margraf GmbH &amp; Co. OHG</td>\n",
       "      <td>Laila-Scheibe-Allee 2/0</td>\n",
       "      <td>Luckenwalde</td>\n",
       "      <td>Hamburg</td>\n",
       "      <td>gutknechtevelyn@niemeier.com</td>\n",
       "      <td>dkreusel</td>\n",
       "    </tr>\n",
       "    <tr>\n",
       "      <th>2076</th>\n",
       "      <td>Linda Alexander</td>\n",
       "      <td>Commrcil horiculuri</td>\n",
       "      <td>Webb, Ballald and Vasquel</td>\n",
       "      <td>5594 Persn Ciff</td>\n",
       "      <td>Mooneybury</td>\n",
       "      <td>Maryland</td>\n",
       "      <td>ahleythoa@ail.co</td>\n",
       "      <td>kennethrchn</td>\n",
       "    </tr>\n",
       "    <tr>\n",
       "      <th>2077</th>\n",
       "      <td>Diane Bailly</td>\n",
       "      <td>Pharmacien</td>\n",
       "      <td>Voisin</td>\n",
       "      <td>527, rue Dijoux</td>\n",
       "      <td>Duval-les-Bains</td>\n",
       "      <td>CH</td>\n",
       "      <td>aruiz@reynaud.fr</td>\n",
       "      <td>dorothee41</td>\n",
       "    </tr>\n",
       "    <tr>\n",
       "      <th>2078</th>\n",
       "      <td>Jorge Riba Cerdán</td>\n",
       "      <td>Hotel manager</td>\n",
       "      <td>Amador-Diego</td>\n",
       "      <td>Rambla de Adriana Barceló 854 Puerta 3</td>\n",
       "      <td>Huesca</td>\n",
       "      <td>Asturias</td>\n",
       "      <td>manuelamosquera@yahoo.com</td>\n",
       "      <td>eugenia17</td>\n",
       "    </tr>\n",
       "    <tr>\n",
       "      <th>2079</th>\n",
       "      <td>Ryan Thompson</td>\n",
       "      <td>Brewing technologist</td>\n",
       "      <td>Smith-Sullivan</td>\n",
       "      <td>136 Rodriguez Point</td>\n",
       "      <td>Bradfordborough</td>\n",
       "      <td>North Dakota</td>\n",
       "      <td>lcruz@gmail.com</td>\n",
       "      <td>cnewton</td>\n",
       "    </tr>\n",
       "  </tbody>\n",
       "</table>\n",
       "<p>2080 rows × 8 columns</p>\n",
       "</div>"
      ],
      "text/plain": [
       "                    name                                                job  \\\n",
       "0      Patricia Schaefer                                Programmer, systems   \n",
       "1          Olivie Dubois  Ingénieur recherche et développement en agroal...   \n",
       "2       Mary Davies-Kirk                          Public affairs consultant   \n",
       "3     Miroslawa Eckbauer                                Dispensing optician   \n",
       "4          Richard Bauer                    Accountant, chartered certified   \n",
       "...                  ...                                                ...   \n",
       "2075        Maurice Stey                                  Systems developer   \n",
       "2076     Linda Alexander                                Commrcil horiculuri   \n",
       "2077        Diane Bailly                                         Pharmacien   \n",
       "2078   Jorge Riba Cerdán                                      Hotel manager   \n",
       "2079       Ryan Thompson                               Brewing technologist   \n",
       "\n",
       "                           company                           street_address  \\\n",
       "0                     Estrada-Best                           398 Paul Drive   \n",
       "1                           Moreno                         rue Lucas Benard   \n",
       "2                        Baker Ltd                        Flat 3\\nPugh mews   \n",
       "3                      Ladeck GmbH                      Mijo-Lübs-Straße 12   \n",
       "4                    Hoffman-Rocha                      6541 Rodriguez Wall   \n",
       "...                            ...                                      ...   \n",
       "2075  Linke Margraf GmbH & Co. OHG                  Laila-Scheibe-Allee 2/0   \n",
       "2076     Webb, Ballald and Vasquel                          5594 Persn Ciff   \n",
       "2077                        Voisin                          527, rue Dijoux   \n",
       "2078                  Amador-Diego  Rambla de Adriana Barceló 854 Puerta 3    \n",
       "2079                Smith-Sullivan                      136 Rodriguez Point   \n",
       "\n",
       "                           city         state                         email  \\\n",
       "0                 Christianview      Delaware           lambdavid@gmail.com   \n",
       "1     Saint Anastasie-les-Bains            AR   berthelotjacqueline@mahe.fr   \n",
       "2                   Stanleyfurt            ZA    middletonconor@hotmail.com   \n",
       "3                Neubrandenburg        Berlin             sophia01@yahoo.de   \n",
       "4                   Carlosmouth         Texas         tross@jensen-ware.org   \n",
       "...                         ...           ...                           ...   \n",
       "2075                Luckenwalde       Hamburg  gutknechtevelyn@niemeier.com   \n",
       "2076                 Mooneybury      Maryland              ahleythoa@ail.co   \n",
       "2077            Duval-les-Bains            CH              aruiz@reynaud.fr   \n",
       "2078                     Huesca      Asturias     manuelamosquera@yahoo.com   \n",
       "2079            Bradfordborough  North Dakota               lcruz@gmail.com   \n",
       "\n",
       "           user_name  \n",
       "0          ndavidson  \n",
       "1        manonallain  \n",
       "2     colemanmichael  \n",
       "3        romanjunitz  \n",
       "4             adam78  \n",
       "...              ...  \n",
       "2075        dkreusel  \n",
       "2076     kennethrchn  \n",
       "2077      dorothee41  \n",
       "2078       eugenia17  \n",
       "2079         cnewton  \n",
       "\n",
       "[2080 rows x 8 columns]"
      ]
     },
     "execution_count": 3,
     "metadata": {},
     "output_type": "execute_result"
    }
   ],
   "source": [
    "customers"
   ]
  },
  {
   "cell_type": "markdown",
   "metadata": {},
   "source": [
    "### 2.2 Datentypen anzeigen\n",
    "\n",
    "Hierfür verwenden wir [pandas.DataFrame.dtypes](https://pandas.pydata.org/docs/reference/api/pandas.DataFrame.dtypes.html):"
   ]
  },
  {
   "cell_type": "code",
   "execution_count": 4,
   "metadata": {},
   "outputs": [
    {
     "data": {
      "text/plain": [
       "name              object\n",
       "job               object\n",
       "company           object\n",
       "street_address    object\n",
       "city              object\n",
       "state             object\n",
       "email             object\n",
       "user_name         object\n",
       "dtype: object"
      ]
     },
     "execution_count": 4,
     "metadata": {},
     "output_type": "execute_result"
    }
   ],
   "source": [
    "customers.dtypes"
   ]
  },
  {
   "cell_type": "markdown",
   "metadata": {},
   "source": [
    "### 2.3 Fehlende Werte ermitteln\n",
    "\n",
    "[pandas.isnull](https://pandas.pydata.org/docs/reference/api/pandas.isnull.html) zeigt für ein array-ähnliches Objekt an, ob Werte fehlen:\n",
    "\n",
    "* `NaN` in numerischen Arrays\n",
    "* `None` oder `NaN` in Objekt-Arrays\n",
    "* `NaT` in [datetimelike](https://pandas.pydata.org/docs/reference/general_functions.html#top-level-dealing-with-datetimelike)\n",
    "\n",
    "> **Siehe auch:**\n",
    "> \n",
    "> * [notna](https://pandas.pydata.org/docs/reference/api/pandas.notna.html) für die boolesche Umkehrung von [pandas.isna](https://pandas.pydata.org/docs/reference/api/pandas.isna.html)\n",
    "> * [Series.isna](https://pandas.pydata.org/docs/reference/api/pandas.Series.isna.html) für die fehlenden Werte in einer Serie\n",
    "> * [DataFrame.isna](https://pandas.pydata.org/docs/reference/api/pandas.DataFrame.isna.html) für die fehlenden Werte in einem DataFrame\n",
    "> * [Index.isna](https://pandas.pydata.org/docs/reference/api/pandas.Index.isna.html) für die fehlenden Werte in einem Index"
   ]
  },
  {
   "cell_type": "code",
   "execution_count": 5,
   "metadata": {},
   "outputs": [
    {
     "name": "stdout",
     "output_type": "stream",
     "text": [
      "name 0\n",
      "job 0\n",
      "company 0\n",
      "street_address 0\n",
      "city 0\n",
      "state 0\n",
      "email 0\n",
      "user_name 0\n"
     ]
    }
   ],
   "source": [
    "for col in customers.columns:\n",
    "    print(col, customers[col].isnull().sum())"
   ]
  },
  {
   "cell_type": "markdown",
   "metadata": {},
   "source": [
    "### 2.4 Duplizierte Datensätze ermitteln"
   ]
  },
  {
   "cell_type": "code",
   "execution_count": 6,
   "metadata": {},
   "outputs": [
    {
     "data": {
      "text/plain": [
       "0       False\n",
       "1       False\n",
       "2       False\n",
       "3       False\n",
       "4       False\n",
       "        ...  \n",
       "2075    False\n",
       "2076    False\n",
       "2077    False\n",
       "2078    False\n",
       "2079    False\n",
       "Length: 2080, dtype: bool"
      ]
     },
     "execution_count": 6,
     "metadata": {},
     "output_type": "execute_result"
    }
   ],
   "source": [
    "customers.duplicated()"
   ]
  },
  {
   "cell_type": "markdown",
   "metadata": {},
   "source": [
    "`customers.duplicated()` gibt uns noch nicht den gewünschten Hinweis, ob es doppelte Datensätze gibt. Im Folgenden lassen wir uns alle Datensätze ausgeben, für die `True` zurückgegeben wird:"
   ]
  },
  {
   "cell_type": "code",
   "execution_count": 7,
   "metadata": {},
   "outputs": [
    {
     "data": {
      "text/html": [
       "<div>\n",
       "<style scoped>\n",
       "    .dataframe tbody tr th:only-of-type {\n",
       "        vertical-align: middle;\n",
       "    }\n",
       "\n",
       "    .dataframe tbody tr th {\n",
       "        vertical-align: top;\n",
       "    }\n",
       "\n",
       "    .dataframe thead th {\n",
       "        text-align: right;\n",
       "    }\n",
       "</style>\n",
       "<table border=\"1\" class=\"dataframe\">\n",
       "  <thead>\n",
       "    <tr style=\"text-align: right;\">\n",
       "      <th></th>\n",
       "      <th>name</th>\n",
       "      <th>job</th>\n",
       "      <th>company</th>\n",
       "      <th>street_address</th>\n",
       "      <th>city</th>\n",
       "      <th>state</th>\n",
       "      <th>email</th>\n",
       "      <th>user_name</th>\n",
       "    </tr>\n",
       "  </thead>\n",
       "  <tbody>\n",
       "  </tbody>\n",
       "</table>\n",
       "</div>"
      ],
      "text/plain": [
       "Empty DataFrame\n",
       "Columns: [name, job, company, street_address, city, state, email, user_name]\n",
       "Index: []"
      ]
     },
     "execution_count": 7,
     "metadata": {},
     "output_type": "execute_result"
    }
   ],
   "source": [
    "customers[customers.duplicated()]"
   ]
  },
  {
   "cell_type": "markdown",
   "metadata": {},
   "source": [
    "Offenbar gibt es keine duplizierten Datensätze."
   ]
  },
  {
   "cell_type": "markdown",
   "metadata": {},
   "source": [
    "### 2.5 Duplizierte Daten löschen\n",
    "\n",
    "Das Löschen duplizierter Datensätze mit `drop_duplicates` sollte demnach nichts ändern und die Anzahl der Datensätze bei 2080 belassen:"
   ]
  },
  {
   "cell_type": "code",
   "execution_count": 7,
   "metadata": {},
   "outputs": [
    {
     "data": {
      "text/html": [
       "<div>\n",
       "<style scoped>\n",
       "    .dataframe tbody tr th:only-of-type {\n",
       "        vertical-align: middle;\n",
       "    }\n",
       "\n",
       "    .dataframe tbody tr th {\n",
       "        vertical-align: top;\n",
       "    }\n",
       "\n",
       "    .dataframe thead th {\n",
       "        text-align: right;\n",
       "    }\n",
       "</style>\n",
       "<table border=\"1\" class=\"dataframe\">\n",
       "  <thead>\n",
       "    <tr style=\"text-align: right;\">\n",
       "      <th></th>\n",
       "      <th>name</th>\n",
       "      <th>job</th>\n",
       "      <th>company</th>\n",
       "      <th>street_address</th>\n",
       "      <th>city</th>\n",
       "      <th>state</th>\n",
       "      <th>email</th>\n",
       "      <th>user_name</th>\n",
       "    </tr>\n",
       "  </thead>\n",
       "  <tbody>\n",
       "    <tr>\n",
       "      <th>0</th>\n",
       "      <td>Patricia Schaefer</td>\n",
       "      <td>Programmer, systems</td>\n",
       "      <td>Estrada-Best</td>\n",
       "      <td>398 Paul Drive</td>\n",
       "      <td>Christianview</td>\n",
       "      <td>Delaware</td>\n",
       "      <td>lambdavid@gmail.com</td>\n",
       "      <td>ndavidson</td>\n",
       "    </tr>\n",
       "    <tr>\n",
       "      <th>1</th>\n",
       "      <td>Olivie Dubois</td>\n",
       "      <td>Ingénieur recherche et développement en agroal...</td>\n",
       "      <td>Moreno</td>\n",
       "      <td>rue Lucas Benard</td>\n",
       "      <td>Saint Anastasie-les-Bains</td>\n",
       "      <td>AR</td>\n",
       "      <td>berthelotjacqueline@mahe.fr</td>\n",
       "      <td>manonallain</td>\n",
       "    </tr>\n",
       "    <tr>\n",
       "      <th>2</th>\n",
       "      <td>Mary Davies-Kirk</td>\n",
       "      <td>Public affairs consultant</td>\n",
       "      <td>Baker Ltd</td>\n",
       "      <td>Flat 3\\nPugh mews</td>\n",
       "      <td>Stanleyfurt</td>\n",
       "      <td>ZA</td>\n",
       "      <td>middletonconor@hotmail.com</td>\n",
       "      <td>colemanmichael</td>\n",
       "    </tr>\n",
       "    <tr>\n",
       "      <th>3</th>\n",
       "      <td>Miroslawa Eckbauer</td>\n",
       "      <td>Dispensing optician</td>\n",
       "      <td>Ladeck GmbH</td>\n",
       "      <td>Mijo-Lübs-Straße 12</td>\n",
       "      <td>Neubrandenburg</td>\n",
       "      <td>Berlin</td>\n",
       "      <td>sophia01@yahoo.de</td>\n",
       "      <td>romanjunitz</td>\n",
       "    </tr>\n",
       "    <tr>\n",
       "      <th>4</th>\n",
       "      <td>Richard Bauer</td>\n",
       "      <td>Accountant, chartered certified</td>\n",
       "      <td>Hoffman-Rocha</td>\n",
       "      <td>6541 Rodriguez Wall</td>\n",
       "      <td>Carlosmouth</td>\n",
       "      <td>Texas</td>\n",
       "      <td>tross@jensen-ware.org</td>\n",
       "      <td>adam78</td>\n",
       "    </tr>\n",
       "    <tr>\n",
       "      <th>...</th>\n",
       "      <td>...</td>\n",
       "      <td>...</td>\n",
       "      <td>...</td>\n",
       "      <td>...</td>\n",
       "      <td>...</td>\n",
       "      <td>...</td>\n",
       "      <td>...</td>\n",
       "      <td>...</td>\n",
       "    </tr>\n",
       "    <tr>\n",
       "      <th>2075</th>\n",
       "      <td>Maurice Stey</td>\n",
       "      <td>Systems developer</td>\n",
       "      <td>Linke Margraf GmbH &amp; Co. OHG</td>\n",
       "      <td>Laila-Scheibe-Allee 2/0</td>\n",
       "      <td>Luckenwalde</td>\n",
       "      <td>Hamburg</td>\n",
       "      <td>gutknechtevelyn@niemeier.com</td>\n",
       "      <td>dkreusel</td>\n",
       "    </tr>\n",
       "    <tr>\n",
       "      <th>2076</th>\n",
       "      <td>Linda Alexander</td>\n",
       "      <td>Commrcil horiculuri</td>\n",
       "      <td>Webb, Ballald and Vasquel</td>\n",
       "      <td>5594 Persn Ciff</td>\n",
       "      <td>Mooneybury</td>\n",
       "      <td>Maryland</td>\n",
       "      <td>ahleythoa@ail.co</td>\n",
       "      <td>kennethrchn</td>\n",
       "    </tr>\n",
       "    <tr>\n",
       "      <th>2077</th>\n",
       "      <td>Diane Bailly</td>\n",
       "      <td>Pharmacien</td>\n",
       "      <td>Voisin</td>\n",
       "      <td>527, rue Dijoux</td>\n",
       "      <td>Duval-les-Bains</td>\n",
       "      <td>CH</td>\n",
       "      <td>aruiz@reynaud.fr</td>\n",
       "      <td>dorothee41</td>\n",
       "    </tr>\n",
       "    <tr>\n",
       "      <th>2078</th>\n",
       "      <td>Jorge Riba Cerdán</td>\n",
       "      <td>Hotel manager</td>\n",
       "      <td>Amador-Diego</td>\n",
       "      <td>Rambla de Adriana Barceló 854 Puerta 3</td>\n",
       "      <td>Huesca</td>\n",
       "      <td>Asturias</td>\n",
       "      <td>manuelamosquera@yahoo.com</td>\n",
       "      <td>eugenia17</td>\n",
       "    </tr>\n",
       "    <tr>\n",
       "      <th>2079</th>\n",
       "      <td>Ryan Thompson</td>\n",
       "      <td>Brewing technologist</td>\n",
       "      <td>Smith-Sullivan</td>\n",
       "      <td>136 Rodriguez Point</td>\n",
       "      <td>Bradfordborough</td>\n",
       "      <td>North Dakota</td>\n",
       "      <td>lcruz@gmail.com</td>\n",
       "      <td>cnewton</td>\n",
       "    </tr>\n",
       "  </tbody>\n",
       "</table>\n",
       "<p>2080 rows × 8 columns</p>\n",
       "</div>"
      ],
      "text/plain": [
       "                    name                                                job  \\\n",
       "0      Patricia Schaefer                                Programmer, systems   \n",
       "1          Olivie Dubois  Ingénieur recherche et développement en agroal...   \n",
       "2       Mary Davies-Kirk                          Public affairs consultant   \n",
       "3     Miroslawa Eckbauer                                Dispensing optician   \n",
       "4          Richard Bauer                    Accountant, chartered certified   \n",
       "...                  ...                                                ...   \n",
       "2075        Maurice Stey                                  Systems developer   \n",
       "2076     Linda Alexander                                Commrcil horiculuri   \n",
       "2077        Diane Bailly                                         Pharmacien   \n",
       "2078   Jorge Riba Cerdán                                      Hotel manager   \n",
       "2079       Ryan Thompson                               Brewing technologist   \n",
       "\n",
       "                           company                           street_address  \\\n",
       "0                     Estrada-Best                           398 Paul Drive   \n",
       "1                           Moreno                         rue Lucas Benard   \n",
       "2                        Baker Ltd                        Flat 3\\nPugh mews   \n",
       "3                      Ladeck GmbH                      Mijo-Lübs-Straße 12   \n",
       "4                    Hoffman-Rocha                      6541 Rodriguez Wall   \n",
       "...                            ...                                      ...   \n",
       "2075  Linke Margraf GmbH & Co. OHG                  Laila-Scheibe-Allee 2/0   \n",
       "2076     Webb, Ballald and Vasquel                          5594 Persn Ciff   \n",
       "2077                        Voisin                          527, rue Dijoux   \n",
       "2078                  Amador-Diego  Rambla de Adriana Barceló 854 Puerta 3    \n",
       "2079                Smith-Sullivan                      136 Rodriguez Point   \n",
       "\n",
       "                           city         state                         email  \\\n",
       "0                 Christianview      Delaware           lambdavid@gmail.com   \n",
       "1     Saint Anastasie-les-Bains            AR   berthelotjacqueline@mahe.fr   \n",
       "2                   Stanleyfurt            ZA    middletonconor@hotmail.com   \n",
       "3                Neubrandenburg        Berlin             sophia01@yahoo.de   \n",
       "4                   Carlosmouth         Texas         tross@jensen-ware.org   \n",
       "...                         ...           ...                           ...   \n",
       "2075                Luckenwalde       Hamburg  gutknechtevelyn@niemeier.com   \n",
       "2076                 Mooneybury      Maryland              ahleythoa@ail.co   \n",
       "2077            Duval-les-Bains            CH              aruiz@reynaud.fr   \n",
       "2078                     Huesca      Asturias     manuelamosquera@yahoo.com   \n",
       "2079            Bradfordborough  North Dakota               lcruz@gmail.com   \n",
       "\n",
       "           user_name  \n",
       "0          ndavidson  \n",
       "1        manonallain  \n",
       "2     colemanmichael  \n",
       "3        romanjunitz  \n",
       "4             adam78  \n",
       "...              ...  \n",
       "2075        dkreusel  \n",
       "2076     kennethrchn  \n",
       "2077      dorothee41  \n",
       "2078       eugenia17  \n",
       "2079         cnewton  \n",
       "\n",
       "[2080 rows x 8 columns]"
      ]
     },
     "execution_count": 7,
     "metadata": {},
     "output_type": "execute_result"
    }
   ],
   "source": [
    "customers.drop_duplicates()"
   ]
  },
  {
   "cell_type": "markdown",
   "metadata": {},
   "source": [
    "Nun wollen wir nur diejenigen Datensätze löschen, deren `user_name` identisch ist:"
   ]
  },
  {
   "cell_type": "code",
   "execution_count": 8,
   "metadata": {},
   "outputs": [
    {
     "data": {
      "text/html": [
       "<div>\n",
       "<style scoped>\n",
       "    .dataframe tbody tr th:only-of-type {\n",
       "        vertical-align: middle;\n",
       "    }\n",
       "\n",
       "    .dataframe tbody tr th {\n",
       "        vertical-align: top;\n",
       "    }\n",
       "\n",
       "    .dataframe thead th {\n",
       "        text-align: right;\n",
       "    }\n",
       "</style>\n",
       "<table border=\"1\" class=\"dataframe\">\n",
       "  <thead>\n",
       "    <tr style=\"text-align: right;\">\n",
       "      <th></th>\n",
       "      <th>name</th>\n",
       "      <th>job</th>\n",
       "      <th>company</th>\n",
       "      <th>street_address</th>\n",
       "      <th>city</th>\n",
       "      <th>state</th>\n",
       "      <th>email</th>\n",
       "      <th>user_name</th>\n",
       "    </tr>\n",
       "  </thead>\n",
       "  <tbody>\n",
       "    <tr>\n",
       "      <th>0</th>\n",
       "      <td>Patricia Schaefer</td>\n",
       "      <td>Programmer, systems</td>\n",
       "      <td>Estrada-Best</td>\n",
       "      <td>398 Paul Drive</td>\n",
       "      <td>Christianview</td>\n",
       "      <td>Delaware</td>\n",
       "      <td>lambdavid@gmail.com</td>\n",
       "      <td>ndavidson</td>\n",
       "    </tr>\n",
       "    <tr>\n",
       "      <th>1</th>\n",
       "      <td>Olivie Dubois</td>\n",
       "      <td>Ingénieur recherche et développement en agroal...</td>\n",
       "      <td>Moreno</td>\n",
       "      <td>rue Lucas Benard</td>\n",
       "      <td>Saint Anastasie-les-Bains</td>\n",
       "      <td>AR</td>\n",
       "      <td>berthelotjacqueline@mahe.fr</td>\n",
       "      <td>manonallain</td>\n",
       "    </tr>\n",
       "    <tr>\n",
       "      <th>2</th>\n",
       "      <td>Mary Davies-Kirk</td>\n",
       "      <td>Public affairs consultant</td>\n",
       "      <td>Baker Ltd</td>\n",
       "      <td>Flat 3\\nPugh mews</td>\n",
       "      <td>Stanleyfurt</td>\n",
       "      <td>ZA</td>\n",
       "      <td>middletonconor@hotmail.com</td>\n",
       "      <td>colemanmichael</td>\n",
       "    </tr>\n",
       "    <tr>\n",
       "      <th>3</th>\n",
       "      <td>Miroslawa Eckbauer</td>\n",
       "      <td>Dispensing optician</td>\n",
       "      <td>Ladeck GmbH</td>\n",
       "      <td>Mijo-Lübs-Straße 12</td>\n",
       "      <td>Neubrandenburg</td>\n",
       "      <td>Berlin</td>\n",
       "      <td>sophia01@yahoo.de</td>\n",
       "      <td>romanjunitz</td>\n",
       "    </tr>\n",
       "    <tr>\n",
       "      <th>4</th>\n",
       "      <td>Richard Bauer</td>\n",
       "      <td>Accountant, chartered certified</td>\n",
       "      <td>Hoffman-Rocha</td>\n",
       "      <td>6541 Rodriguez Wall</td>\n",
       "      <td>Carlosmouth</td>\n",
       "      <td>Texas</td>\n",
       "      <td>tross@jensen-ware.org</td>\n",
       "      <td>adam78</td>\n",
       "    </tr>\n",
       "    <tr>\n",
       "      <th>...</th>\n",
       "      <td>...</td>\n",
       "      <td>...</td>\n",
       "      <td>...</td>\n",
       "      <td>...</td>\n",
       "      <td>...</td>\n",
       "      <td>...</td>\n",
       "      <td>...</td>\n",
       "      <td>...</td>\n",
       "    </tr>\n",
       "    <tr>\n",
       "      <th>2074</th>\n",
       "      <td>Rhonda James</td>\n",
       "      <td>Recruitment consultant</td>\n",
       "      <td>Turner, Bradley and Scott</td>\n",
       "      <td>28382 Stokes Expressway</td>\n",
       "      <td>Port Gabrielaport</td>\n",
       "      <td>New Hampshire</td>\n",
       "      <td>zroberts@hotmail.com</td>\n",
       "      <td>heathscott</td>\n",
       "    </tr>\n",
       "    <tr>\n",
       "      <th>2076</th>\n",
       "      <td>Linda Alexander</td>\n",
       "      <td>Commrcil horiculuri</td>\n",
       "      <td>Webb, Ballald and Vasquel</td>\n",
       "      <td>5594 Persn Ciff</td>\n",
       "      <td>Mooneybury</td>\n",
       "      <td>Maryland</td>\n",
       "      <td>ahleythoa@ail.co</td>\n",
       "      <td>kennethrchn</td>\n",
       "    </tr>\n",
       "    <tr>\n",
       "      <th>2077</th>\n",
       "      <td>Diane Bailly</td>\n",
       "      <td>Pharmacien</td>\n",
       "      <td>Voisin</td>\n",
       "      <td>527, rue Dijoux</td>\n",
       "      <td>Duval-les-Bains</td>\n",
       "      <td>CH</td>\n",
       "      <td>aruiz@reynaud.fr</td>\n",
       "      <td>dorothee41</td>\n",
       "    </tr>\n",
       "    <tr>\n",
       "      <th>2078</th>\n",
       "      <td>Jorge Riba Cerdán</td>\n",
       "      <td>Hotel manager</td>\n",
       "      <td>Amador-Diego</td>\n",
       "      <td>Rambla de Adriana Barceló 854 Puerta 3</td>\n",
       "      <td>Huesca</td>\n",
       "      <td>Asturias</td>\n",
       "      <td>manuelamosquera@yahoo.com</td>\n",
       "      <td>eugenia17</td>\n",
       "    </tr>\n",
       "    <tr>\n",
       "      <th>2079</th>\n",
       "      <td>Ryan Thompson</td>\n",
       "      <td>Brewing technologist</td>\n",
       "      <td>Smith-Sullivan</td>\n",
       "      <td>136 Rodriguez Point</td>\n",
       "      <td>Bradfordborough</td>\n",
       "      <td>North Dakota</td>\n",
       "      <td>lcruz@gmail.com</td>\n",
       "      <td>cnewton</td>\n",
       "    </tr>\n",
       "  </tbody>\n",
       "</table>\n",
       "<p>2029 rows × 8 columns</p>\n",
       "</div>"
      ],
      "text/plain": [
       "                    name                                                job  \\\n",
       "0      Patricia Schaefer                                Programmer, systems   \n",
       "1          Olivie Dubois  Ingénieur recherche et développement en agroal...   \n",
       "2       Mary Davies-Kirk                          Public affairs consultant   \n",
       "3     Miroslawa Eckbauer                                Dispensing optician   \n",
       "4          Richard Bauer                    Accountant, chartered certified   \n",
       "...                  ...                                                ...   \n",
       "2074        Rhonda James                             Recruitment consultant   \n",
       "2076     Linda Alexander                                Commrcil horiculuri   \n",
       "2077        Diane Bailly                                         Pharmacien   \n",
       "2078   Jorge Riba Cerdán                                      Hotel manager   \n",
       "2079       Ryan Thompson                               Brewing technologist   \n",
       "\n",
       "                        company                           street_address  \\\n",
       "0                  Estrada-Best                           398 Paul Drive   \n",
       "1                        Moreno                         rue Lucas Benard   \n",
       "2                     Baker Ltd                        Flat 3\\nPugh mews   \n",
       "3                   Ladeck GmbH                      Mijo-Lübs-Straße 12   \n",
       "4                 Hoffman-Rocha                      6541 Rodriguez Wall   \n",
       "...                         ...                                      ...   \n",
       "2074  Turner, Bradley and Scott                  28382 Stokes Expressway   \n",
       "2076  Webb, Ballald and Vasquel                          5594 Persn Ciff   \n",
       "2077                     Voisin                          527, rue Dijoux   \n",
       "2078               Amador-Diego  Rambla de Adriana Barceló 854 Puerta 3    \n",
       "2079             Smith-Sullivan                      136 Rodriguez Point   \n",
       "\n",
       "                           city          state                        email  \\\n",
       "0                 Christianview       Delaware          lambdavid@gmail.com   \n",
       "1     Saint Anastasie-les-Bains             AR  berthelotjacqueline@mahe.fr   \n",
       "2                   Stanleyfurt             ZA   middletonconor@hotmail.com   \n",
       "3                Neubrandenburg         Berlin            sophia01@yahoo.de   \n",
       "4                   Carlosmouth          Texas        tross@jensen-ware.org   \n",
       "...                         ...            ...                          ...   \n",
       "2074          Port Gabrielaport  New Hampshire         zroberts@hotmail.com   \n",
       "2076                 Mooneybury       Maryland             ahleythoa@ail.co   \n",
       "2077            Duval-les-Bains             CH             aruiz@reynaud.fr   \n",
       "2078                     Huesca       Asturias    manuelamosquera@yahoo.com   \n",
       "2079            Bradfordborough   North Dakota              lcruz@gmail.com   \n",
       "\n",
       "           user_name  \n",
       "0          ndavidson  \n",
       "1        manonallain  \n",
       "2     colemanmichael  \n",
       "3        romanjunitz  \n",
       "4             adam78  \n",
       "...              ...  \n",
       "2074      heathscott  \n",
       "2076     kennethrchn  \n",
       "2077      dorothee41  \n",
       "2078       eugenia17  \n",
       "2079         cnewton  \n",
       "\n",
       "[2029 rows x 8 columns]"
      ]
     },
     "execution_count": 8,
     "metadata": {},
     "output_type": "execute_result"
    }
   ],
   "source": [
    "customers.drop_duplicates(['user_name'])"
   ]
  },
  {
   "cell_type": "markdown",
   "metadata": {},
   "source": [
    "Dies löschte 51 Datensätze."
   ]
  },
  {
   "cell_type": "markdown",
   "metadata": {},
   "source": [
    "## 3. Dedupe \n",
    "\n",
    "Alternativ können wir die duplizierte Daten mit der [Dedupe](https://docs.dedupe.io/)-Bibliothek erkennen, die ein flaches neuronales Netzwerk verwendet, um aus einem kleinen Training zu lernen.\n",
    "\n",
    "> **Siehe auch:**\n",
    "> \n",
    "> [csvdedupe](https://github.com/dedupeio/csvdedupe) bietet ein Kommandozeilenwerkzeug für Dedupe\n",
    "\n",
    "Zudem haben dieselben Entwickler\\*innen [parserator](https://github.com/datamade/parserator) erstellt, mit dem ihr Textfunktionen extrahieren und eure eigenen Textextraktion trainieren könnt. "
   ]
  },
  {
   "cell_type": "markdown",
   "metadata": {},
   "source": [
    "### 3.1 Dedupe konfigurieren\n",
    "\n",
    "Nun definieren wir die Felder, auf die bei der Deduplizierung geachtet werden soll und erstellen ein neues `deduper`-Objekt:"
   ]
  },
  {
   "cell_type": "code",
   "execution_count": 9,
   "metadata": {},
   "outputs": [],
   "source": [
    "import dedupe\n",
    "import os\n",
    "\n",
    "customers = pd.read_csv('https://raw.githubusercontent.com/kjam/data-cleaning-101/master/data/customer_data_duped.csv', \n",
    "                        encoding='utf-8')"
   ]
  },
  {
   "cell_type": "code",
   "execution_count": 10,
   "metadata": {},
   "outputs": [],
   "source": [
    "variables = [\n",
    "    {'field': 'name', 'type': 'String'},\n",
    "    {'field': 'job', 'type': 'String'},\n",
    "    {'field': 'company', 'type': 'String'},  \n",
    "    {'field': 'street_address','type': 'String'},\n",
    "    {'field': 'city','type': 'String'},\n",
    "    {'field': 'state', 'type': 'String', 'has_missing': True},\n",
    "    {'field': 'email', 'type': 'String', 'has_missing': True},\n",
    "    {'field': 'user_name', 'type': 'String'},\n",
    "]\n",
    "\n",
    "deduper = dedupe.Dedupe(variables)"
   ]
  },
  {
   "cell_type": "markdown",
   "metadata": {},
   "source": [
    "Wenn der Wert eines Feldes fehlt, sollte dieser fehlende Wert als `None`-Objekt dargestellt werden. Durch `'has_missing': True`  wird jedoch ein neues, zusätzliches Feld erstellt, das angibt, ob die Daten vorhanden waren oder nicht, und die fehlenden Daten werden mit Null versehen.\n",
    "\n",
    "> **Siehe auch:**\n",
    "> \n",
    "> * [Missing Data](https://docs.dedupe.io/en/latest/Variable-definition.html#missing-data)"
   ]
  },
  {
   "cell_type": "code",
   "execution_count": 11,
   "metadata": {},
   "outputs": [
    {
     "data": {
      "text/plain": [
       "<dedupe.api.Dedupe at 0x7f03b6d92610>"
      ]
     },
     "execution_count": 11,
     "metadata": {},
     "output_type": "execute_result"
    }
   ],
   "source": [
    "deduper"
   ]
  },
  {
   "cell_type": "code",
   "execution_count": 12,
   "metadata": {},
   "outputs": [
    {
     "data": {
      "text/plain": [
       "(2080, 8)"
      ]
     },
     "execution_count": 12,
     "metadata": {},
     "output_type": "execute_result"
    }
   ],
   "source": [
    "customers.shape"
   ]
  },
  {
   "cell_type": "markdown",
   "metadata": {},
   "source": [
    "## 4. Trainingsdaten erstellen"
   ]
  },
  {
   "cell_type": "code",
   "execution_count": 13,
   "metadata": {},
   "outputs": [],
   "source": [
    "deduper.prepare_training(customers.T.to_dict())"
   ]
  },
  {
   "cell_type": "markdown",
   "metadata": {},
   "source": [
    "[prepare_training](https://docs.dedupe.io/en/latest/API-documentation.html#dedupe.Dedupe.prepare_training) initialisiert das aktive Lernen mit unseren Daten und, optional, mit vorhandenen Trainingsdaten.\n",
    "\n",
    "`T` spiegelt den DataFrame über seine Diagonale, indem Zeilen als Spalten geschrieben werden und umgekehrt. Hierfür wird [pandas.DataFrame.transpose](https://pandas.pydata.org/docs/reference/api/pandas.DataFrame.transpose.html) verwendet."
   ]
  },
  {
   "cell_type": "markdown",
   "metadata": {},
   "source": [
    "## 5. Aktives Lernen\n",
    "\n",
    "Mit [dedupe.console_label](https://docs.dedupe.io/en/latest/API-documentation.html#dedupe.console_label) könnt ihr eure Dedupe-Instanz trainieren. Wenn Dedupe ein Datensatzpaar findet, werdet ihr gebeten, es als Duplikat zu kennzeichnen. Ihr könnt hierfür die Tasten `y`, `n` und `u`, um Duplikate zu kennzeichnen. Drückt `f`, wenn ihr fertig seid."
   ]
  },
  {
   "cell_type": "code",
   "execution_count": 14,
   "metadata": {},
   "outputs": [
    {
     "name": "stderr",
     "output_type": "stream",
     "text": [
      "name : Kenneth Moore\n",
      "job : Magazine journalist\n",
      "company : Cross, Bell and Diaz\n",
      "street_address : 75443 Lindsey Pine\n",
      "city : Thompsonshire\n",
      "state : Colorado\n",
      "email : ashley28@rice.com\n",
      "user_name : todd72\n",
      "\n",
      "name : Kenneth Moore\n",
      "job : Magazine journalist\n",
      "company : Cross, Bfll anf Diaz\n",
      "street_address : 753 Lindsey Pine\n",
      "city : Thompsonshe\n",
      "state : Colorao\n",
      "email : ashey28@rice.co\n",
      "user_name : todd72\n",
      "\n",
      "0/10 positive, 0/10 negative\n",
      "Do these records refer to the same thing?\n",
      "(y)es / (n)o / (u)nsure / (f)inished\n"
     ]
    },
    {
     "name": "stdout",
     "output_type": "stream",
     "text": [
      "y\n"
     ]
    },
    {
     "name": "stderr",
     "output_type": "stream",
     "text": [
      "name : Frédérique Lejeune-Daniel\n",
      "job : Technicien chimiste\n",
      "company : Schmitt\n",
      "street_address : chemin Denise Ferrand\n",
      "city : Saint CharlotteVille\n",
      "state : IE\n",
      "email : jchretien@costa.com\n",
      "user_name : joseph60\n",
      "\n",
      "name : Frédérique Lejeune-Daniel\n",
      "job : Tecce cse\n",
      "company : Sctmitt\n",
      "street_address : chemin Denise Ferrand\n",
      "city : Saint ChalotteVille\n",
      "state : IE\n",
      "email : jchretien@costacom\n",
      "user_name : joseph60\n",
      "\n",
      "1/10 positive, 0/10 negative\n",
      "Do these records refer to the same thing?\n",
      "(y)es / (n)o / (u)nsure / (f)inished / (p)revious\n"
     ]
    },
    {
     "name": "stdout",
     "output_type": "stream",
     "text": [
      "y\n"
     ]
    },
    {
     "name": "stderr",
     "output_type": "stream",
     "text": [
      "name : Herr Johann Eigenwillig\n",
      "job : Immigrtion officer\n",
      "company : Süßebuer Hänel GmbH\n",
      "street_address : Lanernplatz 0\n",
      "city : Stadtsteinach\n",
      "state : Thürinen\n",
      "email : hemieluie@nock.com\n",
      "user_name : istoll\n",
      "\n",
      "name : Herr Johann Eigenwillig\n",
      "job : Immigration officer\n",
      "company : Süßebier Hänel GmbH\n",
      "street_address : Langernplatz 0\n",
      "city : Stadtsteinach\n",
      "state : Thüringen\n",
      "email : haasemarieluise@noack.com\n",
      "user_name : istoll\n",
      "\n",
      "2/10 positive, 0/10 negative\n",
      "Do these records refer to the same thing?\n",
      "(y)es / (n)o / (u)nsure / (f)inished / (p)revious\n"
     ]
    },
    {
     "name": "stdout",
     "output_type": "stream",
     "text": [
      "y\n"
     ]
    },
    {
     "name": "stderr",
     "output_type": "stream",
     "text": [
      "name : Dr. Catherine Sutton\n",
      "job : Engineer, maintenance\n",
      "company : Ross LLC\n",
      "street_address : 13689 Morales Centers\n",
      "city : North Sarah\n",
      "state : New Mexico\n",
      "email : lewisnicole@yahoo.com\n",
      "user_name : clittle\n",
      "\n",
      "name : Dr. Catherine Sutton\n",
      "job : Enginee maintenance\n",
      "company : Ross LLC\n",
      "street_address : 13689 Morales Centers\n",
      "city : North Sarah\n",
      "state : New Mexico\n",
      "email : ewinicoe@yaoo.com\n",
      "user_name : little\n",
      "\n",
      "3/10 positive, 0/10 negative\n",
      "Do these records refer to the same thing?\n",
      "(y)es / (n)o / (u)nsure / (f)inished / (p)revious\n"
     ]
    },
    {
     "name": "stdout",
     "output_type": "stream",
     "text": [
      "y\n"
     ]
    },
    {
     "name": "stderr",
     "output_type": "stream",
     "text": [
      "name : Andrés Franco Bravo\n",
      "job : Photographer\n",
      "company : Pareja-Fábregas\n",
      "street_address : Cuesta Margarita Robledo 251 Piso 1 \n",
      "city : Granada\n",
      "state : Alicante\n",
      "email : fátimazamora@batlle.com\n",
      "user_name : losasebastian\n",
      "\n",
      "name : Andrés Franco Bravo\n",
      "job : Photographer\n",
      "company : Pare8a8Fábre8as\n",
      "street_address : Cuesta Magaita Robledo 251 Piso 1 \n",
      "city : Granada\n",
      "state : Alicante\n",
      "email : fáimazamra@balle.cm\n",
      "user_name : lsasebastian\n",
      "\n",
      "4/10 positive, 0/10 negative\n",
      "Do these records refer to the same thing?\n",
      "(y)es / (n)o / (u)nsure / (f)inished / (p)revious\n"
     ]
    },
    {
     "name": "stdout",
     "output_type": "stream",
     "text": [
      "f\n"
     ]
    },
    {
     "name": "stderr",
     "output_type": "stream",
     "text": [
      "Finished labeling\n"
     ]
    }
   ],
   "source": [
    "dedupe.console_label(deduper)"
   ]
  },
  {
   "cell_type": "markdown",
   "metadata": {},
   "source": [
    "Die letzten beiden verglichenen Trainingsdatensätze machen deutlich, dass wir dieses Duplikat mit unserem obigen `drop_duplicates`-Beispiel nicht gelöscht haben – `clittle` und `little` wurden als unterschiedlich erkannt."
   ]
  },
  {
   "cell_type": "markdown",
   "metadata": {},
   "source": [
    "Mit [Dedupe.train](https://docs.dedupe.io/en/latest/API-documentation.html#dedupe.Dedupe.train) werden die von euch markierten Datensatzpaare zu den Trainingsdaten hinzugefügt und das Matching-Modell aktualisiert.\n",
    "\n",
    "Mit `index_predicates=True` berücksichtigt die Deduplizierung auch Prädikate, die auf der Indizierung der Daten beruhen.\n",
    "\n",
    "Wenn ihr fertig seid, speichert eure Trainingsdaten mit [Dedupe.write_settings](https://docs.dedupe.io/en/latest/API-documentation.html#dedupe.Dedupe.write_settings)."
   ]
  },
  {
   "cell_type": "code",
   "execution_count": 15,
   "metadata": {},
   "outputs": [
    {
     "name": "stdout",
     "output_type": "stream",
     "text": [
      "reading from csv_example_learned_settings\n"
     ]
    }
   ],
   "source": [
    "settings_file = 'csv_example_learned_settings'\n",
    "if os.path.exists(settings_file):\n",
    "    print('reading from', settings_file)\n",
    "    with open(settings_file, 'rb') as f:\n",
    "        deduper = dedupe.StaticDedupe(f)\n",
    "else:\n",
    "    deduper.train(index_predicates=True)\n",
    "    with open(settings_file, 'wb') as sf:\n",
    "        deduper.write_settings(sf)"
   ]
  },
  {
   "cell_type": "markdown",
   "metadata": {},
   "source": [
    "Mit [dedupe.Dedupe.partition](https://docs.dedupe.io/en/latest/API-documentation.html#dedupe.Dedupe.partition) werden  Datensätze identifiziert, die sich alle auf dieselbe Entität beziehen, und als Tupel zurückgegeben, die eine Folge von Datensatz-IDs und Konfidenzwerten sind. Weitere Einzelheiten zum Konfidenzwert findet ihr unter [dedupe.Dedupe.cluster](https://docs.dedupe.io/en/latest/API-documentation.html#dedupe.Dedupe.cluster)."
   ]
  },
  {
   "cell_type": "code",
   "execution_count": 16,
   "metadata": {},
   "outputs": [],
   "source": [
    "dupes = deduper.partition(customers.T.to_dict())"
   ]
  },
  {
   "cell_type": "code",
   "execution_count": 17,
   "metadata": {},
   "outputs": [
    {
     "data": {
      "text/plain": [
       "[((136, 1360), (1.0, 1.0)),\n",
       " ((298, 1026), (1.0, 1.0)),\n",
       " ((354, 858), (1.0, 1.0)),\n",
       " ((478, 1119), (1.0, 1.0)),\n",
       " ((938, 1890), (1.0, 1.0)),\n",
       " ((1785, 1939), (1.0, 1.0)),\n",
       " ((0,), (1.0,)),\n",
       " ((1,), (1.0,)),\n",
       " ((2,), (1.0,)),\n",
       " ((3,), (1.0,)),\n",
       " ((4,), (1.0,)),\n",
       " ...]"
      ]
     },
     "execution_count": 17,
     "metadata": {},
     "output_type": "execute_result"
    }
   ],
   "source": [
    "dupes"
   ]
  },
  {
   "cell_type": "markdown",
   "metadata": {},
   "source": [
    "Wir können uns auch nur einzelne Einträge ausgeben lassen:"
   ]
  },
  {
   "cell_type": "code",
   "execution_count": 18,
   "metadata": {},
   "outputs": [
    {
     "data": {
      "text/plain": [
       "((136, 1360), (1.0, 1.0))"
      ]
     },
     "execution_count": 18,
     "metadata": {},
     "output_type": "execute_result"
    }
   ],
   "source": [
    "dupes[0]"
   ]
  },
  {
   "cell_type": "markdown",
   "metadata": {},
   "source": [
    "Diese können wir uns dann mit [pandas.DataFrame.iloc](https://pandas.pydata.org/docs/reference/api/pandas.DataFrame.iloc.html) anzeigen lassen:"
   ]
  },
  {
   "cell_type": "code",
   "execution_count": 19,
   "metadata": {},
   "outputs": [
    {
     "data": {
      "text/html": [
       "<div>\n",
       "<style scoped>\n",
       "    .dataframe tbody tr th:only-of-type {\n",
       "        vertical-align: middle;\n",
       "    }\n",
       "\n",
       "    .dataframe tbody tr th {\n",
       "        vertical-align: top;\n",
       "    }\n",
       "\n",
       "    .dataframe thead th {\n",
       "        text-align: right;\n",
       "    }\n",
       "</style>\n",
       "<table border=\"1\" class=\"dataframe\">\n",
       "  <thead>\n",
       "    <tr style=\"text-align: right;\">\n",
       "      <th></th>\n",
       "      <th>name</th>\n",
       "      <th>job</th>\n",
       "      <th>company</th>\n",
       "      <th>street_address</th>\n",
       "      <th>city</th>\n",
       "      <th>state</th>\n",
       "      <th>email</th>\n",
       "      <th>user_name</th>\n",
       "    </tr>\n",
       "  </thead>\n",
       "  <tbody>\n",
       "    <tr>\n",
       "      <th>136</th>\n",
       "      <td>Frédérique Lejeune-Daniel</td>\n",
       "      <td>Technicien chimiste</td>\n",
       "      <td>Schmitt</td>\n",
       "      <td>chemin Denise Ferrand</td>\n",
       "      <td>Saint CharlotteVille</td>\n",
       "      <td>IE</td>\n",
       "      <td>jchretien@costa.com</td>\n",
       "      <td>joseph60</td>\n",
       "    </tr>\n",
       "    <tr>\n",
       "      <th>1360</th>\n",
       "      <td>Frédérique Lejeune-Daniel</td>\n",
       "      <td>Tecce cse</td>\n",
       "      <td>Sctmitt</td>\n",
       "      <td>chemin Denise Ferrand</td>\n",
       "      <td>Saint ChalotteVille</td>\n",
       "      <td>IE</td>\n",
       "      <td>jchretien@costacom</td>\n",
       "      <td>joseph60</td>\n",
       "    </tr>\n",
       "  </tbody>\n",
       "</table>\n",
       "</div>"
      ],
      "text/plain": [
       "                           name                  job  company  \\\n",
       "136   Frédérique Lejeune-Daniel  Technicien chimiste  Schmitt   \n",
       "1360  Frédérique Lejeune-Daniel            Tecce cse  Sctmitt   \n",
       "\n",
       "             street_address                  city state                email  \\\n",
       "136   chemin Denise Ferrand  Saint CharlotteVille    IE  jchretien@costa.com   \n",
       "1360  chemin Denise Ferrand   Saint ChalotteVille    IE   jchretien@costacom   \n",
       "\n",
       "     user_name  \n",
       "136   joseph60  \n",
       "1360  joseph60  "
      ]
     },
     "execution_count": 19,
     "metadata": {},
     "output_type": "execute_result"
    }
   ],
   "source": [
    "customers.iloc[[136,1360]]"
   ]
  }
 ],
 "metadata": {
  "kernelspec": {
   "display_name": "Python 3.8",
   "language": "python",
   "name": "python-38"
  },
  "language_info": {
   "codemirror_mode": {
    "name": "ipython",
    "version": 3
   },
   "file_extension": ".py",
   "mimetype": "text/x-python",
   "name": "python",
   "nbconvert_exporter": "python",
   "pygments_lexer": "ipython3",
   "version": "3.8.12"
  },
  "latex_envs": {
   "LaTeX_envs_menu_present": true,
   "autoclose": false,
   "autocomplete": true,
   "bibliofile": "biblio.bib",
   "cite_by": "apalike",
   "current_citInitial": 1,
   "eqLabelWithNumbers": true,
   "eqNumInitial": 1,
   "hotkeys": {
    "equation": "Ctrl-E",
    "itemize": "Ctrl-I"
   },
   "labels_anchors": false,
   "latex_user_defs": false,
   "report_style_numbering": false,
   "user_envs_cfg": false
  },
  "widgets": {
   "application/vnd.jupyter.widget-state+json": {
    "state": {},
    "version_major": 2,
    "version_minor": 0
   }
  }
 },
 "nbformat": 4,
 "nbformat_minor": 4
}
