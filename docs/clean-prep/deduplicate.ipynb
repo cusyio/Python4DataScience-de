{
 "cells": [
  {
   "cell_type": "markdown",
   "metadata": {},
   "source": [
    "# Daten deduplizieren\n",
    "\n",
    "In diesem Notebook deduplizieren wir Daten mithilfe der [Dedupe](https://docs.dedupe.io/)-Bibliothek, die ein flaches neuronales Netzwerk verwendet, um aus einem kleinen Training zu lernen.\n",
    "\n",
    "Zudem haben dieselben Entwickler\\*innen [parserator](https://github.com/datamade/parserator) erstellt, mit dem ihr Textfunktionen extrahieren und eure eigenen Textextraktion trainieren könnt. "
   ]
  },
  {
   "cell_type": "markdown",
   "metadata": {},
   "source": [
    "## 1. Importe"
   ]
  },
  {
   "cell_type": "code",
   "execution_count": 1,
   "metadata": {},
   "outputs": [],
   "source": [
    "import pandas as pd\n",
    "import dedupe\n",
    "import os"
   ]
  },
  {
   "cell_type": "code",
   "execution_count": 2,
   "metadata": {},
   "outputs": [],
   "source": [
    "customers = pd.read_csv('https://raw.githubusercontent.com/kjam/data-cleaning-101/master/data/customer_data_duped.csv', \n",
    "                        encoding='utf-8')"
   ]
  },
  {
   "cell_type": "markdown",
   "metadata": {},
   "source": [
    "## 2. Datenqualität überprüfen"
   ]
  },
  {
   "cell_type": "code",
   "execution_count": 3,
   "metadata": {},
   "outputs": [
    {
     "data": {
      "text/html": [
       "<div>\n",
       "<style scoped>\n",
       "    .dataframe tbody tr th:only-of-type {\n",
       "        vertical-align: middle;\n",
       "    }\n",
       "\n",
       "    .dataframe tbody tr th {\n",
       "        vertical-align: top;\n",
       "    }\n",
       "\n",
       "    .dataframe thead th {\n",
       "        text-align: right;\n",
       "    }\n",
       "</style>\n",
       "<table border=\"1\" class=\"dataframe\">\n",
       "  <thead>\n",
       "    <tr style=\"text-align: right;\">\n",
       "      <th></th>\n",
       "      <th>name</th>\n",
       "      <th>job</th>\n",
       "      <th>company</th>\n",
       "      <th>street_address</th>\n",
       "      <th>city</th>\n",
       "      <th>state</th>\n",
       "      <th>email</th>\n",
       "      <th>user_name</th>\n",
       "    </tr>\n",
       "  </thead>\n",
       "  <tbody>\n",
       "    <tr>\n",
       "      <th>0</th>\n",
       "      <td>Patricia Schaefer</td>\n",
       "      <td>Programmer, systems</td>\n",
       "      <td>Estrada-Best</td>\n",
       "      <td>398 Paul Drive</td>\n",
       "      <td>Christianview</td>\n",
       "      <td>Delaware</td>\n",
       "      <td>lambdavid@gmail.com</td>\n",
       "      <td>ndavidson</td>\n",
       "    </tr>\n",
       "    <tr>\n",
       "      <th>1</th>\n",
       "      <td>Olivie Dubois</td>\n",
       "      <td>Ingénieur recherche et développement en agroal...</td>\n",
       "      <td>Moreno</td>\n",
       "      <td>rue Lucas Benard</td>\n",
       "      <td>Saint Anastasie-les-Bains</td>\n",
       "      <td>AR</td>\n",
       "      <td>berthelotjacqueline@mahe.fr</td>\n",
       "      <td>manonallain</td>\n",
       "    </tr>\n",
       "    <tr>\n",
       "      <th>2</th>\n",
       "      <td>Mary Davies-Kirk</td>\n",
       "      <td>Public affairs consultant</td>\n",
       "      <td>Baker Ltd</td>\n",
       "      <td>Flat 3\\nPugh mews</td>\n",
       "      <td>Stanleyfurt</td>\n",
       "      <td>ZA</td>\n",
       "      <td>middletonconor@hotmail.com</td>\n",
       "      <td>colemanmichael</td>\n",
       "    </tr>\n",
       "    <tr>\n",
       "      <th>3</th>\n",
       "      <td>Miroslawa Eckbauer</td>\n",
       "      <td>Dispensing optician</td>\n",
       "      <td>Ladeck GmbH</td>\n",
       "      <td>Mijo-Lübs-Straße 12</td>\n",
       "      <td>Neubrandenburg</td>\n",
       "      <td>Berlin</td>\n",
       "      <td>sophia01@yahoo.de</td>\n",
       "      <td>romanjunitz</td>\n",
       "    </tr>\n",
       "    <tr>\n",
       "      <th>4</th>\n",
       "      <td>Richard Bauer</td>\n",
       "      <td>Accountant, chartered certified</td>\n",
       "      <td>Hoffman-Rocha</td>\n",
       "      <td>6541 Rodriguez Wall</td>\n",
       "      <td>Carlosmouth</td>\n",
       "      <td>Texas</td>\n",
       "      <td>tross@jensen-ware.org</td>\n",
       "      <td>adam78</td>\n",
       "    </tr>\n",
       "  </tbody>\n",
       "</table>\n",
       "</div>"
      ],
      "text/plain": [
       "                 name                                                job  \\\n",
       "0   Patricia Schaefer                                Programmer, systems   \n",
       "1       Olivie Dubois  Ingénieur recherche et développement en agroal...   \n",
       "2    Mary Davies-Kirk                          Public affairs consultant   \n",
       "3  Miroslawa Eckbauer                                Dispensing optician   \n",
       "4       Richard Bauer                    Accountant, chartered certified   \n",
       "\n",
       "         company       street_address                       city     state  \\\n",
       "0   Estrada-Best       398 Paul Drive              Christianview  Delaware   \n",
       "1         Moreno     rue Lucas Benard  Saint Anastasie-les-Bains        AR   \n",
       "2      Baker Ltd    Flat 3\\nPugh mews                Stanleyfurt        ZA   \n",
       "3    Ladeck GmbH  Mijo-Lübs-Straße 12             Neubrandenburg    Berlin   \n",
       "4  Hoffman-Rocha  6541 Rodriguez Wall                Carlosmouth     Texas   \n",
       "\n",
       "                         email       user_name  \n",
       "0          lambdavid@gmail.com       ndavidson  \n",
       "1  berthelotjacqueline@mahe.fr     manonallain  \n",
       "2   middletonconor@hotmail.com  colemanmichael  \n",
       "3            sophia01@yahoo.de     romanjunitz  \n",
       "4        tross@jensen-ware.org          adam78  "
      ]
     },
     "execution_count": 3,
     "metadata": {},
     "output_type": "execute_result"
    }
   ],
   "source": [
    "customers.head()"
   ]
  },
  {
   "cell_type": "code",
   "execution_count": 4,
   "metadata": {},
   "outputs": [
    {
     "data": {
      "text/plain": [
       "name              object\n",
       "job               object\n",
       "company           object\n",
       "street_address    object\n",
       "city              object\n",
       "state             object\n",
       "email             object\n",
       "user_name         object\n",
       "dtype: object"
      ]
     },
     "execution_count": 4,
     "metadata": {},
     "output_type": "execute_result"
    }
   ],
   "source": [
    "customers.dtypes"
   ]
  },
  {
   "cell_type": "code",
   "execution_count": 5,
   "metadata": {},
   "outputs": [
    {
     "name": "stdout",
     "output_type": "stream",
     "text": [
      "name 0\n",
      "job 0\n",
      "company 0\n",
      "street_address 0\n",
      "city 0\n",
      "state 0\n",
      "email 0\n",
      "user_name 0\n"
     ]
    }
   ],
   "source": [
    "for col in customers.columns:\n",
    "    print(col, customers[col].isnull().sum())"
   ]
  },
  {
   "cell_type": "markdown",
   "metadata": {},
   "source": [
    "## 3. Dedupe konfigurieren\n",
    "\n",
    "Nun definieren wir die Felder, auf die bei der Deduplizierung geachtet werden soll und erstellen ein neues `deduper`-Objekt:"
   ]
  },
  {
   "cell_type": "code",
   "execution_count": 6,
   "metadata": {},
   "outputs": [],
   "source": [
    "variables = [\n",
    "    {'field': 'name', 'type': 'String'},\n",
    "    {'field': 'job', 'type': 'String'},\n",
    "    {'field': 'company', 'type': 'String'},  \n",
    "    {'field': 'street_address','type': 'String'},\n",
    "    {'field': 'city','type': 'String'},\n",
    "    {'field': 'state', 'type': 'String', 'has_missing': True},\n",
    "    {'field': 'email', 'type': 'String', 'has_missing': True},\n",
    "    {'field': 'user_name', 'type': 'String'},\n",
    "]\n",
    "\n",
    "deduper = dedupe.Dedupe(variables)"
   ]
  },
  {
   "cell_type": "code",
   "execution_count": 7,
   "metadata": {},
   "outputs": [
    {
     "data": {
      "text/plain": [
       "<dedupe.api.Dedupe at 0x7f983598a1c0>"
      ]
     },
     "execution_count": 7,
     "metadata": {},
     "output_type": "execute_result"
    }
   ],
   "source": [
    "deduper"
   ]
  },
  {
   "cell_type": "code",
   "execution_count": 8,
   "metadata": {},
   "outputs": [
    {
     "data": {
      "text/plain": [
       "(2080, 8)"
      ]
     },
     "execution_count": 8,
     "metadata": {},
     "output_type": "execute_result"
    }
   ],
   "source": [
    "customers.shape"
   ]
  },
  {
   "cell_type": "markdown",
   "metadata": {},
   "source": [
    "## 4. Trainingsdaten erstellen"
   ]
  },
  {
   "cell_type": "code",
   "execution_count": 9,
   "metadata": {},
   "outputs": [
    {
     "name": "stderr",
     "output_type": "stream",
     "text": [
      "INFO:dedupe.canopy_index:Removing stop word om\n",
      "INFO:dedupe.canopy_index:Removing stop word co\n",
      "INFO:dedupe.canopy_index:Removing stop word com\n",
      "INFO:dedupe.training:Final predicate set:\n",
      "INFO:dedupe.training:TfidfTextCanopyPredicate: (0.8, email)\n"
     ]
    }
   ],
   "source": [
    "deduper.prepare_training(customers.T.to_dict())"
   ]
  },
  {
   "cell_type": "markdown",
   "metadata": {},
   "source": [
    "## 5. Aktives Lernen\n",
    "\n",
    "Wenn Dedupe ein Datensatzpaar findet, werdet ihr gebeten, es als Duplikat zu kennzeichnen. Ihr könnt hierfürdie Tasten `y`, `n` und `u`, um Duplikate zu kennzeichnen. Drückt `f`, wenn ihr fertig seid."
   ]
  },
  {
   "cell_type": "code",
   "execution_count": 10,
   "metadata": {},
   "outputs": [
    {
     "name": "stderr",
     "output_type": "stream",
     "text": [
      "name : Kenneth Moore\n",
      "job : Magazine journalist\n",
      "company : Cross, Bell and Diaz\n",
      "street_address : 75443 Lindsey Pine\n",
      "city : Thompsonshire\n",
      "state : Colorado\n",
      "email : ashley28@rice.com\n",
      "user_name : todd72\n",
      "\n",
      "name : Kenneth Moore\n",
      "job : Magazine journalist\n",
      "company : Cross, Bfll anf Diaz\n",
      "street_address : 753 Lindsey Pine\n",
      "city : Thompsonshe\n",
      "state : Colorao\n",
      "email : ashey28@rice.co\n",
      "user_name : todd72\n",
      "\n",
      "0/10 positive, 0/10 negative\n",
      "Do these records refer to the same thing?\n",
      "(y)es / (n)o / (u)nsure / (f)inished\n"
     ]
    },
    {
     "name": "stdout",
     "output_type": "stream",
     "text": [
      "y\n"
     ]
    },
    {
     "name": "stderr",
     "output_type": "stream",
     "text": [
      "name : Dr. Catherine Sutton\n",
      "job : Engineer, maintenance\n",
      "company : Ross LLC\n",
      "street_address : 13689 Morales Centers\n",
      "city : North Sarah\n",
      "state : New Mexico\n",
      "email : lewisnicole@yahoo.com\n",
      "user_name : clittle\n",
      "\n",
      "name : Dr. Catherine Sutton\n",
      "job : Enginee maintenance\n",
      "company : Ross LLC\n",
      "street_address : 13689 Morales Centers\n",
      "city : North Sarah\n",
      "state : New Mexico\n",
      "email : ewinicoe@yaoo.com\n",
      "user_name : little\n",
      "\n",
      "1/10 positive, 0/10 negative\n",
      "Do these records refer to the same thing?\n",
      "(y)es / (n)o / (u)nsure / (f)inished / (p)revious\n"
     ]
    },
    {
     "name": "stdout",
     "output_type": "stream",
     "text": [
      "y\n"
     ]
    },
    {
     "name": "stderr",
     "output_type": "stream",
     "text": [
      "INFO:dedupe.training:Final predicate set:\n",
      "INFO:dedupe.training:SimplePredicate: (alphaNumericPredicate, user_name)\n",
      "name : Marcelle Francois\n",
      "job : Collecteur de fonds\n",
      "company : Leconte S.A.\n",
      "street_address : avenue Corinne Allard\n",
      "city : Sainte Philippenec\n",
      "state : KH\n",
      "email : yblot@sauvage.net\n",
      "user_name : molivier\n",
      "\n",
      "name : Marcelle Francois\n",
      "job : Collecteur de fonds\n",
      "company : Lecinte SiAi\n",
      "street_address : aenue Crinne Allard\n",
      "city : Sainte Philippenec\n",
      "state : KH\n",
      "email : yblot@sauvage.net\n",
      "user_name : mlivier\n",
      "\n",
      "2/10 positive, 0/10 negative\n",
      "Do these records refer to the same thing?\n",
      "(y)es / (n)o / (u)nsure / (f)inished / (p)revious\n"
     ]
    },
    {
     "name": "stdout",
     "output_type": "stream",
     "text": [
      "f\n"
     ]
    },
    {
     "name": "stderr",
     "output_type": "stream",
     "text": [
      "Finished labeling\n",
      "INFO:dedupe.training:Final predicate set:\n",
      "INFO:dedupe.training:SimplePredicate: (alphaNumericPredicate, user_name)\n",
      "INFO:dedupe.training:SimplePredicate: (twoGramFingerprint, street_address)\n"
     ]
    }
   ],
   "source": [
    "dedupe.console_label(deduper)"
   ]
  },
  {
   "cell_type": "code",
   "execution_count": 11,
   "metadata": {},
   "outputs": [
    {
     "name": "stderr",
     "output_type": "stream",
     "text": [
      "INFO:dedupe.canopy_index:Removing stop word om\n",
      "INFO:dedupe.canopy_index:Removing stop word co\n",
      "INFO:dedupe.canopy_index:Removing stop word com\n",
      "INFO:dedupe.training:Final predicate set:\n",
      "INFO:dedupe.training:TfidfTextCanopyPredicate: (0.8, email)\n",
      "INFO:dedupe.training:Final predicate set:\n",
      "INFO:dedupe.training:SimplePredicate: (twoGramFingerprint, street_address)\n",
      "INFO:dedupe.training:SimplePredicate: (alphaNumericPredicate, user_name)\n",
      "INFO:dedupe.canopy_index:Removing stop word om\n",
      "INFO:dedupe.canopy_index:Removing stop word co\n",
      "INFO:dedupe.canopy_index:Removing stop word com\n",
      "INFO:dedupe.training:Final predicate set:\n",
      "INFO:dedupe.training:TfidfTextCanopyPredicate: (0.8, email)\n",
      "INFO:dedupe.training:Final predicate set:\n",
      "INFO:dedupe.training:SimplePredicate: (twoGramFingerprint, street_address)\n",
      "INFO:dedupe.training:SimplePredicate: (alphaNumericPredicate, user_name)\n"
     ]
    }
   ],
   "source": [
    "training_file = 'csv_example_training.json'\n",
    "\n",
    "if os.path.exists(training_file):\n",
    "    print('reading labeled examples from ', training_file)\n",
    "    with open(training_file, 'rb') as f:\n",
    "        deduper.prepare_training(customers.T.to_dict(), f)\n",
    "else:\n",
    "    deduper.prepare_training(customers.T.to_dict())\n",
    "\n",
    "if os.path.exists(training_file):\n",
    "    print('reading labeled examples from ', training_file)\n",
    "    with open(training_file, 'rb') as f:\n",
    "        deduper.prepare_training(customers.T.to_dict(), f)\n",
    "else:\n",
    "    deduper.prepare_training(customers.T.to_dict())"
   ]
  },
  {
   "cell_type": "markdown",
   "metadata": {},
   "source": [
    "Wenn Ihr fertig seid, speichert eure Trainingsdaten:"
   ]
  },
  {
   "cell_type": "code",
   "execution_count": 12,
   "metadata": {},
   "outputs": [
    {
     "name": "stderr",
     "output_type": "stream",
     "text": [
      "INFO:rlr.crossvalidation:using cross validation to find optimum alpha...\n",
      "/Users/veit/cusy/trn/jupyter-tutorial-de/lib/python3.9/site-packages/rlr/crossvalidation.py:87: UserWarning: Only providing 2 folds out of 3 requested\n",
      "  warnings.warn(\"Only providing %s folds out of %s requested\" %\n",
      "INFO:rlr.crossvalidation:optimum alpha: 0.000010, score 0.0\n",
      "INFO:dedupe.training:Final predicate set:\n",
      "INFO:dedupe.training:(TfidfTextCanopyPredicate: (0.6, street_address), SimplePredicate: (wholeFieldPredicate, job), SimplePredicate: (sameFiveCharStartPredicate, user_name))\n",
      "INFO:dedupe.training:(SimplePredicate: (twoGramFingerprint, company), SimplePredicate: (commonTwoTokens, state), TfidfNGramCanopyPredicate: (0.6, user_name))\n"
     ]
    }
   ],
   "source": [
    "deduper.train(index_predicates=True)\n",
    "with open(training_file, 'w') as tf:\n",
    "    deduper.write_training(tf)"
   ]
  },
  {
   "cell_type": "markdown",
   "metadata": {},
   "source": [
    "Speichert auch eure Gewichte und Prädikate. Wenn `settings_file` bereits existiert, werden beim nächsten Durchlauf Training und aktives Lernen übersprungen:"
   ]
  },
  {
   "cell_type": "code",
   "execution_count": 13,
   "metadata": {},
   "outputs": [
    {
     "name": "stdout",
     "output_type": "stream",
     "text": [
      "reading from csv_example_learned_settings\n"
     ]
    },
    {
     "name": "stderr",
     "output_type": "stream",
     "text": [
      "INFO:dedupe.api:Predicate set:\n",
      "INFO:dedupe.api:(TfidfNGramCanopyPredicate: (0.8, user_name), TfidfTextCanopyPredicate: (0.8, city), SimplePredicate: (sameThreeCharStartPredicate, email))\n",
      "INFO:dedupe.api:(SimplePredicate: (commonThreeTokens, street_address), TfidfTextCanopyPredicate: (0.8, city), TfidfTextCanopyPredicate: (0.4, email))\n",
      "INFO:dedupe.api:(SimplePredicate: (twoGramFingerprint, street_address), SimplePredicate: (wholeFieldPredicate, company), TfidfNGramCanopyPredicate: (0.8, email))\n",
      "INFO:dedupe.api:(SimplePredicate: (alphaNumericPredicate, user_name), SimplePredicate: (fingerprint, city), TfidfTextCanopyPredicate: (0.4, state))\n",
      "INFO:dedupe.api:(SimplePredicate: (firstTokenPredicate, email), TfidfNGramCanopyPredicate: (0.8, job), TfidfNGramCanopyPredicate: (0.4, company))\n",
      "INFO:dedupe.api:(SimplePredicate: (commonThreeTokens, street_address), SimplePredicate: (wholeFieldPredicate, job), SimplePredicate: (twoGramFingerprint, state))\n",
      "INFO:dedupe.api:(SimplePredicate: (oneGramFingerprint, email), TfidfTextCanopyPredicate: (0.2, job), SimplePredicate: (doubleMetaphone, street_address))\n"
     ]
    }
   ],
   "source": [
    "settings_file = 'csv_example_learned_settings'\n",
    "if os.path.exists(settings_file):\n",
    "    print('reading from', settings_file)\n",
    "    with open(settings_file, 'rb') as f:\n",
    "        deduper = dedupe.StaticDedupe(f)\n",
    "else:\n",
    "    deduper.train(index_predicates=True)\n",
    "    with open(settings_file, 'wb') as sf:\n",
    "        deduper.write_settings(sf)"
   ]
  }
 ],
 "metadata": {
  "kernelspec": {
   "display_name": "Python 3.7.4",
   "language": "python",
   "name": "python-374"
  },
  "language_info": {
   "codemirror_mode": {
    "name": "ipython",
    "version": 3
   },
   "file_extension": ".py",
   "mimetype": "text/x-python",
   "name": "python",
   "nbconvert_exporter": "python",
   "pygments_lexer": "ipython3",
   "version": "3.7.4"
  },
  "latex_envs": {
   "LaTeX_envs_menu_present": true,
   "autoclose": false,
   "autocomplete": true,
   "bibliofile": "biblio.bib",
   "cite_by": "apalike",
   "current_citInitial": 1,
   "eqLabelWithNumbers": true,
   "eqNumInitial": 1,
   "hotkeys": {
    "equation": "Ctrl-E",
    "itemize": "Ctrl-I"
   },
   "labels_anchors": false,
   "latex_user_defs": false,
   "report_style_numbering": false,
   "user_envs_cfg": false
  },
  "widgets": {
   "application/vnd.jupyter.widget-state+json": {
    "state": {},
    "version_major": 2,
    "version_minor": 0
   }
  }
 },
 "nbformat": 4,
 "nbformat_minor": 4
}
