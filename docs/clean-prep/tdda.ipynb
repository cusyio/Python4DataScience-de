{
 "cells": [
  {
   "cell_type": "markdown",
   "metadata": {},
   "source": [
    "# TDDA: Test-Driven Data Analysis\n",
    "\n",
    "[TDDA](https://github.com/tdda/tdda) verwendet Dateieingaben (wie NumPy-Arrays oder Pandas DataFrames) und eine Reihe von Einschränkungen (engl.: _constraints_), die als JSON-Datei gespeichert werden.\n",
    "\n",
    "* `tdda.referencetest` unterstützt die Erstellung von Referenztests, die entweder auf `unittest` oder `pytest` basieren.\n",
    "* `tdda.constraints` wird verwendet, um Constraints aus einem (Pandas)-DataFrame zu ermitteln, sie als JSON auszuschreiben und zu überprüfen, ob Datensätze die Constraints in der Constraints-Datei erfüllen. Es unterstützt auch Tabellen in einer Vielzahl von relationalen Datenbanken.\n",
    "* `tdda.rexpy` ist ein Werkzeug zur automatischen Ableitung von regulären Ausdrücken aus einer Spalte in einem Pandas DataFrame oder aus einer (Python)-Liste von Beispielen."
   ]
  },
  {
   "cell_type": "markdown",
   "metadata": {},
   "source": [
    "## 1. Importe"
   ]
  },
  {
   "cell_type": "code",
   "execution_count": 1,
   "metadata": {},
   "outputs": [],
   "source": [
    "import pandas as pd\n",
    "import numpy as np\n",
    "from tdda.constraints import discover_df, verify_df"
   ]
  },
  {
   "cell_type": "code",
   "execution_count": 2,
   "metadata": {},
   "outputs": [],
   "source": [
    "df = pd.read_csv('iot_example.csv')"
   ]
  },
  {
   "cell_type": "markdown",
   "metadata": {},
   "source": [
    "## 2. Daten überprüfen\n",
    "\n",
    "Mit [pandas.DataFrame.sample](https://pandas.pydata.org/docs/reference/api/pandas.DataFrame.sample.html) lassen wir uns die ersten zehn Datensätze anzeigen:"
   ]
  },
  {
   "cell_type": "code",
   "execution_count": 3,
   "metadata": {},
   "outputs": [
    {
     "data": {
      "text/html": [
       "<div>\n",
       "<style scoped>\n",
       "    .dataframe tbody tr th:only-of-type {\n",
       "        vertical-align: middle;\n",
       "    }\n",
       "\n",
       "    .dataframe tbody tr th {\n",
       "        vertical-align: top;\n",
       "    }\n",
       "\n",
       "    .dataframe thead th {\n",
       "        text-align: right;\n",
       "    }\n",
       "</style>\n",
       "<table border=\"1\" class=\"dataframe\">\n",
       "  <thead>\n",
       "    <tr style=\"text-align: right;\">\n",
       "      <th></th>\n",
       "      <th>timestamp</th>\n",
       "      <th>username</th>\n",
       "      <th>temperature</th>\n",
       "      <th>heartrate</th>\n",
       "      <th>build</th>\n",
       "      <th>latest</th>\n",
       "      <th>note</th>\n",
       "    </tr>\n",
       "  </thead>\n",
       "  <tbody>\n",
       "    <tr>\n",
       "      <th>39897</th>\n",
       "      <td>2017-01-17T10:34:58</td>\n",
       "      <td>starknicholas</td>\n",
       "      <td>9</td>\n",
       "      <td>63</td>\n",
       "      <td>8aa3d627-c9b4-b57e-bb32-012b7ad30033</td>\n",
       "      <td>1</td>\n",
       "      <td>sleep</td>\n",
       "    </tr>\n",
       "    <tr>\n",
       "      <th>56184</th>\n",
       "      <td>2017-01-23T22:48:32</td>\n",
       "      <td>hendersonsteven</td>\n",
       "      <td>11</td>\n",
       "      <td>70</td>\n",
       "      <td>1feb8055-fbe9-88dc-ddea-01d35aadc6f3</td>\n",
       "      <td>0</td>\n",
       "      <td>user</td>\n",
       "    </tr>\n",
       "    <tr>\n",
       "      <th>79080</th>\n",
       "      <td>2017-02-02T03:07:30</td>\n",
       "      <td>wardtimothy</td>\n",
       "      <td>7</td>\n",
       "      <td>79</td>\n",
       "      <td>787bcdfb-4a56-d377-a6ee-c534ad477814</td>\n",
       "      <td>1</td>\n",
       "      <td>NaN</td>\n",
       "    </tr>\n",
       "    <tr>\n",
       "      <th>59493</th>\n",
       "      <td>2017-01-25T06:39:51</td>\n",
       "      <td>xevans</td>\n",
       "      <td>27</td>\n",
       "      <td>74</td>\n",
       "      <td>6aa43c1d-2e74-3247-fa8d-699e38a4a0bd</td>\n",
       "      <td>0</td>\n",
       "      <td>interval</td>\n",
       "    </tr>\n",
       "    <tr>\n",
       "      <th>143746</th>\n",
       "      <td>2017-02-27T22:40:25</td>\n",
       "      <td>aaron53</td>\n",
       "      <td>18</td>\n",
       "      <td>83</td>\n",
       "      <td>c61a9b30-404c-d76a-19a4-22e27b6727c7</td>\n",
       "      <td>0</td>\n",
       "      <td>user</td>\n",
       "    </tr>\n",
       "    <tr>\n",
       "      <th>39847</th>\n",
       "      <td>2017-01-17T10:05:42</td>\n",
       "      <td>amynichols</td>\n",
       "      <td>20</td>\n",
       "      <td>64</td>\n",
       "      <td>ac97a2bb-f7db-976c-4063-836c3a931345</td>\n",
       "      <td>0</td>\n",
       "      <td>user</td>\n",
       "    </tr>\n",
       "    <tr>\n",
       "      <th>20457</th>\n",
       "      <td>2017-01-09T16:02:10</td>\n",
       "      <td>jonessarah</td>\n",
       "      <td>22</td>\n",
       "      <td>84</td>\n",
       "      <td>9a5e10ab-477c-793d-312e-957ff63031e5</td>\n",
       "      <td>0</td>\n",
       "      <td>NaN</td>\n",
       "    </tr>\n",
       "    <tr>\n",
       "      <th>123208</th>\n",
       "      <td>2017-02-19T17:19:59</td>\n",
       "      <td>jperkins</td>\n",
       "      <td>15</td>\n",
       "      <td>70</td>\n",
       "      <td>2eb83fa8-b99c-9e70-a89e-a0003aef7c57</td>\n",
       "      <td>0</td>\n",
       "      <td>sleep</td>\n",
       "    </tr>\n",
       "    <tr>\n",
       "      <th>80161</th>\n",
       "      <td>2017-02-02T13:27:04</td>\n",
       "      <td>allenjones</td>\n",
       "      <td>6</td>\n",
       "      <td>72</td>\n",
       "      <td>ec921130-a5e3-9b0a-e9aa-88cee0e74b7c</td>\n",
       "      <td>1</td>\n",
       "      <td>user</td>\n",
       "    </tr>\n",
       "    <tr>\n",
       "      <th>145244</th>\n",
       "      <td>2017-02-28T13:00:35</td>\n",
       "      <td>davidreese</td>\n",
       "      <td>19</td>\n",
       "      <td>72</td>\n",
       "      <td>a4f85ee7-7a79-a400-71f9-6f2316b55ebb</td>\n",
       "      <td>0</td>\n",
       "      <td>wake</td>\n",
       "    </tr>\n",
       "  </tbody>\n",
       "</table>\n",
       "</div>"
      ],
      "text/plain": [
       "                  timestamp         username  temperature  heartrate  \\\n",
       "39897   2017-01-17T10:34:58    starknicholas            9         63   \n",
       "56184   2017-01-23T22:48:32  hendersonsteven           11         70   \n",
       "79080   2017-02-02T03:07:30      wardtimothy            7         79   \n",
       "59493   2017-01-25T06:39:51           xevans           27         74   \n",
       "143746  2017-02-27T22:40:25          aaron53           18         83   \n",
       "39847   2017-01-17T10:05:42       amynichols           20         64   \n",
       "20457   2017-01-09T16:02:10       jonessarah           22         84   \n",
       "123208  2017-02-19T17:19:59         jperkins           15         70   \n",
       "80161   2017-02-02T13:27:04       allenjones            6         72   \n",
       "145244  2017-02-28T13:00:35       davidreese           19         72   \n",
       "\n",
       "                                       build  latest      note  \n",
       "39897   8aa3d627-c9b4-b57e-bb32-012b7ad30033       1     sleep  \n",
       "56184   1feb8055-fbe9-88dc-ddea-01d35aadc6f3       0      user  \n",
       "79080   787bcdfb-4a56-d377-a6ee-c534ad477814       1       NaN  \n",
       "59493   6aa43c1d-2e74-3247-fa8d-699e38a4a0bd       0  interval  \n",
       "143746  c61a9b30-404c-d76a-19a4-22e27b6727c7       0      user  \n",
       "39847   ac97a2bb-f7db-976c-4063-836c3a931345       0      user  \n",
       "20457   9a5e10ab-477c-793d-312e-957ff63031e5       0       NaN  \n",
       "123208  2eb83fa8-b99c-9e70-a89e-a0003aef7c57       0     sleep  \n",
       "80161   ec921130-a5e3-9b0a-e9aa-88cee0e74b7c       1      user  \n",
       "145244  a4f85ee7-7a79-a400-71f9-6f2316b55ebb       0      wake  "
      ]
     },
     "execution_count": 3,
     "metadata": {},
     "output_type": "execute_result"
    }
   ],
   "source": [
    "df.sample(10)"
   ]
  },
  {
   "cell_type": "markdown",
   "metadata": {},
   "source": [
    "Und mit [pandas.DataFrame.dtypes](https://pandas.pydata.org/docs/reference/api/pandas.DataFrame.dtypes.html) lassen wir uns die Datentypen für die einzelnen Spalten anzeigen:"
   ]
  },
  {
   "cell_type": "code",
   "execution_count": 4,
   "metadata": {},
   "outputs": [
    {
     "data": {
      "text/plain": [
       "timestamp      object\n",
       "username       object\n",
       "temperature     int64\n",
       "heartrate       int64\n",
       "build          object\n",
       "latest          int64\n",
       "note           object\n",
       "dtype: object"
      ]
     },
     "execution_count": 4,
     "metadata": {},
     "output_type": "execute_result"
    }
   ],
   "source": [
    "df.dtypes"
   ]
  },
  {
   "cell_type": "markdown",
   "metadata": {},
   "source": [
    "## 3. Erstellen eines _constraints_-Objekt\n",
    "\n",
    "Mit `discover_constraints` kann ein Vonstraints-Objekt erzeugt werden."
   ]
  },
  {
   "cell_type": "code",
   "execution_count": 5,
   "metadata": {},
   "outputs": [],
   "source": [
    "constraints = discover_df(df)"
   ]
  },
  {
   "cell_type": "code",
   "execution_count": 6,
   "metadata": {},
   "outputs": [
    {
     "data": {
      "text/plain": [
       "<tdda.constraints.base.DatasetConstraints at 0x7fd9c14955e0>"
      ]
     },
     "execution_count": 6,
     "metadata": {},
     "output_type": "execute_result"
    }
   ],
   "source": [
    "constraints"
   ]
  },
  {
   "cell_type": "code",
   "execution_count": 7,
   "metadata": {},
   "outputs": [
    {
     "data": {
      "text/plain": [
       "Fields([('timestamp',\n",
       "         <tdda.constraints.base.FieldConstraints at 0x7fd9c43e4b50>),\n",
       "        ('username',\n",
       "         <tdda.constraints.base.FieldConstraints at 0x7fd9c1495a90>),\n",
       "        ('temperature',\n",
       "         <tdda.constraints.base.FieldConstraints at 0x7fd9c1495df0>),\n",
       "        ('heartrate',\n",
       "         <tdda.constraints.base.FieldConstraints at 0x7fd9c14a8190>),\n",
       "        ('build', <tdda.constraints.base.FieldConstraints at 0x7fd9c14a84f0>),\n",
       "        ('latest', <tdda.constraints.base.FieldConstraints at 0x7fd9c14a8850>),\n",
       "        ('note', <tdda.constraints.base.FieldConstraints at 0x7fd9c14a8b80>)])"
      ]
     },
     "execution_count": 7,
     "metadata": {},
     "output_type": "execute_result"
    }
   ],
   "source": [
    "constraints.fields"
   ]
  },
  {
   "cell_type": "markdown",
   "metadata": {},
   "source": [
    "## 4. Schreiben der _Constraints_ in eine Datei"
   ]
  },
  {
   "cell_type": "code",
   "execution_count": 8,
   "metadata": {},
   "outputs": [],
   "source": [
    "with open('../../data/ignore-iot_constraints.tdda', 'w') as f:\n",
    "    f.write(constraints.to_json())"
   ]
  },
  {
   "cell_type": "markdown",
   "metadata": {},
   "source": [
    "Wenn wir uns die Datei genauer betrachten können wir erkennen, dass z.B. für die `timestamp`-Spalte eine Zeichenkette mit 19 Zeichen erwartet wird und `temperature` Integer mit Werten von 5–29 erwartet."
   ]
  },
  {
   "cell_type": "code",
   "execution_count": 9,
   "metadata": {},
   "outputs": [
    {
     "name": "stdout",
     "output_type": "stream",
     "text": [
      "{\r\n",
      "    \"creation_metadata\": {\r\n",
      "        \"local_time\": \"2020-07-06 14:14:58\",\r\n",
      "        \"utc_time\": \"2020-07-06 12:12:58\",\r\n",
      "        \"creator\": \"TDDA 1.0.31\",\r\n",
      "        \"host\": \"eve.local\",\r\n",
      "        \"user\": \"veit\",\r\n",
      "        \"n_records\": 146397,\r\n",
      "        \"n_selected\": 146397\r\n",
      "    },\r\n",
      "    \"fields\": {\r\n",
      "        \"timestamp\": {\r\n",
      "            \"type\": \"string\",\r\n",
      "            \"min_length\": 19,\r\n",
      "            \"max_length\": 19,\r\n",
      "            \"max_nulls\": 0,\r\n",
      "            \"no_duplicates\": true\r\n",
      "        },\r\n",
      "        \"username\": {\r\n",
      "            \"type\": \"string\",\r\n",
      "            \"min_length\": 3,\r\n",
      "            \"max_length\": 21,\r\n",
      "            \"max_nulls\": 0\r\n",
      "        },\r\n",
      "        \"temperature\": {\r\n",
      "            \"type\": \"int\",\r\n",
      "            \"min\": 5,\r\n",
      "            \"max\": 29,\r\n",
      "            \"sign\": \"positive\",\r\n",
      "            \"max_nulls\": 0\r\n",
      "        },\r\n",
      "        \"heartrate\": {\r\n",
      "            \"type\": \"int\",\r\n",
      "            \"min\": 60,\r\n",
      "            \"max\": 89,\r\n",
      "            \"sign\": \"positive\",\r\n",
      "            \"max_nulls\": 0\r\n",
      "        },\r\n",
      "        \"build\": {\r\n",
      "            \"type\": \"string\",\r\n",
      "            \"min_length\": 36,\r\n",
      "            \"max_length\": 36,\r\n",
      "            \"max_nulls\": 0,\r\n",
      "            \"no_duplicates\": true\r\n",
      "        },\r\n",
      "        \"latest\": {\r\n",
      "            \"type\": \"int\",\r\n",
      "            \"min\": 0,\r\n",
      "            \"max\": 1,\r\n",
      "            \"sign\": \"non-negative\",\r\n",
      "            \"max_nulls\": 0\r\n",
      "        },\r\n",
      "        \"note\": {\r\n",
      "            \"type\": \"string\",\r\n",
      "            \"min_length\": 4,\r\n",
      "            \"max_length\": 8,\r\n",
      "            \"allowed_values\": [\r\n",
      "                \"interval\",\r\n",
      "                \"sleep\",\r\n",
      "                \"test\",\r\n",
      "                \"update\",\r\n",
      "                \"user\",\r\n",
      "                \"wake\"\r\n",
      "            ]\r\n",
      "        }\r\n",
      "    }\r\n",
      "}\r\n"
     ]
    }
   ],
   "source": [
    "cat ../../data/ignore-iot_constraints.tdda"
   ]
  },
  {
   "cell_type": "markdown",
   "metadata": {},
   "source": [
    "## 5. Überprüfen von Dataframes mit `verify_df`"
   ]
  },
  {
   "cell_type": "code",
   "execution_count": 12,
   "metadata": {},
   "outputs": [
    {
     "data": {
      "text/html": [
       "<div>\n",
       "<style scoped>\n",
       "    .dataframe tbody tr th:only-of-type {\n",
       "        vertical-align: middle;\n",
       "    }\n",
       "\n",
       "    .dataframe tbody tr th {\n",
       "        vertical-align: top;\n",
       "    }\n",
       "\n",
       "    .dataframe thead th {\n",
       "        text-align: right;\n",
       "    }\n",
       "</style>\n",
       "<table border=\"1\" class=\"dataframe\">\n",
       "  <thead>\n",
       "    <tr style=\"text-align: right;\">\n",
       "      <th></th>\n",
       "      <th>timestamp</th>\n",
       "      <th>username</th>\n",
       "      <th>temperature</th>\n",
       "      <th>heartrate</th>\n",
       "      <th>build</th>\n",
       "      <th>latest</th>\n",
       "      <th>note</th>\n",
       "    </tr>\n",
       "  </thead>\n",
       "  <tbody>\n",
       "    <tr>\n",
       "      <th>8818</th>\n",
       "      <td>2017-01-05T00:34:21</td>\n",
       "      <td>harmstrong</td>\n",
       "      <td>9.0</td>\n",
       "      <td>69</td>\n",
       "      <td>705516c5-fd62-feed-6132-b6f6b71a4432</td>\n",
       "      <td>NaN</td>\n",
       "      <td>wake</td>\n",
       "    </tr>\n",
       "    <tr>\n",
       "      <th>138815</th>\n",
       "      <td>2017-02-25T23:17:20</td>\n",
       "      <td>bcarter</td>\n",
       "      <td>22.0</td>\n",
       "      <td>81</td>\n",
       "      <td>7e8b8857-f8fa-9706-4ca2-b34df07a0f71</td>\n",
       "      <td>0.0</td>\n",
       "      <td>wake</td>\n",
       "    </tr>\n",
       "    <tr>\n",
       "      <th>85685</th>\n",
       "      <td>2017-02-04T18:30:05</td>\n",
       "      <td>jamesbowers</td>\n",
       "      <td>24.0</td>\n",
       "      <td>64</td>\n",
       "      <td>9ef319f5-f9a5-2b57-a9a6-cdba73ff5e0a</td>\n",
       "      <td>0.0</td>\n",
       "      <td>sleep</td>\n",
       "    </tr>\n",
       "    <tr>\n",
       "      <th>111712</th>\n",
       "      <td>2017-02-15T03:28:26</td>\n",
       "      <td>twilson</td>\n",
       "      <td>9.0</td>\n",
       "      <td>87</td>\n",
       "      <td>c7312d98-96c0-5c91-1454-bf9877f59c97</td>\n",
       "      <td>0.0</td>\n",
       "      <td>user</td>\n",
       "    </tr>\n",
       "    <tr>\n",
       "      <th>137874</th>\n",
       "      <td>2017-02-25T14:13:33</td>\n",
       "      <td>lortiz</td>\n",
       "      <td>6.0</td>\n",
       "      <td>79</td>\n",
       "      <td>c0dc0221-4cc0-ee70-6b41-7b5f599f2c18</td>\n",
       "      <td>NaN</td>\n",
       "      <td>user</td>\n",
       "    </tr>\n",
       "    <tr>\n",
       "      <th>80105</th>\n",
       "      <td>2017-02-02T12:55:29</td>\n",
       "      <td>spencekimberly</td>\n",
       "      <td>NaN</td>\n",
       "      <td>68</td>\n",
       "      <td>4153f98f-a392-201d-de11-08b1b3fade2c</td>\n",
       "      <td>NaN</td>\n",
       "      <td>NaN</td>\n",
       "    </tr>\n",
       "    <tr>\n",
       "      <th>67483</th>\n",
       "      <td>2017-01-28T11:23:34</td>\n",
       "      <td>higginsderek</td>\n",
       "      <td>27.0</td>\n",
       "      <td>74</td>\n",
       "      <td>03b16390-1ca5-460f-8274-f50fe226b0ee</td>\n",
       "      <td>0.0</td>\n",
       "      <td>user</td>\n",
       "    </tr>\n",
       "    <tr>\n",
       "      <th>73082</th>\n",
       "      <td>2017-01-30T17:20:00</td>\n",
       "      <td>kevinsimmons</td>\n",
       "      <td>19.0</td>\n",
       "      <td>75</td>\n",
       "      <td>1dd63d93-d4ef-2618-55ee-9883899d4c21</td>\n",
       "      <td>1.0</td>\n",
       "      <td>sleep</td>\n",
       "    </tr>\n",
       "    <tr>\n",
       "      <th>41612</th>\n",
       "      <td>2017-01-18T03:11:24</td>\n",
       "      <td>jprice</td>\n",
       "      <td>18.0</td>\n",
       "      <td>85</td>\n",
       "      <td>bee3e5be-9ee5-7f31-b888-6d569bcc14b2</td>\n",
       "      <td>1.0</td>\n",
       "      <td>NaN</td>\n",
       "    </tr>\n",
       "    <tr>\n",
       "      <th>113126</th>\n",
       "      <td>2017-02-15T17:04:13</td>\n",
       "      <td>lisaunderwood</td>\n",
       "      <td>NaN</td>\n",
       "      <td>85</td>\n",
       "      <td>7ab4a7e3-9635-52b0-3c98-0ec35aebedaa</td>\n",
       "      <td>0.0</td>\n",
       "      <td>NaN</td>\n",
       "    </tr>\n",
       "  </tbody>\n",
       "</table>\n",
       "</div>"
      ],
      "text/plain": [
       "                  timestamp        username  temperature  heartrate  \\\n",
       "8818    2017-01-05T00:34:21      harmstrong          9.0         69   \n",
       "138815  2017-02-25T23:17:20         bcarter         22.0         81   \n",
       "85685   2017-02-04T18:30:05     jamesbowers         24.0         64   \n",
       "111712  2017-02-15T03:28:26         twilson          9.0         87   \n",
       "137874  2017-02-25T14:13:33          lortiz          6.0         79   \n",
       "80105   2017-02-02T12:55:29  spencekimberly          NaN         68   \n",
       "67483   2017-01-28T11:23:34    higginsderek         27.0         74   \n",
       "73082   2017-01-30T17:20:00    kevinsimmons         19.0         75   \n",
       "41612   2017-01-18T03:11:24          jprice         18.0         85   \n",
       "113126  2017-02-15T17:04:13   lisaunderwood          NaN         85   \n",
       "\n",
       "                                       build  latest   note  \n",
       "8818    705516c5-fd62-feed-6132-b6f6b71a4432     NaN   wake  \n",
       "138815  7e8b8857-f8fa-9706-4ca2-b34df07a0f71     0.0   wake  \n",
       "85685   9ef319f5-f9a5-2b57-a9a6-cdba73ff5e0a     0.0  sleep  \n",
       "111712  c7312d98-96c0-5c91-1454-bf9877f59c97     0.0   user  \n",
       "137874  c0dc0221-4cc0-ee70-6b41-7b5f599f2c18     NaN   user  \n",
       "80105   4153f98f-a392-201d-de11-08b1b3fade2c     NaN    NaN  \n",
       "67483   03b16390-1ca5-460f-8274-f50fe226b0ee     0.0   user  \n",
       "73082   1dd63d93-d4ef-2618-55ee-9883899d4c21     1.0  sleep  \n",
       "41612   bee3e5be-9ee5-7f31-b888-6d569bcc14b2     1.0    NaN  \n",
       "113126  7ab4a7e3-9635-52b0-3c98-0ec35aebedaa     0.0    NaN  "
      ]
     },
     "execution_count": 12,
     "metadata": {},
     "output_type": "execute_result"
    }
   ],
   "source": [
    "new_df = pd.read_csv('iot_example_with_nulls.csv')\n",
    "new_df.sample(10)"
   ]
  },
  {
   "cell_type": "code",
   "execution_count": 11,
   "metadata": {},
   "outputs": [],
   "source": [
    "v = verify_df(new_df, '../../data/ignore-iot_constraints.tdda')"
   ]
  }
 ],
 "metadata": {
  "kernelspec": {
   "display_name": "Python 3.7.4",
   "language": "python",
   "name": "python-374"
  },
  "language_info": {
   "codemirror_mode": {
    "name": "ipython",
    "version": 3
   },
   "file_extension": ".py",
   "mimetype": "text/x-python",
   "name": "python",
   "nbconvert_exporter": "python",
   "pygments_lexer": "ipython3",
   "version": "3.7.4"
  },
  "latex_envs": {
   "LaTeX_envs_menu_present": true,
   "autoclose": false,
   "autocomplete": true,
   "bibliofile": "biblio.bib",
   "cite_by": "apalike",
   "current_citInitial": 1,
   "eqLabelWithNumbers": true,
   "eqNumInitial": 1,
   "hotkeys": {
    "equation": "Ctrl-E",
    "itemize": "Ctrl-I"
   },
   "labels_anchors": false,
   "latex_user_defs": false,
   "report_style_numbering": false,
   "user_envs_cfg": false
  },
  "widgets": {
   "application/vnd.jupyter.widget-state+json": {
    "state": {},
    "version_major": 2,
    "version_minor": 0
   }
  }
 },
 "nbformat": 4,
 "nbformat_minor": 4
}
