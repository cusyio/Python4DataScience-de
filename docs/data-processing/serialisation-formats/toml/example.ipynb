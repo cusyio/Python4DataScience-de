{
 "cells": [
  {
   "cell_type": "markdown",
   "id": "38c1bac0",
   "metadata": {},
   "source": [
    "# Beispiel\n",
    "\n",
    "[pyproject.toml](https://github.com/veit/jupyter-tutorial/blob/main/pyproject.toml)"
   ]
  },
  {
   "cell_type": "markdown",
   "id": "33f107f9",
   "metadata": {},
   "source": [
    "```toml\n",
    "[tool.black]\n",
    "line-length = 79\n",
    "\n",
    "[tool.isort]\n",
    "atomic=true\n",
    "force_grid_wrap=0\n",
    "include_trailing_comma=true\n",
    "lines_after_imports=2\n",
    "lines_between_types=1\n",
    "multi_line_output=3\n",
    "not_skip=\"__init__.py\"\n",
    "use_parentheses=true\n",
    "\n",
    "known_first_party=\"jupyter-tutorial\"\n",
    "known_third_party=[\"mpi4py\", \"numpy\", \"requests\"]\n",
    "```"
   ]
  },
  {
   "cell_type": "markdown",
   "id": "5a2aed06",
   "metadata": {},
   "source": [
    "Für Python < 3.11 benötigt ihr das Python-Paket toml, um TOML-Dateien in Python-Dictionaries umwandeln zu können. Anschließend könnt ihr TOML-Dateien laden, z.B. mit:"
   ]
  },
  {
   "cell_type": "code",
   "execution_count": 1,
   "id": "45f603bd",
   "metadata": {},
   "outputs": [
    {
     "data": {
      "text/plain": [
       "{'tool': {'black': {'line-length': 79},\n",
       "  'isort': {'atomic': True,\n",
       "   'force_grid_wrap': 0,\n",
       "   'include_trailing_comma': True,\n",
       "   'lines_after_imports': 2,\n",
       "   'lines_between_types': 1,\n",
       "   'multi_line_output': 3,\n",
       "   'not_skip': '__init__.py',\n",
       "   'use_parentheses': True,\n",
       "   'known_first_party': 'jupyter-tutorial',\n",
       "   'known_third_party': ['mpi4py', 'numpy', 'requests']}}}"
      ]
     },
     "execution_count": 1,
     "metadata": {},
     "output_type": "execute_result"
    }
   ],
   "source": [
    "import toml\n",
    "\n",
    "config = toml.load('pyproject.toml')\n",
    "\n",
    "config"
   ]
  }
 ],
 "metadata": {
  "kernelspec": {
   "display_name": "Python 3.8",
   "language": "python",
   "name": "python-38"
  },
  "language_info": {
   "codemirror_mode": {
    "name": "ipython",
    "version": 3
   },
   "file_extension": ".py",
   "mimetype": "text/x-python",
   "name": "python",
   "nbconvert_exporter": "python",
   "pygments_lexer": "ipython3",
   "version": "3.8.12"
  },
  "widgets": {
   "application/vnd.jupyter.widget-state+json": {
    "state": {},
    "version_major": 2,
    "version_minor": 0
   }
  }
 },
 "nbformat": 4,
 "nbformat_minor": 5
}
