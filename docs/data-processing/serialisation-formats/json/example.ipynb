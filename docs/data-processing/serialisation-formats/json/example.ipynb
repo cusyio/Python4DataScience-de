{
 "cells": [
  {
   "cell_type": "markdown",
   "id": "2cbfa37d",
   "metadata": {},
   "source": [
    "# JSON-Beispiel\n",
    "\n",
    "JSON (kurz für _JavaScript Object Notation_) hat sich zu einem der Standardformate für die Übermittlung von Daten per HTTP-Anfrage zwischen Webbrowsern und anderen Anwendungen entwickelt. Hier ist ein Beispiel:"
   ]
  },
  {
   "cell_type": "code",
   "execution_count": 1,
   "id": "66e1ec98",
   "metadata": {},
   "outputs": [],
   "source": [
    "books = \"\"\"\n",
    "[\n",
    "    {\n",
    "        \"Titel\": \"Python basics\",\n",
    "        \"Sprache\": \"en\",\n",
    "        \"Autor*innen\": \"Veit Schiele\",\n",
    "        \"Lizenz\": \"BSD-3-Clause\",\n",
    "        \"Veröffentlichungsdatum\": \"2021-10-28\"\n",
    "    },\n",
    "    {\n",
    "        \"Titel\": \"Jupyter Tutorial\",\n",
    "        \"Sprache\": \"en\",\n",
    "        \"Autor*innen\": \"Veit Schiele\",\n",
    "        \"Lizenz\": \"BSD-3-Clause\",\n",
    "        \"Veröffentlichungsdatum\": \"2019-06-27\"\n",
    "    }\n",
    "]\n",
    "\"\"\""
   ]
  },
  {
   "cell_type": "markdown",
   "id": "b55dae8c",
   "metadata": {},
   "source": [
    "JSON ähnelt Python-Code, mit Ausnahme des Nullwerts `null` und dem Verbot von Kommas am Ende von Listen. Die Grundtypen sind Objekte (Dicts), Arrays (Listen), Zeichenketten, Zahlen, Boolesche Werte und `null`. Alle Schlüssel eines Objekts müssen Zeichenketten sein. Es gibt mehrere Python-Bibliotheken zum Lesen und Schreiben von JSON-Daten. Ich werde hier [json](https://docs.python.org/3/library/json.html) aus der Python-Standardbibliothek verwenden. Um einen JSON-String in die Python-Form zu konvertieren, verwende ich `json.loads`:"
   ]
  },
  {
   "cell_type": "code",
   "execution_count": 2,
   "id": "3e0a6b49",
   "metadata": {},
   "outputs": [
    {
     "data": {
      "text/plain": [
       "[{'Titel': 'Python basics',\n",
       "  'Sprache': 'en',\n",
       "  'Autor*innen': 'Veit Schiele',\n",
       "  'Lizenz': 'BSD-3-Clause',\n",
       "  'Veröffentlichungsdatum': '2021-10-28'},\n",
       " {'Titel': 'Jupyter Tutorial',\n",
       "  'Sprache': 'en',\n",
       "  'Autor*innen': 'Veit Schiele',\n",
       "  'Lizenz': 'BSD-3-Clause',\n",
       "  'Veröffentlichungsdatum': '2019-06-27'}]"
      ]
     },
     "execution_count": 2,
     "metadata": {},
     "output_type": "execute_result"
    }
   ],
   "source": [
    "import json\n",
    "\n",
    "results2 = json.loads(books)\n",
    "\n",
    "results2"
   ]
  },
  {
   "cell_type": "markdown",
   "id": "afd63c41",
   "metadata": {},
   "source": [
    "[json.dumps](https://docs.python.org/3/library/json.html#json.dumps) hingegen konvertiert ein Python-Objekt zurück nach JSON:"
   ]
  },
  {
   "cell_type": "code",
   "execution_count": 3,
   "id": "86a176a6",
   "metadata": {},
   "outputs": [
    {
     "data": {
      "text/plain": [
       "'[{\"Titel\": \"Python basics\", \"Sprache\": \"en\", \"Autor*innen\": \"Veit Schiele\", \"Lizenz\": \"BSD-3-Clause\", \"Ver\\\\u00f6ffentlichungsdatum\": \"2021-10-28\"}, {\"Titel\": \"Jupyter Tutorial\", \"Sprache\": \"en\", \"Autor*innen\": \"Veit Schiele\", \"Lizenz\": \"BSD-3-Clause\", \"Ver\\\\u00f6ffentlichungsdatum\": \"2019-06-27\"}]'"
      ]
     },
     "execution_count": 3,
     "metadata": {},
     "output_type": "execute_result"
    }
   ],
   "source": [
    "asjson = json.dumps(results2)\n",
    "\n",
    "asjson"
   ]
  },
  {
   "cell_type": "markdown",
   "id": "a63019b1",
   "metadata": {},
   "source": [
    "Wie ihr ein JSON-Objekt oder eine Liste von Objekten in einen DataFrame oder eine andere Datenstruktur für die Analyse konvertiert, bleibt euch überlassen. Praktischerweise könnt ihr eine Liste von Dicts (die zuvor JSON-Objekte waren) an den DataFrame-Konstruktor übergeben:"
   ]
  },
  {
   "cell_type": "code",
   "execution_count": 4,
   "id": "18a16f05",
   "metadata": {},
   "outputs": [
    {
     "data": {
      "text/html": [
       "<div>\n",
       "<style scoped>\n",
       "    .dataframe tbody tr th:only-of-type {\n",
       "        vertical-align: middle;\n",
       "    }\n",
       "\n",
       "    .dataframe tbody tr th {\n",
       "        vertical-align: top;\n",
       "    }\n",
       "\n",
       "    .dataframe thead th {\n",
       "        text-align: right;\n",
       "    }\n",
       "</style>\n",
       "<table border=\"1\" class=\"dataframe\">\n",
       "  <thead>\n",
       "    <tr style=\"text-align: right;\">\n",
       "      <th></th>\n",
       "      <th>Titel</th>\n",
       "      <th>Sprache</th>\n",
       "      <th>Autor*innen</th>\n",
       "      <th>Lizenz</th>\n",
       "      <th>Veröffentlichungsdatum</th>\n",
       "    </tr>\n",
       "  </thead>\n",
       "  <tbody>\n",
       "    <tr>\n",
       "      <th>0</th>\n",
       "      <td>Python basics</td>\n",
       "      <td>en</td>\n",
       "      <td>Veit Schiele</td>\n",
       "      <td>BSD-3-Clause</td>\n",
       "      <td>2021-10-28</td>\n",
       "    </tr>\n",
       "    <tr>\n",
       "      <th>1</th>\n",
       "      <td>Jupyter Tutorial</td>\n",
       "      <td>en</td>\n",
       "      <td>Veit Schiele</td>\n",
       "      <td>BSD-3-Clause</td>\n",
       "      <td>2019-06-27</td>\n",
       "    </tr>\n",
       "  </tbody>\n",
       "</table>\n",
       "</div>"
      ],
      "text/plain": [
       "              Titel Sprache   Autor*innen        Lizenz Veröffentlichungsdatum\n",
       "0     Python basics      en  Veit Schiele  BSD-3-Clause             2021-10-28\n",
       "1  Jupyter Tutorial      en  Veit Schiele  BSD-3-Clause             2019-06-27"
      ]
     },
     "execution_count": 4,
     "metadata": {},
     "output_type": "execute_result"
    }
   ],
   "source": [
    "import pandas as pd\n",
    "\n",
    "df = pd.DataFrame(results2)\n",
    "\n",
    "df"
   ]
  },
  {
   "cell_type": "markdown",
   "id": "4bca70a3",
   "metadata": {},
   "source": [
    "[pandas.read_json](https://pandas.pydata.org/docs/reference/api/pandas.read_json.html) kann JSON-Datensätze in bestimmten Anordnungen automatisch in eine Serie oder einen DataFrame umwandeln, z.B.:"
   ]
  },
  {
   "cell_type": "code",
   "execution_count": 5,
   "id": "f917a63f",
   "metadata": {
    "scrolled": true
   },
   "outputs": [
    {
     "data": {
      "text/html": [
       "<div>\n",
       "<style scoped>\n",
       "    .dataframe tbody tr th:only-of-type {\n",
       "        vertical-align: middle;\n",
       "    }\n",
       "\n",
       "    .dataframe tbody tr th {\n",
       "        vertical-align: top;\n",
       "    }\n",
       "\n",
       "    .dataframe thead th {\n",
       "        text-align: right;\n",
       "    }\n",
       "</style>\n",
       "<table border=\"1\" class=\"dataframe\">\n",
       "  <thead>\n",
       "    <tr style=\"text-align: right;\">\n",
       "      <th></th>\n",
       "      <th>Titel</th>\n",
       "      <th>Sprache</th>\n",
       "      <th>Autor*innen</th>\n",
       "      <th>Lizenz</th>\n",
       "      <th>Veröffentlichungsdatum</th>\n",
       "    </tr>\n",
       "  </thead>\n",
       "  <tbody>\n",
       "    <tr>\n",
       "      <th>0</th>\n",
       "      <td>Python basics</td>\n",
       "      <td>en</td>\n",
       "      <td>Veit Schiele</td>\n",
       "      <td>BSD-3-Clause</td>\n",
       "      <td>2021-10-28</td>\n",
       "    </tr>\n",
       "    <tr>\n",
       "      <th>1</th>\n",
       "      <td>Jupyter Tutorial</td>\n",
       "      <td>en</td>\n",
       "      <td>Veit Schiele</td>\n",
       "      <td>BSD-3-Clause</td>\n",
       "      <td>2019-06-27</td>\n",
       "    </tr>\n",
       "    <tr>\n",
       "      <th>2</th>\n",
       "      <td>Jupyter Tutorial</td>\n",
       "      <td>de</td>\n",
       "      <td>Veit Schiele</td>\n",
       "      <td>BSD-3-Clause</td>\n",
       "      <td>2020-10-26</td>\n",
       "    </tr>\n",
       "    <tr>\n",
       "      <th>3</th>\n",
       "      <td>PyViz Tutorial</td>\n",
       "      <td>en</td>\n",
       "      <td>Veit Schiele</td>\n",
       "      <td>BSD-3-Clause</td>\n",
       "      <td>2020-04-13</td>\n",
       "    </tr>\n",
       "  </tbody>\n",
       "</table>\n",
       "</div>"
      ],
      "text/plain": [
       "              Titel Sprache   Autor*innen        Lizenz Veröffentlichungsdatum\n",
       "0     Python basics      en  Veit Schiele  BSD-3-Clause             2021-10-28\n",
       "1  Jupyter Tutorial      en  Veit Schiele  BSD-3-Clause             2019-06-27\n",
       "2  Jupyter Tutorial      de  Veit Schiele  BSD-3-Clause             2020-10-26\n",
       "3    PyViz Tutorial      en  Veit Schiele  BSD-3-Clause             2020-04-13"
      ]
     },
     "execution_count": 5,
     "metadata": {},
     "output_type": "execute_result"
    }
   ],
   "source": [
    "df2 = pd.read_json('array.json')\n",
    "\n",
    "df2"
   ]
  },
  {
   "cell_type": "markdown",
   "id": "22447435",
   "metadata": {},
   "source": [
    "Die Standardoptionen für `pandas.read_json` gehen davon aus, dass jedes Objekt im JSON-Array eine Zeile in der Tabelle ist."
   ]
  },
  {
   "cell_type": "markdown",
   "id": "237a2149",
   "metadata": {},
   "source": [
    "Wenn ihr Daten aus pandas in JSON exportieren wollt, könnt ihr [pandas.DataFrame.to_json](https://pandas.pydata.org/docs/reference/api/pandas.DataFrame.to_json.html) verwenden:"
   ]
  },
  {
   "cell_type": "code",
   "execution_count": 6,
   "id": "30ea2af6",
   "metadata": {},
   "outputs": [
    {
     "name": "stdout",
     "output_type": "stream",
     "text": [
      "{\"Titel\":{\"0\":\"Python basics\",\"1\":\"Jupyter Tutorial\"},\"Sprache\":{\"0\":\"en\",\"1\":\"en\"},\"Autor*innen\":{\"0\":\"Veit Schiele\",\"1\":\"Veit Schiele\"},\"Lizenz\":{\"0\":\"BSD-3-Clause\",\"1\":\"BSD-3-Clause\"},\"Ver\\u00f6ffentlichungsdatum\":{\"0\":\"2021-10-28\",\"1\":\"2019-06-27\"}}\n"
     ]
    }
   ],
   "source": [
    "print(df.to_json())"
   ]
  },
  {
   "cell_type": "code",
   "execution_count": 7,
   "id": "a0065ecc",
   "metadata": {},
   "outputs": [
    {
     "name": "stdout",
     "output_type": "stream",
     "text": [
      "[{\"Titel\":\"Python basics\",\"Sprache\":\"en\",\"Autor*innen\":\"Veit Schiele\",\"Lizenz\":\"BSD-3-Clause\",\"Ver\\u00f6ffentlichungsdatum\":\"2021-10-28\"},{\"Titel\":\"Jupyter Tutorial\",\"Sprache\":\"en\",\"Autor*innen\":\"Veit Schiele\",\"Lizenz\":\"BSD-3-Clause\",\"Ver\\u00f6ffentlichungsdatum\":\"2019-06-27\"}]\n"
     ]
    }
   ],
   "source": [
    "print(df.to_json(orient='records'))"
   ]
  }
 ],
 "metadata": {
  "kernelspec": {
   "display_name": "Python 3.8",
   "language": "python",
   "name": "python-38"
  },
  "language_info": {
   "codemirror_mode": {
    "name": "ipython",
    "version": 3
   },
   "file_extension": ".py",
   "mimetype": "text/x-python",
   "name": "python",
   "nbconvert_exporter": "python",
   "pygments_lexer": "ipython3",
   "version": "3.8.12"
  }
 },
 "nbformat": 4,
 "nbformat_minor": 5
}
