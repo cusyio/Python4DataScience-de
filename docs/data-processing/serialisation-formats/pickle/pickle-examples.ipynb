{
 "cells": [
  {
   "cell_type": "markdown",
   "id": "b0a67390",
   "metadata": {},
   "source": [
    "# Pickle-Beispiele"
   ]
  },
  {
   "cell_type": "markdown",
   "id": "1e3f1486",
   "metadata": {},
   "source": [
    "## Python-`pickle`-Modul\n",
    "\n",
    "In diesem Beispiel wollen wir mit dem Python [pickle](https://docs.python.org/3/library/pickle.html)-Modul das foldende Dict im Pickle-Format speichern:"
   ]
  },
  {
   "cell_type": "code",
   "execution_count": 1,
   "id": "4df6709f",
   "metadata": {},
   "outputs": [],
   "source": [
    "pyviz = {'Titel':'PyViz Tutorial',\n",
    "         'Sprache':'de',\n",
    "         'Autor*innen':'Veit Schiele',\n",
    "         'Lizenz':'BSD-3-Clause',\n",
    "         'Veröffentlichungsdatum':'2020-04-13'\n",
    "}"
   ]
  },
  {
   "cell_type": "code",
   "execution_count": 2,
   "id": "a1b0ed14",
   "metadata": {},
   "outputs": [],
   "source": [
    "import pickle"
   ]
  },
  {
   "cell_type": "code",
   "execution_count": 3,
   "id": "2504a8a1",
   "metadata": {},
   "outputs": [],
   "source": [
    "with open('pyviz.pkl', 'wb') as f:\n",
    "    pickle.dump(pyviz, f, pickle.HIGHEST_PROTOCOL)"
   ]
  },
  {
   "cell_type": "markdown",
   "id": "678c6444",
   "metadata": {},
   "source": [
    "Nun lesen wir die Pickle-Datei wieder ein:"
   ]
  },
  {
   "cell_type": "code",
   "execution_count": 4,
   "id": "209a46ed",
   "metadata": {},
   "outputs": [
    {
     "name": "stdout",
     "output_type": "stream",
     "text": [
      "{'Titel': 'PyViz Tutorial', 'Sprache': 'de', 'Autor*innen': 'Veit Schiele', 'Lizenz': 'BSD-3-Clause', 'Veröffentlichungsdatum': '2020-04-13'}\n"
     ]
    }
   ],
   "source": [
    "with open('pyviz.pkl', 'rb') as f:\n",
    "    pyviz = pickle.load(f)\n",
    "    \n",
    "print(pyviz)"
   ]
  },
  {
   "cell_type": "markdown",
   "id": "02b84446",
   "metadata": {},
   "source": [
    "Auf diese Weise können wir Python-Objekte einfach persistent speichern.\n",
    "\n",
    "> **Warnung:**\n",
    "> \n",
    "> `pickle` kann nur als kurzfristiges Speicherformat empfohlen werden. Das Problem ist, dass nicht garantiert wird, dass das Format im Laufe der Zeit stabil bleibt; ein heute gepickeltes Objekt lässt sich möglicherweise mit einer späteren Version der Bibliothek nicht mehr entpickeln."
   ]
  },
  {
   "cell_type": "markdown",
   "id": "492079d2",
   "metadata": {},
   "source": [
    "## pandas\n",
    "\n",
    "Alle Pandas-Objekte haben eine `to_pickle`-Methode, die Daten im Pickle-Format auf die Festplatte schreibt:"
   ]
  },
  {
   "cell_type": "code",
   "execution_count": 5,
   "id": "3e8c1438",
   "metadata": {},
   "outputs": [
    {
     "data": {
      "text/html": [
       "<div>\n",
       "<style scoped>\n",
       "    .dataframe tbody tr th:only-of-type {\n",
       "        vertical-align: middle;\n",
       "    }\n",
       "\n",
       "    .dataframe tbody tr th {\n",
       "        vertical-align: top;\n",
       "    }\n",
       "\n",
       "    .dataframe thead th {\n",
       "        text-align: right;\n",
       "    }\n",
       "</style>\n",
       "<table border=\"1\" class=\"dataframe\">\n",
       "  <thead>\n",
       "    <tr style=\"text-align: right;\">\n",
       "      <th></th>\n",
       "      <th>Titel</th>\n",
       "      <th>Sprache</th>\n",
       "      <th>Autor*innen</th>\n",
       "      <th>Lizenz</th>\n",
       "      <th>Veröffentlichungsdatum</th>\n",
       "    </tr>\n",
       "  </thead>\n",
       "  <tbody>\n",
       "    <tr>\n",
       "      <th>0</th>\n",
       "      <td>Python basics</td>\n",
       "      <td>en</td>\n",
       "      <td>Veit Schiele</td>\n",
       "      <td>BSD-3-Clause</td>\n",
       "      <td>2021-10-28</td>\n",
       "    </tr>\n",
       "    <tr>\n",
       "      <th>1</th>\n",
       "      <td>Jupyter Tutorial</td>\n",
       "      <td>en</td>\n",
       "      <td>Veit Schiele</td>\n",
       "      <td>BSD-3-Clause</td>\n",
       "      <td>2019-06-27</td>\n",
       "    </tr>\n",
       "    <tr>\n",
       "      <th>2</th>\n",
       "      <td>Jupyter Tutorial</td>\n",
       "      <td>de</td>\n",
       "      <td>Veit Schiele</td>\n",
       "      <td>BSD-3-Clause</td>\n",
       "      <td>2020-10-26</td>\n",
       "    </tr>\n",
       "    <tr>\n",
       "      <th>3</th>\n",
       "      <td>PyViz Tutorial</td>\n",
       "      <td>en</td>\n",
       "      <td>Veit Schiele</td>\n",
       "      <td>BSD-3-Clause</td>\n",
       "      <td>2020-04-13</td>\n",
       "    </tr>\n",
       "  </tbody>\n",
       "</table>\n",
       "</div>"
      ],
      "text/plain": [
       "              Titel Sprache   Autor*innen        Lizenz Veröffentlichungsdatum\n",
       "0     Python basics      en  Veit Schiele  BSD-3-Clause             2021-10-28\n",
       "1  Jupyter Tutorial      en  Veit Schiele  BSD-3-Clause             2019-06-27\n",
       "2  Jupyter Tutorial      de  Veit Schiele  BSD-3-Clause             2020-10-26\n",
       "3    PyViz Tutorial      en  Veit Schiele  BSD-3-Clause             2020-04-13"
      ]
     },
     "execution_count": 5,
     "metadata": {},
     "output_type": "execute_result"
    }
   ],
   "source": [
    "import pandas as pd\n",
    "\n",
    "books = pd.read_pickle('books.pkl')\n",
    "\n",
    "books"
   ]
  },
  {
   "cell_type": "markdown",
   "id": "65d0c640",
   "metadata": {},
   "source": [
    "pandas-Objekte haben alle eine `to_pickle`-Methode, die die Daten im Pickle-Format auf die Festplatte schreibt:"
   ]
  },
  {
   "cell_type": "code",
   "execution_count": 6,
   "id": "cb529da7",
   "metadata": {},
   "outputs": [],
   "source": [
    "books.to_pickle('books.pkl')"
   ]
  }
 ],
 "metadata": {
  "kernelspec": {
   "display_name": "Python 3 (ipykernel)",
   "language": "python",
   "name": "python3"
  },
  "language_info": {
   "codemirror_mode": {
    "name": "ipython",
    "version": 3
   },
   "file_extension": ".py",
   "mimetype": "text/x-python",
   "name": "python",
   "nbconvert_exporter": "python",
   "pygments_lexer": "ipython3",
   "version": "3.8.12"
  }
 },
 "nbformat": 4,
 "nbformat_minor": 5
}
