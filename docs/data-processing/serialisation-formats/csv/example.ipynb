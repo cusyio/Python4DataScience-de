{
 "cells": [
  {
   "cell_type": "markdown",
   "id": "8af8e1ae",
   "metadata": {},
   "source": [
    "# CSV-Beispiel"
   ]
  },
  {
   "cell_type": "code",
   "execution_count": 1,
   "id": "4ad01700",
   "metadata": {},
   "outputs": [],
   "source": [
    "import pandas as pd"
   ]
  },
  {
   "cell_type": "markdown",
   "id": "17b4c083",
   "metadata": {},
   "source": [
    "Nach dem Import von pandas lesen wir zunächst mit `read_csv` eine csv-Datei ein:"
   ]
  },
  {
   "cell_type": "code",
   "execution_count": 2,
   "id": "78ad5876",
   "metadata": {},
   "outputs": [
    {
     "data": {
      "text/html": [
       "<div>\n",
       "<style scoped>\n",
       "    .dataframe tbody tr th:only-of-type {\n",
       "        vertical-align: middle;\n",
       "    }\n",
       "\n",
       "    .dataframe tbody tr th {\n",
       "        vertical-align: top;\n",
       "    }\n",
       "\n",
       "    .dataframe thead th {\n",
       "        text-align: right;\n",
       "    }\n",
       "</style>\n",
       "<table border=\"1\" class=\"dataframe\">\n",
       "  <thead>\n",
       "    <tr style=\"text-align: right;\">\n",
       "      <th></th>\n",
       "      <th>Python basics</th>\n",
       "      <th>en</th>\n",
       "      <th>Veit Schiele</th>\n",
       "      <th>BSD-3-Clause</th>\n",
       "      <th>2021-10-28</th>\n",
       "    </tr>\n",
       "  </thead>\n",
       "  <tbody>\n",
       "    <tr>\n",
       "      <th>0</th>\n",
       "      <td>Jupyter Tutorial</td>\n",
       "      <td>en</td>\n",
       "      <td>Veit Schiele</td>\n",
       "      <td>BSD-3-Clause</td>\n",
       "      <td>2019-06-27</td>\n",
       "    </tr>\n",
       "    <tr>\n",
       "      <th>1</th>\n",
       "      <td>Jupyter Tutorial</td>\n",
       "      <td>de</td>\n",
       "      <td>Veit Schiele</td>\n",
       "      <td>BSD-3-Clause</td>\n",
       "      <td>2020-10-26</td>\n",
       "    </tr>\n",
       "    <tr>\n",
       "      <th>2</th>\n",
       "      <td>PyViz Tutorial</td>\n",
       "      <td>en</td>\n",
       "      <td>Veit Schiele</td>\n",
       "      <td>BSD-3-Clause</td>\n",
       "      <td>2020-04-13</td>\n",
       "    </tr>\n",
       "  </tbody>\n",
       "</table>\n",
       "</div>"
      ],
      "text/plain": [
       "      Python basics  en  Veit Schiele  BSD-3-Clause  2021-10-28\n",
       "0  Jupyter Tutorial  en  Veit Schiele  BSD-3-Clause  2019-06-27\n",
       "1  Jupyter Tutorial  de  Veit Schiele  BSD-3-Clause  2020-10-26\n",
       "2    PyViz Tutorial  en  Veit Schiele  BSD-3-Clause  2020-04-13"
      ]
     },
     "execution_count": 2,
     "metadata": {},
     "output_type": "execute_result"
    }
   ],
   "source": [
    "df = pd.read_csv('https://raw.githubusercontent.com/veit/python-basics-tutorial-de/main/docs/save-data/books.csv')\n",
    "\n",
    "df"
   ]
  },
  {
   "cell_type": "markdown",
   "id": "e893e2e2",
   "metadata": {},
   "source": [
    "Wie ihr seht, hat diese Datei keine Kopfzeile. Um dem DataFrame eine Kopfzeile zu geben, habt ihr mehrere Möglichkeiten. Ihr könnt pandas erlauben, Standard-Spaltennamen zuzuweisen, oder ihr könnt die Namen auch selbst festlegen:"
   ]
  },
  {
   "cell_type": "code",
   "execution_count": 3,
   "id": "a0ecfb9e",
   "metadata": {},
   "outputs": [
    {
     "data": {
      "text/html": [
       "<div>\n",
       "<style scoped>\n",
       "    .dataframe tbody tr th:only-of-type {\n",
       "        vertical-align: middle;\n",
       "    }\n",
       "\n",
       "    .dataframe tbody tr th {\n",
       "        vertical-align: top;\n",
       "    }\n",
       "\n",
       "    .dataframe thead th {\n",
       "        text-align: right;\n",
       "    }\n",
       "</style>\n",
       "<table border=\"1\" class=\"dataframe\">\n",
       "  <thead>\n",
       "    <tr style=\"text-align: right;\">\n",
       "      <th></th>\n",
       "      <th>0</th>\n",
       "      <th>1</th>\n",
       "      <th>2</th>\n",
       "      <th>3</th>\n",
       "      <th>4</th>\n",
       "    </tr>\n",
       "  </thead>\n",
       "  <tbody>\n",
       "    <tr>\n",
       "      <th>0</th>\n",
       "      <td>Python basics</td>\n",
       "      <td>en</td>\n",
       "      <td>Veit Schiele</td>\n",
       "      <td>BSD-3-Clause</td>\n",
       "      <td>2021-10-28</td>\n",
       "    </tr>\n",
       "    <tr>\n",
       "      <th>1</th>\n",
       "      <td>Jupyter Tutorial</td>\n",
       "      <td>en</td>\n",
       "      <td>Veit Schiele</td>\n",
       "      <td>BSD-3-Clause</td>\n",
       "      <td>2019-06-27</td>\n",
       "    </tr>\n",
       "    <tr>\n",
       "      <th>2</th>\n",
       "      <td>Jupyter Tutorial</td>\n",
       "      <td>de</td>\n",
       "      <td>Veit Schiele</td>\n",
       "      <td>BSD-3-Clause</td>\n",
       "      <td>2020-10-26</td>\n",
       "    </tr>\n",
       "    <tr>\n",
       "      <th>3</th>\n",
       "      <td>PyViz Tutorial</td>\n",
       "      <td>en</td>\n",
       "      <td>Veit Schiele</td>\n",
       "      <td>BSD-3-Clause</td>\n",
       "      <td>2020-04-13</td>\n",
       "    </tr>\n",
       "  </tbody>\n",
       "</table>\n",
       "</div>"
      ],
      "text/plain": [
       "                  0   1             2             3           4\n",
       "0     Python basics  en  Veit Schiele  BSD-3-Clause  2021-10-28\n",
       "1  Jupyter Tutorial  en  Veit Schiele  BSD-3-Clause  2019-06-27\n",
       "2  Jupyter Tutorial  de  Veit Schiele  BSD-3-Clause  2020-10-26\n",
       "3    PyViz Tutorial  en  Veit Schiele  BSD-3-Clause  2020-04-13"
      ]
     },
     "execution_count": 3,
     "metadata": {},
     "output_type": "execute_result"
    }
   ],
   "source": [
    "df = pd.read_csv('https://raw.githubusercontent.com/veit/python-basics-tutorial-de/main/docs/save-data/books.csv',\n",
    "                 header=None)\n",
    "\n",
    "df"
   ]
  },
  {
   "cell_type": "code",
   "execution_count": 4,
   "id": "a6e92780",
   "metadata": {
    "scrolled": true
   },
   "outputs": [
    {
     "data": {
      "text/html": [
       "<div>\n",
       "<style scoped>\n",
       "    .dataframe tbody tr th:only-of-type {\n",
       "        vertical-align: middle;\n",
       "    }\n",
       "\n",
       "    .dataframe tbody tr th {\n",
       "        vertical-align: top;\n",
       "    }\n",
       "\n",
       "    .dataframe thead th {\n",
       "        text-align: right;\n",
       "    }\n",
       "</style>\n",
       "<table border=\"1\" class=\"dataframe\">\n",
       "  <thead>\n",
       "    <tr style=\"text-align: right;\">\n",
       "      <th></th>\n",
       "      <th>Titel</th>\n",
       "      <th>Sprache</th>\n",
       "      <th>Autor*innen</th>\n",
       "      <th>Lizenz</th>\n",
       "      <th>Veröffentlichungsdatum</th>\n",
       "    </tr>\n",
       "  </thead>\n",
       "  <tbody>\n",
       "    <tr>\n",
       "      <th>0</th>\n",
       "      <td>Python basics</td>\n",
       "      <td>en</td>\n",
       "      <td>Veit Schiele</td>\n",
       "      <td>BSD-3-Clause</td>\n",
       "      <td>2021-10-28</td>\n",
       "    </tr>\n",
       "    <tr>\n",
       "      <th>1</th>\n",
       "      <td>Jupyter Tutorial</td>\n",
       "      <td>en</td>\n",
       "      <td>Veit Schiele</td>\n",
       "      <td>BSD-3-Clause</td>\n",
       "      <td>2019-06-27</td>\n",
       "    </tr>\n",
       "    <tr>\n",
       "      <th>2</th>\n",
       "      <td>Jupyter Tutorial</td>\n",
       "      <td>de</td>\n",
       "      <td>Veit Schiele</td>\n",
       "      <td>BSD-3-Clause</td>\n",
       "      <td>2020-10-26</td>\n",
       "    </tr>\n",
       "    <tr>\n",
       "      <th>3</th>\n",
       "      <td>PyViz Tutorial</td>\n",
       "      <td>en</td>\n",
       "      <td>Veit Schiele</td>\n",
       "      <td>BSD-3-Clause</td>\n",
       "      <td>2020-04-13</td>\n",
       "    </tr>\n",
       "  </tbody>\n",
       "</table>\n",
       "</div>"
      ],
      "text/plain": [
       "              Titel Sprache   Autor*innen        Lizenz Veröffentlichungsdatum\n",
       "0     Python basics      en  Veit Schiele  BSD-3-Clause             2021-10-28\n",
       "1  Jupyter Tutorial      en  Veit Schiele  BSD-3-Clause             2019-06-27\n",
       "2  Jupyter Tutorial      de  Veit Schiele  BSD-3-Clause             2020-10-26\n",
       "3    PyViz Tutorial      en  Veit Schiele  BSD-3-Clause             2020-04-13"
      ]
     },
     "execution_count": 4,
     "metadata": {},
     "output_type": "execute_result"
    }
   ],
   "source": [
    "df = pd.read_csv('https://raw.githubusercontent.com/veit/python-basics-tutorial-de/main/docs/save-data/books.csv',\n",
    "                 names=['Titel', 'Sprache', 'Autor*innen', 'Lizenz', 'Veröffentlichungsdatum'])\n",
    "\n",
    "df"
   ]
  },
  {
   "cell_type": "markdown",
   "id": "da940c0b",
   "metadata": {},
   "source": [
    "Angenommen, ihr möchtet, dass die Spalte `Autor*innen` der Index des zurückgegebenen DataFrame ist. Ihr könnt entweder angeben, dass ihr die Spalte bei Index 3 oder mit dem Namen `Autor*innen` haben möchtet, indem ihr das Argument `index_col` verwendet:"
   ]
  },
  {
   "cell_type": "code",
   "execution_count": 5,
   "id": "d45d1e88",
   "metadata": {},
   "outputs": [
    {
     "data": {
      "text/html": [
       "<div>\n",
       "<style scoped>\n",
       "    .dataframe tbody tr th:only-of-type {\n",
       "        vertical-align: middle;\n",
       "    }\n",
       "\n",
       "    .dataframe tbody tr th {\n",
       "        vertical-align: top;\n",
       "    }\n",
       "\n",
       "    .dataframe thead th {\n",
       "        text-align: right;\n",
       "    }\n",
       "</style>\n",
       "<table border=\"1\" class=\"dataframe\">\n",
       "  <thead>\n",
       "    <tr style=\"text-align: right;\">\n",
       "      <th></th>\n",
       "      <th>Titel</th>\n",
       "      <th>Sprache</th>\n",
       "      <th>Lizenz</th>\n",
       "      <th>Veröffentlichungsdatum</th>\n",
       "    </tr>\n",
       "    <tr>\n",
       "      <th>Autor*innen</th>\n",
       "      <th></th>\n",
       "      <th></th>\n",
       "      <th></th>\n",
       "      <th></th>\n",
       "    </tr>\n",
       "  </thead>\n",
       "  <tbody>\n",
       "    <tr>\n",
       "      <th>Veit Schiele</th>\n",
       "      <td>Python basics</td>\n",
       "      <td>en</td>\n",
       "      <td>BSD-3-Clause</td>\n",
       "      <td>2021-10-28</td>\n",
       "    </tr>\n",
       "    <tr>\n",
       "      <th>Veit Schiele</th>\n",
       "      <td>Jupyter Tutorial</td>\n",
       "      <td>en</td>\n",
       "      <td>BSD-3-Clause</td>\n",
       "      <td>2019-06-27</td>\n",
       "    </tr>\n",
       "    <tr>\n",
       "      <th>Veit Schiele</th>\n",
       "      <td>Jupyter Tutorial</td>\n",
       "      <td>de</td>\n",
       "      <td>BSD-3-Clause</td>\n",
       "      <td>2020-10-26</td>\n",
       "    </tr>\n",
       "    <tr>\n",
       "      <th>Veit Schiele</th>\n",
       "      <td>PyViz Tutorial</td>\n",
       "      <td>en</td>\n",
       "      <td>BSD-3-Clause</td>\n",
       "      <td>2020-04-13</td>\n",
       "    </tr>\n",
       "  </tbody>\n",
       "</table>\n",
       "</div>"
      ],
      "text/plain": [
       "                         Titel Sprache        Lizenz Veröffentlichungsdatum\n",
       "Autor*innen                                                                \n",
       "Veit Schiele     Python basics      en  BSD-3-Clause             2021-10-28\n",
       "Veit Schiele  Jupyter Tutorial      en  BSD-3-Clause             2019-06-27\n",
       "Veit Schiele  Jupyter Tutorial      de  BSD-3-Clause             2020-10-26\n",
       "Veit Schiele    PyViz Tutorial      en  BSD-3-Clause             2020-04-13"
      ]
     },
     "execution_count": 5,
     "metadata": {},
     "output_type": "execute_result"
    }
   ],
   "source": [
    "df2 = pd.read_csv('https://raw.githubusercontent.com/veit/python-basics-tutorial-de/main/docs/save-data/books.csv',\n",
    "                  index_col=['Autor*innen'],\n",
    "                  names=['Titel', 'Sprache', 'Autor*innen', 'Lizenz', 'Veröffentlichungsdatum'])\n",
    "\n",
    "df2"
   ]
  },
  {
   "cell_type": "markdown",
   "id": "62203c36",
   "metadata": {},
   "source": [
    "Für den Fall, dass ihr einen hierarchischen Index aus mehreren Spalten bilden wollt, übergebt eine Liste von Spaltennummern oder -namen:"
   ]
  },
  {
   "cell_type": "code",
   "execution_count": 6,
   "id": "854ebf77",
   "metadata": {},
   "outputs": [
    {
     "data": {
      "text/html": [
       "<div>\n",
       "<style scoped>\n",
       "    .dataframe tbody tr th:only-of-type {\n",
       "        vertical-align: middle;\n",
       "    }\n",
       "\n",
       "    .dataframe tbody tr th {\n",
       "        vertical-align: top;\n",
       "    }\n",
       "\n",
       "    .dataframe thead th {\n",
       "        text-align: right;\n",
       "    }\n",
       "</style>\n",
       "<table border=\"1\" class=\"dataframe\">\n",
       "  <thead>\n",
       "    <tr style=\"text-align: right;\">\n",
       "      <th></th>\n",
       "      <th></th>\n",
       "      <th>Sprache</th>\n",
       "      <th>Lizenz</th>\n",
       "      <th>Veröffentlichungsdatum</th>\n",
       "    </tr>\n",
       "    <tr>\n",
       "      <th>Autor*innen</th>\n",
       "      <th>Titel</th>\n",
       "      <th></th>\n",
       "      <th></th>\n",
       "      <th></th>\n",
       "    </tr>\n",
       "  </thead>\n",
       "  <tbody>\n",
       "    <tr>\n",
       "      <th rowspan=\"4\" valign=\"top\">Veit Schiele</th>\n",
       "      <th>Python basics</th>\n",
       "      <td>en</td>\n",
       "      <td>BSD-3-Clause</td>\n",
       "      <td>2021-10-28</td>\n",
       "    </tr>\n",
       "    <tr>\n",
       "      <th>Jupyter Tutorial</th>\n",
       "      <td>en</td>\n",
       "      <td>BSD-3-Clause</td>\n",
       "      <td>2019-06-27</td>\n",
       "    </tr>\n",
       "    <tr>\n",
       "      <th>Jupyter Tutorial</th>\n",
       "      <td>de</td>\n",
       "      <td>BSD-3-Clause</td>\n",
       "      <td>2020-10-26</td>\n",
       "    </tr>\n",
       "    <tr>\n",
       "      <th>PyViz Tutorial</th>\n",
       "      <td>en</td>\n",
       "      <td>BSD-3-Clause</td>\n",
       "      <td>2020-04-13</td>\n",
       "    </tr>\n",
       "  </tbody>\n",
       "</table>\n",
       "</div>"
      ],
      "text/plain": [
       "                              Sprache        Lizenz Veröffentlichungsdatum\n",
       "Autor*innen  Titel                                                        \n",
       "Veit Schiele Python basics         en  BSD-3-Clause             2021-10-28\n",
       "             Jupyter Tutorial      en  BSD-3-Clause             2019-06-27\n",
       "             Jupyter Tutorial      de  BSD-3-Clause             2020-10-26\n",
       "             PyViz Tutorial        en  BSD-3-Clause             2020-04-13"
      ]
     },
     "execution_count": 6,
     "metadata": {},
     "output_type": "execute_result"
    }
   ],
   "source": [
    "parsed = pd.read_csv('https://raw.githubusercontent.com/veit/python-basics-tutorial-de/main/docs/save-data/books.csv',\n",
    "                     index_col=[2, 0],\n",
    "                     names=['Titel', 'Sprache', 'Autor*innen', 'Lizenz', 'Veröffentlichungsdatum'])\n",
    "\n",
    "parsed"
   ]
  },
  {
   "cell_type": "markdown",
   "id": "44cef328",
   "metadata": {},
   "source": [
    "In manchen Fällen hat eine Tabelle kein festes Trennzeichen, sondern verwendet mehrere Leerzeichen oder ein anderes Muster zur Trennung von Feldern. Angenommen, eine Datei sieht folgendermaßen aus:"
   ]
  },
  {
   "cell_type": "code",
   "execution_count": 7,
   "id": "7ccbf725",
   "metadata": {},
   "outputs": [
    {
     "data": {
      "text/plain": [
       "['   Titel             Sprache  Autor*innen   Lizenz        Veröffentlichungsdatum\\n',\n",
       " '1  Python basics     en       Veit Schiele  BSD-3-Clause  2021-10-28\\n',\n",
       " '2  Jupyter Tutorial  en       Veit Schiele  BSD-3-Clause  2019-06-27\\n',\n",
       " '3  Jupyter Tutorial  de       Veit Schiele  BSD-3-Clause  2020-10-26\\n',\n",
       " '4  PyViz Tutorial    en       Veit Schiele  BSD-3-Clause  2020-04-13']"
      ]
     },
     "execution_count": 7,
     "metadata": {},
     "output_type": "execute_result"
    }
   ],
   "source": [
    "list(open('books.txt'))"
   ]
  },
  {
   "cell_type": "markdown",
   "id": "4cb5b381",
   "metadata": {},
   "source": [
    "In solchen Fällen könnt ihr einen regulären Ausdruck als Trennzeichen für `read_csv` übergeben. Dies kann durch den regulären Ausdruck `\\s\\s+` ausgedrückt werden, also haben wir dann:"
   ]
  },
  {
   "cell_type": "code",
   "execution_count": 8,
   "id": "16489a75",
   "metadata": {},
   "outputs": [
    {
     "data": {
      "text/html": [
       "<div>\n",
       "<style scoped>\n",
       "    .dataframe tbody tr th:only-of-type {\n",
       "        vertical-align: middle;\n",
       "    }\n",
       "\n",
       "    .dataframe tbody tr th {\n",
       "        vertical-align: top;\n",
       "    }\n",
       "\n",
       "    .dataframe thead th {\n",
       "        text-align: right;\n",
       "    }\n",
       "</style>\n",
       "<table border=\"1\" class=\"dataframe\">\n",
       "  <thead>\n",
       "    <tr style=\"text-align: right;\">\n",
       "      <th></th>\n",
       "      <th>Titel</th>\n",
       "      <th>Sprache</th>\n",
       "      <th>Autor*innen</th>\n",
       "      <th>Lizenz</th>\n",
       "      <th>Veröffentlichungsdatum</th>\n",
       "    </tr>\n",
       "  </thead>\n",
       "  <tbody>\n",
       "    <tr>\n",
       "      <th>1</th>\n",
       "      <td>Python basics</td>\n",
       "      <td>en</td>\n",
       "      <td>Veit Schiele</td>\n",
       "      <td>BSD-3-Clause</td>\n",
       "      <td>2021-10-28</td>\n",
       "    </tr>\n",
       "    <tr>\n",
       "      <th>2</th>\n",
       "      <td>Jupyter Tutorial</td>\n",
       "      <td>en</td>\n",
       "      <td>Veit Schiele</td>\n",
       "      <td>BSD-3-Clause</td>\n",
       "      <td>2019-06-27</td>\n",
       "    </tr>\n",
       "    <tr>\n",
       "      <th>3</th>\n",
       "      <td>Jupyter Tutorial</td>\n",
       "      <td>de</td>\n",
       "      <td>Veit Schiele</td>\n",
       "      <td>BSD-3-Clause</td>\n",
       "      <td>2020-10-26</td>\n",
       "    </tr>\n",
       "    <tr>\n",
       "      <th>4</th>\n",
       "      <td>PyViz Tutorial</td>\n",
       "      <td>en</td>\n",
       "      <td>Veit Schiele</td>\n",
       "      <td>BSD-3-Clause</td>\n",
       "      <td>2020-04-13</td>\n",
       "    </tr>\n",
       "  </tbody>\n",
       "</table>\n",
       "</div>"
      ],
      "text/plain": [
       "              Titel Sprache   Autor*innen        Lizenz Veröffentlichungsdatum\n",
       "1     Python basics      en  Veit Schiele  BSD-3-Clause             2021-10-28\n",
       "2  Jupyter Tutorial      en  Veit Schiele  BSD-3-Clause             2019-06-27\n",
       "3  Jupyter Tutorial      de  Veit Schiele  BSD-3-Clause             2020-10-26\n",
       "4    PyViz Tutorial      en  Veit Schiele  BSD-3-Clause             2020-04-13"
      ]
     },
     "execution_count": 8,
     "metadata": {},
     "output_type": "execute_result"
    }
   ],
   "source": [
    "parsed = pd.read_csv('books.txt', sep='\\s\\s+', engine='python')\n",
    "\n",
    "parsed"
   ]
  },
  {
   "cell_type": "markdown",
   "id": "4e3ec0f7",
   "metadata": {},
   "source": [
    "Da es einen Spaltennamen weniger als die Anzahl der Datenzeilen gab, folgert `read_csv`, dass in diesem Fall die erste Spalte der Index des DataFrame sein sollte."
   ]
  },
  {
   "cell_type": "markdown",
   "id": "bc45a65e",
   "metadata": {},
   "source": [
    "Die Parser-Funktionen haben viele zusätzliche Argumente, die euch helfen, die große Vielfalt der auftretenden Ausnahmedateiformate zu handhaben. So könnt ihr beispielsweise mit `skiprows` einzelne Zeilen einer Datei überspringen:"
   ]
  },
  {
   "cell_type": "code",
   "execution_count": 9,
   "id": "fc897ae2",
   "metadata": {},
   "outputs": [
    {
     "data": {
      "text/html": [
       "<div>\n",
       "<style scoped>\n",
       "    .dataframe tbody tr th:only-of-type {\n",
       "        vertical-align: middle;\n",
       "    }\n",
       "\n",
       "    .dataframe tbody tr th {\n",
       "        vertical-align: top;\n",
       "    }\n",
       "\n",
       "    .dataframe thead th {\n",
       "        text-align: right;\n",
       "    }\n",
       "</style>\n",
       "<table border=\"1\" class=\"dataframe\">\n",
       "  <thead>\n",
       "    <tr style=\"text-align: right;\">\n",
       "      <th></th>\n",
       "      <th>Titel</th>\n",
       "      <th>Sprache</th>\n",
       "      <th>Autor*innen</th>\n",
       "      <th>Lizenz</th>\n",
       "      <th>Veröffentlichungsdatum</th>\n",
       "    </tr>\n",
       "  </thead>\n",
       "  <tbody>\n",
       "    <tr>\n",
       "      <th>0</th>\n",
       "      <td>Python basics</td>\n",
       "      <td>en</td>\n",
       "      <td>Veit Schiele</td>\n",
       "      <td>BSD-3-Clause</td>\n",
       "      <td>2021-10-28</td>\n",
       "    </tr>\n",
       "    <tr>\n",
       "      <th>1</th>\n",
       "      <td>Jupyter Tutorial</td>\n",
       "      <td>en</td>\n",
       "      <td>Veit Schiele</td>\n",
       "      <td>BSD-3-Clause</td>\n",
       "      <td>2019-06-27</td>\n",
       "    </tr>\n",
       "    <tr>\n",
       "      <th>2</th>\n",
       "      <td>PyViz Tutorial</td>\n",
       "      <td>en</td>\n",
       "      <td>Veit Schiele</td>\n",
       "      <td>BSD-3-Clause</td>\n",
       "      <td>2020-04-13</td>\n",
       "    </tr>\n",
       "  </tbody>\n",
       "</table>\n",
       "</div>"
      ],
      "text/plain": [
       "              Titel Sprache   Autor*innen        Lizenz Veröffentlichungsdatum\n",
       "0     Python basics      en  Veit Schiele  BSD-3-Clause             2021-10-28\n",
       "1  Jupyter Tutorial      en  Veit Schiele  BSD-3-Clause             2019-06-27\n",
       "2    PyViz Tutorial      en  Veit Schiele  BSD-3-Clause             2020-04-13"
      ]
     },
     "execution_count": 9,
     "metadata": {},
     "output_type": "execute_result"
    }
   ],
   "source": [
    "df = pd.read_csv('https://raw.githubusercontent.com/veit/python-basics-tutorial-de/main/docs/save-data/books.csv',\n",
    "                 skiprows=[2],\n",
    "                 names=['Titel', 'Sprache', 'Autor*innen', 'Lizenz', 'Veröffentlichungsdatum'])\n",
    "\n",
    "df"
   ]
  },
  {
   "cell_type": "markdown",
   "id": "a40bfb4d",
   "metadata": {},
   "source": [
    "Der Umgang mit fehlenden Werten ist ein wichtiger und häufig komplizierter Teil beim Parsen von Daten. Fehlende Daten sind normalerweise entweder nicht vorhanden (leerer String) oder durch einen Platzhalter gekennzeichnet. Standardmäßig verwendet Pandas eine Reihe von häufig vorkommenden Platzhalter, wie `NA` und `NULL`:"
   ]
  },
  {
   "cell_type": "code",
   "execution_count": 10,
   "id": "bd3b2820",
   "metadata": {},
   "outputs": [
    {
     "data": {
      "text/html": [
       "<div>\n",
       "<style scoped>\n",
       "    .dataframe tbody tr th:only-of-type {\n",
       "        vertical-align: middle;\n",
       "    }\n",
       "\n",
       "    .dataframe tbody tr th {\n",
       "        vertical-align: top;\n",
       "    }\n",
       "\n",
       "    .dataframe thead th {\n",
       "        text-align: right;\n",
       "    }\n",
       "</style>\n",
       "<table border=\"1\" class=\"dataframe\">\n",
       "  <thead>\n",
       "    <tr style=\"text-align: right;\">\n",
       "      <th></th>\n",
       "      <th>Titel</th>\n",
       "      <th>Sprache</th>\n",
       "      <th>Autor*innen</th>\n",
       "      <th>Lizenz</th>\n",
       "      <th>Veröffentlichungsdatum</th>\n",
       "      <th>doi</th>\n",
       "    </tr>\n",
       "  </thead>\n",
       "  <tbody>\n",
       "    <tr>\n",
       "      <th>0</th>\n",
       "      <td>Python basics</td>\n",
       "      <td>en</td>\n",
       "      <td>Veit Schiele</td>\n",
       "      <td>BSD-3-Clause</td>\n",
       "      <td>2021-10-28</td>\n",
       "      <td>NaN</td>\n",
       "    </tr>\n",
       "    <tr>\n",
       "      <th>1</th>\n",
       "      <td>Jupyter Tutorial</td>\n",
       "      <td>en</td>\n",
       "      <td>Veit Schiele</td>\n",
       "      <td>BSD-3-Clause</td>\n",
       "      <td>2019-06-27</td>\n",
       "      <td>NaN</td>\n",
       "    </tr>\n",
       "    <tr>\n",
       "      <th>2</th>\n",
       "      <td>Jupyter Tutorial</td>\n",
       "      <td>de</td>\n",
       "      <td>Veit Schiele</td>\n",
       "      <td>BSD-3-Clause</td>\n",
       "      <td>2020-10-26</td>\n",
       "      <td>NaN</td>\n",
       "    </tr>\n",
       "    <tr>\n",
       "      <th>3</th>\n",
       "      <td>PyViz Tutorial</td>\n",
       "      <td>en</td>\n",
       "      <td>Veit Schiele</td>\n",
       "      <td>BSD-3-Clause</td>\n",
       "      <td>2020-04-13</td>\n",
       "      <td>NaN</td>\n",
       "    </tr>\n",
       "  </tbody>\n",
       "</table>\n",
       "</div>"
      ],
      "text/plain": [
       "              Titel Sprache   Autor*innen        Lizenz  \\\n",
       "0     Python basics      en  Veit Schiele  BSD-3-Clause   \n",
       "1  Jupyter Tutorial      en  Veit Schiele  BSD-3-Clause   \n",
       "2  Jupyter Tutorial      de  Veit Schiele  BSD-3-Clause   \n",
       "3    PyViz Tutorial      en  Veit Schiele  BSD-3-Clause   \n",
       "\n",
       "  Veröffentlichungsdatum  doi  \n",
       "0             2021-10-28  NaN  \n",
       "1             2019-06-27  NaN  \n",
       "2             2020-10-26  NaN  \n",
       "3             2020-04-13  NaN  "
      ]
     },
     "execution_count": 10,
     "metadata": {},
     "output_type": "execute_result"
    }
   ],
   "source": [
    "df = pd.read_csv('https://raw.githubusercontent.com/veit/python-basics-tutorial-de/main/docs/save-data/books.csv',\n",
    "                 names=['Titel', 'Sprache', 'Autor*innen', 'Lizenz', 'Veröffentlichungsdatum', 'doi'])\n",
    "\n",
    "df"
   ]
  },
  {
   "cell_type": "code",
   "execution_count": 11,
   "id": "0d2f53e8",
   "metadata": {},
   "outputs": [
    {
     "data": {
      "text/html": [
       "<div>\n",
       "<style scoped>\n",
       "    .dataframe tbody tr th:only-of-type {\n",
       "        vertical-align: middle;\n",
       "    }\n",
       "\n",
       "    .dataframe tbody tr th {\n",
       "        vertical-align: top;\n",
       "    }\n",
       "\n",
       "    .dataframe thead th {\n",
       "        text-align: right;\n",
       "    }\n",
       "</style>\n",
       "<table border=\"1\" class=\"dataframe\">\n",
       "  <thead>\n",
       "    <tr style=\"text-align: right;\">\n",
       "      <th></th>\n",
       "      <th>Titel</th>\n",
       "      <th>Sprache</th>\n",
       "      <th>Autor*innen</th>\n",
       "      <th>Lizenz</th>\n",
       "      <th>Veröffentlichungsdatum</th>\n",
       "      <th>doi</th>\n",
       "    </tr>\n",
       "  </thead>\n",
       "  <tbody>\n",
       "    <tr>\n",
       "      <th>0</th>\n",
       "      <td>False</td>\n",
       "      <td>False</td>\n",
       "      <td>False</td>\n",
       "      <td>False</td>\n",
       "      <td>False</td>\n",
       "      <td>True</td>\n",
       "    </tr>\n",
       "    <tr>\n",
       "      <th>1</th>\n",
       "      <td>False</td>\n",
       "      <td>False</td>\n",
       "      <td>False</td>\n",
       "      <td>False</td>\n",
       "      <td>False</td>\n",
       "      <td>True</td>\n",
       "    </tr>\n",
       "    <tr>\n",
       "      <th>2</th>\n",
       "      <td>False</td>\n",
       "      <td>False</td>\n",
       "      <td>False</td>\n",
       "      <td>False</td>\n",
       "      <td>False</td>\n",
       "      <td>True</td>\n",
       "    </tr>\n",
       "    <tr>\n",
       "      <th>3</th>\n",
       "      <td>False</td>\n",
       "      <td>False</td>\n",
       "      <td>False</td>\n",
       "      <td>False</td>\n",
       "      <td>False</td>\n",
       "      <td>True</td>\n",
       "    </tr>\n",
       "  </tbody>\n",
       "</table>\n",
       "</div>"
      ],
      "text/plain": [
       "   Titel  Sprache  Autor*innen  Lizenz  Veröffentlichungsdatum   doi\n",
       "0  False    False        False   False                   False  True\n",
       "1  False    False        False   False                   False  True\n",
       "2  False    False        False   False                   False  True\n",
       "3  False    False        False   False                   False  True"
      ]
     },
     "execution_count": 11,
     "metadata": {},
     "output_type": "execute_result"
    }
   ],
   "source": [
    "df.isna()"
   ]
  },
  {
   "cell_type": "markdown",
   "id": "5c55e458",
   "metadata": {},
   "source": [
    "Die Option `na_values` kann entweder eine Liste oder eine Reihe von Strings annehmen, um fehlende Werte zu berücksichtigen:"
   ]
  },
  {
   "cell_type": "code",
   "execution_count": 12,
   "id": "b7e81f01",
   "metadata": {},
   "outputs": [
    {
     "data": {
      "text/html": [
       "<div>\n",
       "<style scoped>\n",
       "    .dataframe tbody tr th:only-of-type {\n",
       "        vertical-align: middle;\n",
       "    }\n",
       "\n",
       "    .dataframe tbody tr th {\n",
       "        vertical-align: top;\n",
       "    }\n",
       "\n",
       "    .dataframe thead th {\n",
       "        text-align: right;\n",
       "    }\n",
       "</style>\n",
       "<table border=\"1\" class=\"dataframe\">\n",
       "  <thead>\n",
       "    <tr style=\"text-align: right;\">\n",
       "      <th></th>\n",
       "      <th>Titel</th>\n",
       "      <th>Sprache</th>\n",
       "      <th>Autor*innen</th>\n",
       "      <th>Lizenz</th>\n",
       "      <th>Veröffentlichungsdatum</th>\n",
       "      <th>doi</th>\n",
       "    </tr>\n",
       "  </thead>\n",
       "  <tbody>\n",
       "    <tr>\n",
       "      <th>0</th>\n",
       "      <td>Python basics</td>\n",
       "      <td>en</td>\n",
       "      <td>Veit Schiele</td>\n",
       "      <td>NaN</td>\n",
       "      <td>2021-10-28</td>\n",
       "      <td>NaN</td>\n",
       "    </tr>\n",
       "    <tr>\n",
       "      <th>1</th>\n",
       "      <td>Jupyter Tutorial</td>\n",
       "      <td>en</td>\n",
       "      <td>Veit Schiele</td>\n",
       "      <td>NaN</td>\n",
       "      <td>2019-06-27</td>\n",
       "      <td>NaN</td>\n",
       "    </tr>\n",
       "    <tr>\n",
       "      <th>2</th>\n",
       "      <td>Jupyter Tutorial</td>\n",
       "      <td>de</td>\n",
       "      <td>Veit Schiele</td>\n",
       "      <td>NaN</td>\n",
       "      <td>2020-10-26</td>\n",
       "      <td>NaN</td>\n",
       "    </tr>\n",
       "    <tr>\n",
       "      <th>3</th>\n",
       "      <td>PyViz Tutorial</td>\n",
       "      <td>en</td>\n",
       "      <td>Veit Schiele</td>\n",
       "      <td>NaN</td>\n",
       "      <td>2020-04-13</td>\n",
       "      <td>NaN</td>\n",
       "    </tr>\n",
       "  </tbody>\n",
       "</table>\n",
       "</div>"
      ],
      "text/plain": [
       "              Titel Sprache   Autor*innen  Lizenz Veröffentlichungsdatum  doi\n",
       "0     Python basics      en  Veit Schiele     NaN             2021-10-28  NaN\n",
       "1  Jupyter Tutorial      en  Veit Schiele     NaN             2019-06-27  NaN\n",
       "2  Jupyter Tutorial      de  Veit Schiele     NaN             2020-10-26  NaN\n",
       "3    PyViz Tutorial      en  Veit Schiele     NaN             2020-04-13  NaN"
      ]
     },
     "execution_count": 12,
     "metadata": {},
     "output_type": "execute_result"
    }
   ],
   "source": [
    "df = pd.read_csv('https://raw.githubusercontent.com/veit/python-basics-tutorial-de/main/docs/save-data/books.csv',\n",
    "                 na_values=['BSD-3-Clause'],\n",
    "                 names=['Titel', 'Sprache', 'Autor*innen', 'Lizenz', 'Veröffentlichungsdatum', 'doi'])\n",
    "\n",
    "df"
   ]
  },
  {
   "cell_type": "markdown",
   "id": "0a5d4920",
   "metadata": {},
   "source": [
    "Die häufigsten Argumente der Funktion `read_csv`:\n",
    "\n",
    "Argument | Beschreibung\n",
    ":------- | :-----------\n",
    "`path` | Zeichenfolge, die den Speicherort im Dateisystem, eine URL oder ein dateiähnliches Objekt angibt\n",
    "`sep` oder `delimiter` | Zeichenfolge oder regulärer Ausdruck zum Trennen der Felder in jeder Zeile\n",
    "`header` | Zeilennummer, die als Spaltennamen zu verwenden ist; Standardwert ist `0`, also die erste Zeile, sollte aber `None` sein, wenn es keine Kopfzeile gibt\n",
    "`index_col` | index_col Zeilennummern oder -namen, die als Zeilenindex im Ergebnis verwendet werden sollen; kann ein einzelner Name/eine einzelne Zahl oder eine Liste von ihnen für einen hierarchischen Index sein\n",
    "`names` | Liste der Spaltennamen\n",
    "`skiprows` | Anzahl der zu ignorierenden Zeilen am Anfang der Datei oder Liste der Zeilennummern beginnend bei `0`, die übersprungen werden sollen\n",
    "`na_values` | Folge von Werten, die durch NA ersetzt werden sollen\n",
    "`comment` | Zeichen, um Kommentare vom Zeilenende abzutrennen\n",
    "`parse_dates` | Versuch, Daten mit datetime zu parsen; standardmäßig `False`. Wenn `True`, wird versucht, alle Spalten zu parsen. Andernfalls kann eine Liste von Spaltennummern oder -namen angegeben werden, die analysiert werden sollen. Wenn das Element der Liste ein Tupel oder eine Liste ist, werden mehrere Spalten miteinander kombiniert und in ein Datum umgewandelt, z.B. wenn Datum und Uhrzeit auf zwei Spalten aufgeteilt sind\n",
    "`keep_date_col` | wenn Spalten zum Parsen des Datums kombiniert werden, werden die kombinierten Spalten beibehalten; Standardeinstellung: `False`.\n",
    "`converters` | Dict, das die Spaltennummer der Namen enthält, die auf Funktionen abgebildet werden, z.B. würde `{'Titel': f}` die Funktion `f` auf alle Werte in der Spalte `Titel` anwenden\n",
    "`dayfirst` | beim Parsen potenziell mehrdeutiger Datumsangaben als internationales Format behandeln, z.B. `28/6/2021` → `28. Juni 2021`; standardmäßig `False`\n",
    "`date_parser` | zu verwendende Funktion zum Parsen von Datumsangaben\n",
    "`nrows` | Anzahl der zu lesenden Zeilen vom Anfang der Datei\n",
    "`iterator` | Rückgabe eines `TextFileReader`-Objekts zum stückweisen Einlesen der Datei; dieses Objekt kann auch mit der `with`-Anweisung verwendet werden\n",
    "`chunksize` | Für die Iteration die Größe der Datenblöcke.\n",
    "`skip_footer` | Anzahl der Zeilen, die am Ende der Datei ignoriert werden sollen\n",
    "`verbose` | gibt verschiedene Informationen zur Parser-Ausgabe aus, z.B. die Anzahl der fehlenden Werte in nicht-numerischen Spalten.\n",
    "`encoding` | Textkodierung für Unicode, z.B. `utf-8` für UTF-8-kodierten Text\n",
    "`squeeze` | wenn die geparsten Daten nur eine Spalte enthalten, wird eine Serie zurückgegeben\n",
    "`thousands` | Trennzeichen für Tausender, z.B. `,` oder `.`"
   ]
  },
  {
   "cell_type": "markdown",
   "id": "645d4e8b",
   "metadata": {},
   "source": [
    "## DataFrame und Series als csv-Datei schreiben\n",
    "\n",
    "Daten können auch in ein mit Trennzeichen versehenes Format exportiert werden. Mit der Methode `pandas.DataFrame.to_csv` können wir die Daten in eine kommagetrennte Datei schreiben:"
   ]
  },
  {
   "cell_type": "code",
   "execution_count": 13,
   "id": "403677e9",
   "metadata": {},
   "outputs": [],
   "source": [
    "df.to_csv('out.csv')"
   ]
  },
  {
   "cell_type": "markdown",
   "id": "0dcf3e4f",
   "metadata": {},
   "source": [
    "Natürlich können auch andere Begrenzungszeichen verwendet werden, z.B. zum Schreiben nach `sys.stdout`, so dass das Textergebnis auf der Konsole und nicht in einer Datei ausgegeben wird:"
   ]
  },
  {
   "cell_type": "code",
   "execution_count": 14,
   "id": "a20b63f4",
   "metadata": {},
   "outputs": [],
   "source": [
    "import sys"
   ]
  },
  {
   "cell_type": "code",
   "execution_count": 15,
   "id": "324a5e6e",
   "metadata": {},
   "outputs": [
    {
     "name": "stdout",
     "output_type": "stream",
     "text": [
      "|Titel|Sprache|Autor*innen|Lizenz|Veröffentlichungsdatum|doi\n",
      "0|Python basics|en|Veit Schiele||2021-10-28|\n",
      "1|Jupyter Tutorial|en|Veit Schiele||2019-06-27|\n",
      "2|Jupyter Tutorial|de|Veit Schiele||2020-10-26|\n",
      "3|PyViz Tutorial|en|Veit Schiele||2020-04-13|\n"
     ]
    }
   ],
   "source": [
    "df.to_csv(sys.stdout, sep='|')"
   ]
  },
  {
   "cell_type": "markdown",
   "id": "e7ac4fab",
   "metadata": {},
   "source": [
    "Fehlende Werte erscheinen in der Ausgabe als leere Zeichenketten. Möglicherweise möchtet ihr sie durch einen anderen Platzhalter kennzeichnen:"
   ]
  },
  {
   "cell_type": "code",
   "execution_count": 16,
   "id": "dacbc62c",
   "metadata": {},
   "outputs": [
    {
     "name": "stdout",
     "output_type": "stream",
     "text": [
      ",Titel,Sprache,Autor*innen,Lizenz,Veröffentlichungsdatum,doi\n",
      "0,Python basics,en,Veit Schiele,NaN,2021-10-28,NaN\n",
      "1,Jupyter Tutorial,en,Veit Schiele,NaN,2019-06-27,NaN\n",
      "2,Jupyter Tutorial,de,Veit Schiele,NaN,2020-10-26,NaN\n",
      "3,PyViz Tutorial,en,Veit Schiele,NaN,2020-04-13,NaN\n"
     ]
    }
   ],
   "source": [
    "df.to_csv(sys.stdout, na_rep='NaN')"
   ]
  },
  {
   "cell_type": "markdown",
   "id": "64114925",
   "metadata": {},
   "source": [
    "Wenn keine anderen Optionen angegeben sind, werden sowohl die Zeilen- als auch die Spaltenbeschriftungen geschrieben. Beides kann deaktiviert werden:"
   ]
  },
  {
   "cell_type": "code",
   "execution_count": 17,
   "id": "e196a55c",
   "metadata": {},
   "outputs": [
    {
     "name": "stdout",
     "output_type": "stream",
     "text": [
      "Python basics,en,Veit Schiele,,2021-10-28,\n",
      "Jupyter Tutorial,en,Veit Schiele,,2019-06-27,\n",
      "Jupyter Tutorial,de,Veit Schiele,,2020-10-26,\n",
      "PyViz Tutorial,en,Veit Schiele,,2020-04-13,\n"
     ]
    }
   ],
   "source": [
    "df.to_csv(sys.stdout, index=False, header=False)"
   ]
  },
  {
   "cell_type": "markdown",
   "id": "3b12b76d",
   "metadata": {},
   "source": [
    "Ihr könnt auch nur eine Teilmenge der Spalten schreiben, und zwar in einer von euch gewählten Reihenfolge:"
   ]
  },
  {
   "cell_type": "code",
   "execution_count": 18,
   "id": "4306fdf7",
   "metadata": {},
   "outputs": [
    {
     "name": "stdout",
     "output_type": "stream",
     "text": [
      "Titel,Sprache,Autor*innen,Veröffentlichungsdatum\n",
      "Python basics,en,Veit Schiele,2021-10-28\n",
      "Jupyter Tutorial,en,Veit Schiele,2019-06-27\n",
      "Jupyter Tutorial,de,Veit Schiele,2020-10-26\n",
      "PyViz Tutorial,en,Veit Schiele,2020-04-13\n"
     ]
    }
   ],
   "source": [
    "df.to_csv(sys.stdout,\n",
    "          index=False,\n",
    "          columns=['Titel', 'Sprache', 'Autor*innen', 'Veröffentlichungsdatum'])"
   ]
  },
  {
   "cell_type": "markdown",
   "id": "783c78b7",
   "metadata": {},
   "source": [
    "## Arbeiten mit abgegrenzten Formaten\n",
    "\n",
    "Die meisten Formen von Tabellendaten können mit Funktionen wie `pandas.read_csv` geladen werden. In einigen Fällen kann jedoch auch eine manuelle Bearbeitung erforderlich sein. Es ist nicht ungewöhnlich, eine Datei mit einer oder mehreren fehlerhaften Zeilen zu erhalten, die `read_csv` zum Scheitern bringen. Für jede Datei mit einem einstelligen Begrenzungszeichen könnt ihr das in Python eingebaute [csv](https://docs.python.org/3/library/csv.html)-Modul verwenden. Um es zu verwenden, übergebt eine offene Datei oder ein dateiähnliches Objekt an `csv.reader`:"
   ]
  },
  {
   "cell_type": "code",
   "execution_count": 19,
   "id": "b39bd676",
   "metadata": {},
   "outputs": [
    {
     "name": "stdout",
     "output_type": "stream",
     "text": [
      "['', 'Titel', 'Sprache', 'Autor*innen', 'Lizenz', 'Veröffentlichungsdatum', 'doi']\n",
      "['0', 'Python basics', 'en', 'Veit Schiele', '', '2021-10-28', '']\n",
      "['1', 'Jupyter Tutorial', 'en', 'Veit Schiele', '', '2019-06-27', '']\n",
      "['2', 'Jupyter Tutorial', 'de', 'Veit Schiele', '', '2020-10-26', '']\n",
      "['3', 'PyViz Tutorial', 'en', 'Veit Schiele', '', '2020-04-13', '']\n"
     ]
    }
   ],
   "source": [
    "import csv\n",
    "\n",
    "f = open('out.csv')\n",
    "reader = csv.reader(f)\n",
    "\n",
    "for line in reader:\n",
    "    print(line)"
   ]
  },
  {
   "cell_type": "markdown",
   "id": "8ef943d9",
   "metadata": {},
   "source": [
    "csv-Dateien gibt es in vielen verschiedenen Varianten. Um ein neues Format mit einem anderen Trennzeichen, einer anderen Zeichenkettenkonvention oder einem anderen Zeilenendezeichen zu definieren, empfiehlt sich eine einfache Unterklasse von [csv.Dialect](https://docs.python.org/3/library/csv.html#csv.Dialect):"
   ]
  },
  {
   "cell_type": "code",
   "execution_count": 20,
   "id": "fc8393eb",
   "metadata": {},
   "outputs": [
    {
     "name": "stdout",
     "output_type": "stream",
     "text": [
      "['', 'Titel', 'Sprache', 'Autor*innen', 'Lizenz', 'Veröffentlichungsdatum', 'doi']\n",
      "['0', 'Python basics', 'en', 'Veit Schiele', '', '2021-10-28', '']\n",
      "['1', 'Jupyter Tutorial', 'en', 'Veit Schiele', '', '2019-06-27', '']\n",
      "['2', 'Jupyter Tutorial', 'de', 'Veit Schiele', '', '2020-10-26', '']\n",
      "['3', 'PyViz Tutorial', 'en', 'Veit Schiele', '', '2020-04-13', '']\n"
     ]
    }
   ],
   "source": [
    "class my_csv_dialect(csv.Dialect):\n",
    "    lineterminator = '\\n'\n",
    "    delimiter = ','\n",
    "    quotechar = '\\''\n",
    "    quoting = csv.QUOTE_MINIMAL\n",
    "\n",
    "with open('out.csv') as f:\n",
    "    reader = csv.reader(f, dialect=my_csv_dialect)\n",
    "    for line in reader:\n",
    "        print(line)"
   ]
  },
  {
   "cell_type": "markdown",
   "id": "6dcf5c01",
   "metadata": {},
   "source": [
    "Mögliche Optionen und Funktionen von `csv.Dialect` sind:\n",
    "\n",
    "Argument | Beschreibung\n",
    ":------- | :-----------\n",
    "`delimiter` | Ein-Zeichen-Zeichenfolge zur Trennung von Feldern; Standardwert ist `,`.\n",
    "`lineterminator` | Zeilenabschlusszeichen zum Schreiben; Standardwert ist `\\r\\n`. Reader ignoriert dies und erkennt plattformübergreifende Zeilenbegrenzer.\n",
    "`quotechar` | Anführungszeichen für Felder mit Sonderzeichen (wie ein Trennzeichen); Standardwert ist `\"`.\n",
    "`quoting` | Zitier-Konvention. Zu den Optionen gehören `csv.QUOTE_ALL` – alle Felder zitieren, `csv.QUOTE_MINIMAL` – nur Felder mit Sonderzeichen wie dem Begrenzungszeichen, `csv.QUOTE_NONNUMERIC` und `csv.QUOTE_NONE` – keine Zitate. Der Standardwert ist `QUOTE_MINIMAL`.\n",
    "`skipinitialspace` | Leerzeichen nach jedem Begrenzungszeichen ignorieren; Standardwert ist `False`.\n",
    "`doublequote` | bei `True` werden Anfürhuntszeichen innerhalb eines Feldes verdoppelt.\n",
    "`escapechar` | Zeichenkette, um das Trennzeichen zu umgehen, wenn `quoting` auf `csv.QUOTE_NONE` gesetzt ist; standardmäßig deaktiviert."
   ]
  },
  {
   "cell_type": "markdown",
   "id": "741ea50e",
   "metadata": {},
   "source": [
    "Dann können wir ein Dict mit Datenspalten erstellen, indem wir [Dict Comprehensions](https://www.python.org/dev/peps/pep-0274/) verwenden und mit [zip](https://docs.python.org/3/library/functions.html#zip) über die Werte aus `Values` iterieren. Beachtet dabei, dass dies bei großen Dateien viel Speicherplatz benötigt, da hierfürdie Zeilen in Spalten umgewandelt werden:"
   ]
  },
  {
   "cell_type": "code",
   "execution_count": 21,
   "id": "ad0b9769",
   "metadata": {},
   "outputs": [
    {
     "data": {
      "text/plain": [
       "{'': ('0', '1', '2', '3'),\n",
       " 'Titel': ('Python basics',\n",
       "  'Jupyter Tutorial',\n",
       "  'Jupyter Tutorial',\n",
       "  'PyViz Tutorial'),\n",
       " 'Sprache': ('en', 'en', 'de', 'en'),\n",
       " 'Autor*innen': ('Veit Schiele',\n",
       "  'Veit Schiele',\n",
       "  'Veit Schiele',\n",
       "  'Veit Schiele'),\n",
       " 'Lizenz': ('', '', '', ''),\n",
       " 'Veröffentlichungsdatum': ('2021-10-28',\n",
       "  '2019-06-27',\n",
       "  '2020-10-26',\n",
       "  '2020-04-13'),\n",
       " 'doi': ('', '', '', '')}"
      ]
     },
     "execution_count": 21,
     "metadata": {},
     "output_type": "execute_result"
    }
   ],
   "source": [
    "with open('out.csv') as f:\n",
    "    reader = csv.reader(f, dialect=my_csv_dialect)\n",
    "    lines = list(reader)\n",
    "    header, values = lines[0], lines[1:]\n",
    "    data_dict = {h: v for h, v in zip(header, zip(*values))}\n",
    "\n",
    "data_dict"
   ]
  },
  {
   "cell_type": "markdown",
   "id": "643821c4",
   "metadata": {},
   "source": [
    "Um Dateien mit Trennzeichen manuell zu schreiben, könnt ihr `csv.writer` verwenden. Er akzeptiert ein offenes, beschreibbares Dateiobjekt und die gleichen Dialekt- und Formatoptionen wie `csv.reader`:"
   ]
  },
  {
   "cell_type": "code",
   "execution_count": 22,
   "id": "2fc6ad3e",
   "metadata": {},
   "outputs": [],
   "source": [
    "with open('new.csv', 'w') as f:\n",
    "    writer = csv.writer(f, dialect=my_csv_dialect)\n",
    "    writer.writerow(('', 'Titel', 'Sprache', 'Autor*innen'))\n",
    "    writer.writerow(('1', 'Python basics', 'en', 'Veit Schiele'))\n",
    "    writer.writerow(('2', 'Jupyter Tutorial', 'en', 'Veit Schiele'))"
   ]
  },
  {
   "cell_type": "code",
   "execution_count": 23,
   "id": "33141126",
   "metadata": {},
   "outputs": [
    {
     "data": {
      "text/plain": [
       "[',Titel,Sprache,Autor*innen\\n',\n",
       " '1,Python basics,en,Veit Schiele\\n',\n",
       " '2,Jupyter Tutorial,en,Veit Schiele\\n']"
      ]
     },
     "execution_count": 23,
     "metadata": {},
     "output_type": "execute_result"
    }
   ],
   "source": [
    "list(open('new.csv'))"
   ]
  }
 ],
 "metadata": {
  "kernelspec": {
   "display_name": "Python 3.8",
   "language": "python",
   "name": "python-38"
  },
  "language_info": {
   "codemirror_mode": {
    "name": "ipython",
    "version": 3
   },
   "file_extension": ".py",
   "mimetype": "text/x-python",
   "name": "python",
   "nbconvert_exporter": "python",
   "pygments_lexer": "ipython3",
   "version": "3.8.12"
  }
 },
 "nbformat": 4,
 "nbformat_minor": 5
}
