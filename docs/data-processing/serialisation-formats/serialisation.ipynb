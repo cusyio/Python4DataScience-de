{
 "cells": [
  {
   "cell_type": "markdown",
   "id": "9917ce10",
   "metadata": {},
   "source": [
    "# Datenserialisierung\n",
    "\n",
    "Wenn die Daten flach serialisiert werden sollen, bietet Python zwei Funktionen an:"
   ]
  },
  {
   "cell_type": "markdown",
   "id": "fb85bcd4",
   "metadata": {},
   "source": [
    "## `repr`\n",
    "\n",
    "[repr()](https://docs.python.org/3/library/functions.html#repr) gibt eine druckbare Repräsentation der Eingabe aus, z.B.:"
   ]
  },
  {
   "cell_type": "code",
   "execution_count": 1,
   "id": "c29d4fff",
   "metadata": {},
   "outputs": [
    {
     "name": "stdout",
     "output_type": "stream",
     "text": [
      "{'id': 'veit', 'first_name': 'Veit', 'last_name': 'Schiele'}\n"
     ]
    }
   ],
   "source": [
    "a = { \"id\" : \"veit\", \"first_name\": \"Veit\", \"last_name\": \"Schiele\" }\n",
    "\n",
    "print(repr(a))"
   ]
  },
  {
   "cell_type": "code",
   "execution_count": 2,
   "id": "73d1b74f",
   "metadata": {},
   "outputs": [],
   "source": [
    "with open('data.py', 'w') as f:\n",
    "    f.write(repr(a))"
   ]
  },
  {
   "cell_type": "markdown",
   "id": "7f66aad5",
   "metadata": {},
   "source": [
    "## `ast.literal_eval`\n",
    "\n",
    "Die [ast.literal_eval()](https://docs.python.org/3/library/ast.html#ast.literal_eval)-Funktion parst und analysiert den Python-Datentyp eines Ausdrucks. Unterstützte Datentypen sind [Zeichenketten](https://python-basics-tutorial.readthedocs.io/de/latest/types/strings.html), [Zahlen](https://python-basics-tutorial.readthedocs.io/de/latest/types/numbers.html), [Tupel](https://python-basics-tutorial.readthedocs.io/de/latest/types/tuples.html), [Listen](https://python-basics-tutorial.readthedocs.io/de/latest/types/lists.html), [Dictionaries](https://python-basics-tutorial.readthedocs.io/de/latest/types/dicts.html) und [None](https://python-basics-tutorial.readthedocs.io/de/latest/types/none.html)."
   ]
  },
  {
   "cell_type": "code",
   "execution_count": 3,
   "id": "03647a79",
   "metadata": {},
   "outputs": [],
   "source": [
    "import ast\n",
    "\n",
    "with open('data.py', 'r') as f:\n",
    "    inp = ast.literal_eval(f.read())"
   ]
  }
 ],
 "metadata": {
  "kernelspec": {
   "display_name": "Python 3.8",
   "language": "python",
   "name": "python-38"
  },
  "language_info": {
   "codemirror_mode": {
    "name": "ipython",
    "version": 3
   },
   "file_extension": ".py",
   "mimetype": "text/x-python",
   "name": "python",
   "nbconvert_exporter": "python",
   "pygments_lexer": "ipython3",
   "version": "3.8.12"
  },
  "widgets": {
   "application/vnd.jupyter.widget-state+json": {
    "state": {},
    "version_major": 2,
    "version_minor": 0
   }
  }
 },
 "nbformat": 4,
 "nbformat_minor": 5
}
